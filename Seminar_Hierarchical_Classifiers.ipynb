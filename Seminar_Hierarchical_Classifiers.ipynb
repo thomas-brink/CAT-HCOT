{
 "cells": [
  {
   "cell_type": "code",
   "execution_count": 1,
   "metadata": {
    "execution": {
     "iopub.execute_input": "2021-02-04T09:29:04.804895Z",
     "iopub.status.busy": "2021-02-04T09:29:04.804543Z",
     "iopub.status.idle": "2021-02-04T09:29:13.969887Z",
     "shell.execute_reply": "2021-02-04T09:29:13.969098Z",
     "shell.execute_reply.started": "2021-02-04T09:29:04.804821Z"
    },
    "jupyter": {
     "source_hidden": true
    }
   },
   "outputs": [],
   "source": [
    "import pandas as pd\n",
    "import numpy as np\n",
    "import pyodbc as py\n",
    "\n",
    "from datetime import date, timedelta, datetime\n",
    "import time\n",
    "\n",
    "import matplotlib.pyplot as plt\n",
    "import seaborn as sns\n",
    "%matplotlib inline\n",
    "\n",
    "from sklearn import preprocessing\n",
    "from sklearn.utils import class_weight\n",
    "from sklearn.preprocessing import LabelEncoder\n",
    "from sklearn.preprocessing import OneHotEncoder\n",
    "from sklearn.model_selection import cross_val_predict\n",
    "from sklearn.model_selection import cross_validate, cross_val_score\n",
    "from sklearn.metrics import precision_recall_fscore_support, accuracy_score\n",
    "from sklearn.feature_selection import chi2, SelectKBest, SelectPercentile, mutual_info_classif, RFE, RFECV, SelectFromModel\n",
    "from sklearn.pipeline import Pipeline\n",
    "\n",
    "from sklearn import neighbors\n",
    "from sklearn import svm\n",
    "from sklearn.tree import DecisionTreeClassifier\n",
    "from sklearn.ensemble import RandomForestClassifier\n",
    "from sklearn.ensemble import BaggingClassifier\n",
    "from sklearn.ensemble import AdaBoostClassifier\n",
    "from sklearn.ensemble import GradientBoostingClassifier\n",
    "from sklearn.naive_bayes import GaussianNB\n",
    "from sklearn.naive_bayes import BernoulliNB\n",
    "from sklearn.experimental import enable_hist_gradient_boosting\n",
    "from sklearn.ensemble import HistGradientBoostingClassifier\n",
    "from sklearn import metrics\n",
    "from sklearn.linear_model import LogisticRegression\n",
    "\n",
    "from sklearn.model_selection import TimeSeriesSplit\n",
    "from sklearn.model_selection import KFold\n",
    "from sklearn.model_selection import StratifiedKFold\n",
    "\n",
    "from imblearn.over_sampling import SMOTE\n",
    "\n",
    "import tensorflow as tf\n",
    "from tensorflow.keras.models import Sequential\n",
    "from tensorflow.keras.layers import Dense,Activation,Dropout\n",
    "from tensorflow.keras.wrappers.scikit_learn import KerasClassifier\n",
    "from keras.utils import np_utils\n",
    "\n",
    "import functions\n",
    "import importlib\n",
    "importlib.reload(functions)\n",
    "\n",
    "import warnings\n",
    "warnings.filterwarnings(\"ignore\")\n",
    "\n",
    "pd.set_option('display.max_columns', None)"
   ]
  },
  {
   "cell_type": "markdown",
   "metadata": {},
   "source": [
    "#### Load Data"
   ]
  },
  {
   "cell_type": "code",
   "execution_count": 10,
   "metadata": {
    "execution": {
     "iopub.execute_input": "2021-02-04T09:41:30.799655Z",
     "iopub.status.busy": "2021-02-04T09:41:30.799359Z",
     "iopub.status.idle": "2021-02-04T09:41:30.841905Z",
     "shell.execute_reply": "2021-02-04T09:41:30.837408Z",
     "shell.execute_reply.started": "2021-02-04T09:41:30.799615Z"
    }
   },
   "outputs": [
    {
     "data": {
      "text/plain": [
       "<module 'functions' from '/Users/LV/Documents/GitHub/Seminar-QM-BA/functions.py'>"
      ]
     },
     "execution_count": 10,
     "metadata": {},
     "output_type": "execute_result"
    }
   ],
   "source": [
    "importlib.reload(functions)"
   ]
  },
  {
   "cell_type": "code",
   "execution_count": 2,
   "metadata": {
    "execution": {
     "iopub.execute_input": "2021-02-04T09:29:20.470412Z",
     "iopub.status.busy": "2021-02-04T09:29:20.469605Z",
     "iopub.status.idle": "2021-02-04T09:31:04.706105Z",
     "shell.execute_reply": "2021-02-04T09:31:04.703509Z",
     "shell.execute_reply.started": "2021-02-04T09:29:20.470364Z"
    },
    "jupyter": {
     "source_hidden": true
    }
   },
   "outputs": [],
   "source": [
    "df = pd.read_csv('/Users/LV/Desktop/data_bol_complete.csv', low_memory = True)"
   ]
  },
  {
   "cell_type": "code",
   "execution_count": 3,
   "metadata": {
    "execution": {
     "iopub.execute_input": "2021-02-04T09:31:04.712362Z",
     "iopub.status.busy": "2021-02-04T09:31:04.712035Z",
     "iopub.status.idle": "2021-02-04T09:31:24.863137Z",
     "shell.execute_reply": "2021-02-04T09:31:24.861750Z",
     "shell.execute_reply.started": "2021-02-04T09:31:04.712329Z"
    },
    "jupyter": {
     "source_hidden": true
    }
   },
   "outputs": [],
   "source": [
    "df['orderDate']                   = pd.to_datetime(df['orderDate'])\n",
    "df['cancellationDate']            = pd.to_datetime(df['cancellationDate'])\n",
    "df['promisedDeliveryDate']        = pd.to_datetime(df['promisedDeliveryDate'])\n",
    "df['shipmentDate']                = pd.to_datetime(df['shipmentDate'])\n",
    "df['dateTimeFirstDeliveryMoment'] = pd.to_datetime(df['dateTimeFirstDeliveryMoment'])\n",
    "df['startDateCase']               = pd.to_datetime(df['startDateCase'])\n",
    "df['returnDateTime']              = pd.to_datetime(df['returnDateTime'])\n",
    "df['registrationDateSeller']      = pd.to_datetime(df['registrationDateSeller'])"
   ]
  },
  {
   "cell_type": "code",
   "execution_count": 4,
   "metadata": {
    "execution": {
     "iopub.execute_input": "2021-02-04T09:33:56.757117Z",
     "iopub.status.busy": "2021-02-04T09:33:56.756830Z",
     "iopub.status.idle": "2021-02-04T09:33:56.775874Z",
     "shell.execute_reply": "2021-02-04T09:33:56.773843Z",
     "shell.execute_reply.started": "2021-02-04T09:33:56.757090Z"
    }
   },
   "outputs": [],
   "source": [
    "#Fixed Columns:\n",
    "DATE = ['orderDate']\n",
    "BASIC = ['totalPrice','quantityOrdered','fulfilmentByBol','countryCodeNL','countryOriginNL','countryOriginBE',\n",
    "        'countryOriginDE','productTitleLength','promisedDeliveryDays','partnerSellingDays', 'orderCorona']\n",
    "WEEK = ['orderMonday','orderTuesday','orderWednesday','orderThursday','orderFriday','orderSaturday','orderSunday']\n",
    "MONTH = ['orderJanuary','orderFebruary','orderMarch','orderApril','orderMay','orderJune',\n",
    "         'orderJuly','orderAugust','orderSeptember','orderOctober','orderNovember','orderDecember']\n",
    "YEAR = ['orderYear2020']\n",
    "GROUP = ['groupHealth','groupHome','groupSports','groupComputer','groupPets','groupToys','groupBooks', \n",
    "         'groupBaby', 'groupMusic', 'groupFood','groupOffice','groupFashion','groupOther','groupCar']\n",
    "\n",
    "#Dynamic Columns:\n",
    "TRANSPORTERX = ['transporterPOSTNL/X','transporterDHL/X','transporterDPD/X','transporterBRIEF/X','transporterOTHER/X']\n",
    "KNOWNX = ['caseKnownX','returnKnownX','cancellationKnownX','onTimeDeliveryKnownX','lateDeliveryKnownX']\n",
    "PRODUCTX = ['productOrderCountX','productTotalCountX','productTotalReturnedX','productReturnFractionX']\n",
    "SELLERX = ['sellerDailyOrdersX']\n",
    "HISTORICX = []\n",
    "historic_variable = ['transporterCode','sellerId','productGroup']\n",
    "for x in range(len(historic_variable)):\n",
    "    HISTORICX = HISTORICX + [historic_variable[x]+'HistoricHappyX',historic_variable[x]+'HistoricUnhappyX',historic_variable[x]+'HistoricUnknownX']\n",
    "\n",
    "#Determinants\n",
    "DETERMINANT = ['noReturn', 'noCase', 'noCancellation', 'onTimeDelivery']\n",
    "\n",
    "#Classifications\n",
    "CLASSIFICATION = ['generalMatchClassification','detailedMatchClassification','binaryMatchClassification','determinantClassification']"
   ]
  },
  {
   "cell_type": "code",
   "execution_count": 104,
   "metadata": {
    "execution": {
     "iopub.execute_input": "2021-02-04T14:07:14.016929Z",
     "iopub.status.busy": "2021-02-04T14:07:14.016551Z",
     "iopub.status.idle": "2021-02-04T14:07:21.137269Z",
     "shell.execute_reply": "2021-02-04T14:07:21.133982Z",
     "shell.execute_reply.started": "2021-02-04T14:07:14.016900Z"
    }
   },
   "outputs": [],
   "source": [
    "X_col = BASIC + WEEK + MONTH + YEAR + GROUP + TRANSPORTERX + KNOWNX + PRODUCTX + SELLERX + HISTORICX\n",
    "Y_col = ['generalMatchClassification','detailedMatchClassification','binaryMatchClassification']\n",
    "\n",
    "df_ = df.sample(n = 500000, replace = False, random_state = 1)"
   ]
  },
  {
   "cell_type": "code",
   "execution_count": 169,
   "metadata": {
    "execution": {
     "iopub.execute_input": "2021-02-04T14:58:57.625770Z",
     "iopub.status.busy": "2021-02-04T14:58:57.625503Z",
     "iopub.status.idle": "2021-02-04T14:59:29.801328Z",
     "shell.execute_reply": "2021-02-04T14:59:29.799182Z",
     "shell.execute_reply.started": "2021-02-04T14:58:57.625743Z"
    }
   },
   "outputs": [],
   "source": [
    "X, y = functions.dataX(df_, DATE, X_col, Y_col, historic_variable, 0)"
   ]
  },
  {
   "cell_type": "markdown",
   "metadata": {},
   "source": [
    "#### Hierarchical Classification Models"
   ]
  },
  {
   "cell_type": "code",
   "execution_count": 170,
   "metadata": {
    "execution": {
     "iopub.execute_input": "2021-02-04T14:59:29.805482Z",
     "iopub.status.busy": "2021-02-04T14:59:29.805052Z",
     "iopub.status.idle": "2021-02-04T14:59:41.756984Z",
     "shell.execute_reply": "2021-02-04T14:59:41.756039Z",
     "shell.execute_reply.started": "2021-02-04T14:59:29.805410Z"
    },
    "jupyter": {
     "source_hidden": true
    }
   },
   "outputs": [],
   "source": [
    "def addHierarchyLayer(X,y,classifier):\n",
    "    \n",
    "    clf = classifier.fit(X, y)\n",
    "    prediction = clf.predict(X)\n",
    "    #prediction = clf.predict_proba(X)\n",
    "    \n",
    "    return pd.Series(prediction)\n",
    "\n",
    "layer1 = addHierarchyLayer(X,y['binaryMatchClassification'],LogisticRegression(random_state=0))"
   ]
  },
  {
   "cell_type": "code",
   "execution_count": 171,
   "metadata": {
    "execution": {
     "iopub.execute_input": "2021-02-04T14:59:41.765626Z",
     "iopub.status.busy": "2021-02-04T14:59:41.765149Z",
     "iopub.status.idle": "2021-02-04T14:59:41.776800Z",
     "shell.execute_reply": "2021-02-04T14:59:41.772928Z",
     "shell.execute_reply.started": "2021-02-04T14:59:41.765579Z"
    }
   },
   "outputs": [],
   "source": [
    "# classifier1 = LogisticRegression(random_state=0, class_weight='balanced')\n",
    "# classifier2 = LogisticRegression(random_state=0, class_weight='balanced')\n",
    "# classifier3 = LogisticRegression(random_state=0, class_weight='balanced')\n",
    "\n",
    "classifier1 = DecisionTreeClassifier(random_state=0, class_weight='balanced')\n",
    "classifier2 = DecisionTreeClassifier(random_state=0, class_weight='balanced')\n",
    "classifier3 = DecisionTreeClassifier(random_state=0, class_weight='balanced')"
   ]
  },
  {
   "cell_type": "code",
   "execution_count": 172,
   "metadata": {
    "execution": {
     "iopub.execute_input": "2021-02-04T14:59:41.787616Z",
     "iopub.status.busy": "2021-02-04T14:59:41.787226Z",
     "iopub.status.idle": "2021-02-04T15:00:29.153166Z",
     "shell.execute_reply": "2021-02-04T15:00:29.152198Z",
     "shell.execute_reply.started": "2021-02-04T14:59:41.787576Z"
    }
   },
   "outputs": [],
   "source": [
    "# Train Model\n",
    "\n",
    "X_train_1 = X\n",
    "y_train_1 = y['binaryMatchClassification']\n",
    "predictions = y\n",
    "\n",
    "clf1 = classifier1.fit(X_train_1, y_train_1)\n",
    "#predictions['predLayer1'] = clf1.predict(X_1)\n",
    "\n",
    "#-------------------------------------------------------------------------------------------\n",
    "\n",
    "#index = predictions.loc[(predictions['predLayer1'] == 'KNOWN') & (predictions['generalMatchClassification'] != 'UNKNOWN')].index\n",
    "index_train_2 = predictions.loc[(predictions['binaryMatchClassification'] == 'KNOWN')].index\n",
    "X_train_2 = X.loc[index_train_2]\n",
    "y_train_2 = y['generalMatchClassification'].loc[index_train_2]\n",
    "\n",
    "clf2 = classifier2.fit(X_train_2, y_train_2)\n",
    "#predictions.loc[index, 'predLayer2'] = clf2.predict(X_2)\n",
    "\n",
    "#-------------------------------------------------------------------------------------------\n",
    "\n",
    "#index = predictions.loc[(predictions['predLayer2'] == 'UNHAPPY') & (predictions['generalMatchClassification'] == 'UNHAPPY')].index\n",
    "index_train_3 = predictions.loc[(predictions['generalMatchClassification'] == 'UNHAPPY')].index\n",
    "X_train_3 = X.loc[index_train_3]\n",
    "y_train_3 = y['detailedMatchClassification'].loc[index_train_3]\n",
    "\n",
    "clf3 = classifier3.fit(X_train_3, y_train_3)\n",
    "#predictions.loc[index, 'predLayer3'] = clf3.predict(X_3)"
   ]
  },
  {
   "cell_type": "code",
   "execution_count": 173,
   "metadata": {
    "execution": {
     "iopub.execute_input": "2021-02-04T15:00:29.157633Z",
     "iopub.status.busy": "2021-02-04T15:00:29.157133Z",
     "iopub.status.idle": "2021-02-04T15:00:33.635186Z",
     "shell.execute_reply": "2021-02-04T15:00:33.634435Z",
     "shell.execute_reply.started": "2021-02-04T15:00:29.157598Z"
    }
   },
   "outputs": [],
   "source": [
    "# Test Model\n",
    "\n",
    "X_test_1 = X\n",
    "\n",
    "predictions['predLayer1'] = clf1.predict(X_test_1)\n",
    "\n",
    "#-------------------------------------------------------------------------------------------\n",
    "\n",
    "index_test_2 = predictions.loc[(predictions['predLayer1'] == 'KNOWN')].index\n",
    "X_test_2 = X.loc[index_test_2]\n",
    "\n",
    "predictions.loc[index_test_2, 'predLayer2'] = clf2.predict(X_test_2)\n",
    "\n",
    "#-------------------------------------------------------------------------------------------\n",
    "\n",
    "index_test_3 = predictions.loc[(predictions['predLayer2'] == 'UNHAPPY')].index\n",
    "X_test_3 = X.loc[index_test_3]\n",
    "\n",
    "predictions.loc[index_test_3, 'predLayer3'] = clf3.predict(X_test_3)"
   ]
  },
  {
   "cell_type": "code",
   "execution_count": 174,
   "metadata": {
    "execution": {
     "iopub.execute_input": "2021-02-04T15:00:33.637166Z",
     "iopub.status.busy": "2021-02-04T15:00:33.636632Z",
     "iopub.status.idle": "2021-02-04T15:00:53.178867Z",
     "shell.execute_reply": "2021-02-04T15:00:53.177552Z",
     "shell.execute_reply.started": "2021-02-04T15:00:33.637121Z"
    }
   },
   "outputs": [
    {
     "name": "stdout",
     "output_type": "stream",
     "text": [
      "              precision    recall  f1-score   support\n",
      "\n",
      "       HAPPY       1.00      0.99      0.99    281236\n",
      "     UNHAPPY       0.95      0.98      0.96     60052\n",
      "     UNKNOWN       0.99      1.00      0.99    158712\n",
      "\n",
      "    accuracy                           0.99    500000\n",
      "   macro avg       0.98      0.99      0.98    500000\n",
      "weighted avg       0.99      0.99      0.99    500000\n",
      "\n"
     ]
    }
   ],
   "source": [
    "# Metrics\n",
    "predictions['generalMatchClassificationPrediction'] = predictions['predLayer2'].fillna('UNKNOWN')\n",
    "\n",
    "print(metrics.classification_report(predictions['generalMatchClassification'], predictions['generalMatchClassificationPrediction']))"
   ]
  },
  {
   "cell_type": "code",
   "execution_count": 134,
   "metadata": {
    "execution": {
     "iopub.execute_input": "2021-02-04T14:27:52.128744Z",
     "iopub.status.busy": "2021-02-04T14:27:52.128353Z",
     "iopub.status.idle": "2021-02-04T14:27:52.205010Z",
     "shell.execute_reply": "2021-02-04T14:27:52.195999Z",
     "shell.execute_reply.started": "2021-02-04T14:27:52.128702Z"
    }
   },
   "outputs": [
    {
     "data": {
      "text/plain": [
       "KNOWN MILDLY UNHAPPY     49049\n",
       "KNOWN MEDIUM UNHAPPY     13320\n",
       "KNOWN HEAVILY UNHAPPY     4222\n",
       "Name: predLayer3, dtype: int64"
      ]
     },
     "execution_count": 134,
     "metadata": {},
     "output_type": "execute_result"
    }
   ],
   "source": [
    "predictions['predLayer3'].value_counts()"
   ]
  },
  {
   "cell_type": "code",
   "execution_count": 135,
   "metadata": {
    "execution": {
     "iopub.execute_input": "2021-02-04T14:28:34.553676Z",
     "iopub.status.busy": "2021-02-04T14:28:34.553428Z",
     "iopub.status.idle": "2021-02-04T14:28:34.618891Z",
     "shell.execute_reply": "2021-02-04T14:28:34.617422Z",
     "shell.execute_reply.started": "2021-02-04T14:28:34.553652Z"
    }
   },
   "outputs": [
    {
     "data": {
      "text/plain": [
       "KNOWN HAPPY              281236\n",
       "UNKNOWN                  158712\n",
       "KNOWN MILDLY UNHAPPY      43535\n",
       "KNOWN MEDIUM UNHAPPY      10216\n",
       "KNOWN HEAVILY UNHAPPY      6301\n",
       "Name: detailedMatchClassification, dtype: int64"
      ]
     },
     "execution_count": 135,
     "metadata": {},
     "output_type": "execute_result"
    }
   ],
   "source": [
    "predictions['detailedMatchClassification'].value_counts()"
   ]
  },
  {
   "cell_type": "code",
   "execution_count": 137,
   "metadata": {
    "execution": {
     "iopub.execute_input": "2021-02-04T14:29:15.987980Z",
     "iopub.status.busy": "2021-02-04T14:29:15.987688Z",
     "iopub.status.idle": "2021-02-04T14:29:16.071733Z",
     "shell.execute_reply": "2021-02-04T14:29:16.070411Z",
     "shell.execute_reply.started": "2021-02-04T14:29:15.987950Z"
    }
   },
   "outputs": [
    {
     "data": {
      "text/plain": [
       "HAPPY      281236\n",
       "UNKNOWN    158712\n",
       "UNHAPPY     60052\n",
       "Name: generalMatchClassification, dtype: int64"
      ]
     },
     "execution_count": 137,
     "metadata": {},
     "output_type": "execute_result"
    }
   ],
   "source": [
    "predictions['generalMatchClassification'].value_counts()"
   ]
  }
 ],
 "metadata": {
  "kernelspec": {
   "display_name": "Python 3",
   "language": "python",
   "name": "python3"
  },
  "language_info": {
   "codemirror_mode": {
    "name": "ipython",
    "version": 3
   },
   "file_extension": ".py",
   "mimetype": "text/x-python",
   "name": "python",
   "nbconvert_exporter": "python",
   "pygments_lexer": "ipython3",
   "version": "3.8.5"
  }
 },
 "nbformat": 4,
 "nbformat_minor": 4
}
