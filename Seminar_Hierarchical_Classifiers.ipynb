{
 "cells": [
  {
   "cell_type": "code",
   "execution_count": 245,
   "metadata": {
    "execution": {
     "iopub.execute_input": "2021-02-04T16:20:38.879093Z",
     "iopub.status.busy": "2021-02-04T16:20:38.878616Z",
     "iopub.status.idle": "2021-02-04T16:20:38.915850Z",
     "shell.execute_reply": "2021-02-04T16:20:38.915092Z",
     "shell.execute_reply.started": "2021-02-04T16:20:38.879038Z"
    },
    "jupyter": {
     "source_hidden": true
    }
   },
   "outputs": [],
   "source": [
    "import pandas as pd\n",
    "import numpy as np\n",
    "import pyodbc as py\n",
    "\n",
    "from datetime import date, timedelta, datetime\n",
    "import time\n",
    "\n",
    "import matplotlib.pyplot as plt\n",
    "import seaborn as sns\n",
    "%matplotlib inline\n",
    "\n",
    "from sklearn import preprocessing\n",
    "from sklearn.utils import class_weight\n",
    "from sklearn.preprocessing import LabelEncoder\n",
    "from sklearn.preprocessing import OneHotEncoder\n",
    "from sklearn.model_selection import cross_val_predict\n",
    "from sklearn.model_selection import cross_validate, cross_val_score\n",
    "from sklearn.metrics import precision_recall_fscore_support, accuracy_score\n",
    "from sklearn.feature_selection import chi2, SelectKBest, SelectPercentile, mutual_info_classif, RFE, RFECV, SelectFromModel\n",
    "from sklearn.pipeline import Pipeline\n",
    "from sklearn.model_selection import train_test_split\n",
    "\n",
    "from sklearn import neighbors\n",
    "from sklearn import svm\n",
    "from sklearn.tree import DecisionTreeClassifier\n",
    "from sklearn.ensemble import RandomForestClassifier\n",
    "from sklearn.ensemble import BaggingClassifier\n",
    "from sklearn.ensemble import AdaBoostClassifier\n",
    "from sklearn.ensemble import GradientBoostingClassifier\n",
    "from sklearn.naive_bayes import GaussianNB\n",
    "from sklearn.naive_bayes import BernoulliNB\n",
    "from sklearn.experimental import enable_hist_gradient_boosting\n",
    "from sklearn.ensemble import HistGradientBoostingClassifier\n",
    "from sklearn import metrics\n",
    "from sklearn.linear_model import LogisticRegression\n",
    "\n",
    "from sklearn.model_selection import TimeSeriesSplit\n",
    "from sklearn.model_selection import KFold\n",
    "from sklearn.model_selection import StratifiedKFold\n",
    "\n",
    "from imblearn.over_sampling import SMOTE\n",
    "\n",
    "import tensorflow as tf\n",
    "from tensorflow.keras.models import Sequential\n",
    "from tensorflow.keras.layers import Dense,Activation,Dropout\n",
    "from tensorflow.keras.wrappers.scikit_learn import KerasClassifier\n",
    "from keras.utils import np_utils\n",
    "\n",
    "import functions\n",
    "import importlib\n",
    "importlib.reload(functions)\n",
    "\n",
    "import warnings\n",
    "warnings.filterwarnings(\"ignore\")\n",
    "\n",
    "pd.set_option('display.max_columns', None)"
   ]
  },
  {
   "cell_type": "markdown",
   "metadata": {},
   "source": [
    "#### Load Data"
   ]
  },
  {
   "cell_type": "code",
   "execution_count": 10,
   "metadata": {
    "execution": {
     "iopub.execute_input": "2021-02-04T09:41:30.799655Z",
     "iopub.status.busy": "2021-02-04T09:41:30.799359Z",
     "iopub.status.idle": "2021-02-04T09:41:30.841905Z",
     "shell.execute_reply": "2021-02-04T09:41:30.837408Z",
     "shell.execute_reply.started": "2021-02-04T09:41:30.799615Z"
    }
   },
   "outputs": [
    {
     "data": {
      "text/plain": [
       "<module 'functions' from '/Users/LV/Documents/GitHub/Seminar-QM-BA/functions.py'>"
      ]
     },
     "execution_count": 10,
     "metadata": {},
     "output_type": "execute_result"
    }
   ],
   "source": [
    "importlib.reload(functions)"
   ]
  },
  {
   "cell_type": "code",
   "execution_count": 2,
   "metadata": {
    "execution": {
     "iopub.execute_input": "2021-02-04T09:29:20.470412Z",
     "iopub.status.busy": "2021-02-04T09:29:20.469605Z",
     "iopub.status.idle": "2021-02-04T09:31:04.706105Z",
     "shell.execute_reply": "2021-02-04T09:31:04.703509Z",
     "shell.execute_reply.started": "2021-02-04T09:29:20.470364Z"
    },
    "jupyter": {
     "source_hidden": true
    }
   },
   "outputs": [],
   "source": [
    "df = pd.read_csv('/Users/LV/Desktop/data_bol_complete.csv', low_memory = True)"
   ]
  },
  {
   "cell_type": "code",
   "execution_count": 3,
   "metadata": {
    "execution": {
     "iopub.execute_input": "2021-02-04T09:31:04.712362Z",
     "iopub.status.busy": "2021-02-04T09:31:04.712035Z",
     "iopub.status.idle": "2021-02-04T09:31:24.863137Z",
     "shell.execute_reply": "2021-02-04T09:31:24.861750Z",
     "shell.execute_reply.started": "2021-02-04T09:31:04.712329Z"
    },
    "jupyter": {
     "source_hidden": true
    }
   },
   "outputs": [],
   "source": [
    "df['orderDate']                   = pd.to_datetime(df['orderDate'])\n",
    "df['cancellationDate']            = pd.to_datetime(df['cancellationDate'])\n",
    "df['promisedDeliveryDate']        = pd.to_datetime(df['promisedDeliveryDate'])\n",
    "df['shipmentDate']                = pd.to_datetime(df['shipmentDate'])\n",
    "df['dateTimeFirstDeliveryMoment'] = pd.to_datetime(df['dateTimeFirstDeliveryMoment'])\n",
    "df['startDateCase']               = pd.to_datetime(df['startDateCase'])\n",
    "df['returnDateTime']              = pd.to_datetime(df['returnDateTime'])\n",
    "df['registrationDateSeller']      = pd.to_datetime(df['registrationDateSeller'])"
   ]
  },
  {
   "cell_type": "code",
   "execution_count": null,
   "metadata": {
    "jupyter": {
     "source_hidden": true
    }
   },
   "outputs": [],
   "source": [
    "df['detailedMatchClassification'] = df['detailedMatchClassification'].replace({'KNOWN HAPPY':'HAPPY',\n",
    "                                                                               'KNOWN MILDLY UNHAPPY':'MILDLY UNHAPPY',\n",
    "                                                                               'KNOWN MEDIUM UNHAPPY':'MEDIUM UNHAPPY',\n",
    "                                                                               'KNOWN HEAVILY UNHAPPY':'HEAVILY UNHAPPY'})"
   ]
  },
  {
   "cell_type": "code",
   "execution_count": 4,
   "metadata": {
    "execution": {
     "iopub.execute_input": "2021-02-04T09:33:56.757117Z",
     "iopub.status.busy": "2021-02-04T09:33:56.756830Z",
     "iopub.status.idle": "2021-02-04T09:33:56.775874Z",
     "shell.execute_reply": "2021-02-04T09:33:56.773843Z",
     "shell.execute_reply.started": "2021-02-04T09:33:56.757090Z"
    }
   },
   "outputs": [],
   "source": [
    "#Fixed Columns:\n",
    "DATE = ['orderDate']\n",
    "BASIC = ['totalPrice','quantityOrdered','fulfilmentByBol','countryCodeNL','countryOriginNL','countryOriginBE',\n",
    "        'countryOriginDE','productTitleLength','promisedDeliveryDays','partnerSellingDays', 'orderCorona']\n",
    "WEEK = ['orderMonday','orderTuesday','orderWednesday','orderThursday','orderFriday','orderSaturday','orderSunday']\n",
    "MONTH = ['orderJanuary','orderFebruary','orderMarch','orderApril','orderMay','orderJune',\n",
    "         'orderJuly','orderAugust','orderSeptember','orderOctober','orderNovember','orderDecember']\n",
    "YEAR = ['orderYear2020']\n",
    "GROUP = ['groupHealth','groupHome','groupSports','groupComputer','groupPets','groupToys','groupBooks', \n",
    "         'groupBaby', 'groupMusic', 'groupFood','groupOffice','groupFashion','groupOther','groupCar']\n",
    "\n",
    "#Dynamic Columns:\n",
    "TRANSPORTERX = ['transporterPOSTNL/X','transporterDHL/X','transporterDPD/X','transporterBRIEF/X','transporterOTHER/X']\n",
    "KNOWNX = ['caseKnownX','returnKnownX','cancellationKnownX','onTimeDeliveryKnownX','lateDeliveryKnownX']\n",
    "PRODUCTX = ['productOrderCountX','productTotalCountX','productTotalReturnedX','productReturnFractionX']\n",
    "SELLERX = ['sellerDailyOrdersX']\n",
    "HISTORICX = []\n",
    "historic_variable = ['transporterCode','sellerId','productGroup']\n",
    "for x in range(len(historic_variable)):\n",
    "    HISTORICX = HISTORICX + [historic_variable[x]+'HistoricHappyX',historic_variable[x]+'HistoricUnhappyX',historic_variable[x]+'HistoricUnknownX']\n",
    "\n",
    "#Determinants\n",
    "DETERMINANT = ['noReturn', 'noCase', 'noCancellation', 'onTimeDelivery']\n",
    "\n",
    "#Classifications\n",
    "CLASSIFICATION = ['generalMatchClassification','detailedMatchClassification','binaryMatchClassification','determinantClassification']"
   ]
  },
  {
   "cell_type": "code",
   "execution_count": 329,
   "metadata": {
    "execution": {
     "iopub.execute_input": "2021-02-04T21:07:38.993373Z",
     "iopub.status.busy": "2021-02-04T21:07:38.992911Z",
     "iopub.status.idle": "2021-02-04T21:07:48.040051Z",
     "shell.execute_reply": "2021-02-04T21:07:48.036621Z",
     "shell.execute_reply.started": "2021-02-04T21:07:38.993339Z"
    }
   },
   "outputs": [],
   "source": [
    "X_col = BASIC + WEEK + MONTH + YEAR + GROUP + TRANSPORTERX + KNOWNX + PRODUCTX + SELLERX + HISTORICX\n",
    "Y_col = ['generalMatchClassification','detailedMatchClassification','binaryMatchClassification']\n",
    "\n",
    "df_ = df.sample(n = 1000000, replace = False, random_state = 1)"
   ]
  },
  {
   "cell_type": "code",
   "execution_count": 338,
   "metadata": {
    "execution": {
     "iopub.execute_input": "2021-02-04T21:15:34.194606Z",
     "iopub.status.busy": "2021-02-04T21:15:34.194317Z",
     "iopub.status.idle": "2021-02-04T21:17:10.047791Z",
     "shell.execute_reply": "2021-02-04T21:17:10.046834Z",
     "shell.execute_reply.started": "2021-02-04T21:15:34.194573Z"
    }
   },
   "outputs": [],
   "source": [
    "X, y = functions.dataX(df_, DATE, X_col, Y_col, historic_variable, 5)\n",
    "X_train, X_test, y_train, y_test = train_test_split(X, y, test_size=0.2, random_state=0, shuffle=False)"
   ]
  },
  {
   "cell_type": "markdown",
   "metadata": {},
   "source": [
    "#### Hierarchical Classification Models"
   ]
  },
  {
   "cell_type": "code",
   "execution_count": 339,
   "metadata": {
    "execution": {
     "iopub.execute_input": "2021-02-04T21:17:10.050053Z",
     "iopub.status.busy": "2021-02-04T21:17:10.049779Z",
     "iopub.status.idle": "2021-02-04T21:17:10.058757Z",
     "shell.execute_reply": "2021-02-04T21:17:10.057460Z",
     "shell.execute_reply.started": "2021-02-04T21:17:10.050027Z"
    }
   },
   "outputs": [],
   "source": [
    "# classifier1 = LogisticRegression(random_state=0, class_weight='balanced')\n",
    "# classifier2 = LogisticRegression(random_state=0, class_weight='balanced')\n",
    "# classifier3 = LogisticRegression(random_state=0, class_weight='balanced')\n",
    "\n",
    "classifier1 = RandomForestClassifier(random_state=0, class_weight='balanced', n_estimators = 10)\n",
    "classifier2 = RandomForestClassifier(random_state=0, class_weight='balanced', n_estimators = 10)\n",
    "classifier3 = RandomForestClassifier(random_state=0, class_weight='balanced', n_estimators = 10)"
   ]
  },
  {
   "cell_type": "code",
   "execution_count": 340,
   "metadata": {
    "execution": {
     "iopub.execute_input": "2021-02-04T21:17:10.063492Z",
     "iopub.status.busy": "2021-02-04T21:17:10.063125Z",
     "iopub.status.idle": "2021-02-04T21:18:07.107351Z",
     "shell.execute_reply": "2021-02-04T21:18:07.106465Z",
     "shell.execute_reply.started": "2021-02-04T21:17:10.063446Z"
    }
   },
   "outputs": [],
   "source": [
    "clf1,clf2,clf3 = trainHierarchy(X_train,y_train,classifier1,classifier2,classifier3)"
   ]
  },
  {
   "cell_type": "code",
   "execution_count": 341,
   "metadata": {
    "execution": {
     "iopub.execute_input": "2021-02-04T21:18:07.109908Z",
     "iopub.status.busy": "2021-02-04T21:18:07.109518Z",
     "iopub.status.idle": "2021-02-04T21:18:09.411514Z",
     "shell.execute_reply": "2021-02-04T21:18:09.410647Z",
     "shell.execute_reply.started": "2021-02-04T21:18:07.109852Z"
    }
   },
   "outputs": [],
   "source": [
    "predictions = testHierarchy(X_test,y_test,clf1,clf2,clf3)"
   ]
  },
  {
   "cell_type": "code",
   "execution_count": 342,
   "metadata": {
    "execution": {
     "iopub.execute_input": "2021-02-04T21:18:09.413357Z",
     "iopub.status.busy": "2021-02-04T21:18:09.412841Z",
     "iopub.status.idle": "2021-02-04T21:18:18.719735Z",
     "shell.execute_reply": "2021-02-04T21:18:18.718608Z",
     "shell.execute_reply.started": "2021-02-04T21:18:09.413304Z"
    }
   },
   "outputs": [
    {
     "name": "stdout",
     "output_type": "stream",
     "text": [
      "              precision    recall  f1-score   support\n",
      "\n",
      "       KNOWN       0.98      0.98      0.98    134874\n",
      "     UNKNOWN       0.95      0.96      0.96     65126\n",
      "\n",
      "    accuracy                           0.97    200000\n",
      "   macro avg       0.97      0.97      0.97    200000\n",
      "weighted avg       0.97      0.97      0.97    200000\n",
      "\n"
     ]
    }
   ],
   "source": [
    "print(metrics.classification_report(y_test['binaryMatchClassification'], predictions['binaryPrediction']))"
   ]
  },
  {
   "cell_type": "code",
   "execution_count": 343,
   "metadata": {
    "execution": {
     "iopub.execute_input": "2021-02-04T21:18:18.721977Z",
     "iopub.status.busy": "2021-02-04T21:18:18.721211Z",
     "iopub.status.idle": "2021-02-04T21:18:25.268757Z",
     "shell.execute_reply": "2021-02-04T21:18:25.267521Z",
     "shell.execute_reply.started": "2021-02-04T21:18:18.721916Z"
    }
   },
   "outputs": [
    {
     "name": "stdout",
     "output_type": "stream",
     "text": [
      "              precision    recall  f1-score   support\n",
      "\n",
      "       HAPPY       0.97      1.00      0.98    111157\n",
      "     UNHAPPY       0.90      0.74      0.81     23717\n",
      "     UNKNOWN       0.95      0.96      0.96     65126\n",
      "\n",
      "    accuracy                           0.96    200000\n",
      "   macro avg       0.94      0.90      0.92    200000\n",
      "weighted avg       0.95      0.96      0.95    200000\n",
      "\n"
     ]
    }
   ],
   "source": [
    "print(metrics.classification_report(y_test['generalMatchClassification'], predictions['generalPrediction']))"
   ]
  },
  {
   "cell_type": "code",
   "execution_count": 344,
   "metadata": {
    "execution": {
     "iopub.execute_input": "2021-02-04T21:18:25.270922Z",
     "iopub.status.busy": "2021-02-04T21:18:25.270191Z",
     "iopub.status.idle": "2021-02-04T21:18:31.630482Z",
     "shell.execute_reply": "2021-02-04T21:18:31.629195Z",
     "shell.execute_reply.started": "2021-02-04T21:18:25.270865Z"
    }
   },
   "outputs": [
    {
     "name": "stdout",
     "output_type": "stream",
     "text": [
      "                 precision    recall  f1-score   support\n",
      "\n",
      "          HAPPY       0.97      1.00      0.98    111157\n",
      "HEAVILY UNHAPPY       0.79      0.47      0.59      2026\n",
      " MEDIUM UNHAPPY       0.69      0.49      0.57      3780\n",
      " MILDLY UNHAPPY       0.85      0.75      0.79     17911\n",
      "        UNKNOWN       0.95      0.96      0.96     65126\n",
      "\n",
      "       accuracy                           0.95    200000\n",
      "      macro avg       0.85      0.73      0.78    200000\n",
      "   weighted avg       0.95      0.95      0.95    200000\n",
      "\n"
     ]
    }
   ],
   "source": [
    "print(metrics.classification_report(y_test['detailedMatchClassification'], predictions['detailedPrediction']))"
   ]
  },
  {
   "cell_type": "code",
   "execution_count": 292,
   "metadata": {
    "execution": {
     "iopub.execute_input": "2021-02-04T20:48:51.917507Z",
     "iopub.status.busy": "2021-02-04T20:48:51.917225Z",
     "iopub.status.idle": "2021-02-04T20:48:51.931070Z",
     "shell.execute_reply": "2021-02-04T20:48:51.929524Z",
     "shell.execute_reply.started": "2021-02-04T20:48:51.917474Z"
    }
   },
   "outputs": [],
   "source": [
    "# Train Model\n",
    "def trainHierarchy(X_train,y_train,classifier1,classifier2,classifier3):\n",
    "    \n",
    "    X_train_1 = X_train\n",
    "    y_train_1 = y_train['binaryMatchClassification']\n",
    "\n",
    "    clf1 = classifier1.fit(X_train_1, y_train_1)\n",
    "    #predictions['predLayer1'] = clf1.predict(X_1)\n",
    "\n",
    "    #-------------------------------------------------------------------------------------------\n",
    "\n",
    "    #index = predictions.loc[(predictions['predLayer1'] == 'KNOWN') & (predictions['generalMatchClassification'] != 'UNKNOWN')].index\n",
    "    index_train_2 = y_train.loc[(y_train['binaryMatchClassification'] == 'KNOWN')].index\n",
    "    X_train_2 = X_train.loc[index_train_2]\n",
    "    y_train_2 = y_train['generalMatchClassification'].loc[index_train_2]\n",
    "\n",
    "    clf2 = classifier2.fit(X_train_2, y_train_2)\n",
    "    #predictions.loc[index, 'predLayer2'] = clf2.predict(X_2)\n",
    "\n",
    "    #-------------------------------------------------------------------------------------------\n",
    "\n",
    "    #index = predictions.loc[(predictions['predLayer2'] == 'UNHAPPY') & (predictions['generalMatchClassification'] == 'UNHAPPY')].index\n",
    "    index_train_3 = y_train.loc[(y_train['generalMatchClassification'] == 'UNHAPPY')].index\n",
    "    X_train_3 = X_train.loc[index_train_3]\n",
    "    y_train_3 = y_train['detailedMatchClassification'].loc[index_train_3]\n",
    "\n",
    "    clf3 = classifier3.fit(X_train_3, y_train_3)\n",
    "    #predictions.loc[index, 'predLayer3'] = clf3.predict(X_3)\n",
    "    \n",
    "    return clf1,clf2,clf3"
   ]
  },
  {
   "cell_type": "code",
   "execution_count": 323,
   "metadata": {
    "execution": {
     "iopub.execute_input": "2021-02-04T21:04:55.933471Z",
     "iopub.status.busy": "2021-02-04T21:04:55.932675Z",
     "iopub.status.idle": "2021-02-04T21:04:55.946237Z",
     "shell.execute_reply": "2021-02-04T21:04:55.944820Z",
     "shell.execute_reply.started": "2021-02-04T21:04:55.933432Z"
    }
   },
   "outputs": [],
   "source": [
    "# Test Model\n",
    "def testHierarchy(X_test,y_test,clf1,clf2,clf3):\n",
    "    \n",
    "    predictions = y_test[:]\n",
    "\n",
    "    #-------------------------------------------------------------------------------------------\n",
    "    \n",
    "    X_test_1 = X_test\n",
    "\n",
    "    predictions['predLayer1'] = clf1.predict(X_test_1)\n",
    "\n",
    "    #-------------------------------------------------------------------------------------------\n",
    "\n",
    "    index_test_2 = predictions.loc[(predictions['predLayer1'] == 'KNOWN')].index\n",
    "    X_test_2 = X_test.loc[index_test_2]\n",
    "\n",
    "    predictions.loc[index_test_2, 'predLayer2'] = clf2.predict(X_test_2)\n",
    "\n",
    "    #-------------------------------------------------------------------------------------------\n",
    "\n",
    "    index_test_3 = predictions.loc[(predictions['predLayer2'] == 'UNHAPPY')].index\n",
    "    X_test_3 = X_test.loc[index_test_3]\n",
    "\n",
    "    predictions.loc[index_test_3, 'predLayer3'] = clf3.predict(X_test_3)\n",
    "    \n",
    "    #-------------------------------------------------------------------------------------------\n",
    "    \n",
    "    happyLabelIndex = predictions.loc[predictions['predLayer2'] == 'HAPPY'].index\n",
    "    unknownLabelIndex = predictions.loc[predictions['predLayer1'] == 'UNKNOWN'].index\n",
    "    \n",
    "    predictions['binaryPrediction'] = predictions['predLayer1']\n",
    "    predictions['generalPrediction'] = predictions['predLayer2'].fillna('UNKNOWN')\n",
    "    predictions['detailedPrediction'] = predictions['predLayer3']\n",
    "    predictions.loc[happyLabelIndex, 'detailedPrediction'] = 'HAPPY'\n",
    "    predictions.loc[unknownLabelIndex, 'detailedPrediction'] = 'UNKNOWN'\n",
    "    \n",
    "    return predictions[['binaryPrediction','generalPrediction','detailedPrediction']]"
   ]
  }
 ],
 "metadata": {
  "kernelspec": {
   "display_name": "Python 3",
   "language": "python",
   "name": "python3"
  },
  "language_info": {
   "codemirror_mode": {
    "name": "ipython",
    "version": 3
   },
   "file_extension": ".py",
   "mimetype": "text/x-python",
   "name": "python",
   "nbconvert_exporter": "python",
   "pygments_lexer": "ipython3",
   "version": "3.8.5"
  }
 },
 "nbformat": 4,
 "nbformat_minor": 4
}
