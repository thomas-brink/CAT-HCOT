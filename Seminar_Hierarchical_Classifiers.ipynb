{
 "cells": [
  {
   "cell_type": "code",
   "execution_count": 102,
   "metadata": {
    "execution": {
     "iopub.execute_input": "2021-02-16T15:45:15.675949Z",
     "iopub.status.busy": "2021-02-16T15:45:15.675682Z",
     "iopub.status.idle": "2021-02-16T15:45:15.720618Z",
     "shell.execute_reply": "2021-02-16T15:45:15.715578Z",
     "shell.execute_reply.started": "2021-02-16T15:45:15.675923Z"
    },
    "jupyter": {
     "source_hidden": true
    }
   },
   "outputs": [],
   "source": [
    "import pandas as pd\n",
    "import numpy as np\n",
    "import pyodbc as py\n",
    "\n",
    "from datetime import date, timedelta, datetime\n",
    "import time\n",
    "\n",
    "import matplotlib.pyplot as plt\n",
    "import seaborn as sns\n",
    "%matplotlib inline\n",
    "\n",
    "from sklearn import preprocessing\n",
    "from sklearn.utils import class_weight\n",
    "from sklearn.preprocessing import LabelEncoder\n",
    "from sklearn.preprocessing import OneHotEncoder\n",
    "from sklearn.model_selection import cross_val_predict\n",
    "from sklearn.model_selection import cross_validate, cross_val_score\n",
    "from sklearn.metrics import precision_recall_fscore_support, accuracy_score\n",
    "from sklearn.feature_selection import chi2, SelectKBest, SelectPercentile, mutual_info_classif, RFE, RFECV, SelectFromModel\n",
    "from sklearn.pipeline import Pipeline\n",
    "from sklearn.model_selection import train_test_split\n",
    "\n",
    "from sklearn import neighbors\n",
    "from sklearn import svm\n",
    "from sklearn.tree import DecisionTreeClassifier\n",
    "from sklearn.ensemble import RandomForestClassifier\n",
    "from sklearn.ensemble import BaggingClassifier\n",
    "from sklearn.ensemble import AdaBoostClassifier\n",
    "from sklearn.ensemble import GradientBoostingClassifier\n",
    "from sklearn.naive_bayes import GaussianNB\n",
    "from sklearn.naive_bayes import BernoulliNB\n",
    "from sklearn.experimental import enable_hist_gradient_boosting\n",
    "from sklearn.ensemble import HistGradientBoostingClassifier\n",
    "from sklearn import metrics\n",
    "from sklearn.linear_model import LogisticRegression\n",
    "\n",
    "from sklearn.model_selection import TimeSeriesSplit\n",
    "from sklearn.model_selection import KFold\n",
    "from sklearn.model_selection import StratifiedKFold\n",
    "\n",
    "from imblearn.over_sampling import SMOTE\n",
    "\n",
    "from hyperopt import fmin, tpe, hp, STATUS_OK, Trials\n",
    "from hyperopt.pyll.base import scope\n",
    "from time import time\n",
    "\n",
    "import tensorflow as tf\n",
    "from tensorflow.keras.models import Sequential\n",
    "from tensorflow.keras.layers import Dense,Activation,Dropout\n",
    "from tensorflow.keras.wrappers.scikit_learn import KerasClassifier\n",
    "from keras.utils import np_utils\n",
    "\n",
    "import functions\n",
    "import importlib\n",
    "importlib.reload(functions)\n",
    "\n",
    "import warnings\n",
    "warnings.filterwarnings(\"ignore\")\n",
    "\n",
    "pd.set_option('display.max_columns', None)"
   ]
  },
  {
   "cell_type": "markdown",
   "metadata": {},
   "source": [
    "#### Load Data"
   ]
  },
  {
   "cell_type": "code",
   "execution_count": 160,
   "metadata": {
    "execution": {
     "iopub.execute_input": "2021-02-16T16:17:45.523864Z",
     "iopub.status.busy": "2021-02-16T16:17:45.523589Z",
     "iopub.status.idle": "2021-02-16T16:17:45.542528Z",
     "shell.execute_reply": "2021-02-16T16:17:45.541188Z",
     "shell.execute_reply.started": "2021-02-16T16:17:45.523838Z"
    }
   },
   "outputs": [
    {
     "data": {
      "text/plain": [
       "<module 'functions' from '/Users/LV/Documents/GitHub/Seminar-QM-BA/functions.py'>"
      ]
     },
     "execution_count": 160,
     "metadata": {},
     "output_type": "execute_result"
    }
   ],
   "source": [
    "importlib.reload(functions)"
   ]
  },
  {
   "cell_type": "code",
   "execution_count": 4,
   "metadata": {
    "execution": {
     "iopub.execute_input": "2021-02-16T12:20:15.669226Z",
     "iopub.status.busy": "2021-02-16T12:20:15.668701Z",
     "iopub.status.idle": "2021-02-16T12:21:42.224723Z",
     "shell.execute_reply": "2021-02-16T12:21:42.222295Z",
     "shell.execute_reply.started": "2021-02-16T12:20:15.669179Z"
    },
    "jupyter": {
     "source_hidden": true
    }
   },
   "outputs": [],
   "source": [
    "df = pd.read_csv('/Users/LV/Desktop/data_bol_complete.csv', low_memory = True)"
   ]
  },
  {
   "cell_type": "code",
   "execution_count": 5,
   "metadata": {
    "execution": {
     "iopub.execute_input": "2021-02-16T12:21:42.229973Z",
     "iopub.status.busy": "2021-02-16T12:21:42.229639Z",
     "iopub.status.idle": "2021-02-16T12:21:58.038965Z",
     "shell.execute_reply": "2021-02-16T12:21:58.038081Z",
     "shell.execute_reply.started": "2021-02-16T12:21:42.229939Z"
    },
    "jupyter": {
     "source_hidden": true
    }
   },
   "outputs": [],
   "source": [
    "df['orderDate']                   = pd.to_datetime(df['orderDate'])\n",
    "df['cancellationDate']            = pd.to_datetime(df['cancellationDate'])\n",
    "df['promisedDeliveryDate']        = pd.to_datetime(df['promisedDeliveryDate'])\n",
    "df['shipmentDate']                = pd.to_datetime(df['shipmentDate'])\n",
    "df['dateTimeFirstDeliveryMoment'] = pd.to_datetime(df['dateTimeFirstDeliveryMoment'])\n",
    "df['startDateCase']               = pd.to_datetime(df['startDateCase'])\n",
    "df['returnDateTime']              = pd.to_datetime(df['returnDateTime'])\n",
    "df['registrationDateSeller']      = pd.to_datetime(df['registrationDateSeller'])"
   ]
  },
  {
   "cell_type": "code",
   "execution_count": 6,
   "metadata": {
    "execution": {
     "iopub.execute_input": "2021-02-16T12:21:58.043935Z",
     "iopub.status.busy": "2021-02-16T12:21:58.043671Z",
     "iopub.status.idle": "2021-02-16T12:21:58.056884Z",
     "shell.execute_reply": "2021-02-16T12:21:58.054935Z",
     "shell.execute_reply.started": "2021-02-16T12:21:58.043910Z"
    }
   },
   "outputs": [],
   "source": [
    "#Fixed Columns:\n",
    "DATE = ['orderDate']\n",
    "BASIC = ['totalPrice','quantityOrdered','fulfilmentByBol','countryCodeNL','countryOriginNL','countryOriginBE',\n",
    "        'countryOriginDE','productTitleLength','promisedDeliveryDays','partnerSellingDays', 'orderCorona']\n",
    "WEEK = ['orderMonday','orderTuesday','orderWednesday','orderThursday','orderFriday','orderSaturday','orderSunday']\n",
    "MONTH = ['orderJanuary','orderFebruary','orderMarch','orderApril','orderMay','orderJune',\n",
    "         'orderJuly','orderAugust','orderSeptember','orderOctober','orderNovember','orderDecember']\n",
    "YEAR = ['orderYear2020']\n",
    "GROUP = ['groupHealth','groupHome','groupSports','groupComputer','groupPets','groupToys','groupBooks', \n",
    "         'groupBaby', 'groupMusic', 'groupFood','groupOffice','groupFashion','groupOther','groupCar']\n",
    "\n",
    "#Dynamic Columns:\n",
    "TRANSPORTERX = ['transporterPOSTNL/X','transporterDHL/X','transporterDPD/X','transporterBRIEF/X','transporterOTHER/X']\n",
    "KNOWNX = ['caseKnownX','returnKnownX','cancellationKnownX','onTimeDeliveryKnownX','lateDeliveryKnownX']\n",
    "PRODUCTX = ['productOrderCountX','productTotalCountX','productTotalReturnedX','productReturnFractionX']\n",
    "SELLERX = ['sellerDailyOrdersX']\n",
    "HISTORICX = []\n",
    "historic_variable = ['transporterCode','sellerId','productGroup']\n",
    "for x in range(len(historic_variable)):\n",
    "    HISTORICX = HISTORICX + [historic_variable[x]+'HistoricHappyX',historic_variable[x]+'HistoricUnhappyX',historic_variable[x]+'HistoricUnknownX']\n",
    "\n",
    "#Determinants:\n",
    "DETERMINANT = ['noReturn', 'noCase', 'noCancellation', 'onTimeDelivery']\n",
    "\n",
    "#Classifications\n",
    "CLASSIFICATION = ['generalMatchClassification','detailedMatchClassification','binaryMatchClassification','determinantClassification']"
   ]
  },
  {
   "cell_type": "code",
   "execution_count": 7,
   "metadata": {
    "execution": {
     "iopub.execute_input": "2021-02-16T12:21:58.059993Z",
     "iopub.status.busy": "2021-02-16T12:21:58.059524Z",
     "iopub.status.idle": "2021-02-16T12:21:58.068709Z",
     "shell.execute_reply": "2021-02-16T12:21:58.067589Z",
     "shell.execute_reply.started": "2021-02-16T12:21:58.059945Z"
    }
   },
   "outputs": [],
   "source": [
    "X_col = BASIC + WEEK + MONTH + YEAR + GROUP + TRANSPORTERX + KNOWNX + PRODUCTX + SELLERX + HISTORICX\n",
    "Y_col = ['detailedMatchClassification']"
   ]
  },
  {
   "cell_type": "markdown",
   "metadata": {},
   "source": [
    "#### Sample data"
   ]
  },
  {
   "cell_type": "code",
   "execution_count": 165,
   "metadata": {
    "execution": {
     "iopub.execute_input": "2021-02-16T17:33:18.982542Z",
     "iopub.status.busy": "2021-02-16T17:33:18.980959Z",
     "iopub.status.idle": "2021-02-16T17:33:26.529257Z",
     "shell.execute_reply": "2021-02-16T17:33:26.526122Z",
     "shell.execute_reply.started": "2021-02-16T17:33:18.982447Z"
    }
   },
   "outputs": [],
   "source": [
    "df_ = df.sample(n = 500000, replace = False, random_state = 1)"
   ]
  },
  {
   "cell_type": "markdown",
   "metadata": {},
   "source": [
    "### Hierarchical Classification Models"
   ]
  },
  {
   "cell_type": "code",
   "execution_count": 8,
   "metadata": {
    "execution": {
     "iopub.execute_input": "2021-02-14T13:54:54.032061Z",
     "iopub.status.busy": "2021-02-14T13:54:54.029871Z",
     "iopub.status.idle": "2021-02-14T13:54:54.062616Z",
     "shell.execute_reply": "2021-02-14T13:54:54.050111Z",
     "shell.execute_reply.started": "2021-02-14T13:54:54.031976Z"
    }
   },
   "outputs": [],
   "source": [
    "# classifier = LogisticRegression(random_state=0, class_weight='balanced')\n",
    "# classifier = RandomForestClassifier(random_state=0, class_weight='balanced', n_estimators = 10)\n",
    "# classifier = svm.LinearSVC(C=1, penalty=\"l1\", dual=False, class_weight = 'balanced')\n",
    "# classifier = HistGradientBoostingClassifier(random_state=0)\n",
    "# classifier = DecisionTreeClassifier(random_state=0, max_depth=10, class_weight='balanced')\n",
    "# classifier = KerasClassifier(build_fn = functions.neuralNetwork,epochs = 10,verbose = 0)"
   ]
  },
  {
   "cell_type": "code",
   "execution_count": 85,
   "metadata": {
    "execution": {
     "iopub.execute_input": "2021-02-16T13:43:22.491300Z",
     "iopub.status.busy": "2021-02-16T13:43:22.490409Z",
     "iopub.status.idle": "2021-02-16T13:43:22.526785Z",
     "shell.execute_reply": "2021-02-16T13:43:22.525350Z",
     "shell.execute_reply.started": "2021-02-16T13:43:22.491231Z"
    }
   },
   "outputs": [],
   "source": [
    "ch = ClassHierarchy('ORDERS')\n",
    "ch.add_node(['UNKNOWN','KNOWN'], 'ORDERS')\n",
    "ch.add_node(['HAPPY','UNHAPPY'], 'KNOWN')\n",
    "ch.add_node(['MILDLY UNHAPPY','MEDIUM UNHAPPY','HEAVILY UNHAPPY'], 'UNHAPPY')\n",
    "\n",
    "HC = HierarchicalClassifier(ch)\n",
    "# HC.fit_classifiers({'ORDERS'  : DecisionTreeClassifier(random_state=0, class_weight='balanced', max_depth = 10),\n",
    "#                     'KNOWN'   : DecisionTreeClassifier(random_state=0, class_weight='balanced', max_depth = 10),\n",
    "#                     'UNHAPPY' : KerasClassifier(build_fn = functions.neuralNetwork,epochs = 10,verbose = 0)})\n",
    "HC.fit_classifiers({'ORDERS'  : DecisionTreeClassifier(random_state=0, class_weight='balanced', max_depth = 9),\n",
    "                        'KNOWN'   : DecisionTreeClassifier(random_state=0, class_weight='balanced', max_depth = 6),\n",
    "                        'UNHAPPY' : RandomForestClassifier(random_state=0, class_weight='balanced', n_estimators = 23)})"
   ]
  },
  {
   "cell_type": "code",
   "execution_count": 200,
   "metadata": {
    "execution": {
     "iopub.execute_input": "2021-02-10T15:00:55.168891Z",
     "iopub.status.busy": "2021-02-10T15:00:55.168394Z",
     "iopub.status.idle": "2021-02-10T15:00:55.184009Z",
     "shell.execute_reply": "2021-02-10T15:00:55.182581Z",
     "shell.execute_reply.started": "2021-02-10T15:00:55.168852Z"
    },
    "jupyter": {
     "source_hidden": true
    }
   },
   "outputs": [],
   "source": [
    "ch = ClassHierarchy('ORDERS')\n",
    "ch.add_node(['OTHER','UNHAPPY'], 'ORDERS')\n",
    "ch.add_node(['HAPPY','UNKNOWN'], 'OTHER')\n",
    "ch.add_node(['MILDLY UNHAPPY','MEDIUM UNHAPPY','HEAVILY UNHAPPY'], 'UNHAPPY')\n",
    "\n",
    "HC = HierarchicalClassifier(ch)\n",
    "HC.fit_classifiers({'ORDERS'  : DecisionTreeClassifier(random_state=0, class_weight='balanced', max_depth = 10),\n",
    "                    'OTHER'   : DecisionTreeClassifier(random_state=0, class_weight='balanced', max_depth = 10),\n",
    "                    'UNHAPPY' : DecisionTreeClassifier(random_state=0, class_weight='balanced', max_depth = 10)})"
   ]
  },
  {
   "cell_type": "markdown",
   "metadata": {},
   "source": [
    "#### Single fit single point in time"
   ]
  },
  {
   "cell_type": "code",
   "execution_count": 14,
   "metadata": {
    "execution": {
     "iopub.execute_input": "2021-02-16T12:23:42.627041Z",
     "iopub.status.busy": "2021-02-16T12:23:42.626786Z",
     "iopub.status.idle": "2021-02-16T12:23:49.098495Z",
     "shell.execute_reply": "2021-02-16T12:23:49.097728Z",
     "shell.execute_reply.started": "2021-02-16T12:23:42.627016Z"
    }
   },
   "outputs": [],
   "source": [
    "X, y = functions.dataX(df_, DATE, X_col, Y_col, historic_variable, 0)\n",
    "index = range(0, X.shape[0])\n",
    "X_train, X_test, y_train, y_test, ix_train, ix_test = train_test_split(X, y, index, test_size=0.2, random_state=0, shuffle=False)"
   ]
  },
  {
   "cell_type": "code",
   "execution_count": 86,
   "metadata": {
    "execution": {
     "iopub.execute_input": "2021-02-16T13:48:32.737309Z",
     "iopub.status.busy": "2021-02-16T13:48:32.735139Z",
     "iopub.status.idle": "2021-02-16T13:49:11.342288Z",
     "shell.execute_reply": "2021-02-16T13:49:11.339050Z",
     "shell.execute_reply.started": "2021-02-16T13:48:32.737225Z"
    }
   },
   "outputs": [],
   "source": [
    "HC = HC.fit(X_train,y_train)\n",
    "pred = HC.predict(X_test)"
   ]
  },
  {
   "cell_type": "code",
   "execution_count": 87,
   "metadata": {
    "execution": {
     "iopub.execute_input": "2021-02-16T13:49:11.373208Z",
     "iopub.status.busy": "2021-02-16T13:49:11.368727Z",
     "iopub.status.idle": "2021-02-16T13:49:12.143691Z",
     "shell.execute_reply": "2021-02-16T13:49:12.138504Z",
     "shell.execute_reply.started": "2021-02-16T13:49:11.372136Z"
    }
   },
   "outputs": [
    {
     "data": {
      "text/plain": [
       "0.8422426154287354"
      ]
     },
     "execution_count": 87,
     "metadata": {},
     "output_type": "execute_result"
    }
   ],
   "source": [
    "f1_score_ancestors(ch, y_test['detailedMatchClassification'], pred)"
   ]
  },
  {
   "cell_type": "code",
   "execution_count": 92,
   "metadata": {
    "collapsed": true,
    "execution": {
     "iopub.execute_input": "2021-02-16T14:25:44.042876Z",
     "iopub.status.busy": "2021-02-16T14:25:44.039738Z",
     "iopub.status.idle": "2021-02-16T14:25:45.451403Z",
     "shell.execute_reply": "2021-02-16T14:25:45.367338Z",
     "shell.execute_reply.started": "2021-02-16T14:25:44.042797Z"
    },
    "jupyter": {
     "outputs_hidden": true
    }
   },
   "outputs": [
    {
     "name": "stdout",
     "output_type": "stream",
     "text": [
      "Percentage labelled\t: 100.0 %\n",
      "Percentage leaf node\t: 100.0 %\n",
      "Accuracy leaf node\t: 82.8 %\n"
     ]
    },
    {
     "ename": "TypeError",
     "evalue": "type numpy.ndarray doesn't define __round__ method",
     "output_type": "error",
     "traceback": [
      "\u001b[0;31m---------------------------------------------------------------------------\u001b[0m",
      "\u001b[0;31mTypeError\u001b[0m                                 Traceback (most recent call last)",
      "\u001b[0;32m<ipython-input-92-3b567580738e>\u001b[0m in \u001b[0;36m<module>\u001b[0;34m\u001b[0m\n\u001b[0;32m----> 1\u001b[0;31m \u001b[0mday_block_scores\u001b[0m\u001b[0;34m(\u001b[0m\u001b[0mHC\u001b[0m\u001b[0;34m,\u001b[0m \u001b[0my_test\u001b[0m\u001b[0;34m[\u001b[0m\u001b[0;34m'detailedMatchClassification'\u001b[0m\u001b[0;34m]\u001b[0m\u001b[0;34m,\u001b[0m \u001b[0mpred\u001b[0m\u001b[0;34m,\u001b[0m \u001b[0mprint_output\u001b[0m \u001b[0;34m=\u001b[0m \u001b[0;32mTrue\u001b[0m\u001b[0;34m)\u001b[0m\u001b[0;34m\u001b[0m\u001b[0;34m\u001b[0m\u001b[0m\n\u001b[0m",
      "\u001b[0;32m<ipython-input-10-7c5baea223cc>\u001b[0m in \u001b[0;36mday_block_scores\u001b[0;34m(classifier, y_true, y_pred, print_output)\u001b[0m\n\u001b[1;32m     74\u001b[0m         \u001b[0mprint\u001b[0m\u001b[0;34m(\u001b[0m\u001b[0;34m'Percentage leaf node\\t:'\u001b[0m \u001b[0;34m,\u001b[0m\u001b[0mround\u001b[0m\u001b[0;34m(\u001b[0m\u001b[0mfraction_leaf\u001b[0m\u001b[0;34m*\u001b[0m\u001b[0;36m100\u001b[0m\u001b[0;34m,\u001b[0m\u001b[0;36m2\u001b[0m\u001b[0;34m)\u001b[0m \u001b[0;34m,\u001b[0m\u001b[0;34m'%'\u001b[0m\u001b[0;34m)\u001b[0m\u001b[0;34m\u001b[0m\u001b[0;34m\u001b[0m\u001b[0m\n\u001b[1;32m     75\u001b[0m         \u001b[0mprint\u001b[0m\u001b[0;34m(\u001b[0m\u001b[0;34m'Accuracy leaf node\\t:'\u001b[0m   \u001b[0;34m,\u001b[0m\u001b[0mround\u001b[0m\u001b[0;34m(\u001b[0m\u001b[0maccuracy_leaf\u001b[0m\u001b[0;34m*\u001b[0m\u001b[0;36m100\u001b[0m\u001b[0;34m,\u001b[0m\u001b[0;36m2\u001b[0m\u001b[0;34m)\u001b[0m \u001b[0;34m,\u001b[0m\u001b[0;34m'%'\u001b[0m\u001b[0;34m)\u001b[0m\u001b[0;34m\u001b[0m\u001b[0;34m\u001b[0m\u001b[0m\n\u001b[0;32m---> 76\u001b[0;31m         \u001b[0mprint\u001b[0m\u001b[0;34m(\u001b[0m\u001b[0;34m'Precision leaf node\\t:'\u001b[0m  \u001b[0;34m,\u001b[0m\u001b[0mround\u001b[0m\u001b[0;34m(\u001b[0m\u001b[0mprecision_leaf\u001b[0m\u001b[0;34m*\u001b[0m\u001b[0;36m100\u001b[0m\u001b[0;34m,\u001b[0m\u001b[0;36m2\u001b[0m\u001b[0;34m)\u001b[0m\u001b[0;34m,\u001b[0m\u001b[0;34m'%'\u001b[0m\u001b[0;34m)\u001b[0m\u001b[0;34m\u001b[0m\u001b[0;34m\u001b[0m\u001b[0m\n\u001b[0m\u001b[1;32m     77\u001b[0m         \u001b[0mprint\u001b[0m\u001b[0;34m(\u001b[0m\u001b[0;34m'Recall leaf node\\t:'\u001b[0m     \u001b[0;34m,\u001b[0m\u001b[0mround\u001b[0m\u001b[0;34m(\u001b[0m\u001b[0mrecall_leaf\u001b[0m\u001b[0;34m*\u001b[0m\u001b[0;36m100\u001b[0m\u001b[0;34m,\u001b[0m\u001b[0;36m2\u001b[0m\u001b[0;34m)\u001b[0m   \u001b[0;34m,\u001b[0m\u001b[0;34m'%'\u001b[0m\u001b[0;34m)\u001b[0m\u001b[0;34m\u001b[0m\u001b[0;34m\u001b[0m\u001b[0m\n\u001b[1;32m     78\u001b[0m \u001b[0;34m\u001b[0m\u001b[0m\n",
      "\u001b[0;31mTypeError\u001b[0m: type numpy.ndarray doesn't define __round__ method"
     ]
    }
   ],
   "source": [
    "day_block_scores(HC, y_test['detailedMatchClassification'], pred, print_output = True)"
   ]
  },
  {
   "cell_type": "code",
   "execution_count": null,
   "metadata": {
    "jupyter": {
     "source_hidden": true
    }
   },
   "outputs": [],
   "source": [
    "# class_report(y_test['detailedMatchClassification'], pred)\n",
    "# global_scores(y_test['detailedMatchClassification'], pred)\n",
    "# local_scores(y_test['detailedMatchClassification'], pred)\n",
    "# precision_score_ancestors(ch, y_test['detailedMatchClassification'], pred)\n",
    "# recall_score_ancestors(ch, y_test['detailedMatchClassification'], pred)\n",
    "# f1_score_ancestors(ch, y_test['detailedMatchClassification'], pred)"
   ]
  },
  {
   "cell_type": "markdown",
   "metadata": {},
   "source": [
    "#### Hyper-parameter tuning"
   ]
  },
  {
   "cell_type": "code",
   "execution_count": 199,
   "metadata": {
    "execution": {
     "iopub.execute_input": "2021-02-17T09:34:36.098191Z",
     "iopub.status.busy": "2021-02-17T09:34:36.097940Z",
     "iopub.status.idle": "2021-02-17T09:34:36.106643Z",
     "shell.execute_reply": "2021-02-17T09:34:36.103376Z",
     "shell.execute_reply.started": "2021-02-17T09:34:36.098165Z"
    }
   },
   "outputs": [],
   "source": [
    "def neuralNetwork(nodes, layers):\n",
    "    \n",
    "    model = Sequential()\n",
    "\n",
    "    model.add(Dense(units = nodes, activation = 'relu'))\n",
    "\n",
    "    for i in range(1,layers+1):\n",
    "    \tmodel.add(Dense(units = nodes, activation = 'relu'))\n",
    "    \n",
    "    model.add(Dense(units = 3, activation = 'softmax')) #units should equal number of labels\n",
    "\n",
    "    model.compile(optimizer = 'adam', \n",
    "                  loss = 'categorical_crossentropy', \n",
    "                  metrics = ['accuracy'])\n",
    "\n",
    "    return model"
   ]
  },
  {
   "cell_type": "code",
   "execution_count": 200,
   "metadata": {
    "execution": {
     "iopub.execute_input": "2021-02-17T09:34:38.775623Z",
     "iopub.status.busy": "2021-02-17T09:34:38.775362Z",
     "iopub.status.idle": "2021-02-17T09:34:38.784210Z",
     "shell.execute_reply": "2021-02-17T09:34:38.782161Z",
     "shell.execute_reply.started": "2021-02-17T09:34:38.775597Z"
    }
   },
   "outputs": [],
   "source": [
    "DT_hyper = {'DT_max_depth'   : scope.int(hp.quniform('max_depth_dt', 5, 15, 1)),\n",
    "            'DT_criterion'   : hp.choice('criterion' ,['gini','entropy'])}\n",
    "\n",
    "RF_hyper = {'RF_max_depth'   : scope.int(hp.quniform('max_depth_rf', 5, 15, 1)),\n",
    "            'RF_n_estimators': scope.int(hp.quniform('n_estimators', 10, 50, 5))}\n",
    "\n",
    "NN_hyper = {'NN_layers' : scope.int(hp.quniform('layers', 1, 2, 1)),\n",
    "            'NN_nodes'  : scope.int(hp.quniform('nodes', 5, 50, 5)),\n",
    "            'NN_'}\n",
    "\n",
    "param_hyperopt = {**DT_hyper, **RF_hyper, **NN_hyper}"
   ]
  },
  {
   "cell_type": "code",
   "execution_count": 204,
   "metadata": {
    "execution": {
     "iopub.execute_input": "2021-02-17T09:35:03.865917Z",
     "iopub.status.busy": "2021-02-17T09:35:03.865666Z",
     "iopub.status.idle": "2021-02-17T09:35:03.876313Z",
     "shell.execute_reply": "2021-02-17T09:35:03.875145Z",
     "shell.execute_reply.started": "2021-02-17T09:35:03.865891Z"
    }
   },
   "outputs": [],
   "source": [
    "def objective_function(params):\n",
    "    \n",
    "    Tree = ClassHierarchy('ORDERS')\n",
    "    Tree.add_node(['UNKNOWN','KNOWN'], 'ORDERS')\n",
    "    Tree.add_node(['HAPPY','UNHAPPY'], 'KNOWN')\n",
    "    Tree.add_node(['MILDLY UNHAPPY','MEDIUM UNHAPPY','HEAVILY UNHAPPY'], 'UNHAPPY')\n",
    "    \n",
    "    HC = HierarchicalClassifier(Tree)\n",
    "    HC.fit_classifiers({'ORDERS'  : RandomForestClassifier(random_state=0, class_weight='balanced', n_estimators = params['RF_n_estimators'], max_depth = params['RF_max_depth']),\n",
    "                        'KNOWN'   : DecisionTreeClassifier(random_state=0, class_weight='balanced', max_depth = params['DT_max_depth'], criterion = params['DT_criterion']),\n",
    "                        'UNHAPPY' : KerasClassifier(neuralNetwork, nodes = params['NN_nodes'], layers = params['NN_layers'], epochs = 10, verbose = 0)})\n",
    "    \n",
    "    HC = HC.fit(X_train,y_train)\n",
    "    pred = HC.predict(X_test)\n",
    "    \n",
    "    score = f1_score_ancestors(Tree, y_test['detailedMatchClassification'], pred, beta=1)\n",
    "    #print(metrics.accuracy_score(y_test, pred))\n",
    "    #cross validation score to be implemented\n",
    "    \n",
    "    return {'loss': -score, 'status': STATUS_OK}"
   ]
  },
  {
   "cell_type": "code",
   "execution_count": 205,
   "metadata": {
    "execution": {
     "iopub.execute_input": "2021-02-17T09:35:04.438526Z",
     "iopub.status.busy": "2021-02-17T09:35:04.438255Z",
     "iopub.status.idle": "2021-02-17T09:35:04.446749Z",
     "shell.execute_reply": "2021-02-17T09:35:04.445392Z",
     "shell.execute_reply.started": "2021-02-17T09:35:04.438498Z"
    }
   },
   "outputs": [],
   "source": [
    "def hyperopt(param_space, X_train, y_train, X_test, y_test, num_eval):\n",
    "\n",
    "    trials = Trials()\n",
    "    \n",
    "    best_param = fmin(objective_function, \n",
    "                      param_space, \n",
    "                      algo = tpe.suggest, \n",
    "                      max_evals = num_eval, \n",
    "                      trials = trials,\n",
    "                      rstate = np.random.RandomState(1))\n",
    "    \n",
    "    loss = [x['result']['loss'] for x in trials.trials]\n",
    "    \n",
    "    best_param_values = [x for x in best_param.values()]\n",
    "        \n",
    "    print(\"\")\n",
    "    print(\"##### Results\")\n",
    "    print(\"Score best parameters: \", min(loss)*-1)\n",
    "    print(\"Best parameters: \", best_param)\n",
    "    print(\"Parameter combinations evaluated: \", num_eval)\n",
    "    \n",
    "    return trials"
   ]
  },
  {
   "cell_type": "code",
   "execution_count": 206,
   "metadata": {
    "execution": {
     "iopub.execute_input": "2021-02-17T09:35:07.597957Z",
     "iopub.status.busy": "2021-02-17T09:35:07.597707Z",
     "iopub.status.idle": "2021-02-17T09:36:40.696790Z",
     "shell.execute_reply": "2021-02-17T09:36:40.695710Z",
     "shell.execute_reply.started": "2021-02-17T09:35:07.597933Z"
    }
   },
   "outputs": [
    {
     "name": "stdout",
     "output_type": "stream",
     "text": [
      "0.79685                                               \n",
      "0.83185                                                                          \n",
      "0.7982                                                                           \n",
      "0.79405                                                                          \n",
      "0.805                                                                            \n",
      "0.7954                                                                           \n",
      "0.8071                                                                           \n",
      "0.7997                                                                           \n",
      "0.7978                                                                           \n",
      "0.78145                                                                          \n",
      "100%|██████████| 10/10 [01:33<00:00,  9.31s/trial, best loss: -0.8459001347979465]\n",
      "\n",
      "##### Results\n",
      "Score best parameters:  0.8459001347979465\n",
      "Best parameters:  {'criterion': 0, 'layers': 1.0, 'max_depth_dt': 6.0, 'max_depth_rf': 9.0, 'n_estimators': 6.0, 'nodes': 35.0}\n",
      "Parameter combinations evaluated:  10\n"
     ]
    }
   ],
   "source": [
    "results = hyperopt(param_hyperopt, X_train, y_train, X_test, y_test, 10)"
   ]
  },
  {
   "cell_type": "markdown",
   "metadata": {},
   "source": [
    "#### System: Non-mandaroty dynamic prediction X days after order date"
   ]
  },
  {
   "cell_type": "code",
   "execution_count": 60,
   "metadata": {
    "execution": {
     "iopub.execute_input": "2021-02-15T10:33:57.745630Z",
     "iopub.status.busy": "2021-02-15T10:33:57.745189Z",
     "iopub.status.idle": "2021-02-15T10:33:57.769054Z",
     "shell.execute_reply": "2021-02-15T10:33:57.767593Z",
     "shell.execute_reply.started": "2021-02-15T10:33:57.745585Z"
    },
    "jupyter": {
     "source_hidden": true
    }
   },
   "outputs": [],
   "source": [
    "def dynamicHierarchicalClassifier(START, END, threshold):  \n",
    "\n",
    "    predictions = pd.DataFrame()\n",
    "    statistics = {'%classified':{},\n",
    "                  '%accuracy'  :{},\n",
    "                  '%precision' :{},\n",
    "                  '%recall'    :{},\n",
    "                  '%blocking'  :{}}\n",
    "    \n",
    "    dynamic_threshold = np.linspace(0.95,threshold,(END-START))\n",
    "    static_threshold = np.full((END-START),threshold)\n",
    "    threshold_count = 0\n",
    "\n",
    "    for DAYS in range(START, END+1):\n",
    "\n",
    "        X, y = functions.dataX(df_, DATE, X_col, Y_col, historic_variable, DAYS)\n",
    "        X_train, X_test, y_train, y_test = train_test_split(X, y, test_size = 0.2, random_state=0, shuffle=False)\n",
    "\n",
    "        Tree = ClassHierarchy('ORDERS')\n",
    "        Tree.add_node(['UNKNOWN','KNOWN'], 'ORDERS')\n",
    "        Tree.add_node(['HAPPY','UNHAPPY'], 'KNOWN')\n",
    "        Tree.add_node(['MILDLY UNHAPPY','MEDIUM UNHAPPY','HEAVILY UNHAPPY'], 'UNHAPPY')\n",
    "\n",
    "        HC = HierarchicalClassifier(Tree)\n",
    "        HC.fit_classifiers({'ORDERS'  : RandomForestClassifier(random_state=0, class_weight='balanced', n_estimators = 10),\n",
    "                            'KNOWN'   : DecisionTreeClassifier(random_state=0, class_weight='balanced', max_depth = 10),\n",
    "                            'UNHAPPY' : KerasClassifier(build_fn = functions.neuralNetwork, epochs = 10, verbose = 0)})\n",
    "        \n",
    "        HC = HC.fit(X_train,y_train)\n",
    "\n",
    "        if DAYS == START: #create dataframe to save predictions\n",
    "            y_hat = pd.DataFrame([Tree.root] * len(X_test),\n",
    "                                    columns=[DAYS],\n",
    "                                    index=X_test.index)\n",
    "            index_no_leaf = X_test.index\n",
    "        else:\n",
    "            y_hat[DAYS] = y_hat[DAYS - 1]\n",
    "\n",
    "        if DAYS < END:\n",
    "            pred = HC.predict_proba(X_test.loc[index_no_leaf], threshold = dynamic_threshold[threshold_count])\n",
    "\n",
    "            check_no_leaf = ~pred.isin(Tree._get_leaf_nodes())\n",
    "            index_no_leaf = check_no_leaf[check_no_leaf].index\n",
    "            check_leaf = pred.isin(Tree._get_leaf_nodes())\n",
    "            index_leaf = check_leaf[check_leaf].index\n",
    "\n",
    "            y_hat_stage = pd.DataFrame(pred, index = index_leaf)\n",
    "        else:\n",
    "            pred = HC.predict(X_test.loc[index_no_leaf]) #last day you want a label for each order\n",
    "            y_hat_stage = pd.DataFrame(pred, index = index_no_leaf)\n",
    "            index_leaf = X_test.index\n",
    "            \n",
    "        y_hat = y_hat.assign(stage_col = y_hat_stage)\n",
    "        y_hat.stage_col = y_hat.stage_col.fillna(y_hat[DAYS]) #fill previously predicted labels\n",
    "        y_hat = y_hat.drop(DAYS, axis=1)\n",
    "        y_hat = y_hat.rename(columns={'stage_col': DAYS})\n",
    "        \n",
    "        current_pred = y_hat.iloc[:, y_hat.shape[1] - 1]\n",
    "\n",
    "        fraction_label, fraction_leaf, accuracy_leaf, precision_leaf, recall_leaf, fraction_blocked = day_block_scores(HC, y_test, current_pred)\n",
    "        statistics['%classified'][DAYS] = fraction_leaf\n",
    "        statistics['%accuracy'][DAYS] = accuracy_leaf\n",
    "        statistics['%precision'][DAYS] = precision_leaf\n",
    "        statistics['%recall'][DAYS] = recall_leaf\n",
    "        statistics['%blocking'][DAYS] = fraction_blocked\n",
    "\n",
    "        threshold_count += 1\n",
    "        print('DAYS: ',DAYS)\n",
    "     \n",
    "    final_pred = y_hat.iloc[:, y_hat.shape[1] - 1]\n",
    "    \n",
    "    statistics['precision_H'] = precision_score_ancestors(Tree, y_test['detailedMatchClassification'], final_pred)\n",
    "    statistics['recall_H'] = recall_score_ancestors(Tree, y_test['detailedMatchClassification'], final_pred)\n",
    "    statistics['f1_H'] = f1_score_ancestors(Tree, y_test['detailedMatchClassification'], final_pred)\n",
    "        \n",
    "    return final_pred, statistics"
   ]
  },
  {
   "cell_type": "code",
   "execution_count": 61,
   "metadata": {
    "collapsed": true,
    "execution": {
     "iopub.execute_input": "2021-02-15T10:33:58.644747Z",
     "iopub.status.busy": "2021-02-15T10:33:58.644307Z",
     "iopub.status.idle": "2021-02-15T11:00:26.993474Z",
     "shell.execute_reply": "2021-02-15T11:00:26.990435Z",
     "shell.execute_reply.started": "2021-02-15T10:33:58.644699Z"
    },
    "jupyter": {
     "outputs_hidden": true,
     "source_hidden": true
    }
   },
   "outputs": [
    {
     "name": "stdout",
     "output_type": "stream",
     "text": [
      "DAYS:  0\n",
      "DAYS:  1\n",
      "DAYS:  2\n",
      "DAYS:  3\n",
      "DAYS:  4\n",
      "DAYS:  5\n",
      "DAYS:  6\n",
      "DAYS:  7\n",
      "DAYS:  8\n",
      "DAYS:  9\n",
      "DAYS:  10\n"
     ]
    }
   ],
   "source": [
    "pred, statistics = dynamicHierarchicalClassifier(0,10,0.8)"
   ]
  },
  {
   "cell_type": "code",
   "execution_count": 42,
   "metadata": {
    "execution": {
     "iopub.execute_input": "2021-02-14T15:34:51.984419Z",
     "iopub.status.busy": "2021-02-14T15:34:51.982658Z",
     "iopub.status.idle": "2021-02-14T15:34:51.995681Z",
     "shell.execute_reply": "2021-02-14T15:34:51.994444Z",
     "shell.execute_reply.started": "2021-02-14T15:34:51.984352Z"
    },
    "jupyter": {
     "source_hidden": true
    }
   },
   "outputs": [],
   "source": [
    "days, precision_list = zip(*statistics['%precision'].items()) \n",
    "P_Happy, P_Heavy, P_Medium, P_Mild, P_Unk = zip(*precision_list) "
   ]
  },
  {
   "cell_type": "code",
   "execution_count": 35,
   "metadata": {
    "execution": {
     "iopub.execute_input": "2021-02-14T15:24:42.907471Z",
     "iopub.status.busy": "2021-02-14T15:24:42.907191Z",
     "iopub.status.idle": "2021-02-14T15:24:42.914986Z",
     "shell.execute_reply": "2021-02-14T15:24:42.911243Z",
     "shell.execute_reply.started": "2021-02-14T15:24:42.907445Z"
    },
    "jupyter": {
     "source_hidden": true
    }
   },
   "outputs": [],
   "source": [
    "days, recall_list = zip(*statistics['%recall'].items()) \n",
    "R_Happy, R_Heavy, R_Medium, R_Mild, R_Unk = zip(*recall_list) "
   ]
  },
  {
   "cell_type": "code",
   "execution_count": 57,
   "metadata": {
    "collapsed": true,
    "execution": {
     "iopub.execute_input": "2021-02-15T10:30:41.647112Z",
     "iopub.status.busy": "2021-02-15T10:30:41.646838Z",
     "iopub.status.idle": "2021-02-15T10:30:41.774713Z",
     "shell.execute_reply": "2021-02-15T10:30:41.772993Z",
     "shell.execute_reply.started": "2021-02-15T10:30:41.647086Z"
    },
    "jupyter": {
     "outputs_hidden": true,
     "source_hidden": true
    }
   },
   "outputs": [
    {
     "data": {
      "text/plain": [
       "array(['HAPPY', 'HEAVILY UNHAPPY', 'MEDIUM UNHAPPY', 'MILDLY UNHAPPY',\n",
       "       'UNKNOWN'], dtype=object)"
      ]
     },
     "execution_count": 57,
     "metadata": {},
     "output_type": "execute_result"
    }
   ],
   "source": [
    "np.unique(y_test)"
   ]
  },
  {
   "cell_type": "code",
   "execution_count": 58,
   "metadata": {
    "collapsed": true,
    "execution": {
     "iopub.execute_input": "2021-02-15T10:30:43.912287Z",
     "iopub.status.busy": "2021-02-15T10:30:43.911935Z",
     "iopub.status.idle": "2021-02-15T10:30:45.186063Z",
     "shell.execute_reply": "2021-02-15T10:30:45.185189Z",
     "shell.execute_reply.started": "2021-02-15T10:30:43.912250Z"
    },
    "jupyter": {
     "outputs_hidden": true,
     "source_hidden": true
    }
   },
   "outputs": [
    {
     "data": {
      "text/plain": [
       "(array([0.93595777, 0.72900158, 0.68055556, 0.96074337, 0.93501152]),\n",
       " array([0.99902783, 0.45231072, 0.36392573, 0.51459568, 0.98295054]),\n",
       " array([0.96646493, 0.55825243, 0.47424819, 0.67021122, 0.95838192]))"
      ]
     },
     "execution_count": 58,
     "metadata": {},
     "output_type": "execute_result"
    }
   ],
   "source": [
    "local_scores(y_test, pred)"
   ]
  },
  {
   "cell_type": "code",
   "execution_count": 59,
   "metadata": {
    "collapsed": true,
    "execution": {
     "iopub.execute_input": "2021-02-15T10:30:50.186031Z",
     "iopub.status.busy": "2021-02-15T10:30:50.185760Z",
     "iopub.status.idle": "2021-02-15T10:30:51.445106Z",
     "shell.execute_reply": "2021-02-15T10:30:51.444073Z",
     "shell.execute_reply.started": "2021-02-15T10:30:50.186005Z"
    },
    "jupyter": {
     "outputs_hidden": true,
     "source_hidden": true
    }
   },
   "outputs": [
    {
     "data": {
      "text/plain": [
       "(array([0.93595777, 0.9654636 , 0.93501152]),\n",
       " array([0.99902783, 0.52402263, 0.98295054]),\n",
       " array([0.96646493, 0.6793279 , 0.95838192]))"
      ]
     },
     "execution_count": 59,
     "metadata": {},
     "output_type": "execute_result"
    }
   ],
   "source": [
    "pred_general = pred.replace({'MILDLY UNHAPPY':'UNHAPPY',\n",
    "                             'MEDIUM UNHAPPY':'UNHAPPY',\n",
    "                             'HEAVILY UNHAPPY':'UNHAPPY'})\n",
    "test_general = y_test.replace({'MILDLY UNHAPPY':'UNHAPPY',\n",
    "                             'MEDIUM UNHAPPY':'UNHAPPY',\n",
    "                             'HEAVILY UNHAPPY':'UNHAPPY'})\n",
    "local_scores(test_general, pred_general)"
   ]
  },
  {
   "cell_type": "code",
   "execution_count": 634,
   "metadata": {
    "collapsed": true,
    "execution": {
     "iopub.execute_input": "2021-02-12T15:07:55.901411Z",
     "iopub.status.busy": "2021-02-12T15:07:55.900283Z",
     "iopub.status.idle": "2021-02-12T15:07:56.150161Z",
     "shell.execute_reply": "2021-02-12T15:07:56.148830Z",
     "shell.execute_reply.started": "2021-02-12T15:07:55.901324Z"
    },
    "jupyter": {
     "outputs_hidden": true,
     "source_hidden": true
    }
   },
   "outputs": [
    {
     "data": {
      "text/plain": [
       "[<matplotlib.lines.Line2D at 0x7ffa4aa0ffd0>]"
      ]
     },
     "execution_count": 634,
     "metadata": {},
     "output_type": "execute_result"
    },
    {
     "data": {
      "image/png": "[encoded data removed]",
      "text/plain": [
       "<Figure size 432x288 with 1 Axes>"
      ]
     },
     "metadata": {
      "needs_background": "light"
     },
     "output_type": "display_data"
    }
   ],
   "source": [
    "# plt.plot(days, P_Happy)\n",
    "# plt.plot(days, P_Heavy)\n",
    "# plt.plot(days, P_Medium)\n",
    "# plt.plot(days, P_Mild)\n",
    "# plt.plot(days, P_Unk)"
   ]
  },
  {
   "cell_type": "code",
   "execution_count": 635,
   "metadata": {
    "collapsed": true,
    "execution": {
     "iopub.execute_input": "2021-02-12T15:07:56.445600Z",
     "iopub.status.busy": "2021-02-12T15:07:56.444800Z",
     "iopub.status.idle": "2021-02-12T15:07:56.743873Z",
     "shell.execute_reply": "2021-02-12T15:07:56.741770Z",
     "shell.execute_reply.started": "2021-02-12T15:07:56.445556Z"
    },
    "jupyter": {
     "outputs_hidden": true,
     "source_hidden": true
    }
   },
   "outputs": [
    {
     "data": {
      "text/plain": [
       "[<matplotlib.lines.Line2D at 0x7ff93b378e80>]"
      ]
     },
     "execution_count": 635,
     "metadata": {},
     "output_type": "execute_result"
    },
    {
     "data": {
      "image/png": "[encoded data removed]",
      "text/plain": [
       "<Figure size 432x288 with 1 Axes>"
      ]
     },
     "metadata": {
      "needs_background": "light"
     },
     "output_type": "display_data"
    }
   ],
   "source": [
    "# plt.plot(days, R_Happy)\n",
    "# plt.plot(days, R_Heavy)\n",
    "# plt.plot(days, R_Medium)\n",
    "# plt.plot(days, R_Mild)\n",
    "# plt.plot(days, R_Unk)"
   ]
  },
  {
   "cell_type": "markdown",
   "metadata": {},
   "source": [
    "#### Non-mandatory predictions 0,1,2,... days after order date"
   ]
  },
  {
   "cell_type": "code",
   "execution_count": 508,
   "metadata": {
    "collapsed": true,
    "execution": {
     "iopub.execute_input": "2021-02-12T09:31:38.310871Z",
     "iopub.status.busy": "2021-02-12T09:31:38.310537Z",
     "iopub.status.idle": "2021-02-12T09:34:19.938146Z",
     "shell.execute_reply": "2021-02-12T09:34:19.936876Z",
     "shell.execute_reply.started": "2021-02-12T09:31:38.310843Z"
    },
    "jupyter": {
     "outputs_hidden": true,
     "source_hidden": true
    }
   },
   "outputs": [
    {
     "name": "stdout",
     "output_type": "stream",
     "text": [
      "DAYS:  0\n",
      "DAYS:  1\n",
      "DAYS:  2\n",
      "DAYS:  3\n"
     ]
    }
   ],
   "source": [
    "PREDICT_DAYS = 10\n",
    "threshold = 0.8\n",
    "\n",
    "predictions = pd.DataFrame()\n",
    "results = {}\n",
    "\n",
    "dynamic_threshold = np.linspace(0.95,threshold,PREDICT_DAYS+1)\n",
    "dynamic_count = 0\n",
    "\n",
    "for DAYS in range(PREDICT_DAYS+1):\n",
    "    \n",
    "    X, y = functions.dataX(df_, DATE, X_col, Y_col, historic_variable, DAYS)\n",
    "    X_train, X_test, y_train, y_test = train_test_split(X, y, test_size=0.2, random_state=0, shuffle=False)\n",
    "\n",
    "    Tree = ClassHierarchy('ORDERS')\n",
    "    Tree.add_node(['UNKNOWN','KNOWN'], 'ORDERS')\n",
    "    Tree.add_node(['HAPPY','UNHAPPY'], 'KNOWN')\n",
    "    Tree.add_node(['MILDLY UNHAPPY','MEDIUM UNHAPPY','HEAVILY UNHAPPY'], 'UNHAPPY')\n",
    "\n",
    "    HC = HierarchicalClassifier(Tree)\n",
    "    HC.fit_classifiers({'ORDERS'  : DecisionTreeClassifier(random_state=0, class_weight='balanced', max_depth = 10),\n",
    "                        'KNOWN'   : DecisionTreeClassifier(random_state=0, class_weight='balanced', max_depth = 10),\n",
    "                        'UNHAPPY' : KerasClassifier(build_fn = functions.neuralNetwork, epochs = 15, verbose = 0)})\n",
    "    \n",
    "    HC = HC.fit(X_train,y_train['detailedMatchClassification'])\n",
    "    pred = HC.predict_proba(X_test, threshold = dynamic_threshold[dynamic_count])\n",
    "    \n",
    "    fraction_label, fraction_leaf, accuracy_leaf = day_block_scores(HC, y_test['detailedMatchClassification'], pred)\n",
    "    \n",
    "    predictions[DAYS] = pred\n",
    "    results['DAY '+str(DAYS)] = (fraction_label, fraction_leaf, accuracy_leaf)\n",
    "    \n",
    "    dynamic_count += 1\n",
    "    \n",
    "    print('DAYS: ',DAYS)"
   ]
  },
  {
   "cell_type": "code",
   "execution_count": 509,
   "metadata": {
    "execution": {
     "iopub.execute_input": "2021-02-12T09:34:19.942295Z",
     "iopub.status.busy": "2021-02-12T09:34:19.941636Z",
     "iopub.status.idle": "2021-02-12T09:34:20.006608Z",
     "shell.execute_reply": "2021-02-12T09:34:20.002309Z",
     "shell.execute_reply.started": "2021-02-12T09:34:19.942247Z"
    },
    "jupyter": {
     "source_hidden": true
    }
   },
   "outputs": [],
   "source": [
    "changes = {}\n",
    "for i in range(0,predictions.shape[1]-1):\n",
    "    col_t0 = predictions.iloc[:,i]\n",
    "    col_t1 = predictions.iloc[:,i+1]\n",
    "    \n",
    "    check_leaf_t0 = col_t0.isin(Tree._get_leaf_nodes())\n",
    "    index_leaf_t0 = check_leaf_t0[check_leaf_t0].index\n",
    "    \n",
    "    col_t0_leaf = col_t0.loc[index_leaf_t0]\n",
    "    col_t1_leaf = col_t1.loc[index_leaf_t0]\n",
    "    \n",
    "    check_similarity = (col_t0_leaf == col_t1_leaf)\n",
    "    if i == 0:\n",
    "        ix = check_similarity[check_similarity == False].index\n",
    "    \n",
    "    changes['DAY '+str(i+1)] = 1 - (check_similarity.sum() / col_t0_leaf.count())"
   ]
  },
  {
   "cell_type": "code",
   "execution_count": 510,
   "metadata": {
    "execution": {
     "iopub.execute_input": "2021-02-12T09:34:20.020310Z",
     "iopub.status.busy": "2021-02-12T09:34:20.019700Z",
     "iopub.status.idle": "2021-02-12T09:34:20.069459Z",
     "shell.execute_reply": "2021-02-12T09:34:20.054155Z",
     "shell.execute_reply.started": "2021-02-12T09:34:20.020250Z"
    },
    "jupyter": {
     "source_hidden": true
    }
   },
   "outputs": [],
   "source": [
    "days0, stats = zip(*results.items())\n",
    "fraction_label, fraction_leaf, accuracy_leaf = zip(*stats)\n",
    "days1, change = zip(*changes.items())"
   ]
  },
  {
   "cell_type": "code",
   "execution_count": 636,
   "metadata": {
    "collapsed": true,
    "execution": {
     "iopub.execute_input": "2021-02-12T15:17:44.732108Z",
     "iopub.status.busy": "2021-02-12T15:17:44.731830Z",
     "iopub.status.idle": "2021-02-12T15:17:44.918889Z",
     "shell.execute_reply": "2021-02-12T15:17:44.917573Z",
     "shell.execute_reply.started": "2021-02-12T15:17:44.732082Z"
    },
    "jupyter": {
     "outputs_hidden": true,
     "source_hidden": true
    }
   },
   "outputs": [
    {
     "data": {
      "text/plain": [
       "[<matplotlib.lines.Line2D at 0x7ffa756a1310>]"
      ]
     },
     "execution_count": 636,
     "metadata": {},
     "output_type": "execute_result"
    },
    {
     "data": {
      "image/png": "[encoded data removed]",
      "text/plain": [
       "<Figure size 432x288 with 1 Axes>"
      ]
     },
     "metadata": {
      "needs_background": "light"
     },
     "output_type": "display_data"
    }
   ],
   "source": [
    "plt.plot(days0,fraction_label)\n",
    "plt.plot(days0,fraction_leaf)\n",
    "plt.plot(days0,accuracy_leaf)\n",
    "plt.plot(days1,change)"
   ]
  },
  {
   "cell_type": "markdown",
   "metadata": {},
   "source": [
    "#### Functions"
   ]
  },
  {
   "cell_type": "code",
   "execution_count": 177,
   "metadata": {
    "execution": {
     "iopub.execute_input": "2021-02-17T09:13:28.587985Z",
     "iopub.status.busy": "2021-02-17T09:13:28.584260Z",
     "iopub.status.idle": "2021-02-17T09:13:28.645859Z",
     "shell.execute_reply": "2021-02-17T09:13:28.644400Z",
     "shell.execute_reply.started": "2021-02-17T09:13:28.587899Z"
    }
   },
   "outputs": [],
   "source": [
    "def global_scores(y_true, y_pred, average = 'macro'):\n",
    "    accuracy = metrics.accuracy_score(y_true, y_pred)\n",
    "    scores = metrics.precision_recall_fscore_support(y_true, y_pred, average = average)\n",
    "    return accuracy, scores[0], scores[1], scores[2]\n",
    "\n",
    "def local_scores(y_true, y_pred):\n",
    "    labels = np.unique(y_true)\n",
    "    scores = metrics.precision_recall_fscore_support(y_true, y_pred, average = None, labels = labels, beta = 1)\n",
    "    return scores[0], scores[1], scores[2]\n",
    "\n",
    "def class_report(y_true, y_pred):\n",
    "    print(metrics.classification_report(y_true, y_pred))\n",
    "\n",
    "def _aggregate_class_sets(set_function, y_true, y_pred):\n",
    "    intersection_sum = 0\n",
    "    true_sum = 0\n",
    "    predicted_sum = 0\n",
    "    for true, pred in zip(list(y_true), list(y_pred)):\n",
    "        true_set = set([true] + set_function(true))\n",
    "        pred_set = set([pred] + set_function(pred))\n",
    "        intersection_sum += len(true_set.intersection(pred_set))\n",
    "        true_sum += len(true_set)\n",
    "        predicted_sum += len(pred_set)\n",
    "    return (true_sum, predicted_sum, intersection_sum)\n",
    "\n",
    "def _fbeta_score_class_sets(set_function, y_true, y_pred, beta=1):\n",
    "    true_sum, predicted_sum, intersection_sum = _aggregate_class_sets(set_function, y_true, y_pred)\n",
    "    precision = intersection_sum / predicted_sum\n",
    "    recall = intersection_sum / true_sum\n",
    "    return ((beta ** 2 + 1) * precision * recall) / ((beta ** 2 * precision) + recall)\n",
    "\n",
    "def precision_score_ancestors(class_hierarchy, y_true, y_pred):\n",
    "    true_sum, predicted_sum, intersection_sum = _aggregate_class_sets(\n",
    "        class_hierarchy._get_ancestors, y_true, y_pred)\n",
    "    return intersection_sum / predicted_sum\n",
    "\n",
    "def recall_score_ancestors(class_hierarchy, y_true, y_pred):\n",
    "    true_sum, predicted_sum, intersection_sum = _aggregate_class_sets(\n",
    "        class_hierarchy._get_ancestors, y_true, y_pred)\n",
    "    return intersection_sum / true_sum\n",
    "\n",
    "def f1_score_ancestors(class_hierarchy, y_true, y_pred, beta):\n",
    "    return _fbeta_score_class_sets(class_hierarchy._get_ancestors, y_true, y_pred, beta=beta)\n",
    "\n",
    "def day_block_scores(classifier, y_true, y_pred, print_output = False):\n",
    "    \n",
    "    check_label = (y_pred != classifier.class_hierarchy.root)\n",
    "    index_label = check_label[check_label].index\n",
    "    \n",
    "    fraction_label = check_label.sum()/y_pred.count()\n",
    "    fraction_leaf = y_pred.isin(classifier.class_hierarchy._get_leaf_nodes()).sum()/y_pred.count()\n",
    "    \n",
    "    check_leaf = y_pred.isin(classifier.class_hierarchy._get_leaf_nodes())\n",
    "    index_leaf = check_leaf[check_leaf].index\n",
    "    \n",
    "    accuracy_leaf, precision_leaf_macro, recall_leaf_macro, f1_leaf_macro = global_scores(y_true.loc[index_leaf],y_pred.loc[index_leaf])\n",
    "    precision_leaf, recall_leaf, f1_leaf = local_scores(y_true,y_pred)\n",
    "    \n",
    "#     fraction_type = {}\n",
    "#     for match_type in np.unique(y_true):\n",
    "#         test_type_check = (y_true == match_type)\n",
    "#         test_type_index = test_type_check[test_type_check].index\n",
    "#         pred_type_check = y_pred.loc[test_type_index]\n",
    "#         pred_type_index = pred_type_check[pred_type_check == match_type].index\n",
    "#         fraction_type[match_type] = len(pred_type_index) / len(test_type_check)\n",
    "    \n",
    "    if len(index_leaf) != len(y_true):\n",
    "        fraction_blocked = classifier.blocking\n",
    "    else:\n",
    "        fraction_blocked = None\n",
    "    \n",
    "    if print_output == True:\n",
    "        print('Percentage labelled\\t:'  ,round(fraction_label*100,2),'%')\n",
    "        print('Percentage leaf node\\t:' ,round(fraction_leaf*100,2) ,'%')\n",
    "        print('Accuracy leaf node\\t:'   ,round(accuracy_leaf*100,2) ,'%')\n",
    "        print('Precision leaf node\\t:'  ,round(precision_leaf*100,2),'%')\n",
    "        print('Recall leaf node\\t:'     ,round(recall_leaf*100,2)   ,'%')\n",
    "\n",
    "        for node, fraction in fraction_blocked.items():\n",
    "            print('Percentage blocked at '+node+'\\t:',round(fraction*100,2),'%')\n",
    "    else:    \n",
    "        return fraction_label, fraction_leaf, accuracy_leaf, precision_leaf, recall_leaf, fraction_blocked"
   ]
  },
  {
   "cell_type": "code",
   "execution_count": 11,
   "metadata": {
    "execution": {
     "iopub.execute_input": "2021-02-16T12:22:43.005965Z",
     "iopub.status.busy": "2021-02-16T12:22:43.005570Z",
     "iopub.status.idle": "2021-02-16T12:22:43.021326Z",
     "shell.execute_reply": "2021-02-16T12:22:43.019921Z",
     "shell.execute_reply.started": "2021-02-16T12:22:43.005920Z"
    }
   },
   "outputs": [],
   "source": [
    "class ClassHierarchy:\n",
    "    \n",
    "    def __init__(self, root):\n",
    "        self.root = root\n",
    "        self.nodes = {}\n",
    "        \n",
    "    def add_node(self, children, parent):\n",
    "        for child in children:\n",
    "            self.nodes[child] = parent\n",
    "            \n",
    "    def _get_leaf_nodes(self):\n",
    "        leaf_nodes = []\n",
    "        for child in self.nodes.keys():\n",
    "            if self._get_children(child) == []:\n",
    "                leaf_nodes.append(child)\n",
    "        return leaf_nodes\n",
    "\n",
    "    def _get_children(self, parent):\n",
    "        return sorted([child for child, childs_parent in\n",
    "                       self.nodes.items() if childs_parent == parent])\n",
    "    \n",
    "    def _get_parent(self, child):\n",
    "        return self.nodes[child] if (child in self.nodes and child != self.root) else self.root\n",
    "    \n",
    "    def _get_ancestors(self, child):\n",
    "        # Not including root, not including the child\n",
    "        ancestors = []\n",
    "        while True:\n",
    "            child = self._get_parent(child)\n",
    "            if child == self.root:\n",
    "                break\n",
    "            ancestors.append(child)\n",
    "        return ancestors"
   ]
  },
  {
   "cell_type": "code",
   "execution_count": 12,
   "metadata": {
    "execution": {
     "iopub.execute_input": "2021-02-16T12:22:43.561430Z",
     "iopub.status.busy": "2021-02-16T12:22:43.561148Z",
     "iopub.status.idle": "2021-02-16T12:22:43.606338Z",
     "shell.execute_reply": "2021-02-16T12:22:43.597595Z",
     "shell.execute_reply.started": "2021-02-16T12:22:43.561406Z"
    }
   },
   "outputs": [],
   "source": [
    "class HierarchicalClassifier:\n",
    "\n",
    "    def __init__(self, class_hierarchy):\n",
    "        self.stages = {}\n",
    "        self.class_hierarchy = class_hierarchy\n",
    "        self._create_stages(self.stages, self.class_hierarchy.root, 0)\n",
    "\n",
    "    def _create_stages(self, stages, parent, depth):\n",
    "        # Get the children of this parent\n",
    "        children = self.class_hierarchy._get_children(parent)\n",
    "        \n",
    "        if len(children) > 0:\n",
    "            stage = {}\n",
    "            stage['depth'] = depth\n",
    "            stage['labels'] = children\n",
    "            stage['classes'] = stage['labels'] + [parent]\n",
    "            stage['target'] = 'target_stage_' + parent\n",
    "            stages[parent] = stage\n",
    "\n",
    "            for node in children:\n",
    "                self._create_stages(stages, node, depth + 1)\n",
    "                \n",
    "    def _recode_label(self, classes, label):\n",
    "\n",
    "        while label != self.class_hierarchy.root and label not in classes:\n",
    "            label = self.class_hierarchy._get_parent(label)\n",
    "        return label\n",
    "                \n",
    "    def _prep_data(self, X, y):\n",
    "        \n",
    "        Xcols = range(0, X.shape[1])\n",
    "        Ycol = X.shape[1]\n",
    "        \n",
    "        df = pd.concat([X, y], axis=1, ignore_index=True)\n",
    "        # Create a target column for each stage with the recoded labels\n",
    "        for stage_name, stage_info in self.stages.items():\n",
    "            df[stage_info['target']] = pd.DataFrame.apply(df[[Ycol]],\n",
    "                                    lambda row: self._recode_label(stage_info['classes'], row[Ycol]),\n",
    "                                    axis=1)\n",
    "        return df, Xcols\n",
    "    \n",
    "    def _label_mapping(self, y_train, stage_name):\n",
    "        labels = np.unique(y_train)\n",
    "        int_label_mapping = dict(enumerate(labels))\n",
    "        label_int_mapping = {y:x for x,y in int_label_mapping.items()}\n",
    "        self.stages[stage_name]['mapping'] = {'int_label':int_label_mapping,\n",
    "                                              'label_int':label_int_mapping}\n",
    "        #return int_label_mapping, label_int_mapping\n",
    "        \n",
    "    def _class_weights(self, y_train, stage_name):\n",
    "        class_weights = class_weight.compute_class_weight('balanced',classes = np.unique(y_train),y = y_train)\n",
    "        class_weights = dict(enumerate(class_weights))\n",
    "        self.stages[stage_name]['classifier'].set_params(class_weight = class_weights)\n",
    "    \n",
    "    def fit_classifiers(self, classifiers):\n",
    "        \"\"\"\n",
    "        Fit a classifier to each stage\n",
    "        \"\"\"\n",
    "        if classifiers.keys() != self.stages.keys():\n",
    "             raise ValueError('Your assigned classifiers do not match the stages of the hierarchy, fit a classifier to each of: '+self.stages.keys())\n",
    "        else:\n",
    "            for stage, classifier in classifiers.items():\n",
    "                self.stages[stage]['classifier'] = classifier\n",
    "    \n",
    "    def fit(self, X, y):\n",
    "        \"\"\"\n",
    "        Build a multi-classifier from training data (X, y).\n",
    "        \"\"\"\n",
    "        df, Xcols = self._prep_data(X, y)\n",
    "        self.scaler = preprocessing.MinMaxScaler().fit(X)\n",
    "        \n",
    "        for stage_name, stage_info in self.stages.items():\n",
    "            \n",
    "            dfFilter = df[df[stage_info['target']].isin(stage_info['classes'])]\n",
    "            \n",
    "            X_train = dfFilter[Xcols]\n",
    "            y_train = dfFilter[[stage_info['target']]]\n",
    "                        \n",
    "            #warning - no samples to fit for stage\n",
    "            if isinstance(stage_info['classifier'], KerasClassifier):\n",
    "                y_train_col = pd.Series(np.ravel(y_train))\n",
    "                self._class_weights(y_train_col, stage_name)\n",
    "                self._label_mapping(y_train_col, stage_name)\n",
    "                y_encoded = y_train_col.map(stage_info['mapping']['label_int'])\n",
    "                y_dummy = pd.DataFrame(np_utils.to_categorical(y_encoded))\n",
    "                X_scaled = pd.DataFrame(self.scaler.transform(X_train))\n",
    "                stage_info['classifier'].fit(X_scaled, y_dummy)\n",
    "            else:\n",
    "                stage_info['classifier'] = stage_info['classifier'].fit(X_train, y_train)\n",
    "            #print('Stage '+stage_name+' succesfully fitted')\n",
    "\n",
    "        return self\n",
    "    \n",
    "    def predict(self, X):\n",
    "        \n",
    "        stage_number = 0\n",
    "        for stage_name, stage_info in self.stages.items():\n",
    "            \n",
    "            if stage_name == self.class_hierarchy.root:\n",
    "                y_hat = pd.DataFrame([self.class_hierarchy.root] * len(X),\n",
    "                                        columns=[self.class_hierarchy.root],\n",
    "                                        index=X.index)\n",
    "            else:\n",
    "                y_hat[stage_name] = y_hat[list(self.stages.keys())[stage_number - 1]]\n",
    "            stage_number += 1             \n",
    "                \n",
    "            X_test = X[y_hat[stage_name].isin([stage_name])]  #warning - no samples to fit for stage\n",
    "            \n",
    "            if isinstance(stage_info['classifier'], KerasClassifier):\n",
    "                X_scaled = pd.DataFrame(self.scaler.transform(X_test))\n",
    "                y_pred = pd.Series(stage_info['classifier'].predict(X_scaled)).map(stage_info['mapping']['int_label'])\n",
    "                y_hat_stage = pd.DataFrame(y_pred.values, index = X_test.index)\n",
    "            else:\n",
    "                y_hat_stage = pd.DataFrame(stage_info['classifier'].predict(X_test), index = X_test.index)\n",
    "                \n",
    "            y_hat = y_hat.assign(stage_col = y_hat_stage)\n",
    "            y_hat.stage_col = y_hat.stage_col.fillna(y_hat[stage_name]) #fill previously predicted labels\n",
    "            y_hat = y_hat.drop(stage_name, axis=1)\n",
    "            y_hat = y_hat.rename(columns={'stage_col': stage_name})\n",
    "            \n",
    "        return y_hat.iloc[:, y_hat.shape[1] - 1]     \n",
    "    \n",
    "    def predict_proba(self, X, threshold = 0.5):\n",
    "        \n",
    "        self.blocking = {}\n",
    "        stage_number = 0\n",
    "        for stage_name, stage_info in self.stages.items():\n",
    "            \n",
    "            if stage_name == self.class_hierarchy.root:\n",
    "                y_hat = pd.DataFrame([self.class_hierarchy.root] * len(X),\n",
    "                                        columns=[self.class_hierarchy.root],\n",
    "                                        index=X.index)\n",
    "            else:\n",
    "                y_hat[stage_name] = y_hat[list(self.stages.keys())[stage_number - 1]]\n",
    "            stage_number += 1             \n",
    "                \n",
    "            X_test = X[y_hat[stage_name].isin([stage_name])]  #warning - no samples to fit for stage\n",
    "            \n",
    "            if isinstance(stage_info['classifier'], KerasClassifier):\n",
    "                X_scaled = pd.DataFrame(self.scaler.transform(X_test))\n",
    "                y_proba = stage_info['classifier'].predict_proba(X_scaled)\n",
    "                y_classes = list(stage_info['mapping']['int_label'].values())\n",
    "            else:\n",
    "                y_proba = stage_info['classifier'].predict_proba(X_test)\n",
    "                y_classes = stage_info['classifier'].classes_\n",
    "            \n",
    "            max_prob = np.amax(y_proba, axis=1)              #max probability of classes\n",
    "            max_class = np.argmax(y_proba, axis=1)           #class number with max probability\n",
    "            accept_index = np.where(max_prob >= threshold)[0]#indexes which are above threshold\n",
    "            accept_class = np.take(max_class, accept_index)  #filtered list of orders which are above threshold\n",
    "            \n",
    "            if len(accept_class) > 0: #check if samples reach threshold\n",
    "                accept_label = np.vectorize(lambda x: y_classes[x])(accept_class)                             #convert class number into label\n",
    "                y_hat_stage = pd.DataFrame(accept_label, index = np.take(X_test.index.values, accept_index))  #set labels to correct position\n",
    "                self.blocking[stage_name] = 1 - (len(accept_class) / len(max_class)) #blocking factor\n",
    "            else:\n",
    "                y_hat_stage = pd.DataFrame(columns = [0], index = X_test.index)\n",
    "                self.blocking[stage_name] = 1\n",
    "                \n",
    "            y_hat = y_hat.assign(stage_col = y_hat_stage)\n",
    "            y_hat.stage_col = y_hat.stage_col.fillna(y_hat[stage_name]) #fill previously predicted labels\n",
    "            y_hat = y_hat.drop(stage_name, axis=1)\n",
    "            y_hat = y_hat.rename(columns={'stage_col': stage_name})\n",
    "            \n",
    "        return y_hat.iloc[:, y_hat.shape[1] - 1]"
   ]
  },
  {
   "cell_type": "code",
   "execution_count": 45,
   "metadata": {
    "execution": {
     "iopub.execute_input": "2021-02-08T13:28:47.153024Z",
     "iopub.status.busy": "2021-02-08T13:28:47.152658Z",
     "iopub.status.idle": "2021-02-08T13:28:47.183804Z",
     "shell.execute_reply": "2021-02-08T13:28:47.177640Z",
     "shell.execute_reply.started": "2021-02-08T13:28:47.152989Z"
    },
    "jupyter": {
     "source_hidden": true
    }
   },
   "outputs": [],
   "source": [
    "def classifyLabelsHC(classifier, X, y, n, split = 'TimeSeries', smote = False, scale = None, NN = False):\n",
    "\n",
    "    scaler = preprocessing.MinMaxScaler()\n",
    "    \n",
    "    results = {}\n",
    "    \n",
    "    storage = {'binary'  :{'acc':{},'pre':{},'rec':{},'f1':{}},\n",
    "               'general' :{'acc':{},'pre':{},'rec':{},'f1':{}},\n",
    "               'detailed':{'acc':{},'pre':{},'rec':{},'f1':{}}}\n",
    "        \n",
    "    if split == 'Random':\n",
    "        cv = StratifiedKFold(n_splits = n, random_state = 0, shuffle = True)   \n",
    "    else:\n",
    "        cv = TimeSeriesSplit(n_splits = n)\n",
    "    \n",
    "    count = 1\n",
    "\n",
    "    for train_index, test_index in cv.split(X):\n",
    "        \n",
    "        if scale != None:\n",
    "            X_scaled = pd.DataFrame(scaler.fit_transform(X))\n",
    "            X_train, X_test = X_scaled.iloc[train_index], X_scaled.iloc[test_index]\n",
    "        else:   \n",
    "            X_train, X_test = X.iloc[train_index], X.iloc[test_index]\n",
    "            \n",
    "        y_train, y_test = y.iloc[train_index], y.iloc[test_index]\n",
    "        \n",
    "        classifier.fit(X_train,y_train)\n",
    "        predictions = classifier.predict(X_test)\n",
    "        \n",
    "        #Calculate performance metrics for each level\n",
    "        for level in ['binary','general','detailed']:\n",
    "            \n",
    "            labels = np.unique(y[level+'MatchClassification'])\n",
    "            \n",
    "            y_pred_ = predictions[level+'Prediction']\n",
    "            y_test_ = y_test[level+'MatchClassification']\n",
    "\n",
    "            accuracy = metrics.accuracy_score(y_test_, y_pred_)\n",
    "            scores = metrics.precision_recall_fscore_support(y_test_, y_pred_, average = None, labels = labels, beta = 1)\n",
    "            \n",
    "            storage[level]['acc'][count] = accuracy\n",
    "            storage[level]['pre'][count] = scores[0]\n",
    "            storage[level]['rec'][count] = scores[1]\n",
    "            storage[level]['f1'][count] = scores[2]\n",
    "        \n",
    "        count += 1\n",
    "    \n",
    "    #Calculate averages of each metric\n",
    "    for level in ['binary','general','detailed']:\n",
    "        \n",
    "        labels = np.unique(y[level+'MatchClassification'])\n",
    "        \n",
    "        results[level+'Accuracy'] = sum(storage[level]['acc'].values()) / n\n",
    "\n",
    "        for ix,lab in enumerate(labels):\n",
    "            results[(level+'Precision_'+lab)] = (sum(storage[level]['pre'].values()) / n)[ix]\n",
    "            results[(level+'Recall_'+lab)] = (sum(storage[level]['rec'].values()) / n)[ix]\n",
    "            results[(level+'F1_'+lab)] = (sum(storage[level]['f1'].values()) / n)[ix]\n",
    "    \n",
    "    return results"
   ]
  }
 ],
 "metadata": {
  "kernelspec": {
   "display_name": "Python 3",
   "language": "python",
   "name": "python3"
  },
  "language_info": {
   "codemirror_mode": {
    "name": "ipython",
    "version": 3
   },
   "file_extension": ".py",
   "mimetype": "text/x-python",
   "name": "python",
   "nbconvert_exporter": "python",
   "pygments_lexer": "ipython3",
   "version": "3.8.5"
  }
 },
 "nbformat": 4,
 "nbformat_minor": 4
}
