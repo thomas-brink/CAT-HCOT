{
 "cells": [
  {
   "cell_type": "code",
   "execution_count": 245,
   "metadata": {
    "execution": {
     "iopub.execute_input": "2021-02-04T16:20:38.879093Z",
     "iopub.status.busy": "2021-02-04T16:20:38.878616Z",
     "iopub.status.idle": "2021-02-04T16:20:38.915850Z",
     "shell.execute_reply": "2021-02-04T16:20:38.915092Z",
     "shell.execute_reply.started": "2021-02-04T16:20:38.879038Z"
    },
    "jupyter": {
     "source_hidden": true
    }
   },
   "outputs": [],
   "source": [
    "import pandas as pd\n",
    "import numpy as np\n",
    "import pyodbc as py\n",
    "\n",
    "from datetime import date, timedelta, datetime\n",
    "import time\n",
    "\n",
    "import matplotlib.pyplot as plt\n",
    "import seaborn as sns\n",
    "%matplotlib inline\n",
    "\n",
    "from sklearn import preprocessing\n",
    "from sklearn.utils import class_weight\n",
    "from sklearn.preprocessing import LabelEncoder\n",
    "from sklearn.preprocessing import OneHotEncoder\n",
    "from sklearn.model_selection import cross_val_predict\n",
    "from sklearn.model_selection import cross_validate, cross_val_score\n",
    "from sklearn.metrics import precision_recall_fscore_support, accuracy_score\n",
    "from sklearn.feature_selection import chi2, SelectKBest, SelectPercentile, mutual_info_classif, RFE, RFECV, SelectFromModel\n",
    "from sklearn.pipeline import Pipeline\n",
    "from sklearn.model_selection import train_test_split\n",
    "\n",
    "from sklearn import neighbors\n",
    "from sklearn import svm\n",
    "from sklearn.tree import DecisionTreeClassifier\n",
    "from sklearn.ensemble import RandomForestClassifier\n",
    "from sklearn.ensemble import BaggingClassifier\n",
    "from sklearn.ensemble import AdaBoostClassifier\n",
    "from sklearn.ensemble import GradientBoostingClassifier\n",
    "from sklearn.naive_bayes import GaussianNB\n",
    "from sklearn.naive_bayes import BernoulliNB\n",
    "from sklearn.experimental import enable_hist_gradient_boosting\n",
    "from sklearn.ensemble import HistGradientBoostingClassifier\n",
    "from sklearn import metrics\n",
    "from sklearn.linear_model import LogisticRegression\n",
    "\n",
    "from sklearn.model_selection import TimeSeriesSplit\n",
    "from sklearn.model_selection import KFold\n",
    "from sklearn.model_selection import StratifiedKFold\n",
    "\n",
    "from imblearn.over_sampling import SMOTE\n",
    "\n",
    "import tensorflow as tf\n",
    "from tensorflow.keras.models import Sequential\n",
    "from tensorflow.keras.layers import Dense,Activation,Dropout\n",
    "from tensorflow.keras.wrappers.scikit_learn import KerasClassifier\n",
    "from keras.utils import np_utils\n",
    "\n",
    "import functions\n",
    "import importlib\n",
    "importlib.reload(functions)\n",
    "\n",
    "import warnings\n",
    "warnings.filterwarnings(\"ignore\")\n",
    "\n",
    "pd.set_option('display.max_columns', None)"
   ]
  },
  {
   "cell_type": "markdown",
   "metadata": {},
   "source": [
    "#### Load Data"
   ]
  },
  {
   "cell_type": "code",
   "execution_count": 10,
   "metadata": {
    "execution": {
     "iopub.execute_input": "2021-02-04T09:41:30.799655Z",
     "iopub.status.busy": "2021-02-04T09:41:30.799359Z",
     "iopub.status.idle": "2021-02-04T09:41:30.841905Z",
     "shell.execute_reply": "2021-02-04T09:41:30.837408Z",
     "shell.execute_reply.started": "2021-02-04T09:41:30.799615Z"
    }
   },
   "outputs": [
    {
     "data": {
      "text/plain": [
       "<module 'functions' from '/Users/LV/Documents/GitHub/Seminar-QM-BA/functions.py'>"
      ]
     },
     "execution_count": 10,
     "metadata": {},
     "output_type": "execute_result"
    }
   ],
   "source": [
    "importlib.reload(functions)"
   ]
  },
  {
   "cell_type": "code",
   "execution_count": 2,
   "metadata": {
    "execution": {
     "iopub.execute_input": "2021-02-04T09:29:20.470412Z",
     "iopub.status.busy": "2021-02-04T09:29:20.469605Z",
     "iopub.status.idle": "2021-02-04T09:31:04.706105Z",
     "shell.execute_reply": "2021-02-04T09:31:04.703509Z",
     "shell.execute_reply.started": "2021-02-04T09:29:20.470364Z"
    },
    "jupyter": {
     "source_hidden": true
    }
   },
   "outputs": [],
   "source": [
    "df = pd.read_csv('/Users/LV/Desktop/data_bol_complete.csv', low_memory = True)"
   ]
  },
  {
   "cell_type": "code",
   "execution_count": 3,
   "metadata": {
    "execution": {
     "iopub.execute_input": "2021-02-04T09:31:04.712362Z",
     "iopub.status.busy": "2021-02-04T09:31:04.712035Z",
     "iopub.status.idle": "2021-02-04T09:31:24.863137Z",
     "shell.execute_reply": "2021-02-04T09:31:24.861750Z",
     "shell.execute_reply.started": "2021-02-04T09:31:04.712329Z"
    },
    "jupyter": {
     "source_hidden": true
    }
   },
   "outputs": [],
   "source": [
    "df['orderDate']                   = pd.to_datetime(df['orderDate'])\n",
    "df['cancellationDate']            = pd.to_datetime(df['cancellationDate'])\n",
    "df['promisedDeliveryDate']        = pd.to_datetime(df['promisedDeliveryDate'])\n",
    "df['shipmentDate']                = pd.to_datetime(df['shipmentDate'])\n",
    "df['dateTimeFirstDeliveryMoment'] = pd.to_datetime(df['dateTimeFirstDeliveryMoment'])\n",
    "df['startDateCase']               = pd.to_datetime(df['startDateCase'])\n",
    "df['returnDateTime']              = pd.to_datetime(df['returnDateTime'])\n",
    "df['registrationDateSeller']      = pd.to_datetime(df['registrationDateSeller'])"
   ]
  },
  {
   "cell_type": "code",
   "execution_count": 4,
   "metadata": {
    "execution": {
     "iopub.execute_input": "2021-02-04T09:33:56.757117Z",
     "iopub.status.busy": "2021-02-04T09:33:56.756830Z",
     "iopub.status.idle": "2021-02-04T09:33:56.775874Z",
     "shell.execute_reply": "2021-02-04T09:33:56.773843Z",
     "shell.execute_reply.started": "2021-02-04T09:33:56.757090Z"
    }
   },
   "outputs": [],
   "source": [
    "#Fixed Columns:\n",
    "DATE = ['orderDate']\n",
    "BASIC = ['totalPrice','quantityOrdered','fulfilmentByBol','countryCodeNL','countryOriginNL','countryOriginBE',\n",
    "        'countryOriginDE','productTitleLength','promisedDeliveryDays','partnerSellingDays', 'orderCorona']\n",
    "WEEK = ['orderMonday','orderTuesday','orderWednesday','orderThursday','orderFriday','orderSaturday','orderSunday']\n",
    "MONTH = ['orderJanuary','orderFebruary','orderMarch','orderApril','orderMay','orderJune',\n",
    "         'orderJuly','orderAugust','orderSeptember','orderOctober','orderNovember','orderDecember']\n",
    "YEAR = ['orderYear2020']\n",
    "GROUP = ['groupHealth','groupHome','groupSports','groupComputer','groupPets','groupToys','groupBooks', \n",
    "         'groupBaby', 'groupMusic', 'groupFood','groupOffice','groupFashion','groupOther','groupCar']\n",
    "\n",
    "#Dynamic Columns:\n",
    "TRANSPORTERX = ['transporterPOSTNL/X','transporterDHL/X','transporterDPD/X','transporterBRIEF/X','transporterOTHER/X']\n",
    "KNOWNX = ['caseKnownX','returnKnownX','cancellationKnownX','onTimeDeliveryKnownX','lateDeliveryKnownX']\n",
    "PRODUCTX = ['productOrderCountX','productTotalCountX','productTotalReturnedX','productReturnFractionX']\n",
    "SELLERX = ['sellerDailyOrdersX']\n",
    "HISTORICX = []\n",
    "historic_variable = ['transporterCode','sellerId','productGroup']\n",
    "for x in range(len(historic_variable)):\n",
    "    HISTORICX = HISTORICX + [historic_variable[x]+'HistoricHappyX',historic_variable[x]+'HistoricUnhappyX',historic_variable[x]+'HistoricUnknownX']\n",
    "\n",
    "#Determinants\n",
    "DETERMINANT = ['noReturn', 'noCase', 'noCancellation', 'onTimeDelivery']\n",
    "\n",
    "#Classifications\n",
    "CLASSIFICATION = ['generalMatchClassification','detailedMatchClassification','binaryMatchClassification','determinantClassification']"
   ]
  },
  {
   "cell_type": "code",
   "execution_count": 267,
   "metadata": {
    "execution": {
     "iopub.execute_input": "2021-02-04T16:38:39.879066Z",
     "iopub.status.busy": "2021-02-04T16:38:39.878808Z",
     "iopub.status.idle": "2021-02-04T16:38:47.597314Z",
     "shell.execute_reply": "2021-02-04T16:38:47.596039Z",
     "shell.execute_reply.started": "2021-02-04T16:38:39.879040Z"
    }
   },
   "outputs": [],
   "source": [
    "X_col = BASIC + WEEK + MONTH + YEAR + GROUP + TRANSPORTERX + KNOWNX + PRODUCTX + SELLERX + HISTORICX\n",
    "Y_col = ['generalMatchClassification','detailedMatchClassification','binaryMatchClassification']\n",
    "\n",
    "df_ = df.sample(n = 1000000, replace = False, random_state = 1)"
   ]
  },
  {
   "cell_type": "code",
   "execution_count": 268,
   "metadata": {
    "execution": {
     "iopub.execute_input": "2021-02-04T16:38:47.600083Z",
     "iopub.status.busy": "2021-02-04T16:38:47.599637Z",
     "iopub.status.idle": "2021-02-04T16:39:58.616694Z",
     "shell.execute_reply": "2021-02-04T16:39:58.614070Z",
     "shell.execute_reply.started": "2021-02-04T16:38:47.600040Z"
    }
   },
   "outputs": [],
   "source": [
    "X, y = functions.dataX(df_, DATE, X_col, Y_col, historic_variable, 0)\n",
    "X_train, X_test, y_train, y_test = train_test_split(X, y, test_size=0.2, random_state=0, shuffle=False)"
   ]
  },
  {
   "cell_type": "markdown",
   "metadata": {},
   "source": [
    "#### Hierarchical Classification Models"
   ]
  },
  {
   "cell_type": "code",
   "execution_count": 269,
   "metadata": {
    "execution": {
     "iopub.execute_input": "2021-02-04T16:39:58.634764Z",
     "iopub.status.busy": "2021-02-04T16:39:58.634185Z",
     "iopub.status.idle": "2021-02-04T16:40:24.373273Z",
     "shell.execute_reply": "2021-02-04T16:40:24.371598Z",
     "shell.execute_reply.started": "2021-02-04T16:39:58.634698Z"
    },
    "jupyter": {
     "source_hidden": true
    }
   },
   "outputs": [],
   "source": [
    "def addHierarchyLayer(X,y,classifier):\n",
    "    \n",
    "    clf = classifier.fit(X, y)\n",
    "    prediction = clf.predict(X)\n",
    "    #prediction = clf.predict_proba(X)\n",
    "    \n",
    "    return pd.Series(prediction)\n",
    "\n",
    "layer1 = addHierarchyLayer(X,y['binaryMatchClassification'],LogisticRegression(random_state=0))"
   ]
  },
  {
   "cell_type": "code",
   "execution_count": 270,
   "metadata": {
    "execution": {
     "iopub.execute_input": "2021-02-04T16:40:24.380581Z",
     "iopub.status.busy": "2021-02-04T16:40:24.380209Z",
     "iopub.status.idle": "2021-02-04T16:40:24.397155Z",
     "shell.execute_reply": "2021-02-04T16:40:24.395301Z",
     "shell.execute_reply.started": "2021-02-04T16:40:24.380542Z"
    }
   },
   "outputs": [],
   "source": [
    "# classifier1 = LogisticRegression(random_state=0, class_weight='balanced')\n",
    "# classifier2 = LogisticRegression(random_state=0, class_weight='balanced')\n",
    "# classifier3 = LogisticRegression(random_state=0, class_weight='balanced')\n",
    "\n",
    "classifier1 = RandomForestClassifier(random_state=0, class_weight='balanced', n_estimators = 10)\n",
    "classifier2 = RandomForestClassifier(random_state=0, class_weight='balanced', n_estimators = 10)\n",
    "classifier3 = RandomForestClassifier(random_state=0, class_weight='balanced', n_estimators = 10)"
   ]
  },
  {
   "cell_type": "code",
   "execution_count": 271,
   "metadata": {
    "execution": {
     "iopub.execute_input": "2021-02-04T16:40:24.403820Z",
     "iopub.status.busy": "2021-02-04T16:40:24.402545Z",
     "iopub.status.idle": "2021-02-04T16:41:35.373058Z",
     "shell.execute_reply": "2021-02-04T16:41:35.372232Z",
     "shell.execute_reply.started": "2021-02-04T16:40:24.403769Z"
    }
   },
   "outputs": [],
   "source": [
    "# Train Model\n",
    "\n",
    "X_train_1 = X_train\n",
    "y_train_1 = y_train['binaryMatchClassification']\n",
    "\n",
    "clf1 = classifier1.fit(X_train_1, y_train_1)\n",
    "#predictions['predLayer1'] = clf1.predict(X_1)\n",
    "\n",
    "#-------------------------------------------------------------------------------------------\n",
    "\n",
    "#index = predictions.loc[(predictions['predLayer1'] == 'KNOWN') & (predictions['generalMatchClassification'] != 'UNKNOWN')].index\n",
    "index_train_2 = y_train.loc[(y_train['binaryMatchClassification'] == 'KNOWN')].index\n",
    "X_train_2 = X_train.loc[index_train_2]\n",
    "y_train_2 = y_train['generalMatchClassification'].loc[index_train_2]\n",
    "\n",
    "clf2 = classifier2.fit(X_train_2, y_train_2)\n",
    "#predictions.loc[index, 'predLayer2'] = clf2.predict(X_2)\n",
    "\n",
    "#-------------------------------------------------------------------------------------------\n",
    "\n",
    "#index = predictions.loc[(predictions['predLayer2'] == 'UNHAPPY') & (predictions['generalMatchClassification'] == 'UNHAPPY')].index\n",
    "index_train_3 = y_train.loc[(y_train['generalMatchClassification'] == 'UNHAPPY')].index\n",
    "X_train_3 = X_train.loc[index_train_3]\n",
    "y_train_3 = y_train['detailedMatchClassification'].loc[index_train_3]\n",
    "\n",
    "clf3 = classifier3.fit(X_train_3, y_train_3)\n",
    "#predictions.loc[index, 'predLayer3'] = clf3.predict(X_3)"
   ]
  },
  {
   "cell_type": "code",
   "execution_count": 272,
   "metadata": {
    "execution": {
     "iopub.execute_input": "2021-02-04T16:41:35.374905Z",
     "iopub.status.busy": "2021-02-04T16:41:35.374454Z",
     "iopub.status.idle": "2021-02-04T16:41:37.684460Z",
     "shell.execute_reply": "2021-02-04T16:41:37.683491Z",
     "shell.execute_reply.started": "2021-02-04T16:41:35.374856Z"
    }
   },
   "outputs": [],
   "source": [
    "# Test Model\n",
    "predictions = y_test[:]\n",
    "\n",
    "X_test_1 = X_test\n",
    "\n",
    "predictions['predLayer1'] = clf1.predict(X_test_1)\n",
    "\n",
    "#-------------------------------------------------------------------------------------------\n",
    "\n",
    "index_test_2 = predictions.loc[(predictions['predLayer1'] == 'KNOWN')].index\n",
    "X_test_2 = X_test.loc[index_test_2]\n",
    "\n",
    "predictions.loc[index_test_2, 'predLayer2'] = clf2.predict(X_test_2)\n",
    "\n",
    "#-------------------------------------------------------------------------------------------\n",
    "\n",
    "index_test_3 = predictions.loc[(predictions['predLayer2'] == 'UNHAPPY')].index\n",
    "X_test_3 = X_test.loc[index_test_3]\n",
    "\n",
    "predictions.loc[index_test_3, 'predLayer3'] = clf3.predict(X_test_3)"
   ]
  },
  {
   "cell_type": "code",
   "execution_count": 273,
   "metadata": {
    "execution": {
     "iopub.execute_input": "2021-02-04T16:41:37.687548Z",
     "iopub.status.busy": "2021-02-04T16:41:37.687263Z",
     "iopub.status.idle": "2021-02-04T16:41:44.269094Z",
     "shell.execute_reply": "2021-02-04T16:41:44.268131Z",
     "shell.execute_reply.started": "2021-02-04T16:41:37.687519Z"
    }
   },
   "outputs": [
    {
     "name": "stdout",
     "output_type": "stream",
     "text": [
      "              precision    recall  f1-score   support\n",
      "\n",
      "       HAPPY       0.83      0.99      0.90    111157\n",
      "     UNHAPPY       0.24      0.06      0.09     23717\n",
      "     UNKNOWN       0.90      0.86      0.88     65126\n",
      "\n",
      "    accuracy                           0.84    200000\n",
      "   macro avg       0.66      0.64      0.63    200000\n",
      "weighted avg       0.78      0.84      0.80    200000\n",
      "\n"
     ]
    }
   ],
   "source": [
    "# Metrics\n",
    "predictions['generalMatchClassificationPrediction'] = predictions['predLayer2'].fillna('UNKNOWN')\n",
    "\n",
    "print(metrics.classification_report(predictions['generalMatchClassification'], predictions['generalMatchClassificationPrediction']))"
   ]
  },
  {
   "cell_type": "code",
   "execution_count": 185,
   "metadata": {
    "execution": {
     "iopub.execute_input": "2021-02-04T15:21:41.807505Z",
     "iopub.status.busy": "2021-02-04T15:21:41.805455Z",
     "iopub.status.idle": "2021-02-04T15:21:43.075885Z",
     "shell.execute_reply": "2021-02-04T15:21:43.042147Z",
     "shell.execute_reply.started": "2021-02-04T15:21:41.807438Z"
    }
   },
   "outputs": [
    {
     "data": {
      "text/plain": [
       "HAPPY      257058\n",
       "UNHAPPY     38068\n",
       "UNKNOWN     10726\n",
       "Name: generalMatchClassification, dtype: int64"
      ]
     },
     "execution_count": 185,
     "metadata": {},
     "output_type": "execute_result"
    }
   ],
   "source": [
    "index_test_2 = predictions.loc[(predictions['predLayer1'] == 'KNOWN')].index\n",
    "y.loc[index_test_2, 'generalMatchClassification'].value_counts()"
   ]
  },
  {
   "cell_type": "code",
   "execution_count": 134,
   "metadata": {
    "execution": {
     "iopub.execute_input": "2021-02-04T14:27:52.128744Z",
     "iopub.status.busy": "2021-02-04T14:27:52.128353Z",
     "iopub.status.idle": "2021-02-04T14:27:52.205010Z",
     "shell.execute_reply": "2021-02-04T14:27:52.195999Z",
     "shell.execute_reply.started": "2021-02-04T14:27:52.128702Z"
    }
   },
   "outputs": [
    {
     "data": {
      "text/plain": [
       "KNOWN MILDLY UNHAPPY     49049\n",
       "KNOWN MEDIUM UNHAPPY     13320\n",
       "KNOWN HEAVILY UNHAPPY     4222\n",
       "Name: predLayer3, dtype: int64"
      ]
     },
     "execution_count": 134,
     "metadata": {},
     "output_type": "execute_result"
    }
   ],
   "source": [
    "predictions['predLayer3'].value_counts()"
   ]
  },
  {
   "cell_type": "code",
   "execution_count": 135,
   "metadata": {
    "execution": {
     "iopub.execute_input": "2021-02-04T14:28:34.553676Z",
     "iopub.status.busy": "2021-02-04T14:28:34.553428Z",
     "iopub.status.idle": "2021-02-04T14:28:34.618891Z",
     "shell.execute_reply": "2021-02-04T14:28:34.617422Z",
     "shell.execute_reply.started": "2021-02-04T14:28:34.553652Z"
    }
   },
   "outputs": [
    {
     "data": {
      "text/plain": [
       "KNOWN HAPPY              281236\n",
       "UNKNOWN                  158712\n",
       "KNOWN MILDLY UNHAPPY      43535\n",
       "KNOWN MEDIUM UNHAPPY      10216\n",
       "KNOWN HEAVILY UNHAPPY      6301\n",
       "Name: detailedMatchClassification, dtype: int64"
      ]
     },
     "execution_count": 135,
     "metadata": {},
     "output_type": "execute_result"
    }
   ],
   "source": [
    "predictions['detailedMatchClassification'].value_counts()"
   ]
  },
  {
   "cell_type": "code",
   "execution_count": 137,
   "metadata": {
    "execution": {
     "iopub.execute_input": "2021-02-04T14:29:15.987980Z",
     "iopub.status.busy": "2021-02-04T14:29:15.987688Z",
     "iopub.status.idle": "2021-02-04T14:29:16.071733Z",
     "shell.execute_reply": "2021-02-04T14:29:16.070411Z",
     "shell.execute_reply.started": "2021-02-04T14:29:15.987950Z"
    }
   },
   "outputs": [
    {
     "data": {
      "text/plain": [
       "HAPPY      281236\n",
       "UNKNOWN    158712\n",
       "UNHAPPY     60052\n",
       "Name: generalMatchClassification, dtype: int64"
      ]
     },
     "execution_count": 137,
     "metadata": {},
     "output_type": "execute_result"
    }
   ],
   "source": [
    "predictions['generalMatchClassification'].value_counts()"
   ]
  }
 ],
 "metadata": {
  "kernelspec": {
   "display_name": "Python 3",
   "language": "python",
   "name": "python3"
  },
  "language_info": {
   "codemirror_mode": {
    "name": "ipython",
    "version": 3
   },
   "file_extension": ".py",
   "mimetype": "text/x-python",
   "name": "python",
   "nbconvert_exporter": "python",
   "pygments_lexer": "ipython3",
   "version": "3.8.5"
  }
 },
 "nbformat": 4,
 "nbformat_minor": 4
}
