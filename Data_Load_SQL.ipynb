{
 "cells": [
  {
   "cell_type": "code",
   "execution_count": 1,
   "metadata": {},
   "outputs": [],
   "source": [
    "import pandas as pd\n",
    "import pyodbc as py\n",
    "connection_string = (    \n",
    "    r'Driver={SQL Server};'\n",
    "    r'Server=LAPTOP-LD74USH0\\SQLEXPRESS;'\n",
    "    r'Integrated Security=SSPI;'\n",
    "    r'Trusted_Connection=yes;'\n",
    ")\n",
    "pd.set_option('display.max_columns', None)"
   ]
  },
  {
   "cell_type": "code",
   "execution_count": 2,
   "metadata": {},
   "outputs": [],
   "source": [
    "def sql2df(query, params=[], parse_dates=None, dsn='SQLEXPRESS'):\n",
    "        with py.connect(connection_string, readonly=True) as conn:\n",
    "            return pd.read_sql(query, conn, params=params, parse_dates=parse_dates)"
   ]
  },
  {
   "cell_type": "code",
   "execution_count": 3,
   "metadata": {},
   "outputs": [],
   "source": [
    "df = sql2df('''\n",
    "SELECT * FROM Seminar.dbo.cleaned_bol_data_full;\n",
    "''')"
   ]
  },
  {
   "cell_type": "code",
   "execution_count": 4,
   "metadata": {},
   "outputs": [
    {
     "name": "stdout",
     "output_type": "stream",
     "text": [
      "<class 'pandas.core.frame.DataFrame'>\n",
      "RangeIndex: 4772950 entries, 0 to 4772949\n",
      "Data columns (total 77 columns):\n",
      " #   Column                            Dtype         \n",
      "---  ------                            -----         \n",
      " 0   orderDate                         object        \n",
      " 1   productId                         object        \n",
      " 2   sellerId                          object        \n",
      " 3   totalPrice                        float64       \n",
      " 4   quantityOrdered                   int64         \n",
      " 5   countryCode                       object        \n",
      " 6   cancellationDate                  object        \n",
      " 7   cancellationReasonCode            object        \n",
      " 8   promisedDeliveryDate              object        \n",
      " 9   shipmentDate                      object        \n",
      " 10  transporterCode                   object        \n",
      " 11  transporterName                   object        \n",
      " 12  transporterNameOther              object        \n",
      " 13  dateTimeFirstDeliveryMoment       datetime64[ns]\n",
      " 14  fulfilmentType                    object        \n",
      " 15  startDateCase                     object        \n",
      " 16  cntDistinctCaseIds                float64       \n",
      " 17  returnDateTime                    object        \n",
      " 18  quantityReturned                  float64       \n",
      " 19  returnCode                        object        \n",
      " 20  productTitle                      object        \n",
      " 21  brickName                         object        \n",
      " 22  chunkName                         object        \n",
      " 23  productGroup                      object        \n",
      " 24  productSubGroup                   object        \n",
      " 25  productSubSubGroup                object        \n",
      " 26  registrationDateSeller            object        \n",
      " 27  countryOriginSeller               object        \n",
      " 28  currentCountryAvailabilitySeller  object        \n",
      " 29  calculationDefinitive             bool          \n",
      " 30  noCancellation                    bool          \n",
      " 31  onTimeDelivery                    object        \n",
      " 32  noCase                            bool          \n",
      " 33  hasOneCase                        bool          \n",
      " 34  hasMoreCases                      bool          \n",
      " 35  noReturn                          bool          \n",
      " 36  detailedMatchClassification       object        \n",
      " 37  generalMatchClassification        object        \n",
      " 38  determinantClassification         object        \n",
      " 39  orderYear                         int64         \n",
      " 40  orderMonth                        object        \n",
      " 41  orderYearMonth                    object        \n",
      " 42  orderWeekday                      int64         \n",
      " 43  orderWeekend                      int64         \n",
      " 44  orderCorona                       object        \n",
      " 45  transporterFeature                object        \n",
      " 46  partnerSellingMonths              int64         \n",
      " 47  cancellationDays                  float64       \n",
      " 48  shipmentDays                      float64       \n",
      " 49  promisedDeliveryDays              int64         \n",
      " 50  actualDeliveryDays                float64       \n",
      " 51  caseDays                          float64       \n",
      " 52  returnDays                        float64       \n",
      " 53  countryCodeNL                     int64         \n",
      " 54  fulfilmentByBol                   int64         \n",
      " 55  countryOriginNL                   int64         \n",
      " 56  countryOriginBE                   int64         \n",
      " 57  countryOriginDE                   int64         \n",
      " 58  orderMonday                       int64         \n",
      " 59  orderTuesday                      int64         \n",
      " 60  orderWednesday                    int64         \n",
      " 61  orderThursday                     int64         \n",
      " 62  orderFriday                       int64         \n",
      " 63  orderSaturday                     int64         \n",
      " 64  orderSunday                       int64         \n",
      " 65  orderJanuary                      int64         \n",
      " 66  orderFebruary                     int64         \n",
      " 67  orderMarch                        int64         \n",
      " 68  orderApril                        int64         \n",
      " 69  orderMay                          int64         \n",
      " 70  orderJune                         int64         \n",
      " 71  orderJuly                         int64         \n",
      " 72  orderAugust                       int64         \n",
      " 73  orderSeptember                    int64         \n",
      " 74  orderOctober                      int64         \n",
      " 75  orderNovember                     int64         \n",
      " 76  orderDecember                     int64         \n",
      "dtypes: bool(6), datetime64[ns](1), float64(8), int64(30), object(32)\n",
      "memory usage: 2.6+ GB\n"
     ]
    }
   ],
   "source": [
    "df.info()"
   ]
  },
  {
   "cell_type": "code",
   "execution_count": 5,
   "metadata": {},
   "outputs": [
    {
     "data": {
      "text/plain": [
       "orderDate          datetime64[ns]\n",
       "productId                  object\n",
       "sellerId                   object\n",
       "totalPrice                float64\n",
       "quantityOrdered             int64\n",
       "                        ...      \n",
       "orderAugust                  bool\n",
       "orderSeptember               bool\n",
       "orderOctober                 bool\n",
       "orderNovember                bool\n",
       "orderDecember                bool\n",
       "Length: 77, dtype: object"
      ]
     },
     "execution_count": 5,
     "metadata": {},
     "output_type": "execute_result"
    }
   ],
   "source": [
    "#Change type of columns\n",
    "dtype = {'calculationDefinitive': bool,\n",
    "         'noCancellation': bool,\n",
    "         'noCase': bool,\n",
    "         'hasOneCase': bool,\n",
    "         'hasMoreCases': bool,\n",
    "         'noReturn': bool,\n",
    "         'orderWeekend': bool,\n",
    "         'orderCorona': bool,\n",
    "         'countryCodeNL': bool,\n",
    "         'fulfilmentByBol': bool,\n",
    "         'countryOriginNL': bool,\n",
    "         'countryOriginBE': bool,\n",
    "         'countryOriginDE': bool,\n",
    "         'orderMonday': bool,\n",
    "         'orderTuesday': bool,\n",
    "         'orderWednesday': bool,\n",
    "         'orderThursday': bool,\n",
    "         'orderFriday': bool,\n",
    "         'orderSaturday': bool,\n",
    "         'orderSunday': bool,\n",
    "         'orderJanuary': bool,\n",
    "         'orderFebruary': bool,\n",
    "         'orderMarch': bool,\n",
    "         'orderApril': bool,\n",
    "         'orderMay': bool,\n",
    "         'orderJune': bool,\n",
    "         'orderJuly': bool,\n",
    "         'orderAugust': bool,\n",
    "         'orderSeptember': bool,\n",
    "         'orderOctober': bool,\n",
    "         'orderNovember': bool,\n",
    "         'orderDecember': bool}\n",
    "\n",
    "df = df.astype(dtype)\n",
    "\n",
    "#Transform dates to date-type\n",
    "df['orderDate'] = pd.to_datetime(df['orderDate'])\n",
    "df['cancellationDate'] = pd.to_datetime(df['cancellationDate'])\n",
    "df['promisedDeliveryDate'] = pd.to_datetime(df['promisedDeliveryDate'])\n",
    "df['shipmentDate'] = pd.to_datetime(df['shipmentDate'])\n",
    "df['dateTimeFirstDeliveryMoment'] = pd.to_datetime(df['dateTimeFirstDeliveryMoment'])\n",
    "df['startDateCase'] = pd.to_datetime(df['startDateCase'])\n",
    "df['returnDateTime'] = pd.to_datetime(df['returnDateTime'])\n",
    "df['registrationDateSeller'] = pd.to_datetime(df['registrationDateSeller'])\n",
    "\n",
    "df.dtypes"
   ]
  },
  {
   "cell_type": "code",
   "execution_count": null,
   "metadata": {},
   "outputs": [],
   "source": []
  }
 ],
 "metadata": {
  "kernelspec": {
   "display_name": "Python 3",
   "language": "python",
   "name": "python3"
  },
  "language_info": {
   "codemirror_mode": {
    "name": "ipython",
    "version": 3
   },
   "file_extension": ".py",
   "mimetype": "text/x-python",
   "name": "python",
   "nbconvert_exporter": "python",
   "pygments_lexer": "ipython3",
   "version": "3.8.3"
  }
 },
 "nbformat": 4,
 "nbformat_minor": 4
}
