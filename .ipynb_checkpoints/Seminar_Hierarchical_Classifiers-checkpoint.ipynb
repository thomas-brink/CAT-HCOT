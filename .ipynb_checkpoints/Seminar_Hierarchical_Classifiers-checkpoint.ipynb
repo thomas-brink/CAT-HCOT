{
 "cells": [
  {
   "cell_type": "code",
   "execution_count": 245,
   "metadata": {
    "execution": {
     "iopub.execute_input": "2021-02-04T16:20:38.879093Z",
     "iopub.status.busy": "2021-02-04T16:20:38.878616Z",
     "iopub.status.idle": "2021-02-04T16:20:38.915850Z",
     "shell.execute_reply": "2021-02-04T16:20:38.915092Z",
     "shell.execute_reply.started": "2021-02-04T16:20:38.879038Z"
    },
    "jupyter": {
     "source_hidden": true
    }
   },
   "outputs": [],
   "source": [
    "import pandas as pd\n",
    "import numpy as np\n",
    "import pyodbc as py\n",
    "\n",
    "from datetime import date, timedelta, datetime\n",
    "import time\n",
    "\n",
    "import matplotlib.pyplot as plt\n",
    "import seaborn as sns\n",
    "%matplotlib inline\n",
    "\n",
    "from sklearn import preprocessing\n",
    "from sklearn.utils import class_weight\n",
    "from sklearn.preprocessing import LabelEncoder\n",
    "from sklearn.preprocessing import OneHotEncoder\n",
    "from sklearn.model_selection import cross_val_predict\n",
    "from sklearn.model_selection import cross_validate, cross_val_score\n",
    "from sklearn.metrics import precision_recall_fscore_support, accuracy_score\n",
    "from sklearn.feature_selection import chi2, SelectKBest, SelectPercentile, mutual_info_classif, RFE, RFECV, SelectFromModel\n",
    "from sklearn.pipeline import Pipeline\n",
    "from sklearn.model_selection import train_test_split\n",
    "\n",
    "from sklearn import neighbors\n",
    "from sklearn import svm\n",
    "from sklearn.tree import DecisionTreeClassifier\n",
    "from sklearn.ensemble import RandomForestClassifier\n",
    "from sklearn.ensemble import BaggingClassifier\n",
    "from sklearn.ensemble import AdaBoostClassifier\n",
    "from sklearn.ensemble import GradientBoostingClassifier\n",
    "from sklearn.naive_bayes import GaussianNB\n",
    "from sklearn.naive_bayes import BernoulliNB\n",
    "from sklearn.experimental import enable_hist_gradient_boosting\n",
    "from sklearn.ensemble import HistGradientBoostingClassifier\n",
    "from sklearn import metrics\n",
    "from sklearn.linear_model import LogisticRegression\n",
    "\n",
    "from sklearn.model_selection import TimeSeriesSplit\n",
    "from sklearn.model_selection import KFold\n",
    "from sklearn.model_selection import StratifiedKFold\n",
    "\n",
    "from imblearn.over_sampling import SMOTE\n",
    "\n",
    "import tensorflow as tf\n",
    "from tensorflow.keras.models import Sequential\n",
    "from tensorflow.keras.layers import Dense,Activation,Dropout\n",
    "from tensorflow.keras.wrappers.scikit_learn import KerasClassifier\n",
    "from keras.utils import np_utils\n",
    "\n",
    "import functions\n",
    "import importlib\n",
    "importlib.reload(functions)\n",
    "\n",
    "import warnings\n",
    "warnings.filterwarnings(\"ignore\")\n",
    "\n",
    "pd.set_option('display.max_columns', None)"
   ]
  },
  {
   "cell_type": "markdown",
   "metadata": {},
   "source": [
    "#### Load Data"
   ]
  },
  {
   "cell_type": "code",
   "execution_count": 10,
   "metadata": {
    "execution": {
     "iopub.execute_input": "2021-02-04T09:41:30.799655Z",
     "iopub.status.busy": "2021-02-04T09:41:30.799359Z",
     "iopub.status.idle": "2021-02-04T09:41:30.841905Z",
     "shell.execute_reply": "2021-02-04T09:41:30.837408Z",
     "shell.execute_reply.started": "2021-02-04T09:41:30.799615Z"
    }
   },
   "outputs": [
    {
     "data": {
      "text/plain": [
       "<module 'functions' from '/Users/LV/Documents/GitHub/Seminar-QM-BA/functions.py'>"
      ]
     },
     "execution_count": 10,
     "metadata": {},
     "output_type": "execute_result"
    }
   ],
   "source": [
    "importlib.reload(functions)"
   ]
  },
  {
   "cell_type": "code",
   "execution_count": 2,
   "metadata": {
    "execution": {
     "iopub.execute_input": "2021-02-04T09:29:20.470412Z",
     "iopub.status.busy": "2021-02-04T09:29:20.469605Z",
     "iopub.status.idle": "2021-02-04T09:31:04.706105Z",
     "shell.execute_reply": "2021-02-04T09:31:04.703509Z",
     "shell.execute_reply.started": "2021-02-04T09:29:20.470364Z"
    },
    "jupyter": {
     "source_hidden": true
    }
   },
   "outputs": [],
   "source": [
    "df = pd.read_csv('/Users/LV/Desktop/data_bol_complete.csv', low_memory = True)"
   ]
  },
  {
   "cell_type": "code",
   "execution_count": 3,
   "metadata": {
    "execution": {
     "iopub.execute_input": "2021-02-04T09:31:04.712362Z",
     "iopub.status.busy": "2021-02-04T09:31:04.712035Z",
     "iopub.status.idle": "2021-02-04T09:31:24.863137Z",
     "shell.execute_reply": "2021-02-04T09:31:24.861750Z",
     "shell.execute_reply.started": "2021-02-04T09:31:04.712329Z"
    },
    "jupyter": {
     "source_hidden": true
    }
   },
   "outputs": [],
   "source": [
    "df['orderDate']                   = pd.to_datetime(df['orderDate'])\n",
    "df['cancellationDate']            = pd.to_datetime(df['cancellationDate'])\n",
    "df['promisedDeliveryDate']        = pd.to_datetime(df['promisedDeliveryDate'])\n",
    "df['shipmentDate']                = pd.to_datetime(df['shipmentDate'])\n",
    "df['dateTimeFirstDeliveryMoment'] = pd.to_datetime(df['dateTimeFirstDeliveryMoment'])\n",
    "df['startDateCase']               = pd.to_datetime(df['startDateCase'])\n",
    "df['returnDateTime']              = pd.to_datetime(df['returnDateTime'])\n",
    "df['registrationDateSeller']      = pd.to_datetime(df['registrationDateSeller'])"
   ]
  },
  {
   "cell_type": "code",
   "execution_count": null,
   "metadata": {
    "jupyter": {
     "source_hidden": true
    }
   },
   "outputs": [],
   "source": [
    "df['detailedMatchClassification'] = df['detailedMatchClassification'].replace({'KNOWN HAPPY':'HAPPY',\n",
    "                                                                               'KNOWN MILDLY UNHAPPY':'MILDLY UNHAPPY',\n",
    "                                                                               'KNOWN MEDIUM UNHAPPY':'MEDIUM UNHAPPY',\n",
    "                                                                               'KNOWN HEAVILY UNHAPPY':'HEAVILY UNHAPPY'})"
   ]
  },
  {
   "cell_type": "code",
   "execution_count": 4,
   "metadata": {
    "execution": {
     "iopub.execute_input": "2021-02-04T09:33:56.757117Z",
     "iopub.status.busy": "2021-02-04T09:33:56.756830Z",
     "iopub.status.idle": "2021-02-04T09:33:56.775874Z",
     "shell.execute_reply": "2021-02-04T09:33:56.773843Z",
     "shell.execute_reply.started": "2021-02-04T09:33:56.757090Z"
    }
   },
   "outputs": [],
   "source": [
    "#Fixed Columns:\n",
    "DATE = ['orderDate']\n",
    "BASIC = ['totalPrice','quantityOrdered','fulfilmentByBol','countryCodeNL','countryOriginNL','countryOriginBE',\n",
    "        'countryOriginDE','productTitleLength','promisedDeliveryDays','partnerSellingDays', 'orderCorona']\n",
    "WEEK = ['orderMonday','orderTuesday','orderWednesday','orderThursday','orderFriday','orderSaturday','orderSunday']\n",
    "MONTH = ['orderJanuary','orderFebruary','orderMarch','orderApril','orderMay','orderJune',\n",
    "         'orderJuly','orderAugust','orderSeptember','orderOctober','orderNovember','orderDecember']\n",
    "YEAR = ['orderYear2020']\n",
    "GROUP = ['groupHealth','groupHome','groupSports','groupComputer','groupPets','groupToys','groupBooks', \n",
    "         'groupBaby', 'groupMusic', 'groupFood','groupOffice','groupFashion','groupOther','groupCar']\n",
    "\n",
    "#Dynamic Columns:\n",
    "TRANSPORTERX = ['transporterPOSTNL/X','transporterDHL/X','transporterDPD/X','transporterBRIEF/X','transporterOTHER/X']\n",
    "KNOWNX = ['caseKnownX','returnKnownX','cancellationKnownX','onTimeDeliveryKnownX','lateDeliveryKnownX']\n",
    "PRODUCTX = ['productOrderCountX','productTotalCountX','productTotalReturnedX','productReturnFractionX']\n",
    "SELLERX = ['sellerDailyOrdersX']\n",
    "HISTORICX = []\n",
    "historic_variable = ['transporterCode','sellerId','productGroup']\n",
    "for x in range(len(historic_variable)):\n",
    "    HISTORICX = HISTORICX + [historic_variable[x]+'HistoricHappyX',historic_variable[x]+'HistoricUnhappyX',historic_variable[x]+'HistoricUnknownX']\n",
    "\n",
    "#Determinants\n",
    "DETERMINANT = ['noReturn', 'noCase', 'noCancellation', 'onTimeDelivery']\n",
    "\n",
    "#Classifications\n",
    "CLASSIFICATION = ['generalMatchClassification','detailedMatchClassification','binaryMatchClassification','determinantClassification']"
   ]
  },
  {
   "cell_type": "code",
   "execution_count": 415,
   "metadata": {
    "execution": {
     "iopub.execute_input": "2021-02-05T11:01:40.650600Z",
     "iopub.status.busy": "2021-02-05T11:01:40.650355Z",
     "iopub.status.idle": "2021-02-05T11:01:40.750709Z",
     "shell.execute_reply": "2021-02-05T11:01:40.747186Z",
     "shell.execute_reply.started": "2021-02-05T11:01:40.650576Z"
    }
   },
   "outputs": [],
   "source": [
    "X_col = BASIC + WEEK + MONTH + YEAR + GROUP + TRANSPORTERX + KNOWNX + PRODUCTX + SELLERX + HISTORICX\n",
    "Y_col = ['generalMatchClassification','detailedMatchClassification','binaryMatchClassification']"
   ]
  },
  {
   "cell_type": "markdown",
   "metadata": {},
   "source": [
    "#### Sample data"
   ]
  },
  {
   "cell_type": "code",
   "execution_count": 609,
   "metadata": {
    "execution": {
     "iopub.execute_input": "2021-02-05T14:51:19.245996Z",
     "iopub.status.busy": "2021-02-05T14:51:19.245720Z",
     "iopub.status.idle": "2021-02-05T14:51:27.494787Z",
     "shell.execute_reply": "2021-02-05T14:51:27.491332Z",
     "shell.execute_reply.started": "2021-02-05T14:51:19.245968Z"
    }
   },
   "outputs": [],
   "source": [
    "df_ = df.sample(n = 500000, replace = False, random_state = 1)"
   ]
  },
  {
   "cell_type": "markdown",
   "metadata": {},
   "source": [
    "### Hierarchical Classification Models"
   ]
  },
  {
   "cell_type": "code",
   "execution_count": 617,
   "metadata": {
    "execution": {
     "iopub.execute_input": "2021-02-05T15:00:55.101031Z",
     "iopub.status.busy": "2021-02-05T15:00:55.100710Z",
     "iopub.status.idle": "2021-02-05T15:00:55.110381Z",
     "shell.execute_reply": "2021-02-05T15:00:55.105902Z",
     "shell.execute_reply.started": "2021-02-05T15:00:55.101003Z"
    }
   },
   "outputs": [],
   "source": [
    "# classifier1 = LogisticRegression(random_state=0, class_weight='balanced')\n",
    "# classifier2 = LogisticRegression(random_state=0, class_weight='balanced')\n",
    "# classifier3 = LogisticRegression(random_state=0, class_weight='balanced')\n",
    "\n",
    "# classifier1 = RandomForestClassifier(random_state=0, class_weight='balanced', n_estimators = 20)\n",
    "# classifier2 = RandomForestClassifier(random_state=0, class_weight='balanced', n_estimators = 20)\n",
    "# classifier3 = RandomForestClassifier(random_state=0, class_weight='balanced', n_estimators = 20)\n",
    "\n",
    "# classifier1 = svm.LinearSVC(C=1, penalty=\"l1\", dual=False, class_weight = 'balanced')\n",
    "# classifier2 = svm.LinearSVC(C=1, penalty=\"l1\", dual=False, class_weight = 'balanced')\n",
    "# classifier3 = svm.LinearSVC(C=1, penalty=\"l1\", dual=False, class_weight = 'balanced')\n",
    "\n",
    "# classifier1 = HistGradientBoostingClassifier(random_state=0)\n",
    "# classifier2 = HistGradientBoostingClassifier(random_state=0)\n",
    "# classifier3 = HistGradientBoostingClassifier(random_state=0)\n",
    "\n",
    "classifier1 = HistGradientBoostingClassifier(random_state=0)\n",
    "classifier2 = svm.LinearSVC(C=1, penalty=\"l2\", dual=False, class_weight = 'balanced')\n",
    "classifier3 = RandomForestClassifier(random_state=0, class_weight='balanced', n_estimators = 20)"
   ]
  },
  {
   "cell_type": "markdown",
   "metadata": {},
   "source": [
    "#### Single fit single point in time"
   ]
  },
  {
   "cell_type": "code",
   "execution_count": 613,
   "metadata": {
    "execution": {
     "iopub.execute_input": "2021-02-05T14:53:39.581526Z",
     "iopub.status.busy": "2021-02-05T14:53:39.581159Z",
     "iopub.status.idle": "2021-02-05T14:54:17.036625Z",
     "shell.execute_reply": "2021-02-05T14:54:17.035661Z",
     "shell.execute_reply.started": "2021-02-05T14:53:39.581484Z"
    }
   },
   "outputs": [],
   "source": [
    "X, y = functions.dataX(df_, DATE, X_col, Y_col, historic_variable, 0)\n",
    "X_train, X_test, y_train, y_test = train_test_split(X, y, test_size=0.2, random_state=0, shuffle=False)"
   ]
  },
  {
   "cell_type": "code",
   "execution_count": 618,
   "metadata": {
    "execution": {
     "iopub.execute_input": "2021-02-05T15:00:57.564678Z",
     "iopub.status.busy": "2021-02-05T15:00:57.564427Z",
     "iopub.status.idle": "2021-02-05T15:02:06.819553Z",
     "shell.execute_reply": "2021-02-05T15:02:06.818453Z",
     "shell.execute_reply.started": "2021-02-05T15:00:57.564653Z"
    }
   },
   "outputs": [
    {
     "name": "stdout",
     "output_type": "stream",
     "text": [
      "              precision    recall  f1-score   support\n",
      "\n",
      "       KNOWN       0.96      0.95      0.95     67389\n",
      "     UNKNOWN       0.90      0.92      0.91     32611\n",
      "\n",
      "    accuracy                           0.94    100000\n",
      "   macro avg       0.93      0.93      0.93    100000\n",
      "weighted avg       0.94      0.94      0.94    100000\n",
      "\n",
      "              precision    recall  f1-score   support\n",
      "\n",
      "       HAPPY       0.87      0.80      0.84     55546\n",
      "     UNHAPPY       0.19      0.25      0.21     11843\n",
      "     UNKNOWN       0.90      0.92      0.91     32611\n",
      "\n",
      "    accuracy                           0.77    100000\n",
      "   macro avg       0.65      0.66      0.65    100000\n",
      "weighted avg       0.80      0.77      0.79    100000\n",
      "\n",
      "                 precision    recall  f1-score   support\n",
      "\n",
      "          HAPPY       0.87      0.80      0.84     55546\n",
      "HEAVILY UNHAPPY       0.48      0.12      0.19      1017\n",
      " MEDIUM UNHAPPY       0.19      0.01      0.03      1885\n",
      " MILDLY UNHAPPY       0.15      0.26      0.19      8941\n",
      "        UNKNOWN       0.90      0.92      0.91     32611\n",
      "\n",
      "       accuracy                           0.77    100000\n",
      "      macro avg       0.52      0.42      0.43    100000\n",
      "   weighted avg       0.80      0.77      0.78    100000\n",
      "\n"
     ]
    }
   ],
   "source": [
    "clf = HierarchicalClassification1(classifier1,classifier2,classifier3)\n",
    "clf.fit(X_train, y_train)\n",
    "predictions = clf.predict(X_test, y_test)\n",
    "\n",
    "print(metrics.classification_report(y_test['binaryMatchClassification'], predictions['binaryPrediction']))\n",
    "print(metrics.classification_report(y_test['generalMatchClassification'], predictions['generalPrediction']))\n",
    "print(metrics.classification_report(y_test['detailedMatchClassification'], predictions['detailedPrediction']))"
   ]
  },
  {
   "cell_type": "code",
   "execution_count": null,
   "metadata": {
    "execution": {
     "iopub.status.busy": "2021-02-05T14:41:50.994819Z",
     "iopub.status.idle": "2021-02-05T14:41:50.995550Z",
     "shell.execute_reply": "2021-02-05T14:41:50.995199Z"
    }
   },
   "outputs": [],
   "source": [
    "# a = clf.predict_proba(X_test, y_test, 0.6)\n",
    "# comb = pd.concat([y_test['generalMatchClassification'], a['generalPrediction']],axis=1).dropna()\n",
    "# print(metrics.classification_report(comb['generalMatchClassification'], comb['generalPrediction']))"
   ]
  },
  {
   "cell_type": "markdown",
   "metadata": {},
   "source": [
    "#### Cross-validation single point in time"
   ]
  },
  {
   "cell_type": "code",
   "execution_count": 607,
   "metadata": {
    "execution": {
     "iopub.execute_input": "2021-02-05T14:48:37.579275Z",
     "iopub.status.busy": "2021-02-05T14:48:37.579008Z",
     "iopub.status.idle": "2021-02-05T14:48:44.622952Z",
     "shell.execute_reply": "2021-02-05T14:48:44.622079Z",
     "shell.execute_reply.started": "2021-02-05T14:48:37.579250Z"
    }
   },
   "outputs": [],
   "source": [
    "X, y = functions.dataX(df_, DATE, X_col, Y_col, historic_variable, 0)"
   ]
  },
  {
   "cell_type": "code",
   "execution_count": 608,
   "metadata": {
    "execution": {
     "iopub.execute_input": "2021-02-05T14:48:44.626384Z",
     "iopub.status.busy": "2021-02-05T14:48:44.625762Z",
     "iopub.status.idle": "2021-02-05T14:49:28.057733Z",
     "shell.execute_reply": "2021-02-05T14:49:28.055954Z",
     "shell.execute_reply.started": "2021-02-05T14:48:44.626340Z"
    }
   },
   "outputs": [
    {
     "data": {
      "text/html": [
       "<div>\n",
       "<style scoped>\n",
       "    .dataframe tbody tr th:only-of-type {\n",
       "        vertical-align: middle;\n",
       "    }\n",
       "\n",
       "    .dataframe tbody tr th {\n",
       "        vertical-align: top;\n",
       "    }\n",
       "\n",
       "    .dataframe thead th {\n",
       "        text-align: right;\n",
       "    }\n",
       "</style>\n",
       "<table border=\"1\" class=\"dataframe\">\n",
       "  <thead>\n",
       "    <tr style=\"text-align: right;\">\n",
       "      <th></th>\n",
       "      <th>0</th>\n",
       "    </tr>\n",
       "  </thead>\n",
       "  <tbody>\n",
       "    <tr>\n",
       "      <th>accuracy</th>\n",
       "      <td>0.770853</td>\n",
       "    </tr>\n",
       "    <tr>\n",
       "      <th>precision_HAPPY</th>\n",
       "      <td>0.869381</td>\n",
       "    </tr>\n",
       "    <tr>\n",
       "      <th>recall_HAPPY</th>\n",
       "      <td>0.806479</td>\n",
       "    </tr>\n",
       "    <tr>\n",
       "      <th>f1_HAPPY</th>\n",
       "      <td>0.836570</td>\n",
       "    </tr>\n",
       "    <tr>\n",
       "      <th>precision_UNHAPPY</th>\n",
       "      <td>0.190446</td>\n",
       "    </tr>\n",
       "    <tr>\n",
       "      <th>recall_UNHAPPY</th>\n",
       "      <td>0.216190</td>\n",
       "    </tr>\n",
       "    <tr>\n",
       "      <th>f1_UNHAPPY</th>\n",
       "      <td>0.201093</td>\n",
       "    </tr>\n",
       "    <tr>\n",
       "      <th>precision_UNKNOWN</th>\n",
       "      <td>0.851026</td>\n",
       "    </tr>\n",
       "    <tr>\n",
       "      <th>recall_UNKNOWN</th>\n",
       "      <td>0.917854</td>\n",
       "    </tr>\n",
       "    <tr>\n",
       "      <th>f1_UNKNOWN</th>\n",
       "      <td>0.883154</td>\n",
       "    </tr>\n",
       "  </tbody>\n",
       "</table>\n",
       "</div>"
      ],
      "text/plain": [
       "                          0\n",
       "accuracy           0.770853\n",
       "precision_HAPPY    0.869381\n",
       "recall_HAPPY       0.806479\n",
       "f1_HAPPY           0.836570\n",
       "precision_UNHAPPY  0.190446\n",
       "recall_UNHAPPY     0.216190\n",
       "f1_UNHAPPY         0.201093\n",
       "precision_UNKNOWN  0.851026\n",
       "recall_UNKNOWN     0.917854\n",
       "f1_UNKNOWN         0.883154"
      ]
     },
     "execution_count": 608,
     "metadata": {},
     "output_type": "execute_result"
    }
   ],
   "source": [
    "clf = HierarchicalClassification1(classifier1,classifier2,classifier3)\n",
    "results = classifyLabelsHC(test, X, y, 3, scale = None)\n",
    "pd.DataFrame.from_dict(results, orient='index')"
   ]
  },
  {
   "cell_type": "markdown",
   "metadata": {},
   "source": [
    "#### Cross-validation over time"
   ]
  },
  {
   "cell_type": "code",
   "execution_count": 424,
   "metadata": {
    "execution": {
     "iopub.execute_input": "2021-02-05T11:10:56.809442Z",
     "iopub.status.busy": "2021-02-05T11:10:56.809191Z",
     "iopub.status.idle": "2021-02-05T11:19:17.247677Z",
     "shell.execute_reply": "2021-02-05T11:19:17.246331Z",
     "shell.execute_reply.started": "2021-02-05T11:10:56.809417Z"
    }
   },
   "outputs": [
    {
     "name": "stdout",
     "output_type": "stream",
     "text": [
      "DAYS:  0\n",
      "DAYS:  1\n",
      "DAYS:  2\n",
      "DAYS:  3\n",
      "DAYS:  4\n"
     ]
    },
    {
     "data": {
      "text/html": [
       "<div>\n",
       "<style scoped>\n",
       "    .dataframe tbody tr th:only-of-type {\n",
       "        vertical-align: middle;\n",
       "    }\n",
       "\n",
       "    .dataframe tbody tr th {\n",
       "        vertical-align: top;\n",
       "    }\n",
       "\n",
       "    .dataframe thead th {\n",
       "        text-align: right;\n",
       "    }\n",
       "</style>\n",
       "<table border=\"1\" class=\"dataframe\">\n",
       "  <thead>\n",
       "    <tr style=\"text-align: right;\">\n",
       "      <th></th>\n",
       "      <th>accuracy</th>\n",
       "      <th>precision_HAPPY</th>\n",
       "      <th>recall_HAPPY</th>\n",
       "      <th>f1_HAPPY</th>\n",
       "      <th>precision_UNHAPPY</th>\n",
       "      <th>recall_UNHAPPY</th>\n",
       "      <th>f1_UNHAPPY</th>\n",
       "      <th>precision_UNKNOWN</th>\n",
       "      <th>recall_UNKNOWN</th>\n",
       "      <th>f1_UNKNOWN</th>\n",
       "    </tr>\n",
       "  </thead>\n",
       "  <tbody>\n",
       "    <tr>\n",
       "      <th>0</th>\n",
       "      <td>0.834539</td>\n",
       "      <td>0.837432</td>\n",
       "      <td>0.984391</td>\n",
       "      <td>0.904975</td>\n",
       "      <td>0.256588</td>\n",
       "      <td>0.062972</td>\n",
       "      <td>0.101111</td>\n",
       "      <td>0.884651</td>\n",
       "      <td>0.856341</td>\n",
       "      <td>0.870158</td>\n",
       "    </tr>\n",
       "    <tr>\n",
       "      <th>1</th>\n",
       "      <td>0.862349</td>\n",
       "      <td>0.865040</td>\n",
       "      <td>0.988791</td>\n",
       "      <td>0.922774</td>\n",
       "      <td>0.588327</td>\n",
       "      <td>0.230598</td>\n",
       "      <td>0.330789</td>\n",
       "      <td>0.899555</td>\n",
       "      <td>0.873697</td>\n",
       "      <td>0.886350</td>\n",
       "    </tr>\n",
       "    <tr>\n",
       "      <th>2</th>\n",
       "      <td>0.898685</td>\n",
       "      <td>0.906787</td>\n",
       "      <td>0.991891</td>\n",
       "      <td>0.947428</td>\n",
       "      <td>0.745943</td>\n",
       "      <td>0.442316</td>\n",
       "      <td>0.555216</td>\n",
       "      <td>0.918003</td>\n",
       "      <td>0.903239</td>\n",
       "      <td>0.910547</td>\n",
       "    </tr>\n",
       "    <tr>\n",
       "      <th>3</th>\n",
       "      <td>0.918253</td>\n",
       "      <td>0.929490</td>\n",
       "      <td>0.994836</td>\n",
       "      <td>0.961044</td>\n",
       "      <td>0.794632</td>\n",
       "      <td>0.565294</td>\n",
       "      <td>0.659853</td>\n",
       "      <td>0.930821</td>\n",
       "      <td>0.913790</td>\n",
       "      <td>0.922214</td>\n",
       "    </tr>\n",
       "    <tr>\n",
       "      <th>4</th>\n",
       "      <td>0.938128</td>\n",
       "      <td>0.948830</td>\n",
       "      <td>0.995287</td>\n",
       "      <td>0.971502</td>\n",
       "      <td>0.858150</td>\n",
       "      <td>0.657260</td>\n",
       "      <td>0.744371</td>\n",
       "      <td>0.941006</td>\n",
       "      <td>0.941140</td>\n",
       "      <td>0.941069</td>\n",
       "    </tr>\n",
       "  </tbody>\n",
       "</table>\n",
       "</div>"
      ],
      "text/plain": [
       "   accuracy  precision_HAPPY  recall_HAPPY  f1_HAPPY  precision_UNHAPPY  \\\n",
       "0  0.834539         0.837432      0.984391  0.904975           0.256588   \n",
       "1  0.862349         0.865040      0.988791  0.922774           0.588327   \n",
       "2  0.898685         0.906787      0.991891  0.947428           0.745943   \n",
       "3  0.918253         0.929490      0.994836  0.961044           0.794632   \n",
       "4  0.938128         0.948830      0.995287  0.971502           0.858150   \n",
       "\n",
       "   recall_UNHAPPY  f1_UNHAPPY  precision_UNKNOWN  recall_UNKNOWN  f1_UNKNOWN  \n",
       "0        0.062972    0.101111           0.884651        0.856341    0.870158  \n",
       "1        0.230598    0.330789           0.899555        0.873697    0.886350  \n",
       "2        0.442316    0.555216           0.918003        0.903239    0.910547  \n",
       "3        0.565294    0.659853           0.930821        0.913790    0.922214  \n",
       "4        0.657260    0.744371           0.941006        0.941140    0.941069  "
      ]
     },
     "execution_count": 424,
     "metadata": {},
     "output_type": "execute_result"
    }
   ],
   "source": [
    "PREDICT_DAYS = 5\n",
    "REP = 3\n",
    "\n",
    "resultDic = {}\n",
    "\n",
    "classifier = HierarchicalClassification1(classifier1,classifier2,classifier3)\n",
    "\n",
    "for DAYS in range(PREDICT_DAYS+1):\n",
    "    \n",
    "    X, y = functions.dataX(df_, DATE, X_col, Y_col, historic_variable, DAYS)\n",
    "\n",
    "    result = classifyLabelsHC(classifier, X, y, 3)\n",
    "\n",
    "    resultDic[DAYS] = result\n",
    "    \n",
    "    print('DAYS: ',DAYS)\n",
    "\n",
    "RESULT = pd.DataFrame.from_dict(resultDic, orient='index')\n",
    "RESULT"
   ]
  },
  {
   "cell_type": "markdown",
   "metadata": {},
   "source": [
    "#### Functions"
   ]
  },
  {
   "cell_type": "code",
   "execution_count": 517,
   "metadata": {
    "execution": {
     "iopub.execute_input": "2021-02-05T14:06:24.567500Z",
     "iopub.status.busy": "2021-02-05T14:06:24.567230Z",
     "iopub.status.idle": "2021-02-05T14:06:24.587267Z",
     "shell.execute_reply": "2021-02-05T14:06:24.585559Z",
     "shell.execute_reply.started": "2021-02-05T14:06:24.567474Z"
    }
   },
   "outputs": [],
   "source": [
    "class HierarchicalClassification1():\n",
    "    \"\"\"\n",
    "    Hierarchical classification using the tree: unknown - known -> happy - unhappy -> mildly - medium - heavily\n",
    "    Input: 3 classifiers for each parent node\n",
    "    \"\"\"\n",
    "    def __init__(self, classifier1, classifier2, classifier3):\n",
    "        self.clf1 = classifier1\n",
    "        self.clf2 = classifier2\n",
    "        self.clf3 = classifier3\n",
    "    \n",
    "    def fit(self, X_train, y_train):\n",
    "        \n",
    "        X_train_1 = X_train\n",
    "        y_train_1 = y_train['binaryMatchClassification']\n",
    "\n",
    "        index_train_2 = y_train.loc[(y_train['binaryMatchClassification'] == 'KNOWN')].index\n",
    "        X_train_2 = X_train.loc[index_train_2]\n",
    "        y_train_2 = y_train['generalMatchClassification'].loc[index_train_2]\n",
    "\n",
    "        index_train_3 = y_train.loc[(y_train['generalMatchClassification'] == 'UNHAPPY')].index\n",
    "        X_train_3 = X_train.loc[index_train_3]\n",
    "        y_train_3 = y_train['detailedMatchClassification'].loc[index_train_3]\n",
    "        \n",
    "        self.clf1 = classifier1.fit(X_train_1, y_train_1)\n",
    "        self.clf2 = classifier2.fit(X_train_2, y_train_2)\n",
    "        self.clf3 = classifier3.fit(X_train_3, y_train_3)\n",
    "        \n",
    "    def predict(self, X_test, y_test):\n",
    "        \n",
    "        predictions = y_test[:]\n",
    "\n",
    "        X_test_1 = X_test\n",
    "        predictions['predLayer1'] = self.clf1.predict(X_test_1)\n",
    "\n",
    "        index_test_2 = predictions.loc[(predictions['predLayer1'] == 'KNOWN')].index\n",
    "        X_test_2 = X_test.loc[index_test_2]\n",
    "        predictions.loc[index_test_2, 'predLayer2'] = self.clf2.predict(X_test_2)\n",
    "\n",
    "        index_test_3 = predictions.loc[(predictions['predLayer2'] == 'UNHAPPY')].index\n",
    "        X_test_3 = X_test.loc[index_test_3]\n",
    "        predictions.loc[index_test_3, 'predLayer3'] = self.clf3.predict(X_test_3)\n",
    "\n",
    "        happyLabelIndex = predictions.loc[predictions['predLayer2'] == 'HAPPY'].index\n",
    "        unknownLabelIndex = predictions.loc[predictions['predLayer1'] == 'UNKNOWN'].index\n",
    "\n",
    "        predictions['binaryPrediction'] = predictions['predLayer1']\n",
    "        predictions['generalPrediction'] = predictions['predLayer2'].fillna('UNKNOWN')\n",
    "        predictions['detailedPrediction'] = predictions['predLayer3']\n",
    "        predictions.loc[happyLabelIndex, 'detailedPrediction'] = 'HAPPY'\n",
    "        predictions.loc[unknownLabelIndex, 'detailedPrediction'] = 'UNKNOWN'\n",
    "        \n",
    "        return predictions[['binaryPrediction','generalPrediction','detailedPrediction']]\n",
    "        \n",
    "    def predict_proba(self, X_test, y_test, threshold = 0.5):\n",
    "        \n",
    "        predictions = y_test[:]\n",
    "        \n",
    "        X_test_1 = X_test\n",
    "        class_1 = self.clf1.classes_\n",
    "        knownIndex = np.where(class_1 == 'KNOWN')[0][0]\n",
    "        predictions['probKnown'] = self.clf1.predict_proba(X_test_1)[:,knownIndex]\n",
    "        \n",
    "        index_test_2 = predictions.loc[(predictions['probKnown'] >= threshold)].index\n",
    "        X_test_2 = X_test.loc[index_test_2]\n",
    "        class_2 = self.clf2.classes_\n",
    "        unhappyIndex = np.where(class_2 == 'UNHAPPY')[0][0]\n",
    "        predictions.loc[index_test_2, 'probUnhappy'] = self.clf2.predict_proba(X_test_2)[:,unhappyIndex]\n",
    "\n",
    "        index_test_3 = predictions.loc[(predictions['probUnhappy'] >= threshold)].index\n",
    "        X_test_3 = X_test.loc[index_test_3]\n",
    "        predictions.loc[index_test_3, 'predLayer3'] = self.clf3.predict(X_test_3)\n",
    "    \n",
    "        predictions.loc[predictions['probKnown'] >= threshold, 'binaryPrediction'] = 'KNOWN'\n",
    "        predictions.loc[predictions['probKnown'] <= (1-threshold), 'binaryPrediction'] = 'UNKNOWN'\n",
    "        \n",
    "        predictions.loc[predictions['probUnhappy'] >= threshold, 'generalPrediction'] = 'UNHAPPY'\n",
    "        predictions.loc[predictions['probUnhappy'] <= (1-threshold), 'generalPrediction'] = 'HAPPY'\n",
    "        predictions.loc[predictions['binaryPrediction'] == 'UNKNOWN', 'generalPrediction'] = 'UNKNOWN'\n",
    "        \n",
    "        predictions['detailedPrediction'] = predictions['predLayer3']\n",
    "        predictions.loc[predictions['probUnhappy'] <= (1-threshold), 'detailedPrediction'] = 'HAPPY'\n",
    "        predictions.loc[predictions['probKnown'] <= (1-threshold), 'detailedPrediction'] = 'UNKNOWN'\n",
    "\n",
    "        return predictions"
   ]
  },
  {
   "cell_type": "code",
   "execution_count": 406,
   "metadata": {
    "execution": {
     "iopub.execute_input": "2021-02-05T10:50:58.852270Z",
     "iopub.status.busy": "2021-02-05T10:50:58.852007Z",
     "iopub.status.idle": "2021-02-05T10:50:58.866778Z",
     "shell.execute_reply": "2021-02-05T10:50:58.864433Z",
     "shell.execute_reply.started": "2021-02-05T10:50:58.852245Z"
    }
   },
   "outputs": [],
   "source": [
    "def classifyLabelsHC(classifier, X, y, n, split = 'TimeSeries', smote = False, scale = None, NN = False):\n",
    "\n",
    "    scaler = preprocessing.MinMaxScaler()\n",
    "    labels = np.unique(y['generalMatchClassification'])\n",
    "    \n",
    "    acc,pre,rec,f1,results = {},{},{},{},{}\n",
    "        \n",
    "    if split == 'Random':\n",
    "        cv = StratifiedKFold(n_splits = n, random_state = 0, shuffle = True)   \n",
    "    else:\n",
    "        cv = TimeSeriesSplit(n_splits = n)\n",
    "    \n",
    "    count = 1\n",
    "\n",
    "    for train_index, test_index in cv.split(X):\n",
    "        \n",
    "        if scale != None:\n",
    "            X_scaled = pd.DataFrame(scaler.fit_transform(X))\n",
    "            X_train, X_test = X_scaled.iloc[train_index], X_scaled.iloc[test_index]\n",
    "        else:   \n",
    "            X_train, X_test = X.iloc[train_index], X.iloc[test_index]\n",
    "            \n",
    "        y_train, y_test = y.iloc[train_index], y.iloc[test_index]\n",
    "        \n",
    "        classifier.fit(X_train,y_train)\n",
    "        predictions = classifier.predict(X_test,y_test)\n",
    "        \n",
    "        #define which label you want to evaluate\n",
    "        y_pred_general = predictions['generalPrediction']\n",
    "        y_test_general = y_test['generalMatchClassification']\n",
    "        \n",
    "        accuracy = metrics.accuracy_score(y_test_general, y_pred_general)\n",
    "        scores = metrics.precision_recall_fscore_support(y_test_general, y_pred_general, average = None, labels = labels, beta = 1)\n",
    "        \n",
    "        acc[count] = accuracy\n",
    "        pre[count] = scores[0]\n",
    "        rec[count] = scores[1]\n",
    "        f1[count] = scores[2]\n",
    "        \n",
    "        count += 1\n",
    "\n",
    "    results['accuracy'] = sum(acc.values()) / n\n",
    "    \n",
    "    for ix,label in enumerate(labels):\n",
    "        results[('precision_'+label)] = (sum(pre.values()) / n)[ix]\n",
    "        results[('recall_'+label)] = (sum(rec.values()) / n)[ix]\n",
    "        results[('f1_'+label)] = (sum(f1.values()) / n)[ix]\n",
    "     \n",
    "    #https://towardsdatascience.com/hierarchical-performance-metrics-and-where-to-find-them-7090aaa07183\n",
    "    \n",
    "    return results"
   ]
  },
  {
   "cell_type": "code",
   "execution_count": 513,
   "metadata": {
    "execution": {
     "iopub.execute_input": "2021-02-05T13:37:57.638416Z",
     "iopub.status.busy": "2021-02-05T13:37:57.638094Z",
     "iopub.status.idle": "2021-02-05T13:37:57.648127Z",
     "shell.execute_reply": "2021-02-05T13:37:57.644346Z",
     "shell.execute_reply.started": "2021-02-05T13:37:57.638379Z"
    }
   },
   "outputs": [],
   "source": [
    "def neuralNetworkSetup(y,train_index):\n",
    "    \n",
    "    labels = np.unique(y)\n",
    "    int_label_mapping = dict(enumerate(labels))\n",
    "    label_int_mapping = {y:x for x,y in int_label_mapping.items()}\n",
    "    \n",
    "    y_encoded = y.map(label_int_mapping)\n",
    "    y_dummy = pd.DataFrame(np_utils.to_categorical(y_encoded))\n",
    "    \n",
    "    class_weights = class_weight.compute_class_weight('balanced',labels,y.iloc[train_index])\n",
    "    class_weights = dict(enumerate(class_weights))\n",
    "    clf.set_params(class_weight = class_weights)\n",
    "    y_train = y_dummy.iloc[train_index]\n",
    "    \n",
    "    return y_train\n",
    "    \n",
    "    #y_pred = pd.Series(y_pred).map(int_label_mapping)"
   ]
  },
  {
   "cell_type": "code",
   "execution_count": null,
   "metadata": {},
   "outputs": [],
   "source": []
  }
 ],
 "metadata": {
  "kernelspec": {
   "display_name": "Python 3",
   "language": "python",
   "name": "python3"
  },
  "language_info": {
   "codemirror_mode": {
    "name": "ipython",
    "version": 3
   },
   "file_extension": ".py",
   "mimetype": "text/x-python",
   "name": "python",
   "nbconvert_exporter": "python",
   "pygments_lexer": "ipython3",
   "version": "3.8.5"
  }
 },
 "nbformat": 4,
 "nbformat_minor": 4
}
