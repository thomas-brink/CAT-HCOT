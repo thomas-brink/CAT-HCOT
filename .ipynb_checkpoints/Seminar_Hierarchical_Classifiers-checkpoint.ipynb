{
 "cells": [
  {
   "cell_type": "code",
   "execution_count": 2,
   "metadata": {
    "execution": {
     "iopub.execute_input": "2021-02-10T11:06:52.125505Z",
     "iopub.status.busy": "2021-02-10T11:06:52.125191Z",
     "iopub.status.idle": "2021-02-10T11:07:14.723356Z",
     "shell.execute_reply": "2021-02-10T11:07:14.720010Z",
     "shell.execute_reply.started": "2021-02-10T11:06:52.125468Z"
    },
    "jupyter": {
     "source_hidden": true
    }
   },
   "outputs": [],
   "source": [
    "import pandas as pd\n",
    "import numpy as np\n",
    "import pyodbc as py\n",
    "\n",
    "from datetime import date, timedelta, datetime\n",
    "import time\n",
    "\n",
    "import matplotlib.pyplot as plt\n",
    "import seaborn as sns\n",
    "%matplotlib inline\n",
    "\n",
    "from sklearn import preprocessing\n",
    "from sklearn.utils import class_weight\n",
    "from sklearn.preprocessing import LabelEncoder\n",
    "from sklearn.preprocessing import OneHotEncoder\n",
    "from sklearn.model_selection import cross_val_predict\n",
    "from sklearn.model_selection import cross_validate, cross_val_score\n",
    "from sklearn.metrics import precision_recall_fscore_support, accuracy_score\n",
    "from sklearn.feature_selection import chi2, SelectKBest, SelectPercentile, mutual_info_classif, RFE, RFECV, SelectFromModel\n",
    "from sklearn.pipeline import Pipeline\n",
    "from sklearn.model_selection import train_test_split\n",
    "\n",
    "from sklearn import neighbors\n",
    "from sklearn import svm\n",
    "from sklearn.tree import DecisionTreeClassifier\n",
    "from sklearn.ensemble import RandomForestClassifier\n",
    "from sklearn.ensemble import BaggingClassifier\n",
    "from sklearn.ensemble import AdaBoostClassifier\n",
    "from sklearn.ensemble import GradientBoostingClassifier\n",
    "from sklearn.naive_bayes import GaussianNB\n",
    "from sklearn.naive_bayes import BernoulliNB\n",
    "from sklearn.experimental import enable_hist_gradient_boosting\n",
    "from sklearn.ensemble import HistGradientBoostingClassifier\n",
    "from sklearn import metrics\n",
    "from sklearn.linear_model import LogisticRegression\n",
    "\n",
    "from sklearn.model_selection import TimeSeriesSplit\n",
    "from sklearn.model_selection import KFold\n",
    "from sklearn.model_selection import StratifiedKFold\n",
    "\n",
    "from imblearn.over_sampling import SMOTE\n",
    "\n",
    "import tensorflow as tf\n",
    "from tensorflow.keras.models import Sequential\n",
    "from tensorflow.keras.layers import Dense,Activation,Dropout\n",
    "from tensorflow.keras.wrappers.scikit_learn import KerasClassifier\n",
    "from keras.utils import np_utils\n",
    "\n",
    "import functions\n",
    "import importlib\n",
    "importlib.reload(functions)\n",
    "\n",
    "import warnings\n",
    "warnings.filterwarnings(\"ignore\")\n",
    "\n",
    "pd.set_option('display.max_columns', None)"
   ]
  },
  {
   "cell_type": "markdown",
   "metadata": {},
   "source": [
    "#### Load Data"
   ]
  },
  {
   "cell_type": "code",
   "execution_count": 421,
   "metadata": {
    "execution": {
     "iopub.execute_input": "2021-02-09T15:38:51.952989Z",
     "iopub.status.busy": "2021-02-09T15:38:51.950880Z",
     "iopub.status.idle": "2021-02-09T15:38:52.158150Z",
     "shell.execute_reply": "2021-02-09T15:38:52.155447Z",
     "shell.execute_reply.started": "2021-02-09T15:38:51.952892Z"
    }
   },
   "outputs": [
    {
     "data": {
      "text/plain": [
       "<module 'functions' from '/Users/LV/Documents/GitHub/Seminar-QM-BA/functions.py'>"
      ]
     },
     "execution_count": 421,
     "metadata": {},
     "output_type": "execute_result"
    }
   ],
   "source": [
    "importlib.reload(functions)"
   ]
  },
  {
   "cell_type": "code",
   "execution_count": 3,
   "metadata": {
    "execution": {
     "iopub.execute_input": "2021-02-10T11:07:14.728585Z",
     "iopub.status.busy": "2021-02-10T11:07:14.726470Z",
     "iopub.status.idle": "2021-02-10T11:11:21.727272Z",
     "shell.execute_reply": "2021-02-10T11:11:21.705530Z",
     "shell.execute_reply.started": "2021-02-10T11:07:14.728521Z"
    },
    "jupyter": {
     "source_hidden": true
    }
   },
   "outputs": [],
   "source": [
    "df = pd.read_csv('/Users/LV/Desktop/data_bol_complete.csv', low_memory = True)"
   ]
  },
  {
   "cell_type": "code",
   "execution_count": 4,
   "metadata": {
    "execution": {
     "iopub.execute_input": "2021-02-10T11:11:21.769331Z",
     "iopub.status.busy": "2021-02-10T11:11:21.768495Z",
     "iopub.status.idle": "2021-02-10T11:12:00.001149Z",
     "shell.execute_reply": "2021-02-10T11:11:59.999298Z",
     "shell.execute_reply.started": "2021-02-10T11:11:21.769252Z"
    },
    "jupyter": {
     "source_hidden": true
    }
   },
   "outputs": [],
   "source": [
    "df['orderDate']                   = pd.to_datetime(df['orderDate'])\n",
    "df['cancellationDate']            = pd.to_datetime(df['cancellationDate'])\n",
    "df['promisedDeliveryDate']        = pd.to_datetime(df['promisedDeliveryDate'])\n",
    "df['shipmentDate']                = pd.to_datetime(df['shipmentDate'])\n",
    "df['dateTimeFirstDeliveryMoment'] = pd.to_datetime(df['dateTimeFirstDeliveryMoment'])\n",
    "df['startDateCase']               = pd.to_datetime(df['startDateCase'])\n",
    "df['returnDateTime']              = pd.to_datetime(df['returnDateTime'])\n",
    "df['registrationDateSeller']      = pd.to_datetime(df['registrationDateSeller'])"
   ]
  },
  {
   "cell_type": "code",
   "execution_count": 5,
   "metadata": {
    "execution": {
     "iopub.execute_input": "2021-02-10T11:12:44.543029Z",
     "iopub.status.busy": "2021-02-10T11:12:44.512942Z",
     "iopub.status.idle": "2021-02-10T11:12:44.703963Z",
     "shell.execute_reply": "2021-02-10T11:12:44.658719Z",
     "shell.execute_reply.started": "2021-02-10T11:12:44.542946Z"
    }
   },
   "outputs": [],
   "source": [
    "#Fixed Columns:\n",
    "DATE = ['orderDate']\n",
    "BASIC = ['totalPrice','quantityOrdered','fulfilmentByBol','countryCodeNL','countryOriginNL','countryOriginBE',\n",
    "        'countryOriginDE','productTitleLength','promisedDeliveryDays','partnerSellingDays', 'orderCorona']\n",
    "WEEK = ['orderMonday','orderTuesday','orderWednesday','orderThursday','orderFriday','orderSaturday','orderSunday']\n",
    "MONTH = ['orderJanuary','orderFebruary','orderMarch','orderApril','orderMay','orderJune',\n",
    "         'orderJuly','orderAugust','orderSeptember','orderOctober','orderNovember','orderDecember']\n",
    "YEAR = ['orderYear2020']\n",
    "GROUP = ['groupHealth','groupHome','groupSports','groupComputer','groupPets','groupToys','groupBooks', \n",
    "         'groupBaby', 'groupMusic', 'groupFood','groupOffice','groupFashion','groupOther','groupCar']\n",
    "\n",
    "#Dynamic Columns:\n",
    "TRANSPORTERX = ['transporterPOSTNL/X','transporterDHL/X','transporterDPD/X','transporterBRIEF/X','transporterOTHER/X']\n",
    "KNOWNX = ['caseKnownX','returnKnownX','cancellationKnownX','onTimeDeliveryKnownX','lateDeliveryKnownX']\n",
    "PRODUCTX = ['productOrderCountX','productTotalCountX','productTotalReturnedX','productReturnFractionX']\n",
    "SELLERX = ['sellerDailyOrdersX']\n",
    "HISTORICX = []\n",
    "historic_variable = ['transporterCode','sellerId','productGroup']\n",
    "for x in range(len(historic_variable)):\n",
    "    HISTORICX = HISTORICX + [historic_variable[x]+'HistoricHappyX',historic_variable[x]+'HistoricUnhappyX',historic_variable[x]+'HistoricUnknownX']\n",
    "\n",
    "#Determinants:\n",
    "DETERMINANT = ['noReturn', 'noCase', 'noCancellation', 'onTimeDelivery']\n",
    "\n",
    "#Classifications\n",
    "CLASSIFICATION = ['generalMatchClassification','detailedMatchClassification','binaryMatchClassification','determinantClassification']"
   ]
  },
  {
   "cell_type": "code",
   "execution_count": 6,
   "metadata": {
    "execution": {
     "iopub.execute_input": "2021-02-10T11:12:46.521081Z",
     "iopub.status.busy": "2021-02-10T11:12:46.519998Z",
     "iopub.status.idle": "2021-02-10T11:12:46.589825Z",
     "shell.execute_reply": "2021-02-10T11:12:46.567918Z",
     "shell.execute_reply.started": "2021-02-10T11:12:46.520981Z"
    }
   },
   "outputs": [],
   "source": [
    "X_col = BASIC + WEEK + MONTH + YEAR + GROUP + TRANSPORTERX + KNOWNX + PRODUCTX + SELLERX + HISTORICX\n",
    "Y_col = ['detailedMatchClassification','generalMatchClassification']"
   ]
  },
  {
   "cell_type": "markdown",
   "metadata": {},
   "source": [
    "#### Sample data"
   ]
  },
  {
   "cell_type": "code",
   "execution_count": 385,
   "metadata": {
    "execution": {
     "iopub.execute_input": "2021-02-11T10:38:08.454122Z",
     "iopub.status.busy": "2021-02-11T10:38:08.453858Z",
     "iopub.status.idle": "2021-02-11T10:38:16.988419Z",
     "shell.execute_reply": "2021-02-11T10:38:16.987003Z",
     "shell.execute_reply.started": "2021-02-11T10:38:08.454098Z"
    }
   },
   "outputs": [],
   "source": [
    "df_ = df.sample(n = 250000, replace = False, random_state = 1)"
   ]
  },
  {
   "cell_type": "markdown",
   "metadata": {},
   "source": [
    "### Hierarchical Classification Models"
   ]
  },
  {
   "cell_type": "code",
   "execution_count": 319,
   "metadata": {
    "execution": {
     "iopub.execute_input": "2021-02-09T10:57:25.324738Z",
     "iopub.status.busy": "2021-02-09T10:57:25.324481Z",
     "iopub.status.idle": "2021-02-09T10:57:25.333030Z",
     "shell.execute_reply": "2021-02-09T10:57:25.330986Z",
     "shell.execute_reply.started": "2021-02-09T10:57:25.324714Z"
    },
    "jupyter": {
     "source_hidden": true
    }
   },
   "outputs": [],
   "source": [
    "# classifier = LogisticRegression(random_state=0, class_weight='balanced')\n",
    "# classifier = RandomForestClassifier(random_state=0, class_weight='balanced', n_estimators = 10)\n",
    "# classifier = svm.LinearSVC(C=1, penalty=\"l1\", dual=False, class_weight = 'balanced')\n",
    "# classifier = HistGradientBoostingClassifier(random_state=0)\n",
    "# classifier = DecisionTreeClassifier(random_state=0, max_depth=10, class_weight='balanced')\n",
    "# classifier = KerasClassifier(build_fn = functions.neuralNetwork,epochs = 10,verbose = 0)"
   ]
  },
  {
   "cell_type": "code",
   "execution_count": 364,
   "metadata": {
    "execution": {
     "iopub.execute_input": "2021-02-11T10:21:40.065949Z",
     "iopub.status.busy": "2021-02-11T10:21:40.065492Z",
     "iopub.status.idle": "2021-02-11T10:21:40.080725Z",
     "shell.execute_reply": "2021-02-11T10:21:40.078378Z",
     "shell.execute_reply.started": "2021-02-11T10:21:40.065916Z"
    }
   },
   "outputs": [],
   "source": [
    "ch = ClassHierarchy('ORDERS')\n",
    "ch.add_node(['UNKNOWN','KNOWN'], 'ORDERS')\n",
    "ch.add_node(['HAPPY','UNHAPPY'], 'KNOWN')\n",
    "ch.add_node(['MILDLY UNHAPPY','MEDIUM UNHAPPY','HEAVILY UNHAPPY'], 'UNHAPPY')\n",
    "\n",
    "HC = HierarchicalClassifier(ch)\n",
    "HC.fit_classifiers({'ORDERS'  : DecisionTreeClassifier(random_state=0, class_weight='balanced', max_depth = 10),\n",
    "                    'KNOWN'   : DecisionTreeClassifier(random_state=0, class_weight='balanced', max_depth = 10),\n",
    "                    'UNHAPPY' : KerasClassifier(build_fn = functions.neuralNetwork,epochs = 10,verbose = 0)})"
   ]
  },
  {
   "cell_type": "code",
   "execution_count": 200,
   "metadata": {
    "execution": {
     "iopub.execute_input": "2021-02-10T15:00:55.168891Z",
     "iopub.status.busy": "2021-02-10T15:00:55.168394Z",
     "iopub.status.idle": "2021-02-10T15:00:55.184009Z",
     "shell.execute_reply": "2021-02-10T15:00:55.182581Z",
     "shell.execute_reply.started": "2021-02-10T15:00:55.168852Z"
    },
    "jupyter": {
     "source_hidden": true
    }
   },
   "outputs": [],
   "source": [
    "ch = ClassHierarchy('ORDERS')\n",
    "ch.add_node(['OTHER','UNHAPPY'], 'ORDERS')\n",
    "ch.add_node(['HAPPY','UNKNOWN'], 'OTHER')\n",
    "ch.add_node(['MILDLY UNHAPPY','MEDIUM UNHAPPY','HEAVILY UNHAPPY'], 'UNHAPPY')\n",
    "\n",
    "HC = HierarchicalClassifier(ch)\n",
    "HC.fit_classifiers({'ORDERS'  : DecisionTreeClassifier(random_state=0, class_weight='balanced', max_depth = 10),\n",
    "                    'OTHER'   : DecisionTreeClassifier(random_state=0, class_weight='balanced', max_depth = 10),\n",
    "                    'UNHAPPY' : DecisionTreeClassifier(random_state=0, class_weight='balanced', max_depth = 10)})"
   ]
  },
  {
   "cell_type": "markdown",
   "metadata": {},
   "source": [
    "#### Single fit single point in time"
   ]
  },
  {
   "cell_type": "code",
   "execution_count": 350,
   "metadata": {
    "execution": {
     "iopub.execute_input": "2021-02-11T09:47:29.874271Z",
     "iopub.status.busy": "2021-02-11T09:47:29.873959Z",
     "iopub.status.idle": "2021-02-11T09:48:02.186148Z",
     "shell.execute_reply": "2021-02-11T09:48:02.183755Z",
     "shell.execute_reply.started": "2021-02-11T09:47:29.874239Z"
    }
   },
   "outputs": [],
   "source": [
    "X, y = functions.dataX(df_, DATE, X_col, Y_col, historic_variable, 0)\n",
    "index = range(0, X.shape[0])\n",
    "X_train, X_test, y_train, y_test, ix_train, ix_test = train_test_split(X, y, index, test_size=0.2, random_state=0, shuffle=False)"
   ]
  },
  {
   "cell_type": "code",
   "execution_count": 365,
   "metadata": {
    "execution": {
     "iopub.execute_input": "2021-02-11T10:21:42.071572Z",
     "iopub.status.busy": "2021-02-11T10:21:42.071309Z",
     "iopub.status.idle": "2021-02-11T10:22:32.235688Z",
     "shell.execute_reply": "2021-02-11T10:22:32.234929Z",
     "shell.execute_reply.started": "2021-02-11T10:21:42.071548Z"
    }
   },
   "outputs": [],
   "source": [
    "HC = HC.fit(X_train,y_train['detailedMatchClassification'])\n",
    "pred = HC.predict_proba(X_test, threshold = 0.7)"
   ]
  },
  {
   "cell_type": "code",
   "execution_count": 366,
   "metadata": {
    "execution": {
     "iopub.execute_input": "2021-02-11T10:22:32.237513Z",
     "iopub.status.busy": "2021-02-11T10:22:32.237255Z",
     "iopub.status.idle": "2021-02-11T10:22:32.266535Z",
     "shell.execute_reply": "2021-02-11T10:22:32.265424Z",
     "shell.execute_reply.started": "2021-02-11T10:22:32.237476Z"
    }
   },
   "outputs": [
    {
     "data": {
      "text/plain": [
       "KNOWN              46199\n",
       "UNKNOWN            32683\n",
       "HAPPY              18103\n",
       "UNHAPPY             1697\n",
       "ORDERS               974\n",
       "HEAVILY UNHAPPY      220\n",
       "MEDIUM UNHAPPY       124\n",
       "Name: UNHAPPY, dtype: int64"
      ]
     },
     "execution_count": 366,
     "metadata": {},
     "output_type": "execute_result"
    }
   ],
   "source": [
    "pred.value_counts()"
   ]
  },
  {
   "cell_type": "code",
   "execution_count": 367,
   "metadata": {
    "execution": {
     "iopub.execute_input": "2021-02-11T10:22:32.270704Z",
     "iopub.status.busy": "2021-02-11T10:22:32.270148Z",
     "iopub.status.idle": "2021-02-11T10:22:33.059864Z",
     "shell.execute_reply": "2021-02-11T10:22:33.058554Z",
     "shell.execute_reply.started": "2021-02-11T10:22:32.270661Z"
    }
   },
   "outputs": [
    {
     "name": "stdout",
     "output_type": "stream",
     "text": [
      "Percentage labelled\t: 99.03 %\n",
      "Percentage leaf node\t: 51.13 %\n",
      "Accuracy leaf node\t: 87.84 %\n",
      "Precision leaf node\t: 51.69 %\n",
      "Recall leaf node\t: 43.08 %\n",
      "Percentage blocked at ORDERS\t: 0.97 %\n",
      "Percentage blocked at KNOWN\t: 69.64 %\n",
      "Percentage blocked at UNHAPPY\t: 83.15 %\n"
     ]
    }
   ],
   "source": [
    "day_block_scores(HC, y_test['detailedMatchClassification'], pred, print_output = True)"
   ]
  },
  {
   "cell_type": "code",
   "execution_count": null,
   "metadata": {
    "jupyter": {
     "source_hidden": true
    }
   },
   "outputs": [],
   "source": [
    "# class_report(y_test['detailedMatchClassification'], pred)\n",
    "# global_scores(y_test['detailedMatchClassification'], pred)\n",
    "# local_scores(y_test['detailedMatchClassification'], pred)\n",
    "# precision_score_ancestors(ch, y_test['detailedMatchClassification'], pred)\n",
    "# recall_score_ancestors(ch, y_test['detailedMatchClassification'], pred)\n",
    "# f1_score_ancestors(ch, y_test['detailedMatchClassification'], pred)"
   ]
  },
  {
   "cell_type": "markdown",
   "metadata": {},
   "source": [
    "#### System: Non-mandaroty dynamic prediction X days after order date"
   ]
  },
  {
   "cell_type": "code",
   "execution_count": 497,
   "metadata": {
    "execution": {
     "iopub.execute_input": "2021-02-11T16:28:03.357230Z",
     "iopub.status.busy": "2021-02-11T16:28:03.356549Z",
     "iopub.status.idle": "2021-02-11T16:28:03.383476Z",
     "shell.execute_reply": "2021-02-11T16:28:03.381812Z",
     "shell.execute_reply.started": "2021-02-11T16:28:03.357190Z"
    }
   },
   "outputs": [],
   "source": [
    "def dynamicHierarchicalClassifier(START, END, threshold):  \n",
    "\n",
    "    predictions = pd.DataFrame()\n",
    "    statistics = {'%classified':{},\n",
    "                  '%accuracy'  :{}}\n",
    "    \n",
    "    dynamic_threshold = np.linspace(0.95,threshold,(END-START))\n",
    "    dynamic_count = 0\n",
    "\n",
    "    for DAYS in range(START, END+1):\n",
    "\n",
    "        X, y = functions.dataX(df_, DATE, X_col, Y_col, historic_variable, DAYS)\n",
    "        X_train, X_test, y_train, y_test = train_test_split(X, y, test_size=0.2, random_state=0, shuffle=False)\n",
    "\n",
    "        Tree = ClassHierarchy('ORDERS')\n",
    "        Tree.add_node(['UNKNOWN','KNOWN'], 'ORDERS')\n",
    "        Tree.add_node(['HAPPY','UNHAPPY'], 'KNOWN')\n",
    "        Tree.add_node(['MILDLY UNHAPPY','MEDIUM UNHAPPY','HEAVILY UNHAPPY'], 'UNHAPPY')\n",
    "\n",
    "        HC = HierarchicalClassifier(Tree)\n",
    "        HC.fit_classifiers({'ORDERS'  : RandomForestClassifier(random_state=0, class_weight='balanced', n_estimators = 10),\n",
    "                            'KNOWN'   : DecisionTreeClassifier(random_state=0, class_weight='balanced', max_depth = 10),\n",
    "                            'UNHAPPY' : KerasClassifier(build_fn = functions.neuralNetwork, epochs = 10, verbose = 0)})\n",
    "\n",
    "        HC = HC.fit(X_train,y_train['detailedMatchClassification'])\n",
    "\n",
    "        if DAYS == START: #create dataframe to save predictions\n",
    "            y_hat = pd.DataFrame([Tree.root] * len(X_test),\n",
    "                                    columns=[DAYS],\n",
    "                                    index=X_test.index)\n",
    "            index_no_leaf = X_test.index\n",
    "        else:\n",
    "            y_hat[DAYS] = y_hat[DAYS - 1]\n",
    "\n",
    "        if DAYS < END:\n",
    "            pred = HC.predict_proba(X_test.loc[index_no_leaf], threshold = dynamic_threshold[dynamic_count])\n",
    "\n",
    "            check_no_leaf = ~pred.isin(Tree._get_leaf_nodes())\n",
    "            index_no_leaf = check_no_leaf[check_no_leaf].index\n",
    "            check_leaf = pred.isin(Tree._get_leaf_nodes())\n",
    "            index_leaf = check_leaf[check_leaf].index\n",
    "\n",
    "            y_hat_stage = pd.DataFrame(pred, index = index_leaf)\n",
    "        else:\n",
    "            pred = HC.predict(X_test.loc[index_no_leaf]) #last day you want a label for each order\n",
    "            y_hat_stage = pd.DataFrame(pred, index = index_no_leaf)\n",
    "            \n",
    "        y_hat = y_hat.assign(stage_col = y_hat_stage)\n",
    "        y_hat.stage_col = y_hat.stage_col.fillna(y_hat[DAYS]) #fill previously predicted labels\n",
    "        y_hat = y_hat.drop(DAYS, axis=1)\n",
    "        y_hat = y_hat.rename(columns={'stage_col': DAYS})\n",
    "            \n",
    "        fraction_label, fraction_leaf, accuracy_leaf = day_block_scores(HC, y_test['detailedMatchClassification'], y_hat.iloc[:, y_hat.shape[1] - 1])\n",
    "        statistics['%classified'][DAYS] = fraction_leaf\n",
    "        statistics['%accuracy'][DAYS] = accuracy_leaf\n",
    "\n",
    "        dynamic_count += 1\n",
    "        print('DAYS: ',DAYS)\n",
    "        \n",
    "    return y_hat.iloc[:, y_hat.shape[1] - 1], statistics"
   ]
  },
  {
   "cell_type": "code",
   "execution_count": 498,
   "metadata": {
    "execution": {
     "iopub.execute_input": "2021-02-11T16:28:07.292841Z",
     "iopub.status.busy": "2021-02-11T16:28:07.292586Z",
     "iopub.status.idle": "2021-02-11T16:36:04.552495Z",
     "shell.execute_reply": "2021-02-11T16:36:04.550855Z",
     "shell.execute_reply.started": "2021-02-11T16:28:07.292817Z"
    }
   },
   "outputs": [
    {
     "name": "stdout",
     "output_type": "stream",
     "text": [
      "DAYS:  0\n",
      "DAYS:  1\n",
      "DAYS:  2\n",
      "DAYS:  3\n",
      "DAYS:  4\n",
      "DAYS:  5\n",
      "DAYS:  6\n",
      "DAYS:  7\n",
      "DAYS:  8\n",
      "DAYS:  9\n",
      "DAYS:  10\n"
     ]
    }
   ],
   "source": [
    "pred, statistics = dynamicHierarchicalClassifier(0,10,0.8)"
   ]
  },
  {
   "cell_type": "code",
   "execution_count": 499,
   "metadata": {
    "execution": {
     "iopub.execute_input": "2021-02-11T16:36:32.977813Z",
     "iopub.status.busy": "2021-02-11T16:36:32.977536Z",
     "iopub.status.idle": "2021-02-11T16:36:32.989905Z",
     "shell.execute_reply": "2021-02-11T16:36:32.988479Z",
     "shell.execute_reply.started": "2021-02-11T16:36:32.977786Z"
    }
   },
   "outputs": [
    {
     "data": {
      "text/plain": [
       "{'%classified': {0: 0.04466,\n",
       "  1: 0.0857,\n",
       "  2: 0.15406,\n",
       "  3: 0.43964,\n",
       "  4: 0.65612,\n",
       "  5: 0.76562,\n",
       "  6: 0.83658,\n",
       "  7: 0.9073,\n",
       "  8: 0.93636,\n",
       "  9: 0.95852,\n",
       "  10: 1.0},\n",
       " '%accuracy': {0: 0.9113300492610837,\n",
       "  1: 0.9220536756126021,\n",
       "  2: 0.9276905101908347,\n",
       "  3: 0.9530979892639432,\n",
       "  4: 0.9578735597146864,\n",
       "  5: 0.9594315717980199,\n",
       "  6: 0.9599560113796648,\n",
       "  7: 0.9600793563319739,\n",
       "  8: 0.9603571276004955,\n",
       "  9: 0.9605433376455369,\n",
       "  10: 0.95264}}"
      ]
     },
     "execution_count": 499,
     "metadata": {},
     "output_type": "execute_result"
    }
   ],
   "source": [
    "statistics"
   ]
  },
  {
   "cell_type": "code",
   "execution_count": 500,
   "metadata": {
    "execution": {
     "iopub.execute_input": "2021-02-11T16:39:49.452816Z",
     "iopub.status.busy": "2021-02-11T16:39:49.452558Z",
     "iopub.status.idle": "2021-02-11T16:39:49.906353Z",
     "shell.execute_reply": "2021-02-11T16:39:49.904820Z",
     "shell.execute_reply.started": "2021-02-11T16:39:49.452790Z"
    }
   },
   "outputs": [
    {
     "name": "stdout",
     "output_type": "stream",
     "text": [
      "0.968413685490718\n",
      "0.941368695768553\n",
      "0.9546996946046827\n"
     ]
    }
   ],
   "source": [
    "print(precision_score_ancestors(ch, y_test['detailedMatchClassification'], pred))\n",
    "print(recall_score_ancestors(ch, y_test['detailedMatchClassification'], pred))\n",
    "print(f1_score_ancestors(ch, y_test['detailedMatchClassification'], pred))"
   ]
  },
  {
   "cell_type": "markdown",
   "metadata": {},
   "source": [
    "#### Non-mandatory predictions 0,1,2,... days after order date"
   ]
  },
  {
   "cell_type": "code",
   "execution_count": 313,
   "metadata": {
    "collapsed": true,
    "execution": {
     "iopub.execute_input": "2021-02-10T19:24:27.515048Z",
     "iopub.status.busy": "2021-02-10T19:24:27.513403Z",
     "iopub.status.idle": "2021-02-10T19:25:47.569375Z",
     "shell.execute_reply": "2021-02-10T19:25:47.567929Z",
     "shell.execute_reply.started": "2021-02-10T19:24:27.514955Z"
    },
    "jupyter": {
     "outputs_hidden": true,
     "source_hidden": true
    }
   },
   "outputs": [
    {
     "ename": "ValueError",
     "evalue": "cannot call `vectorize` on size 0 inputs unless `otypes` is set",
     "output_type": "error",
     "traceback": [
      "\u001b[0;31m---------------------------------------------------------------------------\u001b[0m",
      "\u001b[0;31mValueError\u001b[0m                                Traceback (most recent call last)",
      "\u001b[0;32m<ipython-input-313-4ea0545bda95>\u001b[0m in \u001b[0;36m<module>\u001b[0;34m\u001b[0m\n\u001b[1;32m     20\u001b[0m \u001b[0;34m\u001b[0m\u001b[0m\n\u001b[1;32m     21\u001b[0m     \u001b[0mHC\u001b[0m \u001b[0;34m=\u001b[0m \u001b[0mHC\u001b[0m\u001b[0;34m.\u001b[0m\u001b[0mfit\u001b[0m\u001b[0;34m(\u001b[0m\u001b[0mX_train\u001b[0m\u001b[0;34m,\u001b[0m\u001b[0my_train\u001b[0m\u001b[0;34m[\u001b[0m\u001b[0;34m'detailedMatchClassification'\u001b[0m\u001b[0;34m]\u001b[0m\u001b[0;34m)\u001b[0m\u001b[0;34m\u001b[0m\u001b[0;34m\u001b[0m\u001b[0m\n\u001b[0;32m---> 22\u001b[0;31m     \u001b[0mpred\u001b[0m \u001b[0;34m=\u001b[0m \u001b[0mHC\u001b[0m\u001b[0;34m.\u001b[0m\u001b[0mpredict_proba\u001b[0m\u001b[0;34m(\u001b[0m\u001b[0mX_test\u001b[0m\u001b[0;34m,\u001b[0m \u001b[0mthreshold\u001b[0m \u001b[0;34m=\u001b[0m \u001b[0;36m0.8\u001b[0m\u001b[0;34m)\u001b[0m\u001b[0;34m\u001b[0m\u001b[0;34m\u001b[0m\u001b[0m\n\u001b[0m\u001b[1;32m     23\u001b[0m \u001b[0;34m\u001b[0m\u001b[0m\n\u001b[1;32m     24\u001b[0m     \u001b[0mfraction_label\u001b[0m\u001b[0;34m,\u001b[0m \u001b[0mfraction_leaf\u001b[0m\u001b[0;34m,\u001b[0m \u001b[0maccuracy_leaf\u001b[0m \u001b[0;34m=\u001b[0m \u001b[0mday_block_scores\u001b[0m\u001b[0;34m(\u001b[0m\u001b[0mHC\u001b[0m\u001b[0;34m,\u001b[0m \u001b[0my_test\u001b[0m\u001b[0;34m[\u001b[0m\u001b[0;34m'detailedMatchClassification'\u001b[0m\u001b[0;34m]\u001b[0m\u001b[0;34m,\u001b[0m \u001b[0mpred\u001b[0m\u001b[0;34m)\u001b[0m\u001b[0;34m\u001b[0m\u001b[0;34m\u001b[0m\u001b[0m\n",
      "\u001b[0;32m<ipython-input-226-efa01063607e>\u001b[0m in \u001b[0;36mpredict_proba\u001b[0;34m(self, X, threshold)\u001b[0m\n\u001b[1;32m    150\u001b[0m             \u001b[0maccept_class\u001b[0m \u001b[0;34m=\u001b[0m \u001b[0mnp\u001b[0m\u001b[0;34m.\u001b[0m\u001b[0mtake\u001b[0m\u001b[0;34m(\u001b[0m\u001b[0mmax_class\u001b[0m\u001b[0;34m,\u001b[0m \u001b[0maccept_index\u001b[0m\u001b[0;34m)\u001b[0m  \u001b[0;31m#filtered list of classes which are above threshold\u001b[0m\u001b[0;34m\u001b[0m\u001b[0;34m\u001b[0m\u001b[0m\n\u001b[1;32m    151\u001b[0m \u001b[0;34m\u001b[0m\u001b[0m\n\u001b[0;32m--> 152\u001b[0;31m             \u001b[0maccept_label\u001b[0m \u001b[0;34m=\u001b[0m \u001b[0mnp\u001b[0m\u001b[0;34m.\u001b[0m\u001b[0mvectorize\u001b[0m\u001b[0;34m(\u001b[0m\u001b[0;32mlambda\u001b[0m \u001b[0mx\u001b[0m\u001b[0;34m:\u001b[0m \u001b[0my_classes\u001b[0m\u001b[0;34m[\u001b[0m\u001b[0mx\u001b[0m\u001b[0;34m]\u001b[0m\u001b[0;34m)\u001b[0m\u001b[0;34m(\u001b[0m\u001b[0maccept_class\u001b[0m\u001b[0;34m)\u001b[0m                             \u001b[0;31m#convert class number into label\u001b[0m\u001b[0;34m\u001b[0m\u001b[0;34m\u001b[0m\u001b[0m\n\u001b[0m\u001b[1;32m    153\u001b[0m             \u001b[0my_hat_stage\u001b[0m \u001b[0;34m=\u001b[0m \u001b[0mpd\u001b[0m\u001b[0;34m.\u001b[0m\u001b[0mDataFrame\u001b[0m\u001b[0;34m(\u001b[0m\u001b[0maccept_label\u001b[0m\u001b[0;34m,\u001b[0m \u001b[0mindex\u001b[0m \u001b[0;34m=\u001b[0m \u001b[0mnp\u001b[0m\u001b[0;34m.\u001b[0m\u001b[0mtake\u001b[0m\u001b[0;34m(\u001b[0m\u001b[0mX_test\u001b[0m\u001b[0;34m.\u001b[0m\u001b[0mindex\u001b[0m\u001b[0;34m.\u001b[0m\u001b[0mvalues\u001b[0m\u001b[0;34m,\u001b[0m \u001b[0maccept_index\u001b[0m\u001b[0;34m)\u001b[0m\u001b[0;34m)\u001b[0m  \u001b[0;31m#set labels to correct position\u001b[0m\u001b[0;34m\u001b[0m\u001b[0;34m\u001b[0m\u001b[0m\n\u001b[1;32m    154\u001b[0m \u001b[0;34m\u001b[0m\u001b[0m\n",
      "\u001b[0;32m~/opt/anaconda3/lib/python3.8/site-packages/numpy/lib/function_base.py\u001b[0m in \u001b[0;36m__call__\u001b[0;34m(self, *args, **kwargs)\u001b[0m\n\u001b[1;32m   2106\u001b[0m             \u001b[0mvargs\u001b[0m\u001b[0;34m.\u001b[0m\u001b[0mextend\u001b[0m\u001b[0;34m(\u001b[0m\u001b[0;34m[\u001b[0m\u001b[0mkwargs\u001b[0m\u001b[0;34m[\u001b[0m\u001b[0m_n\u001b[0m\u001b[0;34m]\u001b[0m \u001b[0;32mfor\u001b[0m \u001b[0m_n\u001b[0m \u001b[0;32min\u001b[0m \u001b[0mnames\u001b[0m\u001b[0;34m]\u001b[0m\u001b[0;34m)\u001b[0m\u001b[0;34m\u001b[0m\u001b[0;34m\u001b[0m\u001b[0m\n\u001b[1;32m   2107\u001b[0m \u001b[0;34m\u001b[0m\u001b[0m\n\u001b[0;32m-> 2108\u001b[0;31m         \u001b[0;32mreturn\u001b[0m \u001b[0mself\u001b[0m\u001b[0;34m.\u001b[0m\u001b[0m_vectorize_call\u001b[0m\u001b[0;34m(\u001b[0m\u001b[0mfunc\u001b[0m\u001b[0;34m=\u001b[0m\u001b[0mfunc\u001b[0m\u001b[0;34m,\u001b[0m \u001b[0margs\u001b[0m\u001b[0;34m=\u001b[0m\u001b[0mvargs\u001b[0m\u001b[0;34m)\u001b[0m\u001b[0;34m\u001b[0m\u001b[0;34m\u001b[0m\u001b[0m\n\u001b[0m\u001b[1;32m   2109\u001b[0m \u001b[0;34m\u001b[0m\u001b[0m\n\u001b[1;32m   2110\u001b[0m     \u001b[0;32mdef\u001b[0m \u001b[0m_get_ufunc_and_otypes\u001b[0m\u001b[0;34m(\u001b[0m\u001b[0mself\u001b[0m\u001b[0;34m,\u001b[0m \u001b[0mfunc\u001b[0m\u001b[0;34m,\u001b[0m \u001b[0margs\u001b[0m\u001b[0;34m)\u001b[0m\u001b[0;34m:\u001b[0m\u001b[0;34m\u001b[0m\u001b[0;34m\u001b[0m\u001b[0m\n",
      "\u001b[0;32m~/opt/anaconda3/lib/python3.8/site-packages/numpy/lib/function_base.py\u001b[0m in \u001b[0;36m_vectorize_call\u001b[0;34m(self, func, args)\u001b[0m\n\u001b[1;32m   2184\u001b[0m             \u001b[0mres\u001b[0m \u001b[0;34m=\u001b[0m \u001b[0mfunc\u001b[0m\u001b[0;34m(\u001b[0m\u001b[0;34m)\u001b[0m\u001b[0;34m\u001b[0m\u001b[0;34m\u001b[0m\u001b[0m\n\u001b[1;32m   2185\u001b[0m         \u001b[0;32melse\u001b[0m\u001b[0;34m:\u001b[0m\u001b[0;34m\u001b[0m\u001b[0;34m\u001b[0m\u001b[0m\n\u001b[0;32m-> 2186\u001b[0;31m             \u001b[0mufunc\u001b[0m\u001b[0;34m,\u001b[0m \u001b[0motypes\u001b[0m \u001b[0;34m=\u001b[0m \u001b[0mself\u001b[0m\u001b[0;34m.\u001b[0m\u001b[0m_get_ufunc_and_otypes\u001b[0m\u001b[0;34m(\u001b[0m\u001b[0mfunc\u001b[0m\u001b[0;34m=\u001b[0m\u001b[0mfunc\u001b[0m\u001b[0;34m,\u001b[0m \u001b[0margs\u001b[0m\u001b[0;34m=\u001b[0m\u001b[0margs\u001b[0m\u001b[0;34m)\u001b[0m\u001b[0;34m\u001b[0m\u001b[0;34m\u001b[0m\u001b[0m\n\u001b[0m\u001b[1;32m   2187\u001b[0m \u001b[0;34m\u001b[0m\u001b[0m\n\u001b[1;32m   2188\u001b[0m             \u001b[0;31m# Convert args to object arrays first\u001b[0m\u001b[0;34m\u001b[0m\u001b[0;34m\u001b[0m\u001b[0;34m\u001b[0m\u001b[0m\n",
      "\u001b[0;32m~/opt/anaconda3/lib/python3.8/site-packages/numpy/lib/function_base.py\u001b[0m in \u001b[0;36m_get_ufunc_and_otypes\u001b[0;34m(self, func, args)\u001b[0m\n\u001b[1;32m   2140\u001b[0m             \u001b[0margs\u001b[0m \u001b[0;34m=\u001b[0m \u001b[0;34m[\u001b[0m\u001b[0masarray\u001b[0m\u001b[0;34m(\u001b[0m\u001b[0marg\u001b[0m\u001b[0;34m)\u001b[0m \u001b[0;32mfor\u001b[0m \u001b[0marg\u001b[0m \u001b[0;32min\u001b[0m \u001b[0margs\u001b[0m\u001b[0;34m]\u001b[0m\u001b[0;34m\u001b[0m\u001b[0;34m\u001b[0m\u001b[0m\n\u001b[1;32m   2141\u001b[0m             \u001b[0;32mif\u001b[0m \u001b[0mbuiltins\u001b[0m\u001b[0;34m.\u001b[0m\u001b[0many\u001b[0m\u001b[0;34m(\u001b[0m\u001b[0marg\u001b[0m\u001b[0;34m.\u001b[0m\u001b[0msize\u001b[0m \u001b[0;34m==\u001b[0m \u001b[0;36m0\u001b[0m \u001b[0;32mfor\u001b[0m \u001b[0marg\u001b[0m \u001b[0;32min\u001b[0m \u001b[0margs\u001b[0m\u001b[0;34m)\u001b[0m\u001b[0;34m:\u001b[0m\u001b[0;34m\u001b[0m\u001b[0;34m\u001b[0m\u001b[0m\n\u001b[0;32m-> 2142\u001b[0;31m                 raise ValueError('cannot call `vectorize` on size 0 inputs '\n\u001b[0m\u001b[1;32m   2143\u001b[0m                                  'unless `otypes` is set')\n\u001b[1;32m   2144\u001b[0m \u001b[0;34m\u001b[0m\u001b[0m\n",
      "\u001b[0;31mValueError\u001b[0m: cannot call `vectorize` on size 0 inputs unless `otypes` is set"
     ]
    }
   ],
   "source": [
    "PREDICT_DAYS = 10\n",
    "\n",
    "predictions = pd.DataFrame()\n",
    "results = {}\n",
    "\n",
    "for DAYS in range(PREDICT_DAYS+1):\n",
    "    \n",
    "    X, y = functions.dataX(df_, DATE, X_col, Y_col, historic_variable, DAYS)\n",
    "    X_train, X_test, y_train, y_test = train_test_split(X, y, test_size=0.2, random_state=0, shuffle=False)\n",
    "\n",
    "    Tree = ClassHierarchy('ORDERS')\n",
    "    Tree.add_node(['UNKNOWN','KNOWN'], 'ORDERS')\n",
    "    Tree.add_node(['HAPPY','UNHAPPY'], 'KNOWN')\n",
    "    Tree.add_node(['MILDLY UNHAPPY','MEDIUM UNHAPPY','HEAVILY UNHAPPY'], 'UNHAPPY')\n",
    "\n",
    "    HC = HierarchicalClassifier(Tree)\n",
    "    HC.fit_classifiers({'ORDERS'  : RandomForestClassifier(random_state=0, class_weight='balanced', n_estimators = 20, max_depth = 10),\n",
    "                        'KNOWN'   : RandomForestClassifier(random_state=0, class_weight='balanced', n_estimators = 20, max_depth = 10),\n",
    "                        'UNHAPPY' : RandomForestClassifier(random_state=0, class_weight='balanced', n_estimators = 20, max_depth = 10)})\n",
    "    \n",
    "    HC = HC.fit(X_train,y_train['detailedMatchClassification'])\n",
    "    pred = HC.predict_proba(X_test, threshold = 0.7)\n",
    "    \n",
    "    fraction_label, fraction_leaf, accuracy_leaf = day_block_scores(HC, y_test['detailedMatchClassification'], pred)\n",
    "    \n",
    "    predictions[DAYS] = pred\n",
    "    results['DAY '+str(DAYS)] = (fraction_label, fraction_leaf, accuracy_leaf)\n",
    "    \n",
    "    print('DAYS: ',DAYS)"
   ]
  },
  {
   "cell_type": "code",
   "execution_count": 307,
   "metadata": {
    "execution": {
     "iopub.execute_input": "2021-02-10T18:06:19.364171Z",
     "iopub.status.busy": "2021-02-10T18:06:19.363783Z",
     "iopub.status.idle": "2021-02-10T18:06:19.777770Z",
     "shell.execute_reply": "2021-02-10T18:06:19.776773Z",
     "shell.execute_reply.started": "2021-02-10T18:06:19.364064Z"
    },
    "jupyter": {
     "source_hidden": true
    }
   },
   "outputs": [],
   "source": [
    "changes = {}\n",
    "for i in range(0,predictions.shape[1]-1):\n",
    "    col_t0 = predictions.iloc[:,i]\n",
    "    col_t1 = predictions.iloc[:,i+1]\n",
    "    \n",
    "    check_leaf_t0 = col_t0.isin(Tree._get_leaf_nodes())\n",
    "    index_leaf_t0 = check_leaf_t0[check_leaf_t0].index\n",
    "    \n",
    "    col_t0_leaf = col_t0.loc[index_leaf_t0]\n",
    "    col_t1_leaf = col_t1.loc[index_leaf_t0]\n",
    "    \n",
    "    check_similarity = (col_t0_leaf == col_t1_leaf)\n",
    "    if i == 0:\n",
    "        ix = check_similarity[check_similarity == False].index\n",
    "    \n",
    "    changes['DAY '+str(i+1)] = 1 - (check_similarity.sum() / col_t0_leaf.count())"
   ]
  },
  {
   "cell_type": "code",
   "execution_count": 308,
   "metadata": {
    "execution": {
     "iopub.execute_input": "2021-02-10T18:06:20.288015Z",
     "iopub.status.busy": "2021-02-10T18:06:20.287572Z",
     "iopub.status.idle": "2021-02-10T18:06:20.300396Z",
     "shell.execute_reply": "2021-02-10T18:06:20.298969Z",
     "shell.execute_reply.started": "2021-02-10T18:06:20.287972Z"
    },
    "jupyter": {
     "source_hidden": true
    }
   },
   "outputs": [],
   "source": [
    "days0, stats = zip(*results.items())\n",
    "fraction_label, fraction_leaf, accuracy_leaf = zip(*stats)\n",
    "days1, change = zip(*changes.items())"
   ]
  },
  {
   "cell_type": "code",
   "execution_count": 309,
   "metadata": {
    "collapsed": true,
    "execution": {
     "iopub.execute_input": "2021-02-10T18:06:20.786779Z",
     "iopub.status.busy": "2021-02-10T18:06:20.786507Z",
     "iopub.status.idle": "2021-02-10T18:06:21.018652Z",
     "shell.execute_reply": "2021-02-10T18:06:21.016521Z",
     "shell.execute_reply.started": "2021-02-10T18:06:20.786753Z"
    },
    "jupyter": {
     "outputs_hidden": true,
     "source_hidden": true
    }
   },
   "outputs": [
    {
     "data": {
      "text/plain": [
       "[<matplotlib.lines.Line2D at 0x7ffa693cc910>]"
      ]
     },
     "execution_count": 309,
     "metadata": {},
     "output_type": "execute_result"
    },
    {
     "data": {
      "image/png": "[encoded data removed]",
      "text/plain": [
       "<Figure size 432x288 with 1 Axes>"
      ]
     },
     "metadata": {
      "needs_background": "light"
     },
     "output_type": "display_data"
    }
   ],
   "source": [
    "plt.plot(days1,change)\n",
    "plt.plot(days0,fraction_label)\n",
    "plt.plot(days0,fraction_leaf)\n",
    "plt.plot(days0,accuracy_leaf)"
   ]
  },
  {
   "cell_type": "markdown",
   "metadata": {},
   "source": [
    "#### Functions"
   ]
  },
  {
   "cell_type": "code",
   "execution_count": 428,
   "metadata": {
    "execution": {
     "iopub.execute_input": "2021-02-11T13:08:09.772392Z",
     "iopub.status.busy": "2021-02-11T13:08:09.772110Z",
     "iopub.status.idle": "2021-02-11T13:08:09.797586Z",
     "shell.execute_reply": "2021-02-11T13:08:09.796085Z",
     "shell.execute_reply.started": "2021-02-11T13:08:09.772365Z"
    },
    "jupyter": {
     "source_hidden": true
    }
   },
   "outputs": [],
   "source": [
    "def global_scores(y_true, y_pred, average = 'macro'):\n",
    "    accuracy = metrics.accuracy_score(y_true, y_pred)\n",
    "    scores = metrics.precision_recall_fscore_support(y_true, y_pred, average = average)\n",
    "    return accuracy, scores[0], scores[1], scores[2]\n",
    "\n",
    "def local_scores(y_true, y_pred):\n",
    "    labels = np.unique(y_true)\n",
    "    scores = metrics.precision_recall_fscore_support(y_true, y_pred, average = None, labels = labels, beta = 1)\n",
    "    return scores[0], scores[1], scores[2]\n",
    "\n",
    "def class_report(y_true, y_pred):\n",
    "    print(metrics.classification_report(y_true, y_pred))\n",
    "\n",
    "def _aggregate_class_sets(set_function, y_true, y_pred):\n",
    "    intersection_sum = 0\n",
    "    true_sum = 0\n",
    "    predicted_sum = 0\n",
    "    for true, pred in zip(list(y_true), list(y_pred)):\n",
    "        true_set = set([true] + set_function(true))\n",
    "        pred_set = set([pred] + set_function(pred))\n",
    "        intersection_sum += len(true_set.intersection(pred_set))\n",
    "        true_sum += len(true_set)\n",
    "        predicted_sum += len(pred_set)\n",
    "    return (true_sum, predicted_sum, intersection_sum)\n",
    "\n",
    "def _fbeta_score_class_sets(set_function, y_true, y_pred, beta=1):\n",
    "    true_sum, predicted_sum, intersection_sum = _aggregate_class_sets(set_function, y_true, y_pred)\n",
    "    precision = intersection_sum / predicted_sum\n",
    "    recall = intersection_sum / true_sum\n",
    "    return ((beta ** 2 + 1) * precision * recall) / ((beta ** 2 * precision) + recall)\n",
    "\n",
    "def precision_score_ancestors(class_hierarchy, y_true, y_pred):\n",
    "    true_sum, predicted_sum, intersection_sum = _aggregate_class_sets(\n",
    "        class_hierarchy._get_ancestors, y_true, y_pred)\n",
    "    return intersection_sum / predicted_sum\n",
    "\n",
    "def recall_score_ancestors(class_hierarchy, y_true, y_pred):\n",
    "    true_sum, predicted_sum, intersection_sum = _aggregate_class_sets(\n",
    "        class_hierarchy._get_ancestors, y_true, y_pred)\n",
    "    return intersection_sum / true_sum\n",
    "\n",
    "def f1_score_ancestors(class_hierarchy, y_true, y_pred):\n",
    "    return _fbeta_score_class_sets(class_hierarchy._get_ancestors, y_true, y_pred)\n",
    "\n",
    "def day_block_scores(classifier, y_true, y_pred, print_output = False):\n",
    "    \n",
    "    check_label = (y_pred != classifier.class_hierarchy.root)\n",
    "    index_label = check_label[check_label].index\n",
    "    \n",
    "    fraction_label = check_label.sum()/y_pred.count()\n",
    "    fraction_leaf = y_pred.isin(classifier.class_hierarchy._get_leaf_nodes()).sum()/y_pred.count()\n",
    "    \n",
    "    check_leaf = y_pred.isin(classifier.class_hierarchy._get_leaf_nodes())\n",
    "    index_leaf = check_leaf[check_leaf].index\n",
    "    accuracy_leaf, precision_leaf, recall_leaf, f1_leaf = global_scores(y_true.loc[index_leaf],y_pred.loc[index_leaf])\n",
    "    \n",
    "    if len(index_leaf) != len(y_true):\n",
    "        fraction_blocked = classifier.blocking\n",
    "    \n",
    "    if print_output == True:\n",
    "        print('Percentage labelled\\t:'  ,round(fraction_label*100,2),'%')\n",
    "        print('Percentage leaf node\\t:' ,round(fraction_leaf*100,2) ,'%')\n",
    "        print('Accuracy leaf node\\t:'   ,round(accuracy_leaf*100,2) ,'%')\n",
    "        print('Precision leaf node\\t:'  ,round(precision_leaf*100,2),'%')\n",
    "        print('Recall leaf node\\t:'     ,round(recall_leaf*100,2)   ,'%')\n",
    "\n",
    "        for node, fraction in fraction_blocked.items():\n",
    "            print('Percentage blocked at '+node+'\\t:',round(fraction*100,2),'%')\n",
    "    else:    \n",
    "        return fraction_label, fraction_leaf, accuracy_leaf"
   ]
  },
  {
   "cell_type": "code",
   "execution_count": 141,
   "metadata": {
    "execution": {
     "iopub.execute_input": "2021-02-10T14:30:36.608918Z",
     "iopub.status.busy": "2021-02-10T14:30:36.608656Z",
     "iopub.status.idle": "2021-02-10T14:30:36.618618Z",
     "shell.execute_reply": "2021-02-10T14:30:36.617155Z",
     "shell.execute_reply.started": "2021-02-10T14:30:36.608894Z"
    },
    "jupyter": {
     "source_hidden": true
    }
   },
   "outputs": [],
   "source": [
    "class ClassHierarchy:\n",
    "    \n",
    "    def __init__(self, root):\n",
    "        self.root = root\n",
    "        self.nodes = {}\n",
    "        \n",
    "    def add_node(self, children, parent):\n",
    "        for child in children:\n",
    "            self.nodes[child] = parent\n",
    "            \n",
    "    def _get_leaf_nodes(self):\n",
    "        leaf_nodes = []\n",
    "        for child in self.nodes.keys():\n",
    "            if self._get_children(child) == []:\n",
    "                leaf_nodes.append(child)\n",
    "        return leaf_nodes\n",
    "\n",
    "    def _get_children(self, parent):\n",
    "        return sorted([child for child, childs_parent in\n",
    "                       self.nodes.items() if childs_parent == parent])\n",
    "    \n",
    "    def _get_parent(self, child):\n",
    "        return self.nodes[child] if (child in self.nodes and child != self.root) else self.root\n",
    "    \n",
    "    def _get_ancestors(self, child):\n",
    "        # Not including root, not including the child\n",
    "        ancestors = []\n",
    "        while True:\n",
    "            child = self._get_parent(child)\n",
    "            if child == self.root:\n",
    "                break\n",
    "            ancestors.append(child)\n",
    "        return ancestors"
   ]
  },
  {
   "cell_type": "code",
   "execution_count": 472,
   "metadata": {
    "execution": {
     "iopub.execute_input": "2021-02-11T14:19:47.004845Z",
     "iopub.status.busy": "2021-02-11T14:19:47.004309Z",
     "iopub.status.idle": "2021-02-11T14:19:47.071042Z",
     "shell.execute_reply": "2021-02-11T14:19:47.068347Z",
     "shell.execute_reply.started": "2021-02-11T14:19:47.004781Z"
    }
   },
   "outputs": [],
   "source": [
    "class HierarchicalClassifier:\n",
    "\n",
    "    def __init__(self, class_hierarchy):\n",
    "        self.stages = {}\n",
    "        self.class_hierarchy = class_hierarchy\n",
    "        self._create_stages(self.stages, self.class_hierarchy.root, 0)\n",
    "\n",
    "    def _create_stages(self, stages, parent, depth):\n",
    "        # Get the children of this parent\n",
    "        children = self.class_hierarchy._get_children(parent)\n",
    "        \n",
    "        if len(children) > 0:\n",
    "            stage = {}\n",
    "            stage['depth'] = depth\n",
    "            stage['labels'] = children\n",
    "            stage['classes'] = stage['labels'] + [parent]\n",
    "            stage['target'] = 'target_stage_' + parent\n",
    "            stages[parent] = stage\n",
    "\n",
    "            for node in children:\n",
    "                self._create_stages(stages, node, depth + 1)\n",
    "                \n",
    "    def _recode_label(self, classes, label):\n",
    "\n",
    "        while label != self.class_hierarchy.root and label not in classes:\n",
    "            label = self.class_hierarchy._get_parent(label)\n",
    "        return label\n",
    "                \n",
    "    def _prep_data(self, X, y):\n",
    "        \n",
    "        Xcols = range(0, X.shape[1])\n",
    "        Ycol = X.shape[1]\n",
    "        \n",
    "        df = pd.concat([X, y], axis=1, ignore_index=True)\n",
    "        # Create a target column for each stage with the recoded labels\n",
    "        for stage_name, stage_info in self.stages.items():\n",
    "            df[stage_info['target']] = pd.DataFrame.apply(df[[Ycol]],\n",
    "                                    lambda row: self._recode_label(stage_info['classes'], row[Ycol]),\n",
    "                                    axis=1)\n",
    "        return df, Xcols\n",
    "    \n",
    "    def _label_mapping(self, y_train, stage_name):\n",
    "        labels = np.unique(y_train)\n",
    "        int_label_mapping = dict(enumerate(labels))\n",
    "        label_int_mapping = {y:x for x,y in int_label_mapping.items()}\n",
    "        self.stages[stage_name]['mapping'] = {'int_label':int_label_mapping,\n",
    "                                              'label_int':label_int_mapping}\n",
    "        #return int_label_mapping, label_int_mapping\n",
    "        \n",
    "    def _class_weights(self, y_train, stage_name):\n",
    "        class_weights = class_weight.compute_class_weight('balanced',classes = np.unique(y_train),y = y_train)\n",
    "        class_weights = dict(enumerate(class_weights))\n",
    "        self.stages[stage_name]['classifier'].set_params(class_weight = class_weights)\n",
    "    \n",
    "    def fit_classifiers(self, classifiers):\n",
    "        \"\"\"\n",
    "        Fit a classifier to each stage\n",
    "        \"\"\"\n",
    "        if classifiers.keys() != self.stages.keys():\n",
    "             raise ValueError('Your assigned classifiers do not match the stages of the hierarchy, fit a classifier to each of: '+self.stages.keys())\n",
    "        else:\n",
    "            for stage, classifier in classifiers.items():\n",
    "                self.stages[stage]['classifier'] = classifier\n",
    "    \n",
    "    def fit(self, X, y):\n",
    "        \"\"\"\n",
    "        Build a multi-classifier from training data (X, y).\n",
    "        \"\"\"\n",
    "        df, Xcols = self._prep_data(X, y)\n",
    "        self.scaler = preprocessing.MinMaxScaler().fit(X)\n",
    "        \n",
    "        for stage_name, stage_info in self.stages.items():\n",
    "            \n",
    "            dfFilter = df[df[stage_info['target']].isin(stage_info['classes'])]\n",
    "            \n",
    "            X_train = dfFilter[Xcols]\n",
    "            y_train = dfFilter[[stage_info['target']]]\n",
    "                        \n",
    "            #warning - no samples to fit for stage\n",
    "            if isinstance(stage_info['classifier'], KerasClassifier):\n",
    "                y_train_col = pd.Series(np.ravel(y_train))\n",
    "                self._class_weights(y_train_col, stage_name)\n",
    "                self._label_mapping(y_train_col, stage_name)\n",
    "                y_encoded = y_train_col.map(stage_info['mapping']['label_int'])\n",
    "                y_dummy = pd.DataFrame(np_utils.to_categorical(y_encoded))\n",
    "                X_scaled = pd.DataFrame(self.scaler.transform(X_train))\n",
    "                stage_info['classifier'].fit(X_scaled, y_dummy)\n",
    "            else:\n",
    "                stage_info['classifier'] = stage_info['classifier'].fit(X_train, y_train)\n",
    "            #print('Stage '+stage_name+' succesfully fitted')\n",
    "\n",
    "        return self\n",
    "    \n",
    "    def predict(self, X):\n",
    "        \n",
    "        stage_number = 0\n",
    "        for stage_name, stage_info in self.stages.items():\n",
    "            \n",
    "            if stage_name == self.class_hierarchy.root:\n",
    "                y_hat = pd.DataFrame([self.class_hierarchy.root] * len(X),\n",
    "                                        columns=[self.class_hierarchy.root],\n",
    "                                        index=X.index)\n",
    "            else:\n",
    "                y_hat[stage_name] = y_hat[list(self.stages.keys())[stage_number - 1]]\n",
    "            stage_number += 1             \n",
    "                \n",
    "            X_test = X[y_hat[stage_name].isin([stage_name])]  #warning - no samples to fit for stage\n",
    "            \n",
    "            if isinstance(stage_info['classifier'], KerasClassifier):\n",
    "                X_scaled = pd.DataFrame(self.scaler.transform(X_test))\n",
    "                y_pred = pd.Series(stage_info['classifier'].predict(X_scaled)).map(stage_info['mapping']['int_label'])\n",
    "                y_hat_stage = pd.DataFrame(y_pred.values, index = X_test.index)\n",
    "            else:\n",
    "                y_hat_stage = pd.DataFrame(stage_info['classifier'].predict(X_test), index = X_test.index)\n",
    "                \n",
    "            y_hat = y_hat.assign(stage_col = y_hat_stage)\n",
    "            y_hat.stage_col = y_hat.stage_col.fillna(y_hat[stage_name]) #fill previously predicted labels\n",
    "            y_hat = y_hat.drop(stage_name, axis=1)\n",
    "            y_hat = y_hat.rename(columns={'stage_col': stage_name})\n",
    "            \n",
    "        return y_hat.iloc[:, y_hat.shape[1] - 1]     \n",
    "    \n",
    "    def predict_proba(self, X, threshold = 0.5):\n",
    "        \n",
    "        self.blocking = {}\n",
    "        stage_number = 0\n",
    "        for stage_name, stage_info in self.stages.items():\n",
    "            \n",
    "            if stage_name == self.class_hierarchy.root:\n",
    "                y_hat = pd.DataFrame([self.class_hierarchy.root] * len(X),\n",
    "                                        columns=[self.class_hierarchy.root],\n",
    "                                        index=X.index)\n",
    "            else:\n",
    "                y_hat[stage_name] = y_hat[list(self.stages.keys())[stage_number - 1]]\n",
    "            stage_number += 1             \n",
    "                \n",
    "            X_test = X[y_hat[stage_name].isin([stage_name])]  #warning - no samples to fit for stage\n",
    "            \n",
    "            if isinstance(stage_info['classifier'], KerasClassifier):\n",
    "                X_scaled = pd.DataFrame(self.scaler.transform(X_test))\n",
    "                y_proba = stage_info['classifier'].predict_proba(X_scaled)\n",
    "                y_classes = list(stage_info['mapping']['int_label'].values())\n",
    "            else:\n",
    "                y_proba = stage_info['classifier'].predict_proba(X_test)\n",
    "                y_classes = stage_info['classifier'].classes_\n",
    "            \n",
    "            max_prob = np.amax(y_proba, axis=1)              #max probability of classes\n",
    "            max_class = np.argmax(y_proba, axis=1)           #class number with max probability\n",
    "            accept_index = np.where(max_prob >= threshold)[0]#indexes which are above threshold\n",
    "            accept_class = np.take(max_class, accept_index)  #filtered list of orders which are above threshold\n",
    "            \n",
    "            if len(accept_class) > 0: #check if samples reach threshold\n",
    "                accept_label = np.vectorize(lambda x: y_classes[x])(accept_class)                             #convert class number into label\n",
    "                y_hat_stage = pd.DataFrame(accept_label, index = np.take(X_test.index.values, accept_index))  #set labels to correct position\n",
    "                self.blocking[stage_name] = 1 - (len(accept_class) / len(max_class)) #blocking factor\n",
    "            else:\n",
    "                y_hat_stage = pd.DataFrame(columns = [0], index = X_test.index)\n",
    "                self.blocking[stage_name] = 1\n",
    "                \n",
    "            y_hat = y_hat.assign(stage_col = y_hat_stage)\n",
    "            y_hat.stage_col = y_hat.stage_col.fillna(y_hat[stage_name]) #fill previously predicted labels\n",
    "            y_hat = y_hat.drop(stage_name, axis=1)\n",
    "            y_hat = y_hat.rename(columns={'stage_col': stage_name})\n",
    "            \n",
    "        return y_hat.iloc[:, y_hat.shape[1] - 1]"
   ]
  },
  {
   "cell_type": "code",
   "execution_count": 45,
   "metadata": {
    "execution": {
     "iopub.execute_input": "2021-02-08T13:28:47.153024Z",
     "iopub.status.busy": "2021-02-08T13:28:47.152658Z",
     "iopub.status.idle": "2021-02-08T13:28:47.183804Z",
     "shell.execute_reply": "2021-02-08T13:28:47.177640Z",
     "shell.execute_reply.started": "2021-02-08T13:28:47.152989Z"
    },
    "jupyter": {
     "source_hidden": true
    }
   },
   "outputs": [],
   "source": [
    "def classifyLabelsHC(classifier, X, y, n, split = 'TimeSeries', smote = False, scale = None, NN = False):\n",
    "\n",
    "    scaler = preprocessing.MinMaxScaler()\n",
    "    \n",
    "    results = {}\n",
    "    \n",
    "    storage = {'binary'  :{'acc':{},'pre':{},'rec':{},'f1':{}},\n",
    "               'general' :{'acc':{},'pre':{},'rec':{},'f1':{}},\n",
    "               'detailed':{'acc':{},'pre':{},'rec':{},'f1':{}}}\n",
    "        \n",
    "    if split == 'Random':\n",
    "        cv = StratifiedKFold(n_splits = n, random_state = 0, shuffle = True)   \n",
    "    else:\n",
    "        cv = TimeSeriesSplit(n_splits = n)\n",
    "    \n",
    "    count = 1\n",
    "\n",
    "    for train_index, test_index in cv.split(X):\n",
    "        \n",
    "        if scale != None:\n",
    "            X_scaled = pd.DataFrame(scaler.fit_transform(X))\n",
    "            X_train, X_test = X_scaled.iloc[train_index], X_scaled.iloc[test_index]\n",
    "        else:   \n",
    "            X_train, X_test = X.iloc[train_index], X.iloc[test_index]\n",
    "            \n",
    "        y_train, y_test = y.iloc[train_index], y.iloc[test_index]\n",
    "        \n",
    "        classifier.fit(X_train,y_train)\n",
    "        predictions = classifier.predict(X_test)\n",
    "        \n",
    "        #Calculate performance metrics for each level\n",
    "        for level in ['binary','general','detailed']:\n",
    "            \n",
    "            labels = np.unique(y[level+'MatchClassification'])\n",
    "            \n",
    "            y_pred_ = predictions[level+'Prediction']\n",
    "            y_test_ = y_test[level+'MatchClassification']\n",
    "\n",
    "            accuracy = metrics.accuracy_score(y_test_, y_pred_)\n",
    "            scores = metrics.precision_recall_fscore_support(y_test_, y_pred_, average = None, labels = labels, beta = 1)\n",
    "            \n",
    "            storage[level]['acc'][count] = accuracy\n",
    "            storage[level]['pre'][count] = scores[0]\n",
    "            storage[level]['rec'][count] = scores[1]\n",
    "            storage[level]['f1'][count] = scores[2]\n",
    "        \n",
    "        count += 1\n",
    "    \n",
    "    #Calculate averages of each metric\n",
    "    for level in ['binary','general','detailed']:\n",
    "        \n",
    "        labels = np.unique(y[level+'MatchClassification'])\n",
    "        \n",
    "        results[level+'Accuracy'] = sum(storage[level]['acc'].values()) / n\n",
    "\n",
    "        for ix,lab in enumerate(labels):\n",
    "            results[(level+'Precision_'+lab)] = (sum(storage[level]['pre'].values()) / n)[ix]\n",
    "            results[(level+'Recall_'+lab)] = (sum(storage[level]['rec'].values()) / n)[ix]\n",
    "            results[(level+'F1_'+lab)] = (sum(storage[level]['f1'].values()) / n)[ix]\n",
    "    \n",
    "    return results"
   ]
  }
 ],
 "metadata": {
  "kernelspec": {
   "display_name": "Python 3",
   "language": "python",
   "name": "python3"
  },
  "language_info": {
   "codemirror_mode": {
    "name": "ipython",
    "version": 3
   },
   "file_extension": ".py",
   "mimetype": "text/x-python",
   "name": "python",
   "nbconvert_exporter": "python",
   "pygments_lexer": "ipython3",
   "version": "3.8.5"
  }
 },
 "nbformat": 4,
 "nbformat_minor": 4
}
