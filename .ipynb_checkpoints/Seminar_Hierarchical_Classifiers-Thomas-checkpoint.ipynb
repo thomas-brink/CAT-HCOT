{
 "cells": [
  {
   "cell_type": "code",
   "execution_count": 105,
   "metadata": {
    "execution": {
     "iopub.execute_input": "2021-02-17T14:38:20.126129Z",
     "iopub.status.busy": "2021-02-17T14:38:20.125124Z",
     "iopub.status.idle": "2021-02-17T14:38:23.437976Z",
     "shell.execute_reply": "2021-02-17T14:38:23.436991Z",
     "shell.execute_reply.started": "2021-02-17T14:38:20.126129Z"
    }
   },
   "outputs": [
    {
     "name": "stdin",
     "output_type": "stream",
     "text": [
      "Once deleted, variables cannot be recovered. Proceed (y/[n])?  y\n"
     ]
    }
   ],
   "source": [
    "%reset"
   ]
  },
  {
   "cell_type": "code",
   "execution_count": 76,
   "metadata": {
    "execution": {
     "iopub.execute_input": "2021-02-17T22:19:02.264533Z",
     "iopub.status.busy": "2021-02-17T22:19:02.263493Z",
     "iopub.status.idle": "2021-02-17T22:19:02.298413Z",
     "shell.execute_reply": "2021-02-17T22:19:02.298413Z",
     "shell.execute_reply.started": "2021-02-17T22:19:02.264533Z"
    }
   },
   "outputs": [],
   "source": [
    "import pandas as pd\n",
    "import numpy as np\n",
    "import pyodbc as py\n",
    "\n",
    "import random\n",
    "from datetime import date, timedelta, datetime\n",
    "import time\n",
    "\n",
    "import matplotlib.pyplot as plt\n",
    "import seaborn as sns\n",
    "%matplotlib inline\n",
    "\n",
    "from sklearn import preprocessing\n",
    "from sklearn.utils import class_weight\n",
    "from sklearn.preprocessing import LabelEncoder\n",
    "from sklearn.preprocessing import OneHotEncoder\n",
    "from sklearn.model_selection import cross_val_predict\n",
    "from sklearn.model_selection import cross_validate, cross_val_score\n",
    "from sklearn.metrics import precision_recall_fscore_support, accuracy_score\n",
    "from sklearn.feature_selection import chi2, SelectKBest, SelectPercentile, mutual_info_classif, RFE, RFECV, SelectFromModel\n",
    "from sklearn.pipeline import Pipeline\n",
    "from sklearn.model_selection import train_test_split\n",
    "\n",
    "from sklearn import neighbors\n",
    "from sklearn import svm\n",
    "from sklearn.tree import DecisionTreeClassifier\n",
    "from sklearn.ensemble import RandomForestClassifier\n",
    "from sklearn.ensemble import BaggingClassifier\n",
    "from sklearn.ensemble import AdaBoostClassifier\n",
    "from sklearn.ensemble import GradientBoostingClassifier\n",
    "from sklearn.naive_bayes import GaussianNB\n",
    "from sklearn.naive_bayes import BernoulliNB\n",
    "from sklearn.experimental import enable_hist_gradient_boosting\n",
    "from sklearn.ensemble import HistGradientBoostingClassifier\n",
    "from sklearn import metrics\n",
    "from sklearn.linear_model import LogisticRegression\n",
    "\n",
    "from sklearn.model_selection import TimeSeriesSplit\n",
    "from sklearn.model_selection import KFold\n",
    "from sklearn.model_selection import StratifiedKFold\n",
    "\n",
    "from imblearn.over_sampling import SMOTE\n",
    "\n",
    "from hyperopt import fmin, tpe, hp, STATUS_OK, Trials\n",
    "from hyperopt.pyll.base import scope\n",
    "from time import time\n",
    "from itertools import product\n",
    "\n",
    "import tensorflow as tf\n",
    "from tensorflow.keras.models import Sequential\n",
    "from tensorflow.keras.layers import Dense,Activation,Dropout\n",
    "from tensorflow.keras.wrappers.scikit_learn import KerasClassifier\n",
    "from keras.utils import np_utils\n",
    "\n",
    "import functions\n",
    "import importlib\n",
    "importlib.reload(functions)\n",
    "\n",
    "import warnings\n",
    "warnings.filterwarnings(\"ignore\")\n",
    "\n",
    "pd.set_option('display.max_columns', None)"
   ]
  },
  {
   "cell_type": "code",
   "execution_count": 3,
   "metadata": {
    "execution": {
     "iopub.execute_input": "2021-02-17T16:15:40.073777Z",
     "iopub.status.busy": "2021-02-17T16:15:40.073777Z",
     "iopub.status.idle": "2021-02-17T16:15:40.089213Z",
     "shell.execute_reply": "2021-02-17T16:15:40.088216Z",
     "shell.execute_reply.started": "2021-02-17T16:15:40.073777Z"
    }
   },
   "outputs": [],
   "source": [
    "tf.keras.backend.set_floatx('float64')"
   ]
  },
  {
   "cell_type": "markdown",
   "metadata": {},
   "source": [
    "#### Load Data"
   ]
  },
  {
   "cell_type": "code",
   "execution_count": 4,
   "metadata": {
    "execution": {
     "iopub.execute_input": "2021-02-17T16:15:40.090209Z",
     "iopub.status.busy": "2021-02-17T16:15:40.090209Z",
     "iopub.status.idle": "2021-02-17T16:15:40.104162Z",
     "shell.execute_reply": "2021-02-17T16:15:40.104162Z",
     "shell.execute_reply.started": "2021-02-17T16:15:40.090209Z"
    }
   },
   "outputs": [
    {
     "data": {
      "text/plain": [
       "<module 'functions' from 'C:\\\\Users\\\\thoma\\\\Documents\\\\QM & BA\\\\QM & BA\\\\Seminar in QM & BA\\\\Seminar-QM-BA\\\\functions.py'>"
      ]
     },
     "execution_count": 4,
     "metadata": {},
     "output_type": "execute_result"
    }
   ],
   "source": [
    "importlib.reload(functions)"
   ]
  },
  {
   "cell_type": "code",
   "execution_count": 5,
   "metadata": {
    "execution": {
     "iopub.execute_input": "2021-02-17T16:15:40.105160Z",
     "iopub.status.busy": "2021-02-17T16:15:40.105160Z",
     "iopub.status.idle": "2021-02-17T16:16:36.876085Z",
     "shell.execute_reply": "2021-02-17T16:16:36.875147Z",
     "shell.execute_reply.started": "2021-02-17T16:15:40.105160Z"
    }
   },
   "outputs": [],
   "source": [
    "#df = pd.read_csv('/Users/LV/Desktop/data_bol_complete.csv', low_memory = True)\n",
    "df = pd.read_csv('/Users/thoma/Documents/seminar_data/cleaned_prepared_data.csv', low_memory = True)"
   ]
  },
  {
   "cell_type": "code",
   "execution_count": 6,
   "metadata": {
    "execution": {
     "iopub.execute_input": "2021-02-17T16:16:36.877123Z",
     "iopub.status.busy": "2021-02-17T16:16:36.877123Z",
     "iopub.status.idle": "2021-02-17T16:16:52.236086Z",
     "shell.execute_reply": "2021-02-17T16:16:52.236086Z",
     "shell.execute_reply.started": "2021-02-17T16:16:36.877123Z"
    }
   },
   "outputs": [],
   "source": [
    "df['orderDate']                   = pd.to_datetime(df['orderDate'])\n",
    "df['cancellationDate']            = pd.to_datetime(df['cancellationDate'])\n",
    "df['promisedDeliveryDate']        = pd.to_datetime(df['promisedDeliveryDate'])\n",
    "df['shipmentDate']                = pd.to_datetime(df['shipmentDate'])\n",
    "df['dateTimeFirstDeliveryMoment'] = pd.to_datetime(df['dateTimeFirstDeliveryMoment'])\n",
    "df['startDateCase']               = pd.to_datetime(df['startDateCase'])\n",
    "df['returnDateTime']              = pd.to_datetime(df['returnDateTime'])\n",
    "df['registrationDateSeller']      = pd.to_datetime(df['registrationDateSeller'])"
   ]
  },
  {
   "cell_type": "code",
   "execution_count": 7,
   "metadata": {
    "execution": {
     "iopub.execute_input": "2021-02-17T16:16:52.238067Z",
     "iopub.status.busy": "2021-02-17T16:16:52.238067Z",
     "iopub.status.idle": "2021-02-17T16:16:52.252214Z",
     "shell.execute_reply": "2021-02-17T16:16:52.251432Z",
     "shell.execute_reply.started": "2021-02-17T16:16:52.238067Z"
    }
   },
   "outputs": [],
   "source": [
    "#Fixed Columns:\n",
    "DATE = ['orderDate']\n",
    "BASIC = ['totalPrice','quantityOrdered','fulfilmentByBol','countryCodeNL','countryOriginNL','countryOriginBE',\n",
    "        'countryOriginDE','productTitleLength','promisedDeliveryDays','partnerSellingDays', 'orderCorona']\n",
    "WEEK = ['orderMonday','orderTuesday','orderWednesday','orderThursday','orderFriday','orderSaturday','orderSunday']\n",
    "MONTH = ['orderJanuary','orderFebruary','orderMarch','orderApril','orderMay','orderJune',\n",
    "         'orderJuly','orderAugust','orderSeptember','orderOctober','orderNovember','orderDecember']\n",
    "YEAR = ['orderYear2020']\n",
    "GROUP = ['groupHealth','groupHome','groupSports','groupComputer','groupPets','groupToys','groupBooks', \n",
    "         'groupBaby', 'groupMusic', 'groupFood','groupOffice','groupFashion','groupOther','groupCar']\n",
    "\n",
    "#Dynamic Columns:\n",
    "TRANSPORTERX = ['transporterPOSTNL/X','transporterDHL/X','transporterDPD/X','transporterBRIEF/X','transporterOTHER/X']\n",
    "KNOWNX = ['caseKnownX','returnKnownX','cancellationKnownX','onTimeDeliveryKnownX','lateDeliveryKnownX']\n",
    "PRODUCTX = ['productOrderCountX','productTotalCountX','productTotalReturnedX','productReturnFractionX']\n",
    "SELLERX = ['sellerDailyOrdersX']\n",
    "HISTORICX = []\n",
    "historic_variable = ['transporterCode','sellerId','productGroup']\n",
    "for x in range(len(historic_variable)):\n",
    "    HISTORICX = HISTORICX + [historic_variable[x]+'HistoricHappyX',historic_variable[x]+'HistoricUnhappyX',historic_variable[x]+'HistoricUnknownX']\n",
    "\n",
    "#Determinants:\n",
    "DETERMINANT = ['noReturn', 'noCase', 'noCancellation', 'onTimeDelivery']\n",
    "\n",
    "#Classifications\n",
    "CLASSIFICATION = ['generalMatchClassification','detailedMatchClassification','binaryMatchClassification','determinantClassification']"
   ]
  },
  {
   "cell_type": "code",
   "execution_count": 8,
   "metadata": {
    "execution": {
     "iopub.execute_input": "2021-02-17T16:16:52.254197Z",
     "iopub.status.busy": "2021-02-17T16:16:52.254197Z",
     "iopub.status.idle": "2021-02-17T16:16:52.268282Z",
     "shell.execute_reply": "2021-02-17T16:16:52.267302Z",
     "shell.execute_reply.started": "2021-02-17T16:16:52.254197Z"
    }
   },
   "outputs": [],
   "source": [
    "X_col = BASIC + WEEK + MONTH + YEAR + GROUP + TRANSPORTERX + KNOWNX + PRODUCTX + SELLERX + HISTORICX\n",
    "Y_col = ['detailedMatchClassification']"
   ]
  },
  {
   "cell_type": "markdown",
   "metadata": {},
   "source": [
    "#### Sample data"
   ]
  },
  {
   "cell_type": "code",
   "execution_count": 77,
   "metadata": {
    "execution": {
     "iopub.execute_input": "2021-02-17T22:19:06.630323Z",
     "iopub.status.busy": "2021-02-17T22:19:06.630323Z",
     "iopub.status.idle": "2021-02-17T22:19:10.200234Z",
     "shell.execute_reply": "2021-02-17T22:19:10.198852Z",
     "shell.execute_reply.started": "2021-02-17T22:19:06.630323Z"
    }
   },
   "outputs": [],
   "source": [
    "# df_ contains a sample of training + validation data\n",
    "random.seed(100)\n",
    "df_ = df.iloc[:int(0.75*len(df))].sample(n=1100000, replace=False, random_state=1).sort_values(by = 'orderDate').reset_index(drop = True).drop(columns=['Unnamed: 0'])"
   ]
  },
  {
   "cell_type": "code",
   "execution_count": 78,
   "metadata": {
    "execution": {
     "iopub.execute_input": "2021-02-17T22:19:30.218772Z",
     "iopub.status.busy": "2021-02-17T22:19:30.218772Z",
     "iopub.status.idle": "2021-02-17T22:19:30.320263Z",
     "shell.execute_reply": "2021-02-17T22:19:30.319283Z",
     "shell.execute_reply.started": "2021-02-17T22:19:30.218772Z"
    }
   },
   "outputs": [
    {
     "data": {
      "text/html": [
       "<div>\n",
       "<style scoped>\n",
       "    .dataframe tbody tr th:only-of-type {\n",
       "        vertical-align: middle;\n",
       "    }\n",
       "\n",
       "    .dataframe tbody tr th {\n",
       "        vertical-align: top;\n",
       "    }\n",
       "\n",
       "    .dataframe thead th {\n",
       "        text-align: right;\n",
       "    }\n",
       "</style>\n",
       "<table border=\"1\" class=\"dataframe\">\n",
       "  <thead>\n",
       "    <tr style=\"text-align: right;\">\n",
       "      <th></th>\n",
       "      <th>Unnamed: 0</th>\n",
       "      <th>orderDate</th>\n",
       "      <th>productId</th>\n",
       "      <th>sellerId</th>\n",
       "      <th>totalPrice</th>\n",
       "      <th>quantityOrdered</th>\n",
       "      <th>countryCode</th>\n",
       "      <th>cancellationDate</th>\n",
       "      <th>cancellationReasonCode</th>\n",
       "      <th>promisedDeliveryDate</th>\n",
       "      <th>shipmentDate</th>\n",
       "      <th>transporterCode</th>\n",
       "      <th>transporterName</th>\n",
       "      <th>transporterNameOther</th>\n",
       "      <th>dateTimeFirstDeliveryMoment</th>\n",
       "      <th>fulfilmentType</th>\n",
       "      <th>startDateCase</th>\n",
       "      <th>cntDistinctCaseIds</th>\n",
       "      <th>returnDateTime</th>\n",
       "      <th>quantityReturned</th>\n",
       "      <th>returnCode</th>\n",
       "      <th>productTitle</th>\n",
       "      <th>brickName</th>\n",
       "      <th>chunkName</th>\n",
       "      <th>productGroup</th>\n",
       "      <th>productSubGroup</th>\n",
       "      <th>productSubSubGroup</th>\n",
       "      <th>registrationDateSeller</th>\n",
       "      <th>countryOriginSeller</th>\n",
       "      <th>currentCountryAvailabilitySeller</th>\n",
       "      <th>calculationDefinitive</th>\n",
       "      <th>noCancellation</th>\n",
       "      <th>onTimeDelivery</th>\n",
       "      <th>noCase</th>\n",
       "      <th>hasOneCase</th>\n",
       "      <th>hasMoreCases</th>\n",
       "      <th>noReturn</th>\n",
       "      <th>detailedMatchClassification</th>\n",
       "      <th>generalMatchClassification</th>\n",
       "      <th>caseDays</th>\n",
       "      <th>returnDays</th>\n",
       "      <th>cancellationDays</th>\n",
       "      <th>actualDeliveryDays</th>\n",
       "      <th>shipmentDays</th>\n",
       "      <th>partnerSellingDays</th>\n",
       "      <th>promisedDeliveryDays</th>\n",
       "      <th>orderYear</th>\n",
       "      <th>orderMonth</th>\n",
       "      <th>orderWeekday</th>\n",
       "      <th>orderCorona</th>\n",
       "      <th>orderMonday</th>\n",
       "      <th>orderTuesday</th>\n",
       "      <th>orderWednesday</th>\n",
       "      <th>orderThursday</th>\n",
       "      <th>orderFriday</th>\n",
       "      <th>orderSaturday</th>\n",
       "      <th>orderSunday</th>\n",
       "      <th>orderJanuary</th>\n",
       "      <th>orderFebruary</th>\n",
       "      <th>orderMarch</th>\n",
       "      <th>orderApril</th>\n",
       "      <th>orderMay</th>\n",
       "      <th>orderJune</th>\n",
       "      <th>orderJuly</th>\n",
       "      <th>orderAugust</th>\n",
       "      <th>orderSeptember</th>\n",
       "      <th>orderOctober</th>\n",
       "      <th>orderNovember</th>\n",
       "      <th>orderDecember</th>\n",
       "      <th>orderYear2020</th>\n",
       "      <th>productTitleLength</th>\n",
       "      <th>fulfilmentByBol</th>\n",
       "      <th>countryCodeNL</th>\n",
       "      <th>countryOriginNL</th>\n",
       "      <th>countryOriginBE</th>\n",
       "      <th>countryOriginDE</th>\n",
       "      <th>determinantClassification</th>\n",
       "      <th>binaryMatchClassification</th>\n",
       "      <th>transporterCodeGeneral</th>\n",
       "      <th>productGroupGeneral</th>\n",
       "      <th>groupHealth</th>\n",
       "      <th>groupHome</th>\n",
       "      <th>groupSports</th>\n",
       "      <th>groupComputer</th>\n",
       "      <th>groupPets</th>\n",
       "      <th>groupToys</th>\n",
       "      <th>groupBooks</th>\n",
       "      <th>groupBaby</th>\n",
       "      <th>groupMusic</th>\n",
       "      <th>groupFood</th>\n",
       "      <th>groupOffice</th>\n",
       "      <th>groupFashion</th>\n",
       "      <th>groupOther</th>\n",
       "      <th>groupCar</th>\n",
       "    </tr>\n",
       "  </thead>\n",
       "  <tbody>\n",
       "    <tr>\n",
       "      <th>0</th>\n",
       "      <td>0</td>\n",
       "      <td>2019-01-01</td>\n",
       "      <td>9200000103390344</td>\n",
       "      <td>1244284</td>\n",
       "      <td>1.599388</td>\n",
       "      <td>1</td>\n",
       "      <td>NL</td>\n",
       "      <td>NaT</td>\n",
       "      <td>NaN</td>\n",
       "      <td>2019-01-04</td>\n",
       "      <td>2019-01-02</td>\n",
       "      <td>TNT_BRIEF</td>\n",
       "      <td>PostNL Briefpost</td>\n",
       "      <td>NaN</td>\n",
       "      <td>NaT</td>\n",
       "      <td>FBR</td>\n",
       "      <td>NaT</td>\n",
       "      <td>NaN</td>\n",
       "      <td>NaT</td>\n",
       "      <td>NaN</td>\n",
       "      <td>NaN</td>\n",
       "      <td>Velvet Scrunchie Pale Pink</td>\n",
       "      <td>Haar – Accessoires</td>\n",
       "      <td>Haaraccessoire</td>\n",
       "      <td>Daily Care PG</td>\n",
       "      <td>Haar</td>\n",
       "      <td>Haar Accessoires</td>\n",
       "      <td>2016-12-19</td>\n",
       "      <td>NL</td>\n",
       "      <td>NL</td>\n",
       "      <td>True</td>\n",
       "      <td>True</td>\n",
       "      <td>NaN</td>\n",
       "      <td>True</td>\n",
       "      <td>0.0</td>\n",
       "      <td>0.0</td>\n",
       "      <td>True</td>\n",
       "      <td>UNKNOWN</td>\n",
       "      <td>UNKNOWN</td>\n",
       "      <td>NaN</td>\n",
       "      <td>NaN</td>\n",
       "      <td>NaN</td>\n",
       "      <td>NaN</td>\n",
       "      <td>1.0</td>\n",
       "      <td>743</td>\n",
       "      <td>3</td>\n",
       "      <td>2019</td>\n",
       "      <td>1</td>\n",
       "      <td>1</td>\n",
       "      <td>False</td>\n",
       "      <td>False</td>\n",
       "      <td>True</td>\n",
       "      <td>False</td>\n",
       "      <td>False</td>\n",
       "      <td>False</td>\n",
       "      <td>False</td>\n",
       "      <td>False</td>\n",
       "      <td>True</td>\n",
       "      <td>False</td>\n",
       "      <td>False</td>\n",
       "      <td>False</td>\n",
       "      <td>False</td>\n",
       "      <td>False</td>\n",
       "      <td>False</td>\n",
       "      <td>False</td>\n",
       "      <td>False</td>\n",
       "      <td>False</td>\n",
       "      <td>False</td>\n",
       "      <td>False</td>\n",
       "      <td>False</td>\n",
       "      <td>26</td>\n",
       "      <td>False</td>\n",
       "      <td>True</td>\n",
       "      <td>True</td>\n",
       "      <td>False</td>\n",
       "      <td>False</td>\n",
       "      <td>Unknown delivery</td>\n",
       "      <td>UNKNOWN</td>\n",
       "      <td>BRIEF</td>\n",
       "      <td>Health &amp; Care</td>\n",
       "      <td>True</td>\n",
       "      <td>False</td>\n",
       "      <td>False</td>\n",
       "      <td>False</td>\n",
       "      <td>False</td>\n",
       "      <td>False</td>\n",
       "      <td>False</td>\n",
       "      <td>False</td>\n",
       "      <td>False</td>\n",
       "      <td>False</td>\n",
       "      <td>False</td>\n",
       "      <td>False</td>\n",
       "      <td>False</td>\n",
       "      <td>False</td>\n",
       "    </tr>\n",
       "    <tr>\n",
       "      <th>1</th>\n",
       "      <td>1</td>\n",
       "      <td>2019-01-01</td>\n",
       "      <td>9200000065456100</td>\n",
       "      <td>1167286</td>\n",
       "      <td>5.062595</td>\n",
       "      <td>1</td>\n",
       "      <td>NL</td>\n",
       "      <td>NaT</td>\n",
       "      <td>NaN</td>\n",
       "      <td>2019-01-07</td>\n",
       "      <td>2019-01-02</td>\n",
       "      <td>DPD-NL</td>\n",
       "      <td>DPD Nederland</td>\n",
       "      <td>NaN</td>\n",
       "      <td>NaT</td>\n",
       "      <td>FBR</td>\n",
       "      <td>2019-01-03</td>\n",
       "      <td>2.0</td>\n",
       "      <td>NaT</td>\n",
       "      <td>NaN</td>\n",
       "      <td>NaN</td>\n",
       "      <td>Inventum MN306C - Combi-magnetron</td>\n",
       "      <td>Magnetrons</td>\n",
       "      <td>Vrijstaande magnetron</td>\n",
       "      <td>Major Domestic Appliances PG</td>\n",
       "      <td>Cooking</td>\n",
       "      <td>Cooking</td>\n",
       "      <td>2016-04-15</td>\n",
       "      <td>NL</td>\n",
       "      <td>NL</td>\n",
       "      <td>True</td>\n",
       "      <td>True</td>\n",
       "      <td>NaN</td>\n",
       "      <td>False</td>\n",
       "      <td>0.0</td>\n",
       "      <td>1.0</td>\n",
       "      <td>True</td>\n",
       "      <td>HEAVILY UNHAPPY</td>\n",
       "      <td>UNHAPPY</td>\n",
       "      <td>2.0</td>\n",
       "      <td>NaN</td>\n",
       "      <td>NaN</td>\n",
       "      <td>NaN</td>\n",
       "      <td>1.0</td>\n",
       "      <td>991</td>\n",
       "      <td>6</td>\n",
       "      <td>2019</td>\n",
       "      <td>1</td>\n",
       "      <td>1</td>\n",
       "      <td>False</td>\n",
       "      <td>False</td>\n",
       "      <td>True</td>\n",
       "      <td>False</td>\n",
       "      <td>False</td>\n",
       "      <td>False</td>\n",
       "      <td>False</td>\n",
       "      <td>False</td>\n",
       "      <td>True</td>\n",
       "      <td>False</td>\n",
       "      <td>False</td>\n",
       "      <td>False</td>\n",
       "      <td>False</td>\n",
       "      <td>False</td>\n",
       "      <td>False</td>\n",
       "      <td>False</td>\n",
       "      <td>False</td>\n",
       "      <td>False</td>\n",
       "      <td>False</td>\n",
       "      <td>False</td>\n",
       "      <td>False</td>\n",
       "      <td>33</td>\n",
       "      <td>False</td>\n",
       "      <td>True</td>\n",
       "      <td>True</td>\n",
       "      <td>False</td>\n",
       "      <td>False</td>\n",
       "      <td>Case + Unknown delivery</td>\n",
       "      <td>KNOWN</td>\n",
       "      <td>DPD</td>\n",
       "      <td>Home, Cooking &amp; Household</td>\n",
       "      <td>False</td>\n",
       "      <td>True</td>\n",
       "      <td>False</td>\n",
       "      <td>False</td>\n",
       "      <td>False</td>\n",
       "      <td>False</td>\n",
       "      <td>False</td>\n",
       "      <td>False</td>\n",
       "      <td>False</td>\n",
       "      <td>False</td>\n",
       "      <td>False</td>\n",
       "      <td>False</td>\n",
       "      <td>False</td>\n",
       "      <td>False</td>\n",
       "    </tr>\n",
       "    <tr>\n",
       "      <th>2</th>\n",
       "      <td>2</td>\n",
       "      <td>2019-01-01</td>\n",
       "      <td>9200000024539481</td>\n",
       "      <td>888610</td>\n",
       "      <td>3.401197</td>\n",
       "      <td>1</td>\n",
       "      <td>BE</td>\n",
       "      <td>NaT</td>\n",
       "      <td>NaN</td>\n",
       "      <td>2019-01-03</td>\n",
       "      <td>2019-01-02</td>\n",
       "      <td>BPOST_BE</td>\n",
       "      <td>Bpost Belgie</td>\n",
       "      <td>NaN</td>\n",
       "      <td>2019-01-03 08:17:00</td>\n",
       "      <td>FBB</td>\n",
       "      <td>NaT</td>\n",
       "      <td>NaN</td>\n",
       "      <td>NaT</td>\n",
       "      <td>NaN</td>\n",
       "      <td>NaN</td>\n",
       "      <td>Perfect Push Up V2</td>\n",
       "      <td>Fitness Accessoires</td>\n",
       "      <td>Opdruksteun</td>\n",
       "      <td>Sporting Equipment</td>\n",
       "      <td>Fitness Klein</td>\n",
       "      <td>Fitnessmaterialen</td>\n",
       "      <td>2013-12-21</td>\n",
       "      <td>NL</td>\n",
       "      <td>NL</td>\n",
       "      <td>True</td>\n",
       "      <td>True</td>\n",
       "      <td>True</td>\n",
       "      <td>True</td>\n",
       "      <td>0.0</td>\n",
       "      <td>0.0</td>\n",
       "      <td>True</td>\n",
       "      <td>HAPPY</td>\n",
       "      <td>HAPPY</td>\n",
       "      <td>NaN</td>\n",
       "      <td>NaN</td>\n",
       "      <td>NaN</td>\n",
       "      <td>2.0</td>\n",
       "      <td>1.0</td>\n",
       "      <td>1837</td>\n",
       "      <td>2</td>\n",
       "      <td>2019</td>\n",
       "      <td>1</td>\n",
       "      <td>1</td>\n",
       "      <td>False</td>\n",
       "      <td>False</td>\n",
       "      <td>True</td>\n",
       "      <td>False</td>\n",
       "      <td>False</td>\n",
       "      <td>False</td>\n",
       "      <td>False</td>\n",
       "      <td>False</td>\n",
       "      <td>True</td>\n",
       "      <td>False</td>\n",
       "      <td>False</td>\n",
       "      <td>False</td>\n",
       "      <td>False</td>\n",
       "      <td>False</td>\n",
       "      <td>False</td>\n",
       "      <td>False</td>\n",
       "      <td>False</td>\n",
       "      <td>False</td>\n",
       "      <td>False</td>\n",
       "      <td>False</td>\n",
       "      <td>False</td>\n",
       "      <td>18</td>\n",
       "      <td>True</td>\n",
       "      <td>False</td>\n",
       "      <td>True</td>\n",
       "      <td>False</td>\n",
       "      <td>False</td>\n",
       "      <td>All good</td>\n",
       "      <td>KNOWN</td>\n",
       "      <td>OTHER</td>\n",
       "      <td>Sports, Outdoor &amp; Travel</td>\n",
       "      <td>False</td>\n",
       "      <td>False</td>\n",
       "      <td>True</td>\n",
       "      <td>False</td>\n",
       "      <td>False</td>\n",
       "      <td>False</td>\n",
       "      <td>False</td>\n",
       "      <td>False</td>\n",
       "      <td>False</td>\n",
       "      <td>False</td>\n",
       "      <td>False</td>\n",
       "      <td>False</td>\n",
       "      <td>False</td>\n",
       "      <td>False</td>\n",
       "    </tr>\n",
       "    <tr>\n",
       "      <th>3</th>\n",
       "      <td>3</td>\n",
       "      <td>2019-01-01</td>\n",
       "      <td>9200000056338594</td>\n",
       "      <td>1308208</td>\n",
       "      <td>3.471966</td>\n",
       "      <td>2</td>\n",
       "      <td>NL</td>\n",
       "      <td>2019-01-02</td>\n",
       "      <td>SELLER_UNDELIV</td>\n",
       "      <td>2019-01-03</td>\n",
       "      <td>NaT</td>\n",
       "      <td>NaN</td>\n",
       "      <td>NaN</td>\n",
       "      <td>NaN</td>\n",
       "      <td>NaT</td>\n",
       "      <td>FBB</td>\n",
       "      <td>NaT</td>\n",
       "      <td>NaN</td>\n",
       "      <td>NaT</td>\n",
       "      <td>NaN</td>\n",
       "      <td>NaN</td>\n",
       "      <td>RGB led strip - 5m - Set RGB - kleuren - Inclu...</td>\n",
       "      <td>Verlichting – Vast</td>\n",
       "      <td>Led-strip</td>\n",
       "      <td>Lighting</td>\n",
       "      <td>Slimme Verlichting</td>\n",
       "      <td>Slimme Led-Strips</td>\n",
       "      <td>2017-09-15</td>\n",
       "      <td>NL</td>\n",
       "      <td>NL</td>\n",
       "      <td>True</td>\n",
       "      <td>False</td>\n",
       "      <td>NaN</td>\n",
       "      <td>True</td>\n",
       "      <td>0.0</td>\n",
       "      <td>0.0</td>\n",
       "      <td>True</td>\n",
       "      <td>HEAVILY UNHAPPY</td>\n",
       "      <td>UNHAPPY</td>\n",
       "      <td>NaN</td>\n",
       "      <td>NaN</td>\n",
       "      <td>1.0</td>\n",
       "      <td>NaN</td>\n",
       "      <td>NaN</td>\n",
       "      <td>473</td>\n",
       "      <td>2</td>\n",
       "      <td>2019</td>\n",
       "      <td>1</td>\n",
       "      <td>1</td>\n",
       "      <td>False</td>\n",
       "      <td>False</td>\n",
       "      <td>True</td>\n",
       "      <td>False</td>\n",
       "      <td>False</td>\n",
       "      <td>False</td>\n",
       "      <td>False</td>\n",
       "      <td>False</td>\n",
       "      <td>True</td>\n",
       "      <td>False</td>\n",
       "      <td>False</td>\n",
       "      <td>False</td>\n",
       "      <td>False</td>\n",
       "      <td>False</td>\n",
       "      <td>False</td>\n",
       "      <td>False</td>\n",
       "      <td>False</td>\n",
       "      <td>False</td>\n",
       "      <td>False</td>\n",
       "      <td>False</td>\n",
       "      <td>False</td>\n",
       "      <td>93</td>\n",
       "      <td>True</td>\n",
       "      <td>True</td>\n",
       "      <td>True</td>\n",
       "      <td>False</td>\n",
       "      <td>False</td>\n",
       "      <td>Cancellation</td>\n",
       "      <td>KNOWN</td>\n",
       "      <td>OTHER</td>\n",
       "      <td>Home, Cooking &amp; Household</td>\n",
       "      <td>False</td>\n",
       "      <td>True</td>\n",
       "      <td>False</td>\n",
       "      <td>False</td>\n",
       "      <td>False</td>\n",
       "      <td>False</td>\n",
       "      <td>False</td>\n",
       "      <td>False</td>\n",
       "      <td>False</td>\n",
       "      <td>False</td>\n",
       "      <td>False</td>\n",
       "      <td>False</td>\n",
       "      <td>False</td>\n",
       "      <td>False</td>\n",
       "    </tr>\n",
       "    <tr>\n",
       "      <th>4</th>\n",
       "      <td>4</td>\n",
       "      <td>2019-01-01</td>\n",
       "      <td>9200000085152942</td>\n",
       "      <td>1274000</td>\n",
       "      <td>3.198673</td>\n",
       "      <td>1</td>\n",
       "      <td>NL</td>\n",
       "      <td>NaT</td>\n",
       "      <td>NaN</td>\n",
       "      <td>2019-01-03</td>\n",
       "      <td>2019-01-02</td>\n",
       "      <td>TNT</td>\n",
       "      <td>PostNL</td>\n",
       "      <td>NaN</td>\n",
       "      <td>2019-01-03 17:06:38</td>\n",
       "      <td>FBB</td>\n",
       "      <td>2019-01-18</td>\n",
       "      <td>1.0</td>\n",
       "      <td>2019-01-04</td>\n",
       "      <td>1.0</td>\n",
       "      <td>NaN</td>\n",
       "      <td>Deltaco GT-174D 4-poort stekkerdoos met 2 x US...</td>\n",
       "      <td>Verdeelborden/-kasten</td>\n",
       "      <td>Stekkerdoos</td>\n",
       "      <td>Plumbing and Safety</td>\n",
       "      <td>Elektra</td>\n",
       "      <td>Verlengmateriaal</td>\n",
       "      <td>2017-05-31</td>\n",
       "      <td>NL</td>\n",
       "      <td>ALL</td>\n",
       "      <td>True</td>\n",
       "      <td>True</td>\n",
       "      <td>True</td>\n",
       "      <td>False</td>\n",
       "      <td>1.0</td>\n",
       "      <td>0.0</td>\n",
       "      <td>False</td>\n",
       "      <td>MEDIUM UNHAPPY</td>\n",
       "      <td>UNHAPPY</td>\n",
       "      <td>17.0</td>\n",
       "      <td>3.0</td>\n",
       "      <td>NaN</td>\n",
       "      <td>2.0</td>\n",
       "      <td>1.0</td>\n",
       "      <td>580</td>\n",
       "      <td>2</td>\n",
       "      <td>2019</td>\n",
       "      <td>1</td>\n",
       "      <td>1</td>\n",
       "      <td>False</td>\n",
       "      <td>False</td>\n",
       "      <td>True</td>\n",
       "      <td>False</td>\n",
       "      <td>False</td>\n",
       "      <td>False</td>\n",
       "      <td>False</td>\n",
       "      <td>False</td>\n",
       "      <td>True</td>\n",
       "      <td>False</td>\n",
       "      <td>False</td>\n",
       "      <td>False</td>\n",
       "      <td>False</td>\n",
       "      <td>False</td>\n",
       "      <td>False</td>\n",
       "      <td>False</td>\n",
       "      <td>False</td>\n",
       "      <td>False</td>\n",
       "      <td>False</td>\n",
       "      <td>False</td>\n",
       "      <td>False</td>\n",
       "      <td>100</td>\n",
       "      <td>True</td>\n",
       "      <td>True</td>\n",
       "      <td>True</td>\n",
       "      <td>False</td>\n",
       "      <td>False</td>\n",
       "      <td>Return + Case</td>\n",
       "      <td>KNOWN</td>\n",
       "      <td>POSTNL</td>\n",
       "      <td>Home, Cooking &amp; Household</td>\n",
       "      <td>False</td>\n",
       "      <td>True</td>\n",
       "      <td>False</td>\n",
       "      <td>False</td>\n",
       "      <td>False</td>\n",
       "      <td>False</td>\n",
       "      <td>False</td>\n",
       "      <td>False</td>\n",
       "      <td>False</td>\n",
       "      <td>False</td>\n",
       "      <td>False</td>\n",
       "      <td>False</td>\n",
       "      <td>False</td>\n",
       "      <td>False</td>\n",
       "    </tr>\n",
       "  </tbody>\n",
       "</table>\n",
       "</div>"
      ],
      "text/plain": [
       "   Unnamed: 0  orderDate         productId  sellerId  totalPrice  \\\n",
       "0           0 2019-01-01  9200000103390344   1244284    1.599388   \n",
       "1           1 2019-01-01  9200000065456100   1167286    5.062595   \n",
       "2           2 2019-01-01  9200000024539481    888610    3.401197   \n",
       "3           3 2019-01-01  9200000056338594   1308208    3.471966   \n",
       "4           4 2019-01-01  9200000085152942   1274000    3.198673   \n",
       "\n",
       "   quantityOrdered countryCode cancellationDate cancellationReasonCode  \\\n",
       "0                1          NL              NaT                    NaN   \n",
       "1                1          NL              NaT                    NaN   \n",
       "2                1          BE              NaT                    NaN   \n",
       "3                2          NL       2019-01-02         SELLER_UNDELIV   \n",
       "4                1          NL              NaT                    NaN   \n",
       "\n",
       "  promisedDeliveryDate shipmentDate transporterCode   transporterName  \\\n",
       "0           2019-01-04   2019-01-02       TNT_BRIEF  PostNL Briefpost   \n",
       "1           2019-01-07   2019-01-02          DPD-NL     DPD Nederland   \n",
       "2           2019-01-03   2019-01-02        BPOST_BE      Bpost Belgie   \n",
       "3           2019-01-03          NaT             NaN               NaN   \n",
       "4           2019-01-03   2019-01-02             TNT            PostNL   \n",
       "\n",
       "  transporterNameOther dateTimeFirstDeliveryMoment fulfilmentType  \\\n",
       "0                  NaN                         NaT            FBR   \n",
       "1                  NaN                         NaT            FBR   \n",
       "2                  NaN         2019-01-03 08:17:00            FBB   \n",
       "3                  NaN                         NaT            FBB   \n",
       "4                  NaN         2019-01-03 17:06:38            FBB   \n",
       "\n",
       "  startDateCase  cntDistinctCaseIds returnDateTime  quantityReturned  \\\n",
       "0           NaT                 NaN            NaT               NaN   \n",
       "1    2019-01-03                 2.0            NaT               NaN   \n",
       "2           NaT                 NaN            NaT               NaN   \n",
       "3           NaT                 NaN            NaT               NaN   \n",
       "4    2019-01-18                 1.0     2019-01-04               1.0   \n",
       "\n",
       "  returnCode                                       productTitle  \\\n",
       "0        NaN                         Velvet Scrunchie Pale Pink   \n",
       "1        NaN                  Inventum MN306C - Combi-magnetron   \n",
       "2        NaN                                 Perfect Push Up V2   \n",
       "3        NaN  RGB led strip - 5m - Set RGB - kleuren - Inclu...   \n",
       "4        NaN  Deltaco GT-174D 4-poort stekkerdoos met 2 x US...   \n",
       "\n",
       "               brickName              chunkName                  productGroup  \\\n",
       "0     Haar – Accessoires         Haaraccessoire                 Daily Care PG   \n",
       "1             Magnetrons  Vrijstaande magnetron  Major Domestic Appliances PG   \n",
       "2    Fitness Accessoires            Opdruksteun            Sporting Equipment   \n",
       "3     Verlichting – Vast              Led-strip                      Lighting   \n",
       "4  Verdeelborden/-kasten            Stekkerdoos           Plumbing and Safety   \n",
       "\n",
       "      productSubGroup productSubSubGroup registrationDateSeller  \\\n",
       "0                Haar   Haar Accessoires             2016-12-19   \n",
       "1             Cooking            Cooking             2016-04-15   \n",
       "2       Fitness Klein  Fitnessmaterialen             2013-12-21   \n",
       "3  Slimme Verlichting  Slimme Led-Strips             2017-09-15   \n",
       "4             Elektra   Verlengmateriaal             2017-05-31   \n",
       "\n",
       "  countryOriginSeller currentCountryAvailabilitySeller  calculationDefinitive  \\\n",
       "0                  NL                               NL                   True   \n",
       "1                  NL                               NL                   True   \n",
       "2                  NL                               NL                   True   \n",
       "3                  NL                               NL                   True   \n",
       "4                  NL                              ALL                   True   \n",
       "\n",
       "   noCancellation onTimeDelivery  noCase  hasOneCase  hasMoreCases  noReturn  \\\n",
       "0            True            NaN    True         0.0           0.0      True   \n",
       "1            True            NaN   False         0.0           1.0      True   \n",
       "2            True           True    True         0.0           0.0      True   \n",
       "3           False            NaN    True         0.0           0.0      True   \n",
       "4            True           True   False         1.0           0.0     False   \n",
       "\n",
       "  detailedMatchClassification generalMatchClassification  caseDays  \\\n",
       "0                     UNKNOWN                    UNKNOWN       NaN   \n",
       "1             HEAVILY UNHAPPY                    UNHAPPY       2.0   \n",
       "2                       HAPPY                      HAPPY       NaN   \n",
       "3             HEAVILY UNHAPPY                    UNHAPPY       NaN   \n",
       "4              MEDIUM UNHAPPY                    UNHAPPY      17.0   \n",
       "\n",
       "   returnDays  cancellationDays  actualDeliveryDays  shipmentDays  \\\n",
       "0         NaN               NaN                 NaN           1.0   \n",
       "1         NaN               NaN                 NaN           1.0   \n",
       "2         NaN               NaN                 2.0           1.0   \n",
       "3         NaN               1.0                 NaN           NaN   \n",
       "4         3.0               NaN                 2.0           1.0   \n",
       "\n",
       "   partnerSellingDays  promisedDeliveryDays  orderYear  orderMonth  \\\n",
       "0                 743                     3       2019           1   \n",
       "1                 991                     6       2019           1   \n",
       "2                1837                     2       2019           1   \n",
       "3                 473                     2       2019           1   \n",
       "4                 580                     2       2019           1   \n",
       "\n",
       "   orderWeekday  orderCorona  orderMonday  orderTuesday  orderWednesday  \\\n",
       "0             1        False        False          True           False   \n",
       "1             1        False        False          True           False   \n",
       "2             1        False        False          True           False   \n",
       "3             1        False        False          True           False   \n",
       "4             1        False        False          True           False   \n",
       "\n",
       "   orderThursday  orderFriday  orderSaturday  orderSunday  orderJanuary  \\\n",
       "0          False        False          False        False          True   \n",
       "1          False        False          False        False          True   \n",
       "2          False        False          False        False          True   \n",
       "3          False        False          False        False          True   \n",
       "4          False        False          False        False          True   \n",
       "\n",
       "   orderFebruary  orderMarch  orderApril  orderMay  orderJune  orderJuly  \\\n",
       "0          False       False       False     False      False      False   \n",
       "1          False       False       False     False      False      False   \n",
       "2          False       False       False     False      False      False   \n",
       "3          False       False       False     False      False      False   \n",
       "4          False       False       False     False      False      False   \n",
       "\n",
       "   orderAugust  orderSeptember  orderOctober  orderNovember  orderDecember  \\\n",
       "0        False           False         False          False          False   \n",
       "1        False           False         False          False          False   \n",
       "2        False           False         False          False          False   \n",
       "3        False           False         False          False          False   \n",
       "4        False           False         False          False          False   \n",
       "\n",
       "   orderYear2020  productTitleLength  fulfilmentByBol  countryCodeNL  \\\n",
       "0          False                  26            False           True   \n",
       "1          False                  33            False           True   \n",
       "2          False                  18             True          False   \n",
       "3          False                  93             True           True   \n",
       "4          False                 100             True           True   \n",
       "\n",
       "   countryOriginNL  countryOriginBE  countryOriginDE  \\\n",
       "0             True            False            False   \n",
       "1             True            False            False   \n",
       "2             True            False            False   \n",
       "3             True            False            False   \n",
       "4             True            False            False   \n",
       "\n",
       "  determinantClassification binaryMatchClassification transporterCodeGeneral  \\\n",
       "0          Unknown delivery                   UNKNOWN                  BRIEF   \n",
       "1   Case + Unknown delivery                     KNOWN                    DPD   \n",
       "2                  All good                     KNOWN                  OTHER   \n",
       "3              Cancellation                     KNOWN                  OTHER   \n",
       "4             Return + Case                     KNOWN                 POSTNL   \n",
       "\n",
       "         productGroupGeneral  groupHealth  groupHome  groupSports  \\\n",
       "0              Health & Care         True      False        False   \n",
       "1  Home, Cooking & Household        False       True        False   \n",
       "2   Sports, Outdoor & Travel        False      False         True   \n",
       "3  Home, Cooking & Household        False       True        False   \n",
       "4  Home, Cooking & Household        False       True        False   \n",
       "\n",
       "   groupComputer  groupPets  groupToys  groupBooks  groupBaby  groupMusic  \\\n",
       "0          False      False      False       False      False       False   \n",
       "1          False      False      False       False      False       False   \n",
       "2          False      False      False       False      False       False   \n",
       "3          False      False      False       False      False       False   \n",
       "4          False      False      False       False      False       False   \n",
       "\n",
       "   groupFood  groupOffice  groupFashion  groupOther  groupCar  \n",
       "0      False        False         False       False     False  \n",
       "1      False        False         False       False     False  \n",
       "2      False        False         False       False     False  \n",
       "3      False        False         False       False     False  \n",
       "4      False        False         False       False     False  "
      ]
     },
     "execution_count": 78,
     "metadata": {},
     "output_type": "execute_result"
    }
   ],
   "source": [
    "df.head()"
   ]
  },
  {
   "cell_type": "markdown",
   "metadata": {},
   "source": [
    "### Hierarchical Classification Models"
   ]
  },
  {
   "cell_type": "code",
   "execution_count": 8,
   "metadata": {
    "execution": {
     "iopub.execute_input": "2021-02-14T13:54:54.032061Z",
     "iopub.status.busy": "2021-02-14T13:54:54.029871Z",
     "iopub.status.idle": "2021-02-14T13:54:54.062616Z",
     "shell.execute_reply": "2021-02-14T13:54:54.050111Z",
     "shell.execute_reply.started": "2021-02-14T13:54:54.031976Z"
    }
   },
   "outputs": [],
   "source": [
    "# classifier = LogisticRegression(random_state=0, class_weight='balanced')\n",
    "# classifier = RandomForestClassifier(random_state=0, class_weight='balanced', n_estimators = 10)\n",
    "# classifier = svm.LinearSVC(C=1, penalty=\"l1\", dual=False, class_weight = 'balanced')\n",
    "# classifier = HistGradientBoostingClassifier(random_state=0)\n",
    "# classifier = DecisionTreeClassifier(random_state=0, max_depth=10, class_weight='balanced')\n",
    "# classifier = KerasClassifier(build_fn = functions.neuralNetwork,epochs = 10,verbose = 0)"
   ]
  },
  {
   "cell_type": "code",
   "execution_count": 162,
   "metadata": {
    "execution": {
     "iopub.execute_input": "2021-02-17T15:56:10.066826Z",
     "iopub.status.busy": "2021-02-17T15:56:10.066826Z",
     "iopub.status.idle": "2021-02-17T15:56:10.089753Z",
     "shell.execute_reply": "2021-02-17T15:56:10.088800Z",
     "shell.execute_reply.started": "2021-02-17T15:56:10.066826Z"
    }
   },
   "outputs": [],
   "source": [
    "ch = ClassHierarchy('ORDERS')\n",
    "ch.add_node(['UNKNOWN','KNOWN'], 'ORDERS')\n",
    "ch.add_node(['HAPPY','UNHAPPY'], 'KNOWN')\n",
    "ch.add_node(['MILDLY UNHAPPY','MEDIUM UNHAPPY','HEAVILY UNHAPPY'], 'UNHAPPY')\n",
    "\n",
    "HCtest = HierarchicalClassifier(ch)\n",
    "# HC.fit_classifiers({'ORDERS'  : DecisionTreeClassifier(random_state=0, class_weight='balanced', max_depth = 10),\n",
    "#                     'KNOWN'   : DecisionTreeClassifier(random_state=0, class_weight='balanced', max_depth = 10),\n",
    "#                     'UNHAPPY' : KerasClassifier(build_fn = functions.neuralNetwork,epochs = 10,verbose = 0)})\n",
    "HCtest.fit_classifiers({'ORDERS'  : DecisionTreeClassifier(random_state=0, class_weight='balanced', max_depth = 9),\n",
    "                    'KNOWN'   : DecisionTreeClassifier(random_state=0, class_weight='balanced', max_depth = 6),\n",
    "                    #'UNHAPPY' : KerasClassifier(build_fn = functions.neuralNetwork,output=3,nodes=20,layers=1,droprate=0,epochs = 10,verbose = 0)})\n",
    "                        'UNHAPPY' : RandomForestClassifier(random_state=0, class_weight='balanced', n_estimators = 23)})"
   ]
  },
  {
   "cell_type": "code",
   "execution_count": 14,
   "metadata": {
    "execution": {
     "iopub.execute_input": "2021-02-17T13:15:54.201549Z",
     "iopub.status.busy": "2021-02-17T13:15:54.201549Z",
     "iopub.status.idle": "2021-02-17T13:15:54.216737Z",
     "shell.execute_reply": "2021-02-17T13:15:54.216737Z",
     "shell.execute_reply.started": "2021-02-17T13:15:54.201549Z"
    },
    "jupyter": {
     "source_hidden": true
    }
   },
   "outputs": [],
   "source": [
    "ch = ClassHierarchy('ORDERS')\n",
    "ch.add_node(['OTHER','UNHAPPY'], 'ORDERS')\n",
    "ch.add_node(['HAPPY','UNKNOWN'], 'OTHER')\n",
    "ch.add_node(['MILDLY UNHAPPY','MEDIUM UNHAPPY','HEAVILY UNHAPPY'], 'UNHAPPY')\n",
    "\n",
    "HC = HierarchicalClassifier(ch)\n",
    "HC.fit_classifiers({'ORDERS'  : DecisionTreeClassifier(random_state=0, class_weight='balanced', max_depth = 10),\n",
    "                    'OTHER'   : DecisionTreeClassifier(random_state=0, class_weight='balanced', max_depth = 10),\n",
    "                    'UNHAPPY' : DecisionTreeClassifier(random_state=0, class_weight='balanced', max_depth = 10)})"
   ]
  },
  {
   "cell_type": "markdown",
   "metadata": {},
   "source": [
    "#### Single fit single point in time"
   ]
  },
  {
   "cell_type": "code",
   "execution_count": 74,
   "metadata": {
    "execution": {
     "iopub.execute_input": "2021-02-17T22:15:51.732742Z",
     "iopub.status.busy": "2021-02-17T22:15:51.732742Z",
     "iopub.status.idle": "2021-02-17T22:16:44.000673Z",
     "shell.execute_reply": "2021-02-17T22:16:44.000177Z",
     "shell.execute_reply.started": "2021-02-17T22:15:51.732742Z"
    }
   },
   "outputs": [],
   "source": [
    "X_preBurn, y_preBurn = functions.dataX(df_, DATE, X_col, Y_col, historic_variable, 0)\n",
    "index = range(0, X_preBurn.shape[0])\n",
    "\n",
    "X_train_val = X_preBurn.iloc[int(0.1*len(X_preBurn)):]\n",
    "y_train_val = y_preBurn.iloc[int(0.1*len(y_preBurn)):]\n",
    "\n",
    "#X_train_val = X.iloc[0:int(0.75*len(X))]\n",
    "X_train = X_train_val.iloc[0:int(0.8*len(X_train_val))]\n",
    "X_val = X_train_val.iloc[int(0.8*len(X_train_val)):]\n",
    "       \n",
    "#y_train_val = y.iloc[0:int(0.75*len(y))]\n",
    "y_train = y_train_val.iloc[0:int(0.8*len(y_train_val))]\n",
    "y_val = y_train_val.iloc[int(0.8*len(y_train_val)):]\n",
    "\n",
    "#X_test_full = X.iloc[int(0.75*len(X)):]\n",
    "#y_test_full = y.iloc[int(0.75*len(y)):]"
   ]
  },
  {
   "cell_type": "code",
   "execution_count": 134,
   "metadata": {
    "execution": {
     "iopub.execute_input": "2021-02-17T14:50:00.367786Z",
     "iopub.status.busy": "2021-02-17T14:50:00.367786Z",
     "iopub.status.idle": "2021-02-17T14:50:04.266558Z",
     "shell.execute_reply": "2021-02-17T14:50:04.265626Z",
     "shell.execute_reply.started": "2021-02-17T14:50:00.367786Z"
    },
    "jupyter": {
     "source_hidden": true
    }
   },
   "outputs": [],
   "source": [
    "HCtest = HCtest.fit(X_train_val,y_train_val)\n",
    "pred = HCtest.predict(X_test)"
   ]
  },
  {
   "cell_type": "code",
   "execution_count": 51,
   "metadata": {
    "collapsed": true,
    "execution": {
     "iopub.execute_input": "2021-02-17T14:04:35.836848Z",
     "iopub.status.busy": "2021-02-17T14:04:35.835795Z",
     "iopub.status.idle": "2021-02-17T14:04:35.911074Z",
     "shell.execute_reply": "2021-02-17T14:04:35.911074Z",
     "shell.execute_reply.started": "2021-02-17T14:04:35.835795Z"
    },
    "jupyter": {
     "outputs_hidden": true,
     "source_hidden": true
    }
   },
   "outputs": [
    {
     "data": {
      "text/plain": [
       "0.8486035695465898"
      ]
     },
     "execution_count": 51,
     "metadata": {},
     "output_type": "execute_result"
    }
   ],
   "source": [
    "f1_score_ancestors(ch, y_test['detailedMatchClassification'], pred, beta = 1)"
   ]
  },
  {
   "cell_type": "code",
   "execution_count": 92,
   "metadata": {
    "collapsed": true,
    "execution": {
     "iopub.execute_input": "2021-02-16T14:25:44.042876Z",
     "iopub.status.busy": "2021-02-16T14:25:44.039738Z",
     "iopub.status.idle": "2021-02-16T14:25:45.451403Z",
     "shell.execute_reply": "2021-02-16T14:25:45.367338Z",
     "shell.execute_reply.started": "2021-02-16T14:25:44.042797Z"
    },
    "jupyter": {
     "outputs_hidden": true,
     "source_hidden": true
    }
   },
   "outputs": [
    {
     "name": "stdout",
     "output_type": "stream",
     "text": [
      "Percentage labelled\t: 100.0 %\n",
      "Percentage leaf node\t: 100.0 %\n",
      "Accuracy leaf node\t: 82.8 %\n"
     ]
    },
    {
     "ename": "TypeError",
     "evalue": "type numpy.ndarray doesn't define __round__ method",
     "output_type": "error",
     "traceback": [
      "\u001b[0;31m---------------------------------------------------------------------------\u001b[0m",
      "\u001b[0;31mTypeError\u001b[0m                                 Traceback (most recent call last)",
      "\u001b[0;32m<ipython-input-92-3b567580738e>\u001b[0m in \u001b[0;36m<module>\u001b[0;34m\u001b[0m\n\u001b[0;32m----> 1\u001b[0;31m \u001b[0mday_block_scores\u001b[0m\u001b[0;34m(\u001b[0m\u001b[0mHC\u001b[0m\u001b[0;34m,\u001b[0m \u001b[0my_test\u001b[0m\u001b[0;34m[\u001b[0m\u001b[0;34m'detailedMatchClassification'\u001b[0m\u001b[0;34m]\u001b[0m\u001b[0;34m,\u001b[0m \u001b[0mpred\u001b[0m\u001b[0;34m,\u001b[0m \u001b[0mprint_output\u001b[0m \u001b[0;34m=\u001b[0m \u001b[0;32mTrue\u001b[0m\u001b[0;34m)\u001b[0m\u001b[0;34m\u001b[0m\u001b[0;34m\u001b[0m\u001b[0m\n\u001b[0m",
      "\u001b[0;32m<ipython-input-10-7c5baea223cc>\u001b[0m in \u001b[0;36mday_block_scores\u001b[0;34m(classifier, y_true, y_pred, print_output)\u001b[0m\n\u001b[1;32m     74\u001b[0m         \u001b[0mprint\u001b[0m\u001b[0;34m(\u001b[0m\u001b[0;34m'Percentage leaf node\\t:'\u001b[0m \u001b[0;34m,\u001b[0m\u001b[0mround\u001b[0m\u001b[0;34m(\u001b[0m\u001b[0mfraction_leaf\u001b[0m\u001b[0;34m*\u001b[0m\u001b[0;36m100\u001b[0m\u001b[0;34m,\u001b[0m\u001b[0;36m2\u001b[0m\u001b[0;34m)\u001b[0m \u001b[0;34m,\u001b[0m\u001b[0;34m'%'\u001b[0m\u001b[0;34m)\u001b[0m\u001b[0;34m\u001b[0m\u001b[0;34m\u001b[0m\u001b[0m\n\u001b[1;32m     75\u001b[0m         \u001b[0mprint\u001b[0m\u001b[0;34m(\u001b[0m\u001b[0;34m'Accuracy leaf node\\t:'\u001b[0m   \u001b[0;34m,\u001b[0m\u001b[0mround\u001b[0m\u001b[0;34m(\u001b[0m\u001b[0maccuracy_leaf\u001b[0m\u001b[0;34m*\u001b[0m\u001b[0;36m100\u001b[0m\u001b[0;34m,\u001b[0m\u001b[0;36m2\u001b[0m\u001b[0;34m)\u001b[0m \u001b[0;34m,\u001b[0m\u001b[0;34m'%'\u001b[0m\u001b[0;34m)\u001b[0m\u001b[0;34m\u001b[0m\u001b[0;34m\u001b[0m\u001b[0m\n\u001b[0;32m---> 76\u001b[0;31m         \u001b[0mprint\u001b[0m\u001b[0;34m(\u001b[0m\u001b[0;34m'Precision leaf node\\t:'\u001b[0m  \u001b[0;34m,\u001b[0m\u001b[0mround\u001b[0m\u001b[0;34m(\u001b[0m\u001b[0mprecision_leaf\u001b[0m\u001b[0;34m*\u001b[0m\u001b[0;36m100\u001b[0m\u001b[0;34m,\u001b[0m\u001b[0;36m2\u001b[0m\u001b[0;34m)\u001b[0m\u001b[0;34m,\u001b[0m\u001b[0;34m'%'\u001b[0m\u001b[0;34m)\u001b[0m\u001b[0;34m\u001b[0m\u001b[0;34m\u001b[0m\u001b[0m\n\u001b[0m\u001b[1;32m     77\u001b[0m         \u001b[0mprint\u001b[0m\u001b[0;34m(\u001b[0m\u001b[0;34m'Recall leaf node\\t:'\u001b[0m     \u001b[0;34m,\u001b[0m\u001b[0mround\u001b[0m\u001b[0;34m(\u001b[0m\u001b[0mrecall_leaf\u001b[0m\u001b[0;34m*\u001b[0m\u001b[0;36m100\u001b[0m\u001b[0;34m,\u001b[0m\u001b[0;36m2\u001b[0m\u001b[0;34m)\u001b[0m   \u001b[0;34m,\u001b[0m\u001b[0;34m'%'\u001b[0m\u001b[0;34m)\u001b[0m\u001b[0;34m\u001b[0m\u001b[0;34m\u001b[0m\u001b[0m\n\u001b[1;32m     78\u001b[0m \u001b[0;34m\u001b[0m\u001b[0m\n",
      "\u001b[0;31mTypeError\u001b[0m: type numpy.ndarray doesn't define __round__ method"
     ]
    }
   ],
   "source": [
    "day_block_scores(HC, y_test['detailedMatchClassification'], pred, print_output = True)"
   ]
  },
  {
   "cell_type": "code",
   "execution_count": null,
   "metadata": {
    "jupyter": {
     "source_hidden": true
    }
   },
   "outputs": [],
   "source": [
    "# class_report(y_test['detailedMatchClassification'], pred)\n",
    "# global_scores(y_test['detailedMatchClassification'], pred)\n",
    "# local_scores(y_test['detailedMatchClassification'], pred)\n",
    "# precision_score_ancestors(ch, y_test['detailedMatchClassification'], pred)\n",
    "# recall_score_ancestors(ch, y_test['detailedMatchClassification'], pred)\n",
    "# f1_score_ancestors(ch, y_test['detailedMatchClassification'], pred)"
   ]
  },
  {
   "cell_type": "markdown",
   "metadata": {},
   "source": [
    "#### Hyper-parameter tuning"
   ]
  },
  {
   "cell_type": "code",
   "execution_count": 26,
   "metadata": {
    "execution": {
     "iopub.execute_input": "2021-02-17T16:23:02.930576Z",
     "iopub.status.busy": "2021-02-17T16:23:02.929580Z",
     "iopub.status.idle": "2021-02-17T16:23:02.939308Z",
     "shell.execute_reply": "2021-02-17T16:23:02.938550Z",
     "shell.execute_reply.started": "2021-02-17T16:23:02.929580Z"
    }
   },
   "outputs": [],
   "source": [
    "def neuralNetwork(output, nodes, layers, droprate):\n",
    "    \n",
    "    model = Sequential()\n",
    "\n",
    "    model.add(Dense(units = nodes, activation = 'relu'))\n",
    "\n",
    "    for i in range(1,layers+1):\n",
    "        model.add(Dense(units = nodes, activation = 'relu'))\n",
    "        model.add(Dropout(droprate))\n",
    "\n",
    "    model.add(Dense(units = output, activation = 'softmax')) #units should equal number of labels\n",
    "\n",
    "    if output == 2:\n",
    "        loss = 'binary_crossentropy'\n",
    "    else:\n",
    "        loss = 'categorical_crossentropy'\n",
    "        \n",
    "    model.compile(optimizer = 'adam', \n",
    "                  loss = loss, \n",
    "                  metrics = ['accuracy'])\n",
    "\n",
    "    return model"
   ]
  },
  {
   "cell_type": "code",
   "execution_count": 33,
   "metadata": {
    "execution": {
     "iopub.execute_input": "2021-02-17T16:23:44.778036Z",
     "iopub.status.busy": "2021-02-17T16:23:44.777009Z",
     "iopub.status.idle": "2021-02-17T16:23:44.791961Z",
     "shell.execute_reply": "2021-02-17T16:23:44.791021Z",
     "shell.execute_reply.started": "2021-02-17T16:23:44.778036Z"
    }
   },
   "outputs": [],
   "source": [
    "combinations = [i for i in product(['DT','RF','NN'],repeat=3)]"
   ]
  },
  {
   "cell_type": "code",
   "execution_count": 34,
   "metadata": {
    "execution": {
     "iopub.execute_input": "2021-02-17T16:23:44.994907Z",
     "iopub.status.busy": "2021-02-17T16:23:44.993862Z",
     "iopub.status.idle": "2021-02-17T16:23:45.012656Z",
     "shell.execute_reply": "2021-02-17T16:23:45.011590Z",
     "shell.execute_reply.started": "2021-02-17T16:23:44.994907Z"
    }
   },
   "outputs": [],
   "source": [
    "def get_hyperspace(combination):\n",
    "    \n",
    "    param_hyperopt = {}\n",
    "    \n",
    "    for node, clf in enumerate(combination):\n",
    "        \n",
    "        if clf == 'DT':\n",
    "            hyper = {'DT_criterion_'+str(node)   : hp.choice('DT_criterion_'+str(node) ,['gini','entropy']),\n",
    "                     'DT_max_depth_'+str(node)   : scope.int(hp.quniform('DT_max_depth_'+str(node), 5, 15, 1))}\n",
    "        elif clf == 'RF':\n",
    "            hyper = {'RF_max_depth_'   +str(node) : scope.int(hp.quniform('RF_max_depth_'+str(node), 5, 15, 1)),\n",
    "                     'RF_n_estimators_'+str(node) : scope.int(hp.quniform('RF_n_estimators_'+str(node), 10, 50, 5))}\n",
    "        elif clf == 'NN':\n",
    "            hyper = {'NN_dropout_'+str(node)  : hp.uniform('NN_dropout_'+str(node), 0, 0.5),\n",
    "                     'NN_nodes_'  +str(node)  : scope.int(hp.quniform('NN_nodes_'+str(node), 5, 50, 5)),\n",
    "                     'NN_layers_' +str(node)  : scope.int(hp.quniform('NN_layers_'+str(node), 1, 2, 1))}\n",
    "            \n",
    "        param_hyperopt = {**param_hyperopt, **hyper}\n",
    "        \n",
    "    return param_hyperopt"
   ]
  },
  {
   "cell_type": "code",
   "execution_count": 35,
   "metadata": {
    "execution": {
     "iopub.execute_input": "2021-02-17T16:23:45.242258Z",
     "iopub.status.busy": "2021-02-17T16:23:45.241264Z",
     "iopub.status.idle": "2021-02-17T16:23:45.263258Z",
     "shell.execute_reply": "2021-02-17T16:23:45.262316Z",
     "shell.execute_reply.started": "2021-02-17T16:23:45.242258Z"
    }
   },
   "outputs": [],
   "source": [
    "combination = ('DT', 'DT', 'DT')\n",
    "\n",
    "def clf_hypers(params):\n",
    "\n",
    "    clf = {}\n",
    "    \n",
    "    for ix, node in enumerate(['ORDERS','KNOWN','UNHAPPY']):\n",
    "\n",
    "        node_hypers = [x for x in list(params.keys()) if x[-1] == str(ix)]\n",
    "\n",
    "        if combination[ix] == 'DT':\n",
    "            clf[node] = DecisionTreeClassifier(random_state=0, class_weight='balanced', max_depth = params[node_hypers[1]], criterion = params[node_hypers[0]])\n",
    "        elif combination[ix] == 'RF':\n",
    "            clf[node] = RandomForestClassifier(random_state=0, class_weight='balanced', max_depth = params[node_hypers[0]], n_estimators = params[node_hypers[1]])\n",
    "        elif combination[ix] == 'NN':\n",
    "            if ix == 2:\n",
    "                output = 3\n",
    "            else:\n",
    "                output = 2\n",
    "            clf[node] = KerasClassifier(neuralNetwork, output = output, nodes = params[node_hypers[1]], layers = params[node_hypers[2]], droprate = params[node_hypers[0]], epochs = 15, verbose = 0)\n",
    "\n",
    "    return clf"
   ]
  },
  {
   "cell_type": "code",
   "execution_count": 36,
   "metadata": {
    "execution": {
     "iopub.execute_input": "2021-02-17T16:23:45.893410Z",
     "iopub.status.busy": "2021-02-17T16:23:45.893410Z",
     "iopub.status.idle": "2021-02-17T16:23:45.903376Z",
     "shell.execute_reply": "2021-02-17T16:23:45.899391Z",
     "shell.execute_reply.started": "2021-02-17T16:23:45.893410Z"
    }
   },
   "outputs": [],
   "source": [
    "Tree = ClassHierarchy('ORDERS')\n",
    "Tree.add_node(['UNKNOWN','KNOWN'], 'ORDERS')\n",
    "Tree.add_node(['HAPPY','UNHAPPY'], 'KNOWN')\n",
    "Tree.add_node(['MILDLY UNHAPPY','MEDIUM UNHAPPY','HEAVILY UNHAPPY'], 'UNHAPPY')"
   ]
  },
  {
   "cell_type": "code",
   "execution_count": 37,
   "metadata": {
    "execution": {
     "iopub.execute_input": "2021-02-17T16:23:46.416914Z",
     "iopub.status.busy": "2021-02-17T16:23:46.415961Z",
     "iopub.status.idle": "2021-02-17T16:23:46.429909Z",
     "shell.execute_reply": "2021-02-17T16:23:46.429909Z",
     "shell.execute_reply.started": "2021-02-17T16:23:46.416914Z"
    }
   },
   "outputs": [],
   "source": [
    "def objective_function(params):\n",
    "    \n",
    "    HC = HierarchicalClassifier(Tree)\n",
    "    HC.fit_classifiers(clf_hypers(params))\n",
    "    \n",
    "    HC = HC.fit(X_train,y_train)\n",
    "    pred = HC.predict(X_val)\n",
    "    \n",
    "    score = f1_score_ancestors(Tree, y_val['detailedMatchClassification'], pred, beta=1)\n",
    "    #cross validation score to be implemented\n",
    "    \n",
    "    return {'loss': -score, 'status': STATUS_OK}"
   ]
  },
  {
   "cell_type": "code",
   "execution_count": 38,
   "metadata": {
    "execution": {
     "iopub.execute_input": "2021-02-17T16:23:48.900257Z",
     "iopub.status.busy": "2021-02-17T16:23:48.900257Z",
     "iopub.status.idle": "2021-02-17T16:23:48.923182Z",
     "shell.execute_reply": "2021-02-17T16:23:48.922194Z",
     "shell.execute_reply.started": "2021-02-17T16:23:48.900257Z"
    }
   },
   "outputs": [],
   "source": [
    "def hyperopt(param_space, X_train, y_train, X_val, y_val, num_eval):\n",
    "\n",
    "    trials = Trials()\n",
    "\n",
    "    best_param = fmin(objective_function, \n",
    "                      param_space, \n",
    "                      algo = tpe.suggest, \n",
    "                      max_evals = num_eval, \n",
    "                      trials = trials,\n",
    "                      rstate = np.random.RandomState(1))\n",
    "    \n",
    "    loss = [x['result']['loss'] for x in trials.trials]\n",
    "        \n",
    "    print(\"\")\n",
    "    print(\"##### Results\")\n",
    "    print(\"Score best parameters: \", min(loss)*-1)\n",
    "    print(\"Best parameters: \", best_param)\n",
    "    print(\"Parameter combinations evaluated: \", num_eval)\n",
    "    \n",
    "    return best_param, trials"
   ]
  },
  {
   "cell_type": "code",
   "execution_count": 39,
   "metadata": {
    "execution": {
     "iopub.execute_input": "2021-02-17T16:23:49.602689Z",
     "iopub.status.busy": "2021-02-17T16:23:49.602689Z",
     "iopub.status.idle": "2021-02-17T16:29:50.819348Z",
     "shell.execute_reply": "2021-02-17T16:29:50.818399Z",
     "shell.execute_reply.started": "2021-02-17T16:23:49.602689Z"
    }
   },
   "outputs": [
    {
     "name": "stdout",
     "output_type": "stream",
     "text": [
      "100%|███████████████████████████████████████████████| 10/10 [06:01<00:00, 36.12s/trial, best loss: -0.8504416931383224]\n",
      "\n",
      "##### Results\n",
      "Score best parameters:  0.8504416931383224\n",
      "Best parameters:  {'DT_criterion_0': 1, 'DT_criterion_1': 0, 'DT_criterion_2': 1, 'DT_max_depth_0': 11.0, 'DT_max_depth_1': 6.0, 'DT_max_depth_2': 11.0}\n",
      "Parameter combinations evaluated:  10\n"
     ]
    }
   ],
   "source": [
    "best_param, trials = hyperopt(get_hyperspace(('DT', 'DT', 'DT')), X_train, y_train, X_val, y_val, 10)"
   ]
  },
  {
   "cell_type": "code",
   "execution_count": 169,
   "metadata": {
    "execution": {
     "iopub.execute_input": "2021-02-17T16:00:53.330319Z",
     "iopub.status.busy": "2021-02-17T16:00:53.330319Z",
     "iopub.status.idle": "2021-02-17T16:12:09.764373Z",
     "shell.execute_reply": "2021-02-17T16:12:09.763382Z",
     "shell.execute_reply.started": "2021-02-17T16:00:53.330319Z"
    }
   },
   "outputs": [
    {
     "name": "stdout",
     "output_type": "stream",
     "text": [
      " 10%|████▌                                        | 1/10 [11:16<1:41:26, 676.27s/trial, best loss: -0.8012717947937803]\n"
     ]
    },
    {
     "ename": "KeyboardInterrupt",
     "evalue": "",
     "output_type": "error",
     "traceback": [
      "\u001b[1;31m---------------------------------------------------------------------------\u001b[0m",
      "\u001b[1;31mKeyboardInterrupt\u001b[0m                         Traceback (most recent call last)",
      "\u001b[1;32m<ipython-input-169-2720bc9c91f8>\u001b[0m in \u001b[0;36m<module>\u001b[1;34m\u001b[0m\n\u001b[1;32m----> 1\u001b[1;33m \u001b[0mresults\u001b[0m\u001b[1;33m,\u001b[0m \u001b[0mbest_param\u001b[0m \u001b[1;33m=\u001b[0m \u001b[0mhyperopt\u001b[0m\u001b[1;33m(\u001b[0m\u001b[0mparam_hyperopt\u001b[0m\u001b[1;33m,\u001b[0m \u001b[0mX_train\u001b[0m\u001b[1;33m,\u001b[0m \u001b[0my_train\u001b[0m\u001b[1;33m,\u001b[0m \u001b[0mX_val\u001b[0m\u001b[1;33m,\u001b[0m \u001b[0my_val\u001b[0m\u001b[1;33m,\u001b[0m \u001b[1;36m10\u001b[0m\u001b[1;33m)\u001b[0m\u001b[1;33m\u001b[0m\u001b[1;33m\u001b[0m\u001b[0m\n\u001b[0m",
      "\u001b[1;32m<ipython-input-168-fcbc0356bee7>\u001b[0m in \u001b[0;36mhyperopt\u001b[1;34m(param_space, X_train, y_train, X_val, y_val, num_eval)\u001b[0m\n\u001b[0;32m      3\u001b[0m     \u001b[0mtrials\u001b[0m \u001b[1;33m=\u001b[0m \u001b[0mTrials\u001b[0m\u001b[1;33m(\u001b[0m\u001b[1;33m)\u001b[0m\u001b[1;33m\u001b[0m\u001b[1;33m\u001b[0m\u001b[0m\n\u001b[0;32m      4\u001b[0m \u001b[1;33m\u001b[0m\u001b[0m\n\u001b[1;32m----> 5\u001b[1;33m     best_param = fmin(objective_function, \n\u001b[0m\u001b[0;32m      6\u001b[0m                       \u001b[0mparam_space\u001b[0m\u001b[1;33m,\u001b[0m\u001b[1;33m\u001b[0m\u001b[1;33m\u001b[0m\u001b[0m\n\u001b[0;32m      7\u001b[0m                       \u001b[0malgo\u001b[0m \u001b[1;33m=\u001b[0m \u001b[0mtpe\u001b[0m\u001b[1;33m.\u001b[0m\u001b[0msuggest\u001b[0m\u001b[1;33m,\u001b[0m\u001b[1;33m\u001b[0m\u001b[1;33m\u001b[0m\u001b[0m\n",
      "\u001b[1;32m~\\Anaconda3\\lib\\site-packages\\hyperopt\\fmin.py\u001b[0m in \u001b[0;36mfmin\u001b[1;34m(fn, space, algo, max_evals, timeout, loss_threshold, trials, rstate, allow_trials_fmin, pass_expr_memo_ctrl, catch_eval_exceptions, verbose, return_argmin, points_to_evaluate, max_queue_len, show_progressbar, early_stop_fn, trials_save_file)\u001b[0m\n\u001b[0;32m    505\u001b[0m \u001b[1;33m\u001b[0m\u001b[0m\n\u001b[0;32m    506\u001b[0m     \u001b[1;32mif\u001b[0m \u001b[0mallow_trials_fmin\u001b[0m \u001b[1;32mand\u001b[0m \u001b[0mhasattr\u001b[0m\u001b[1;33m(\u001b[0m\u001b[0mtrials\u001b[0m\u001b[1;33m,\u001b[0m \u001b[1;34m\"fmin\"\u001b[0m\u001b[1;33m)\u001b[0m\u001b[1;33m:\u001b[0m\u001b[1;33m\u001b[0m\u001b[1;33m\u001b[0m\u001b[0m\n\u001b[1;32m--> 507\u001b[1;33m         return trials.fmin(\n\u001b[0m\u001b[0;32m    508\u001b[0m             \u001b[0mfn\u001b[0m\u001b[1;33m,\u001b[0m\u001b[1;33m\u001b[0m\u001b[1;33m\u001b[0m\u001b[0m\n\u001b[0;32m    509\u001b[0m             \u001b[0mspace\u001b[0m\u001b[1;33m,\u001b[0m\u001b[1;33m\u001b[0m\u001b[1;33m\u001b[0m\u001b[0m\n",
      "\u001b[1;32m~\\Anaconda3\\lib\\site-packages\\hyperopt\\base.py\u001b[0m in \u001b[0;36mfmin\u001b[1;34m(self, fn, space, algo, max_evals, timeout, loss_threshold, max_queue_len, rstate, verbose, pass_expr_memo_ctrl, catch_eval_exceptions, return_argmin, show_progressbar, early_stop_fn, trials_save_file)\u001b[0m\n\u001b[0;32m    680\u001b[0m         \u001b[1;32mfrom\u001b[0m \u001b[1;33m.\u001b[0m\u001b[0mfmin\u001b[0m \u001b[1;32mimport\u001b[0m \u001b[0mfmin\u001b[0m\u001b[1;33m\u001b[0m\u001b[1;33m\u001b[0m\u001b[0m\n\u001b[0;32m    681\u001b[0m \u001b[1;33m\u001b[0m\u001b[0m\n\u001b[1;32m--> 682\u001b[1;33m         return fmin(\n\u001b[0m\u001b[0;32m    683\u001b[0m             \u001b[0mfn\u001b[0m\u001b[1;33m,\u001b[0m\u001b[1;33m\u001b[0m\u001b[1;33m\u001b[0m\u001b[0m\n\u001b[0;32m    684\u001b[0m             \u001b[0mspace\u001b[0m\u001b[1;33m,\u001b[0m\u001b[1;33m\u001b[0m\u001b[1;33m\u001b[0m\u001b[0m\n",
      "\u001b[1;32m~\\Anaconda3\\lib\\site-packages\\hyperopt\\fmin.py\u001b[0m in \u001b[0;36mfmin\u001b[1;34m(fn, space, algo, max_evals, timeout, loss_threshold, trials, rstate, allow_trials_fmin, pass_expr_memo_ctrl, catch_eval_exceptions, verbose, return_argmin, points_to_evaluate, max_queue_len, show_progressbar, early_stop_fn, trials_save_file)\u001b[0m\n\u001b[0;32m    551\u001b[0m \u001b[1;33m\u001b[0m\u001b[0m\n\u001b[0;32m    552\u001b[0m     \u001b[1;31m# next line is where the fmin is actually executed\u001b[0m\u001b[1;33m\u001b[0m\u001b[1;33m\u001b[0m\u001b[1;33m\u001b[0m\u001b[0m\n\u001b[1;32m--> 553\u001b[1;33m     \u001b[0mrval\u001b[0m\u001b[1;33m.\u001b[0m\u001b[0mexhaust\u001b[0m\u001b[1;33m(\u001b[0m\u001b[1;33m)\u001b[0m\u001b[1;33m\u001b[0m\u001b[1;33m\u001b[0m\u001b[0m\n\u001b[0m\u001b[0;32m    554\u001b[0m \u001b[1;33m\u001b[0m\u001b[0m\n\u001b[0;32m    555\u001b[0m     \u001b[1;32mif\u001b[0m \u001b[0mreturn_argmin\u001b[0m\u001b[1;33m:\u001b[0m\u001b[1;33m\u001b[0m\u001b[1;33m\u001b[0m\u001b[0m\n",
      "\u001b[1;32m~\\Anaconda3\\lib\\site-packages\\hyperopt\\fmin.py\u001b[0m in \u001b[0;36mexhaust\u001b[1;34m(self)\u001b[0m\n\u001b[0;32m    354\u001b[0m     \u001b[1;32mdef\u001b[0m \u001b[0mexhaust\u001b[0m\u001b[1;33m(\u001b[0m\u001b[0mself\u001b[0m\u001b[1;33m)\u001b[0m\u001b[1;33m:\u001b[0m\u001b[1;33m\u001b[0m\u001b[1;33m\u001b[0m\u001b[0m\n\u001b[0;32m    355\u001b[0m         \u001b[0mn_done\u001b[0m \u001b[1;33m=\u001b[0m \u001b[0mlen\u001b[0m\u001b[1;33m(\u001b[0m\u001b[0mself\u001b[0m\u001b[1;33m.\u001b[0m\u001b[0mtrials\u001b[0m\u001b[1;33m)\u001b[0m\u001b[1;33m\u001b[0m\u001b[1;33m\u001b[0m\u001b[0m\n\u001b[1;32m--> 356\u001b[1;33m         \u001b[0mself\u001b[0m\u001b[1;33m.\u001b[0m\u001b[0mrun\u001b[0m\u001b[1;33m(\u001b[0m\u001b[0mself\u001b[0m\u001b[1;33m.\u001b[0m\u001b[0mmax_evals\u001b[0m \u001b[1;33m-\u001b[0m \u001b[0mn_done\u001b[0m\u001b[1;33m,\u001b[0m \u001b[0mblock_until_done\u001b[0m\u001b[1;33m=\u001b[0m\u001b[0mself\u001b[0m\u001b[1;33m.\u001b[0m\u001b[0masynchronous\u001b[0m\u001b[1;33m)\u001b[0m\u001b[1;33m\u001b[0m\u001b[1;33m\u001b[0m\u001b[0m\n\u001b[0m\u001b[0;32m    357\u001b[0m         \u001b[0mself\u001b[0m\u001b[1;33m.\u001b[0m\u001b[0mtrials\u001b[0m\u001b[1;33m.\u001b[0m\u001b[0mrefresh\u001b[0m\u001b[1;33m(\u001b[0m\u001b[1;33m)\u001b[0m\u001b[1;33m\u001b[0m\u001b[1;33m\u001b[0m\u001b[0m\n\u001b[0;32m    358\u001b[0m         \u001b[1;32mreturn\u001b[0m \u001b[0mself\u001b[0m\u001b[1;33m\u001b[0m\u001b[1;33m\u001b[0m\u001b[0m\n",
      "\u001b[1;32m~\\Anaconda3\\lib\\site-packages\\hyperopt\\fmin.py\u001b[0m in \u001b[0;36mrun\u001b[1;34m(self, N, block_until_done)\u001b[0m\n\u001b[0;32m    290\u001b[0m                 \u001b[1;32melse\u001b[0m\u001b[1;33m:\u001b[0m\u001b[1;33m\u001b[0m\u001b[1;33m\u001b[0m\u001b[0m\n\u001b[0;32m    291\u001b[0m                     \u001b[1;31m# -- loop over trials and do the jobs directly\u001b[0m\u001b[1;33m\u001b[0m\u001b[1;33m\u001b[0m\u001b[1;33m\u001b[0m\u001b[0m\n\u001b[1;32m--> 292\u001b[1;33m                     \u001b[0mself\u001b[0m\u001b[1;33m.\u001b[0m\u001b[0mserial_evaluate\u001b[0m\u001b[1;33m(\u001b[0m\u001b[1;33m)\u001b[0m\u001b[1;33m\u001b[0m\u001b[1;33m\u001b[0m\u001b[0m\n\u001b[0m\u001b[0;32m    293\u001b[0m \u001b[1;33m\u001b[0m\u001b[0m\n\u001b[0;32m    294\u001b[0m                 \u001b[0mself\u001b[0m\u001b[1;33m.\u001b[0m\u001b[0mtrials\u001b[0m\u001b[1;33m.\u001b[0m\u001b[0mrefresh\u001b[0m\u001b[1;33m(\u001b[0m\u001b[1;33m)\u001b[0m\u001b[1;33m\u001b[0m\u001b[1;33m\u001b[0m\u001b[0m\n",
      "\u001b[1;32m~\\Anaconda3\\lib\\site-packages\\hyperopt\\fmin.py\u001b[0m in \u001b[0;36mserial_evaluate\u001b[1;34m(self, N)\u001b[0m\n\u001b[0;32m    168\u001b[0m                 \u001b[0mctrl\u001b[0m \u001b[1;33m=\u001b[0m \u001b[0mbase\u001b[0m\u001b[1;33m.\u001b[0m\u001b[0mCtrl\u001b[0m\u001b[1;33m(\u001b[0m\u001b[0mself\u001b[0m\u001b[1;33m.\u001b[0m\u001b[0mtrials\u001b[0m\u001b[1;33m,\u001b[0m \u001b[0mcurrent_trial\u001b[0m\u001b[1;33m=\u001b[0m\u001b[0mtrial\u001b[0m\u001b[1;33m)\u001b[0m\u001b[1;33m\u001b[0m\u001b[1;33m\u001b[0m\u001b[0m\n\u001b[0;32m    169\u001b[0m                 \u001b[1;32mtry\u001b[0m\u001b[1;33m:\u001b[0m\u001b[1;33m\u001b[0m\u001b[1;33m\u001b[0m\u001b[0m\n\u001b[1;32m--> 170\u001b[1;33m                     \u001b[0mresult\u001b[0m \u001b[1;33m=\u001b[0m \u001b[0mself\u001b[0m\u001b[1;33m.\u001b[0m\u001b[0mdomain\u001b[0m\u001b[1;33m.\u001b[0m\u001b[0mevaluate\u001b[0m\u001b[1;33m(\u001b[0m\u001b[0mspec\u001b[0m\u001b[1;33m,\u001b[0m \u001b[0mctrl\u001b[0m\u001b[1;33m)\u001b[0m\u001b[1;33m\u001b[0m\u001b[1;33m\u001b[0m\u001b[0m\n\u001b[0m\u001b[0;32m    171\u001b[0m                 \u001b[1;32mexcept\u001b[0m \u001b[0mException\u001b[0m \u001b[1;32mas\u001b[0m \u001b[0me\u001b[0m\u001b[1;33m:\u001b[0m\u001b[1;33m\u001b[0m\u001b[1;33m\u001b[0m\u001b[0m\n\u001b[0;32m    172\u001b[0m                     \u001b[0mlogger\u001b[0m\u001b[1;33m.\u001b[0m\u001b[0merror\u001b[0m\u001b[1;33m(\u001b[0m\u001b[1;34m\"job exception: %s\"\u001b[0m \u001b[1;33m%\u001b[0m \u001b[0mstr\u001b[0m\u001b[1;33m(\u001b[0m\u001b[0me\u001b[0m\u001b[1;33m)\u001b[0m\u001b[1;33m)\u001b[0m\u001b[1;33m\u001b[0m\u001b[1;33m\u001b[0m\u001b[0m\n",
      "\u001b[1;32m~\\Anaconda3\\lib\\site-packages\\hyperopt\\base.py\u001b[0m in \u001b[0;36mevaluate\u001b[1;34m(self, config, ctrl, attach_attachments)\u001b[0m\n\u001b[0;32m    905\u001b[0m                 \u001b[0mprint_node_on_error\u001b[0m\u001b[1;33m=\u001b[0m\u001b[0mself\u001b[0m\u001b[1;33m.\u001b[0m\u001b[0mrec_eval_print_node_on_error\u001b[0m\u001b[1;33m,\u001b[0m\u001b[1;33m\u001b[0m\u001b[1;33m\u001b[0m\u001b[0m\n\u001b[0;32m    906\u001b[0m             )\n\u001b[1;32m--> 907\u001b[1;33m             \u001b[0mrval\u001b[0m \u001b[1;33m=\u001b[0m \u001b[0mself\u001b[0m\u001b[1;33m.\u001b[0m\u001b[0mfn\u001b[0m\u001b[1;33m(\u001b[0m\u001b[0mpyll_rval\u001b[0m\u001b[1;33m)\u001b[0m\u001b[1;33m\u001b[0m\u001b[1;33m\u001b[0m\u001b[0m\n\u001b[0m\u001b[0;32m    908\u001b[0m \u001b[1;33m\u001b[0m\u001b[0m\n\u001b[0;32m    909\u001b[0m         \u001b[1;32mif\u001b[0m \u001b[0misinstance\u001b[0m\u001b[1;33m(\u001b[0m\u001b[0mrval\u001b[0m\u001b[1;33m,\u001b[0m \u001b[1;33m(\u001b[0m\u001b[0mfloat\u001b[0m\u001b[1;33m,\u001b[0m \u001b[0mint\u001b[0m\u001b[1;33m,\u001b[0m \u001b[0mnp\u001b[0m\u001b[1;33m.\u001b[0m\u001b[0mnumber\u001b[0m\u001b[1;33m)\u001b[0m\u001b[1;33m)\u001b[0m\u001b[1;33m:\u001b[0m\u001b[1;33m\u001b[0m\u001b[1;33m\u001b[0m\u001b[0m\n",
      "\u001b[1;32m<ipython-input-167-d3252200a366>\u001b[0m in \u001b[0;36mobjective_function\u001b[1;34m(params)\u001b[0m\n\u001b[0;32m      8\u001b[0m     \u001b[0mpred\u001b[0m \u001b[1;33m=\u001b[0m \u001b[0mHC\u001b[0m\u001b[1;33m.\u001b[0m\u001b[0mpredict\u001b[0m\u001b[1;33m(\u001b[0m\u001b[0mX_val\u001b[0m\u001b[1;33m)\u001b[0m\u001b[1;33m\u001b[0m\u001b[1;33m\u001b[0m\u001b[0m\n\u001b[0;32m      9\u001b[0m \u001b[1;33m\u001b[0m\u001b[0m\n\u001b[1;32m---> 10\u001b[1;33m     \u001b[0mscore\u001b[0m \u001b[1;33m=\u001b[0m \u001b[0mf1_score_ancestors\u001b[0m\u001b[1;33m(\u001b[0m\u001b[0mTree\u001b[0m\u001b[1;33m,\u001b[0m \u001b[0my_val\u001b[0m\u001b[1;33m[\u001b[0m\u001b[1;34m'detailedMatchClassification'\u001b[0m\u001b[1;33m]\u001b[0m\u001b[1;33m,\u001b[0m \u001b[0mpred\u001b[0m\u001b[1;33m,\u001b[0m \u001b[0mbeta\u001b[0m\u001b[1;33m=\u001b[0m\u001b[1;36m1\u001b[0m\u001b[1;33m)\u001b[0m\u001b[1;33m\u001b[0m\u001b[1;33m\u001b[0m\u001b[0m\n\u001b[0m\u001b[0;32m     11\u001b[0m     \u001b[1;31m#cross validation score to be implemented\u001b[0m\u001b[1;33m\u001b[0m\u001b[1;33m\u001b[0m\u001b[1;33m\u001b[0m\u001b[0m\n\u001b[0;32m     12\u001b[0m \u001b[1;33m\u001b[0m\u001b[0m\n",
      "\u001b[1;32m<ipython-input-107-e75f867ec0e7>\u001b[0m in \u001b[0;36mf1_score_ancestors\u001b[1;34m(class_hierarchy, y_true, y_pred, beta)\u001b[0m\n\u001b[0;32m     41\u001b[0m \u001b[1;33m\u001b[0m\u001b[0m\n\u001b[0;32m     42\u001b[0m \u001b[1;32mdef\u001b[0m \u001b[0mf1_score_ancestors\u001b[0m\u001b[1;33m(\u001b[0m\u001b[0mclass_hierarchy\u001b[0m\u001b[1;33m,\u001b[0m \u001b[0my_true\u001b[0m\u001b[1;33m,\u001b[0m \u001b[0my_pred\u001b[0m\u001b[1;33m,\u001b[0m \u001b[0mbeta\u001b[0m\u001b[1;33m)\u001b[0m\u001b[1;33m:\u001b[0m\u001b[1;33m\u001b[0m\u001b[1;33m\u001b[0m\u001b[0m\n\u001b[1;32m---> 43\u001b[1;33m     \u001b[1;32mreturn\u001b[0m \u001b[0m_fbeta_score_class_sets\u001b[0m\u001b[1;33m(\u001b[0m\u001b[0mclass_hierarchy\u001b[0m\u001b[1;33m.\u001b[0m\u001b[0m_get_ancestors\u001b[0m\u001b[1;33m,\u001b[0m \u001b[0my_true\u001b[0m\u001b[1;33m,\u001b[0m \u001b[0my_pred\u001b[0m\u001b[1;33m,\u001b[0m \u001b[0mbeta\u001b[0m\u001b[1;33m=\u001b[0m\u001b[0mbeta\u001b[0m\u001b[1;33m)\u001b[0m\u001b[1;33m\u001b[0m\u001b[1;33m\u001b[0m\u001b[0m\n\u001b[0m\u001b[0;32m     44\u001b[0m \u001b[1;33m\u001b[0m\u001b[0m\n\u001b[0;32m     45\u001b[0m \u001b[1;32mdef\u001b[0m \u001b[0mday_block_scores\u001b[0m\u001b[1;33m(\u001b[0m\u001b[0mclassifier\u001b[0m\u001b[1;33m,\u001b[0m \u001b[0my_true\u001b[0m\u001b[1;33m,\u001b[0m \u001b[0my_pred\u001b[0m\u001b[1;33m,\u001b[0m \u001b[0mprint_output\u001b[0m \u001b[1;33m=\u001b[0m \u001b[1;32mFalse\u001b[0m\u001b[1;33m)\u001b[0m\u001b[1;33m:\u001b[0m\u001b[1;33m\u001b[0m\u001b[1;33m\u001b[0m\u001b[0m\n",
      "\u001b[1;32m<ipython-input-107-e75f867ec0e7>\u001b[0m in \u001b[0;36m_fbeta_score_class_sets\u001b[1;34m(set_function, y_true, y_pred, beta)\u001b[0m\n\u001b[0;32m     25\u001b[0m \u001b[1;33m\u001b[0m\u001b[0m\n\u001b[0;32m     26\u001b[0m \u001b[1;32mdef\u001b[0m \u001b[0m_fbeta_score_class_sets\u001b[0m\u001b[1;33m(\u001b[0m\u001b[0mset_function\u001b[0m\u001b[1;33m,\u001b[0m \u001b[0my_true\u001b[0m\u001b[1;33m,\u001b[0m \u001b[0my_pred\u001b[0m\u001b[1;33m,\u001b[0m \u001b[0mbeta\u001b[0m\u001b[1;33m=\u001b[0m\u001b[1;36m1\u001b[0m\u001b[1;33m)\u001b[0m\u001b[1;33m:\u001b[0m\u001b[1;33m\u001b[0m\u001b[1;33m\u001b[0m\u001b[0m\n\u001b[1;32m---> 27\u001b[1;33m     \u001b[0mtrue_sum\u001b[0m\u001b[1;33m,\u001b[0m \u001b[0mpredicted_sum\u001b[0m\u001b[1;33m,\u001b[0m \u001b[0mintersection_sum\u001b[0m \u001b[1;33m=\u001b[0m \u001b[0m_aggregate_class_sets\u001b[0m\u001b[1;33m(\u001b[0m\u001b[0mset_function\u001b[0m\u001b[1;33m,\u001b[0m \u001b[0my_true\u001b[0m\u001b[1;33m,\u001b[0m \u001b[0my_pred\u001b[0m\u001b[1;33m)\u001b[0m\u001b[1;33m\u001b[0m\u001b[1;33m\u001b[0m\u001b[0m\n\u001b[0m\u001b[0;32m     28\u001b[0m     \u001b[0mprecision\u001b[0m \u001b[1;33m=\u001b[0m \u001b[0mintersection_sum\u001b[0m \u001b[1;33m/\u001b[0m \u001b[0mpredicted_sum\u001b[0m\u001b[1;33m\u001b[0m\u001b[1;33m\u001b[0m\u001b[0m\n\u001b[0;32m     29\u001b[0m     \u001b[0mrecall\u001b[0m \u001b[1;33m=\u001b[0m \u001b[0mintersection_sum\u001b[0m \u001b[1;33m/\u001b[0m \u001b[0mtrue_sum\u001b[0m\u001b[1;33m\u001b[0m\u001b[1;33m\u001b[0m\u001b[0m\n",
      "\u001b[1;32m<ipython-input-107-e75f867ec0e7>\u001b[0m in \u001b[0;36m_aggregate_class_sets\u001b[1;34m(set_function, y_true, y_pred)\u001b[0m\n\u001b[0;32m     19\u001b[0m         \u001b[0mtrue_set\u001b[0m \u001b[1;33m=\u001b[0m \u001b[0mset\u001b[0m\u001b[1;33m(\u001b[0m\u001b[1;33m[\u001b[0m\u001b[0mtrue\u001b[0m\u001b[1;33m]\u001b[0m \u001b[1;33m+\u001b[0m \u001b[0mset_function\u001b[0m\u001b[1;33m(\u001b[0m\u001b[0mtrue\u001b[0m\u001b[1;33m)\u001b[0m\u001b[1;33m)\u001b[0m\u001b[1;33m\u001b[0m\u001b[1;33m\u001b[0m\u001b[0m\n\u001b[0;32m     20\u001b[0m         \u001b[0mpred_set\u001b[0m \u001b[1;33m=\u001b[0m \u001b[0mset\u001b[0m\u001b[1;33m(\u001b[0m\u001b[1;33m[\u001b[0m\u001b[0mpred\u001b[0m\u001b[1;33m]\u001b[0m \u001b[1;33m+\u001b[0m \u001b[0mset_function\u001b[0m\u001b[1;33m(\u001b[0m\u001b[0mpred\u001b[0m\u001b[1;33m)\u001b[0m\u001b[1;33m)\u001b[0m\u001b[1;33m\u001b[0m\u001b[1;33m\u001b[0m\u001b[0m\n\u001b[1;32m---> 21\u001b[1;33m         \u001b[0mintersection_sum\u001b[0m \u001b[1;33m+=\u001b[0m \u001b[0mlen\u001b[0m\u001b[1;33m(\u001b[0m\u001b[0mtrue_set\u001b[0m\u001b[1;33m.\u001b[0m\u001b[0mintersection\u001b[0m\u001b[1;33m(\u001b[0m\u001b[0mpred_set\u001b[0m\u001b[1;33m)\u001b[0m\u001b[1;33m)\u001b[0m\u001b[1;33m\u001b[0m\u001b[1;33m\u001b[0m\u001b[0m\n\u001b[0m\u001b[0;32m     22\u001b[0m         \u001b[0mtrue_sum\u001b[0m \u001b[1;33m+=\u001b[0m \u001b[0mlen\u001b[0m\u001b[1;33m(\u001b[0m\u001b[0mtrue_set\u001b[0m\u001b[1;33m)\u001b[0m\u001b[1;33m\u001b[0m\u001b[1;33m\u001b[0m\u001b[0m\n\u001b[0;32m     23\u001b[0m         \u001b[0mpredicted_sum\u001b[0m \u001b[1;33m+=\u001b[0m \u001b[0mlen\u001b[0m\u001b[1;33m(\u001b[0m\u001b[0mpred_set\u001b[0m\u001b[1;33m)\u001b[0m\u001b[1;33m\u001b[0m\u001b[1;33m\u001b[0m\u001b[0m\n",
      "\u001b[1;31mKeyboardInterrupt\u001b[0m: "
     ]
    }
   ],
   "source": [
    "results, best_param = hyperopt(param_hyperopt, X_train, y_train, X_val, y_val, 10)"
   ]
  },
  {
   "cell_type": "code",
   "execution_count": 140,
   "metadata": {
    "execution": {
     "iopub.execute_input": "2021-02-17T15:01:55.413617Z",
     "iopub.status.busy": "2021-02-17T15:01:55.413617Z",
     "iopub.status.idle": "2021-02-17T15:01:55.430559Z",
     "shell.execute_reply": "2021-02-17T15:01:55.429562Z",
     "shell.execute_reply.started": "2021-02-17T15:01:55.413617Z"
    }
   },
   "outputs": [
    {
     "data": {
      "text/plain": [
       "{'DT_criterion': 1,\n",
       " 'DT_max_depth': 5.0,\n",
       " 'NN_dropout': 0.3180872672719526,\n",
       " 'NN_layers': 2.0,\n",
       " 'NN_nodes': 40.0,\n",
       " 'RF_max_depth': 12.0,\n",
       " 'RF_n_estimators': 25.0}"
      ]
     },
     "execution_count": 140,
     "metadata": {},
     "output_type": "execute_result"
    }
   ],
   "source": [
    "best_param"
   ]
  },
  {
   "cell_type": "code",
   "execution_count": 159,
   "metadata": {
    "execution": {
     "iopub.execute_input": "2021-02-17T15:40:23.347868Z",
     "iopub.status.busy": "2021-02-17T15:40:23.347868Z",
     "iopub.status.idle": "2021-02-17T15:40:23.370804Z",
     "shell.execute_reply": "2021-02-17T15:40:23.370804Z",
     "shell.execute_reply.started": "2021-02-17T15:40:23.347868Z"
    }
   },
   "outputs": [],
   "source": [
    "def test_fold_score(X, y, X_test, y_test, n_test_folds, total_test_size):\n",
    "    \n",
    "    n_test_folds = 5\n",
    "    criteriaList = ['gini','entropy']\n",
    "\n",
    "    HC = HierarchicalClassifier(Tree)\n",
    "    HC.fit_classifiers({'ORDERS'  : RandomForestClassifier(random_state=0, class_weight='balanced', n_estimators = int(best_param['RF_n_estimators']), max_depth = int(best_param['RF_max_depth'])),\n",
    "                        'KNOWN'   : DecisionTreeClassifier(random_state=0, class_weight='balanced', max_depth = int(best_param['DT_max_depth']), criterion = criteriaList[best_param['DT_criterion']]),\n",
    "                        'UNHAPPY' : KerasClassifier(functions.neuralNetwork, output = 3, nodes = int(best_param['NN_nodes']), layers = int(best_param['NN_layers']), droprate = best_param['NN_dropout'], epochs = 15, verbose = 0)})\n",
    "\n",
    "    score_fold = np.zeros(n_test_folds)\n",
    "\n",
    "    for i in range(n_test_folds):\n",
    "        X_test = X_test_full.iloc[int((1/n_test_folds)*i*len(X_test_full)):int((1/n_test_folds)*i*len(X_test_full)+(1/n_test_folds)*len(X_test_full))]\n",
    "        y_test = y_test_full.iloc[int((1/n_test_folds)*i*len(y_test_full)):int((1/n_test_folds)*i*len(y_test_full)+(1/n_test_folds)*len(y_test_full))]\n",
    "    \n",
    "        X_train_val = X.iloc[int((total_test_size/n_test_folds)*i*len(X)):int((total_test_size/n_test_folds)*i*len(X)+(1-total_test_size)*len(X))]\n",
    "        y_train_val = y.iloc[int((total_test_size/n_test_folds)*i*len(y)):int((total_test_size/n_test_folds)*i*len(y)+(1-total_test_size)*len(y))]\n",
    "    \n",
    "        HC = HC.fit(X_train_val,y_train_val)\n",
    "        pred = HC.predict(X_test)\n",
    "    \n",
    "        score_fold[i] = f1_score_ancestors(Tree, y_test['detailedMatchClassification'], pred, beta=1)\n",
    "    \n",
    "        print(i)\n",
    "    \n",
    "    score = score_fold.mean()\n",
    "    return score"
   ]
  },
  {
   "cell_type": "code",
   "execution_count": 160,
   "metadata": {
    "execution": {
     "iopub.execute_input": "2021-02-17T15:40:25.485621Z",
     "iopub.status.busy": "2021-02-17T15:40:25.484625Z",
     "iopub.status.idle": "2021-02-17T15:47:10.675264Z",
     "shell.execute_reply": "2021-02-17T15:47:10.674321Z",
     "shell.execute_reply.started": "2021-02-17T15:40:25.484625Z"
    }
   },
   "outputs": [
    {
     "name": "stdout",
     "output_type": "stream",
     "text": [
      "0\n",
      "1\n",
      "2\n",
      "3\n",
      "4\n"
     ]
    },
    {
     "data": {
      "text/plain": [
       "0.8034710883106735"
      ]
     },
     "execution_count": 160,
     "metadata": {},
     "output_type": "execute_result"
    }
   ],
   "source": [
    "test_fold_score(X, y, X_test, y_test, n_test_folds = 5, total_test_size = 0.25)"
   ]
  },
  {
   "cell_type": "code",
   "execution_count": null,
   "metadata": {
    "execution": {
     "iopub.status.busy": "2021-02-17T14:50:55.082627Z",
     "iopub.status.idle": "2021-02-17T14:50:55.083627Z",
     "shell.execute_reply": "2021-02-17T14:50:55.083627Z"
    }
   },
   "outputs": [],
   "source": [
    "def objective_function(params):\n",
    "    \n",
    "    Tree = ClassHierarchy('ORDERS')\n",
    "    Tree.add_node(['UNKNOWN','KNOWN'], 'ORDERS')\n",
    "    Tree.add_node(['HAPPY','UNHAPPY'], 'KNOWN')\n",
    "    Tree.add_node(['MILDLY UNHAPPY','MEDIUM UNHAPPY','HEAVILY UNHAPPY'], 'UNHAPPY')\n",
    "    \n",
    "    HC = HierarchicalClassifier(Tree)\n",
    "    HC.fit_classifiers({'ORDERS'  : RandomForestClassifier(random_state=0, class_weight='balanced', n_estimators = params['RF_n_estimators'], max_depth = params['RF_max_depth']),\n",
    "                        'KNOWN'   : DecisionTreeClassifier(random_state=0, class_weight='balanced', max_depth = params['DT_max_depth'], criterion = params['DT_criterion']),\n",
    "                        'UNHAPPY' : KerasClassifier(neuralNetwork, nodes = params['NN_nodes'], layers = params['NN_layers'], epochs = 10, verbose = 0)})\n",
    "    \n",
    "    score_fold = np.zeros(3)\n",
    "    \n",
    "    for i in range(n_folds):\n",
    "        X_train_val = X.iloc[int(0.1*i):int(0.1*i+0.5*len(X))]\n",
    "        X_train = X_train_val.iloc[0:int(0.8*len(X_train_val))]\n",
    "        X_val = X_train_val.iloc[int(0.8*len(X_train_val)):]\n",
    "        \n",
    "        y_train_val = y.iloc[int(0.1*i):int(0.1*i+0.5*len(y))]\n",
    "        y_train = y_train_val.iloc[0:int(0.8*len(y_train_val))]\n",
    "        y_val = y_train_val.iloc[int(0.8*len(y_train_val)):]\n",
    "    \n",
    "        HC = HC.fit(X_train,y_train)\n",
    "        pred = HC.predict(X_val)\n",
    "    \n",
    "        score_fold[i] = f1_score_ancestors(Tree, y_val['detailedMatchClassification'], pred, beta=1)\n",
    "    #print(metrics.accuracy_score(y_test, pred))\n",
    "    #cross validation score to be implemented\n",
    "    \n",
    "    score = score_fold.mean()\n",
    "    \n",
    "    return {'loss': -score, 'status': STATUS_OK}"
   ]
  },
  {
   "cell_type": "markdown",
   "metadata": {},
   "source": [
    "#### System: Non-mandaroty dynamic prediction X days after order date"
   ]
  },
  {
   "cell_type": "code",
   "execution_count": null,
   "metadata": {
    "execution": {
     "iopub.status.busy": "2021-02-17T14:50:55.084620Z",
     "iopub.status.idle": "2021-02-17T14:50:55.084620Z",
     "shell.execute_reply": "2021-02-17T14:50:55.084620Z"
    },
    "jupyter": {
     "source_hidden": true
    }
   },
   "outputs": [],
   "source": [
    "def dynamicHierarchicalClassifier(START, END, threshold):  \n",
    "\n",
    "    predictions = pd.DataFrame()\n",
    "    statistics = {'%classified':{},\n",
    "                  '%accuracy'  :{},\n",
    "                  '%precision' :{},\n",
    "                  '%recall'    :{},\n",
    "                  '%blocking'  :{}}\n",
    "    \n",
    "    dynamic_threshold = np.linspace(0.95,threshold,(END-START))\n",
    "    static_threshold = np.full((END-START),threshold)\n",
    "    threshold_count = 0\n",
    "\n",
    "    for DAYS in range(START, END+1):\n",
    "\n",
    "        X, y = functions.dataX(df_, DATE, X_col, Y_col, historic_variable, DAYS)\n",
    "        X_train, X_test, y_train, y_test = train_test_split(X, y, test_size = 0.2, random_state=0, shuffle=False)\n",
    "\n",
    "        Tree = ClassHierarchy('ORDERS')\n",
    "        Tree.add_node(['UNKNOWN','KNOWN'], 'ORDERS')\n",
    "        Tree.add_node(['HAPPY','UNHAPPY'], 'KNOWN')\n",
    "        Tree.add_node(['MILDLY UNHAPPY','MEDIUM UNHAPPY','HEAVILY UNHAPPY'], 'UNHAPPY')\n",
    "\n",
    "        HC = HierarchicalClassifier(Tree)\n",
    "        HC.fit_classifiers({'ORDERS'  : RandomForestClassifier(random_state=0, class_weight='balanced', n_estimators = 10),\n",
    "                            'KNOWN'   : DecisionTreeClassifier(random_state=0, class_weight='balanced', max_depth = 10),\n",
    "                            'UNHAPPY' : KerasClassifier(build_fn = functions.neuralNetwork, epochs = 10, verbose = 0)})\n",
    "        \n",
    "        HC = HC.fit(X_train,y_train)\n",
    "\n",
    "        if DAYS == START: #create dataframe to save predictions\n",
    "            y_hat = pd.DataFrame([Tree.root] * len(X_test),\n",
    "                                    columns=[DAYS],\n",
    "                                    index=X_test.index)\n",
    "            index_no_leaf = X_test.index\n",
    "        else:\n",
    "            y_hat[DAYS] = y_hat[DAYS - 1]\n",
    "\n",
    "        if DAYS < END:\n",
    "            pred = HC.predict_proba(X_test.loc[index_no_leaf], threshold = dynamic_threshold[threshold_count])\n",
    "\n",
    "            check_no_leaf = ~pred.isin(Tree._get_leaf_nodes())\n",
    "            index_no_leaf = check_no_leaf[check_no_leaf].index\n",
    "            check_leaf = pred.isin(Tree._get_leaf_nodes())\n",
    "            index_leaf = check_leaf[check_leaf].index\n",
    "\n",
    "            y_hat_stage = pd.DataFrame(pred, index = index_leaf)\n",
    "        else:\n",
    "            pred = HC.predict(X_test.loc[index_no_leaf]) #last day you want a label for each order\n",
    "            y_hat_stage = pd.DataFrame(pred, index = index_no_leaf)\n",
    "            index_leaf = X_test.index\n",
    "            \n",
    "        y_hat = y_hat.assign(stage_col = y_hat_stage)\n",
    "        y_hat.stage_col = y_hat.stage_col.fillna(y_hat[DAYS]) #fill previously predicted labels\n",
    "        y_hat = y_hat.drop(DAYS, axis=1)\n",
    "        y_hat = y_hat.rename(columns={'stage_col': DAYS})\n",
    "        \n",
    "        current_pred = y_hat.iloc[:, y_hat.shape[1] - 1]\n",
    "\n",
    "        fraction_label, fraction_leaf, accuracy_leaf, precision_leaf, recall_leaf, fraction_blocked = day_block_scores(HC, y_test, current_pred)\n",
    "        statistics['%classified'][DAYS] = fraction_leaf\n",
    "        statistics['%accuracy'][DAYS] = accuracy_leaf\n",
    "        statistics['%precision'][DAYS] = precision_leaf\n",
    "        statistics['%recall'][DAYS] = recall_leaf\n",
    "        statistics['%blocking'][DAYS] = fraction_blocked\n",
    "\n",
    "        threshold_count += 1\n",
    "        print('DAYS: ',DAYS)\n",
    "     \n",
    "    final_pred = y_hat.iloc[:, y_hat.shape[1] - 1]\n",
    "    \n",
    "    statistics['precision_H'] = precision_score_ancestors(Tree, y_test['detailedMatchClassification'], final_pred)\n",
    "    statistics['recall_H'] = recall_score_ancestors(Tree, y_test['detailedMatchClassification'], final_pred)\n",
    "    statistics['f1_H'] = f1_score_ancestors(Tree, y_test['detailedMatchClassification'], final_pred)\n",
    "        \n",
    "    return final_pred, statistics"
   ]
  },
  {
   "cell_type": "code",
   "execution_count": 61,
   "metadata": {
    "collapsed": true,
    "execution": {
     "iopub.execute_input": "2021-02-15T10:33:58.644747Z",
     "iopub.status.busy": "2021-02-15T10:33:58.644307Z",
     "iopub.status.idle": "2021-02-15T11:00:26.993474Z",
     "shell.execute_reply": "2021-02-15T11:00:26.990435Z",
     "shell.execute_reply.started": "2021-02-15T10:33:58.644699Z"
    },
    "jupyter": {
     "outputs_hidden": true,
     "source_hidden": true
    }
   },
   "outputs": [
    {
     "name": "stdout",
     "output_type": "stream",
     "text": [
      "DAYS:  0\n",
      "DAYS:  1\n",
      "DAYS:  2\n",
      "DAYS:  3\n",
      "DAYS:  4\n",
      "DAYS:  5\n",
      "DAYS:  6\n",
      "DAYS:  7\n",
      "DAYS:  8\n",
      "DAYS:  9\n",
      "DAYS:  10\n"
     ]
    }
   ],
   "source": [
    "pred, statistics = dynamicHierarchicalClassifier(0,10,0.8)"
   ]
  },
  {
   "cell_type": "code",
   "execution_count": 42,
   "metadata": {
    "execution": {
     "iopub.execute_input": "2021-02-14T15:34:51.984419Z",
     "iopub.status.busy": "2021-02-14T15:34:51.982658Z",
     "iopub.status.idle": "2021-02-14T15:34:51.995681Z",
     "shell.execute_reply": "2021-02-14T15:34:51.994444Z",
     "shell.execute_reply.started": "2021-02-14T15:34:51.984352Z"
    },
    "jupyter": {
     "source_hidden": true
    }
   },
   "outputs": [],
   "source": [
    "days, precision_list = zip(*statistics['%precision'].items()) \n",
    "P_Happy, P_Heavy, P_Medium, P_Mild, P_Unk = zip(*precision_list) "
   ]
  },
  {
   "cell_type": "code",
   "execution_count": 35,
   "metadata": {
    "execution": {
     "iopub.execute_input": "2021-02-14T15:24:42.907471Z",
     "iopub.status.busy": "2021-02-14T15:24:42.907191Z",
     "iopub.status.idle": "2021-02-14T15:24:42.914986Z",
     "shell.execute_reply": "2021-02-14T15:24:42.911243Z",
     "shell.execute_reply.started": "2021-02-14T15:24:42.907445Z"
    },
    "jupyter": {
     "source_hidden": true
    }
   },
   "outputs": [],
   "source": [
    "days, recall_list = zip(*statistics['%recall'].items()) \n",
    "R_Happy, R_Heavy, R_Medium, R_Mild, R_Unk = zip(*recall_list) "
   ]
  },
  {
   "cell_type": "code",
   "execution_count": 57,
   "metadata": {
    "collapsed": true,
    "execution": {
     "iopub.execute_input": "2021-02-15T10:30:41.647112Z",
     "iopub.status.busy": "2021-02-15T10:30:41.646838Z",
     "iopub.status.idle": "2021-02-15T10:30:41.774713Z",
     "shell.execute_reply": "2021-02-15T10:30:41.772993Z",
     "shell.execute_reply.started": "2021-02-15T10:30:41.647086Z"
    },
    "jupyter": {
     "outputs_hidden": true,
     "source_hidden": true
    }
   },
   "outputs": [
    {
     "data": {
      "text/plain": [
       "array(['HAPPY', 'HEAVILY UNHAPPY', 'MEDIUM UNHAPPY', 'MILDLY UNHAPPY',\n",
       "       'UNKNOWN'], dtype=object)"
      ]
     },
     "execution_count": 57,
     "metadata": {},
     "output_type": "execute_result"
    }
   ],
   "source": [
    "np.unique(y_test)"
   ]
  },
  {
   "cell_type": "code",
   "execution_count": 58,
   "metadata": {
    "collapsed": true,
    "execution": {
     "iopub.execute_input": "2021-02-15T10:30:43.912287Z",
     "iopub.status.busy": "2021-02-15T10:30:43.911935Z",
     "iopub.status.idle": "2021-02-15T10:30:45.186063Z",
     "shell.execute_reply": "2021-02-15T10:30:45.185189Z",
     "shell.execute_reply.started": "2021-02-15T10:30:43.912250Z"
    },
    "jupyter": {
     "outputs_hidden": true,
     "source_hidden": true
    }
   },
   "outputs": [
    {
     "data": {
      "text/plain": [
       "(array([0.93595777, 0.72900158, 0.68055556, 0.96074337, 0.93501152]),\n",
       " array([0.99902783, 0.45231072, 0.36392573, 0.51459568, 0.98295054]),\n",
       " array([0.96646493, 0.55825243, 0.47424819, 0.67021122, 0.95838192]))"
      ]
     },
     "execution_count": 58,
     "metadata": {},
     "output_type": "execute_result"
    }
   ],
   "source": [
    "local_scores(y_test, pred)"
   ]
  },
  {
   "cell_type": "code",
   "execution_count": 59,
   "metadata": {
    "collapsed": true,
    "execution": {
     "iopub.execute_input": "2021-02-15T10:30:50.186031Z",
     "iopub.status.busy": "2021-02-15T10:30:50.185760Z",
     "iopub.status.idle": "2021-02-15T10:30:51.445106Z",
     "shell.execute_reply": "2021-02-15T10:30:51.444073Z",
     "shell.execute_reply.started": "2021-02-15T10:30:50.186005Z"
    },
    "jupyter": {
     "outputs_hidden": true,
     "source_hidden": true
    }
   },
   "outputs": [
    {
     "data": {
      "text/plain": [
       "(array([0.93595777, 0.9654636 , 0.93501152]),\n",
       " array([0.99902783, 0.52402263, 0.98295054]),\n",
       " array([0.96646493, 0.6793279 , 0.95838192]))"
      ]
     },
     "execution_count": 59,
     "metadata": {},
     "output_type": "execute_result"
    }
   ],
   "source": [
    "pred_general = pred.replace({'MILDLY UNHAPPY':'UNHAPPY',\n",
    "                             'MEDIUM UNHAPPY':'UNHAPPY',\n",
    "                             'HEAVILY UNHAPPY':'UNHAPPY'})\n",
    "test_general = y_test.replace({'MILDLY UNHAPPY':'UNHAPPY',\n",
    "                             'MEDIUM UNHAPPY':'UNHAPPY',\n",
    "                             'HEAVILY UNHAPPY':'UNHAPPY'})\n",
    "local_scores(test_general, pred_general)"
   ]
  },
  {
   "cell_type": "code",
   "execution_count": 634,
   "metadata": {
    "collapsed": true,
    "execution": {
     "iopub.execute_input": "2021-02-12T15:07:55.901411Z",
     "iopub.status.busy": "2021-02-12T15:07:55.900283Z",
     "iopub.status.idle": "2021-02-12T15:07:56.150161Z",
     "shell.execute_reply": "2021-02-12T15:07:56.148830Z",
     "shell.execute_reply.started": "2021-02-12T15:07:55.901324Z"
    },
    "jupyter": {
     "outputs_hidden": true,
     "source_hidden": true
    }
   },
   "outputs": [
    {
     "data": {
      "text/plain": [
       "[<matplotlib.lines.Line2D at 0x7ffa4aa0ffd0>]"
      ]
     },
     "execution_count": 634,
     "metadata": {},
     "output_type": "execute_result"
    },
    {
     "data": {
      "image/png": "[encoded data removed]",
      "text/plain": [
       "<Figure size 432x288 with 1 Axes>"
      ]
     },
     "metadata": {
      "needs_background": "light"
     },
     "output_type": "display_data"
    }
   ],
   "source": [
    "# plt.plot(days, P_Happy)\n",
    "# plt.plot(days, P_Heavy)\n",
    "# plt.plot(days, P_Medium)\n",
    "# plt.plot(days, P_Mild)\n",
    "# plt.plot(days, P_Unk)"
   ]
  },
  {
   "cell_type": "code",
   "execution_count": 635,
   "metadata": {
    "collapsed": true,
    "execution": {
     "iopub.execute_input": "2021-02-12T15:07:56.445600Z",
     "iopub.status.busy": "2021-02-12T15:07:56.444800Z",
     "iopub.status.idle": "2021-02-12T15:07:56.743873Z",
     "shell.execute_reply": "2021-02-12T15:07:56.741770Z",
     "shell.execute_reply.started": "2021-02-12T15:07:56.445556Z"
    },
    "jupyter": {
     "outputs_hidden": true,
     "source_hidden": true
    }
   },
   "outputs": [
    {
     "data": {
      "text/plain": [
       "[<matplotlib.lines.Line2D at 0x7ff93b378e80>]"
      ]
     },
     "execution_count": 635,
     "metadata": {},
     "output_type": "execute_result"
    },
    {
     "data": {
      "image/png": "[encoded data removed]",
      "text/plain": [
       "<Figure size 432x288 with 1 Axes>"
      ]
     },
     "metadata": {
      "needs_background": "light"
     },
     "output_type": "display_data"
    }
   ],
   "source": [
    "# plt.plot(days, R_Happy)\n",
    "# plt.plot(days, R_Heavy)\n",
    "# plt.plot(days, R_Medium)\n",
    "# plt.plot(days, R_Mild)\n",
    "# plt.plot(days, R_Unk)"
   ]
  },
  {
   "cell_type": "markdown",
   "metadata": {},
   "source": [
    "#### Non-mandatory predictions 0,1,2,... days after order date"
   ]
  },
  {
   "cell_type": "code",
   "execution_count": 508,
   "metadata": {
    "collapsed": true,
    "execution": {
     "iopub.execute_input": "2021-02-12T09:31:38.310871Z",
     "iopub.status.busy": "2021-02-12T09:31:38.310537Z",
     "iopub.status.idle": "2021-02-12T09:34:19.938146Z",
     "shell.execute_reply": "2021-02-12T09:34:19.936876Z",
     "shell.execute_reply.started": "2021-02-12T09:31:38.310843Z"
    },
    "jupyter": {
     "outputs_hidden": true,
     "source_hidden": true
    }
   },
   "outputs": [
    {
     "name": "stdout",
     "output_type": "stream",
     "text": [
      "DAYS:  0\n",
      "DAYS:  1\n",
      "DAYS:  2\n",
      "DAYS:  3\n"
     ]
    }
   ],
   "source": [
    "PREDICT_DAYS = 10\n",
    "threshold = 0.8\n",
    "\n",
    "predictions = pd.DataFrame()\n",
    "results = {}\n",
    "\n",
    "dynamic_threshold = np.linspace(0.95,threshold,PREDICT_DAYS+1)\n",
    "dynamic_count = 0\n",
    "\n",
    "for DAYS in range(PREDICT_DAYS+1):\n",
    "    \n",
    "    X, y = functions.dataX(df_, DATE, X_col, Y_col, historic_variable, DAYS)\n",
    "    X_train, X_test, y_train, y_test = train_test_split(X, y, test_size=0.2, random_state=0, shuffle=False)\n",
    "\n",
    "    Tree = ClassHierarchy('ORDERS')\n",
    "    Tree.add_node(['UNKNOWN','KNOWN'], 'ORDERS')\n",
    "    Tree.add_node(['HAPPY','UNHAPPY'], 'KNOWN')\n",
    "    Tree.add_node(['MILDLY UNHAPPY','MEDIUM UNHAPPY','HEAVILY UNHAPPY'], 'UNHAPPY')\n",
    "\n",
    "    HC = HierarchicalClassifier(Tree)\n",
    "    HC.fit_classifiers({'ORDERS'  : DecisionTreeClassifier(random_state=0, class_weight='balanced', max_depth = 10),\n",
    "                        'KNOWN'   : DecisionTreeClassifier(random_state=0, class_weight='balanced', max_depth = 10),\n",
    "                        'UNHAPPY' : KerasClassifier(build_fn = functions.neuralNetwork, epochs = 15, verbose = 0)})\n",
    "    \n",
    "    HC = HC.fit(X_train,y_train['detailedMatchClassification'])\n",
    "    pred = HC.predict_proba(X_test, threshold = dynamic_threshold[dynamic_count])\n",
    "    \n",
    "    fraction_label, fraction_leaf, accuracy_leaf = day_block_scores(HC, y_test['detailedMatchClassification'], pred)\n",
    "    \n",
    "    predictions[DAYS] = pred\n",
    "    results['DAY '+str(DAYS)] = (fraction_label, fraction_leaf, accuracy_leaf)\n",
    "    \n",
    "    dynamic_count += 1\n",
    "    \n",
    "    print('DAYS: ',DAYS)"
   ]
  },
  {
   "cell_type": "code",
   "execution_count": 509,
   "metadata": {
    "execution": {
     "iopub.execute_input": "2021-02-12T09:34:19.942295Z",
     "iopub.status.busy": "2021-02-12T09:34:19.941636Z",
     "iopub.status.idle": "2021-02-12T09:34:20.006608Z",
     "shell.execute_reply": "2021-02-12T09:34:20.002309Z",
     "shell.execute_reply.started": "2021-02-12T09:34:19.942247Z"
    },
    "jupyter": {
     "source_hidden": true
    }
   },
   "outputs": [],
   "source": [
    "changes = {}\n",
    "for i in range(0,predictions.shape[1]-1):\n",
    "    col_t0 = predictions.iloc[:,i]\n",
    "    col_t1 = predictions.iloc[:,i+1]\n",
    "    \n",
    "    check_leaf_t0 = col_t0.isin(Tree._get_leaf_nodes())\n",
    "    index_leaf_t0 = check_leaf_t0[check_leaf_t0].index\n",
    "    \n",
    "    col_t0_leaf = col_t0.loc[index_leaf_t0]\n",
    "    col_t1_leaf = col_t1.loc[index_leaf_t0]\n",
    "    \n",
    "    check_similarity = (col_t0_leaf == col_t1_leaf)\n",
    "    if i == 0:\n",
    "        ix = check_similarity[check_similarity == False].index\n",
    "    \n",
    "    changes['DAY '+str(i+1)] = 1 - (check_similarity.sum() / col_t0_leaf.count())"
   ]
  },
  {
   "cell_type": "code",
   "execution_count": 510,
   "metadata": {
    "execution": {
     "iopub.execute_input": "2021-02-12T09:34:20.020310Z",
     "iopub.status.busy": "2021-02-12T09:34:20.019700Z",
     "iopub.status.idle": "2021-02-12T09:34:20.069459Z",
     "shell.execute_reply": "2021-02-12T09:34:20.054155Z",
     "shell.execute_reply.started": "2021-02-12T09:34:20.020250Z"
    },
    "jupyter": {
     "source_hidden": true
    }
   },
   "outputs": [],
   "source": [
    "days0, stats = zip(*results.items())\n",
    "fraction_label, fraction_leaf, accuracy_leaf = zip(*stats)\n",
    "days1, change = zip(*changes.items())"
   ]
  },
  {
   "cell_type": "code",
   "execution_count": 636,
   "metadata": {
    "collapsed": true,
    "execution": {
     "iopub.execute_input": "2021-02-12T15:17:44.732108Z",
     "iopub.status.busy": "2021-02-12T15:17:44.731830Z",
     "iopub.status.idle": "2021-02-12T15:17:44.918889Z",
     "shell.execute_reply": "2021-02-12T15:17:44.917573Z",
     "shell.execute_reply.started": "2021-02-12T15:17:44.732082Z"
    },
    "jupyter": {
     "outputs_hidden": true,
     "source_hidden": true
    }
   },
   "outputs": [
    {
     "data": {
      "text/plain": [
       "[<matplotlib.lines.Line2D at 0x7ffa756a1310>]"
      ]
     },
     "execution_count": 636,
     "metadata": {},
     "output_type": "execute_result"
    },
    {
     "data": {
      "image/png": "[encoded data removed]",
      "text/plain": [
       "<Figure size 432x288 with 1 Axes>"
      ]
     },
     "metadata": {
      "needs_background": "light"
     },
     "output_type": "display_data"
    }
   ],
   "source": [
    "plt.plot(days0,fraction_label)\n",
    "plt.plot(days0,fraction_leaf)\n",
    "plt.plot(days0,accuracy_leaf)\n",
    "plt.plot(days1,change)"
   ]
  },
  {
   "cell_type": "markdown",
   "metadata": {},
   "source": [
    "#### Functions"
   ]
  },
  {
   "cell_type": "code",
   "execution_count": 11,
   "metadata": {
    "execution": {
     "iopub.execute_input": "2021-02-17T16:19:48.451362Z",
     "iopub.status.busy": "2021-02-17T16:19:48.450362Z",
     "iopub.status.idle": "2021-02-17T16:19:48.475224Z",
     "shell.execute_reply": "2021-02-17T16:19:48.474473Z",
     "shell.execute_reply.started": "2021-02-17T16:19:48.451362Z"
    }
   },
   "outputs": [],
   "source": [
    "def global_scores(y_true, y_pred, average = 'macro'):\n",
    "    accuracy = metrics.accuracy_score(y_true, y_pred)\n",
    "    scores = metrics.precision_recall_fscore_support(y_true, y_pred, average = average)\n",
    "    return accuracy, scores[0], scores[1], scores[2]\n",
    "\n",
    "def local_scores(y_true, y_pred):\n",
    "    labels = np.unique(y_true)\n",
    "    scores = metrics.precision_recall_fscore_support(y_true, y_pred, average = None, labels = labels, beta = 1)\n",
    "    return scores[0], scores[1], scores[2]\n",
    "\n",
    "def class_report(y_true, y_pred):\n",
    "    print(metrics.classification_report(y_true, y_pred))\n",
    "\n",
    "def _aggregate_class_sets(set_function, y_true, y_pred):\n",
    "    intersection_sum = 0\n",
    "    true_sum = 0\n",
    "    predicted_sum = 0\n",
    "    for true, pred in zip(list(y_true), list(y_pred)):\n",
    "        true_set = set([true] + set_function(true))\n",
    "        pred_set = set([pred] + set_function(pred))\n",
    "        intersection_sum += len(true_set.intersection(pred_set))\n",
    "        true_sum += len(true_set)\n",
    "        predicted_sum += len(pred_set)\n",
    "    return (true_sum, predicted_sum, intersection_sum)\n",
    "\n",
    "def _fbeta_score_class_sets(set_function, y_true, y_pred, beta=1):\n",
    "    true_sum, predicted_sum, intersection_sum = _aggregate_class_sets(set_function, y_true, y_pred)\n",
    "    precision = intersection_sum / predicted_sum\n",
    "    recall = intersection_sum / true_sum\n",
    "    return ((beta ** 2 + 1) * precision * recall) / ((beta ** 2 * precision) + recall)\n",
    "\n",
    "def precision_score_ancestors(class_hierarchy, y_true, y_pred):\n",
    "    true_sum, predicted_sum, intersection_sum = _aggregate_class_sets(\n",
    "        class_hierarchy._get_ancestors, y_true, y_pred)\n",
    "    return intersection_sum / predicted_sum\n",
    "\n",
    "def recall_score_ancestors(class_hierarchy, y_true, y_pred):\n",
    "    true_sum, predicted_sum, intersection_sum = _aggregate_class_sets(\n",
    "        class_hierarchy._get_ancestors, y_true, y_pred)\n",
    "    return intersection_sum / true_sum\n",
    "\n",
    "def f1_score_ancestors(class_hierarchy, y_true, y_pred, beta):\n",
    "    return _fbeta_score_class_sets(class_hierarchy._get_ancestors, y_true, y_pred, beta=beta)\n",
    "\n",
    "def day_block_scores(classifier, y_true, y_pred, print_output = False):\n",
    "    \n",
    "    check_label = (y_pred != classifier.class_hierarchy.root)\n",
    "    index_label = check_label[check_label].index\n",
    "    \n",
    "    fraction_label = check_label.sum()/y_pred.count()\n",
    "    fraction_leaf = y_pred.isin(classifier.class_hierarchy._get_leaf_nodes()).sum()/y_pred.count()\n",
    "    \n",
    "    check_leaf = y_pred.isin(classifier.class_hierarchy._get_leaf_nodes())\n",
    "    index_leaf = check_leaf[check_leaf].index\n",
    "    \n",
    "    accuracy_leaf, precision_leaf_macro, recall_leaf_macro, f1_leaf_macro = global_scores(y_true.loc[index_leaf],y_pred.loc[index_leaf])\n",
    "    precision_leaf, recall_leaf, f1_leaf = local_scores(y_true,y_pred)\n",
    "    \n",
    "#     fraction_type = {}\n",
    "#     for match_type in np.unique(y_true):\n",
    "#         test_type_check = (y_true == match_type)\n",
    "#         test_type_index = test_type_check[test_type_check].index\n",
    "#         pred_type_check = y_pred.loc[test_type_index]\n",
    "#         pred_type_index = pred_type_check[pred_type_check == match_type].index\n",
    "#         fraction_type[match_type] = len(pred_type_index) / len(test_type_check)\n",
    "    \n",
    "    if len(index_leaf) != len(y_true):\n",
    "        fraction_blocked = classifier.blocking\n",
    "    else:\n",
    "        fraction_blocked = None\n",
    "    \n",
    "    if print_output == True:\n",
    "        print('Percentage labelled\\t:'  ,round(fraction_label*100,2),'%')\n",
    "        print('Percentage leaf node\\t:' ,round(fraction_leaf*100,2) ,'%')\n",
    "        print('Accuracy leaf node\\t:'   ,round(accuracy_leaf*100,2) ,'%')\n",
    "        print('Precision leaf node\\t:'  ,round(precision_leaf*100,2),'%')\n",
    "        print('Recall leaf node\\t:'     ,round(recall_leaf*100,2)   ,'%')\n",
    "\n",
    "        for node, fraction in fraction_blocked.items():\n",
    "            print('Percentage blocked at '+node+'\\t:',round(fraction*100,2),'%')\n",
    "    else:    \n",
    "        return fraction_label, fraction_leaf, accuracy_leaf, precision_leaf, recall_leaf, fraction_blocked"
   ]
  },
  {
   "cell_type": "code",
   "execution_count": 12,
   "metadata": {
    "execution": {
     "iopub.execute_input": "2021-02-17T16:19:49.559844Z",
     "iopub.status.busy": "2021-02-17T16:19:49.559844Z",
     "iopub.status.idle": "2021-02-17T16:19:49.575694Z",
     "shell.execute_reply": "2021-02-17T16:19:49.575694Z",
     "shell.execute_reply.started": "2021-02-17T16:19:49.559844Z"
    }
   },
   "outputs": [],
   "source": [
    "class ClassHierarchy:\n",
    "    \n",
    "    def __init__(self, root):\n",
    "        self.root = root\n",
    "        self.nodes = {}\n",
    "        \n",
    "    def add_node(self, children, parent):\n",
    "        for child in children:\n",
    "            self.nodes[child] = parent\n",
    "            \n",
    "    def _get_leaf_nodes(self):\n",
    "        leaf_nodes = []\n",
    "        for child in self.nodes.keys():\n",
    "            if self._get_children(child) == []:\n",
    "                leaf_nodes.append(child)\n",
    "        return leaf_nodes\n",
    "\n",
    "    def _get_children(self, parent):\n",
    "        return sorted([child for child, childs_parent in\n",
    "                       self.nodes.items() if childs_parent == parent])\n",
    "    \n",
    "    def _get_parent(self, child):\n",
    "        return self.nodes[child] if (child in self.nodes and child != self.root) else self.root\n",
    "    \n",
    "    def _get_ancestors(self, child):\n",
    "        # Not including root, not including the child\n",
    "        ancestors = []\n",
    "        while True:\n",
    "            child = self._get_parent(child)\n",
    "            if child == self.root:\n",
    "                break\n",
    "            ancestors.append(child)\n",
    "        return ancestors"
   ]
  },
  {
   "cell_type": "code",
   "execution_count": 13,
   "metadata": {
    "execution": {
     "iopub.execute_input": "2021-02-17T16:19:49.799969Z",
     "iopub.status.busy": "2021-02-17T16:19:49.799969Z",
     "iopub.status.idle": "2021-02-17T16:19:49.838666Z",
     "shell.execute_reply": "2021-02-17T16:19:49.838666Z",
     "shell.execute_reply.started": "2021-02-17T16:19:49.799969Z"
    }
   },
   "outputs": [],
   "source": [
    "class HierarchicalClassifier:\n",
    "\n",
    "    def __init__(self, class_hierarchy):\n",
    "        self.stages = {}\n",
    "        self.class_hierarchy = class_hierarchy\n",
    "        self._create_stages(self.stages, self.class_hierarchy.root, 0)\n",
    "\n",
    "    def _create_stages(self, stages, parent, depth):\n",
    "        # Get the children of this parent\n",
    "        children = self.class_hierarchy._get_children(parent)\n",
    "        \n",
    "        if len(children) > 0:\n",
    "            stage = {}\n",
    "            stage['depth'] = depth\n",
    "            stage['labels'] = children\n",
    "            stage['classes'] = stage['labels'] + [parent]\n",
    "            stage['target'] = 'target_stage_' + parent\n",
    "            stages[parent] = stage\n",
    "\n",
    "            for node in children:\n",
    "                self._create_stages(stages, node, depth + 1)\n",
    "                \n",
    "    def _recode_label(self, classes, label):\n",
    "\n",
    "        while label != self.class_hierarchy.root and label not in classes:\n",
    "            label = self.class_hierarchy._get_parent(label)\n",
    "        return label\n",
    "                \n",
    "    def _prep_data(self, X, y):\n",
    "        \n",
    "        Xcols = range(0, X.shape[1])\n",
    "        Ycol = X.shape[1]\n",
    "        \n",
    "        df = pd.concat([X, y], axis=1, ignore_index=True)\n",
    "        # Create a target column for each stage with the recoded labels\n",
    "        for stage_name, stage_info in self.stages.items():\n",
    "            df[stage_info['target']] = pd.DataFrame.apply(df[[Ycol]],\n",
    "                                    lambda row: self._recode_label(stage_info['classes'], row[Ycol]),\n",
    "                                    axis=1)\n",
    "        return df, Xcols\n",
    "    \n",
    "    def _label_mapping(self, y_train, stage_name):\n",
    "        labels = np.unique(y_train)\n",
    "        int_label_mapping = dict(enumerate(labels))\n",
    "        label_int_mapping = {y:x for x,y in int_label_mapping.items()}\n",
    "        self.stages[stage_name]['mapping'] = {'int_label':int_label_mapping,\n",
    "                                              'label_int':label_int_mapping}\n",
    "        #return int_label_mapping, label_int_mapping\n",
    "        \n",
    "    def _class_weights(self, y_train, stage_name):\n",
    "        class_weights = class_weight.compute_class_weight('balanced',classes = np.unique(y_train),y = y_train)\n",
    "        class_weights = dict(enumerate(class_weights))\n",
    "        self.stages[stage_name]['classifier'].set_params(class_weight = class_weights)\n",
    "    \n",
    "    def fit_classifiers(self, classifiers):\n",
    "        \"\"\"\n",
    "        Fit a classifier to each stage\n",
    "        \"\"\"\n",
    "        if classifiers.keys() != self.stages.keys():\n",
    "             raise ValueError('Your assigned classifiers do not match the stages of the hierarchy, fit a classifier to each of: '+self.stages.keys())\n",
    "        else:\n",
    "            for stage, classifier in classifiers.items():\n",
    "                self.stages[stage]['classifier'] = classifier\n",
    "    \n",
    "    def fit(self, X, y):\n",
    "        \"\"\"\n",
    "        Build a multi-classifier from training data (X, y).\n",
    "        \"\"\"\n",
    "        df, Xcols = self._prep_data(X, y)\n",
    "        self.scaler = preprocessing.MinMaxScaler().fit(X)\n",
    "        \n",
    "        for stage_name, stage_info in self.stages.items():\n",
    "            \n",
    "            dfFilter = df[df[stage_info['target']].isin(stage_info['classes'])]\n",
    "            \n",
    "            X_train = dfFilter[Xcols]\n",
    "            y_train = dfFilter[[stage_info['target']]]\n",
    "                        \n",
    "            #warning - no samples to fit for stage\n",
    "            if isinstance(stage_info['classifier'], KerasClassifier):\n",
    "                y_train_col = pd.Series(np.ravel(y_train))\n",
    "                self._class_weights(y_train_col, stage_name)\n",
    "                self._label_mapping(y_train_col, stage_name)\n",
    "                y_encoded = y_train_col.map(stage_info['mapping']['label_int'])\n",
    "                y_dummy = pd.DataFrame(np_utils.to_categorical(y_encoded))\n",
    "                X_scaled = pd.DataFrame(self.scaler.transform(X_train))\n",
    "                stage_info['classifier'].fit(X_scaled, y_dummy)\n",
    "            else:\n",
    "                stage_info['classifier'] = stage_info['classifier'].fit(X_train, y_train)\n",
    "            #print('Stage '+stage_name+' succesfully fitted')\n",
    "\n",
    "        return self\n",
    "    \n",
    "    def predict(self, X):\n",
    "        \n",
    "        stage_number = 0\n",
    "        for stage_name, stage_info in self.stages.items():\n",
    "            \n",
    "            if stage_name == self.class_hierarchy.root:\n",
    "                y_hat = pd.DataFrame([self.class_hierarchy.root] * len(X),\n",
    "                                        columns=[self.class_hierarchy.root],\n",
    "                                        index=X.index)\n",
    "            else:\n",
    "                y_hat[stage_name] = y_hat[list(self.stages.keys())[stage_number - 1]]\n",
    "            stage_number += 1             \n",
    "                \n",
    "            X_test = X[y_hat[stage_name].isin([stage_name])]  #warning - no samples to fit for stage\n",
    "            \n",
    "            if isinstance(stage_info['classifier'], KerasClassifier):\n",
    "                X_scaled = pd.DataFrame(self.scaler.transform(X_test))\n",
    "                y_pred = pd.Series(stage_info['classifier'].predict(X_scaled)).map(stage_info['mapping']['int_label'])\n",
    "                y_hat_stage = pd.DataFrame(y_pred.values, index = X_test.index)\n",
    "            else:\n",
    "                y_hat_stage = pd.DataFrame(stage_info['classifier'].predict(X_test), index = X_test.index)\n",
    "                \n",
    "            y_hat = y_hat.assign(stage_col = y_hat_stage)\n",
    "            y_hat.stage_col = y_hat.stage_col.fillna(y_hat[stage_name]) #fill previously predicted labels\n",
    "            y_hat = y_hat.drop(stage_name, axis=1)\n",
    "            y_hat = y_hat.rename(columns={'stage_col': stage_name})\n",
    "            \n",
    "        return y_hat.iloc[:, y_hat.shape[1] - 1]     \n",
    "    \n",
    "    def predict_proba(self, X, threshold = 0.5):\n",
    "        \n",
    "        self.blocking = {}\n",
    "        stage_number = 0\n",
    "        for stage_name, stage_info in self.stages.items():\n",
    "            \n",
    "            if stage_name == self.class_hierarchy.root:\n",
    "                y_hat = pd.DataFrame([self.class_hierarchy.root] * len(X),\n",
    "                                        columns=[self.class_hierarchy.root],\n",
    "                                        index=X.index)\n",
    "            else:\n",
    "                y_hat[stage_name] = y_hat[list(self.stages.keys())[stage_number - 1]]\n",
    "            stage_number += 1             \n",
    "                \n",
    "            X_test = X[y_hat[stage_name].isin([stage_name])]  #warning - no samples to fit for stage\n",
    "            \n",
    "            if isinstance(stage_info['classifier'], KerasClassifier):\n",
    "                X_scaled = pd.DataFrame(self.scaler.transform(X_test))\n",
    "                y_proba = stage_info['classifier'].predict_proba(X_scaled)\n",
    "                y_classes = list(stage_info['mapping']['int_label'].values())\n",
    "            else:\n",
    "                y_proba = stage_info['classifier'].predict_proba(X_test)\n",
    "                y_classes = stage_info['classifier'].classes_\n",
    "            \n",
    "            max_prob = np.amax(y_proba, axis=1)              #max probability of classes\n",
    "            max_class = np.argmax(y_proba, axis=1)           #class number with max probability\n",
    "            accept_index = np.where(max_prob >= threshold)[0]#indexes which are above threshold\n",
    "            accept_class = np.take(max_class, accept_index)  #filtered list of orders which are above threshold\n",
    "            \n",
    "            if len(accept_class) > 0: #check if samples reach threshold\n",
    "                accept_label = np.vectorize(lambda x: y_classes[x])(accept_class)                             #convert class number into label\n",
    "                y_hat_stage = pd.DataFrame(accept_label, index = np.take(X_test.index.values, accept_index))  #set labels to correct position\n",
    "                self.blocking[stage_name] = 1 - (len(accept_class) / len(max_class)) #blocking factor\n",
    "            else:\n",
    "                y_hat_stage = pd.DataFrame(columns = [0], index = X_test.index)\n",
    "                self.blocking[stage_name] = 1\n",
    "                \n",
    "            y_hat = y_hat.assign(stage_col = y_hat_stage)\n",
    "            y_hat.stage_col = y_hat.stage_col.fillna(y_hat[stage_name]) #fill previously predicted labels\n",
    "            y_hat = y_hat.drop(stage_name, axis=1)\n",
    "            y_hat = y_hat.rename(columns={'stage_col': stage_name})\n",
    "            \n",
    "        return y_hat.iloc[:, y_hat.shape[1] - 1]"
   ]
  },
  {
   "cell_type": "code",
   "execution_count": 14,
   "metadata": {
    "execution": {
     "iopub.execute_input": "2021-02-17T16:19:50.337300Z",
     "iopub.status.busy": "2021-02-17T16:19:50.337300Z",
     "iopub.status.idle": "2021-02-17T16:19:50.358448Z",
     "shell.execute_reply": "2021-02-17T16:19:50.357453Z",
     "shell.execute_reply.started": "2021-02-17T16:19:50.337300Z"
    }
   },
   "outputs": [],
   "source": [
    "def classifyLabelsHC(classifier, X, y, n, split = 'TimeSeries', smote = False, scale = None, NN = False):\n",
    "\n",
    "    scaler = preprocessing.MinMaxScaler()\n",
    "    \n",
    "    results = {}\n",
    "    \n",
    "    storage = {'binary'  :{'acc':{},'pre':{},'rec':{},'f1':{}},\n",
    "               'general' :{'acc':{},'pre':{},'rec':{},'f1':{}},\n",
    "               'detailed':{'acc':{},'pre':{},'rec':{},'f1':{}}}\n",
    "        \n",
    "    if split == 'Random':\n",
    "        cv = StratifiedKFold(n_splits = n, random_state = 0, shuffle = True)   \n",
    "    else:\n",
    "        cv = TimeSeriesSplit(n_splits = n)\n",
    "    \n",
    "    count = 1\n",
    "\n",
    "    for train_index, test_index in cv.split(X):\n",
    "        \n",
    "        if scale != None:\n",
    "            X_scaled = pd.DataFrame(scaler.fit_transform(X))\n",
    "            X_train, X_test = X_scaled.iloc[train_index], X_scaled.iloc[test_index]\n",
    "        else:   \n",
    "            X_train, X_test = X.iloc[train_index], X.iloc[test_index]\n",
    "            \n",
    "        y_train, y_test = y.iloc[train_index], y.iloc[test_index]\n",
    "        \n",
    "        classifier.fit(X_train,y_train)\n",
    "        predictions = classifier.predict(X_test)\n",
    "        \n",
    "        #Calculate performance metrics for each level\n",
    "        for level in ['binary','general','detailed']:\n",
    "            \n",
    "            labels = np.unique(y[level+'MatchClassification'])\n",
    "            \n",
    "            y_pred_ = predictions[level+'Prediction']\n",
    "            y_test_ = y_test[level+'MatchClassification']\n",
    "\n",
    "            accuracy = metrics.accuracy_score(y_test_, y_pred_)\n",
    "            scores = metrics.precision_recall_fscore_support(y_test_, y_pred_, average = None, labels = labels, beta = 1)\n",
    "            \n",
    "            storage[level]['acc'][count] = accuracy\n",
    "            storage[level]['pre'][count] = scores[0]\n",
    "            storage[level]['rec'][count] = scores[1]\n",
    "            storage[level]['f1'][count] = scores[2]\n",
    "        \n",
    "        count += 1\n",
    "    \n",
    "    #Calculate averages of each metric\n",
    "    for level in ['binary','general','detailed']:\n",
    "        \n",
    "        labels = np.unique(y[level+'MatchClassification'])\n",
    "        \n",
    "        results[level+'Accuracy'] = sum(storage[level]['acc'].values()) / n\n",
    "\n",
    "        for ix,lab in enumerate(labels):\n",
    "            results[(level+'Precision_'+lab)] = (sum(storage[level]['pre'].values()) / n)[ix]\n",
    "            results[(level+'Recall_'+lab)] = (sum(storage[level]['rec'].values()) / n)[ix]\n",
    "            results[(level+'F1_'+lab)] = (sum(storage[level]['f1'].values()) / n)[ix]\n",
    "    \n",
    "    return results"
   ]
  }
 ],
 "metadata": {
  "kernelspec": {
   "display_name": "Python 3",
   "language": "python",
   "name": "python3"
  },
  "language_info": {
   "codemirror_mode": {
    "name": "ipython",
    "version": 3
   },
   "file_extension": ".py",
   "mimetype": "text/x-python",
   "name": "python",
   "nbconvert_exporter": "python",
   "pygments_lexer": "ipython3",
   "version": "3.8.3"
  }
 },
 "nbformat": 4,
 "nbformat_minor": 4
}
