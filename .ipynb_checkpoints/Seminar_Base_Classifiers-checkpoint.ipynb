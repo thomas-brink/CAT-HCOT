{
 "cells": [
  {
   "cell_type": "code",
   "execution_count": 67,
   "id": "vertical-indicator",
   "metadata": {
    "execution": {
     "iopub.execute_input": "2021-02-01T14:35:25.130165Z",
     "iopub.status.busy": "2021-02-01T14:35:25.129636Z",
     "iopub.status.idle": "2021-02-01T14:35:26.696380Z",
     "shell.execute_reply": "2021-02-01T14:35:26.696380Z",
     "shell.execute_reply.started": "2021-02-01T14:35:25.130165Z"
    }
   },
   "outputs": [
    {
     "name": "stdin",
     "output_type": "stream",
     "text": [
      "Once deleted, variables cannot be recovered. Proceed (y/[n])?  y\n"
     ]
    }
   ],
   "source": [
    "%reset"
   ]
  },
  {
   "cell_type": "code",
   "execution_count": 1,
   "id": "centered-latter",
   "metadata": {
    "execution": {
     "iopub.execute_input": "2021-02-09T15:32:10.610952Z",
     "iopub.status.busy": "2021-02-09T15:32:10.610952Z",
     "iopub.status.idle": "2021-02-09T15:32:13.776313Z",
     "shell.execute_reply": "2021-02-09T15:32:13.774715Z",
     "shell.execute_reply.started": "2021-02-09T15:32:10.610952Z"
    }
   },
   "outputs": [],
   "source": [
    "import pandas as pd\n",
    "import numpy as np\n",
    "import pyodbc as py\n",
    "\n",
    "import warnings\n",
    "\n",
    "from datetime import date, timedelta, datetime\n",
    "import time\n",
    "\n",
    "import matplotlib.pyplot as plt\n",
    "import seaborn as sns\n",
    "%matplotlib inline\n",
    "\n",
    "from sklearn import preprocessing\n",
    "from sklearn.utils import class_weight\n",
    "from sklearn.preprocessing import LabelEncoder\n",
    "from sklearn.preprocessing import OneHotEncoder\n",
    "from sklearn.model_selection import cross_val_predict\n",
    "from sklearn.model_selection import cross_validate, cross_val_score\n",
    "from sklearn.pipeline import Pipeline\n",
    "from sklearn.feature_selection import SelectFromModel\n",
    "\n",
    "from sklearn import neighbors\n",
    "from sklearn import svm\n",
    "from sklearn.tree import DecisionTreeClassifier\n",
    "from sklearn.ensemble import RandomForestClassifier\n",
    "from sklearn.ensemble import BaggingClassifier\n",
    "from sklearn.ensemble import AdaBoostClassifier\n",
    "from sklearn.ensemble import GradientBoostingClassifier\n",
    "from sklearn.naive_bayes import GaussianNB\n",
    "from sklearn.naive_bayes import BernoulliNB\n",
    "from sklearn.experimental import enable_hist_gradient_boosting\n",
    "from sklearn.ensemble import HistGradientBoostingClassifier\n",
    "from sklearn import metrics\n",
    "from sklearn.linear_model import LogisticRegression\n",
    "\n",
    "from sklearn.model_selection import TimeSeriesSplit\n",
    "from sklearn.model_selection import KFold\n",
    "from sklearn.model_selection import StratifiedKFold\n",
    "\n",
    "from imblearn.over_sampling import SMOTE\n",
    "\n",
    "import keras\n",
    "import tensorflow as tf\n",
    "from tensorflow.keras.models import Sequential\n",
    "from tensorflow.keras.layers import Dense,Activation,Dropout\n",
    "from tensorflow.keras.wrappers.scikit_learn import KerasClassifier\n",
    "from keras.utils import np_utils\n",
    "\n",
    "import importlib\n",
    "import functions\n",
    "importlib.reload(functions)\n",
    "\n",
    "pd.set_option('display.max_columns', None)"
   ]
  },
  {
   "cell_type": "code",
   "execution_count": 2,
   "id": "refined-analysis",
   "metadata": {
    "execution": {
     "iopub.execute_input": "2021-02-09T15:32:16.732650Z",
     "iopub.status.busy": "2021-02-09T15:32:16.732650Z",
     "iopub.status.idle": "2021-02-09T15:32:16.746905Z",
     "shell.execute_reply": "2021-02-09T15:32:16.746905Z",
     "shell.execute_reply.started": "2021-02-09T15:32:16.732650Z"
    }
   },
   "outputs": [],
   "source": [
    "warnings.filterwarnings('ignore')"
   ]
  },
  {
   "cell_type": "markdown",
   "id": "vulnerable-husband",
   "metadata": {},
   "source": [
    "# Data Loading"
   ]
  },
  {
   "cell_type": "markdown",
   "id": "distant-absolute",
   "metadata": {},
   "source": [
    "## Option 1: via Data_Cleaning_Preparation code (preferred) -> load in .csv file"
   ]
  },
  {
   "cell_type": "code",
   "execution_count": 3,
   "id": "dietary-brief",
   "metadata": {
    "execution": {
     "iopub.execute_input": "2021-02-09T15:32:20.159513Z",
     "iopub.status.busy": "2021-02-09T15:32:20.159513Z",
     "iopub.status.idle": "2021-02-09T15:33:11.998577Z",
     "shell.execute_reply": "2021-02-09T15:33:11.997492Z",
     "shell.execute_reply.started": "2021-02-09T15:32:20.159513Z"
    }
   },
   "outputs": [],
   "source": [
    "df = pd.read_csv('/Users/thoma/Documents/seminar_data/cleaned_prepared_data.csv', low_memory = True)"
   ]
  },
  {
   "cell_type": "code",
   "execution_count": 4,
   "id": "rental-winter",
   "metadata": {
    "execution": {
     "iopub.execute_input": "2021-02-09T15:33:12.000549Z",
     "iopub.status.busy": "2021-02-09T15:33:11.999548Z",
     "iopub.status.idle": "2021-02-09T15:33:25.072513Z",
     "shell.execute_reply": "2021-02-09T15:33:25.072513Z",
     "shell.execute_reply.started": "2021-02-09T15:33:12.000549Z"
    }
   },
   "outputs": [],
   "source": [
    "df['orderDate'] = pd.to_datetime(df['orderDate'])\n",
    "df['cancellationDate'] = pd.to_datetime(df['cancellationDate'])\n",
    "df['promisedDeliveryDate'] = pd.to_datetime(df['promisedDeliveryDate'])\n",
    "df['shipmentDate'] = pd.to_datetime(df['shipmentDate'])\n",
    "df['dateTimeFirstDeliveryMoment'] = pd.to_datetime(df['dateTimeFirstDeliveryMoment'])\n",
    "df['startDateCase'] = pd.to_datetime(df['startDateCase'])\n",
    "df['returnDateTime'] = pd.to_datetime(df['returnDateTime'])\n",
    "df['registrationDateSeller'] = pd.to_datetime(df['registrationDateSeller'])"
   ]
  },
  {
   "cell_type": "code",
   "execution_count": 5,
   "id": "manual-traveler",
   "metadata": {
    "execution": {
     "iopub.execute_input": "2021-02-09T15:33:25.073521Z",
     "iopub.status.busy": "2021-02-09T15:33:25.073521Z",
     "iopub.status.idle": "2021-02-09T15:33:25.088295Z",
     "shell.execute_reply": "2021-02-09T15:33:25.088295Z",
     "shell.execute_reply.started": "2021-02-09T15:33:25.073521Z"
    }
   },
   "outputs": [],
   "source": [
    "historic_variable = ['transporterCode','sellerId','productGroup']"
   ]
  },
  {
   "cell_type": "code",
   "execution_count": 6,
   "id": "ahead-extent",
   "metadata": {
    "execution": {
     "iopub.execute_input": "2021-02-09T15:33:39.939846Z",
     "iopub.status.busy": "2021-02-09T15:33:39.939846Z",
     "iopub.status.idle": "2021-02-09T15:33:41.013277Z",
     "shell.execute_reply": "2021-02-09T15:33:41.011977Z",
     "shell.execute_reply.started": "2021-02-09T15:33:39.939846Z"
    }
   },
   "outputs": [],
   "source": [
    "df['binaryHappyMatchClassification'] = df['generalMatchClassification'].apply(lambda x: 'HAPPY' if x == 'HAPPY' else 'REST')\n",
    "df['binaryUnhappyMatchClassification'] = df['generalMatchClassification'].apply(lambda x: 'UNHAPPY' if x == 'UNHAPPY' else 'REST')"
   ]
  },
  {
   "cell_type": "code",
   "execution_count": 7,
   "id": "labeled-credit",
   "metadata": {
    "execution": {
     "iopub.execute_input": "2021-02-09T15:34:16.213954Z",
     "iopub.status.busy": "2021-02-09T15:34:16.213954Z",
     "iopub.status.idle": "2021-02-09T15:34:16.226150Z",
     "shell.execute_reply": "2021-02-09T15:34:16.225003Z",
     "shell.execute_reply.started": "2021-02-09T15:34:16.213954Z"
    }
   },
   "outputs": [],
   "source": [
    "#Fixed Columns:\n",
    "DATE = ['orderDate']\n",
    "BASIC = ['totalPrice','quantityOrdered','fulfilmentByBol','countryCodeNL','countryOriginNL','countryOriginBE',\n",
    "        'countryOriginDE','productTitleLength','promisedDeliveryDays','partnerSellingDays', 'orderCorona']\n",
    "WEEK = ['orderMonday','orderTuesday','orderWednesday','orderThursday','orderFriday','orderSaturday','orderSunday']\n",
    "MONTH = ['orderJanuary','orderFebruary','orderMarch','orderApril','orderMay','orderJune',\n",
    "         'orderJuly','orderAugust','orderSeptember','orderOctober','orderNovember','orderDecember']\n",
    "YEAR = ['orderYear2020']\n",
    "GROUP = ['groupHealth','groupHome','groupSports','groupComputer','groupPets','groupToys','groupBooks', \n",
    "         'groupBaby', 'groupMusic', 'groupFood','groupOffice','groupFashion','groupOther','groupCar']\n",
    "\n",
    "#Dynamic Columns:\n",
    "TRANSPORTERX = ['transporterPOSTNL/X','transporterDHL/X','transporterDPD/X','transporterBRIEF/X','transporterOTHER/X']\n",
    "KNOWNX = ['caseKnownX','returnKnownX','cancellationKnownX','onTimeDeliveryKnownX','lateDeliveryKnownX']\n",
    "PRODUCTX = ['productOrderCountX','productTotalCountX','productTotalReturnedX','productReturnFractionX']\n",
    "SELLERX = ['sellerDailyOrdersX']\n",
    "HISTORICX = []\n",
    "for x in range(len(historic_variable)):\n",
    "    HISTORICX = HISTORICX + [historic_variable[x]+'HistoricHappyX',historic_variable[x]+'HistoricUnhappyX',historic_variable[x]+'HistoricUnknownX']\n",
    "\n",
    "#Determinants\n",
    "DETERMINANT = ['noReturn', 'noCase', 'noCancellation', 'onTimeDelivery']\n",
    "\n",
    "#Classifications\n",
    "CLASSIFICATION = ['generalMatchClassification','detailedMatchClassification','binaryMatchClassification',\n",
    "                  'binaryHappyMatchClassification','binaryUnhappyMatchClassification','determinantClassification']"
   ]
  },
  {
   "cell_type": "markdown",
   "id": "intermediate-accuracy",
   "metadata": {},
   "source": [
    "## Option 2: via direct sql connection"
   ]
  },
  {
   "cell_type": "code",
   "execution_count": 5,
   "id": "sapphire-mason",
   "metadata": {
    "jupyter": {
     "source_hidden": true
    }
   },
   "outputs": [],
   "source": [
    "connection_string = (    \n",
    "    r'Driver={SQL Server};'\n",
    "    r'Server=LAPTOP-LD74USH0\\SQLEXPRESS;'\n",
    "    r'Integrated Security=SSPI;'\n",
    "    r'Trusted_Connection=yes;'\n",
    ")\n",
    "pd.set_option('display.max_columns', None)"
   ]
  },
  {
   "cell_type": "code",
   "execution_count": 6,
   "id": "accompanied-expansion",
   "metadata": {
    "jupyter": {
     "source_hidden": true
    }
   },
   "outputs": [],
   "source": [
    "def sql2df(query, params=[], parse_dates=None, dsn='SQLEXPRESS'):\n",
    "        with py.connect(connection_string, readonly=True) as conn:\n",
    "            return pd.read_sql(query, conn, params=params, parse_dates=parse_dates)"
   ]
  },
  {
   "cell_type": "code",
   "execution_count": 7,
   "id": "varied-spirituality",
   "metadata": {
    "jupyter": {
     "source_hidden": true
    }
   },
   "outputs": [],
   "source": [
    "# First work with random top 100.000 (to reduce computation time) - 45secs\n",
    "\n",
    "df = sql2df('''\n",
    "SELECT TOP 500000 * FROM Seminar.dbo.cleaned_bol_data_full\n",
    "ORDER BY newid();\n",
    "''')\n"
   ]
  },
  {
   "cell_type": "code",
   "execution_count": 321,
   "id": "dense-groove",
   "metadata": {
    "jupyter": {
     "source_hidden": true
    }
   },
   "outputs": [],
   "source": [
    "# 9.5 minutes \n",
    "\n",
    "df = sql2df('''\n",
    "SELECT * FROM Seminar.dbo.cleaned_bol_data_full;\n",
    "''')"
   ]
  },
  {
   "cell_type": "code",
   "execution_count": 8,
   "id": "purple-cologne",
   "metadata": {
    "collapsed": true,
    "jupyter": {
     "outputs_hidden": true,
     "source_hidden": true
    }
   },
   "outputs": [
    {
     "data": {
      "text/plain": [
       "orderDate             datetime64[ns]\n",
       "productId                     object\n",
       "sellerId                      object\n",
       "totalPrice                   float64\n",
       "quantityOrdered                int64\n",
       "                           ...      \n",
       "orderSeptember                  bool\n",
       "orderOctober                    bool\n",
       "orderNovember                   bool\n",
       "orderDecember                   bool\n",
       "productTitleLength             int64\n",
       "Length: 78, dtype: object"
      ]
     },
     "execution_count": 8,
     "metadata": {},
     "output_type": "execute_result"
    }
   ],
   "source": [
    "#Change type of columns\n",
    "dtype = {'calculationDefinitive': bool,\n",
    "         'noCancellation': bool,\n",
    "         'noCase': bool,\n",
    "         'hasOneCase': bool,\n",
    "         'hasMoreCases': bool,\n",
    "         'noReturn': bool,\n",
    "         'orderWeekend': bool,\n",
    "         'orderCorona': bool,\n",
    "         'countryCodeNL': bool,\n",
    "         'fulfilmentByBol': bool,\n",
    "         'countryOriginNL': bool,\n",
    "         'countryOriginBE': bool,\n",
    "         'countryOriginDE': bool,\n",
    "         'orderMonday': bool,\n",
    "         'orderTuesday': bool,\n",
    "         'orderWednesday': bool,\n",
    "         'orderThursday': bool,\n",
    "         'orderFriday': bool,\n",
    "         'orderSaturday': bool,\n",
    "         'orderSunday': bool,\n",
    "         'orderJanuary': bool,\n",
    "         'orderFebruary': bool,\n",
    "         'orderMarch': bool,\n",
    "         'orderApril': bool,\n",
    "         'orderMay': bool,\n",
    "         'orderJune': bool,\n",
    "         'orderJuly': bool,\n",
    "         'orderAugust': bool,\n",
    "         'orderSeptember': bool,\n",
    "         'orderOctober': bool,\n",
    "         'orderNovember': bool,\n",
    "         'orderDecember': bool}\n",
    "\n",
    "df = df.astype(dtype)\n",
    "\n",
    "#Transform dates to date-type\n",
    "df['orderDate'] = pd.to_datetime(df['orderDate'], errors='coerce')\n",
    "df['cancellationDate'] = pd.to_datetime(df['cancellationDate'], errors='coerce')\n",
    "df['promisedDeliveryDate'] = pd.to_datetime(df['promisedDeliveryDate'], errors='coerce')\n",
    "df['shipmentDate'] = pd.to_datetime(df['shipmentDate'], errors='coerce')\n",
    "df['dateTimeFirstDeliveryMoment'] = pd.to_datetime(df['dateTimeFirstDeliveryMoment'], errors='coerce')\n",
    "df['startDateCase'] = pd.to_datetime(df['startDateCase'], errors='coerce')\n",
    "df['returnDateTime'] = pd.to_datetime(df['returnDateTime'], errors='coerce')\n",
    "df['registrationDateSeller'] = pd.to_datetime(df['registrationDateSeller'], errors='coerce')\n",
    "\n",
    "df.dtypes"
   ]
  },
  {
   "cell_type": "markdown",
   "id": "desirable-scott",
   "metadata": {},
   "source": [
    "#### Add variables"
   ]
  },
  {
   "cell_type": "code",
   "execution_count": 9,
   "id": "union-farmer",
   "metadata": {
    "jupyter": {
     "source_hidden": true
    }
   },
   "outputs": [],
   "source": [
    "# Binary classification variable\n",
    "df['binaryMatchClassification'] = df['generalMatchClassification'].apply(lambda x: 'UNKNOWN' if x == 'UNKNOWN' else 'KNOWN')\n",
    "\n",
    "# Dummy for year = 2020\n",
    "df['orderYear2020'] = df['orderYear'].apply(lambda x: True if x == 2020 else False)"
   ]
  },
  {
   "cell_type": "markdown",
   "id": "grateful-hello",
   "metadata": {},
   "source": [
    "#### Transporter Groups"
   ]
  },
  {
   "cell_type": "code",
   "execution_count": 10,
   "id": "hybrid-switch",
   "metadata": {
    "jupyter": {
     "source_hidden": true
    }
   },
   "outputs": [],
   "source": [
    "def transporterCluster(transporterCode):\n",
    "    \"\"\"\n",
    "    Function to create a new manually clustered transporter variable: 28 -> 5 categories\n",
    "    \"\"\"\n",
    "    if transporterCode in ['AH-NL','TNT','TNT-EXPRESS','TNT-EXTRA']:\n",
    "        return 'POSTNL'\n",
    "    elif transporterCode in ['DHL','DHL_DE','DHLFORYOU']:\n",
    "        return 'DHL'\n",
    "    elif transporterCode in ['DPD-NL','DPD-BE']:\n",
    "        return 'DPD'\n",
    "    elif transporterCode in ['BRIEFPOST','BPOST_BE','BPOST_BRIEF','DHL-GLOBAL-MAIL','TNT_BRIEF']:\n",
    "        return 'BRIEF'\n",
    "    else:\n",
    "        return 'OTHER'"
   ]
  },
  {
   "cell_type": "code",
   "execution_count": 11,
   "id": "detected-revision",
   "metadata": {
    "collapsed": true,
    "jupyter": {
     "outputs_hidden": true,
     "source_hidden": true
    }
   },
   "outputs": [
    {
     "data": {
      "text/plain": [
       "POSTNL    221508\n",
       "BRIEF     165035\n",
       "DHL        45527\n",
       "DPD        34475\n",
       "OTHER      33455\n",
       "Name: transporterCodeGeneral, dtype: int64"
      ]
     },
     "execution_count": 11,
     "metadata": {},
     "output_type": "execute_result"
    }
   ],
   "source": [
    "df['transporterCodeGeneral'] = df['transporterCode'].apply(transporterCluster)\n",
    "df['transporterCodeGeneral'].value_counts()"
   ]
  },
  {
   "cell_type": "markdown",
   "id": "comparative-mustang",
   "metadata": {},
   "source": [
    "#### Product Groups"
   ]
  },
  {
   "cell_type": "code",
   "execution_count": 12,
   "id": "charged-astrology",
   "metadata": {
    "jupyter": {
     "source_hidden": true
    }
   },
   "outputs": [],
   "source": [
    "def productGroupCluster(productGroup):\n",
    "    \"\"\"\n",
    "    Function to create a new manually clustered product group variable based on categories bol.com\n",
    "    60 -> 14 groups.\n",
    "    \"\"\"\n",
    "    if productGroup in ['Dutch Books PG','Ebooks and Audiobooks','International Books PG']:\n",
    "        return 'Books'\n",
    "    elif productGroup in ['Games Accessories','Games Consoles','Games Software Physical',\n",
    "                          'Movies','Music']:\n",
    "        return 'Music, Film & Games'\n",
    "    elif productGroup in ['Camera','Desktop Monitor and Beamer','Ereaders and Accessories',\n",
    "                          'Laptop Computers','PC Accessories','Personal Audio',\n",
    "                          'Sound and Vision Accessories','Storage and Network',\n",
    "                          'Telephone and Tablet Accessories','Telephones and Tablets','Television']:\n",
    "        return 'Computer & Electronics'\n",
    "    elif productGroup in ['General Toys','Recreational and Outdoor Toys']:\n",
    "        return 'Toys & Hobby'\n",
    "    elif productGroup in ['Baby and Kids Fashion','Baby PG']:\n",
    "        return 'Baby & Kids'\n",
    "    elif productGroup in ['Daily Care PG','Health PG','Perfumery PG','Personal Care']:\n",
    "        return 'Health & Care'\n",
    "    elif productGroup in ['Footwear','Jewelry and Watches','Mens and Womens Fashion','Wearables']:\n",
    "        return 'Fashion, Shoes & Accessories'\n",
    "    elif productGroup in ['Bodyfashion and Beachwear','Camping and Outdoor','Cycling',\n",
    "                          'Sporting Equipment','Sportswear','Travel Bags and Accessories']:\n",
    "        return 'Sports, Outdoor & Travel'\n",
    "    elif productGroup in ['Educational Dutch','Educational International','Printing and Ink']:\n",
    "        return 'Office & School'\n",
    "    elif productGroup in ['Supermarket PG'] :\n",
    "        return 'Food & Beverage'\n",
    "    elif productGroup in ['Furniture','Heating and Air','Home Decoration','Home Entertainment',\n",
    "                          'Household','Household Appliances','Kitchen','Kitchen Machines',\n",
    "                          'Lighting','Major Domestic Appliances PG','Plumbing and Safety']:\n",
    "        return 'Home, Cooking & Household'\n",
    "    elif productGroup in ['Garden','Pet PG','Textiles','Tools and Paint']:\n",
    "        return 'Pets, Garden & Jobs'\n",
    "    elif productGroup in ['Car and Motorcycle'] :\n",
    "        return 'Car & Motor'\n",
    "    else:\n",
    "        return 'Other'"
   ]
  },
  {
   "cell_type": "code",
   "execution_count": 13,
   "id": "independent-worry",
   "metadata": {
    "collapsed": true,
    "jupyter": {
     "outputs_hidden": true,
     "source_hidden": true
    }
   },
   "outputs": [
    {
     "data": {
      "text/plain": [
       "Computer & Electronics          145687\n",
       "Home, Cooking & Household        83348\n",
       "Sports, Outdoor & Travel         54598\n",
       "Toys & Hobby                     52834\n",
       "Pets, Garden & Jobs              35484\n",
       "Health & Care                    31315\n",
       "Food & Beverage                  26802\n",
       "Books                            19435\n",
       "Music, Film & Games              17343\n",
       "Baby & Kids                      11784\n",
       "Fashion, Shoes & Accessories     11453\n",
       "Office & School                   5450\n",
       "Car & Motor                       3149\n",
       "Other                             1318\n",
       "Name: productGroupGeneral, dtype: int64"
      ]
     },
     "execution_count": 13,
     "metadata": {},
     "output_type": "execute_result"
    }
   ],
   "source": [
    "df['productGroupGeneral'] = df['productGroup'].apply(productGroupCluster)\n",
    "df['productGroupGeneral'].value_counts()"
   ]
  },
  {
   "cell_type": "code",
   "execution_count": 14,
   "id": "italian-ethiopia",
   "metadata": {
    "jupyter": {
     "source_hidden": true
    }
   },
   "outputs": [],
   "source": [
    "#Create dummies of new product grouping\n",
    "for group in df['productGroupGeneral'].unique():\n",
    "    \n",
    "    columnName = 'group' + group.split(' ')[0].replace(',','')\n",
    "    df[columnName] = df['productGroupGeneral'].apply(lambda x: True if x == group else False)"
   ]
  },
  {
   "cell_type": "code",
   "execution_count": 15,
   "id": "exposed-october",
   "metadata": {
    "collapsed": true,
    "jupyter": {
     "outputs_hidden": true,
     "source_hidden": true
    }
   },
   "outputs": [
    {
     "name": "stdout",
     "output_type": "stream",
     "text": [
      "Index(['orderDate', 'productId', 'sellerId', 'totalPrice', 'quantityOrdered',\n",
      "       'countryCode', 'cancellationDate', 'cancellationReasonCode',\n",
      "       'promisedDeliveryDate', 'shipmentDate', 'transporterCode',\n",
      "       'transporterName', 'transporterNameOther',\n",
      "       'dateTimeFirstDeliveryMoment', 'fulfilmentType', 'startDateCase',\n",
      "       'cntDistinctCaseIds', 'returnDateTime', 'quantityReturned',\n",
      "       'returnCode', 'productTitle', 'brickName', 'chunkName', 'productGroup',\n",
      "       'productSubGroup', 'productSubSubGroup', 'registrationDateSeller',\n",
      "       'countryOriginSeller', 'currentCountryAvailabilitySeller',\n",
      "       'calculationDefinitive', 'noCancellation', 'onTimeDelivery', 'noCase',\n",
      "       'hasOneCase', 'hasMoreCases', 'noReturn', 'detailedMatchClassification',\n",
      "       'generalMatchClassification', 'determinantClassification', 'orderYear',\n",
      "       'orderMonth', 'orderYearMonth', 'orderWeekday', 'orderWeekend',\n",
      "       'orderCorona', 'transporterFeature', 'partnerSellingMonths',\n",
      "       'cancellationDays', 'shipmentDays', 'promisedDeliveryDays',\n",
      "       'actualDeliveryDays', 'caseDays', 'returnDays', 'countryCodeNL',\n",
      "       'fulfilmentByBol', 'countryOriginNL', 'countryOriginBE',\n",
      "       'countryOriginDE', 'orderMonday', 'orderTuesday', 'orderWednesday',\n",
      "       'orderThursday', 'orderFriday', 'orderSaturday', 'orderSunday',\n",
      "       'orderJanuary', 'orderFebruary', 'orderMarch', 'orderApril', 'orderMay',\n",
      "       'orderJune', 'orderJuly', 'orderAugust', 'orderSeptember',\n",
      "       'orderOctober', 'orderNovember', 'orderDecember', 'productTitleLength',\n",
      "       'binaryMatchClassification', 'orderYear2020', 'transporterCodeGeneral',\n",
      "       'productGroupGeneral', 'groupHome', 'groupHealth', 'groupSports',\n",
      "       'groupFood', 'groupToys', 'groupComputer', 'groupMusic', 'groupFashion',\n",
      "       'groupBooks', 'groupPets', 'groupBaby', 'groupCar', 'groupOffice',\n",
      "       'groupOther'],\n",
      "      dtype='object')\n",
      "Total:  96  columns\n"
     ]
    }
   ],
   "source": [
    "print(df.columns)\n",
    "print('Total: ',len(df.columns),' columns')"
   ]
  },
  {
   "cell_type": "code",
   "execution_count": 16,
   "id": "naval-infrared",
   "metadata": {
    "jupyter": {
     "source_hidden": true
    }
   },
   "outputs": [],
   "source": [
    "#Fixed Columns:\n",
    "BASIC = ['totalPrice','quantityOrdered','fulfilmentByBol','countryCodeNL','countryOriginNL','countryOriginBE',\n",
    "        'countryOriginDE','productTitleLength']\n",
    "WEEK = ['orderMonday','orderTuesday','orderWednesday','orderThursday','orderFriday','orderSaturday','orderSunday']\n",
    "MONTH = ['orderJanuary','orderFebruary','orderMarch','orderApril','orderMay','orderJune',\n",
    "         'orderJuly','orderAugust','orderSeptember','orderOctober','orderNovember','orderDecember']\n",
    "GROUP = ['groupHealth','groupHome','groupSports','groupComputer','groupPets','groupToys','groupBooks', \n",
    "         'groupBaby', 'groupMusic', 'groupFood','groupOffice','groupFashion','groupOther','groupCar']\n",
    "\n",
    "#Dynamic Columns:\n",
    "TRANSPORTERX = ['transporterPOSTNL/X','transporterDHL/X','transporterDPD/X','transporterBRIEF/X','transporterOTHER/X']\n",
    "KNOWNX = ['caseKnownX','returnKnownX','cancellationKnownX','onTimeDeliveryKnownX','lateDeliveryKnownX']\n",
    "PRODUCTX = ['productOrderCountX','productTotalCountX','productTotalReturnedX','productReturnFractionX']\n",
    "SELLERX = ['sellerDailyOrdersX']\n",
    "\n",
    "#Classifications\n",
    "CLASS = ['generalMatchClassification']"
   ]
  },
  {
   "cell_type": "markdown",
   "id": "yellow-harris",
   "metadata": {},
   "source": [
    "# Create Sample"
   ]
  },
  {
   "cell_type": "code",
   "execution_count": 8,
   "id": "chemical-friendly",
   "metadata": {
    "execution": {
     "iopub.execute_input": "2021-02-09T15:34:37.121190Z",
     "iopub.status.busy": "2021-02-09T15:34:37.120200Z",
     "iopub.status.idle": "2021-02-09T15:34:39.033309Z",
     "shell.execute_reply": "2021-02-09T15:34:39.032310Z",
     "shell.execute_reply.started": "2021-02-09T15:34:37.121190Z"
    }
   },
   "outputs": [],
   "source": [
    "X_col = BASIC + WEEK + MONTH + YEAR + GROUP + TRANSPORTERX + KNOWNX + PRODUCTX + SELLERX + HISTORICX\n",
    "#y_col = [CLASSIFICATION[1]]  # Match label prediction\n",
    "y_col = [CLASSIFICATION[2]]  # Binary classification\n",
    "\n",
    "#df_sample = df\n",
    "df_sample = df.sample(n = 100000, replace = False, random_state = 0)"
   ]
  },
  {
   "cell_type": "markdown",
   "id": "higher-restaurant",
   "metadata": {},
   "source": [
    "# Function-based Classification"
   ]
  },
  {
   "cell_type": "markdown",
   "id": "close-exception",
   "metadata": {},
   "source": [
    "## Classification"
   ]
  },
  {
   "cell_type": "code",
   "execution_count": 9,
   "id": "personal-niger",
   "metadata": {
    "execution": {
     "iopub.execute_input": "2021-02-09T15:34:39.034322Z",
     "iopub.status.busy": "2021-02-09T15:34:39.034322Z",
     "iopub.status.idle": "2021-02-09T15:34:39.049436Z",
     "shell.execute_reply": "2021-02-09T15:34:39.048289Z",
     "shell.execute_reply.started": "2021-02-09T15:34:39.034322Z"
    }
   },
   "outputs": [],
   "source": [
    "def classificationPerformanceOverTime(df, DATE, X_col, y_col, DAYS, estimator, REP, splitType = 'TimeSeries', smoteActive = False, scaler = None, NN_estimator = False):\n",
    "    resultDic = {}\n",
    "    \n",
    "    for days in range(DAYS):\n",
    "        X, y = functions.dataX(df, DATE, X_col, y_col, historic_variable, days)\n",
    "        result = functions.classifyLabelsNew(estimator, X, y, REP, splitType, smoteActive, scaler, NN_estimator)\n",
    "        resultDic[days] = result\n",
    "        print('DAYS: ', days)\n",
    "    \n",
    "    RESULT = pd.DataFrame.from_dict(resultDic, orient = 'index')\n",
    "    return(RESULT)"
   ]
  },
  {
   "cell_type": "code",
   "execution_count": 10,
   "id": "rough-monitor",
   "metadata": {
    "execution": {
     "iopub.execute_input": "2021-02-09T15:34:41.293544Z",
     "iopub.status.busy": "2021-02-09T15:34:41.292545Z",
     "iopub.status.idle": "2021-02-09T15:34:41.310537Z",
     "shell.execute_reply": "2021-02-09T15:34:41.309572Z",
     "shell.execute_reply.started": "2021-02-09T15:34:41.293544Z"
    }
   },
   "outputs": [],
   "source": [
    "def featureSelection(X_train, y_train, X_test): # allow model to train from as input (currently RF) and allow type of selection as input and allow max_features\n",
    "    fs = SelectFromModel(RandomForestClassifier(n_estimators=50,random_state=0,class_weight='balanced'), max_features=30)\n",
    "    fs.fit(X_train, y_train)\n",
    "    X_train_fs = fs.transform(X_train)\n",
    "    X_test_fs = fs.transform(X_test)\n",
    "    return X_train_fs, X_test_fs, fs"
   ]
  },
  {
   "cell_type": "code",
   "execution_count": 54,
   "id": "flush-dealer",
   "metadata": {
    "execution": {
     "iopub.execute_input": "2021-02-02T09:58:26.958210Z",
     "iopub.status.busy": "2021-02-02T09:58:26.958210Z",
     "iopub.status.idle": "2021-02-02T10:02:00.097667Z",
     "shell.execute_reply": "2021-02-02T10:02:00.096314Z",
     "shell.execute_reply.started": "2021-02-02T09:58:26.958210Z"
    },
    "jupyter": {
     "source_hidden": true
    }
   },
   "outputs": [
    {
     "name": "stdout",
     "output_type": "stream",
     "text": [
      "1\n",
      "2\n",
      "3\n"
     ]
    }
   ],
   "source": [
    "tscv = TimeSeriesSplit(n_splits = 3)\n",
    "\n",
    "accuracy = {}\n",
    "class_report = {}\n",
    "count = 1\n",
    "\n",
    "X, y = functions.dataX(df_sample, DATE, X_col, y_col, historic_variable, 5)\n",
    "\n",
    "for train_index, test_index in tscv.split(X):\n",
    "\n",
    "    X_train, X_test = X.iloc[train_index], X.iloc[test_index]\n",
    "    y_train, y_test = y.iloc[train_index], y.iloc[test_index]\n",
    "    \n",
    "    X_train_fs, X_test_fs, fs = featureSelection(X_train, y_train, X_test)\n",
    "    feature_indices = fs.get_support(indices=True)\n",
    "    X_col_fs = []\n",
    "    for j in range(len(feature_indices)):\n",
    "        X_col_fs.append(X_col[feature_indices[j]])\n",
    "    \n",
    "    #clf = DecisionTreeClassifier(random_state=0,\n",
    "                                 #class_weight='balanced')\n",
    "    clf = RandomForestClassifier(n_estimators=10,random_state=0,class_weight='balanced')\n",
    "    #clf = LogisticRegression(random_state=0,class_weight='balanced',fit_intercept=False,solver='liblinear')\n",
    "    #clf = GradientBoostingClassifier(random_state=0)\n",
    "    # clf = HistGradientBoostingClassifier(random_state=0)\n",
    "    #clf = BaggingClassifier(n_estimators=10,random_state=0) \n",
    "    #clf = BernoulliNB()\n",
    "    #clf = neighbors.KNeighborsClassifier(n_neighbors = 3)\n",
    "    #clf = svm.SVC(random_state=0, kernel='linear', decision_function_shape = 'ovo')\n",
    "    \n",
    "    clf = clf.fit(X_train_fs,y_train)\n",
    "\n",
    "    prediction = clf.predict(X_test_fs)\n",
    "    \n",
    "    accuracy[count] = metrics.accuracy_score(y_test, prediction)\n",
    "    class_report[count] = metrics.classification_report(y_test, prediction)\n",
    "    \n",
    "    print(count)\n",
    "    count += 1"
   ]
  },
  {
   "cell_type": "code",
   "execution_count": 55,
   "id": "willing-committee",
   "metadata": {
    "collapsed": true,
    "execution": {
     "iopub.execute_input": "2021-02-02T10:02:36.647373Z",
     "iopub.status.busy": "2021-02-02T10:02:36.646375Z",
     "iopub.status.idle": "2021-02-02T10:02:36.665479Z",
     "shell.execute_reply": "2021-02-02T10:02:36.665479Z",
     "shell.execute_reply.started": "2021-02-02T10:02:36.647373Z"
    },
    "jupyter": {
     "outputs_hidden": true
    }
   },
   "outputs": [
    {
     "name": "stdout",
     "output_type": "stream",
     "text": [
      "              precision    recall  f1-score   support\n",
      "\n",
      "       HAPPY       0.97      0.99      0.98     67854\n",
      "     UNHAPPY       0.91      0.68      0.78     15402\n",
      "     UNKNOWN       0.93      0.98      0.96     41744\n",
      "\n",
      "    accuracy                           0.95    125000\n",
      "   macro avg       0.94      0.88      0.91    125000\n",
      "weighted avg       0.95      0.95      0.95    125000\n",
      "\n",
      "              precision    recall  f1-score   support\n",
      "\n",
      "       HAPPY       0.97      0.99      0.98     76133\n",
      "     UNHAPPY       0.93      0.67      0.78     14676\n",
      "     UNKNOWN       0.90      0.98      0.94     34191\n",
      "\n",
      "    accuracy                           0.95    125000\n",
      "   macro avg       0.94      0.88      0.90    125000\n",
      "weighted avg       0.95      0.95      0.95    125000\n",
      "\n",
      "              precision    recall  f1-score   support\n",
      "\n",
      "       HAPPY       0.97      0.99      0.98     70112\n",
      "     UNHAPPY       0.93      0.71      0.80     14614\n",
      "     UNKNOWN       0.93      0.98      0.96     40274\n",
      "\n",
      "    accuracy                           0.96    125000\n",
      "   macro avg       0.95      0.89      0.91    125000\n",
      "weighted avg       0.96      0.96      0.95    125000\n",
      "\n"
     ]
    }
   ],
   "source": [
    "for item in class_report.values():\n",
    "    print(item)"
   ]
  },
  {
   "cell_type": "code",
   "execution_count": 56,
   "id": "united-thirty",
   "metadata": {
    "collapsed": true,
    "execution": {
     "iopub.execute_input": "2021-02-02T10:02:41.532214Z",
     "iopub.status.busy": "2021-02-02T10:02:41.531214Z",
     "iopub.status.idle": "2021-02-02T10:02:41.926090Z",
     "shell.execute_reply": "2021-02-02T10:02:41.925464Z",
     "shell.execute_reply.started": "2021-02-02T10:02:41.531214Z"
    },
    "jupyter": {
     "outputs_hidden": true
    }
   },
   "outputs": [
    {
     "data": {
      "image/png": "[encoded data removed]",
      "text/plain": [
       "<Figure size 1152x576 with 1 Axes>"
      ]
     },
     "metadata": {
      "needs_background": "light"
     },
     "output_type": "display_data"
    }
   ],
   "source": [
    "plt.rcParams.update({'font.size': 8})\n",
    "importanceDF = pd.DataFrame(clf.feature_importances_,index=X_col_fs,columns=['importance']).sort_values('importance',ascending=False)\n",
    "importanceDF.plot.bar(figsize=(16,8))\n",
    "plt.show()"
   ]
  },
  {
   "cell_type": "code",
   "execution_count": 90,
   "id": "great-revelation",
   "metadata": {
    "collapsed": true,
    "execution": {
     "iopub.execute_input": "2021-02-01T16:35:08.632060Z",
     "iopub.status.busy": "2021-02-01T16:35:08.632060Z",
     "iopub.status.idle": "2021-02-01T16:50:47.636833Z",
     "shell.execute_reply": "2021-02-01T16:50:47.635836Z",
     "shell.execute_reply.started": "2021-02-01T16:35:08.632060Z"
    },
    "jupyter": {
     "outputs_hidden": true,
     "source_hidden": true
    }
   },
   "outputs": [
    {
     "name": "stdout",
     "output_type": "stream",
     "text": [
      "DAYS:  0\n",
      "DAYS:  1\n",
      "DAYS:  2\n",
      "DAYS:  3\n",
      "DAYS:  4\n",
      "DAYS:  5\n",
      "DAYS:  6\n",
      "DAYS:  7\n",
      "DAYS:  8\n",
      "DAYS:  9\n",
      "DAYS:  10\n"
     ]
    }
   ],
   "source": [
    "PREDICT_DAYS = 11\n",
    "REP = 3\n",
    "\n",
    "resultDic = {}\n",
    "\n",
    "#estimator = svm.SVC(random_state=0,class_weight='balanced')\n",
    "# estimator = AdaBoostClassifier(base_estimator=DecisionTreeClassifier(max_depth=5),n_estimators=50,random_state=0)\n",
    "estimator = neighbors.KNeighborsClassifier(n_neighbors = 3)\n",
    "#estimator = LogisticRegression(random_state=0,class_weight='balanced',fit_intercept=False,solver='liblinear')\n",
    "# estimator = RandomForestClassifier(n_estimators=10,random_state=0,class_weight='balanced')\n",
    "# estimator = KerasClassifier(build_fn = neuralNetwork,epochs = 10,verbose = 0)\n",
    "# scaler = preprocessing.MinMaxScaler()\n",
    "\n",
    "for DAYS in range(PREDICT_DAYS):\n",
    "    \n",
    "    X, y = functions.dataX(df_sample, DATE, X_col, y_col, historic_variable, DAYS)\n",
    "\n",
    "    result = functions.classifyLabelsNew(estimator, X, y, n = REP, scale = 'MinMax')\n",
    "\n",
    "    resultDic[DAYS] = result\n",
    "    \n",
    "    print('DAYS: ',DAYS)\n",
    "\n",
    "RESULT = pd.DataFrame.from_dict(resultDic, orient='index')"
   ]
  },
  {
   "cell_type": "code",
   "execution_count": 30,
   "id": "valuable-alliance",
   "metadata": {
    "execution": {
     "iopub.execute_input": "2021-02-09T15:52:47.073624Z",
     "iopub.status.busy": "2021-02-09T15:52:47.073624Z",
     "iopub.status.idle": "2021-02-09T15:52:47.097733Z",
     "shell.execute_reply": "2021-02-09T15:52:47.096781Z",
     "shell.execute_reply.started": "2021-02-09T15:52:47.073624Z"
    }
   },
   "outputs": [],
   "source": [
    "RESULT_DT.to_excel('/Users/thoma/Documents/seminar_data/base_classifier_results.xlsx', sheet_name = 'BNB, 500K')"
   ]
  },
  {
   "cell_type": "code",
   "execution_count": 11,
   "id": "fewer-screen",
   "metadata": {
    "execution": {
     "iopub.execute_input": "2021-02-09T15:35:06.425868Z",
     "iopub.status.busy": "2021-02-09T15:35:06.425868Z",
     "iopub.status.idle": "2021-02-09T15:35:48.683650Z",
     "shell.execute_reply": "2021-02-09T15:35:48.682650Z",
     "shell.execute_reply.started": "2021-02-09T15:35:06.425868Z"
    }
   },
   "outputs": [
    {
     "name": "stdout",
     "output_type": "stream",
     "text": [
      "DAYS:  0\n",
      "DAYS:  1\n",
      "DAYS:  2\n",
      "DAYS:  3\n",
      "DAYS:  4\n"
     ]
    }
   ],
   "source": [
    "# Bernoulli Naive Bayes\n",
    "RESULT_BNB = classificationPerformanceOverTime(df_sample, DATE, X_col, y_col, 5, BernoulliNB(), 3)"
   ]
  },
  {
   "cell_type": "code",
   "execution_count": 13,
   "id": "streaming-capitol",
   "metadata": {
    "execution": {
     "iopub.execute_input": "2021-02-09T15:36:11.844787Z",
     "iopub.status.busy": "2021-02-09T15:36:11.844787Z",
     "iopub.status.idle": "2021-02-09T15:37:09.817597Z",
     "shell.execute_reply": "2021-02-09T15:37:09.817597Z",
     "shell.execute_reply.started": "2021-02-09T15:36:11.844787Z"
    }
   },
   "outputs": [
    {
     "name": "stdout",
     "output_type": "stream",
     "text": [
      "DAYS:  0\n",
      "DAYS:  1\n",
      "DAYS:  2\n",
      "DAYS:  3\n",
      "DAYS:  4\n"
     ]
    }
   ],
   "source": [
    "# Logistic Regression\n",
    "log_estimator = LogisticRegression(random_state=0,class_weight='balanced',fit_intercept=False,solver='liblinear')\n",
    "RESULT_LOG = classificationPerformanceOverTime(df_sample, DATE, X_col, y_col, 5, log_estimator, 3, scaler = 'MinMax')"
   ]
  },
  {
   "cell_type": "code",
   "execution_count": 17,
   "id": "chronic-voluntary",
   "metadata": {
    "execution": {
     "iopub.execute_input": "2021-02-08T11:08:13.083400Z",
     "iopub.status.busy": "2021-02-08T11:08:13.083400Z",
     "iopub.status.idle": "2021-02-08T11:17:59.728738Z",
     "shell.execute_reply": "2021-02-08T11:17:59.727734Z",
     "shell.execute_reply.started": "2021-02-08T11:08:13.083400Z"
    }
   },
   "outputs": [
    {
     "name": "stdout",
     "output_type": "stream",
     "text": [
      "DAYS:  0\n",
      "DAYS:  1\n",
      "DAYS:  2\n",
      "DAYS:  3\n",
      "DAYS:  4\n",
      "DAYS:  5\n",
      "DAYS:  6\n",
      "DAYS:  7\n",
      "DAYS:  8\n",
      "DAYS:  9\n",
      "DAYS:  10\n"
     ]
    }
   ],
   "source": [
    "# ADA Boost (using Decision trees with max_depth = 1)\n",
    "ada_estimator = AdaBoostClassifier(random_state=0)\n",
    "RESULT_ADA = classificationPerformanceOverTime(df_sample, DATE, X_col, y_col, 11, ada_estimator, 3)"
   ]
  },
  {
   "cell_type": "code",
   "execution_count": 29,
   "id": "better-fundamental",
   "metadata": {
    "execution": {
     "iopub.execute_input": "2021-02-09T15:51:38.084668Z",
     "iopub.status.busy": "2021-02-09T15:51:38.083646Z",
     "iopub.status.idle": "2021-02-09T15:52:29.675803Z",
     "shell.execute_reply": "2021-02-09T15:52:29.674759Z",
     "shell.execute_reply.started": "2021-02-09T15:51:38.084668Z"
    }
   },
   "outputs": [
    {
     "name": "stdout",
     "output_type": "stream",
     "text": [
      "DAYS:  0\n",
      "DAYS:  1\n",
      "DAYS:  2\n",
      "DAYS:  3\n",
      "DAYS:  4\n"
     ]
    }
   ],
   "source": [
    "# Decision Tree\n",
    "dt_estimator = DecisionTreeClassifier(random_state=0,class_weight='balanced')\n",
    "RESULT_DT = classificationPerformanceOverTime(df_sample, DATE, X_col, y_col, 5, dt_estimator, 3)"
   ]
  },
  {
   "cell_type": "code",
   "execution_count": 21,
   "id": "curious-format",
   "metadata": {
    "execution": {
     "iopub.execute_input": "2021-02-08T11:44:53.934459Z",
     "iopub.status.busy": "2021-02-08T11:44:53.934459Z",
     "iopub.status.idle": "2021-02-08T12:43:35.019996Z",
     "shell.execute_reply": "2021-02-08T12:43:35.018996Z",
     "shell.execute_reply.started": "2021-02-08T11:44:53.934459Z"
    }
   },
   "outputs": [
    {
     "name": "stdout",
     "output_type": "stream",
     "text": [
      "DAYS:  0\n",
      "DAYS:  1\n",
      "DAYS:  2\n",
      "DAYS:  3\n",
      "DAYS:  4\n",
      "DAYS:  5\n",
      "DAYS:  6\n",
      "DAYS:  7\n",
      "DAYS:  8\n",
      "DAYS:  9\n",
      "DAYS:  10\n"
     ]
    }
   ],
   "source": [
    "# Gradient Boosting\n",
    "gradient_estimator = GradientBoostingClassifier(random_state=0)\n",
    "RESULT_GRADIENT = classificationPerformanceOverTime(df_sample, DATE, X_col, y_col, 11, gradient_estimator, 3)"
   ]
  },
  {
   "cell_type": "code",
   "execution_count": 23,
   "id": "smooth-texture",
   "metadata": {
    "execution": {
     "iopub.execute_input": "2021-02-08T12:44:45.704126Z",
     "iopub.status.busy": "2021-02-08T12:44:45.703119Z",
     "iopub.status.idle": "2021-02-08T12:50:32.980177Z",
     "shell.execute_reply": "2021-02-08T12:50:32.979664Z",
     "shell.execute_reply.started": "2021-02-08T12:44:45.704126Z"
    }
   },
   "outputs": [
    {
     "name": "stdout",
     "output_type": "stream",
     "text": [
      "DAYS:  0\n",
      "DAYS:  1\n",
      "DAYS:  2\n",
      "DAYS:  3\n",
      "DAYS:  4\n",
      "DAYS:  5\n",
      "DAYS:  6\n",
      "DAYS:  7\n",
      "DAYS:  8\n",
      "DAYS:  9\n",
      "DAYS:  10\n"
     ]
    }
   ],
   "source": [
    "# Hist Gradient Boosting\n",
    "histgradient_estimator = HistGradientBoostingClassifier(random_state=0)\n",
    "RESULT_HISTGRADIENT = classificationPerformanceOverTime(df_sample, DATE, X_col, y_col, 11, histgradient_estimator, 3)"
   ]
  },
  {
   "cell_type": "code",
   "execution_count": 32,
   "id": "regional-blade",
   "metadata": {
    "collapsed": true,
    "execution": {
     "iopub.execute_input": "2021-02-08T13:07:48.305553Z",
     "iopub.status.busy": "2021-02-08T13:07:48.305553Z",
     "iopub.status.idle": "2021-02-08T13:14:43.526590Z",
     "shell.execute_reply": "2021-02-08T13:14:43.526590Z",
     "shell.execute_reply.started": "2021-02-08T13:07:48.305553Z"
    },
    "jupyter": {
     "outputs_hidden": true
    }
   },
   "outputs": [
    {
     "name": "stdout",
     "output_type": "stream",
     "text": [
      "WARNING:tensorflow:Layer dense_2 is casting an input tensor from dtype float64 to the layer's dtype of float32, which is new behavior in TensorFlow 2.  The layer has dtype float32 because its dtype defaults to floatx.\n",
      "\n",
      "If you intended to run this layer in float32, you can safely ignore this warning. If in doubt, this warning is likely only an issue if you are porting a TensorFlow 1.X model to TensorFlow 2.\n",
      "\n",
      "To change all layers to have dtype float64 by default, call `tf.keras.backend.set_floatx('float64')`. To change just this layer, pass dtype='float64' to the layer constructor. If you are the author of this layer, you can disable autocasting by passing autocast=False to the base Layer constructor.\n",
      "\n",
      "WARNING:tensorflow:From C:\\Users\\thoma\\Anaconda3\\lib\\site-packages\\tensorflow\\python\\keras\\wrappers\\scikit_learn.py:241: Sequential.predict_classes (from tensorflow.python.keras.engine.sequential) is deprecated and will be removed after 2021-01-01.\n",
      "Instructions for updating:\n",
      "Please use instead:* `np.argmax(model.predict(x), axis=-1)`,   if your model does multi-class classification   (e.g. if it uses a `softmax` last-layer activation).* `(model.predict(x) > 0.5).astype(\"int32\")`,   if your model does binary classification   (e.g. if it uses a `sigmoid` last-layer activation).\n",
      "WARNING:tensorflow:Layer dense_4 is casting an input tensor from dtype float64 to the layer's dtype of float32, which is new behavior in TensorFlow 2.  The layer has dtype float32 because its dtype defaults to floatx.\n",
      "\n",
      "If you intended to run this layer in float32, you can safely ignore this warning. If in doubt, this warning is likely only an issue if you are porting a TensorFlow 1.X model to TensorFlow 2.\n",
      "\n",
      "To change all layers to have dtype float64 by default, call `tf.keras.backend.set_floatx('float64')`. To change just this layer, pass dtype='float64' to the layer constructor. If you are the author of this layer, you can disable autocasting by passing autocast=False to the base Layer constructor.\n",
      "\n",
      "WARNING:tensorflow:Layer dense_6 is casting an input tensor from dtype float64 to the layer's dtype of float32, which is new behavior in TensorFlow 2.  The layer has dtype float32 because its dtype defaults to floatx.\n",
      "\n",
      "If you intended to run this layer in float32, you can safely ignore this warning. If in doubt, this warning is likely only an issue if you are porting a TensorFlow 1.X model to TensorFlow 2.\n",
      "\n",
      "To change all layers to have dtype float64 by default, call `tf.keras.backend.set_floatx('float64')`. To change just this layer, pass dtype='float64' to the layer constructor. If you are the author of this layer, you can disable autocasting by passing autocast=False to the base Layer constructor.\n",
      "\n",
      "DAYS:  0\n",
      "WARNING:tensorflow:Layer dense_8 is casting an input tensor from dtype float64 to the layer's dtype of float32, which is new behavior in TensorFlow 2.  The layer has dtype float32 because its dtype defaults to floatx.\n",
      "\n",
      "If you intended to run this layer in float32, you can safely ignore this warning. If in doubt, this warning is likely only an issue if you are porting a TensorFlow 1.X model to TensorFlow 2.\n",
      "\n",
      "To change all layers to have dtype float64 by default, call `tf.keras.backend.set_floatx('float64')`. To change just this layer, pass dtype='float64' to the layer constructor. If you are the author of this layer, you can disable autocasting by passing autocast=False to the base Layer constructor.\n",
      "\n",
      "WARNING:tensorflow:Layer dense_10 is casting an input tensor from dtype float64 to the layer's dtype of float32, which is new behavior in TensorFlow 2.  The layer has dtype float32 because its dtype defaults to floatx.\n",
      "\n",
      "If you intended to run this layer in float32, you can safely ignore this warning. If in doubt, this warning is likely only an issue if you are porting a TensorFlow 1.X model to TensorFlow 2.\n",
      "\n",
      "To change all layers to have dtype float64 by default, call `tf.keras.backend.set_floatx('float64')`. To change just this layer, pass dtype='float64' to the layer constructor. If you are the author of this layer, you can disable autocasting by passing autocast=False to the base Layer constructor.\n",
      "\n",
      "WARNING:tensorflow:Layer dense_12 is casting an input tensor from dtype float64 to the layer's dtype of float32, which is new behavior in TensorFlow 2.  The layer has dtype float32 because its dtype defaults to floatx.\n",
      "\n",
      "If you intended to run this layer in float32, you can safely ignore this warning. If in doubt, this warning is likely only an issue if you are porting a TensorFlow 1.X model to TensorFlow 2.\n",
      "\n",
      "To change all layers to have dtype float64 by default, call `tf.keras.backend.set_floatx('float64')`. To change just this layer, pass dtype='float64' to the layer constructor. If you are the author of this layer, you can disable autocasting by passing autocast=False to the base Layer constructor.\n",
      "\n",
      "DAYS:  1\n",
      "WARNING:tensorflow:Layer dense_14 is casting an input tensor from dtype float64 to the layer's dtype of float32, which is new behavior in TensorFlow 2.  The layer has dtype float32 because its dtype defaults to floatx.\n",
      "\n",
      "If you intended to run this layer in float32, you can safely ignore this warning. If in doubt, this warning is likely only an issue if you are porting a TensorFlow 1.X model to TensorFlow 2.\n",
      "\n",
      "To change all layers to have dtype float64 by default, call `tf.keras.backend.set_floatx('float64')`. To change just this layer, pass dtype='float64' to the layer constructor. If you are the author of this layer, you can disable autocasting by passing autocast=False to the base Layer constructor.\n",
      "\n",
      "WARNING:tensorflow:Layer dense_16 is casting an input tensor from dtype float64 to the layer's dtype of float32, which is new behavior in TensorFlow 2.  The layer has dtype float32 because its dtype defaults to floatx.\n",
      "\n",
      "If you intended to run this layer in float32, you can safely ignore this warning. If in doubt, this warning is likely only an issue if you are porting a TensorFlow 1.X model to TensorFlow 2.\n",
      "\n",
      "To change all layers to have dtype float64 by default, call `tf.keras.backend.set_floatx('float64')`. To change just this layer, pass dtype='float64' to the layer constructor. If you are the author of this layer, you can disable autocasting by passing autocast=False to the base Layer constructor.\n",
      "\n",
      "WARNING:tensorflow:Layer dense_18 is casting an input tensor from dtype float64 to the layer's dtype of float32, which is new behavior in TensorFlow 2.  The layer has dtype float32 because its dtype defaults to floatx.\n",
      "\n",
      "If you intended to run this layer in float32, you can safely ignore this warning. If in doubt, this warning is likely only an issue if you are porting a TensorFlow 1.X model to TensorFlow 2.\n",
      "\n",
      "To change all layers to have dtype float64 by default, call `tf.keras.backend.set_floatx('float64')`. To change just this layer, pass dtype='float64' to the layer constructor. If you are the author of this layer, you can disable autocasting by passing autocast=False to the base Layer constructor.\n",
      "\n",
      "DAYS:  2\n",
      "WARNING:tensorflow:Layer dense_20 is casting an input tensor from dtype float64 to the layer's dtype of float32, which is new behavior in TensorFlow 2.  The layer has dtype float32 because its dtype defaults to floatx.\n",
      "\n",
      "If you intended to run this layer in float32, you can safely ignore this warning. If in doubt, this warning is likely only an issue if you are porting a TensorFlow 1.X model to TensorFlow 2.\n",
      "\n",
      "To change all layers to have dtype float64 by default, call `tf.keras.backend.set_floatx('float64')`. To change just this layer, pass dtype='float64' to the layer constructor. If you are the author of this layer, you can disable autocasting by passing autocast=False to the base Layer constructor.\n",
      "\n",
      "WARNING:tensorflow:Layer dense_22 is casting an input tensor from dtype float64 to the layer's dtype of float32, which is new behavior in TensorFlow 2.  The layer has dtype float32 because its dtype defaults to floatx.\n",
      "\n",
      "If you intended to run this layer in float32, you can safely ignore this warning. If in doubt, this warning is likely only an issue if you are porting a TensorFlow 1.X model to TensorFlow 2.\n",
      "\n",
      "To change all layers to have dtype float64 by default, call `tf.keras.backend.set_floatx('float64')`. To change just this layer, pass dtype='float64' to the layer constructor. If you are the author of this layer, you can disable autocasting by passing autocast=False to the base Layer constructor.\n",
      "\n",
      "WARNING:tensorflow:Layer dense_24 is casting an input tensor from dtype float64 to the layer's dtype of float32, which is new behavior in TensorFlow 2.  The layer has dtype float32 because its dtype defaults to floatx.\n",
      "\n",
      "If you intended to run this layer in float32, you can safely ignore this warning. If in doubt, this warning is likely only an issue if you are porting a TensorFlow 1.X model to TensorFlow 2.\n",
      "\n",
      "To change all layers to have dtype float64 by default, call `tf.keras.backend.set_floatx('float64')`. To change just this layer, pass dtype='float64' to the layer constructor. If you are the author of this layer, you can disable autocasting by passing autocast=False to the base Layer constructor.\n",
      "\n",
      "DAYS:  3\n",
      "WARNING:tensorflow:Layer dense_26 is casting an input tensor from dtype float64 to the layer's dtype of float32, which is new behavior in TensorFlow 2.  The layer has dtype float32 because its dtype defaults to floatx.\n",
      "\n",
      "If you intended to run this layer in float32, you can safely ignore this warning. If in doubt, this warning is likely only an issue if you are porting a TensorFlow 1.X model to TensorFlow 2.\n",
      "\n",
      "To change all layers to have dtype float64 by default, call `tf.keras.backend.set_floatx('float64')`. To change just this layer, pass dtype='float64' to the layer constructor. If you are the author of this layer, you can disable autocasting by passing autocast=False to the base Layer constructor.\n",
      "\n",
      "WARNING:tensorflow:Layer dense_28 is casting an input tensor from dtype float64 to the layer's dtype of float32, which is new behavior in TensorFlow 2.  The layer has dtype float32 because its dtype defaults to floatx.\n",
      "\n",
      "If you intended to run this layer in float32, you can safely ignore this warning. If in doubt, this warning is likely only an issue if you are porting a TensorFlow 1.X model to TensorFlow 2.\n",
      "\n",
      "To change all layers to have dtype float64 by default, call `tf.keras.backend.set_floatx('float64')`. To change just this layer, pass dtype='float64' to the layer constructor. If you are the author of this layer, you can disable autocasting by passing autocast=False to the base Layer constructor.\n",
      "\n",
      "WARNING:tensorflow:Layer dense_30 is casting an input tensor from dtype float64 to the layer's dtype of float32, which is new behavior in TensorFlow 2.  The layer has dtype float32 because its dtype defaults to floatx.\n",
      "\n",
      "If you intended to run this layer in float32, you can safely ignore this warning. If in doubt, this warning is likely only an issue if you are porting a TensorFlow 1.X model to TensorFlow 2.\n",
      "\n",
      "To change all layers to have dtype float64 by default, call `tf.keras.backend.set_floatx('float64')`. To change just this layer, pass dtype='float64' to the layer constructor. If you are the author of this layer, you can disable autocasting by passing autocast=False to the base Layer constructor.\n",
      "\n",
      "DAYS:  4\n",
      "WARNING:tensorflow:Layer dense_32 is casting an input tensor from dtype float64 to the layer's dtype of float32, which is new behavior in TensorFlow 2.  The layer has dtype float32 because its dtype defaults to floatx.\n",
      "\n",
      "If you intended to run this layer in float32, you can safely ignore this warning. If in doubt, this warning is likely only an issue if you are porting a TensorFlow 1.X model to TensorFlow 2.\n",
      "\n",
      "To change all layers to have dtype float64 by default, call `tf.keras.backend.set_floatx('float64')`. To change just this layer, pass dtype='float64' to the layer constructor. If you are the author of this layer, you can disable autocasting by passing autocast=False to the base Layer constructor.\n",
      "\n",
      "WARNING:tensorflow:Layer dense_34 is casting an input tensor from dtype float64 to the layer's dtype of float32, which is new behavior in TensorFlow 2.  The layer has dtype float32 because its dtype defaults to floatx.\n",
      "\n",
      "If you intended to run this layer in float32, you can safely ignore this warning. If in doubt, this warning is likely only an issue if you are porting a TensorFlow 1.X model to TensorFlow 2.\n",
      "\n",
      "To change all layers to have dtype float64 by default, call `tf.keras.backend.set_floatx('float64')`. To change just this layer, pass dtype='float64' to the layer constructor. If you are the author of this layer, you can disable autocasting by passing autocast=False to the base Layer constructor.\n",
      "\n",
      "WARNING:tensorflow:Layer dense_36 is casting an input tensor from dtype float64 to the layer's dtype of float32, which is new behavior in TensorFlow 2.  The layer has dtype float32 because its dtype defaults to floatx.\n",
      "\n",
      "If you intended to run this layer in float32, you can safely ignore this warning. If in doubt, this warning is likely only an issue if you are porting a TensorFlow 1.X model to TensorFlow 2.\n",
      "\n",
      "To change all layers to have dtype float64 by default, call `tf.keras.backend.set_floatx('float64')`. To change just this layer, pass dtype='float64' to the layer constructor. If you are the author of this layer, you can disable autocasting by passing autocast=False to the base Layer constructor.\n",
      "\n",
      "DAYS:  5\n",
      "WARNING:tensorflow:Layer dense_38 is casting an input tensor from dtype float64 to the layer's dtype of float32, which is new behavior in TensorFlow 2.  The layer has dtype float32 because its dtype defaults to floatx.\n",
      "\n",
      "If you intended to run this layer in float32, you can safely ignore this warning. If in doubt, this warning is likely only an issue if you are porting a TensorFlow 1.X model to TensorFlow 2.\n",
      "\n",
      "To change all layers to have dtype float64 by default, call `tf.keras.backend.set_floatx('float64')`. To change just this layer, pass dtype='float64' to the layer constructor. If you are the author of this layer, you can disable autocasting by passing autocast=False to the base Layer constructor.\n",
      "\n",
      "WARNING:tensorflow:Layer dense_40 is casting an input tensor from dtype float64 to the layer's dtype of float32, which is new behavior in TensorFlow 2.  The layer has dtype float32 because its dtype defaults to floatx.\n",
      "\n",
      "If you intended to run this layer in float32, you can safely ignore this warning. If in doubt, this warning is likely only an issue if you are porting a TensorFlow 1.X model to TensorFlow 2.\n",
      "\n",
      "To change all layers to have dtype float64 by default, call `tf.keras.backend.set_floatx('float64')`. To change just this layer, pass dtype='float64' to the layer constructor. If you are the author of this layer, you can disable autocasting by passing autocast=False to the base Layer constructor.\n",
      "\n",
      "WARNING:tensorflow:Layer dense_42 is casting an input tensor from dtype float64 to the layer's dtype of float32, which is new behavior in TensorFlow 2.  The layer has dtype float32 because its dtype defaults to floatx.\n",
      "\n",
      "If you intended to run this layer in float32, you can safely ignore this warning. If in doubt, this warning is likely only an issue if you are porting a TensorFlow 1.X model to TensorFlow 2.\n",
      "\n",
      "To change all layers to have dtype float64 by default, call `tf.keras.backend.set_floatx('float64')`. To change just this layer, pass dtype='float64' to the layer constructor. If you are the author of this layer, you can disable autocasting by passing autocast=False to the base Layer constructor.\n",
      "\n",
      "DAYS:  6\n",
      "WARNING:tensorflow:Layer dense_44 is casting an input tensor from dtype float64 to the layer's dtype of float32, which is new behavior in TensorFlow 2.  The layer has dtype float32 because its dtype defaults to floatx.\n",
      "\n",
      "If you intended to run this layer in float32, you can safely ignore this warning. If in doubt, this warning is likely only an issue if you are porting a TensorFlow 1.X model to TensorFlow 2.\n",
      "\n",
      "To change all layers to have dtype float64 by default, call `tf.keras.backend.set_floatx('float64')`. To change just this layer, pass dtype='float64' to the layer constructor. If you are the author of this layer, you can disable autocasting by passing autocast=False to the base Layer constructor.\n",
      "\n",
      "WARNING:tensorflow:Layer dense_46 is casting an input tensor from dtype float64 to the layer's dtype of float32, which is new behavior in TensorFlow 2.  The layer has dtype float32 because its dtype defaults to floatx.\n",
      "\n",
      "If you intended to run this layer in float32, you can safely ignore this warning. If in doubt, this warning is likely only an issue if you are porting a TensorFlow 1.X model to TensorFlow 2.\n",
      "\n",
      "To change all layers to have dtype float64 by default, call `tf.keras.backend.set_floatx('float64')`. To change just this layer, pass dtype='float64' to the layer constructor. If you are the author of this layer, you can disable autocasting by passing autocast=False to the base Layer constructor.\n",
      "\n",
      "WARNING:tensorflow:Layer dense_48 is casting an input tensor from dtype float64 to the layer's dtype of float32, which is new behavior in TensorFlow 2.  The layer has dtype float32 because its dtype defaults to floatx.\n",
      "\n",
      "If you intended to run this layer in float32, you can safely ignore this warning. If in doubt, this warning is likely only an issue if you are porting a TensorFlow 1.X model to TensorFlow 2.\n",
      "\n",
      "To change all layers to have dtype float64 by default, call `tf.keras.backend.set_floatx('float64')`. To change just this layer, pass dtype='float64' to the layer constructor. If you are the author of this layer, you can disable autocasting by passing autocast=False to the base Layer constructor.\n",
      "\n",
      "DAYS:  7\n",
      "WARNING:tensorflow:Layer dense_50 is casting an input tensor from dtype float64 to the layer's dtype of float32, which is new behavior in TensorFlow 2.  The layer has dtype float32 because its dtype defaults to floatx.\n",
      "\n",
      "If you intended to run this layer in float32, you can safely ignore this warning. If in doubt, this warning is likely only an issue if you are porting a TensorFlow 1.X model to TensorFlow 2.\n",
      "\n",
      "To change all layers to have dtype float64 by default, call `tf.keras.backend.set_floatx('float64')`. To change just this layer, pass dtype='float64' to the layer constructor. If you are the author of this layer, you can disable autocasting by passing autocast=False to the base Layer constructor.\n",
      "\n",
      "WARNING:tensorflow:Layer dense_52 is casting an input tensor from dtype float64 to the layer's dtype of float32, which is new behavior in TensorFlow 2.  The layer has dtype float32 because its dtype defaults to floatx.\n",
      "\n",
      "If you intended to run this layer in float32, you can safely ignore this warning. If in doubt, this warning is likely only an issue if you are porting a TensorFlow 1.X model to TensorFlow 2.\n",
      "\n",
      "To change all layers to have dtype float64 by default, call `tf.keras.backend.set_floatx('float64')`. To change just this layer, pass dtype='float64' to the layer constructor. If you are the author of this layer, you can disable autocasting by passing autocast=False to the base Layer constructor.\n",
      "\n",
      "WARNING:tensorflow:Layer dense_54 is casting an input tensor from dtype float64 to the layer's dtype of float32, which is new behavior in TensorFlow 2.  The layer has dtype float32 because its dtype defaults to floatx.\n",
      "\n",
      "If you intended to run this layer in float32, you can safely ignore this warning. If in doubt, this warning is likely only an issue if you are porting a TensorFlow 1.X model to TensorFlow 2.\n",
      "\n",
      "To change all layers to have dtype float64 by default, call `tf.keras.backend.set_floatx('float64')`. To change just this layer, pass dtype='float64' to the layer constructor. If you are the author of this layer, you can disable autocasting by passing autocast=False to the base Layer constructor.\n",
      "\n",
      "DAYS:  8\n",
      "WARNING:tensorflow:Layer dense_56 is casting an input tensor from dtype float64 to the layer's dtype of float32, which is new behavior in TensorFlow 2.  The layer has dtype float32 because its dtype defaults to floatx.\n",
      "\n",
      "If you intended to run this layer in float32, you can safely ignore this warning. If in doubt, this warning is likely only an issue if you are porting a TensorFlow 1.X model to TensorFlow 2.\n",
      "\n",
      "To change all layers to have dtype float64 by default, call `tf.keras.backend.set_floatx('float64')`. To change just this layer, pass dtype='float64' to the layer constructor. If you are the author of this layer, you can disable autocasting by passing autocast=False to the base Layer constructor.\n",
      "\n",
      "WARNING:tensorflow:Layer dense_58 is casting an input tensor from dtype float64 to the layer's dtype of float32, which is new behavior in TensorFlow 2.  The layer has dtype float32 because its dtype defaults to floatx.\n",
      "\n",
      "If you intended to run this layer in float32, you can safely ignore this warning. If in doubt, this warning is likely only an issue if you are porting a TensorFlow 1.X model to TensorFlow 2.\n",
      "\n",
      "To change all layers to have dtype float64 by default, call `tf.keras.backend.set_floatx('float64')`. To change just this layer, pass dtype='float64' to the layer constructor. If you are the author of this layer, you can disable autocasting by passing autocast=False to the base Layer constructor.\n",
      "\n",
      "WARNING:tensorflow:Layer dense_60 is casting an input tensor from dtype float64 to the layer's dtype of float32, which is new behavior in TensorFlow 2.  The layer has dtype float32 because its dtype defaults to floatx.\n",
      "\n",
      "If you intended to run this layer in float32, you can safely ignore this warning. If in doubt, this warning is likely only an issue if you are porting a TensorFlow 1.X model to TensorFlow 2.\n",
      "\n",
      "To change all layers to have dtype float64 by default, call `tf.keras.backend.set_floatx('float64')`. To change just this layer, pass dtype='float64' to the layer constructor. If you are the author of this layer, you can disable autocasting by passing autocast=False to the base Layer constructor.\n",
      "\n",
      "DAYS:  9\n",
      "WARNING:tensorflow:Layer dense_62 is casting an input tensor from dtype float64 to the layer's dtype of float32, which is new behavior in TensorFlow 2.  The layer has dtype float32 because its dtype defaults to floatx.\n",
      "\n",
      "If you intended to run this layer in float32, you can safely ignore this warning. If in doubt, this warning is likely only an issue if you are porting a TensorFlow 1.X model to TensorFlow 2.\n",
      "\n",
      "To change all layers to have dtype float64 by default, call `tf.keras.backend.set_floatx('float64')`. To change just this layer, pass dtype='float64' to the layer constructor. If you are the author of this layer, you can disable autocasting by passing autocast=False to the base Layer constructor.\n",
      "\n",
      "WARNING:tensorflow:Layer dense_64 is casting an input tensor from dtype float64 to the layer's dtype of float32, which is new behavior in TensorFlow 2.  The layer has dtype float32 because its dtype defaults to floatx.\n",
      "\n",
      "If you intended to run this layer in float32, you can safely ignore this warning. If in doubt, this warning is likely only an issue if you are porting a TensorFlow 1.X model to TensorFlow 2.\n",
      "\n",
      "To change all layers to have dtype float64 by default, call `tf.keras.backend.set_floatx('float64')`. To change just this layer, pass dtype='float64' to the layer constructor. If you are the author of this layer, you can disable autocasting by passing autocast=False to the base Layer constructor.\n",
      "\n",
      "WARNING:tensorflow:Layer dense_66 is casting an input tensor from dtype float64 to the layer's dtype of float32, which is new behavior in TensorFlow 2.  The layer has dtype float32 because its dtype defaults to floatx.\n",
      "\n",
      "If you intended to run this layer in float32, you can safely ignore this warning. If in doubt, this warning is likely only an issue if you are porting a TensorFlow 1.X model to TensorFlow 2.\n",
      "\n",
      "To change all layers to have dtype float64 by default, call `tf.keras.backend.set_floatx('float64')`. To change just this layer, pass dtype='float64' to the layer constructor. If you are the author of this layer, you can disable autocasting by passing autocast=False to the base Layer constructor.\n",
      "\n",
      "DAYS:  10\n"
     ]
    }
   ],
   "source": [
    "# Neural Network\n",
    "nn_estimator = KerasClassifier(build_fn = functions.neuralNetwork,epochs = 10,verbose = 0)\n",
    "RESULT_NN = classificationPerformanceOverTime(df_sample, DATE, X_col, y_col, 11, nn_estimator, 3, scaler = 'MinMax', NN_estimator = True)"
   ]
  },
  {
   "cell_type": "code",
   "execution_count": 26,
   "id": "successful-development",
   "metadata": {
    "execution": {
     "iopub.execute_input": "2021-02-08T12:54:03.617507Z",
     "iopub.status.busy": "2021-02-08T12:54:03.617507Z",
     "iopub.status.idle": "2021-02-08T13:01:59.700948Z",
     "shell.execute_reply": "2021-02-08T13:01:59.699850Z",
     "shell.execute_reply.started": "2021-02-08T12:54:03.617507Z"
    }
   },
   "outputs": [
    {
     "name": "stdout",
     "output_type": "stream",
     "text": [
      "DAYS:  0\n",
      "DAYS:  1\n",
      "DAYS:  2\n",
      "DAYS:  3\n",
      "DAYS:  4\n",
      "DAYS:  5\n",
      "DAYS:  6\n",
      "DAYS:  7\n",
      "DAYS:  8\n",
      "DAYS:  9\n",
      "DAYS:  10\n"
     ]
    }
   ],
   "source": [
    "# Bagging (using Decision trees)\n",
    "bagging_estimator = BaggingClassifier(n_estimators=10,random_state=0) \n",
    "RESULT_BAG = classificationPerformanceOverTime(df_sample, DATE, X_col, y_col, 11, bagging_estimator, 3)"
   ]
  },
  {
   "cell_type": "code",
   "execution_count": 39,
   "id": "electoral-manhattan",
   "metadata": {
    "execution": {
     "iopub.execute_input": "2021-02-08T20:02:23.783809Z",
     "iopub.status.busy": "2021-02-08T20:02:23.783809Z",
     "iopub.status.idle": "2021-02-08T20:02:23.821035Z",
     "shell.execute_reply": "2021-02-08T20:02:23.820047Z",
     "shell.execute_reply.started": "2021-02-08T20:02:23.783809Z"
    }
   },
   "outputs": [
    {
     "data": {
      "text/html": [
       "<div>\n",
       "<style scoped>\n",
       "    .dataframe tbody tr th:only-of-type {\n",
       "        vertical-align: middle;\n",
       "    }\n",
       "\n",
       "    .dataframe tbody tr th {\n",
       "        vertical-align: top;\n",
       "    }\n",
       "\n",
       "    .dataframe thead th {\n",
       "        text-align: right;\n",
       "    }\n",
       "</style>\n",
       "<table border=\"1\" class=\"dataframe\">\n",
       "  <thead>\n",
       "    <tr style=\"text-align: right;\">\n",
       "      <th></th>\n",
       "      <th>accuracy</th>\n",
       "      <th>precision_KNOWN HAPPY</th>\n",
       "      <th>recall_KNOWN HAPPY</th>\n",
       "      <th>f1_KNOWN HAPPY</th>\n",
       "      <th>precision_KNOWN HEAVILY UNHAPPY</th>\n",
       "      <th>recall_KNOWN HEAVILY UNHAPPY</th>\n",
       "      <th>f1_KNOWN HEAVILY UNHAPPY</th>\n",
       "      <th>precision_KNOWN MEDIUM UNHAPPY</th>\n",
       "      <th>recall_KNOWN MEDIUM UNHAPPY</th>\n",
       "      <th>f1_KNOWN MEDIUM UNHAPPY</th>\n",
       "      <th>precision_KNOWN MILDLY UNHAPPY</th>\n",
       "      <th>recall_KNOWN MILDLY UNHAPPY</th>\n",
       "      <th>f1_KNOWN MILDLY UNHAPPY</th>\n",
       "      <th>precision_UNKNOWN</th>\n",
       "      <th>recall_UNKNOWN</th>\n",
       "      <th>f1_UNKNOWN</th>\n",
       "    </tr>\n",
       "  </thead>\n",
       "  <tbody>\n",
       "    <tr>\n",
       "      <th>0</th>\n",
       "      <td>0.822133</td>\n",
       "      <td>0.840873</td>\n",
       "      <td>0.952428</td>\n",
       "      <td>0.893148</td>\n",
       "      <td>0.442050</td>\n",
       "      <td>0.189676</td>\n",
       "      <td>0.259426</td>\n",
       "      <td>0.161903</td>\n",
       "      <td>0.041618</td>\n",
       "      <td>0.065216</td>\n",
       "      <td>0.120326</td>\n",
       "      <td>0.045415</td>\n",
       "      <td>0.063989</td>\n",
       "      <td>0.873498</td>\n",
       "      <td>0.873476</td>\n",
       "      <td>0.873482</td>\n",
       "    </tr>\n",
       "    <tr>\n",
       "      <th>1</th>\n",
       "      <td>0.859387</td>\n",
       "      <td>0.876363</td>\n",
       "      <td>0.972191</td>\n",
       "      <td>0.921785</td>\n",
       "      <td>0.584813</td>\n",
       "      <td>0.270643</td>\n",
       "      <td>0.365251</td>\n",
       "      <td>0.309908</td>\n",
       "      <td>0.098171</td>\n",
       "      <td>0.148633</td>\n",
       "      <td>0.492215</td>\n",
       "      <td>0.209553</td>\n",
       "      <td>0.293734</td>\n",
       "      <td>0.884652</td>\n",
       "      <td>0.903736</td>\n",
       "      <td>0.894003</td>\n",
       "    </tr>\n",
       "    <tr>\n",
       "      <th>2</th>\n",
       "      <td>0.888853</td>\n",
       "      <td>0.912723</td>\n",
       "      <td>0.980379</td>\n",
       "      <td>0.945333</td>\n",
       "      <td>0.607927</td>\n",
       "      <td>0.328815</td>\n",
       "      <td>0.426723</td>\n",
       "      <td>0.497691</td>\n",
       "      <td>0.191686</td>\n",
       "      <td>0.274759</td>\n",
       "      <td>0.649582</td>\n",
       "      <td>0.404023</td>\n",
       "      <td>0.496782</td>\n",
       "      <td>0.898836</td>\n",
       "      <td>0.921497</td>\n",
       "      <td>0.910025</td>\n",
       "    </tr>\n",
       "    <tr>\n",
       "      <th>3</th>\n",
       "      <td>0.910000</td>\n",
       "      <td>0.937238</td>\n",
       "      <td>0.988907</td>\n",
       "      <td>0.962368</td>\n",
       "      <td>0.601983</td>\n",
       "      <td>0.355813</td>\n",
       "      <td>0.446783</td>\n",
       "      <td>0.553994</td>\n",
       "      <td>0.278005</td>\n",
       "      <td>0.368260</td>\n",
       "      <td>0.743407</td>\n",
       "      <td>0.528271</td>\n",
       "      <td>0.615642</td>\n",
       "      <td>0.910016</td>\n",
       "      <td>0.933194</td>\n",
       "      <td>0.921414</td>\n",
       "    </tr>\n",
       "    <tr>\n",
       "      <th>4</th>\n",
       "      <td>0.928667</td>\n",
       "      <td>0.955253</td>\n",
       "      <td>0.991469</td>\n",
       "      <td>0.973017</td>\n",
       "      <td>0.654546</td>\n",
       "      <td>0.413036</td>\n",
       "      <td>0.503857</td>\n",
       "      <td>0.591112</td>\n",
       "      <td>0.397401</td>\n",
       "      <td>0.472191</td>\n",
       "      <td>0.810534</td>\n",
       "      <td>0.630884</td>\n",
       "      <td>0.708894</td>\n",
       "      <td>0.925152</td>\n",
       "      <td>0.950111</td>\n",
       "      <td>0.937439</td>\n",
       "    </tr>\n",
       "    <tr>\n",
       "      <th>5</th>\n",
       "      <td>0.945653</td>\n",
       "      <td>0.967432</td>\n",
       "      <td>0.995516</td>\n",
       "      <td>0.981272</td>\n",
       "      <td>0.660238</td>\n",
       "      <td>0.472064</td>\n",
       "      <td>0.548647</td>\n",
       "      <td>0.696360</td>\n",
       "      <td>0.451567</td>\n",
       "      <td>0.546866</td>\n",
       "      <td>0.875994</td>\n",
       "      <td>0.697356</td>\n",
       "      <td>0.776400</td>\n",
       "      <td>0.938076</td>\n",
       "      <td>0.973179</td>\n",
       "      <td>0.955291</td>\n",
       "    </tr>\n",
       "    <tr>\n",
       "      <th>6</th>\n",
       "      <td>0.954000</td>\n",
       "      <td>0.972975</td>\n",
       "      <td>0.995201</td>\n",
       "      <td>0.983963</td>\n",
       "      <td>0.672406</td>\n",
       "      <td>0.517431</td>\n",
       "      <td>0.583218</td>\n",
       "      <td>0.741301</td>\n",
       "      <td>0.542037</td>\n",
       "      <td>0.626021</td>\n",
       "      <td>0.889490</td>\n",
       "      <td>0.749470</td>\n",
       "      <td>0.813311</td>\n",
       "      <td>0.952773</td>\n",
       "      <td>0.979202</td>\n",
       "      <td>0.965799</td>\n",
       "    </tr>\n",
       "    <tr>\n",
       "      <th>7</th>\n",
       "      <td>0.961933</td>\n",
       "      <td>0.979641</td>\n",
       "      <td>0.996300</td>\n",
       "      <td>0.987900</td>\n",
       "      <td>0.654623</td>\n",
       "      <td>0.553710</td>\n",
       "      <td>0.599821</td>\n",
       "      <td>0.787757</td>\n",
       "      <td>0.574465</td>\n",
       "      <td>0.664100</td>\n",
       "      <td>0.909677</td>\n",
       "      <td>0.796331</td>\n",
       "      <td>0.848938</td>\n",
       "      <td>0.960623</td>\n",
       "      <td>0.986205</td>\n",
       "      <td>0.973214</td>\n",
       "    </tr>\n",
       "    <tr>\n",
       "      <th>8</th>\n",
       "      <td>0.969507</td>\n",
       "      <td>0.982887</td>\n",
       "      <td>0.998696</td>\n",
       "      <td>0.990728</td>\n",
       "      <td>0.674263</td>\n",
       "      <td>0.578914</td>\n",
       "      <td>0.622514</td>\n",
       "      <td>0.807360</td>\n",
       "      <td>0.624445</td>\n",
       "      <td>0.704162</td>\n",
       "      <td>0.950889</td>\n",
       "      <td>0.826362</td>\n",
       "      <td>0.884241</td>\n",
       "      <td>0.967443</td>\n",
       "      <td>0.993629</td>\n",
       "      <td>0.980360</td>\n",
       "    </tr>\n",
       "    <tr>\n",
       "      <th>9</th>\n",
       "      <td>0.972387</td>\n",
       "      <td>0.984647</td>\n",
       "      <td>0.999144</td>\n",
       "      <td>0.991842</td>\n",
       "      <td>0.662505</td>\n",
       "      <td>0.586666</td>\n",
       "      <td>0.620696</td>\n",
       "      <td>0.812957</td>\n",
       "      <td>0.665012</td>\n",
       "      <td>0.731486</td>\n",
       "      <td>0.957381</td>\n",
       "      <td>0.839793</td>\n",
       "      <td>0.894677</td>\n",
       "      <td>0.973145</td>\n",
       "      <td>0.995348</td>\n",
       "      <td>0.984119</td>\n",
       "    </tr>\n",
       "    <tr>\n",
       "      <th>10</th>\n",
       "      <td>0.976453</td>\n",
       "      <td>0.986914</td>\n",
       "      <td>0.999706</td>\n",
       "      <td>0.993268</td>\n",
       "      <td>0.713172</td>\n",
       "      <td>0.619771</td>\n",
       "      <td>0.661785</td>\n",
       "      <td>0.821254</td>\n",
       "      <td>0.678736</td>\n",
       "      <td>0.743218</td>\n",
       "      <td>0.962255</td>\n",
       "      <td>0.868532</td>\n",
       "      <td>0.912969</td>\n",
       "      <td>0.978174</td>\n",
       "      <td>0.997572</td>\n",
       "      <td>0.987777</td>\n",
       "    </tr>\n",
       "  </tbody>\n",
       "</table>\n",
       "</div>"
      ],
      "text/plain": [
       "    accuracy  precision_KNOWN HAPPY  recall_KNOWN HAPPY  f1_KNOWN HAPPY  \\\n",
       "0   0.822133               0.840873            0.952428        0.893148   \n",
       "1   0.859387               0.876363            0.972191        0.921785   \n",
       "2   0.888853               0.912723            0.980379        0.945333   \n",
       "3   0.910000               0.937238            0.988907        0.962368   \n",
       "4   0.928667               0.955253            0.991469        0.973017   \n",
       "5   0.945653               0.967432            0.995516        0.981272   \n",
       "6   0.954000               0.972975            0.995201        0.983963   \n",
       "7   0.961933               0.979641            0.996300        0.987900   \n",
       "8   0.969507               0.982887            0.998696        0.990728   \n",
       "9   0.972387               0.984647            0.999144        0.991842   \n",
       "10  0.976453               0.986914            0.999706        0.993268   \n",
       "\n",
       "    precision_KNOWN HEAVILY UNHAPPY  recall_KNOWN HEAVILY UNHAPPY  \\\n",
       "0                          0.442050                      0.189676   \n",
       "1                          0.584813                      0.270643   \n",
       "2                          0.607927                      0.328815   \n",
       "3                          0.601983                      0.355813   \n",
       "4                          0.654546                      0.413036   \n",
       "5                          0.660238                      0.472064   \n",
       "6                          0.672406                      0.517431   \n",
       "7                          0.654623                      0.553710   \n",
       "8                          0.674263                      0.578914   \n",
       "9                          0.662505                      0.586666   \n",
       "10                         0.713172                      0.619771   \n",
       "\n",
       "    f1_KNOWN HEAVILY UNHAPPY  precision_KNOWN MEDIUM UNHAPPY  \\\n",
       "0                   0.259426                        0.161903   \n",
       "1                   0.365251                        0.309908   \n",
       "2                   0.426723                        0.497691   \n",
       "3                   0.446783                        0.553994   \n",
       "4                   0.503857                        0.591112   \n",
       "5                   0.548647                        0.696360   \n",
       "6                   0.583218                        0.741301   \n",
       "7                   0.599821                        0.787757   \n",
       "8                   0.622514                        0.807360   \n",
       "9                   0.620696                        0.812957   \n",
       "10                  0.661785                        0.821254   \n",
       "\n",
       "    recall_KNOWN MEDIUM UNHAPPY  f1_KNOWN MEDIUM UNHAPPY  \\\n",
       "0                      0.041618                 0.065216   \n",
       "1                      0.098171                 0.148633   \n",
       "2                      0.191686                 0.274759   \n",
       "3                      0.278005                 0.368260   \n",
       "4                      0.397401                 0.472191   \n",
       "5                      0.451567                 0.546866   \n",
       "6                      0.542037                 0.626021   \n",
       "7                      0.574465                 0.664100   \n",
       "8                      0.624445                 0.704162   \n",
       "9                      0.665012                 0.731486   \n",
       "10                     0.678736                 0.743218   \n",
       "\n",
       "    precision_KNOWN MILDLY UNHAPPY  recall_KNOWN MILDLY UNHAPPY  \\\n",
       "0                         0.120326                     0.045415   \n",
       "1                         0.492215                     0.209553   \n",
       "2                         0.649582                     0.404023   \n",
       "3                         0.743407                     0.528271   \n",
       "4                         0.810534                     0.630884   \n",
       "5                         0.875994                     0.697356   \n",
       "6                         0.889490                     0.749470   \n",
       "7                         0.909677                     0.796331   \n",
       "8                         0.950889                     0.826362   \n",
       "9                         0.957381                     0.839793   \n",
       "10                        0.962255                     0.868532   \n",
       "\n",
       "    f1_KNOWN MILDLY UNHAPPY  precision_UNKNOWN  recall_UNKNOWN  f1_UNKNOWN  \n",
       "0                  0.063989           0.873498        0.873476    0.873482  \n",
       "1                  0.293734           0.884652        0.903736    0.894003  \n",
       "2                  0.496782           0.898836        0.921497    0.910025  \n",
       "3                  0.615642           0.910016        0.933194    0.921414  \n",
       "4                  0.708894           0.925152        0.950111    0.937439  \n",
       "5                  0.776400           0.938076        0.973179    0.955291  \n",
       "6                  0.813311           0.952773        0.979202    0.965799  \n",
       "7                  0.848938           0.960623        0.986205    0.973214  \n",
       "8                  0.884241           0.967443        0.993629    0.980360  \n",
       "9                  0.894677           0.973145        0.995348    0.984119  \n",
       "10                 0.912969           0.978174        0.997572    0.987777  "
      ]
     },
     "execution_count": 39,
     "metadata": {},
     "output_type": "execute_result"
    }
   ],
   "source": [
    "RESULT_BAG"
   ]
  },
  {
   "cell_type": "code",
   "execution_count": 65,
   "id": "extraordinary-baseball",
   "metadata": {
    "execution": {
     "iopub.execute_input": "2021-02-09T16:42:33.192882Z",
     "iopub.status.busy": "2021-02-09T16:42:33.192882Z",
     "iopub.status.idle": "2021-02-09T16:42:33.222909Z",
     "shell.execute_reply": "2021-02-09T16:42:33.221852Z",
     "shell.execute_reply.started": "2021-02-09T16:42:33.192882Z"
    }
   },
   "outputs": [],
   "source": [
    "RESULT_RF.to_excel('/Users/thoma/Documents/seminar_data/base_classifier_results.xlsx', sheet_name = 'RF, 100K')"
   ]
  },
  {
   "cell_type": "code",
   "execution_count": 64,
   "id": "dutch-hotel",
   "metadata": {
    "execution": {
     "iopub.execute_input": "2021-02-09T16:36:22.473215Z",
     "iopub.status.busy": "2021-02-09T16:36:22.473215Z",
     "iopub.status.idle": "2021-02-09T16:42:02.306749Z",
     "shell.execute_reply": "2021-02-09T16:42:02.306172Z",
     "shell.execute_reply.started": "2021-02-09T16:36:22.473215Z"
    }
   },
   "outputs": [
    {
     "name": "stdout",
     "output_type": "stream",
     "text": [
      "DAYS:  0\n",
      "DAYS:  1\n",
      "DAYS:  2\n",
      "DAYS:  3\n",
      "DAYS:  4\n"
     ]
    }
   ],
   "source": [
    "# Random Forest (using Decision trees)\n",
    "rf_estimator = RandomForestClassifier(n_estimators=200,random_state=0,class_weight='balanced')\n",
    "RESULT_RF = classificationPerformanceOverTime(df_sample, DATE, X_col, y_col, 5, rf_estimator, 3)"
   ]
  },
  {
   "cell_type": "code",
   "execution_count": 34,
   "id": "institutional-sheep",
   "metadata": {
    "execution": {
     "iopub.execute_input": "2021-02-08T13:15:56.122996Z",
     "iopub.status.busy": "2021-02-08T13:15:56.122996Z",
     "iopub.status.idle": "2021-02-08T14:23:19.947880Z",
     "shell.execute_reply": "2021-02-08T14:23:19.946817Z",
     "shell.execute_reply.started": "2021-02-08T13:15:56.122996Z"
    }
   },
   "outputs": [
    {
     "name": "stdout",
     "output_type": "stream",
     "text": [
      "DAYS:  0\n",
      "DAYS:  1\n",
      "DAYS:  2\n",
      "DAYS:  3\n",
      "DAYS:  4\n",
      "DAYS:  5\n",
      "DAYS:  6\n",
      "DAYS:  7\n",
      "DAYS:  8\n",
      "DAYS:  9\n",
      "DAYS:  10\n"
     ]
    }
   ],
   "source": [
    "# K-Nearest Neighbours\n",
    "knn_estimator = neighbors.KNeighborsClassifier(n_neighbors = 3)\n",
    "RESULT_KNN = classificationPerformanceOverTime(df_sample, DATE, X_col, y_col, 11, knn_estimator, 3, scaler = 'MinMax')"
   ]
  },
  {
   "cell_type": "code",
   "execution_count": 27,
   "id": "genetic-worker",
   "metadata": {
    "execution": {
     "iopub.execute_input": "2021-02-01T23:25:54.905060Z",
     "iopub.status.busy": "2021-02-01T23:25:54.905060Z",
     "iopub.status.idle": "2021-02-01T23:26:15.136377Z",
     "shell.execute_reply": "2021-02-01T23:26:15.135195Z",
     "shell.execute_reply.started": "2021-02-01T23:25:54.905060Z"
    }
   },
   "outputs": [
    {
     "name": "stdout",
     "output_type": "stream",
     "text": [
      "DAYS:  0\n"
     ]
    }
   ],
   "source": [
    "# Support Vector Machine - too slow to run\n",
    "svm_estimator = svm.SVC(random_state=0, kernel='linear', decision_function_shape = 'ovo')\n",
    "RESULT_SVM = classificationPerformanceOverTime(df_sample, DATE, X_col, y_col, 1, svm_estimator, 3, scaler = 'MinMax') "
   ]
  },
  {
   "cell_type": "code",
   "execution_count": 28,
   "id": "sublime-example",
   "metadata": {
    "execution": {
     "iopub.execute_input": "2021-02-01T23:26:28.118892Z",
     "iopub.status.busy": "2021-02-01T23:26:28.118892Z",
     "iopub.status.idle": "2021-02-01T23:26:28.146057Z",
     "shell.execute_reply": "2021-02-01T23:26:28.145089Z",
     "shell.execute_reply.started": "2021-02-01T23:26:28.118892Z"
    }
   },
   "outputs": [
    {
     "data": {
      "text/html": [
       "<div>\n",
       "<style scoped>\n",
       "    .dataframe tbody tr th:only-of-type {\n",
       "        vertical-align: middle;\n",
       "    }\n",
       "\n",
       "    .dataframe tbody tr th {\n",
       "        vertical-align: top;\n",
       "    }\n",
       "\n",
       "    .dataframe thead th {\n",
       "        text-align: right;\n",
       "    }\n",
       "</style>\n",
       "<table border=\"1\" class=\"dataframe\">\n",
       "  <thead>\n",
       "    <tr style=\"text-align: right;\">\n",
       "      <th></th>\n",
       "      <th>accuracy</th>\n",
       "      <th>precision_HAPPY</th>\n",
       "      <th>recall_HAPPY</th>\n",
       "      <th>f1_HAPPY</th>\n",
       "      <th>precision_UNHAPPY</th>\n",
       "      <th>recall_UNHAPPY</th>\n",
       "      <th>f1_UNHAPPY</th>\n",
       "      <th>precision_UNKNOWN</th>\n",
       "      <th>recall_UNKNOWN</th>\n",
       "      <th>f1_UNKNOWN</th>\n",
       "    </tr>\n",
       "  </thead>\n",
       "  <tbody>\n",
       "    <tr>\n",
       "      <th>0</th>\n",
       "      <td>0.840267</td>\n",
       "      <td>0.834287</td>\n",
       "      <td>0.977994</td>\n",
       "      <td>0.900415</td>\n",
       "      <td>0.705556</td>\n",
       "      <td>0.024837</td>\n",
       "      <td>0.047467</td>\n",
       "      <td>0.858079</td>\n",
       "      <td>0.894121</td>\n",
       "      <td>0.875646</td>\n",
       "    </tr>\n",
       "  </tbody>\n",
       "</table>\n",
       "</div>"
      ],
      "text/plain": [
       "   accuracy  precision_HAPPY  recall_HAPPY  f1_HAPPY  precision_UNHAPPY  \\\n",
       "0  0.840267         0.834287      0.977994  0.900415           0.705556   \n",
       "\n",
       "   recall_UNHAPPY  f1_UNHAPPY  precision_UNKNOWN  recall_UNKNOWN  f1_UNKNOWN  \n",
       "0        0.024837    0.047467           0.858079        0.894121    0.875646  "
      ]
     },
     "execution_count": 28,
     "metadata": {},
     "output_type": "execute_result"
    }
   ],
   "source": [
    "RESULT_SVM"
   ]
  },
  {
   "cell_type": "code",
   "execution_count": null,
   "id": "broke-greece",
   "metadata": {},
   "outputs": [],
   "source": [
    "X,y = dataX(df_,0)\n",
    "lsvc = svm.LinearSVC(C=0.01, penalty=\"l1\", dual=False).fit(X, y)\n",
    "model = SelectFromModel(lsvc, prefit=True, max_features = 20,)\n",
    "X_new = model.transform(X)\n",
    "X_col_new = [column[0]  for column in zip(X_col,model.get_support()) if column[1]]"
   ]
  }
 ],
 "metadata": {
  "kernelspec": {
   "display_name": "Python 3",
   "language": "python",
   "name": "python3"
  },
  "language_info": {
   "codemirror_mode": {
    "name": "ipython",
    "version": 3
   },
   "file_extension": ".py",
   "mimetype": "text/x-python",
   "name": "python",
   "nbconvert_exporter": "python",
   "pygments_lexer": "ipython3",
   "version": "3.8.3"
  }
 },
 "nbformat": 4,
 "nbformat_minor": 5
}
