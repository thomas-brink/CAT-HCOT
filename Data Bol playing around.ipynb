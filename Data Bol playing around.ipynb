{
 "cells": [
  {
   "cell_type": "code",
   "execution_count": 15,
   "metadata": {},
   "outputs": [],
   "source": [
    "import pandas as pd\n",
    "import numpy as np\n",
    "import matplotlib.pyplot as plt"
   ]
  },
  {
   "cell_type": "code",
   "execution_count": 5,
   "metadata": {},
   "outputs": [
    {
     "name": "stderr",
     "output_type": "stream",
     "text": [
      "C:\\Users\\thoma\\Anaconda3\\lib\\site-packages\\IPython\\core\\interactiveshell.py:3071: DtypeWarning: Columns (12) have mixed types.Specify dtype option on import or set low_memory=False.\n",
      "  has_raised = await self.run_ast_nodes(code_ast.body, cell_name,\n"
     ]
    }
   ],
   "source": [
    "data_2019 = pd.read_csv(\"data_2019.csv\")"
   ]
  },
  {
   "cell_type": "code",
   "execution_count": 8,
   "metadata": {},
   "outputs": [],
   "source": [
    "data_all = pd.concat([data_2019,data_2020]) "
   ]
  },
  {
   "cell_type": "code",
   "execution_count": 13,
   "metadata": {},
   "outputs": [],
   "source": [
    "data_all = data_all.reset_index(drop=True)"
   ]
  },
  {
   "cell_type": "code",
   "execution_count": 14,
   "metadata": {},
   "outputs": [
    {
     "data": {
      "text/html": [
       "<div>\n",
       "<style scoped>\n",
       "    .dataframe tbody tr th:only-of-type {\n",
       "        vertical-align: middle;\n",
       "    }\n",
       "\n",
       "    .dataframe tbody tr th {\n",
       "        vertical-align: top;\n",
       "    }\n",
       "\n",
       "    .dataframe thead th {\n",
       "        text-align: right;\n",
       "    }\n",
       "</style>\n",
       "<table border=\"1\" class=\"dataframe\">\n",
       "  <thead>\n",
       "    <tr style=\"text-align: right;\">\n",
       "      <th></th>\n",
       "      <th>orderDate</th>\n",
       "      <th>productId</th>\n",
       "      <th>sellerId</th>\n",
       "      <th>totalPrice</th>\n",
       "      <th>quantityOrdered</th>\n",
       "      <th>countryCode</th>\n",
       "      <th>cancellationDate</th>\n",
       "      <th>cancellationReasonCode</th>\n",
       "      <th>promisedDeliveryDate</th>\n",
       "      <th>shipmentDate</th>\n",
       "      <th>...</th>\n",
       "      <th>currentCountryAvailabilitySeller</th>\n",
       "      <th>calculationDefinitive</th>\n",
       "      <th>noCancellation</th>\n",
       "      <th>onTimeDelivery</th>\n",
       "      <th>noCase</th>\n",
       "      <th>hasOneCase</th>\n",
       "      <th>hasMoreCases</th>\n",
       "      <th>noReturn</th>\n",
       "      <th>generalMatchClassification</th>\n",
       "      <th>detailedMatchClassification</th>\n",
       "    </tr>\n",
       "  </thead>\n",
       "  <tbody>\n",
       "    <tr>\n",
       "      <th>0</th>\n",
       "      <td>2019-10-20</td>\n",
       "      <td>9200000110033280</td>\n",
       "      <td>1336219</td>\n",
       "      <td>23.90</td>\n",
       "      <td>1</td>\n",
       "      <td>NL</td>\n",
       "      <td>NaN</td>\n",
       "      <td>NaN</td>\n",
       "      <td>2019-10-23</td>\n",
       "      <td>2019-10-21</td>\n",
       "      <td>...</td>\n",
       "      <td>ALL</td>\n",
       "      <td>True</td>\n",
       "      <td>True</td>\n",
       "      <td>NaN</td>\n",
       "      <td>True</td>\n",
       "      <td>False</td>\n",
       "      <td>False</td>\n",
       "      <td>False</td>\n",
       "      <td>KNOWN MILDLY UNHAPPY</td>\n",
       "      <td>UNHAPPY</td>\n",
       "    </tr>\n",
       "    <tr>\n",
       "      <th>1</th>\n",
       "      <td>2019-10-20</td>\n",
       "      <td>9200000001045430</td>\n",
       "      <td>818914</td>\n",
       "      <td>21.00</td>\n",
       "      <td>1</td>\n",
       "      <td>NL</td>\n",
       "      <td>NaN</td>\n",
       "      <td>NaN</td>\n",
       "      <td>2019-10-23</td>\n",
       "      <td>2019-10-21</td>\n",
       "      <td>...</td>\n",
       "      <td>NL</td>\n",
       "      <td>True</td>\n",
       "      <td>True</td>\n",
       "      <td>True</td>\n",
       "      <td>True</td>\n",
       "      <td>False</td>\n",
       "      <td>False</td>\n",
       "      <td>True</td>\n",
       "      <td>KNOWN HAPPY</td>\n",
       "      <td>KNOWN HAPPY</td>\n",
       "    </tr>\n",
       "    <tr>\n",
       "      <th>2</th>\n",
       "      <td>2019-06-27</td>\n",
       "      <td>9200000108257495</td>\n",
       "      <td>1422905</td>\n",
       "      <td>15.95</td>\n",
       "      <td>1</td>\n",
       "      <td>BE</td>\n",
       "      <td>NaN</td>\n",
       "      <td>NaN</td>\n",
       "      <td>2019-06-28</td>\n",
       "      <td>2019-06-27</td>\n",
       "      <td>...</td>\n",
       "      <td>NL</td>\n",
       "      <td>True</td>\n",
       "      <td>True</td>\n",
       "      <td>True</td>\n",
       "      <td>True</td>\n",
       "      <td>False</td>\n",
       "      <td>False</td>\n",
       "      <td>True</td>\n",
       "      <td>KNOWN HAPPY</td>\n",
       "      <td>KNOWN HAPPY</td>\n",
       "    </tr>\n",
       "    <tr>\n",
       "      <th>3</th>\n",
       "      <td>2019-01-14</td>\n",
       "      <td>9200000074971017</td>\n",
       "      <td>1176933</td>\n",
       "      <td>19.44</td>\n",
       "      <td>1</td>\n",
       "      <td>NL</td>\n",
       "      <td>NaN</td>\n",
       "      <td>NaN</td>\n",
       "      <td>2019-01-15</td>\n",
       "      <td>2019-01-14</td>\n",
       "      <td>...</td>\n",
       "      <td>NL</td>\n",
       "      <td>True</td>\n",
       "      <td>True</td>\n",
       "      <td>False</td>\n",
       "      <td>True</td>\n",
       "      <td>False</td>\n",
       "      <td>False</td>\n",
       "      <td>True</td>\n",
       "      <td>KNOWN MILDLY UNHAPPY</td>\n",
       "      <td>UNHAPPY</td>\n",
       "    </tr>\n",
       "    <tr>\n",
       "      <th>4</th>\n",
       "      <td>2019-05-01</td>\n",
       "      <td>9200000036267222</td>\n",
       "      <td>1331315</td>\n",
       "      <td>33.95</td>\n",
       "      <td>1</td>\n",
       "      <td>NL</td>\n",
       "      <td>NaN</td>\n",
       "      <td>NaN</td>\n",
       "      <td>2019-05-03</td>\n",
       "      <td>2019-05-02</td>\n",
       "      <td>...</td>\n",
       "      <td>NL</td>\n",
       "      <td>True</td>\n",
       "      <td>True</td>\n",
       "      <td>True</td>\n",
       "      <td>True</td>\n",
       "      <td>False</td>\n",
       "      <td>False</td>\n",
       "      <td>True</td>\n",
       "      <td>KNOWN HAPPY</td>\n",
       "      <td>KNOWN HAPPY</td>\n",
       "    </tr>\n",
       "    <tr>\n",
       "      <th>...</th>\n",
       "      <td>...</td>\n",
       "      <td>...</td>\n",
       "      <td>...</td>\n",
       "      <td>...</td>\n",
       "      <td>...</td>\n",
       "      <td>...</td>\n",
       "      <td>...</td>\n",
       "      <td>...</td>\n",
       "      <td>...</td>\n",
       "      <td>...</td>\n",
       "      <td>...</td>\n",
       "      <td>...</td>\n",
       "      <td>...</td>\n",
       "      <td>...</td>\n",
       "      <td>...</td>\n",
       "      <td>...</td>\n",
       "      <td>...</td>\n",
       "      <td>...</td>\n",
       "      <td>...</td>\n",
       "      <td>...</td>\n",
       "      <td>...</td>\n",
       "    </tr>\n",
       "    <tr>\n",
       "      <th>4755370</th>\n",
       "      <td>2020-09-19</td>\n",
       "      <td>9200000081351201</td>\n",
       "      <td>1349560</td>\n",
       "      <td>12.68</td>\n",
       "      <td>2</td>\n",
       "      <td>BE</td>\n",
       "      <td>NaN</td>\n",
       "      <td>NaN</td>\n",
       "      <td>2020-09-28</td>\n",
       "      <td>2020-09-21</td>\n",
       "      <td>...</td>\n",
       "      <td>BE</td>\n",
       "      <td>True</td>\n",
       "      <td>True</td>\n",
       "      <td>NaN</td>\n",
       "      <td>True</td>\n",
       "      <td>False</td>\n",
       "      <td>False</td>\n",
       "      <td>True</td>\n",
       "      <td>UNKNOWN</td>\n",
       "      <td>UNKNOWN</td>\n",
       "    </tr>\n",
       "    <tr>\n",
       "      <th>4755371</th>\n",
       "      <td>2020-08-04</td>\n",
       "      <td>9200000119449753</td>\n",
       "      <td>1349560</td>\n",
       "      <td>6.70</td>\n",
       "      <td>1</td>\n",
       "      <td>BE</td>\n",
       "      <td>NaN</td>\n",
       "      <td>NaN</td>\n",
       "      <td>2020-08-11</td>\n",
       "      <td>2020-08-05</td>\n",
       "      <td>...</td>\n",
       "      <td>BE</td>\n",
       "      <td>True</td>\n",
       "      <td>True</td>\n",
       "      <td>NaN</td>\n",
       "      <td>True</td>\n",
       "      <td>False</td>\n",
       "      <td>False</td>\n",
       "      <td>False</td>\n",
       "      <td>KNOWN MILDLY UNHAPPY</td>\n",
       "      <td>UNHAPPY</td>\n",
       "    </tr>\n",
       "    <tr>\n",
       "      <th>4755372</th>\n",
       "      <td>2020-07-30</td>\n",
       "      <td>9200000081351201</td>\n",
       "      <td>1349560</td>\n",
       "      <td>23.25</td>\n",
       "      <td>3</td>\n",
       "      <td>BE</td>\n",
       "      <td>NaN</td>\n",
       "      <td>NaN</td>\n",
       "      <td>2020-08-06</td>\n",
       "      <td>2020-07-31</td>\n",
       "      <td>...</td>\n",
       "      <td>BE</td>\n",
       "      <td>True</td>\n",
       "      <td>True</td>\n",
       "      <td>NaN</td>\n",
       "      <td>True</td>\n",
       "      <td>False</td>\n",
       "      <td>False</td>\n",
       "      <td>True</td>\n",
       "      <td>UNKNOWN</td>\n",
       "      <td>UNKNOWN</td>\n",
       "    </tr>\n",
       "    <tr>\n",
       "      <th>4755373</th>\n",
       "      <td>2020-07-30</td>\n",
       "      <td>9200000081351201</td>\n",
       "      <td>1349560</td>\n",
       "      <td>23.25</td>\n",
       "      <td>3</td>\n",
       "      <td>BE</td>\n",
       "      <td>NaN</td>\n",
       "      <td>NaN</td>\n",
       "      <td>2020-08-06</td>\n",
       "      <td>2020-07-31</td>\n",
       "      <td>...</td>\n",
       "      <td>BE</td>\n",
       "      <td>True</td>\n",
       "      <td>True</td>\n",
       "      <td>NaN</td>\n",
       "      <td>True</td>\n",
       "      <td>False</td>\n",
       "      <td>False</td>\n",
       "      <td>True</td>\n",
       "      <td>UNKNOWN</td>\n",
       "      <td>UNKNOWN</td>\n",
       "    </tr>\n",
       "    <tr>\n",
       "      <th>4755374</th>\n",
       "      <td>2020-10-25</td>\n",
       "      <td>9200000081351201</td>\n",
       "      <td>1349560</td>\n",
       "      <td>6.74</td>\n",
       "      <td>1</td>\n",
       "      <td>BE</td>\n",
       "      <td>NaN</td>\n",
       "      <td>NaN</td>\n",
       "      <td>2020-11-02</td>\n",
       "      <td>2020-10-25</td>\n",
       "      <td>...</td>\n",
       "      <td>BE</td>\n",
       "      <td>True</td>\n",
       "      <td>True</td>\n",
       "      <td>NaN</td>\n",
       "      <td>True</td>\n",
       "      <td>False</td>\n",
       "      <td>False</td>\n",
       "      <td>True</td>\n",
       "      <td>UNKNOWN</td>\n",
       "      <td>UNKNOWN</td>\n",
       "    </tr>\n",
       "  </tbody>\n",
       "</table>\n",
       "<p>4755375 rows × 38 columns</p>\n",
       "</div>"
      ],
      "text/plain": [
       "          orderDate         productId  sellerId  totalPrice  quantityOrdered  \\\n",
       "0        2019-10-20  9200000110033280   1336219       23.90                1   \n",
       "1        2019-10-20  9200000001045430    818914       21.00                1   \n",
       "2        2019-06-27  9200000108257495   1422905       15.95                1   \n",
       "3        2019-01-14  9200000074971017   1176933       19.44                1   \n",
       "4        2019-05-01  9200000036267222   1331315       33.95                1   \n",
       "...             ...               ...       ...         ...              ...   \n",
       "4755370  2020-09-19  9200000081351201   1349560       12.68                2   \n",
       "4755371  2020-08-04  9200000119449753   1349560        6.70                1   \n",
       "4755372  2020-07-30  9200000081351201   1349560       23.25                3   \n",
       "4755373  2020-07-30  9200000081351201   1349560       23.25                3   \n",
       "4755374  2020-10-25  9200000081351201   1349560        6.74                1   \n",
       "\n",
       "        countryCode cancellationDate cancellationReasonCode  \\\n",
       "0                NL              NaN                    NaN   \n",
       "1                NL              NaN                    NaN   \n",
       "2                BE              NaN                    NaN   \n",
       "3                NL              NaN                    NaN   \n",
       "4                NL              NaN                    NaN   \n",
       "...             ...              ...                    ...   \n",
       "4755370          BE              NaN                    NaN   \n",
       "4755371          BE              NaN                    NaN   \n",
       "4755372          BE              NaN                    NaN   \n",
       "4755373          BE              NaN                    NaN   \n",
       "4755374          BE              NaN                    NaN   \n",
       "\n",
       "        promisedDeliveryDate shipmentDate  ...  \\\n",
       "0                 2019-10-23   2019-10-21  ...   \n",
       "1                 2019-10-23   2019-10-21  ...   \n",
       "2                 2019-06-28   2019-06-27  ...   \n",
       "3                 2019-01-15   2019-01-14  ...   \n",
       "4                 2019-05-03   2019-05-02  ...   \n",
       "...                      ...          ...  ...   \n",
       "4755370           2020-09-28   2020-09-21  ...   \n",
       "4755371           2020-08-11   2020-08-05  ...   \n",
       "4755372           2020-08-06   2020-07-31  ...   \n",
       "4755373           2020-08-06   2020-07-31  ...   \n",
       "4755374           2020-11-02   2020-10-25  ...   \n",
       "\n",
       "        currentCountryAvailabilitySeller calculationDefinitive noCancellation  \\\n",
       "0                                    ALL                  True           True   \n",
       "1                                     NL                  True           True   \n",
       "2                                     NL                  True           True   \n",
       "3                                     NL                  True           True   \n",
       "4                                     NL                  True           True   \n",
       "...                                  ...                   ...            ...   \n",
       "4755370                               BE                  True           True   \n",
       "4755371                               BE                  True           True   \n",
       "4755372                               BE                  True           True   \n",
       "4755373                               BE                  True           True   \n",
       "4755374                               BE                  True           True   \n",
       "\n",
       "        onTimeDelivery noCase hasOneCase  hasMoreCases noReturn  \\\n",
       "0                  NaN   True      False         False    False   \n",
       "1                 True   True      False         False     True   \n",
       "2                 True   True      False         False     True   \n",
       "3                False   True      False         False     True   \n",
       "4                 True   True      False         False     True   \n",
       "...                ...    ...        ...           ...      ...   \n",
       "4755370            NaN   True      False         False     True   \n",
       "4755371            NaN   True      False         False    False   \n",
       "4755372            NaN   True      False         False     True   \n",
       "4755373            NaN   True      False         False     True   \n",
       "4755374            NaN   True      False         False     True   \n",
       "\n",
       "         generalMatchClassification detailedMatchClassification  \n",
       "0              KNOWN MILDLY UNHAPPY                     UNHAPPY  \n",
       "1                       KNOWN HAPPY                 KNOWN HAPPY  \n",
       "2                       KNOWN HAPPY                 KNOWN HAPPY  \n",
       "3              KNOWN MILDLY UNHAPPY                     UNHAPPY  \n",
       "4                       KNOWN HAPPY                 KNOWN HAPPY  \n",
       "...                             ...                         ...  \n",
       "4755370                     UNKNOWN                     UNKNOWN  \n",
       "4755371        KNOWN MILDLY UNHAPPY                     UNHAPPY  \n",
       "4755372                     UNKNOWN                     UNKNOWN  \n",
       "4755373                     UNKNOWN                     UNKNOWN  \n",
       "4755374                     UNKNOWN                     UNKNOWN  \n",
       "\n",
       "[4755375 rows x 38 columns]"
      ]
     },
     "execution_count": 14,
     "metadata": {},
     "output_type": "execute_result"
    }
   ],
   "source": [
    "data_all"
   ]
  },
  {
   "cell_type": "code",
   "execution_count": 29,
   "metadata": {},
   "outputs": [
    {
     "data": {
      "text/plain": [
       "KNOWN HAPPY    2732292\n",
       "UNKNOWN        1387194\n",
       "UNHAPPY         635889\n",
       "Name: detailedMatchClassification, dtype: int64"
      ]
     },
     "execution_count": 29,
     "metadata": {},
     "output_type": "execute_result"
    }
   ],
   "source": [
    "data_all['detailedMatchClassification'].value_counts()"
   ]
  },
  {
   "cell_type": "code",
   "execution_count": 32,
   "metadata": {},
   "outputs": [
    {
     "data": {
      "text/plain": [
       "orderDate                           4755375\n",
       "productId                           4755375\n",
       "sellerId                            4755375\n",
       "totalPrice                          4755375\n",
       "quantityOrdered                     4755375\n",
       "countryCode                         4755375\n",
       "cancellationDate                      99783\n",
       "cancellationReasonCode                99783\n",
       "promisedDeliveryDate                4754607\n",
       "shipmentDate                        4655856\n",
       "transporterCode                     4640391\n",
       "transporterName                     4640391\n",
       "transporterNameOther                  79701\n",
       "datetTimeFirstDeliveryMoment        3161466\n",
       "fulfilmentType                      4755375\n",
       "startDateCase                        215166\n",
       "cntDistinctCaseIds                   215166\n",
       "returnDateTime                       308601\n",
       "quanityReturned                      305250\n",
       "returnCode                             6747\n",
       "productTitle                        4755375\n",
       "brickName                           4755375\n",
       "chunkName                           4732266\n",
       "productGroup                        4755375\n",
       "productSubGroup                     4755375\n",
       "productSubSubGroup                  4755375\n",
       "registrationDateSeller              4755021\n",
       "countryOriginSeller                 4755021\n",
       "currentCountryAvailabilitySeller    4755021\n",
       "calculationDefinitive               4755375\n",
       "noCancellation                      4755375\n",
       "onTimeDelivery                      3156249\n",
       "noCase                              4755375\n",
       "hasOneCase                          4755375\n",
       "hasMoreCases                        4755375\n",
       "noReturn                            4755375\n",
       "generalMatchClassification          4755375\n",
       "detailedMatchClassification         4755375\n",
       "dtype: int64"
      ]
     },
     "execution_count": 32,
     "metadata": {},
     "output_type": "execute_result"
    }
   ],
   "source": [
    "data_all.count()"
   ]
  },
  {
   "cell_type": "code",
   "execution_count": 31,
   "metadata": {},
   "outputs": [
    {
     "data": {
      "text/plain": [
       "NL    3750660\n",
       "BE    1004715\n",
       "Name: countryCode, dtype: int64"
      ]
     },
     "execution_count": 31,
     "metadata": {},
     "output_type": "execute_result"
    }
   ],
   "source": [
    "data_all['countryCode'].value_counts()"
   ]
  },
  {
   "cell_type": "code",
   "execution_count": 33,
   "metadata": {},
   "outputs": [
    {
     "data": {
      "text/plain": [
       "True    4755375\n",
       "Name: calculationDefinitive, dtype: int64"
      ]
     },
     "execution_count": 33,
     "metadata": {},
     "output_type": "execute_result"
    }
   ],
   "source": [
    "data_all['calculationDefinitive'].value_counts()"
   ]
  },
  {
   "cell_type": "code",
   "execution_count": 35,
   "metadata": {},
   "outputs": [
    {
     "data": {
      "text/plain": [
       "True     4723116\n",
       "False      32259\n",
       "Name: noCancellation, dtype: int64"
      ]
     },
     "execution_count": 35,
     "metadata": {},
     "output_type": "execute_result"
    }
   ],
   "source": [
    "data_all['noCancellation'].value_counts()"
   ]
  },
  {
   "cell_type": "code",
   "execution_count": 36,
   "metadata": {},
   "outputs": [
    {
     "data": {
      "text/plain": [
       "CUST_FE                        63720\n",
       "SELLER_OUT_OF_STOCK            10989\n",
       "SELLER_NOT_AVAIL_IN_TIME        6777\n",
       "SELLER_EXP                      5754\n",
       "CUST_CS                         2976\n",
       "SELLER_UNDELIV                  2865\n",
       "SELLER_TECH_ISSUE               2400\n",
       "SELLER_BAD_CONDITION             834\n",
       "SELLER_OTHER                     825\n",
       "TECH_ISSUE                       390\n",
       "SELLER_INCORRECT_PRICE           375\n",
       "SELLER_HIGHER_SHIPCOST           369\n",
       "SELLER_UNFINDABLE_ITEM           348\n",
       "SELLER_AFTERCONFIRMATION         336\n",
       "SELLER_ORDERED_TWICE             324\n",
       "SELLER_REQ_BY_CUSTOMER           237\n",
       "SELLER_BANNED                    207\n",
       "SELLER_RETAIN_ITEM                18\n",
       "PS_OTHER                          12\n",
       "SELLER_NO_BOL_GUARANTEE            9\n",
       "SUPPLIER_BE                        9\n",
       "UNDELIV                            6\n",
       "PS_CONTENT_CHANGED_BY_OTHER        3\n",
       "Name: cancellationReasonCode, dtype: int64"
      ]
     },
     "execution_count": 36,
     "metadata": {},
     "output_type": "execute_result"
    }
   ],
   "source": [
    "data_all['cancellationReasonCode'].value_counts()"
   ]
  },
  {
   "cell_type": "code",
   "execution_count": 37,
   "metadata": {},
   "outputs": [
    {
     "data": {
      "text/plain": [
       "NO_REASON_PROVIDED               2283\n",
       "OTHER                            1824\n",
       "WRONG_SIZE_ORDERED                882\n",
       "WRONG_ARTICLE_ORDERED             720\n",
       "ARTICLE_BROKEN                    363\n",
       "ARTICLE_DAMAGED                   243\n",
       "WRONG_ARTICLE_RECEIVED            213\n",
       "INCORRECT_PRODUCT_INFORMATION      84\n",
       "ARTICLE_INCOMPLETE                 57\n",
       "ARTICLE_DELIVERY_TOO_LATE          57\n",
       "NO_RETURN_CODE_AVAILABLE           21\n",
       "Name: returnCode, dtype: int64"
      ]
     },
     "execution_count": 37,
     "metadata": {},
     "output_type": "execute_result"
    }
   ],
   "source": [
    "data_all['returnCode'].value_counts()"
   ]
  },
  {
   "cell_type": "code",
   "execution_count": 38,
   "metadata": {},
   "outputs": [
    {
     "data": {
      "text/plain": [
       "True     2978928\n",
       "False     177321\n",
       "Name: onTimeDelivery, dtype: int64"
      ]
     },
     "execution_count": 38,
     "metadata": {},
     "output_type": "execute_result"
    }
   ],
   "source": [
    "data_all['onTimeDelivery'].value_counts()"
   ]
  },
  {
   "cell_type": "code",
   "execution_count": 39,
   "metadata": {},
   "outputs": [
    {
     "data": {
      "text/plain": [
       "True     4540209\n",
       "False     215166\n",
       "Name: noCase, dtype: int64"
      ]
     },
     "execution_count": 39,
     "metadata": {},
     "output_type": "execute_result"
    }
   ],
   "source": [
    "data_all['noCase'].value_counts()"
   ]
  },
  {
   "cell_type": "code",
   "execution_count": 40,
   "metadata": {},
   "outputs": [
    {
     "data": {
      "text/plain": [
       "True     4458417\n",
       "False     296958\n",
       "Name: noReturn, dtype: int64"
      ]
     },
     "execution_count": 40,
     "metadata": {},
     "output_type": "execute_result"
    }
   ],
   "source": [
    "data_all['noReturn'].value_counts()"
   ]
  },
  {
   "cell_type": "code",
   "execution_count": 43,
   "metadata": {},
   "outputs": [
    {
     "data": {
      "text/plain": [
       "NL    4595817\n",
       "BE     139605\n",
       "DE      19599\n",
       "Name: countryOriginSeller, dtype: int64"
      ]
     },
     "execution_count": 43,
     "metadata": {},
     "output_type": "execute_result"
    }
   ],
   "source": [
    "data_all['countryOriginSeller'].value_counts()"
   ]
  },
  {
   "cell_type": "code",
   "execution_count": 71,
   "metadata": {},
   "outputs": [
    {
     "data": {
      "text/plain": [
       "orderDate                           datetime64[ns]\n",
       "productId                                   object\n",
       "sellerId                                    object\n",
       "totalPrice                                 float64\n",
       "quantityOrdered                              int64\n",
       "countryCode                                 object\n",
       "cancellationDate                    datetime64[ns]\n",
       "cancellationReasonCode                      object\n",
       "promisedDeliveryDate                datetime64[ns]\n",
       "shipmentDate                        datetime64[ns]\n",
       "transporterCode                             object\n",
       "transporterName                             object\n",
       "transporterNameOther                        object\n",
       "datetTimeFirstDeliveryMoment        datetime64[ns]\n",
       "fulfilmentType                              object\n",
       "startDateCase                       datetime64[ns]\n",
       "cntDistinctCaseIds                         float64\n",
       "returnDateTime                      datetime64[ns]\n",
       "quanityReturned                            float64\n",
       "returnCode                                  object\n",
       "productTitle                                object\n",
       "brickName                                   object\n",
       "chunkName                                   object\n",
       "productGroup                                object\n",
       "productSubGroup                             object\n",
       "productSubSubGroup                          object\n",
       "registrationDateSeller              datetime64[ns]\n",
       "countryOriginSeller                         object\n",
       "currentCountryAvailabilitySeller            object\n",
       "calculationDefinitive                         bool\n",
       "noCancellation                                bool\n",
       "onTimeDelivery                              object\n",
       "noCase                                        bool\n",
       "hasOneCase                                    bool\n",
       "hasMoreCases                                  bool\n",
       "noReturn                                      bool\n",
       "generalMatchClassification                  object\n",
       "detailedMatchClassification                 object\n",
       "dtype: object"
      ]
     },
     "execution_count": 71,
     "metadata": {},
     "output_type": "execute_result"
    }
   ],
   "source": [
    "data_all.dtypes"
   ]
  },
  {
   "cell_type": "code",
   "execution_count": 48,
   "metadata": {},
   "outputs": [
    {
     "data": {
      "text/plain": [
       "True     2978928\n",
       "False     177321\n",
       "Name: onTimeDelivery, dtype: int64"
      ]
     },
     "execution_count": 48,
     "metadata": {},
     "output_type": "execute_result"
    }
   ],
   "source": [
    "data_all['onTimeDelivery'].value_counts()"
   ]
  },
  {
   "cell_type": "code",
   "execution_count": 70,
   "metadata": {},
   "outputs": [],
   "source": [
    "data_all['sellerId'] = data_all['sellerId'].astype('object')"
   ]
  },
  {
   "cell_type": "code",
   "execution_count": 59,
   "metadata": {},
   "outputs": [
    {
     "data": {
      "text/plain": [
       "2020-11-27    20400\n",
       "2020-11-30    18393\n",
       "2020-11-29    17565\n",
       "2020-11-25    17541\n",
       "2020-11-26    17019\n",
       "              ...  \n",
       "2019-03-30     3240\n",
       "2019-01-19     3213\n",
       "2019-02-16     2952\n",
       "2019-04-21     2652\n",
       "2019-04-20     2553\n",
       "Name: orderDate, Length: 708, dtype: int64"
      ]
     },
     "execution_count": 59,
     "metadata": {},
     "output_type": "execute_result"
    }
   ],
   "source": [
    "data_all['orderDate'].value_counts()"
   ]
  },
  {
   "cell_type": "code",
   "execution_count": 74,
   "metadata": {},
   "outputs": [],
   "source": [
    "data_all = data_all.sort_values('orderDate')"
   ]
  },
  {
   "cell_type": "code",
   "execution_count": 83,
   "metadata": {},
   "outputs": [],
   "source": [
    "data_all = data_all.reset_index(drop=True)"
   ]
  },
  {
   "cell_type": "code",
   "execution_count": 84,
   "metadata": {},
   "outputs": [],
   "source": [
    "y = data_all['detailedMatchClassification']"
   ]
  },
  {
   "cell_type": "code",
   "execution_count": 85,
   "metadata": {},
   "outputs": [
    {
     "data": {
      "text/html": [
       "<div>\n",
       "<style scoped>\n",
       "    .dataframe tbody tr th:only-of-type {\n",
       "        vertical-align: middle;\n",
       "    }\n",
       "\n",
       "    .dataframe tbody tr th {\n",
       "        vertical-align: top;\n",
       "    }\n",
       "\n",
       "    .dataframe thead th {\n",
       "        text-align: right;\n",
       "    }\n",
       "</style>\n",
       "<table border=\"1\" class=\"dataframe\">\n",
       "  <thead>\n",
       "    <tr style=\"text-align: right;\">\n",
       "      <th></th>\n",
       "      <th>sellerId</th>\n",
       "      <th>productId</th>\n",
       "    </tr>\n",
       "  </thead>\n",
       "  <tbody>\n",
       "    <tr>\n",
       "      <th>0</th>\n",
       "      <td>717204</td>\n",
       "      <td>9200000021792374</td>\n",
       "    </tr>\n",
       "    <tr>\n",
       "      <th>1</th>\n",
       "      <td>916297</td>\n",
       "      <td>9200000075177557</td>\n",
       "    </tr>\n",
       "    <tr>\n",
       "      <th>2</th>\n",
       "      <td>1237542</td>\n",
       "      <td>9200000065419221</td>\n",
       "    </tr>\n",
       "    <tr>\n",
       "      <th>3</th>\n",
       "      <td>1403339</td>\n",
       "      <td>9200000079850407</td>\n",
       "    </tr>\n",
       "    <tr>\n",
       "      <th>4</th>\n",
       "      <td>1105565</td>\n",
       "      <td>9200000027004367</td>\n",
       "    </tr>\n",
       "    <tr>\n",
       "      <th>...</th>\n",
       "      <td>...</td>\n",
       "      <td>...</td>\n",
       "    </tr>\n",
       "    <tr>\n",
       "      <th>4755370</th>\n",
       "      <td>1237542</td>\n",
       "      <td>9300000017013263</td>\n",
       "    </tr>\n",
       "    <tr>\n",
       "      <th>4755371</th>\n",
       "      <td>1237542</td>\n",
       "      <td>9300000017979372</td>\n",
       "    </tr>\n",
       "    <tr>\n",
       "      <th>4755372</th>\n",
       "      <td>1158662</td>\n",
       "      <td>9200000109491748</td>\n",
       "    </tr>\n",
       "    <tr>\n",
       "      <th>4755373</th>\n",
       "      <td>1269313</td>\n",
       "      <td>9000000011616846</td>\n",
       "    </tr>\n",
       "    <tr>\n",
       "      <th>4755374</th>\n",
       "      <td>1521385</td>\n",
       "      <td>9300000001967999</td>\n",
       "    </tr>\n",
       "  </tbody>\n",
       "</table>\n",
       "<p>4755375 rows × 2 columns</p>\n",
       "</div>"
      ],
      "text/plain": [
       "        sellerId         productId\n",
       "0         717204  9200000021792374\n",
       "1         916297  9200000075177557\n",
       "2        1237542  9200000065419221\n",
       "3        1403339  9200000079850407\n",
       "4        1105565  9200000027004367\n",
       "...          ...               ...\n",
       "4755370  1237542  9300000017013263\n",
       "4755371  1237542  9300000017979372\n",
       "4755372  1158662  9200000109491748\n",
       "4755373  1269313  9000000011616846\n",
       "4755374  1521385  9300000001967999\n",
       "\n",
       "[4755375 rows x 2 columns]"
      ]
     },
     "execution_count": 85,
     "metadata": {},
     "output_type": "execute_result"
    }
   ],
   "source": [
    "data_all[['sellerId', 'productId']]"
   ]
  },
  {
   "cell_type": "code",
   "execution_count": null,
   "metadata": {},
   "outputs": [],
   "source": []
  }
 ],
 "metadata": {
  "kernelspec": {
   "display_name": "Python 3",
   "language": "python",
   "name": "python3"
  },
  "language_info": {
   "codemirror_mode": {
    "name": "ipython",
    "version": 3
   },
   "file_extension": ".py",
   "mimetype": "text/x-python",
   "name": "python",
   "nbconvert_exporter": "python",
   "pygments_lexer": "ipython3",
   "version": "3.8.3"
  }
 },
 "nbformat": 4,
 "nbformat_minor": 4
}
