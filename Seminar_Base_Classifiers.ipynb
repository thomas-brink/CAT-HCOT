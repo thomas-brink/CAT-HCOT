{
 "cells": [
  {
   "cell_type": "code",
   "execution_count": 68,
   "id": "inclusive-shopper",
   "metadata": {
    "execution": {
     "iopub.execute_input": "2021-01-29T22:37:30.844605Z",
     "iopub.status.busy": "2021-01-29T22:37:30.843602Z",
     "iopub.status.idle": "2021-01-29T22:37:36.641124Z",
     "shell.execute_reply": "2021-01-29T22:37:36.640602Z",
     "shell.execute_reply.started": "2021-01-29T22:37:30.844605Z"
    }
   },
   "outputs": [
    {
     "name": "stdin",
     "output_type": "stream",
     "text": [
      "Once deleted, variables cannot be recovered. Proceed (y/[n])?  y\n"
     ]
    }
   ],
   "source": [
    "%reset"
   ]
  },
  {
   "cell_type": "code",
   "execution_count": 1,
   "id": "effective-retreat",
   "metadata": {
    "execution": {
     "iopub.execute_input": "2021-01-31T11:37:50.225588Z",
     "iopub.status.busy": "2021-01-31T11:37:50.225588Z",
     "iopub.status.idle": "2021-01-31T11:37:58.155506Z",
     "shell.execute_reply": "2021-01-31T11:37:58.154598Z",
     "shell.execute_reply.started": "2021-01-31T11:37:50.225588Z"
    }
   },
   "outputs": [],
   "source": [
    "import pandas as pd\n",
    "import numpy as np\n",
    "import pyodbc as py\n",
    "\n",
    "import warnings\n",
    "\n",
    "from datetime import date, timedelta, datetime\n",
    "import time\n",
    "\n",
    "import matplotlib.pyplot as plt\n",
    "import seaborn as sns\n",
    "%matplotlib inline\n",
    "\n",
    "from sklearn import preprocessing\n",
    "from sklearn.utils import class_weight\n",
    "from sklearn.preprocessing import LabelEncoder\n",
    "from sklearn.preprocessing import OneHotEncoder\n",
    "from sklearn.model_selection import cross_val_predict\n",
    "from sklearn.model_selection import cross_validate, cross_val_score\n",
    "from sklearn.pipeline import Pipeline\n",
    "\n",
    "from sklearn import neighbors\n",
    "from sklearn import svm\n",
    "from sklearn.tree import DecisionTreeClassifier\n",
    "from sklearn.ensemble import RandomForestClassifier\n",
    "from sklearn.ensemble import BaggingClassifier\n",
    "from sklearn.ensemble import AdaBoostClassifier\n",
    "from sklearn.ensemble import GradientBoostingClassifier\n",
    "from sklearn.naive_bayes import GaussianNB\n",
    "from sklearn.naive_bayes import BernoulliNB\n",
    "from sklearn.experimental import enable_hist_gradient_boosting\n",
    "from sklearn.ensemble import HistGradientBoostingClassifier\n",
    "from sklearn import metrics\n",
    "from sklearn.linear_model import LogisticRegression\n",
    "\n",
    "from sklearn.model_selection import TimeSeriesSplit\n",
    "from sklearn.model_selection import KFold\n",
    "from sklearn.model_selection import StratifiedKFold\n",
    "\n",
    "from imblearn.over_sampling import SMOTE\n",
    "\n",
    "import keras\n",
    "import tensorflow as tf\n",
    "from tensorflow.keras.models import Sequential\n",
    "from tensorflow.keras.layers import Dense,Activation,Dropout\n",
    "from tensorflow.keras.wrappers.scikit_learn import KerasClassifier\n",
    "from keras.utils import np_utils\n",
    "\n",
    "import importlib\n",
    "import functions\n",
    "importlib.reload(functions)\n",
    "\n",
    "pd.set_option('display.max_columns', None)"
   ]
  },
  {
   "cell_type": "code",
   "execution_count": 2,
   "id": "mexican-sender",
   "metadata": {
    "execution": {
     "iopub.execute_input": "2021-01-31T11:38:02.288479Z",
     "iopub.status.busy": "2021-01-31T11:38:02.287479Z",
     "iopub.status.idle": "2021-01-31T11:38:02.307478Z",
     "shell.execute_reply": "2021-01-31T11:38:02.306478Z",
     "shell.execute_reply.started": "2021-01-31T11:38:02.287479Z"
    }
   },
   "outputs": [],
   "source": [
    "warnings.filterwarnings('ignore')"
   ]
  },
  {
   "cell_type": "markdown",
   "id": "driven-butterfly",
   "metadata": {},
   "source": [
    "# Data Loading"
   ]
  },
  {
   "cell_type": "markdown",
   "id": "inclusive-journal",
   "metadata": {},
   "source": [
    "## Option 1: via Data_Cleaning_Preparation code (preferred) -> load in .csv file"
   ]
  },
  {
   "cell_type": "code",
   "execution_count": 3,
   "id": "familiar-while",
   "metadata": {
    "execution": {
     "iopub.execute_input": "2021-01-31T15:03:56.329827Z",
     "iopub.status.busy": "2021-01-31T15:03:56.326830Z",
     "iopub.status.idle": "2021-01-31T15:05:01.520252Z",
     "shell.execute_reply": "2021-01-31T15:05:01.520252Z",
     "shell.execute_reply.started": "2021-01-31T15:03:56.328829Z"
    }
   },
   "outputs": [],
   "source": [
    "df = pd.read_csv('/Users/thoma/Documents/seminar_data/cleaned_prepared_data.csv', low_memory = True)"
   ]
  },
  {
   "cell_type": "code",
   "execution_count": 4,
   "id": "configured-jaguar",
   "metadata": {
    "execution": {
     "iopub.execute_input": "2021-01-31T15:12:59.062875Z",
     "iopub.status.busy": "2021-01-31T15:12:59.061836Z",
     "iopub.status.idle": "2021-01-31T15:13:16.057754Z",
     "shell.execute_reply": "2021-01-31T15:13:16.056750Z",
     "shell.execute_reply.started": "2021-01-31T15:12:59.062875Z"
    }
   },
   "outputs": [],
   "source": [
    "df['orderDate'] = pd.to_datetime(df['orderDate'])\n",
    "df['cancellationDate'] = pd.to_datetime(df['cancellationDate'])\n",
    "df['promisedDeliveryDate'] = pd.to_datetime(df['promisedDeliveryDate'])\n",
    "df['shipmentDate'] = pd.to_datetime(df['shipmentDate'])\n",
    "df['dateTimeFirstDeliveryMoment'] = pd.to_datetime(df['dateTimeFirstDeliveryMoment'])\n",
    "df['startDateCase'] = pd.to_datetime(df['startDateCase'])\n",
    "df['returnDateTime'] = pd.to_datetime(df['returnDateTime'])\n",
    "df['registrationDateSeller'] = pd.to_datetime(df['registrationDateSeller'])"
   ]
  },
  {
   "cell_type": "code",
   "execution_count": 5,
   "id": "matched-spirit",
   "metadata": {
    "execution": {
     "iopub.execute_input": "2021-01-31T15:13:16.058754Z",
     "iopub.status.busy": "2021-01-31T15:13:16.058754Z",
     "iopub.status.idle": "2021-01-31T15:13:16.073450Z",
     "shell.execute_reply": "2021-01-31T15:13:16.072951Z",
     "shell.execute_reply.started": "2021-01-31T15:13:16.058754Z"
    }
   },
   "outputs": [],
   "source": [
    "#Fixed Columns:\n",
    "DATE = ['orderDate']\n",
    "BASIC = ['totalPrice','quantityOrdered','fulfilmentByBol','countryCodeNL','countryOriginNL','countryOriginBE',\n",
    "        'countryOriginDE','productTitleLength','promisedDeliveryDays','partnerSellingDays', 'orderCorona']\n",
    "WEEK = ['orderMonday','orderTuesday','orderWednesday','orderThursday','orderFriday','orderSaturday','orderSunday']\n",
    "MONTH = ['orderJanuary','orderFebruary','orderMarch','orderApril','orderMay','orderJune',\n",
    "         'orderJuly','orderAugust','orderSeptember','orderOctober','orderNovember','orderDecember']\n",
    "YEAR = ['orderYear2020']\n",
    "GROUP = ['groupHealth','groupHome','groupSports','groupComputer','groupPets','groupToys','groupBooks', \n",
    "         'groupBaby', 'groupMusic', 'groupFood','groupOffice','groupFashion','groupOther','groupCar']\n",
    "\n",
    "#Dynamic Columns:\n",
    "TRANSPORTERX = ['transporterPOSTNL/X','transporterDHL/X','transporterDPD/X','transporterBRIEF/X','transporterOTHER/X']\n",
    "KNOWNX = ['caseKnownX','returnKnownX','cancellationKnownX','onTimeDeliveryKnownX','lateDeliveryKnownX']\n",
    "PRODUCTX = ['productOrderCountX','productTotalCountX','productTotalReturnedX','productReturnFractionX']\n",
    "SELLERX = ['sellerDailyOrdersX']\n",
    "\n",
    "#Determinants\n",
    "DETERMINANT = ['noReturn', 'noCase', 'noCancellation', 'onTimeDelivery']\n",
    "\n",
    "#Classifications\n",
    "CLASSIFICATION = ['generalMatchClassification','detailedMatchClassification','binaryMatchClassification','determinantClassification']"
   ]
  },
  {
   "cell_type": "markdown",
   "id": "interesting-rapid",
   "metadata": {},
   "source": [
    "## Option 2: via direct sql connection"
   ]
  },
  {
   "cell_type": "code",
   "execution_count": 5,
   "id": "unlimited-blast",
   "metadata": {
    "jupyter": {
     "source_hidden": true
    }
   },
   "outputs": [],
   "source": [
    "connection_string = (    \n",
    "    r'Driver={SQL Server};'\n",
    "    r'Server=LAPTOP-LD74USH0\\SQLEXPRESS;'\n",
    "    r'Integrated Security=SSPI;'\n",
    "    r'Trusted_Connection=yes;'\n",
    ")\n",
    "pd.set_option('display.max_columns', None)"
   ]
  },
  {
   "cell_type": "code",
   "execution_count": 6,
   "id": "colored-receiver",
   "metadata": {
    "jupyter": {
     "source_hidden": true
    }
   },
   "outputs": [],
   "source": [
    "def sql2df(query, params=[], parse_dates=None, dsn='SQLEXPRESS'):\n",
    "        with py.connect(connection_string, readonly=True) as conn:\n",
    "            return pd.read_sql(query, conn, params=params, parse_dates=parse_dates)"
   ]
  },
  {
   "cell_type": "code",
   "execution_count": 7,
   "id": "disciplinary-account",
   "metadata": {
    "jupyter": {
     "source_hidden": true
    }
   },
   "outputs": [],
   "source": [
    "# First work with random top 100.000 (to reduce computation time) - 45secs\n",
    "\n",
    "df = sql2df('''\n",
    "SELECT TOP 500000 * FROM Seminar.dbo.cleaned_bol_data_full\n",
    "ORDER BY newid();\n",
    "''')\n"
   ]
  },
  {
   "cell_type": "code",
   "execution_count": 321,
   "id": "federal-kinase",
   "metadata": {
    "jupyter": {
     "source_hidden": true
    }
   },
   "outputs": [],
   "source": [
    "# 9.5 minutes \n",
    "\n",
    "df = sql2df('''\n",
    "SELECT * FROM Seminar.dbo.cleaned_bol_data_full;\n",
    "''')"
   ]
  },
  {
   "cell_type": "code",
   "execution_count": 8,
   "id": "adverse-luxembourg",
   "metadata": {
    "collapsed": true,
    "jupyter": {
     "outputs_hidden": true,
     "source_hidden": true
    }
   },
   "outputs": [
    {
     "data": {
      "text/plain": [
       "orderDate             datetime64[ns]\n",
       "productId                     object\n",
       "sellerId                      object\n",
       "totalPrice                   float64\n",
       "quantityOrdered                int64\n",
       "                           ...      \n",
       "orderSeptember                  bool\n",
       "orderOctober                    bool\n",
       "orderNovember                   bool\n",
       "orderDecember                   bool\n",
       "productTitleLength             int64\n",
       "Length: 78, dtype: object"
      ]
     },
     "execution_count": 8,
     "metadata": {},
     "output_type": "execute_result"
    }
   ],
   "source": [
    "#Change type of columns\n",
    "dtype = {'calculationDefinitive': bool,\n",
    "         'noCancellation': bool,\n",
    "         'noCase': bool,\n",
    "         'hasOneCase': bool,\n",
    "         'hasMoreCases': bool,\n",
    "         'noReturn': bool,\n",
    "         'orderWeekend': bool,\n",
    "         'orderCorona': bool,\n",
    "         'countryCodeNL': bool,\n",
    "         'fulfilmentByBol': bool,\n",
    "         'countryOriginNL': bool,\n",
    "         'countryOriginBE': bool,\n",
    "         'countryOriginDE': bool,\n",
    "         'orderMonday': bool,\n",
    "         'orderTuesday': bool,\n",
    "         'orderWednesday': bool,\n",
    "         'orderThursday': bool,\n",
    "         'orderFriday': bool,\n",
    "         'orderSaturday': bool,\n",
    "         'orderSunday': bool,\n",
    "         'orderJanuary': bool,\n",
    "         'orderFebruary': bool,\n",
    "         'orderMarch': bool,\n",
    "         'orderApril': bool,\n",
    "         'orderMay': bool,\n",
    "         'orderJune': bool,\n",
    "         'orderJuly': bool,\n",
    "         'orderAugust': bool,\n",
    "         'orderSeptember': bool,\n",
    "         'orderOctober': bool,\n",
    "         'orderNovember': bool,\n",
    "         'orderDecember': bool}\n",
    "\n",
    "df = df.astype(dtype)\n",
    "\n",
    "#Transform dates to date-type\n",
    "df['orderDate'] = pd.to_datetime(df['orderDate'], errors='coerce')\n",
    "df['cancellationDate'] = pd.to_datetime(df['cancellationDate'], errors='coerce')\n",
    "df['promisedDeliveryDate'] = pd.to_datetime(df['promisedDeliveryDate'], errors='coerce')\n",
    "df['shipmentDate'] = pd.to_datetime(df['shipmentDate'], errors='coerce')\n",
    "df['dateTimeFirstDeliveryMoment'] = pd.to_datetime(df['dateTimeFirstDeliveryMoment'], errors='coerce')\n",
    "df['startDateCase'] = pd.to_datetime(df['startDateCase'], errors='coerce')\n",
    "df['returnDateTime'] = pd.to_datetime(df['returnDateTime'], errors='coerce')\n",
    "df['registrationDateSeller'] = pd.to_datetime(df['registrationDateSeller'], errors='coerce')\n",
    "\n",
    "df.dtypes"
   ]
  },
  {
   "cell_type": "markdown",
   "id": "metallic-opportunity",
   "metadata": {
    "jupyter": {
     "source_hidden": true
    }
   },
   "source": [
    "#### Add variables"
   ]
  },
  {
   "cell_type": "code",
   "execution_count": 9,
   "id": "danish-organic",
   "metadata": {
    "jupyter": {
     "source_hidden": true
    }
   },
   "outputs": [],
   "source": [
    "# Binary classification variable\n",
    "df['binaryMatchClassification'] = df['generalMatchClassification'].apply(lambda x: 'UNKNOWN' if x == 'UNKNOWN' else 'KNOWN')\n",
    "\n",
    "# Dummy for year = 2020\n",
    "df['orderYear2020'] = df['orderYear'].apply(lambda x: True if x == 2020 else False)"
   ]
  },
  {
   "cell_type": "markdown",
   "id": "stopped-scoop",
   "metadata": {
    "jupyter": {
     "source_hidden": true
    }
   },
   "source": [
    "#### Transporter Groups"
   ]
  },
  {
   "cell_type": "code",
   "execution_count": 10,
   "id": "instant-huntington",
   "metadata": {
    "jupyter": {
     "source_hidden": true
    }
   },
   "outputs": [],
   "source": [
    "def transporterCluster(transporterCode):\n",
    "    \"\"\"\n",
    "    Function to create a new manually clustered transporter variable: 28 -> 5 categories\n",
    "    \"\"\"\n",
    "    if transporterCode in ['AH-NL','TNT','TNT-EXPRESS','TNT-EXTRA']:\n",
    "        return 'POSTNL'\n",
    "    elif transporterCode in ['DHL','DHL_DE','DHLFORYOU']:\n",
    "        return 'DHL'\n",
    "    elif transporterCode in ['DPD-NL','DPD-BE']:\n",
    "        return 'DPD'\n",
    "    elif transporterCode in ['BRIEFPOST','BPOST_BE','BPOST_BRIEF','DHL-GLOBAL-MAIL','TNT_BRIEF']:\n",
    "        return 'BRIEF'\n",
    "    else:\n",
    "        return 'OTHER'"
   ]
  },
  {
   "cell_type": "code",
   "execution_count": 11,
   "id": "international-distinction",
   "metadata": {
    "collapsed": true,
    "jupyter": {
     "outputs_hidden": true,
     "source_hidden": true
    }
   },
   "outputs": [
    {
     "data": {
      "text/plain": [
       "POSTNL    221508\n",
       "BRIEF     165035\n",
       "DHL        45527\n",
       "DPD        34475\n",
       "OTHER      33455\n",
       "Name: transporterCodeGeneral, dtype: int64"
      ]
     },
     "execution_count": 11,
     "metadata": {},
     "output_type": "execute_result"
    }
   ],
   "source": [
    "df['transporterCodeGeneral'] = df['transporterCode'].apply(transporterCluster)\n",
    "df['transporterCodeGeneral'].value_counts()"
   ]
  },
  {
   "cell_type": "markdown",
   "id": "approved-accounting",
   "metadata": {
    "jupyter": {
     "source_hidden": true
    }
   },
   "source": [
    "#### Product Groups"
   ]
  },
  {
   "cell_type": "code",
   "execution_count": 12,
   "id": "portable-niagara",
   "metadata": {
    "jupyter": {
     "source_hidden": true
    }
   },
   "outputs": [],
   "source": [
    "def productGroupCluster(productGroup):\n",
    "    \"\"\"\n",
    "    Function to create a new manually clustered product group variable based on categories bol.com\n",
    "    60 -> 14 groups.\n",
    "    \"\"\"\n",
    "    if productGroup in ['Dutch Books PG','Ebooks and Audiobooks','International Books PG']:\n",
    "        return 'Books'\n",
    "    elif productGroup in ['Games Accessories','Games Consoles','Games Software Physical',\n",
    "                          'Movies','Music']:\n",
    "        return 'Music, Film & Games'\n",
    "    elif productGroup in ['Camera','Desktop Monitor and Beamer','Ereaders and Accessories',\n",
    "                          'Laptop Computers','PC Accessories','Personal Audio',\n",
    "                          'Sound and Vision Accessories','Storage and Network',\n",
    "                          'Telephone and Tablet Accessories','Telephones and Tablets','Television']:\n",
    "        return 'Computer & Electronics'\n",
    "    elif productGroup in ['General Toys','Recreational and Outdoor Toys']:\n",
    "        return 'Toys & Hobby'\n",
    "    elif productGroup in ['Baby and Kids Fashion','Baby PG']:\n",
    "        return 'Baby & Kids'\n",
    "    elif productGroup in ['Daily Care PG','Health PG','Perfumery PG','Personal Care']:\n",
    "        return 'Health & Care'\n",
    "    elif productGroup in ['Footwear','Jewelry and Watches','Mens and Womens Fashion','Wearables']:\n",
    "        return 'Fashion, Shoes & Accessories'\n",
    "    elif productGroup in ['Bodyfashion and Beachwear','Camping and Outdoor','Cycling',\n",
    "                          'Sporting Equipment','Sportswear','Travel Bags and Accessories']:\n",
    "        return 'Sports, Outdoor & Travel'\n",
    "    elif productGroup in ['Educational Dutch','Educational International','Printing and Ink']:\n",
    "        return 'Office & School'\n",
    "    elif productGroup in ['Supermarket PG'] :\n",
    "        return 'Food & Beverage'\n",
    "    elif productGroup in ['Furniture','Heating and Air','Home Decoration','Home Entertainment',\n",
    "                          'Household','Household Appliances','Kitchen','Kitchen Machines',\n",
    "                          'Lighting','Major Domestic Appliances PG','Plumbing and Safety']:\n",
    "        return 'Home, Cooking & Household'\n",
    "    elif productGroup in ['Garden','Pet PG','Textiles','Tools and Paint']:\n",
    "        return 'Pets, Garden & Jobs'\n",
    "    elif productGroup in ['Car and Motorcycle'] :\n",
    "        return 'Car & Motor'\n",
    "    else:\n",
    "        return 'Other'"
   ]
  },
  {
   "cell_type": "code",
   "execution_count": 13,
   "id": "hairy-guyana",
   "metadata": {
    "collapsed": true,
    "jupyter": {
     "outputs_hidden": true,
     "source_hidden": true
    }
   },
   "outputs": [
    {
     "data": {
      "text/plain": [
       "Computer & Electronics          145687\n",
       "Home, Cooking & Household        83348\n",
       "Sports, Outdoor & Travel         54598\n",
       "Toys & Hobby                     52834\n",
       "Pets, Garden & Jobs              35484\n",
       "Health & Care                    31315\n",
       "Food & Beverage                  26802\n",
       "Books                            19435\n",
       "Music, Film & Games              17343\n",
       "Baby & Kids                      11784\n",
       "Fashion, Shoes & Accessories     11453\n",
       "Office & School                   5450\n",
       "Car & Motor                       3149\n",
       "Other                             1318\n",
       "Name: productGroupGeneral, dtype: int64"
      ]
     },
     "execution_count": 13,
     "metadata": {},
     "output_type": "execute_result"
    }
   ],
   "source": [
    "df['productGroupGeneral'] = df['productGroup'].apply(productGroupCluster)\n",
    "df['productGroupGeneral'].value_counts()"
   ]
  },
  {
   "cell_type": "code",
   "execution_count": 14,
   "id": "thorough-navigation",
   "metadata": {
    "jupyter": {
     "source_hidden": true
    }
   },
   "outputs": [],
   "source": [
    "#Create dummies of new product grouping\n",
    "for group in df['productGroupGeneral'].unique():\n",
    "    \n",
    "    columnName = 'group' + group.split(' ')[0].replace(',','')\n",
    "    df[columnName] = df['productGroupGeneral'].apply(lambda x: True if x == group else False)"
   ]
  },
  {
   "cell_type": "code",
   "execution_count": 15,
   "id": "permanent-tackle",
   "metadata": {
    "collapsed": true,
    "jupyter": {
     "outputs_hidden": true,
     "source_hidden": true
    }
   },
   "outputs": [
    {
     "name": "stdout",
     "output_type": "stream",
     "text": [
      "Index(['orderDate', 'productId', 'sellerId', 'totalPrice', 'quantityOrdered',\n",
      "       'countryCode', 'cancellationDate', 'cancellationReasonCode',\n",
      "       'promisedDeliveryDate', 'shipmentDate', 'transporterCode',\n",
      "       'transporterName', 'transporterNameOther',\n",
      "       'dateTimeFirstDeliveryMoment', 'fulfilmentType', 'startDateCase',\n",
      "       'cntDistinctCaseIds', 'returnDateTime', 'quantityReturned',\n",
      "       'returnCode', 'productTitle', 'brickName', 'chunkName', 'productGroup',\n",
      "       'productSubGroup', 'productSubSubGroup', 'registrationDateSeller',\n",
      "       'countryOriginSeller', 'currentCountryAvailabilitySeller',\n",
      "       'calculationDefinitive', 'noCancellation', 'onTimeDelivery', 'noCase',\n",
      "       'hasOneCase', 'hasMoreCases', 'noReturn', 'detailedMatchClassification',\n",
      "       'generalMatchClassification', 'determinantClassification', 'orderYear',\n",
      "       'orderMonth', 'orderYearMonth', 'orderWeekday', 'orderWeekend',\n",
      "       'orderCorona', 'transporterFeature', 'partnerSellingMonths',\n",
      "       'cancellationDays', 'shipmentDays', 'promisedDeliveryDays',\n",
      "       'actualDeliveryDays', 'caseDays', 'returnDays', 'countryCodeNL',\n",
      "       'fulfilmentByBol', 'countryOriginNL', 'countryOriginBE',\n",
      "       'countryOriginDE', 'orderMonday', 'orderTuesday', 'orderWednesday',\n",
      "       'orderThursday', 'orderFriday', 'orderSaturday', 'orderSunday',\n",
      "       'orderJanuary', 'orderFebruary', 'orderMarch', 'orderApril', 'orderMay',\n",
      "       'orderJune', 'orderJuly', 'orderAugust', 'orderSeptember',\n",
      "       'orderOctober', 'orderNovember', 'orderDecember', 'productTitleLength',\n",
      "       'binaryMatchClassification', 'orderYear2020', 'transporterCodeGeneral',\n",
      "       'productGroupGeneral', 'groupHome', 'groupHealth', 'groupSports',\n",
      "       'groupFood', 'groupToys', 'groupComputer', 'groupMusic', 'groupFashion',\n",
      "       'groupBooks', 'groupPets', 'groupBaby', 'groupCar', 'groupOffice',\n",
      "       'groupOther'],\n",
      "      dtype='object')\n",
      "Total:  96  columns\n"
     ]
    }
   ],
   "source": [
    "print(df.columns)\n",
    "print('Total: ',len(df.columns),' columns')"
   ]
  },
  {
   "cell_type": "code",
   "execution_count": 16,
   "id": "finished-lawsuit",
   "metadata": {
    "jupyter": {
     "source_hidden": true
    }
   },
   "outputs": [],
   "source": [
    "#Fixed Columns:\n",
    "BASIC = ['totalPrice','quantityOrdered','fulfilmentByBol','countryCodeNL','countryOriginNL','countryOriginBE',\n",
    "        'countryOriginDE','productTitleLength']\n",
    "WEEK = ['orderMonday','orderTuesday','orderWednesday','orderThursday','orderFriday','orderSaturday','orderSunday']\n",
    "MONTH = ['orderJanuary','orderFebruary','orderMarch','orderApril','orderMay','orderJune',\n",
    "         'orderJuly','orderAugust','orderSeptember','orderOctober','orderNovember','orderDecember']\n",
    "GROUP = ['groupHealth','groupHome','groupSports','groupComputer','groupPets','groupToys','groupBooks', \n",
    "         'groupBaby', 'groupMusic', 'groupFood','groupOffice','groupFashion','groupOther','groupCar']\n",
    "\n",
    "#Dynamic Columns:\n",
    "TRANSPORTERX = ['transporterPOSTNL/X','transporterDHL/X','transporterDPD/X','transporterBRIEF/X','transporterOTHER/X']\n",
    "KNOWNX = ['caseKnownX','returnKnownX','cancellationKnownX','onTimeDeliveryKnownX','lateDeliveryKnownX']\n",
    "PRODUCTX = ['productOrderCountX','productTotalCountX','productTotalReturnedX','productReturnFractionX']\n",
    "SELLERX = ['sellerDailyOrdersX']\n",
    "\n",
    "#Classifications\n",
    "CLASS = ['generalMatchClassification']"
   ]
  },
  {
   "cell_type": "markdown",
   "id": "photographic-neighbor",
   "metadata": {},
   "source": [
    "# Create Sample"
   ]
  },
  {
   "cell_type": "code",
   "execution_count": 6,
   "id": "composed-newport",
   "metadata": {
    "execution": {
     "iopub.execute_input": "2021-01-31T15:13:16.074808Z",
     "iopub.status.busy": "2021-01-31T15:13:16.074808Z",
     "iopub.status.idle": "2021-01-31T15:13:31.021997Z",
     "shell.execute_reply": "2021-01-31T15:13:31.021001Z",
     "shell.execute_reply.started": "2021-01-31T15:13:16.074808Z"
    }
   },
   "outputs": [],
   "source": [
    "X_col = BASIC + WEEK + MONTH + YEAR + GROUP + TRANSPORTERX + KNOWNX + PRODUCTX + SELLERX\n",
    "y_col = [CLASSIFICATION[0]]  # Match label prediction\n",
    "#Y_col = [CLASSIFICATION[2]]  # Binary classification\n",
    "\n",
    "#df_sample = df\n",
    "df_sample = df.sample(n = 1000000, replace = False, random_state = 0)\n",
    "df_sample = functions.addProductColumns(df_sample,0)\n",
    "df_sample = functions.addSellerColumns(df_sample,0)"
   ]
  },
  {
   "cell_type": "markdown",
   "id": "portuguese-knife",
   "metadata": {},
   "source": [
    "# Function-based Classification"
   ]
  },
  {
   "cell_type": "markdown",
   "id": "smooth-chart",
   "metadata": {},
   "source": [
    "## Classification"
   ]
  },
  {
   "cell_type": "code",
   "execution_count": 102,
   "id": "coupled-bahrain",
   "metadata": {
    "execution": {
     "iopub.execute_input": "2021-01-30T20:44:51.285074Z",
     "iopub.status.busy": "2021-01-30T20:44:51.284080Z",
     "iopub.status.idle": "2021-01-30T20:47:09.910960Z",
     "shell.execute_reply": "2021-01-30T20:47:09.909964Z",
     "shell.execute_reply.started": "2021-01-30T20:44:51.285074Z"
    }
   },
   "outputs": [
    {
     "name": "stdout",
     "output_type": "stream",
     "text": [
      "DAYS:  0\n",
      "DAYS:  1\n",
      "DAYS:  2\n",
      "DAYS:  3\n",
      "DAYS:  4\n",
      "DAYS:  5\n",
      "DAYS:  6\n",
      "DAYS:  7\n",
      "DAYS:  8\n",
      "DAYS:  9\n",
      "DAYS:  10\n"
     ]
    }
   ],
   "source": [
    "PREDICT_DAYS = 11\n",
    "REP = 3\n",
    "\n",
    "resultDic = {}\n",
    "\n",
    "#estimator = svm.SVC(random_state=0,class_weight='balanced')\n",
    "# estimator = AdaBoostClassifier(base_estimator=DecisionTreeClassifier(max_depth=5),n_estimators=50,random_state=0)\n",
    "estimator = LogisticRegression(random_state=0,\n",
    "                               class_weight='balanced',\n",
    "                               fit_intercept=False,\n",
    "                               solver='liblinear')\n",
    "# estimator = RandomForestClassifier(n_estimators=10,random_state=0,class_weight='balanced')\n",
    "# estimator = KerasClassifier(build_fn = neuralNetwork,epochs = 10,verbose = 0)\n",
    "# scaler = preprocessing.MinMaxScaler()\n",
    "\n",
    "for DAYS in range(PREDICT_DAYS):\n",
    "    \n",
    "    X, y = functions.dataX(df_sample, DATE, X_col, y_col, DAYS)\n",
    "\n",
    "    result = functions.classifyLabelsNew(estimator, X, y, n = REP, scale = 'MinMax')\n",
    "\n",
    "    resultDic[DAYS] = result\n",
    "    \n",
    "    print('DAYS: ',DAYS)\n",
    "\n",
    "RESULT = pd.DataFrame.from_dict(resultDic, orient='index')"
   ]
  },
  {
   "cell_type": "code",
   "execution_count": 104,
   "id": "processed-spirit",
   "metadata": {
    "execution": {
     "iopub.execute_input": "2021-01-30T20:47:50.142227Z",
     "iopub.status.busy": "2021-01-30T20:47:50.141219Z",
     "iopub.status.idle": "2021-01-30T20:47:50.181766Z",
     "shell.execute_reply": "2021-01-30T20:47:50.180765Z",
     "shell.execute_reply.started": "2021-01-30T20:47:50.142227Z"
    }
   },
   "outputs": [],
   "source": [
    "RESULT.to_excel('/Users/thoma/Documents/seminar_data/base_classifier_results.xlsx', sheet_name = 'LOG, 100Kl')"
   ]
  },
  {
   "cell_type": "code",
   "execution_count": 65,
   "id": "differential-begin",
   "metadata": {
    "execution": {
     "iopub.execute_input": "2021-01-29T14:45:21.009745Z",
     "iopub.status.busy": "2021-01-29T14:45:21.008746Z",
     "iopub.status.idle": "2021-01-29T14:45:21.027885Z",
     "shell.execute_reply": "2021-01-29T14:45:21.026842Z",
     "shell.execute_reply.started": "2021-01-29T14:45:21.009745Z"
    }
   },
   "outputs": [],
   "source": [
    "RESULT_DT = RESULT"
   ]
  },
  {
   "cell_type": "code",
   "execution_count": 78,
   "id": "ceramic-egyptian",
   "metadata": {
    "execution": {
     "iopub.execute_input": "2021-01-29T22:47:28.799312Z",
     "iopub.status.busy": "2021-01-29T22:47:28.798312Z",
     "iopub.status.idle": "2021-01-29T22:47:28.805311Z",
     "shell.execute_reply": "2021-01-29T22:47:28.805311Z",
     "shell.execute_reply.started": "2021-01-29T22:47:28.799312Z"
    }
   },
   "outputs": [],
   "source": [
    "def classificationPerformanceOverTime(df, DATE, X_col, y_col, DAYS, estimator, REP, split = 'TimeSeries', smote = False, scale = None, NN = False):\n",
    "    resultDic = {}\n",
    "    \n",
    "    for days in range(DAYS):\n",
    "        X, y = functions.dataX(df, DATE, X_col, y_col, days)\n",
    "        result = functions.classifyLabelsNew(estimator, X, y, n = REP)\n",
    "        resultDic[days] = result\n",
    "        print('DAYS: ', days)\n",
    "    \n",
    "    RESULT = pd.DataFrame.from_dict(resultDic, orient = 'index')\n",
    "    return(RESULT)"
   ]
  },
  {
   "cell_type": "code",
   "execution_count": 79,
   "id": "graphic-penetration",
   "metadata": {
    "execution": {
     "iopub.execute_input": "2021-01-29T22:47:37.051233Z",
     "iopub.status.busy": "2021-01-29T22:47:37.051233Z",
     "iopub.status.idle": "2021-01-29T23:56:42.827866Z",
     "shell.execute_reply": "2021-01-29T23:56:42.825363Z",
     "shell.execute_reply.started": "2021-01-29T22:47:37.051233Z"
    }
   },
   "outputs": [
    {
     "name": "stdout",
     "output_type": "stream",
     "text": [
      "DAYS:  0\n",
      "DAYS:  1\n",
      "DAYS:  2\n",
      "DAYS:  3\n",
      "DAYS:  4\n",
      "DAYS:  5\n",
      "DAYS:  6\n",
      "DAYS:  7\n",
      "DAYS:  8\n",
      "DAYS:  9\n",
      "DAYS:  10\n"
     ]
    }
   ],
   "source": [
    "RESULT_BNB = classificationPerformanceOverTime(df, DATE, X_col, y_col, 11, BernoulliNB(), 3)"
   ]
  },
  {
   "cell_type": "code",
   "execution_count": 83,
   "id": "preliminary-sailing",
   "metadata": {
    "execution": {
     "iopub.execute_input": "2021-01-30T09:17:06.676765Z",
     "iopub.status.busy": "2021-01-30T09:17:06.676765Z",
     "iopub.status.idle": "2021-01-30T19:05:35.482123Z",
     "shell.execute_reply": "2021-01-30T19:05:35.478580Z",
     "shell.execute_reply.started": "2021-01-30T09:17:06.676765Z"
    }
   },
   "outputs": [
    {
     "name": "stdout",
     "output_type": "stream",
     "text": [
      "DAYS:  0\n",
      "DAYS:  1\n",
      "DAYS:  2\n",
      "DAYS:  3\n",
      "DAYS:  4\n",
      "DAYS:  5\n",
      "DAYS:  6\n",
      "DAYS:  7\n",
      "DAYS:  8\n",
      "DAYS:  9\n",
      "DAYS:  10\n"
     ]
    }
   ],
   "source": [
    "ada_estimator = AdaBoostClassifier(base_estimator=DecisionTreeClassifier(max_depth=3),\n",
    "                                                            n_estimators=50,\n",
    "                                                            random_state=0)\n",
    "RESULT_ADA = classificationPerformanceOverTime(df, DATE, X_col, y_col, 11, ada_estimator, 3)"
   ]
  },
  {
   "cell_type": "code",
   "execution_count": 84,
   "id": "computational-billion",
   "metadata": {
    "execution": {
     "iopub.execute_input": "2021-01-30T19:12:21.329927Z",
     "iopub.status.busy": "2021-01-30T19:12:21.329927Z",
     "iopub.status.idle": "2021-01-30T19:12:21.371318Z",
     "shell.execute_reply": "2021-01-30T19:12:21.369600Z",
     "shell.execute_reply.started": "2021-01-30T19:12:21.329927Z"
    }
   },
   "outputs": [
    {
     "data": {
      "text/html": [
       "<div>\n",
       "<style scoped>\n",
       "    .dataframe tbody tr th:only-of-type {\n",
       "        vertical-align: middle;\n",
       "    }\n",
       "\n",
       "    .dataframe tbody tr th {\n",
       "        vertical-align: top;\n",
       "    }\n",
       "\n",
       "    .dataframe thead th {\n",
       "        text-align: right;\n",
       "    }\n",
       "</style>\n",
       "<table border=\"1\" class=\"dataframe\">\n",
       "  <thead>\n",
       "    <tr style=\"text-align: right;\">\n",
       "      <th></th>\n",
       "      <th>accuracy</th>\n",
       "      <th>precision_KNOWN HAPPY</th>\n",
       "      <th>recall_KNOWN HAPPY</th>\n",
       "      <th>f1_KNOWN HAPPY</th>\n",
       "      <th>precision_UNHAPPY</th>\n",
       "      <th>recall_UNHAPPY</th>\n",
       "      <th>f1_UNHAPPY</th>\n",
       "      <th>precision_UNKNOWN</th>\n",
       "      <th>recall_UNKNOWN</th>\n",
       "      <th>f1_UNKNOWN</th>\n",
       "    </tr>\n",
       "  </thead>\n",
       "  <tbody>\n",
       "    <tr>\n",
       "      <th>0</th>\n",
       "      <td>0.784488</td>\n",
       "      <td>0.793862</td>\n",
       "      <td>0.922828</td>\n",
       "      <td>0.853483</td>\n",
       "      <td>0.369770</td>\n",
       "      <td>0.046614</td>\n",
       "      <td>0.082226</td>\n",
       "      <td>0.786112</td>\n",
       "      <td>0.810991</td>\n",
       "      <td>0.798083</td>\n",
       "    </tr>\n",
       "    <tr>\n",
       "      <th>1</th>\n",
       "      <td>0.850666</td>\n",
       "      <td>0.862437</td>\n",
       "      <td>0.954509</td>\n",
       "      <td>0.906086</td>\n",
       "      <td>0.687428</td>\n",
       "      <td>0.231911</td>\n",
       "      <td>0.345602</td>\n",
       "      <td>0.849646</td>\n",
       "      <td>0.895412</td>\n",
       "      <td>0.871787</td>\n",
       "    </tr>\n",
       "    <tr>\n",
       "      <th>2</th>\n",
       "      <td>0.639048</td>\n",
       "      <td>0.863902</td>\n",
       "      <td>0.505267</td>\n",
       "      <td>0.614882</td>\n",
       "      <td>0.219174</td>\n",
       "      <td>0.531804</td>\n",
       "      <td>0.296289</td>\n",
       "      <td>0.876801</td>\n",
       "      <td>0.925727</td>\n",
       "      <td>0.900504</td>\n",
       "    </tr>\n",
       "    <tr>\n",
       "      <th>3</th>\n",
       "      <td>0.640802</td>\n",
       "      <td>0.896512</td>\n",
       "      <td>0.456881</td>\n",
       "      <td>0.544613</td>\n",
       "      <td>0.318559</td>\n",
       "      <td>0.620709</td>\n",
       "      <td>0.361039</td>\n",
       "      <td>0.891527</td>\n",
       "      <td>0.959687</td>\n",
       "      <td>0.924345</td>\n",
       "    </tr>\n",
       "    <tr>\n",
       "      <th>4</th>\n",
       "      <td>0.927297</td>\n",
       "      <td>0.957137</td>\n",
       "      <td>0.963794</td>\n",
       "      <td>0.960245</td>\n",
       "      <td>0.808758</td>\n",
       "      <td>0.644623</td>\n",
       "      <td>0.713675</td>\n",
       "      <td>0.915419</td>\n",
       "      <td>0.966902</td>\n",
       "      <td>0.940423</td>\n",
       "    </tr>\n",
       "    <tr>\n",
       "      <th>5</th>\n",
       "      <td>0.912006</td>\n",
       "      <td>0.967204</td>\n",
       "      <td>0.914247</td>\n",
       "      <td>0.938427</td>\n",
       "      <td>0.679711</td>\n",
       "      <td>0.724793</td>\n",
       "      <td>0.691167</td>\n",
       "      <td>0.937271</td>\n",
       "      <td>0.975308</td>\n",
       "      <td>0.955898</td>\n",
       "    </tr>\n",
       "    <tr>\n",
       "      <th>6</th>\n",
       "      <td>0.788802</td>\n",
       "      <td>0.972492</td>\n",
       "      <td>0.682247</td>\n",
       "      <td>0.785595</td>\n",
       "      <td>0.448303</td>\n",
       "      <td>0.804672</td>\n",
       "      <td>0.535726</td>\n",
       "      <td>0.950337</td>\n",
       "      <td>0.980707</td>\n",
       "      <td>0.965259</td>\n",
       "    </tr>\n",
       "    <tr>\n",
       "      <th>7</th>\n",
       "      <td>0.894797</td>\n",
       "      <td>0.978660</td>\n",
       "      <td>0.867557</td>\n",
       "      <td>0.912818</td>\n",
       "      <td>0.634651</td>\n",
       "      <td>0.819506</td>\n",
       "      <td>0.690126</td>\n",
       "      <td>0.960044</td>\n",
       "      <td>0.973335</td>\n",
       "      <td>0.966414</td>\n",
       "    </tr>\n",
       "    <tr>\n",
       "      <th>8</th>\n",
       "      <td>0.915779</td>\n",
       "      <td>0.982155</td>\n",
       "      <td>0.909297</td>\n",
       "      <td>0.944276</td>\n",
       "      <td>0.610358</td>\n",
       "      <td>0.851388</td>\n",
       "      <td>0.710487</td>\n",
       "      <td>0.968486</td>\n",
       "      <td>0.947510</td>\n",
       "      <td>0.957316</td>\n",
       "    </tr>\n",
       "    <tr>\n",
       "      <th>9</th>\n",
       "      <td>0.940763</td>\n",
       "      <td>0.984134</td>\n",
       "      <td>0.945557</td>\n",
       "      <td>0.964444</td>\n",
       "      <td>0.714662</td>\n",
       "      <td>0.870818</td>\n",
       "      <td>0.783578</td>\n",
       "      <td>0.975336</td>\n",
       "      <td>0.961090</td>\n",
       "      <td>0.967778</td>\n",
       "    </tr>\n",
       "    <tr>\n",
       "      <th>10</th>\n",
       "      <td>0.906453</td>\n",
       "      <td>0.985726</td>\n",
       "      <td>0.877217</td>\n",
       "      <td>0.926686</td>\n",
       "      <td>0.613967</td>\n",
       "      <td>0.892278</td>\n",
       "      <td>0.715007</td>\n",
       "      <td>0.980053</td>\n",
       "      <td>0.960957</td>\n",
       "      <td>0.970050</td>\n",
       "    </tr>\n",
       "  </tbody>\n",
       "</table>\n",
       "</div>"
      ],
      "text/plain": [
       "    accuracy  precision_KNOWN HAPPY  recall_KNOWN HAPPY  f1_KNOWN HAPPY  \\\n",
       "0   0.784488               0.793862            0.922828        0.853483   \n",
       "1   0.850666               0.862437            0.954509        0.906086   \n",
       "2   0.639048               0.863902            0.505267        0.614882   \n",
       "3   0.640802               0.896512            0.456881        0.544613   \n",
       "4   0.927297               0.957137            0.963794        0.960245   \n",
       "5   0.912006               0.967204            0.914247        0.938427   \n",
       "6   0.788802               0.972492            0.682247        0.785595   \n",
       "7   0.894797               0.978660            0.867557        0.912818   \n",
       "8   0.915779               0.982155            0.909297        0.944276   \n",
       "9   0.940763               0.984134            0.945557        0.964444   \n",
       "10  0.906453               0.985726            0.877217        0.926686   \n",
       "\n",
       "    precision_UNHAPPY  recall_UNHAPPY  f1_UNHAPPY  precision_UNKNOWN  \\\n",
       "0            0.369770        0.046614    0.082226           0.786112   \n",
       "1            0.687428        0.231911    0.345602           0.849646   \n",
       "2            0.219174        0.531804    0.296289           0.876801   \n",
       "3            0.318559        0.620709    0.361039           0.891527   \n",
       "4            0.808758        0.644623    0.713675           0.915419   \n",
       "5            0.679711        0.724793    0.691167           0.937271   \n",
       "6            0.448303        0.804672    0.535726           0.950337   \n",
       "7            0.634651        0.819506    0.690126           0.960044   \n",
       "8            0.610358        0.851388    0.710487           0.968486   \n",
       "9            0.714662        0.870818    0.783578           0.975336   \n",
       "10           0.613967        0.892278    0.715007           0.980053   \n",
       "\n",
       "    recall_UNKNOWN  f1_UNKNOWN  \n",
       "0         0.810991    0.798083  \n",
       "1         0.895412    0.871787  \n",
       "2         0.925727    0.900504  \n",
       "3         0.959687    0.924345  \n",
       "4         0.966902    0.940423  \n",
       "5         0.975308    0.955898  \n",
       "6         0.980707    0.965259  \n",
       "7         0.973335    0.966414  \n",
       "8         0.947510    0.957316  \n",
       "9         0.961090    0.967778  \n",
       "10        0.960957    0.970050  "
      ]
     },
     "execution_count": 84,
     "metadata": {},
     "output_type": "execute_result"
    }
   ],
   "source": [
    "RESULT_ADA"
   ]
  },
  {
   "cell_type": "code",
   "execution_count": 89,
   "id": "original-country",
   "metadata": {
    "execution": {
     "iopub.execute_input": "2021-01-30T20:21:37.760082Z",
     "iopub.status.busy": "2021-01-30T20:21:37.760082Z",
     "iopub.status.idle": "2021-01-30T20:21:37.804745Z",
     "shell.execute_reply": "2021-01-30T20:21:37.803744Z",
     "shell.execute_reply.started": "2021-01-30T20:21:37.760082Z"
    }
   },
   "outputs": [],
   "source": [
    "RESULT_ADA.to_excel('/Users/thoma/Documents/seminar_data/base_classifier_results.xlsx', sheet_name = 'ADA, Full')"
   ]
  },
  {
   "cell_type": "code",
   "execution_count": 87,
   "id": "green-belfast",
   "metadata": {
    "execution": {
     "iopub.execute_input": "2021-01-30T20:00:37.571559Z",
     "iopub.status.busy": "2021-01-30T20:00:37.571131Z",
     "iopub.status.idle": "2021-01-30T20:21:22.779251Z",
     "shell.execute_reply": "2021-01-30T20:21:22.777953Z",
     "shell.execute_reply.started": "2021-01-30T20:00:37.571559Z"
    }
   },
   "outputs": [
    {
     "name": "stdout",
     "output_type": "stream",
     "text": [
      "DAYS:  0\n",
      "DAYS:  1\n",
      "DAYS:  2\n",
      "DAYS:  3\n",
      "DAYS:  4\n",
      "DAYS:  5\n",
      "DAYS:  6\n",
      "DAYS:  7\n",
      "DAYS:  8\n",
      "DAYS:  9\n",
      "DAYS:  10\n"
     ]
    }
   ],
   "source": [
    "gradient_estimator = GradientBoostingClassifier(random_state=0)\n",
    "RESULT_GRADIENT = classificationPerformanceOverTime(df_sample, DATE, X_col, y_col, 11, gradient_estimator, 3)"
   ]
  },
  {
   "cell_type": "code",
   "execution_count": 90,
   "id": "durable-lafayette",
   "metadata": {
    "execution": {
     "iopub.execute_input": "2021-01-30T20:22:05.140417Z",
     "iopub.status.busy": "2021-01-30T20:22:05.140417Z",
     "iopub.status.idle": "2021-01-30T20:27:03.290136Z",
     "shell.execute_reply": "2021-01-30T20:27:03.288966Z",
     "shell.execute_reply.started": "2021-01-30T20:22:05.140417Z"
    }
   },
   "outputs": [
    {
     "name": "stdout",
     "output_type": "stream",
     "text": [
      "DAYS:  0\n",
      "DAYS:  1\n",
      "DAYS:  2\n",
      "DAYS:  3\n",
      "DAYS:  4\n",
      "DAYS:  5\n",
      "DAYS:  6\n",
      "DAYS:  7\n",
      "DAYS:  8\n",
      "DAYS:  9\n",
      "DAYS:  10\n"
     ]
    }
   ],
   "source": [
    "histgradient_estimator = HistGradientBoostingClassifier(random_state=0)\n",
    "RESULT_HISTGRADIENT = classificationPerformanceOverTime(df_sample, DATE, X_col, y_col, 11, histgradient_estimator, 3)"
   ]
  },
  {
   "cell_type": "code",
   "execution_count": 93,
   "id": "patent-globe",
   "metadata": {
    "execution": {
     "iopub.execute_input": "2021-01-30T20:33:24.946712Z",
     "iopub.status.busy": "2021-01-30T20:33:24.946712Z",
     "iopub.status.idle": "2021-01-30T20:33:24.996576Z",
     "shell.execute_reply": "2021-01-30T20:33:24.996576Z",
     "shell.execute_reply.started": "2021-01-30T20:33:24.946712Z"
    }
   },
   "outputs": [],
   "source": [
    "RESULT_BAG.to_excel('/Users/thoma/Documents/seminar_data/base_classifier_results.xlsx', sheet_name = 'BAG, 100K')"
   ]
  },
  {
   "cell_type": "code",
   "execution_count": 92,
   "id": "intellectual-pulse",
   "metadata": {
    "execution": {
     "iopub.execute_input": "2021-01-30T20:28:49.537021Z",
     "iopub.status.busy": "2021-01-30T20:28:49.537021Z",
     "iopub.status.idle": "2021-01-30T20:33:09.439189Z",
     "shell.execute_reply": "2021-01-30T20:33:09.439189Z",
     "shell.execute_reply.started": "2021-01-30T20:28:49.537021Z"
    }
   },
   "outputs": [
    {
     "name": "stdout",
     "output_type": "stream",
     "text": [
      "DAYS:  0\n",
      "DAYS:  1\n",
      "DAYS:  2\n",
      "DAYS:  3\n",
      "DAYS:  4\n",
      "DAYS:  5\n",
      "DAYS:  6\n",
      "DAYS:  7\n",
      "DAYS:  8\n",
      "DAYS:  9\n",
      "DAYS:  10\n"
     ]
    }
   ],
   "source": [
    "bagging_estimator = BaggingClassifier(n_estimators=10,random_state=0) \n",
    "RESULT_BAG = classificationPerformanceOverTime(df_sample, DATE, X_col, y_col, 11, bagging_estimator, 3)"
   ]
  },
  {
   "cell_type": "code",
   "execution_count": 94,
   "id": "dress-puzzle",
   "metadata": {
    "execution": {
     "iopub.execute_input": "2021-01-30T20:34:13.254163Z",
     "iopub.status.busy": "2021-01-30T20:34:13.254163Z",
     "iopub.status.idle": "2021-01-30T20:35:38.134490Z",
     "shell.execute_reply": "2021-01-30T20:35:38.133820Z",
     "shell.execute_reply.started": "2021-01-30T20:34:13.254163Z"
    }
   },
   "outputs": [
    {
     "name": "stdout",
     "output_type": "stream",
     "text": [
      "DAYS:  0\n",
      "DAYS:  1\n",
      "DAYS:  2\n",
      "DAYS:  3\n",
      "DAYS:  4\n",
      "DAYS:  5\n",
      "DAYS:  6\n",
      "DAYS:  7\n",
      "DAYS:  8\n",
      "DAYS:  9\n",
      "DAYS:  10\n"
     ]
    }
   ],
   "source": [
    "rf_estimator = RandomForestClassifier(n_estimators=10,random_state=0,class_weight='balanced')\n",
    "RESULT_RF = classificationPerformanceOverTime(df_sample, DATE, X_col, y_col, 11, rf_estimator, 3)"
   ]
  },
  {
   "cell_type": "code",
   "execution_count": 95,
   "id": "confident-juvenile",
   "metadata": {
    "execution": {
     "iopub.execute_input": "2021-01-30T20:35:38.135506Z",
     "iopub.status.busy": "2021-01-30T20:35:38.135506Z",
     "iopub.status.idle": "2021-01-30T20:35:38.180855Z",
     "shell.execute_reply": "2021-01-30T20:35:38.180855Z",
     "shell.execute_reply.started": "2021-01-30T20:35:38.135506Z"
    }
   },
   "outputs": [],
   "source": [
    "RESULT_RF.to_excel('/Users/thoma/Documents/seminar_data/base_classifier_results.xlsx', sheet_name = 'RF, 100K')"
   ]
  },
  {
   "cell_type": "code",
   "execution_count": 96,
   "id": "synthetic-christianity",
   "metadata": {
    "execution": {
     "iopub.execute_input": "2021-01-30T20:36:25.322027Z",
     "iopub.status.busy": "2021-01-30T20:36:25.321016Z",
     "iopub.status.idle": "2021-01-30T20:39:11.115150Z",
     "shell.execute_reply": "2021-01-30T20:39:11.114665Z",
     "shell.execute_reply.started": "2021-01-30T20:36:25.322027Z"
    }
   },
   "outputs": [
    {
     "name": "stdout",
     "output_type": "stream",
     "text": [
      "DAYS:  0\n",
      "DAYS:  1\n",
      "DAYS:  2\n",
      "DAYS:  3\n",
      "DAYS:  4\n",
      "DAYS:  5\n",
      "DAYS:  6\n",
      "DAYS:  7\n",
      "DAYS:  8\n",
      "DAYS:  9\n",
      "DAYS:  10\n"
     ]
    }
   ],
   "source": [
    "knn_estimator = neighbors.KNeighborsClassifier(n_neighbors = 3)\n",
    "RESULT_KNN = classificationPerformanceOverTime(df_sample, DATE, X_col, y_col, 11, knn_estimator, 3)"
   ]
  },
  {
   "cell_type": "code",
   "execution_count": 97,
   "id": "organizational-husband",
   "metadata": {
    "execution": {
     "iopub.execute_input": "2021-01-30T20:39:56.310863Z",
     "iopub.status.busy": "2021-01-30T20:39:56.310863Z",
     "iopub.status.idle": "2021-01-30T20:39:56.356362Z",
     "shell.execute_reply": "2021-01-30T20:39:56.354127Z",
     "shell.execute_reply.started": "2021-01-30T20:39:56.310863Z"
    }
   },
   "outputs": [],
   "source": [
    "RESULT_RF.to_excel('/Users/thoma/Documents/seminar_data/base_classifier_results.xlsx', sheet_name = 'KNN, 100K')"
   ]
  },
  {
   "cell_type": "code",
   "execution_count": 98,
   "id": "utility-appeal",
   "metadata": {
    "execution": {
     "iopub.execute_input": "2021-01-30T20:40:45.735219Z",
     "iopub.status.busy": "2021-01-30T20:40:45.735219Z",
     "iopub.status.idle": "2021-01-30T20:42:04.480301Z",
     "shell.execute_reply": "2021-01-30T20:42:04.478924Z",
     "shell.execute_reply.started": "2021-01-30T20:40:45.735219Z"
    }
   },
   "outputs": [
    {
     "name": "stdout",
     "output_type": "stream",
     "text": [
      "DAYS:  0\n",
      "DAYS:  1\n",
      "DAYS:  2\n",
      "DAYS:  3\n",
      "DAYS:  4\n",
      "DAYS:  5\n",
      "DAYS:  6\n",
      "DAYS:  7\n",
      "DAYS:  8\n",
      "DAYS:  9\n",
      "DAYS:  10\n"
     ]
    }
   ],
   "source": [
    "log_estimator = LogisticRegression(random_state=0,class_weight='balanced', fit_intercept=False,solver='liblinear') # no scaling yet applied\n",
    "RESULT_LOG = classificationPerformanceOverTime(df_sample, DATE, X_col, y_col, 11, log_estimator, 3)"
   ]
  },
  {
   "cell_type": "code",
   "execution_count": 99,
   "id": "falling-tooth",
   "metadata": {
    "execution": {
     "iopub.execute_input": "2021-01-30T20:42:20.448401Z",
     "iopub.status.busy": "2021-01-30T20:42:20.448401Z",
     "iopub.status.idle": "2021-01-30T20:42:20.491308Z",
     "shell.execute_reply": "2021-01-30T20:42:20.490808Z",
     "shell.execute_reply.started": "2021-01-30T20:42:20.448401Z"
    }
   },
   "outputs": [],
   "source": [
    "RESULT_LOG.to_excel('/Users/thoma/Documents/seminar_data/base_classifier_results.xlsx', sheet_name = 'LOG, 100K')"
   ]
  },
  {
   "cell_type": "code",
   "execution_count": 105,
   "id": "little-childhood",
   "metadata": {
    "collapsed": true,
    "execution": {
     "iopub.execute_input": "2021-01-30T20:49:34.398708Z",
     "iopub.status.busy": "2021-01-30T20:49:34.398208Z",
     "iopub.status.idle": "2021-01-30T21:04:07.255395Z",
     "shell.execute_reply": "2021-01-30T21:04:07.254399Z",
     "shell.execute_reply.started": "2021-01-30T20:49:34.398708Z"
    },
    "jupyter": {
     "outputs_hidden": true
    }
   },
   "outputs": [
    {
     "ename": "KeyboardInterrupt",
     "evalue": "",
     "output_type": "error",
     "traceback": [
      "\u001b[1;31m---------------------------------------------------------------------------\u001b[0m",
      "\u001b[1;31mKeyboardInterrupt\u001b[0m                         Traceback (most recent call last)",
      "\u001b[1;32m<ipython-input-105-eeb874f24646>\u001b[0m in \u001b[0;36m<module>\u001b[1;34m\u001b[0m\n\u001b[0;32m      1\u001b[0m \u001b[0msvm_estimator\u001b[0m \u001b[1;33m=\u001b[0m \u001b[0msvm\u001b[0m\u001b[1;33m.\u001b[0m\u001b[0mSVC\u001b[0m\u001b[1;33m(\u001b[0m\u001b[0mrandom_state\u001b[0m\u001b[1;33m=\u001b[0m\u001b[1;36m0\u001b[0m\u001b[1;33m,\u001b[0m\u001b[0mclass_weight\u001b[0m\u001b[1;33m=\u001b[0m\u001b[1;34m'balanced'\u001b[0m\u001b[1;33m)\u001b[0m\u001b[1;33m\u001b[0m\u001b[1;33m\u001b[0m\u001b[0m\n\u001b[1;32m----> 2\u001b[1;33m \u001b[0mRESULT_SVM\u001b[0m \u001b[1;33m=\u001b[0m \u001b[0mclassificationPerformanceOverTime\u001b[0m\u001b[1;33m(\u001b[0m\u001b[0mdf_sample\u001b[0m\u001b[1;33m,\u001b[0m \u001b[0mDATE\u001b[0m\u001b[1;33m,\u001b[0m \u001b[0mX_col\u001b[0m\u001b[1;33m,\u001b[0m \u001b[0my_col\u001b[0m\u001b[1;33m,\u001b[0m \u001b[1;36m11\u001b[0m\u001b[1;33m,\u001b[0m \u001b[0msvm_estimator\u001b[0m\u001b[1;33m,\u001b[0m \u001b[1;36m3\u001b[0m\u001b[1;33m)\u001b[0m\u001b[1;33m\u001b[0m\u001b[1;33m\u001b[0m\u001b[0m\n\u001b[0m",
      "\u001b[1;32m<ipython-input-78-f2494c68a249>\u001b[0m in \u001b[0;36mclassificationPerformanceOverTime\u001b[1;34m(df, DATE, X_col, y_col, DAYS, estimator, REP, split, smote, scale, NN)\u001b[0m\n\u001b[0;32m      4\u001b[0m     \u001b[1;32mfor\u001b[0m \u001b[0mdays\u001b[0m \u001b[1;32min\u001b[0m \u001b[0mrange\u001b[0m\u001b[1;33m(\u001b[0m\u001b[0mDAYS\u001b[0m\u001b[1;33m)\u001b[0m\u001b[1;33m:\u001b[0m\u001b[1;33m\u001b[0m\u001b[1;33m\u001b[0m\u001b[0m\n\u001b[0;32m      5\u001b[0m         \u001b[0mX\u001b[0m\u001b[1;33m,\u001b[0m \u001b[0my\u001b[0m \u001b[1;33m=\u001b[0m \u001b[0mfunctions\u001b[0m\u001b[1;33m.\u001b[0m\u001b[0mdataX\u001b[0m\u001b[1;33m(\u001b[0m\u001b[0mdf\u001b[0m\u001b[1;33m,\u001b[0m \u001b[0mDATE\u001b[0m\u001b[1;33m,\u001b[0m \u001b[0mX_col\u001b[0m\u001b[1;33m,\u001b[0m \u001b[0my_col\u001b[0m\u001b[1;33m,\u001b[0m \u001b[0mdays\u001b[0m\u001b[1;33m)\u001b[0m\u001b[1;33m\u001b[0m\u001b[1;33m\u001b[0m\u001b[0m\n\u001b[1;32m----> 6\u001b[1;33m         \u001b[0mresult\u001b[0m \u001b[1;33m=\u001b[0m \u001b[0mfunctions\u001b[0m\u001b[1;33m.\u001b[0m\u001b[0mclassifyLabelsNew\u001b[0m\u001b[1;33m(\u001b[0m\u001b[0mestimator\u001b[0m\u001b[1;33m,\u001b[0m \u001b[0mX\u001b[0m\u001b[1;33m,\u001b[0m \u001b[0my\u001b[0m\u001b[1;33m,\u001b[0m \u001b[0mn\u001b[0m \u001b[1;33m=\u001b[0m \u001b[0mREP\u001b[0m\u001b[1;33m)\u001b[0m\u001b[1;33m\u001b[0m\u001b[1;33m\u001b[0m\u001b[0m\n\u001b[0m\u001b[0;32m      7\u001b[0m         \u001b[0mresultDic\u001b[0m\u001b[1;33m[\u001b[0m\u001b[0mdays\u001b[0m\u001b[1;33m]\u001b[0m \u001b[1;33m=\u001b[0m \u001b[0mresult\u001b[0m\u001b[1;33m\u001b[0m\u001b[1;33m\u001b[0m\u001b[0m\n\u001b[0;32m      8\u001b[0m         \u001b[0mprint\u001b[0m\u001b[1;33m(\u001b[0m\u001b[1;34m'DAYS: '\u001b[0m\u001b[1;33m,\u001b[0m \u001b[0mdays\u001b[0m\u001b[1;33m)\u001b[0m\u001b[1;33m\u001b[0m\u001b[1;33m\u001b[0m\u001b[0m\n",
      "\u001b[1;32m~\\Documents\\QM & BA\\QM & BA\\Seminar in QM & BA\\Seminar-QM-BA\\functions.py\u001b[0m in \u001b[0;36mclassifyLabelsNew\u001b[1;34m(classifier, X, y, n, split, smote, scale, NN)\u001b[0m\n\u001b[0;32m    542\u001b[0m             \u001b[0my_train\u001b[0m\u001b[1;33m,\u001b[0m \u001b[0my_test\u001b[0m \u001b[1;33m=\u001b[0m \u001b[0my\u001b[0m\u001b[1;33m.\u001b[0m\u001b[0miloc\u001b[0m\u001b[1;33m[\u001b[0m\u001b[0mtrain_index\u001b[0m\u001b[1;33m]\u001b[0m\u001b[1;33m,\u001b[0m \u001b[0my\u001b[0m\u001b[1;33m.\u001b[0m\u001b[0miloc\u001b[0m\u001b[1;33m[\u001b[0m\u001b[0mtest_index\u001b[0m\u001b[1;33m]\u001b[0m\u001b[1;33m\u001b[0m\u001b[1;33m\u001b[0m\u001b[0m\n\u001b[0;32m    543\u001b[0m \u001b[1;33m\u001b[0m\u001b[0m\n\u001b[1;32m--> 544\u001b[1;33m         \u001b[0mclf\u001b[0m\u001b[1;33m.\u001b[0m\u001b[0mfit\u001b[0m\u001b[1;33m(\u001b[0m\u001b[0mX_train\u001b[0m\u001b[1;33m,\u001b[0m\u001b[0my_train\u001b[0m\u001b[1;33m)\u001b[0m\u001b[1;33m\u001b[0m\u001b[1;33m\u001b[0m\u001b[0m\n\u001b[0m\u001b[0;32m    545\u001b[0m         \u001b[0my_pred\u001b[0m \u001b[1;33m=\u001b[0m \u001b[0mclf\u001b[0m\u001b[1;33m.\u001b[0m\u001b[0mpredict\u001b[0m\u001b[1;33m(\u001b[0m\u001b[0mX_test\u001b[0m\u001b[1;33m)\u001b[0m\u001b[1;33m\u001b[0m\u001b[1;33m\u001b[0m\u001b[0m\n\u001b[0;32m    546\u001b[0m \u001b[1;33m\u001b[0m\u001b[0m\n",
      "\u001b[1;32m~\\Anaconda3\\lib\\site-packages\\sklearn\\svm\\_base.py\u001b[0m in \u001b[0;36mfit\u001b[1;34m(self, X, y, sample_weight)\u001b[0m\n\u001b[0;32m    215\u001b[0m \u001b[1;33m\u001b[0m\u001b[0m\n\u001b[0;32m    216\u001b[0m         \u001b[0mseed\u001b[0m \u001b[1;33m=\u001b[0m \u001b[0mrnd\u001b[0m\u001b[1;33m.\u001b[0m\u001b[0mrandint\u001b[0m\u001b[1;33m(\u001b[0m\u001b[0mnp\u001b[0m\u001b[1;33m.\u001b[0m\u001b[0miinfo\u001b[0m\u001b[1;33m(\u001b[0m\u001b[1;34m'i'\u001b[0m\u001b[1;33m)\u001b[0m\u001b[1;33m.\u001b[0m\u001b[0mmax\u001b[0m\u001b[1;33m)\u001b[0m\u001b[1;33m\u001b[0m\u001b[1;33m\u001b[0m\u001b[0m\n\u001b[1;32m--> 217\u001b[1;33m         \u001b[0mfit\u001b[0m\u001b[1;33m(\u001b[0m\u001b[0mX\u001b[0m\u001b[1;33m,\u001b[0m \u001b[0my\u001b[0m\u001b[1;33m,\u001b[0m \u001b[0msample_weight\u001b[0m\u001b[1;33m,\u001b[0m \u001b[0msolver_type\u001b[0m\u001b[1;33m,\u001b[0m \u001b[0mkernel\u001b[0m\u001b[1;33m,\u001b[0m \u001b[0mrandom_seed\u001b[0m\u001b[1;33m=\u001b[0m\u001b[0mseed\u001b[0m\u001b[1;33m)\u001b[0m\u001b[1;33m\u001b[0m\u001b[1;33m\u001b[0m\u001b[0m\n\u001b[0m\u001b[0;32m    218\u001b[0m         \u001b[1;31m# see comment on the other call to np.iinfo in this file\u001b[0m\u001b[1;33m\u001b[0m\u001b[1;33m\u001b[0m\u001b[1;33m\u001b[0m\u001b[0m\n\u001b[0;32m    219\u001b[0m \u001b[1;33m\u001b[0m\u001b[0m\n",
      "\u001b[1;32m~\\Anaconda3\\lib\\site-packages\\sklearn\\svm\\_base.py\u001b[0m in \u001b[0;36m_dense_fit\u001b[1;34m(self, X, y, sample_weight, solver_type, kernel, random_seed)\u001b[0m\n\u001b[0;32m    266\u001b[0m         \u001b[0mself\u001b[0m\u001b[1;33m.\u001b[0m\u001b[0msupport_\u001b[0m\u001b[1;33m,\u001b[0m \u001b[0mself\u001b[0m\u001b[1;33m.\u001b[0m\u001b[0msupport_vectors_\u001b[0m\u001b[1;33m,\u001b[0m \u001b[0mself\u001b[0m\u001b[1;33m.\u001b[0m\u001b[0m_n_support\u001b[0m\u001b[1;33m,\u001b[0m\u001b[0;31m \u001b[0m\u001b[0;31m\\\u001b[0m\u001b[1;33m\u001b[0m\u001b[1;33m\u001b[0m\u001b[0m\n\u001b[0;32m    267\u001b[0m             \u001b[0mself\u001b[0m\u001b[1;33m.\u001b[0m\u001b[0mdual_coef_\u001b[0m\u001b[1;33m,\u001b[0m \u001b[0mself\u001b[0m\u001b[1;33m.\u001b[0m\u001b[0mintercept_\u001b[0m\u001b[1;33m,\u001b[0m \u001b[0mself\u001b[0m\u001b[1;33m.\u001b[0m\u001b[0m_probA\u001b[0m\u001b[1;33m,\u001b[0m\u001b[0;31m \u001b[0m\u001b[0;31m\\\u001b[0m\u001b[1;33m\u001b[0m\u001b[1;33m\u001b[0m\u001b[0m\n\u001b[1;32m--> 268\u001b[1;33m             self._probB, self.fit_status_ = libsvm.fit(\n\u001b[0m\u001b[0;32m    269\u001b[0m                 \u001b[0mX\u001b[0m\u001b[1;33m,\u001b[0m \u001b[0my\u001b[0m\u001b[1;33m,\u001b[0m\u001b[1;33m\u001b[0m\u001b[1;33m\u001b[0m\u001b[0m\n\u001b[0;32m    270\u001b[0m                 \u001b[0msvm_type\u001b[0m\u001b[1;33m=\u001b[0m\u001b[0msolver_type\u001b[0m\u001b[1;33m,\u001b[0m \u001b[0msample_weight\u001b[0m\u001b[1;33m=\u001b[0m\u001b[0msample_weight\u001b[0m\u001b[1;33m,\u001b[0m\u001b[1;33m\u001b[0m\u001b[1;33m\u001b[0m\u001b[0m\n",
      "\u001b[1;31mKeyboardInterrupt\u001b[0m: "
     ]
    }
   ],
   "source": [
    "svm_estimator = svm.SVC(random_state=0,class_weight='balanced')\n",
    "RESULT_SVM = classificationPerformanceOverTime(df_sample, DATE, X_col, y_col, 11, svm_estimator, 3) "
   ]
  },
  {
   "cell_type": "code",
   "execution_count": null,
   "id": "architectural-introduction",
   "metadata": {},
   "outputs": [],
   "source": [
    "# KNN, SVM, LOG.REG., GAUSSIAN NB"
   ]
  },
  {
   "cell_type": "markdown",
   "id": "generous-democracy",
   "metadata": {},
   "source": [
    "### Function: classifyLabels(classifier, X, y, n, split = 'TimeSeries', smote = False, scale = None, days = 0)"
   ]
  },
  {
   "cell_type": "code",
   "execution_count": 242,
   "id": "interesting-boxing",
   "metadata": {
    "collapsed": true,
    "jupyter": {
     "outputs_hidden": true
    }
   },
   "outputs": [
    {
     "name": "stderr",
     "output_type": "stream",
     "text": [
      "<ipython-input-222-87b2216d9be3>:75: SettingWithCopyWarning: \n",
      "A value is trying to be set on a copy of a slice from a DataFrame.\n",
      "Try using .loc[row_indexer,col_indexer] = value instead\n",
      "\n",
      "See the caveats in the documentation: https://pandas.pydata.org/pandas-docs/stable/user_guide/indexing.html#returning-a-view-versus-a-copy\n",
      "  df_['productTotalReturned'] = productTotalReturned\n",
      "<ipython-input-223-2e46c60816db>:12: SettingWithCopyWarning: \n",
      "A value is trying to be set on a copy of a slice from a DataFrame.\n",
      "Try using .loc[row_indexer,col_indexer] = value instead\n",
      "\n",
      "See the caveats in the documentation: https://pandas.pydata.org/pandas-docs/stable/user_guide/indexing.html#returning-a-view-versus-a-copy\n",
      "  df_['orderDateX'] = df_['orderDate'] + timedelta(X)\n",
      "<ipython-input-224-c875244aaa5a>:16: SettingWithCopyWarning: \n",
      "A value is trying to be set on a copy of a slice from a DataFrame.\n",
      "Try using .loc[row_indexer,col_indexer] = value instead\n",
      "\n",
      "See the caveats in the documentation: https://pandas.pydata.org/pandas-docs/stable/user_guide/indexing.html#returning-a-view-versus-a-copy\n",
      "  df_['daysFirstOrder'] = (df_['orderDate'] - df_['firstOrder']).dt.days + 1\n",
      "<ipython-input-225-754f78ba8450>:13: SettingWithCopyWarning: \n",
      "A value is trying to be set on a copy of a slice from a DataFrame.\n",
      "Try using .loc[row_indexer,col_indexer] = value instead\n",
      "\n",
      "See the caveats in the documentation: https://pandas.pydata.org/pandas-docs/stable/user_guide/indexing.html#returning-a-view-versus-a-copy\n",
      "  df_['orderDateX'] = df_['orderDate'] + timedelta(X)\n",
      "C:\\Users\\thoma\\Anaconda3\\lib\\site-packages\\sklearn\\utils\\validation.py:72: DataConversionWarning: A column-vector y was passed when a 1d array was expected. Please change the shape of y to (n_samples, ), for example using ravel().\n",
      "  return f(**kwargs)\n"
     ]
    },
    {
     "name": "stdout",
     "output_type": "stream",
     "text": [
      "1\n"
     ]
    },
    {
     "name": "stderr",
     "output_type": "stream",
     "text": [
      "C:\\Users\\thoma\\Anaconda3\\lib\\site-packages\\sklearn\\utils\\validation.py:72: DataConversionWarning: A column-vector y was passed when a 1d array was expected. Please change the shape of y to (n_samples, ), for example using ravel().\n",
      "  return f(**kwargs)\n"
     ]
    },
    {
     "name": "stdout",
     "output_type": "stream",
     "text": [
      "2\n"
     ]
    },
    {
     "name": "stderr",
     "output_type": "stream",
     "text": [
      "C:\\Users\\thoma\\Anaconda3\\lib\\site-packages\\sklearn\\utils\\validation.py:72: DataConversionWarning: A column-vector y was passed when a 1d array was expected. Please change the shape of y to (n_samples, ), for example using ravel().\n",
      "  return f(**kwargs)\n"
     ]
    },
    {
     "name": "stdout",
     "output_type": "stream",
     "text": [
      "3\n",
      "{1: 0.8126, 2: 0.83996, 3: 0.8458}\n",
      "              precision    recall  f1-score   support\n",
      "\n",
      " KNOWN HAPPY       0.88      0.87      0.88     13647\n",
      "     UNHAPPY       0.49      0.56      0.53      3112\n",
      "     UNKNOWN       0.83      0.81      0.82      8241\n",
      "\n",
      "    accuracy                           0.81     25000\n",
      "   macro avg       0.74      0.75      0.74     25000\n",
      "weighted avg       0.82      0.81      0.82     25000\n",
      "\n",
      "              precision    recall  f1-score   support\n",
      "\n",
      " KNOWN HAPPY       0.86      0.92      0.89     15320\n",
      "     UNHAPPY       0.87      0.43      0.57      2913\n",
      "     UNKNOWN       0.78      0.84      0.81      6767\n",
      "\n",
      "    accuracy                           0.84     25000\n",
      "   macro avg       0.84      0.73      0.76     25000\n",
      "weighted avg       0.84      0.84      0.83     25000\n",
      "\n",
      "              precision    recall  f1-score   support\n",
      "\n",
      " KNOWN HAPPY       0.87      0.90      0.89     14006\n",
      "     UNHAPPY       0.85      0.41      0.55      2841\n",
      "     UNKNOWN       0.80      0.90      0.85      8153\n",
      "\n",
      "    accuracy                           0.85     25000\n",
      "   macro avg       0.84      0.74      0.76     25000\n",
      "weighted avg       0.85      0.85      0.84     25000\n",
      "\n"
     ]
    }
   ],
   "source": [
    "# Naive Bayes Bernoulli 1 day\n",
    "(X, y) = dataX(df,5)\n",
    "(accuracy,class_report) = classifyLabels(BernoulliNB(), X, y, n = 3)\n",
    "print(accuracy)\n",
    "for item in class_report.values():\n",
    "    print(item)"
   ]
  },
  {
   "cell_type": "code",
   "execution_count": null,
   "id": "accomplished-luxembourg",
   "metadata": {},
   "outputs": [],
   "source": [
    "warnings.filterwarnings(\"ignore\")"
   ]
  },
  {
   "cell_type": "code",
   "execution_count": 79,
   "id": "extreme-backup",
   "metadata": {
    "collapsed": true,
    "jupyter": {
     "outputs_hidden": true
    }
   },
   "outputs": [
    {
     "name": "stderr",
     "output_type": "stream",
     "text": [
      "C:\\Users\\thoma\\Anaconda3\\lib\\site-packages\\sklearn\\utils\\validation.py:72: DataConversionWarning: A column-vector y was passed when a 1d array was expected. Please change the shape of y to (n_samples, ), for example using ravel().\n",
      "  return f(**kwargs)\n"
     ]
    },
    {
     "name": "stdout",
     "output_type": "stream",
     "text": [
      "1\n"
     ]
    },
    {
     "name": "stderr",
     "output_type": "stream",
     "text": [
      "C:\\Users\\thoma\\Anaconda3\\lib\\site-packages\\sklearn\\utils\\validation.py:72: DataConversionWarning: A column-vector y was passed when a 1d array was expected. Please change the shape of y to (n_samples, ), for example using ravel().\n",
      "  return f(**kwargs)\n",
      "C:\\Users\\thoma\\Anaconda3\\lib\\site-packages\\sklearn\\metrics\\_classification.py:1221: UndefinedMetricWarning: Precision and F-score are ill-defined and being set to 0.0 in labels with no predicted samples. Use `zero_division` parameter to control this behavior.\n",
      "  _warn_prf(average, modifier, msg_start, len(result))\n"
     ]
    },
    {
     "name": "stdout",
     "output_type": "stream",
     "text": [
      "2\n"
     ]
    },
    {
     "name": "stderr",
     "output_type": "stream",
     "text": [
      "C:\\Users\\thoma\\Anaconda3\\lib\\site-packages\\sklearn\\utils\\validation.py:72: DataConversionWarning: A column-vector y was passed when a 1d array was expected. Please change the shape of y to (n_samples, ), for example using ravel().\n",
      "  return f(**kwargs)\n",
      "C:\\Users\\thoma\\Anaconda3\\lib\\site-packages\\sklearn\\metrics\\_classification.py:1221: UndefinedMetricWarning: Precision and F-score are ill-defined and being set to 0.0 in labels with no predicted samples. Use `zero_division` parameter to control this behavior.\n",
      "  _warn_prf(average, modifier, msg_start, len(result))\n"
     ]
    },
    {
     "name": "stdout",
     "output_type": "stream",
     "text": [
      "3\n",
      "{1: 0.588248, 2: 0.689048, 3: 0.675984}\n",
      "              precision    recall  f1-score   support\n",
      "\n",
      " KNOWN HAPPY       0.77      0.61      0.68     68195\n",
      "     UNHAPPY       0.15      0.29      0.20     15437\n",
      "     UNKNOWN       0.66      0.66      0.66     41368\n",
      "\n",
      "    accuracy                           0.59    125000\n",
      "   macro avg       0.53      0.52      0.51    125000\n",
      "weighted avg       0.66      0.59      0.62    125000\n",
      "\n",
      "              precision    recall  f1-score   support\n",
      "\n",
      " KNOWN HAPPY       0.69      0.94      0.80     75861\n",
      "     UNHAPPY       0.00      0.00      0.00     14564\n",
      "     UNKNOWN       0.67      0.44      0.53     34575\n",
      "\n",
      "    accuracy                           0.69    125000\n",
      "   macro avg       0.45      0.46      0.44    125000\n",
      "weighted avg       0.61      0.69      0.63    125000\n",
      "\n",
      "              precision    recall  f1-score   support\n",
      "\n",
      " KNOWN HAPPY       0.66      0.94      0.78     70405\n",
      "     UNHAPPY       0.00      0.00      0.00     14378\n",
      "     UNKNOWN       0.72      0.46      0.56     40217\n",
      "\n",
      "    accuracy                           0.68    125000\n",
      "   macro avg       0.46      0.47      0.45    125000\n",
      "weighted avg       0.61      0.68      0.62    125000\n",
      "\n"
     ]
    }
   ],
   "source": [
    "# Naive Bayes Bernoulli\n",
    "(accuracy,class_report) = classifyLabels(BernoulliNB(), X, y, n = 3)\n",
    "print(accuracy)\n",
    "for item in class_report.values():\n",
    "    print(item)"
   ]
  },
  {
   "cell_type": "code",
   "execution_count": 83,
   "id": "noted-outline",
   "metadata": {
    "collapsed": true,
    "jupyter": {
     "outputs_hidden": true
    }
   },
   "outputs": [
    {
     "name": "stderr",
     "output_type": "stream",
     "text": [
      "C:\\Users\\thoma\\Anaconda3\\lib\\site-packages\\sklearn\\utils\\validation.py:72: DataConversionWarning: A column-vector y was passed when a 1d array was expected. Please change the shape of y to (n_samples, ), for example using ravel().\n",
      "  return f(**kwargs)\n"
     ]
    },
    {
     "name": "stdout",
     "output_type": "stream",
     "text": [
      "1\n"
     ]
    },
    {
     "name": "stderr",
     "output_type": "stream",
     "text": [
      "C:\\Users\\thoma\\Anaconda3\\lib\\site-packages\\sklearn\\utils\\validation.py:72: DataConversionWarning: A column-vector y was passed when a 1d array was expected. Please change the shape of y to (n_samples, ), for example using ravel().\n",
      "  return f(**kwargs)\n"
     ]
    },
    {
     "name": "stdout",
     "output_type": "stream",
     "text": [
      "2\n"
     ]
    },
    {
     "name": "stderr",
     "output_type": "stream",
     "text": [
      "C:\\Users\\thoma\\Anaconda3\\lib\\site-packages\\sklearn\\utils\\validation.py:72: DataConversionWarning: A column-vector y was passed when a 1d array was expected. Please change the shape of y to (n_samples, ), for example using ravel().\n",
      "  return f(**kwargs)\n"
     ]
    },
    {
     "name": "stdout",
     "output_type": "stream",
     "text": [
      "3\n",
      "{1: 0.648288, 2: 0.646056, 3: 0.644936}\n",
      "              precision    recall  f1-score   support\n",
      "\n",
      " KNOWN HAPPY       0.68      0.84      0.75     68195\n",
      "     UNHAPPY       0.18      0.08      0.11     15437\n",
      "     UNKNOWN       0.67      0.55      0.61     41368\n",
      "\n",
      "    accuracy                           0.65    125000\n",
      "   macro avg       0.51      0.49      0.49    125000\n",
      "weighted avg       0.62      0.65      0.62    125000\n",
      "\n",
      "              precision    recall  f1-score   support\n",
      "\n",
      " KNOWN HAPPY       0.71      0.83      0.76     75861\n",
      "     UNHAPPY       0.18      0.10      0.13     14564\n",
      "     UNKNOWN       0.59      0.48      0.53     34575\n",
      "\n",
      "    accuracy                           0.65    125000\n",
      "   macro avg       0.49      0.47      0.47    125000\n",
      "weighted avg       0.61      0.65      0.62    125000\n",
      "\n",
      "              precision    recall  f1-score   support\n",
      "\n",
      " KNOWN HAPPY       0.72      0.78      0.75     70405\n",
      "     UNHAPPY       0.16      0.10      0.12     14378\n",
      "     UNKNOWN       0.62      0.60      0.61     40217\n",
      "\n",
      "    accuracy                           0.64    125000\n",
      "   macro avg       0.50      0.49      0.49    125000\n",
      "weighted avg       0.62      0.64      0.63    125000\n",
      "\n"
     ]
    }
   ],
   "source": [
    "# Naive Bayes Gaussian\n",
    "(accuracy,class_report) = classifyLabels(GaussianNB(), X, y, n = 3)\n",
    "print(accuracy)\n",
    "for item in class_report.values():\n",
    "    print(item)"
   ]
  },
  {
   "cell_type": "code",
   "execution_count": 70,
   "id": "correct-september",
   "metadata": {
    "collapsed": true,
    "jupyter": {
     "outputs_hidden": true
    }
   },
   "outputs": [
    {
     "name": "stderr",
     "output_type": "stream",
     "text": [
      "<ipython-input-62-8a91e4f11b03>:85: DataConversionWarning: A column-vector y was passed when a 1d array was expected. Please change the shape of y to (n_samples, ), for example using ravel().\n",
      "  clf = clf.fit(X_train,y_train)\n"
     ]
    },
    {
     "name": "stdout",
     "output_type": "stream",
     "text": [
      "1\n"
     ]
    },
    {
     "name": "stderr",
     "output_type": "stream",
     "text": [
      "<ipython-input-62-8a91e4f11b03>:85: DataConversionWarning: A column-vector y was passed when a 1d array was expected. Please change the shape of y to (n_samples, ), for example using ravel().\n",
      "  clf = clf.fit(X_train,y_train)\n"
     ]
    },
    {
     "name": "stdout",
     "output_type": "stream",
     "text": [
      "2\n"
     ]
    },
    {
     "name": "stderr",
     "output_type": "stream",
     "text": [
      "<ipython-input-62-8a91e4f11b03>:85: DataConversionWarning: A column-vector y was passed when a 1d array was expected. Please change the shape of y to (n_samples, ), for example using ravel().\n",
      "  clf = clf.fit(X_train,y_train)\n"
     ]
    },
    {
     "name": "stdout",
     "output_type": "stream",
     "text": [
      "3\n",
      "{1: 0.776368, 2: 0.757728, 3: 0.762664}\n",
      "              precision    recall  f1-score   support\n",
      "\n",
      "       KNOWN       0.84      0.83      0.83     83632\n",
      "     UNKNOWN       0.66      0.68      0.67     41368\n",
      "\n",
      "    accuracy                           0.78    125000\n",
      "   macro avg       0.75      0.75      0.75    125000\n",
      "weighted avg       0.78      0.78      0.78    125000\n",
      "\n",
      "              precision    recall  f1-score   support\n",
      "\n",
      "       KNOWN       0.83      0.83      0.83     90425\n",
      "     UNKNOWN       0.56      0.56      0.56     34575\n",
      "\n",
      "    accuracy                           0.76    125000\n",
      "   macro avg       0.70      0.70      0.70    125000\n",
      "weighted avg       0.76      0.76      0.76    125000\n",
      "\n",
      "              precision    recall  f1-score   support\n",
      "\n",
      "       KNOWN       0.81      0.84      0.83     84783\n",
      "     UNKNOWN       0.64      0.59      0.62     40217\n",
      "\n",
      "    accuracy                           0.76    125000\n",
      "   macro avg       0.73      0.72      0.72    125000\n",
      "weighted avg       0.76      0.76      0.76    125000\n",
      "\n"
     ]
    }
   ],
   "source": [
    "# K-NN\n",
    "(accuracy,class_report) = classifyLabels(neighbors.KNeighborsClassifier(n_neighbors = 3), X, y, n = 3, scale = 'MinMax')\n",
    "print(accuracy)\n",
    "for item in class_report.values():\n",
    "    print(item)"
   ]
  },
  {
   "cell_type": "code",
   "execution_count": 85,
   "id": "missing-remedy",
   "metadata": {
    "collapsed": true,
    "jupyter": {
     "outputs_hidden": true
    }
   },
   "outputs": [
    {
     "name": "stderr",
     "output_type": "stream",
     "text": [
      "C:\\Users\\thoma\\Anaconda3\\lib\\site-packages\\sklearn\\utils\\validation.py:72: DataConversionWarning: A column-vector y was passed when a 1d array was expected. Please change the shape of y to (n_samples, ), for example using ravel().\n",
      "  return f(**kwargs)\n"
     ]
    },
    {
     "name": "stdout",
     "output_type": "stream",
     "text": [
      "1\n"
     ]
    },
    {
     "name": "stderr",
     "output_type": "stream",
     "text": [
      "C:\\Users\\thoma\\Anaconda3\\lib\\site-packages\\sklearn\\utils\\validation.py:72: DataConversionWarning: A column-vector y was passed when a 1d array was expected. Please change the shape of y to (n_samples, ), for example using ravel().\n",
      "  return f(**kwargs)\n"
     ]
    },
    {
     "name": "stdout",
     "output_type": "stream",
     "text": [
      "2\n"
     ]
    },
    {
     "name": "stderr",
     "output_type": "stream",
     "text": [
      "C:\\Users\\thoma\\Anaconda3\\lib\\site-packages\\sklearn\\utils\\validation.py:72: DataConversionWarning: A column-vector y was passed when a 1d array was expected. Please change the shape of y to (n_samples, ), for example using ravel().\n",
      "  return f(**kwargs)\n"
     ]
    },
    {
     "name": "stdout",
     "output_type": "stream",
     "text": [
      "3\n",
      "{1: 0.678176, 2: 0.685968, 3: 0.7108}\n",
      "              precision    recall  f1-score   support\n",
      "\n",
      " KNOWN HAPPY       0.77      0.75      0.76     68195\n",
      "     UNHAPPY       0.20      0.03      0.05     15437\n",
      "     UNKNOWN       0.59      0.80      0.68     41368\n",
      "\n",
      "    accuracy                           0.68    125000\n",
      "   macro avg       0.52      0.53      0.50    125000\n",
      "weighted avg       0.64      0.68      0.65    125000\n",
      "\n",
      "              precision    recall  f1-score   support\n",
      "\n",
      " KNOWN HAPPY       0.75      0.83      0.79     75861\n",
      "     UNHAPPY       0.21      0.05      0.08     14564\n",
      "     UNKNOWN       0.58      0.64      0.61     34575\n",
      "\n",
      "    accuracy                           0.69    125000\n",
      "   macro avg       0.52      0.51      0.49    125000\n",
      "weighted avg       0.64      0.69      0.66    125000\n",
      "\n",
      "              precision    recall  f1-score   support\n",
      "\n",
      " KNOWN HAPPY       0.77      0.81      0.79     70405\n",
      "     UNHAPPY       0.21      0.03      0.05     14378\n",
      "     UNKNOWN       0.64      0.79      0.71     40217\n",
      "\n",
      "    accuracy                           0.71    125000\n",
      "   macro avg       0.54      0.54      0.52    125000\n",
      "weighted avg       0.66      0.71      0.68    125000\n",
      "\n"
     ]
    }
   ],
   "source": [
    "# Logistic Regression\n",
    "(accuracy,class_report) = classifyLabels(LogisticRegression(random_state=0,\n",
    "                                                            class_weight='balanced',\n",
    "                                                            fit_intercept=False,\n",
    "                                                            solver='liblinear'), X, y, n = 3, scale = 'MinMax')\n",
    "print(accuracy)\n",
    "for item in class_report.values():\n",
    "    print(item)"
   ]
  },
  {
   "cell_type": "code",
   "execution_count": null,
   "id": "medical-silence",
   "metadata": {},
   "outputs": [],
   "source": [
    "# SVM (very slow!)\n",
    "(accuracy,class_report) = classifyLabels(svm.SVC(random_state=0,\n",
    "                                                 class_weight='balanced'), X, y, n = 3, scale = 'MinMax')\n",
    "print(accuracy)\n",
    "for item in class_report.values():\n",
    "    print(item)"
   ]
  },
  {
   "cell_type": "code",
   "execution_count": 87,
   "id": "employed-hungarian",
   "metadata": {
    "collapsed": true,
    "jupyter": {
     "outputs_hidden": true
    }
   },
   "outputs": [
    {
     "name": "stderr",
     "output_type": "stream",
     "text": [
      "C:\\Users\\thoma\\Anaconda3\\lib\\site-packages\\imblearn\\utils\\_validation.py:635: FutureWarning: Pass sampling_strategy=not majority as keyword args. From version 0.9 passing these as positional arguments will result in an error\n",
      "  warnings.warn(\"Pass {} as keyword args. From version 0.9 \"\n"
     ]
    },
    {
     "name": "stdout",
     "output_type": "stream",
     "text": [
      "1\n",
      "2\n",
      "3\n",
      "{1: 0.603464, 2: 0.587064, 3: 0.603976}\n",
      "              precision    recall  f1-score   support\n",
      "\n",
      " KNOWN HAPPY       0.74      0.67      0.70     68195\n",
      "     UNHAPPY       0.14      0.18      0.16     15437\n",
      "     UNKNOWN       0.63      0.64      0.64     41368\n",
      "\n",
      "    accuracy                           0.60    125000\n",
      "   macro avg       0.50      0.50      0.50    125000\n",
      "weighted avg       0.63      0.60      0.61    125000\n",
      "\n",
      "              precision    recall  f1-score   support\n",
      "\n",
      " KNOWN HAPPY       0.75      0.66      0.70     75861\n",
      "     UNHAPPY       0.13      0.16      0.14     14564\n",
      "     UNKNOWN       0.52      0.61      0.56     34575\n",
      "\n",
      "    accuracy                           0.59    125000\n",
      "   macro avg       0.47      0.48      0.47    125000\n",
      "weighted avg       0.62      0.59      0.60    125000\n",
      "\n",
      "              precision    recall  f1-score   support\n",
      "\n",
      " KNOWN HAPPY       0.72      0.69      0.71     70405\n",
      "     UNHAPPY       0.13      0.18      0.15     14378\n",
      "     UNKNOWN       0.64      0.60      0.62     40217\n",
      "\n",
      "    accuracy                           0.60    125000\n",
      "   macro avg       0.50      0.49      0.49    125000\n",
      "weighted avg       0.63      0.60      0.62    125000\n",
      "\n"
     ]
    }
   ],
   "source": [
    "# Decision Tree\n",
    "(accuracy,class_report) = classifyLabels(DecisionTreeClassifier(random_state=0,\n",
    "                                                                class_weight='balanced'), X, y, n = 3)\n",
    "print(accuracy)\n",
    "for item in class_report.values():\n",
    "    print(item)"
   ]
  },
  {
   "cell_type": "code",
   "execution_count": 88,
   "id": "complimentary-garage",
   "metadata": {
    "collapsed": true,
    "jupyter": {
     "outputs_hidden": true
    }
   },
   "outputs": [
    {
     "name": "stderr",
     "output_type": "stream",
     "text": [
      "C:\\Users\\thoma\\Anaconda3\\lib\\site-packages\\sklearn\\utils\\validation.py:72: DataConversionWarning: A column-vector y was passed when a 1d array was expected. Please change the shape of y to (n_samples, ), for example using ravel().\n",
      "  return f(**kwargs)\n"
     ]
    },
    {
     "name": "stdout",
     "output_type": "stream",
     "text": [
      "1\n"
     ]
    },
    {
     "name": "stderr",
     "output_type": "stream",
     "text": [
      "C:\\Users\\thoma\\Anaconda3\\lib\\site-packages\\sklearn\\utils\\validation.py:72: DataConversionWarning: A column-vector y was passed when a 1d array was expected. Please change the shape of y to (n_samples, ), for example using ravel().\n",
      "  return f(**kwargs)\n"
     ]
    },
    {
     "name": "stdout",
     "output_type": "stream",
     "text": [
      "2\n"
     ]
    },
    {
     "name": "stderr",
     "output_type": "stream",
     "text": [
      "C:\\Users\\thoma\\Anaconda3\\lib\\site-packages\\sklearn\\utils\\validation.py:72: DataConversionWarning: A column-vector y was passed when a 1d array was expected. Please change the shape of y to (n_samples, ), for example using ravel().\n",
      "  return f(**kwargs)\n"
     ]
    },
    {
     "name": "stdout",
     "output_type": "stream",
     "text": [
      "3\n",
      "{1: 0.73088, 2: 0.740224, 3: 0.751032}\n",
      "              precision    recall  f1-score   support\n",
      "\n",
      " KNOWN HAPPY       0.75      0.87      0.81     68195\n",
      "     UNHAPPY       0.15      0.02      0.03     15437\n",
      "     UNKNOWN       0.71      0.77      0.74     41368\n",
      "\n",
      "    accuracy                           0.73    125000\n",
      "   macro avg       0.54      0.55      0.52    125000\n",
      "weighted avg       0.66      0.73      0.69    125000\n",
      "\n",
      "              precision    recall  f1-score   support\n",
      "\n",
      " KNOWN HAPPY       0.76      0.90      0.83     75861\n",
      "     UNHAPPY       0.25      0.01      0.01     14564\n",
      "     UNKNOWN       0.69      0.70      0.69     34575\n",
      "\n",
      "    accuracy                           0.74    125000\n",
      "   macro avg       0.57      0.54      0.51    125000\n",
      "weighted avg       0.68      0.74      0.69    125000\n",
      "\n",
      "              precision    recall  f1-score   support\n",
      "\n",
      " KNOWN HAPPY       0.74      0.93      0.83     70405\n",
      "     UNHAPPY       0.30      0.01      0.02     14378\n",
      "     UNKNOWN       0.77      0.71      0.74     40217\n",
      "\n",
      "    accuracy                           0.75    125000\n",
      "   macro avg       0.61      0.55      0.53    125000\n",
      "weighted avg       0.70      0.75      0.70    125000\n",
      "\n"
     ]
    }
   ],
   "source": [
    "# AdaBoost\n",
    "(accuracy,class_report) = classifyLabels(AdaBoostClassifier(base_estimator=DecisionTreeClassifier(max_depth=3),\n",
    "                                                            n_estimators=50,\n",
    "                                                            random_state=0), X, y, n = 3)\n",
    "print(accuracy)\n",
    "for item in class_report.values():\n",
    "    print(item)"
   ]
  },
  {
   "cell_type": "code",
   "execution_count": 89,
   "id": "worst-sigma",
   "metadata": {
    "collapsed": true,
    "jupyter": {
     "outputs_hidden": true
    }
   },
   "outputs": [
    {
     "name": "stderr",
     "output_type": "stream",
     "text": [
      "C:\\Users\\thoma\\Anaconda3\\lib\\site-packages\\sklearn\\utils\\validation.py:72: DataConversionWarning: A column-vector y was passed when a 1d array was expected. Please change the shape of y to (n_samples, ), for example using ravel().\n",
      "  return f(**kwargs)\n"
     ]
    },
    {
     "name": "stdout",
     "output_type": "stream",
     "text": [
      "1\n"
     ]
    },
    {
     "name": "stderr",
     "output_type": "stream",
     "text": [
      "C:\\Users\\thoma\\Anaconda3\\lib\\site-packages\\sklearn\\utils\\validation.py:72: DataConversionWarning: A column-vector y was passed when a 1d array was expected. Please change the shape of y to (n_samples, ), for example using ravel().\n",
      "  return f(**kwargs)\n"
     ]
    },
    {
     "name": "stdout",
     "output_type": "stream",
     "text": [
      "2\n"
     ]
    },
    {
     "name": "stderr",
     "output_type": "stream",
     "text": [
      "C:\\Users\\thoma\\Anaconda3\\lib\\site-packages\\sklearn\\utils\\validation.py:72: DataConversionWarning: A column-vector y was passed when a 1d array was expected. Please change the shape of y to (n_samples, ), for example using ravel().\n",
      "  return f(**kwargs)\n"
     ]
    },
    {
     "name": "stdout",
     "output_type": "stream",
     "text": [
      "3\n",
      "{1: 0.747288, 2: 0.75016, 3: 0.74272}\n",
      "              precision    recall  f1-score   support\n",
      "\n",
      " KNOWN HAPPY       0.75      0.92      0.82     68195\n",
      "     UNHAPPY       0.23      0.00      0.00     15437\n",
      "     UNKNOWN       0.75      0.75      0.75     41368\n",
      "\n",
      "    accuracy                           0.75    125000\n",
      "   macro avg       0.58      0.55      0.52    125000\n",
      "weighted avg       0.68      0.75      0.70    125000\n",
      "\n",
      "              precision    recall  f1-score   support\n",
      "\n",
      " KNOWN HAPPY       0.76      0.93      0.83     75861\n",
      "     UNHAPPY       0.45      0.00      0.00     14564\n",
      "     UNKNOWN       0.72      0.68      0.70     34575\n",
      "\n",
      "    accuracy                           0.75    125000\n",
      "   macro avg       0.65      0.54      0.51    125000\n",
      "weighted avg       0.71      0.75      0.70    125000\n",
      "\n",
      "              precision    recall  f1-score   support\n",
      "\n",
      " KNOWN HAPPY       0.73      0.94      0.82     70405\n",
      "     UNHAPPY       0.32      0.00      0.00     14378\n",
      "     UNKNOWN       0.78      0.66      0.72     40217\n",
      "\n",
      "    accuracy                           0.74    125000\n",
      "   macro avg       0.61      0.54      0.51    125000\n",
      "weighted avg       0.70      0.74      0.69    125000\n",
      "\n"
     ]
    }
   ],
   "source": [
    "# Gradient Boosting\n",
    "(accuracy,class_report) = classifyLabels(GradientBoostingClassifier(random_state=0), X, y, n = 3)\n",
    "print(accuracy)\n",
    "for item in class_report.values():\n",
    "    print(item)"
   ]
  },
  {
   "cell_type": "code",
   "execution_count": 90,
   "id": "antique-basis",
   "metadata": {
    "collapsed": true,
    "jupyter": {
     "outputs_hidden": true
    }
   },
   "outputs": [
    {
     "name": "stderr",
     "output_type": "stream",
     "text": [
      "C:\\Users\\thoma\\Anaconda3\\lib\\site-packages\\sklearn\\utils\\validation.py:72: DataConversionWarning: A column-vector y was passed when a 1d array was expected. Please change the shape of y to (n_samples, ), for example using ravel().\n",
      "  return f(**kwargs)\n"
     ]
    },
    {
     "name": "stdout",
     "output_type": "stream",
     "text": [
      "1\n"
     ]
    },
    {
     "name": "stderr",
     "output_type": "stream",
     "text": [
      "C:\\Users\\thoma\\Anaconda3\\lib\\site-packages\\sklearn\\utils\\validation.py:72: DataConversionWarning: A column-vector y was passed when a 1d array was expected. Please change the shape of y to (n_samples, ), for example using ravel().\n",
      "  return f(**kwargs)\n"
     ]
    },
    {
     "name": "stdout",
     "output_type": "stream",
     "text": [
      "2\n"
     ]
    },
    {
     "name": "stderr",
     "output_type": "stream",
     "text": [
      "C:\\Users\\thoma\\Anaconda3\\lib\\site-packages\\sklearn\\utils\\validation.py:72: DataConversionWarning: A column-vector y was passed when a 1d array was expected. Please change the shape of y to (n_samples, ), for example using ravel().\n",
      "  return f(**kwargs)\n"
     ]
    },
    {
     "name": "stdout",
     "output_type": "stream",
     "text": [
      "3\n",
      "{1: 0.75276, 2: 0.751056, 3: 0.757056}\n",
      "              precision    recall  f1-score   support\n",
      "\n",
      " KNOWN HAPPY       0.75      0.92      0.83     68195\n",
      "     UNHAPPY       0.25      0.00      0.01     15437\n",
      "     UNKNOWN       0.75      0.76      0.76     41368\n",
      "\n",
      "    accuracy                           0.75    125000\n",
      "   macro avg       0.59      0.56      0.53    125000\n",
      "weighted avg       0.69      0.75      0.70    125000\n",
      "\n",
      "              precision    recall  f1-score   support\n",
      "\n",
      " KNOWN HAPPY       0.77      0.92      0.83     75861\n",
      "     UNHAPPY       0.22      0.00      0.00     14564\n",
      "     UNKNOWN       0.71      0.71      0.71     34575\n",
      "\n",
      "    accuracy                           0.75    125000\n",
      "   macro avg       0.56      0.54      0.52    125000\n",
      "weighted avg       0.69      0.75      0.70    125000\n",
      "\n",
      "              precision    recall  f1-score   support\n",
      "\n",
      " KNOWN HAPPY       0.75      0.94      0.83     70405\n",
      "     UNHAPPY       0.26      0.00      0.00     14378\n",
      "     UNKNOWN       0.79      0.71      0.75     40217\n",
      "\n",
      "    accuracy                           0.76    125000\n",
      "   macro avg       0.60      0.55      0.53    125000\n",
      "weighted avg       0.70      0.76      0.71    125000\n",
      "\n"
     ]
    }
   ],
   "source": [
    "# Hist Gradient Boosting\n",
    "(accuracy,class_report) = classifyLabels(HistGradientBoostingClassifier(random_state=0), X, y, n = 3)\n",
    "print(accuracy)\n",
    "for item in class_report.values():\n",
    "    print(item)"
   ]
  },
  {
   "cell_type": "code",
   "execution_count": 91,
   "id": "ambient-privacy",
   "metadata": {
    "collapsed": true,
    "jupyter": {
     "outputs_hidden": true
    }
   },
   "outputs": [
    {
     "name": "stderr",
     "output_type": "stream",
     "text": [
      "C:\\Users\\thoma\\Anaconda3\\lib\\site-packages\\sklearn\\utils\\validation.py:72: DataConversionWarning: A column-vector y was passed when a 1d array was expected. Please change the shape of y to (n_samples, ), for example using ravel().\n",
      "  return f(**kwargs)\n"
     ]
    },
    {
     "name": "stdout",
     "output_type": "stream",
     "text": [
      "1\n"
     ]
    },
    {
     "name": "stderr",
     "output_type": "stream",
     "text": [
      "C:\\Users\\thoma\\Anaconda3\\lib\\site-packages\\sklearn\\utils\\validation.py:72: DataConversionWarning: A column-vector y was passed when a 1d array was expected. Please change the shape of y to (n_samples, ), for example using ravel().\n",
      "  return f(**kwargs)\n"
     ]
    },
    {
     "name": "stdout",
     "output_type": "stream",
     "text": [
      "2\n"
     ]
    },
    {
     "name": "stderr",
     "output_type": "stream",
     "text": [
      "C:\\Users\\thoma\\Anaconda3\\lib\\site-packages\\sklearn\\utils\\validation.py:72: DataConversionWarning: A column-vector y was passed when a 1d array was expected. Please change the shape of y to (n_samples, ), for example using ravel().\n",
      "  return f(**kwargs)\n"
     ]
    },
    {
     "name": "stdout",
     "output_type": "stream",
     "text": [
      "3\n",
      "{1: 0.704248, 2: 0.691872, 3: 0.691832}\n",
      "              precision    recall  f1-score   support\n",
      "\n",
      " KNOWN HAPPY       0.74      0.84      0.79     68195\n",
      "     UNHAPPY       0.15      0.05      0.07     15437\n",
      "     UNKNOWN       0.70      0.72      0.71     41368\n",
      "\n",
      "    accuracy                           0.70    125000\n",
      "   macro avg       0.53      0.54      0.52    125000\n",
      "weighted avg       0.66      0.70      0.67    125000\n",
      "\n",
      "              precision    recall  f1-score   support\n",
      "\n",
      " KNOWN HAPPY       0.76      0.82      0.79     75861\n",
      "     UNHAPPY       0.16      0.06      0.09     14564\n",
      "     UNKNOWN       0.62      0.68      0.65     34575\n",
      "\n",
      "    accuracy                           0.69    125000\n",
      "   macro avg       0.51      0.52      0.51    125000\n",
      "weighted avg       0.65      0.69      0.67    125000\n",
      "\n",
      "              precision    recall  f1-score   support\n",
      "\n",
      " KNOWN HAPPY       0.74      0.82      0.78     70405\n",
      "     UNHAPPY       0.14      0.07      0.10     14378\n",
      "     UNKNOWN       0.70      0.68      0.69     40217\n",
      "\n",
      "    accuracy                           0.69    125000\n",
      "   macro avg       0.53      0.53      0.52    125000\n",
      "weighted avg       0.66      0.69      0.67    125000\n",
      "\n"
     ]
    }
   ],
   "source": [
    "# Bagging\n",
    "(accuracy,class_report) = classifyLabels(BaggingClassifier(n_estimators=10,\n",
    "                                                           random_state=0), X, y, n = 3)\n",
    "print(accuracy)\n",
    "for item in class_report.values():\n",
    "    print(item)"
   ]
  },
  {
   "cell_type": "code",
   "execution_count": 92,
   "id": "lucky-hepatitis",
   "metadata": {
    "collapsed": true,
    "jupyter": {
     "outputs_hidden": true
    }
   },
   "outputs": [
    {
     "name": "stderr",
     "output_type": "stream",
     "text": [
      "<ipython-input-62-8a91e4f11b03>:85: DataConversionWarning: A column-vector y was passed when a 1d array was expected. Please change the shape of y to (n_samples,), for example using ravel().\n",
      "  clf = clf.fit(X_train,y_train)\n"
     ]
    },
    {
     "name": "stdout",
     "output_type": "stream",
     "text": [
      "1\n"
     ]
    },
    {
     "name": "stderr",
     "output_type": "stream",
     "text": [
      "<ipython-input-62-8a91e4f11b03>:85: DataConversionWarning: A column-vector y was passed when a 1d array was expected. Please change the shape of y to (n_samples,), for example using ravel().\n",
      "  clf = clf.fit(X_train,y_train)\n"
     ]
    },
    {
     "name": "stdout",
     "output_type": "stream",
     "text": [
      "2\n"
     ]
    },
    {
     "name": "stderr",
     "output_type": "stream",
     "text": [
      "<ipython-input-62-8a91e4f11b03>:85: DataConversionWarning: A column-vector y was passed when a 1d array was expected. Please change the shape of y to (n_samples,), for example using ravel().\n",
      "  clf = clf.fit(X_train,y_train)\n"
     ]
    },
    {
     "name": "stdout",
     "output_type": "stream",
     "text": [
      "3\n",
      "{1: 0.741472, 2: 0.743208, 3: 0.752912}\n",
      "              precision    recall  f1-score   support\n",
      "\n",
      " KNOWN HAPPY       0.75      0.90      0.82     68195\n",
      "     UNHAPPY       0.18      0.03      0.05     15437\n",
      "     UNKNOWN       0.75      0.74      0.75     41368\n",
      "\n",
      "    accuracy                           0.74    125000\n",
      "   macro avg       0.56      0.56      0.54    125000\n",
      "weighted avg       0.68      0.74      0.70    125000\n",
      "\n",
      "              precision    recall  f1-score   support\n",
      "\n",
      " KNOWN HAPPY       0.77      0.91      0.83     75861\n",
      "     UNHAPPY       0.17      0.03      0.05     14564\n",
      "     UNKNOWN       0.72      0.69      0.70     34575\n",
      "\n",
      "    accuracy                           0.74    125000\n",
      "   macro avg       0.55      0.54      0.53    125000\n",
      "weighted avg       0.68      0.74      0.70    125000\n",
      "\n",
      "              precision    recall  f1-score   support\n",
      "\n",
      " KNOWN HAPPY       0.75      0.93      0.83     70405\n",
      "     UNHAPPY       0.18      0.03      0.05     14378\n",
      "     UNKNOWN       0.79      0.71      0.75     40217\n",
      "\n",
      "    accuracy                           0.75    125000\n",
      "   macro avg       0.57      0.55      0.54    125000\n",
      "weighted avg       0.70      0.75      0.71    125000\n",
      "\n"
     ]
    }
   ],
   "source": [
    "# Random Forest\n",
    "(accuracy,class_report) = classifyLabels(RandomForestClassifier(n_estimators=10,\n",
    "                                                                random_state=0,\n",
    "                                                                class_weight='balanced'), X, y, n = 3)\n",
    "print(accuracy)\n",
    "for item in class_report.values():\n",
    "    print(item)"
   ]
  }
 ],
 "metadata": {
  "kernelspec": {
   "display_name": "Python 3",
   "language": "python",
   "name": "python3"
  },
  "language_info": {
   "codemirror_mode": {
    "name": "ipython",
    "version": 3
   },
   "file_extension": ".py",
   "mimetype": "text/x-python",
   "name": "python",
   "nbconvert_exporter": "python",
   "pygments_lexer": "ipython3",
   "version": "3.8.3"
  }
 },
 "nbformat": 4,
 "nbformat_minor": 5
}
