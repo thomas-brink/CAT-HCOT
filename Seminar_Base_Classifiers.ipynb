{
 "cells": [
  {
   "cell_type": "code",
   "execution_count": 53,
   "id": "collected-speech",
   "metadata": {
    "execution": {
     "iopub.execute_input": "2021-01-29T13:16:57.088294Z",
     "iopub.status.busy": "2021-01-29T13:16:57.088294Z",
     "iopub.status.idle": "2021-01-29T13:16:58.746658Z",
     "shell.execute_reply": "2021-01-29T13:16:58.745616Z",
     "shell.execute_reply.started": "2021-01-29T13:16:57.088294Z"
    }
   },
   "outputs": [
    {
     "name": "stdin",
     "output_type": "stream",
     "text": [
      "Once deleted, variables cannot be recovered. Proceed (y/[n])?  y\n"
     ]
    }
   ],
   "source": [
    "%reset"
   ]
  },
  {
   "cell_type": "code",
   "execution_count": 54,
   "id": "ancient-lexington",
   "metadata": {
    "execution": {
     "iopub.execute_input": "2021-01-29T13:17:00.288017Z",
     "iopub.status.busy": "2021-01-29T13:17:00.288017Z",
     "iopub.status.idle": "2021-01-29T13:17:00.326579Z",
     "shell.execute_reply": "2021-01-29T13:17:00.325546Z",
     "shell.execute_reply.started": "2021-01-29T13:17:00.288017Z"
    }
   },
   "outputs": [],
   "source": [
    "import pandas as pd\n",
    "import numpy as np\n",
    "import pyodbc as py\n",
    "\n",
    "import warnings\n",
    "\n",
    "from datetime import date, timedelta, datetime\n",
    "import time\n",
    "\n",
    "import matplotlib.pyplot as plt\n",
    "import seaborn as sns\n",
    "%matplotlib inline\n",
    "\n",
    "from sklearn import preprocessing\n",
    "from sklearn.utils import class_weight\n",
    "from sklearn.preprocessing import LabelEncoder\n",
    "from sklearn.preprocessing import OneHotEncoder\n",
    "from sklearn.model_selection import cross_val_predict\n",
    "from sklearn.model_selection import cross_validate, cross_val_score\n",
    "from sklearn.pipeline import Pipeline\n",
    "\n",
    "from sklearn import neighbors\n",
    "from sklearn import svm\n",
    "from sklearn.tree import DecisionTreeClassifier\n",
    "from sklearn.ensemble import RandomForestClassifier\n",
    "from sklearn.ensemble import BaggingClassifier\n",
    "from sklearn.ensemble import AdaBoostClassifier\n",
    "from sklearn.ensemble import GradientBoostingClassifier\n",
    "from sklearn.naive_bayes import GaussianNB\n",
    "from sklearn.naive_bayes import BernoulliNB\n",
    "from sklearn.experimental import enable_hist_gradient_boosting\n",
    "from sklearn.ensemble import HistGradientBoostingClassifier\n",
    "from sklearn import metrics\n",
    "from sklearn.linear_model import LogisticRegression\n",
    "\n",
    "from sklearn.model_selection import TimeSeriesSplit\n",
    "from sklearn.model_selection import KFold\n",
    "from sklearn.model_selection import StratifiedKFold\n",
    "\n",
    "from imblearn.over_sampling import SMOTE\n",
    "\n",
    "import keras\n",
    "import tensorflow as tf\n",
    "from tensorflow.keras.models import Sequential\n",
    "from tensorflow.keras.layers import Dense,Activation,Dropout\n",
    "from tensorflow.keras.wrappers.scikit_learn import KerasClassifier\n",
    "from keras.utils import np_utils\n",
    "\n",
    "import importlib\n",
    "import functions\n",
    "importlib.reload(functions)\n",
    "\n",
    "pd.set_option('display.max_columns', None)"
   ]
  },
  {
   "cell_type": "code",
   "execution_count": 55,
   "id": "hollow-phenomenon",
   "metadata": {
    "execution": {
     "iopub.execute_input": "2021-01-29T13:17:01.792942Z",
     "iopub.status.busy": "2021-01-29T13:17:01.791937Z",
     "iopub.status.idle": "2021-01-29T13:17:01.810200Z",
     "shell.execute_reply": "2021-01-29T13:17:01.809227Z",
     "shell.execute_reply.started": "2021-01-29T13:17:01.792942Z"
    }
   },
   "outputs": [],
   "source": [
    "warnings.filterwarnings('ignore')"
   ]
  },
  {
   "cell_type": "markdown",
   "id": "baking-burns",
   "metadata": {},
   "source": [
    "# Data Loading"
   ]
  },
  {
   "cell_type": "markdown",
   "id": "enhanced-termination",
   "metadata": {},
   "source": [
    "## Option 1: via Data_Cleaning_Preparation code (preferred) -> load in .csv file"
   ]
  },
  {
   "cell_type": "code",
   "execution_count": 56,
   "id": "still-george",
   "metadata": {
    "execution": {
     "iopub.execute_input": "2021-01-29T13:17:04.216941Z",
     "iopub.status.busy": "2021-01-29T13:17:04.216941Z",
     "iopub.status.idle": "2021-01-29T13:18:00.668146Z",
     "shell.execute_reply": "2021-01-29T13:18:00.667217Z",
     "shell.execute_reply.started": "2021-01-29T13:17:04.216941Z"
    }
   },
   "outputs": [],
   "source": [
    "df = pd.read_csv('/Users/thoma/Documents/seminar_data/cleaned_prepared_data.csv', low_memory = True)"
   ]
  },
  {
   "cell_type": "code",
   "execution_count": 57,
   "id": "resident-pickup",
   "metadata": {
    "execution": {
     "iopub.execute_input": "2021-01-29T13:18:00.669154Z",
     "iopub.status.busy": "2021-01-29T13:18:00.669154Z",
     "iopub.status.idle": "2021-01-29T13:18:14.017968Z",
     "shell.execute_reply": "2021-01-29T13:18:14.016964Z",
     "shell.execute_reply.started": "2021-01-29T13:18:00.669154Z"
    }
   },
   "outputs": [],
   "source": [
    "df['orderDate'] = pd.to_datetime(df['orderDate'])\n",
    "df['cancellationDate'] = pd.to_datetime(df['cancellationDate'])\n",
    "df['promisedDeliveryDate'] = pd.to_datetime(df['promisedDeliveryDate'])\n",
    "df['shipmentDate'] = pd.to_datetime(df['shipmentDate'])\n",
    "df['dateTimeFirstDeliveryMoment'] = pd.to_datetime(df['dateTimeFirstDeliveryMoment'])\n",
    "df['startDateCase'] = pd.to_datetime(df['startDateCase'])\n",
    "df['returnDateTime'] = pd.to_datetime(df['returnDateTime'])\n",
    "df['registrationDateSeller'] = pd.to_datetime(df['registrationDateSeller'])"
   ]
  },
  {
   "cell_type": "code",
   "execution_count": 58,
   "id": "bright-hughes",
   "metadata": {
    "execution": {
     "iopub.execute_input": "2021-01-29T13:18:14.024968Z",
     "iopub.status.busy": "2021-01-29T13:18:14.024968Z",
     "iopub.status.idle": "2021-01-29T13:18:14.033624Z",
     "shell.execute_reply": "2021-01-29T13:18:14.033125Z",
     "shell.execute_reply.started": "2021-01-29T13:18:14.024968Z"
    }
   },
   "outputs": [],
   "source": [
    "#Fixed Columns:\n",
    "DATE = ['orderDate']\n",
    "BASIC = ['totalPrice','quantityOrdered','fulfilmentByBol','countryCodeNL','countryOriginNL','countryOriginBE',\n",
    "        'countryOriginDE','productTitleLength','promisedDeliveryDays','partnerSellingDays', 'orderCorona']\n",
    "WEEK = ['orderMonday','orderTuesday','orderWednesday','orderThursday','orderFriday','orderSaturday','orderSunday']\n",
    "MONTH = ['orderJanuary','orderFebruary','orderMarch','orderApril','orderMay','orderJune',\n",
    "         'orderJuly','orderAugust','orderSeptember','orderOctober','orderNovember','orderDecember']\n",
    "YEAR = ['orderYear2020']\n",
    "GROUP = ['groupHealth','groupHome','groupSports','groupComputer','groupPets','groupToys','groupBooks', \n",
    "         'groupBaby', 'groupMusic', 'groupFood','groupOffice','groupFashion','groupOther','groupCar']\n",
    "\n",
    "#Dynamic Columns:\n",
    "TRANSPORTERX = ['transporterPOSTNL/X','transporterDHL/X','transporterDPD/X','transporterBRIEF/X','transporterOTHER/X']\n",
    "KNOWNX = ['caseKnownX','returnKnownX','cancellationKnownX','onTimeDeliveryKnownX','lateDeliveryKnownX']\n",
    "PRODUCTX = ['productOrderCountX','productTotalCountX','productTotalReturnedX','productReturnFractionX']\n",
    "SELLERX = ['sellerDailyOrdersX']\n",
    "\n",
    "#Determinants\n",
    "DETERMINANT = ['noReturn', 'noCase', 'noCancellation', 'onTimeDelivery']\n",
    "\n",
    "#Classifications\n",
    "CLASSIFICATION = ['generalMatchClassification','detailedMatchClassification','binaryMatchClassification','determinantClassification']"
   ]
  },
  {
   "cell_type": "markdown",
   "id": "quarterly-wrong",
   "metadata": {},
   "source": [
    "## Option 2: via direct sql connection"
   ]
  },
  {
   "cell_type": "code",
   "execution_count": 5,
   "id": "reserved-printing",
   "metadata": {
    "jupyter": {
     "source_hidden": true
    }
   },
   "outputs": [],
   "source": [
    "connection_string = (    \n",
    "    r'Driver={SQL Server};'\n",
    "    r'Server=LAPTOP-LD74USH0\\SQLEXPRESS;'\n",
    "    r'Integrated Security=SSPI;'\n",
    "    r'Trusted_Connection=yes;'\n",
    ")\n",
    "pd.set_option('display.max_columns', None)"
   ]
  },
  {
   "cell_type": "code",
   "execution_count": 6,
   "id": "through-creek",
   "metadata": {
    "jupyter": {
     "source_hidden": true
    }
   },
   "outputs": [],
   "source": [
    "def sql2df(query, params=[], parse_dates=None, dsn='SQLEXPRESS'):\n",
    "        with py.connect(connection_string, readonly=True) as conn:\n",
    "            return pd.read_sql(query, conn, params=params, parse_dates=parse_dates)"
   ]
  },
  {
   "cell_type": "code",
   "execution_count": 7,
   "id": "fifth-ontario",
   "metadata": {
    "jupyter": {
     "source_hidden": true
    }
   },
   "outputs": [],
   "source": [
    "# First work with random top 100.000 (to reduce computation time) - 45secs\n",
    "\n",
    "df = sql2df('''\n",
    "SELECT TOP 500000 * FROM Seminar.dbo.cleaned_bol_data_full\n",
    "ORDER BY newid();\n",
    "''')\n"
   ]
  },
  {
   "cell_type": "code",
   "execution_count": 321,
   "id": "blessed-oregon",
   "metadata": {
    "jupyter": {
     "source_hidden": true
    }
   },
   "outputs": [],
   "source": [
    "# 9.5 minutes \n",
    "\n",
    "df = sql2df('''\n",
    "SELECT * FROM Seminar.dbo.cleaned_bol_data_full;\n",
    "''')"
   ]
  },
  {
   "cell_type": "code",
   "execution_count": 8,
   "id": "middle-productivity",
   "metadata": {
    "collapsed": true,
    "jupyter": {
     "outputs_hidden": true,
     "source_hidden": true
    }
   },
   "outputs": [
    {
     "data": {
      "text/plain": [
       "orderDate             datetime64[ns]\n",
       "productId                     object\n",
       "sellerId                      object\n",
       "totalPrice                   float64\n",
       "quantityOrdered                int64\n",
       "                           ...      \n",
       "orderSeptember                  bool\n",
       "orderOctober                    bool\n",
       "orderNovember                   bool\n",
       "orderDecember                   bool\n",
       "productTitleLength             int64\n",
       "Length: 78, dtype: object"
      ]
     },
     "execution_count": 8,
     "metadata": {},
     "output_type": "execute_result"
    }
   ],
   "source": [
    "#Change type of columns\n",
    "dtype = {'calculationDefinitive': bool,\n",
    "         'noCancellation': bool,\n",
    "         'noCase': bool,\n",
    "         'hasOneCase': bool,\n",
    "         'hasMoreCases': bool,\n",
    "         'noReturn': bool,\n",
    "         'orderWeekend': bool,\n",
    "         'orderCorona': bool,\n",
    "         'countryCodeNL': bool,\n",
    "         'fulfilmentByBol': bool,\n",
    "         'countryOriginNL': bool,\n",
    "         'countryOriginBE': bool,\n",
    "         'countryOriginDE': bool,\n",
    "         'orderMonday': bool,\n",
    "         'orderTuesday': bool,\n",
    "         'orderWednesday': bool,\n",
    "         'orderThursday': bool,\n",
    "         'orderFriday': bool,\n",
    "         'orderSaturday': bool,\n",
    "         'orderSunday': bool,\n",
    "         'orderJanuary': bool,\n",
    "         'orderFebruary': bool,\n",
    "         'orderMarch': bool,\n",
    "         'orderApril': bool,\n",
    "         'orderMay': bool,\n",
    "         'orderJune': bool,\n",
    "         'orderJuly': bool,\n",
    "         'orderAugust': bool,\n",
    "         'orderSeptember': bool,\n",
    "         'orderOctober': bool,\n",
    "         'orderNovember': bool,\n",
    "         'orderDecember': bool}\n",
    "\n",
    "df = df.astype(dtype)\n",
    "\n",
    "#Transform dates to date-type\n",
    "df['orderDate'] = pd.to_datetime(df['orderDate'], errors='coerce')\n",
    "df['cancellationDate'] = pd.to_datetime(df['cancellationDate'], errors='coerce')\n",
    "df['promisedDeliveryDate'] = pd.to_datetime(df['promisedDeliveryDate'], errors='coerce')\n",
    "df['shipmentDate'] = pd.to_datetime(df['shipmentDate'], errors='coerce')\n",
    "df['dateTimeFirstDeliveryMoment'] = pd.to_datetime(df['dateTimeFirstDeliveryMoment'], errors='coerce')\n",
    "df['startDateCase'] = pd.to_datetime(df['startDateCase'], errors='coerce')\n",
    "df['returnDateTime'] = pd.to_datetime(df['returnDateTime'], errors='coerce')\n",
    "df['registrationDateSeller'] = pd.to_datetime(df['registrationDateSeller'], errors='coerce')\n",
    "\n",
    "df.dtypes"
   ]
  },
  {
   "cell_type": "markdown",
   "id": "official-huntington",
   "metadata": {
    "jupyter": {
     "source_hidden": true
    }
   },
   "source": [
    "#### Add variables"
   ]
  },
  {
   "cell_type": "code",
   "execution_count": 9,
   "id": "documentary-potter",
   "metadata": {
    "jupyter": {
     "source_hidden": true
    }
   },
   "outputs": [],
   "source": [
    "# Binary classification variable\n",
    "df['binaryMatchClassification'] = df['generalMatchClassification'].apply(lambda x: 'UNKNOWN' if x == 'UNKNOWN' else 'KNOWN')\n",
    "\n",
    "# Dummy for year = 2020\n",
    "df['orderYear2020'] = df['orderYear'].apply(lambda x: True if x == 2020 else False)"
   ]
  },
  {
   "cell_type": "markdown",
   "id": "extended-today",
   "metadata": {
    "jupyter": {
     "source_hidden": true
    }
   },
   "source": [
    "#### Transporter Groups"
   ]
  },
  {
   "cell_type": "code",
   "execution_count": 10,
   "id": "extended-correction",
   "metadata": {
    "jupyter": {
     "source_hidden": true
    }
   },
   "outputs": [],
   "source": [
    "def transporterCluster(transporterCode):\n",
    "    \"\"\"\n",
    "    Function to create a new manually clustered transporter variable: 28 -> 5 categories\n",
    "    \"\"\"\n",
    "    if transporterCode in ['AH-NL','TNT','TNT-EXPRESS','TNT-EXTRA']:\n",
    "        return 'POSTNL'\n",
    "    elif transporterCode in ['DHL','DHL_DE','DHLFORYOU']:\n",
    "        return 'DHL'\n",
    "    elif transporterCode in ['DPD-NL','DPD-BE']:\n",
    "        return 'DPD'\n",
    "    elif transporterCode in ['BRIEFPOST','BPOST_BE','BPOST_BRIEF','DHL-GLOBAL-MAIL','TNT_BRIEF']:\n",
    "        return 'BRIEF'\n",
    "    else:\n",
    "        return 'OTHER'"
   ]
  },
  {
   "cell_type": "code",
   "execution_count": 11,
   "id": "flush-seattle",
   "metadata": {
    "collapsed": true,
    "jupyter": {
     "outputs_hidden": true,
     "source_hidden": true
    }
   },
   "outputs": [
    {
     "data": {
      "text/plain": [
       "POSTNL    221508\n",
       "BRIEF     165035\n",
       "DHL        45527\n",
       "DPD        34475\n",
       "OTHER      33455\n",
       "Name: transporterCodeGeneral, dtype: int64"
      ]
     },
     "execution_count": 11,
     "metadata": {},
     "output_type": "execute_result"
    }
   ],
   "source": [
    "df['transporterCodeGeneral'] = df['transporterCode'].apply(transporterCluster)\n",
    "df['transporterCodeGeneral'].value_counts()"
   ]
  },
  {
   "cell_type": "markdown",
   "id": "dangerous-decline",
   "metadata": {
    "jupyter": {
     "source_hidden": true
    }
   },
   "source": [
    "#### Product Groups"
   ]
  },
  {
   "cell_type": "code",
   "execution_count": 12,
   "id": "international-placement",
   "metadata": {
    "jupyter": {
     "source_hidden": true
    }
   },
   "outputs": [],
   "source": [
    "def productGroupCluster(productGroup):\n",
    "    \"\"\"\n",
    "    Function to create a new manually clustered product group variable based on categories bol.com\n",
    "    60 -> 14 groups.\n",
    "    \"\"\"\n",
    "    if productGroup in ['Dutch Books PG','Ebooks and Audiobooks','International Books PG']:\n",
    "        return 'Books'\n",
    "    elif productGroup in ['Games Accessories','Games Consoles','Games Software Physical',\n",
    "                          'Movies','Music']:\n",
    "        return 'Music, Film & Games'\n",
    "    elif productGroup in ['Camera','Desktop Monitor and Beamer','Ereaders and Accessories',\n",
    "                          'Laptop Computers','PC Accessories','Personal Audio',\n",
    "                          'Sound and Vision Accessories','Storage and Network',\n",
    "                          'Telephone and Tablet Accessories','Telephones and Tablets','Television']:\n",
    "        return 'Computer & Electronics'\n",
    "    elif productGroup in ['General Toys','Recreational and Outdoor Toys']:\n",
    "        return 'Toys & Hobby'\n",
    "    elif productGroup in ['Baby and Kids Fashion','Baby PG']:\n",
    "        return 'Baby & Kids'\n",
    "    elif productGroup in ['Daily Care PG','Health PG','Perfumery PG','Personal Care']:\n",
    "        return 'Health & Care'\n",
    "    elif productGroup in ['Footwear','Jewelry and Watches','Mens and Womens Fashion','Wearables']:\n",
    "        return 'Fashion, Shoes & Accessories'\n",
    "    elif productGroup in ['Bodyfashion and Beachwear','Camping and Outdoor','Cycling',\n",
    "                          'Sporting Equipment','Sportswear','Travel Bags and Accessories']:\n",
    "        return 'Sports, Outdoor & Travel'\n",
    "    elif productGroup in ['Educational Dutch','Educational International','Printing and Ink']:\n",
    "        return 'Office & School'\n",
    "    elif productGroup in ['Supermarket PG'] :\n",
    "        return 'Food & Beverage'\n",
    "    elif productGroup in ['Furniture','Heating and Air','Home Decoration','Home Entertainment',\n",
    "                          'Household','Household Appliances','Kitchen','Kitchen Machines',\n",
    "                          'Lighting','Major Domestic Appliances PG','Plumbing and Safety']:\n",
    "        return 'Home, Cooking & Household'\n",
    "    elif productGroup in ['Garden','Pet PG','Textiles','Tools and Paint']:\n",
    "        return 'Pets, Garden & Jobs'\n",
    "    elif productGroup in ['Car and Motorcycle'] :\n",
    "        return 'Car & Motor'\n",
    "    else:\n",
    "        return 'Other'"
   ]
  },
  {
   "cell_type": "code",
   "execution_count": 13,
   "id": "metropolitan-retailer",
   "metadata": {
    "collapsed": true,
    "jupyter": {
     "outputs_hidden": true,
     "source_hidden": true
    }
   },
   "outputs": [
    {
     "data": {
      "text/plain": [
       "Computer & Electronics          145687\n",
       "Home, Cooking & Household        83348\n",
       "Sports, Outdoor & Travel         54598\n",
       "Toys & Hobby                     52834\n",
       "Pets, Garden & Jobs              35484\n",
       "Health & Care                    31315\n",
       "Food & Beverage                  26802\n",
       "Books                            19435\n",
       "Music, Film & Games              17343\n",
       "Baby & Kids                      11784\n",
       "Fashion, Shoes & Accessories     11453\n",
       "Office & School                   5450\n",
       "Car & Motor                       3149\n",
       "Other                             1318\n",
       "Name: productGroupGeneral, dtype: int64"
      ]
     },
     "execution_count": 13,
     "metadata": {},
     "output_type": "execute_result"
    }
   ],
   "source": [
    "df['productGroupGeneral'] = df['productGroup'].apply(productGroupCluster)\n",
    "df['productGroupGeneral'].value_counts()"
   ]
  },
  {
   "cell_type": "code",
   "execution_count": 14,
   "id": "biological-emperor",
   "metadata": {
    "jupyter": {
     "source_hidden": true
    }
   },
   "outputs": [],
   "source": [
    "#Create dummies of new product grouping\n",
    "for group in df['productGroupGeneral'].unique():\n",
    "    \n",
    "    columnName = 'group' + group.split(' ')[0].replace(',','')\n",
    "    df[columnName] = df['productGroupGeneral'].apply(lambda x: True if x == group else False)"
   ]
  },
  {
   "cell_type": "code",
   "execution_count": 15,
   "id": "major-closer",
   "metadata": {
    "collapsed": true,
    "jupyter": {
     "outputs_hidden": true,
     "source_hidden": true
    }
   },
   "outputs": [
    {
     "name": "stdout",
     "output_type": "stream",
     "text": [
      "Index(['orderDate', 'productId', 'sellerId', 'totalPrice', 'quantityOrdered',\n",
      "       'countryCode', 'cancellationDate', 'cancellationReasonCode',\n",
      "       'promisedDeliveryDate', 'shipmentDate', 'transporterCode',\n",
      "       'transporterName', 'transporterNameOther',\n",
      "       'dateTimeFirstDeliveryMoment', 'fulfilmentType', 'startDateCase',\n",
      "       'cntDistinctCaseIds', 'returnDateTime', 'quantityReturned',\n",
      "       'returnCode', 'productTitle', 'brickName', 'chunkName', 'productGroup',\n",
      "       'productSubGroup', 'productSubSubGroup', 'registrationDateSeller',\n",
      "       'countryOriginSeller', 'currentCountryAvailabilitySeller',\n",
      "       'calculationDefinitive', 'noCancellation', 'onTimeDelivery', 'noCase',\n",
      "       'hasOneCase', 'hasMoreCases', 'noReturn', 'detailedMatchClassification',\n",
      "       'generalMatchClassification', 'determinantClassification', 'orderYear',\n",
      "       'orderMonth', 'orderYearMonth', 'orderWeekday', 'orderWeekend',\n",
      "       'orderCorona', 'transporterFeature', 'partnerSellingMonths',\n",
      "       'cancellationDays', 'shipmentDays', 'promisedDeliveryDays',\n",
      "       'actualDeliveryDays', 'caseDays', 'returnDays', 'countryCodeNL',\n",
      "       'fulfilmentByBol', 'countryOriginNL', 'countryOriginBE',\n",
      "       'countryOriginDE', 'orderMonday', 'orderTuesday', 'orderWednesday',\n",
      "       'orderThursday', 'orderFriday', 'orderSaturday', 'orderSunday',\n",
      "       'orderJanuary', 'orderFebruary', 'orderMarch', 'orderApril', 'orderMay',\n",
      "       'orderJune', 'orderJuly', 'orderAugust', 'orderSeptember',\n",
      "       'orderOctober', 'orderNovember', 'orderDecember', 'productTitleLength',\n",
      "       'binaryMatchClassification', 'orderYear2020', 'transporterCodeGeneral',\n",
      "       'productGroupGeneral', 'groupHome', 'groupHealth', 'groupSports',\n",
      "       'groupFood', 'groupToys', 'groupComputer', 'groupMusic', 'groupFashion',\n",
      "       'groupBooks', 'groupPets', 'groupBaby', 'groupCar', 'groupOffice',\n",
      "       'groupOther'],\n",
      "      dtype='object')\n",
      "Total:  96  columns\n"
     ]
    }
   ],
   "source": [
    "print(df.columns)\n",
    "print('Total: ',len(df.columns),' columns')"
   ]
  },
  {
   "cell_type": "code",
   "execution_count": 16,
   "id": "beneficial-gibson",
   "metadata": {
    "jupyter": {
     "source_hidden": true
    }
   },
   "outputs": [],
   "source": [
    "#Fixed Columns:\n",
    "BASIC = ['totalPrice','quantityOrdered','fulfilmentByBol','countryCodeNL','countryOriginNL','countryOriginBE',\n",
    "        'countryOriginDE','productTitleLength']\n",
    "WEEK = ['orderMonday','orderTuesday','orderWednesday','orderThursday','orderFriday','orderSaturday','orderSunday']\n",
    "MONTH = ['orderJanuary','orderFebruary','orderMarch','orderApril','orderMay','orderJune',\n",
    "         'orderJuly','orderAugust','orderSeptember','orderOctober','orderNovember','orderDecember']\n",
    "GROUP = ['groupHealth','groupHome','groupSports','groupComputer','groupPets','groupToys','groupBooks', \n",
    "         'groupBaby', 'groupMusic', 'groupFood','groupOffice','groupFashion','groupOther','groupCar']\n",
    "\n",
    "#Dynamic Columns:\n",
    "TRANSPORTERX = ['transporterPOSTNL/X','transporterDHL/X','transporterDPD/X','transporterBRIEF/X','transporterOTHER/X']\n",
    "KNOWNX = ['caseKnownX','returnKnownX','cancellationKnownX','onTimeDeliveryKnownX','lateDeliveryKnownX']\n",
    "PRODUCTX = ['productOrderCountX','productTotalCountX','productTotalReturnedX','productReturnFractionX']\n",
    "SELLERX = ['sellerDailyOrdersX']\n",
    "\n",
    "#Classifications\n",
    "CLASS = ['generalMatchClassification']"
   ]
  },
  {
   "cell_type": "markdown",
   "id": "threatened-topic",
   "metadata": {},
   "source": [
    "# Create Sample"
   ]
  },
  {
   "cell_type": "code",
   "execution_count": 59,
   "id": "manual-spelling",
   "metadata": {
    "execution": {
     "iopub.execute_input": "2021-01-29T13:18:14.036642Z",
     "iopub.status.busy": "2021-01-29T13:18:14.035638Z",
     "iopub.status.idle": "2021-01-29T13:19:19.663358Z",
     "shell.execute_reply": "2021-01-29T13:19:19.654656Z",
     "shell.execute_reply.started": "2021-01-29T13:18:14.036642Z"
    }
   },
   "outputs": [],
   "source": [
    "X_col = BASIC + WEEK + MONTH + YEAR + GROUP + TRANSPORTERX + KNOWNX + PRODUCTX + SELLERX\n",
    "y_col = [CLASSIFICATION[0]]  # Match label prediction\n",
    "#Y_col = [CLASSIFICATION[2]]  # Binary classification\n",
    "\n",
    "df_sample = df\n",
    "#df_sample = df.sample(n = 1000000, replace = False, random_state = 0)\n",
    "df_sample = functions.addProductColumns(df_sample,0)\n",
    "df_sample = functions.addSellerColumns(df_sample,0)"
   ]
  },
  {
   "cell_type": "markdown",
   "id": "tough-association",
   "metadata": {},
   "source": [
    "# Function-based Classification"
   ]
  },
  {
   "cell_type": "markdown",
   "id": "separate-champion",
   "metadata": {},
   "source": [
    "## Classification"
   ]
  },
  {
   "cell_type": "code",
   "execution_count": 60,
   "id": "interpreted-modification",
   "metadata": {
    "execution": {
     "iopub.execute_input": "2021-01-29T13:19:34.345835Z",
     "iopub.status.busy": "2021-01-29T13:19:34.344836Z",
     "iopub.status.idle": "2021-01-29T14:41:11.798209Z",
     "shell.execute_reply": "2021-01-29T14:41:11.797103Z",
     "shell.execute_reply.started": "2021-01-29T13:19:34.345835Z"
    }
   },
   "outputs": [
    {
     "name": "stdout",
     "output_type": "stream",
     "text": [
      "DAYS:  0\n",
      "DAYS:  1\n",
      "DAYS:  2\n",
      "DAYS:  3\n",
      "DAYS:  4\n",
      "DAYS:  5\n",
      "DAYS:  6\n",
      "DAYS:  7\n",
      "DAYS:  8\n",
      "DAYS:  9\n",
      "DAYS:  10\n"
     ]
    }
   ],
   "source": [
    "PREDICT_DAYS = 11\n",
    "REP = 3\n",
    "\n",
    "resultDic = {}\n",
    "\n",
    "#estimator = svm.SVC(random_state=0,class_weight='balanced')\n",
    "# estimator = AdaBoostClassifier(base_estimator=DecisionTreeClassifier(max_depth=5),n_estimators=50,random_state=0)\n",
    "estimator = DecisionTreeClassifier(random_state=0,class_weight='balanced')\n",
    "# estimator = RandomForestClassifier(n_estimators=10,random_state=0,class_weight='balanced')\n",
    "# estimator = KerasClassifier(build_fn = neuralNetwork,epochs = 10,verbose = 0)\n",
    "# scaler = preprocessing.MinMaxScaler()\n",
    "\n",
    "for DAYS in range(PREDICT_DAYS):\n",
    "    \n",
    "    X, y = functions.dataX(df_sample, DATE, X_col, y_col, DAYS)\n",
    "\n",
    "    result = functions.classifyLabelsNew(estimator, X, y, n = REP)\n",
    "\n",
    "    resultDic[DAYS] = result\n",
    "    \n",
    "    print('DAYS: ',DAYS)\n",
    "\n",
    "RESULT = pd.DataFrame.from_dict(resultDic, orient='index')"
   ]
  },
  {
   "cell_type": "code",
   "execution_count": 64,
   "id": "built-headline",
   "metadata": {
    "execution": {
     "iopub.execute_input": "2021-01-29T14:44:50.079602Z",
     "iopub.status.busy": "2021-01-29T14:44:50.079602Z",
     "iopub.status.idle": "2021-01-29T14:44:50.128133Z",
     "shell.execute_reply": "2021-01-29T14:44:50.126763Z",
     "shell.execute_reply.started": "2021-01-29T14:44:50.079602Z"
    }
   },
   "outputs": [],
   "source": [
    "RESULT.to_excel('/Users/thoma/Documents/seminar_data/base_classifier_results.xlsx', sheet_name = 'DT, Full')"
   ]
  },
  {
   "cell_type": "code",
   "execution_count": 65,
   "id": "correct-resident",
   "metadata": {
    "execution": {
     "iopub.execute_input": "2021-01-29T14:45:21.009745Z",
     "iopub.status.busy": "2021-01-29T14:45:21.008746Z",
     "iopub.status.idle": "2021-01-29T14:45:21.027885Z",
     "shell.execute_reply": "2021-01-29T14:45:21.026842Z",
     "shell.execute_reply.started": "2021-01-29T14:45:21.009745Z"
    }
   },
   "outputs": [],
   "source": [
    "RESULT_DT = RESULT"
   ]
  },
  {
   "cell_type": "code",
   "execution_count": null,
   "id": "resistant-perth",
   "metadata": {},
   "outputs": [],
   "source": [
    "def classificationPerformanceOverTime(df, DATE, X_col, y_col, DAYS, estimator, REP, split = 'TimeSeries', smote = False, scale = None, NN = False):\n",
    "    resultDic = {}\n",
    "    \n",
    "    for days in range(DAYS):\n",
    "        X, y = functions.dataX(df, DATE, X_col, y_col, days)\n",
    "        result = functions.classifyLabelsNew(estimator, X, y, n = REP, split, smote, scale, NN)\n",
    "        resultDic[days] = result\n",
    "        print('DAYS: ', days)\n",
    "    \n",
    "    RESULT = pd.DataFrame.from_dict(resultDic, orient = 'index')\n",
    "    return(RESULT)"
   ]
  },
  {
   "cell_type": "markdown",
   "id": "inside-thumbnail",
   "metadata": {},
   "source": [
    "### Function: classifyLabels(classifier, X, y, n, split = 'TimeSeries', smote = False, scale = None, days = 0)"
   ]
  },
  {
   "cell_type": "code",
   "execution_count": 242,
   "id": "seeing-elizabeth",
   "metadata": {
    "collapsed": true,
    "jupyter": {
     "outputs_hidden": true
    }
   },
   "outputs": [
    {
     "name": "stderr",
     "output_type": "stream",
     "text": [
      "<ipython-input-222-87b2216d9be3>:75: SettingWithCopyWarning: \n",
      "A value is trying to be set on a copy of a slice from a DataFrame.\n",
      "Try using .loc[row_indexer,col_indexer] = value instead\n",
      "\n",
      "See the caveats in the documentation: https://pandas.pydata.org/pandas-docs/stable/user_guide/indexing.html#returning-a-view-versus-a-copy\n",
      "  df_['productTotalReturned'] = productTotalReturned\n",
      "<ipython-input-223-2e46c60816db>:12: SettingWithCopyWarning: \n",
      "A value is trying to be set on a copy of a slice from a DataFrame.\n",
      "Try using .loc[row_indexer,col_indexer] = value instead\n",
      "\n",
      "See the caveats in the documentation: https://pandas.pydata.org/pandas-docs/stable/user_guide/indexing.html#returning-a-view-versus-a-copy\n",
      "  df_['orderDateX'] = df_['orderDate'] + timedelta(X)\n",
      "<ipython-input-224-c875244aaa5a>:16: SettingWithCopyWarning: \n",
      "A value is trying to be set on a copy of a slice from a DataFrame.\n",
      "Try using .loc[row_indexer,col_indexer] = value instead\n",
      "\n",
      "See the caveats in the documentation: https://pandas.pydata.org/pandas-docs/stable/user_guide/indexing.html#returning-a-view-versus-a-copy\n",
      "  df_['daysFirstOrder'] = (df_['orderDate'] - df_['firstOrder']).dt.days + 1\n",
      "<ipython-input-225-754f78ba8450>:13: SettingWithCopyWarning: \n",
      "A value is trying to be set on a copy of a slice from a DataFrame.\n",
      "Try using .loc[row_indexer,col_indexer] = value instead\n",
      "\n",
      "See the caveats in the documentation: https://pandas.pydata.org/pandas-docs/stable/user_guide/indexing.html#returning-a-view-versus-a-copy\n",
      "  df_['orderDateX'] = df_['orderDate'] + timedelta(X)\n",
      "C:\\Users\\thoma\\Anaconda3\\lib\\site-packages\\sklearn\\utils\\validation.py:72: DataConversionWarning: A column-vector y was passed when a 1d array was expected. Please change the shape of y to (n_samples, ), for example using ravel().\n",
      "  return f(**kwargs)\n"
     ]
    },
    {
     "name": "stdout",
     "output_type": "stream",
     "text": [
      "1\n"
     ]
    },
    {
     "name": "stderr",
     "output_type": "stream",
     "text": [
      "C:\\Users\\thoma\\Anaconda3\\lib\\site-packages\\sklearn\\utils\\validation.py:72: DataConversionWarning: A column-vector y was passed when a 1d array was expected. Please change the shape of y to (n_samples, ), for example using ravel().\n",
      "  return f(**kwargs)\n"
     ]
    },
    {
     "name": "stdout",
     "output_type": "stream",
     "text": [
      "2\n"
     ]
    },
    {
     "name": "stderr",
     "output_type": "stream",
     "text": [
      "C:\\Users\\thoma\\Anaconda3\\lib\\site-packages\\sklearn\\utils\\validation.py:72: DataConversionWarning: A column-vector y was passed when a 1d array was expected. Please change the shape of y to (n_samples, ), for example using ravel().\n",
      "  return f(**kwargs)\n"
     ]
    },
    {
     "name": "stdout",
     "output_type": "stream",
     "text": [
      "3\n",
      "{1: 0.8126, 2: 0.83996, 3: 0.8458}\n",
      "              precision    recall  f1-score   support\n",
      "\n",
      " KNOWN HAPPY       0.88      0.87      0.88     13647\n",
      "     UNHAPPY       0.49      0.56      0.53      3112\n",
      "     UNKNOWN       0.83      0.81      0.82      8241\n",
      "\n",
      "    accuracy                           0.81     25000\n",
      "   macro avg       0.74      0.75      0.74     25000\n",
      "weighted avg       0.82      0.81      0.82     25000\n",
      "\n",
      "              precision    recall  f1-score   support\n",
      "\n",
      " KNOWN HAPPY       0.86      0.92      0.89     15320\n",
      "     UNHAPPY       0.87      0.43      0.57      2913\n",
      "     UNKNOWN       0.78      0.84      0.81      6767\n",
      "\n",
      "    accuracy                           0.84     25000\n",
      "   macro avg       0.84      0.73      0.76     25000\n",
      "weighted avg       0.84      0.84      0.83     25000\n",
      "\n",
      "              precision    recall  f1-score   support\n",
      "\n",
      " KNOWN HAPPY       0.87      0.90      0.89     14006\n",
      "     UNHAPPY       0.85      0.41      0.55      2841\n",
      "     UNKNOWN       0.80      0.90      0.85      8153\n",
      "\n",
      "    accuracy                           0.85     25000\n",
      "   macro avg       0.84      0.74      0.76     25000\n",
      "weighted avg       0.85      0.85      0.84     25000\n",
      "\n"
     ]
    }
   ],
   "source": [
    "# Naive Bayes Bernoulli 1 day\n",
    "(X, y) = dataX(df,5)\n",
    "(accuracy,class_report) = classifyLabels(BernoulliNB(), X, y, n = 3)\n",
    "print(accuracy)\n",
    "for item in class_report.values():\n",
    "    print(item)"
   ]
  },
  {
   "cell_type": "code",
   "execution_count": null,
   "id": "future-reviewer",
   "metadata": {},
   "outputs": [],
   "source": [
    "warnings.filterwarnings(\"ignore\")"
   ]
  },
  {
   "cell_type": "code",
   "execution_count": 79,
   "id": "front-syria",
   "metadata": {
    "collapsed": true,
    "jupyter": {
     "outputs_hidden": true
    }
   },
   "outputs": [
    {
     "name": "stderr",
     "output_type": "stream",
     "text": [
      "C:\\Users\\thoma\\Anaconda3\\lib\\site-packages\\sklearn\\utils\\validation.py:72: DataConversionWarning: A column-vector y was passed when a 1d array was expected. Please change the shape of y to (n_samples, ), for example using ravel().\n",
      "  return f(**kwargs)\n"
     ]
    },
    {
     "name": "stdout",
     "output_type": "stream",
     "text": [
      "1\n"
     ]
    },
    {
     "name": "stderr",
     "output_type": "stream",
     "text": [
      "C:\\Users\\thoma\\Anaconda3\\lib\\site-packages\\sklearn\\utils\\validation.py:72: DataConversionWarning: A column-vector y was passed when a 1d array was expected. Please change the shape of y to (n_samples, ), for example using ravel().\n",
      "  return f(**kwargs)\n",
      "C:\\Users\\thoma\\Anaconda3\\lib\\site-packages\\sklearn\\metrics\\_classification.py:1221: UndefinedMetricWarning: Precision and F-score are ill-defined and being set to 0.0 in labels with no predicted samples. Use `zero_division` parameter to control this behavior.\n",
      "  _warn_prf(average, modifier, msg_start, len(result))\n"
     ]
    },
    {
     "name": "stdout",
     "output_type": "stream",
     "text": [
      "2\n"
     ]
    },
    {
     "name": "stderr",
     "output_type": "stream",
     "text": [
      "C:\\Users\\thoma\\Anaconda3\\lib\\site-packages\\sklearn\\utils\\validation.py:72: DataConversionWarning: A column-vector y was passed when a 1d array was expected. Please change the shape of y to (n_samples, ), for example using ravel().\n",
      "  return f(**kwargs)\n",
      "C:\\Users\\thoma\\Anaconda3\\lib\\site-packages\\sklearn\\metrics\\_classification.py:1221: UndefinedMetricWarning: Precision and F-score are ill-defined and being set to 0.0 in labels with no predicted samples. Use `zero_division` parameter to control this behavior.\n",
      "  _warn_prf(average, modifier, msg_start, len(result))\n"
     ]
    },
    {
     "name": "stdout",
     "output_type": "stream",
     "text": [
      "3\n",
      "{1: 0.588248, 2: 0.689048, 3: 0.675984}\n",
      "              precision    recall  f1-score   support\n",
      "\n",
      " KNOWN HAPPY       0.77      0.61      0.68     68195\n",
      "     UNHAPPY       0.15      0.29      0.20     15437\n",
      "     UNKNOWN       0.66      0.66      0.66     41368\n",
      "\n",
      "    accuracy                           0.59    125000\n",
      "   macro avg       0.53      0.52      0.51    125000\n",
      "weighted avg       0.66      0.59      0.62    125000\n",
      "\n",
      "              precision    recall  f1-score   support\n",
      "\n",
      " KNOWN HAPPY       0.69      0.94      0.80     75861\n",
      "     UNHAPPY       0.00      0.00      0.00     14564\n",
      "     UNKNOWN       0.67      0.44      0.53     34575\n",
      "\n",
      "    accuracy                           0.69    125000\n",
      "   macro avg       0.45      0.46      0.44    125000\n",
      "weighted avg       0.61      0.69      0.63    125000\n",
      "\n",
      "              precision    recall  f1-score   support\n",
      "\n",
      " KNOWN HAPPY       0.66      0.94      0.78     70405\n",
      "     UNHAPPY       0.00      0.00      0.00     14378\n",
      "     UNKNOWN       0.72      0.46      0.56     40217\n",
      "\n",
      "    accuracy                           0.68    125000\n",
      "   macro avg       0.46      0.47      0.45    125000\n",
      "weighted avg       0.61      0.68      0.62    125000\n",
      "\n"
     ]
    }
   ],
   "source": [
    "# Naive Bayes Bernoulli\n",
    "(accuracy,class_report) = classifyLabels(BernoulliNB(), X, y, n = 3)\n",
    "print(accuracy)\n",
    "for item in class_report.values():\n",
    "    print(item)"
   ]
  },
  {
   "cell_type": "code",
   "execution_count": 83,
   "id": "literary-antibody",
   "metadata": {
    "collapsed": true,
    "jupyter": {
     "outputs_hidden": true
    }
   },
   "outputs": [
    {
     "name": "stderr",
     "output_type": "stream",
     "text": [
      "C:\\Users\\thoma\\Anaconda3\\lib\\site-packages\\sklearn\\utils\\validation.py:72: DataConversionWarning: A column-vector y was passed when a 1d array was expected. Please change the shape of y to (n_samples, ), for example using ravel().\n",
      "  return f(**kwargs)\n"
     ]
    },
    {
     "name": "stdout",
     "output_type": "stream",
     "text": [
      "1\n"
     ]
    },
    {
     "name": "stderr",
     "output_type": "stream",
     "text": [
      "C:\\Users\\thoma\\Anaconda3\\lib\\site-packages\\sklearn\\utils\\validation.py:72: DataConversionWarning: A column-vector y was passed when a 1d array was expected. Please change the shape of y to (n_samples, ), for example using ravel().\n",
      "  return f(**kwargs)\n"
     ]
    },
    {
     "name": "stdout",
     "output_type": "stream",
     "text": [
      "2\n"
     ]
    },
    {
     "name": "stderr",
     "output_type": "stream",
     "text": [
      "C:\\Users\\thoma\\Anaconda3\\lib\\site-packages\\sklearn\\utils\\validation.py:72: DataConversionWarning: A column-vector y was passed when a 1d array was expected. Please change the shape of y to (n_samples, ), for example using ravel().\n",
      "  return f(**kwargs)\n"
     ]
    },
    {
     "name": "stdout",
     "output_type": "stream",
     "text": [
      "3\n",
      "{1: 0.648288, 2: 0.646056, 3: 0.644936}\n",
      "              precision    recall  f1-score   support\n",
      "\n",
      " KNOWN HAPPY       0.68      0.84      0.75     68195\n",
      "     UNHAPPY       0.18      0.08      0.11     15437\n",
      "     UNKNOWN       0.67      0.55      0.61     41368\n",
      "\n",
      "    accuracy                           0.65    125000\n",
      "   macro avg       0.51      0.49      0.49    125000\n",
      "weighted avg       0.62      0.65      0.62    125000\n",
      "\n",
      "              precision    recall  f1-score   support\n",
      "\n",
      " KNOWN HAPPY       0.71      0.83      0.76     75861\n",
      "     UNHAPPY       0.18      0.10      0.13     14564\n",
      "     UNKNOWN       0.59      0.48      0.53     34575\n",
      "\n",
      "    accuracy                           0.65    125000\n",
      "   macro avg       0.49      0.47      0.47    125000\n",
      "weighted avg       0.61      0.65      0.62    125000\n",
      "\n",
      "              precision    recall  f1-score   support\n",
      "\n",
      " KNOWN HAPPY       0.72      0.78      0.75     70405\n",
      "     UNHAPPY       0.16      0.10      0.12     14378\n",
      "     UNKNOWN       0.62      0.60      0.61     40217\n",
      "\n",
      "    accuracy                           0.64    125000\n",
      "   macro avg       0.50      0.49      0.49    125000\n",
      "weighted avg       0.62      0.64      0.63    125000\n",
      "\n"
     ]
    }
   ],
   "source": [
    "# Naive Bayes Gaussian\n",
    "(accuracy,class_report) = classifyLabels(GaussianNB(), X, y, n = 3)\n",
    "print(accuracy)\n",
    "for item in class_report.values():\n",
    "    print(item)"
   ]
  },
  {
   "cell_type": "code",
   "execution_count": 70,
   "id": "magnetic-fifth",
   "metadata": {
    "collapsed": true,
    "jupyter": {
     "outputs_hidden": true
    }
   },
   "outputs": [
    {
     "name": "stderr",
     "output_type": "stream",
     "text": [
      "<ipython-input-62-8a91e4f11b03>:85: DataConversionWarning: A column-vector y was passed when a 1d array was expected. Please change the shape of y to (n_samples, ), for example using ravel().\n",
      "  clf = clf.fit(X_train,y_train)\n"
     ]
    },
    {
     "name": "stdout",
     "output_type": "stream",
     "text": [
      "1\n"
     ]
    },
    {
     "name": "stderr",
     "output_type": "stream",
     "text": [
      "<ipython-input-62-8a91e4f11b03>:85: DataConversionWarning: A column-vector y was passed when a 1d array was expected. Please change the shape of y to (n_samples, ), for example using ravel().\n",
      "  clf = clf.fit(X_train,y_train)\n"
     ]
    },
    {
     "name": "stdout",
     "output_type": "stream",
     "text": [
      "2\n"
     ]
    },
    {
     "name": "stderr",
     "output_type": "stream",
     "text": [
      "<ipython-input-62-8a91e4f11b03>:85: DataConversionWarning: A column-vector y was passed when a 1d array was expected. Please change the shape of y to (n_samples, ), for example using ravel().\n",
      "  clf = clf.fit(X_train,y_train)\n"
     ]
    },
    {
     "name": "stdout",
     "output_type": "stream",
     "text": [
      "3\n",
      "{1: 0.776368, 2: 0.757728, 3: 0.762664}\n",
      "              precision    recall  f1-score   support\n",
      "\n",
      "       KNOWN       0.84      0.83      0.83     83632\n",
      "     UNKNOWN       0.66      0.68      0.67     41368\n",
      "\n",
      "    accuracy                           0.78    125000\n",
      "   macro avg       0.75      0.75      0.75    125000\n",
      "weighted avg       0.78      0.78      0.78    125000\n",
      "\n",
      "              precision    recall  f1-score   support\n",
      "\n",
      "       KNOWN       0.83      0.83      0.83     90425\n",
      "     UNKNOWN       0.56      0.56      0.56     34575\n",
      "\n",
      "    accuracy                           0.76    125000\n",
      "   macro avg       0.70      0.70      0.70    125000\n",
      "weighted avg       0.76      0.76      0.76    125000\n",
      "\n",
      "              precision    recall  f1-score   support\n",
      "\n",
      "       KNOWN       0.81      0.84      0.83     84783\n",
      "     UNKNOWN       0.64      0.59      0.62     40217\n",
      "\n",
      "    accuracy                           0.76    125000\n",
      "   macro avg       0.73      0.72      0.72    125000\n",
      "weighted avg       0.76      0.76      0.76    125000\n",
      "\n"
     ]
    }
   ],
   "source": [
    "# K-NN\n",
    "(accuracy,class_report) = classifyLabels(neighbors.KNeighborsClassifier(n_neighbors = 3), X, y, n = 3, scale = 'MinMax')\n",
    "print(accuracy)\n",
    "for item in class_report.values():\n",
    "    print(item)"
   ]
  },
  {
   "cell_type": "code",
   "execution_count": 85,
   "id": "adjustable-means",
   "metadata": {
    "collapsed": true,
    "jupyter": {
     "outputs_hidden": true
    }
   },
   "outputs": [
    {
     "name": "stderr",
     "output_type": "stream",
     "text": [
      "C:\\Users\\thoma\\Anaconda3\\lib\\site-packages\\sklearn\\utils\\validation.py:72: DataConversionWarning: A column-vector y was passed when a 1d array was expected. Please change the shape of y to (n_samples, ), for example using ravel().\n",
      "  return f(**kwargs)\n"
     ]
    },
    {
     "name": "stdout",
     "output_type": "stream",
     "text": [
      "1\n"
     ]
    },
    {
     "name": "stderr",
     "output_type": "stream",
     "text": [
      "C:\\Users\\thoma\\Anaconda3\\lib\\site-packages\\sklearn\\utils\\validation.py:72: DataConversionWarning: A column-vector y was passed when a 1d array was expected. Please change the shape of y to (n_samples, ), for example using ravel().\n",
      "  return f(**kwargs)\n"
     ]
    },
    {
     "name": "stdout",
     "output_type": "stream",
     "text": [
      "2\n"
     ]
    },
    {
     "name": "stderr",
     "output_type": "stream",
     "text": [
      "C:\\Users\\thoma\\Anaconda3\\lib\\site-packages\\sklearn\\utils\\validation.py:72: DataConversionWarning: A column-vector y was passed when a 1d array was expected. Please change the shape of y to (n_samples, ), for example using ravel().\n",
      "  return f(**kwargs)\n"
     ]
    },
    {
     "name": "stdout",
     "output_type": "stream",
     "text": [
      "3\n",
      "{1: 0.678176, 2: 0.685968, 3: 0.7108}\n",
      "              precision    recall  f1-score   support\n",
      "\n",
      " KNOWN HAPPY       0.77      0.75      0.76     68195\n",
      "     UNHAPPY       0.20      0.03      0.05     15437\n",
      "     UNKNOWN       0.59      0.80      0.68     41368\n",
      "\n",
      "    accuracy                           0.68    125000\n",
      "   macro avg       0.52      0.53      0.50    125000\n",
      "weighted avg       0.64      0.68      0.65    125000\n",
      "\n",
      "              precision    recall  f1-score   support\n",
      "\n",
      " KNOWN HAPPY       0.75      0.83      0.79     75861\n",
      "     UNHAPPY       0.21      0.05      0.08     14564\n",
      "     UNKNOWN       0.58      0.64      0.61     34575\n",
      "\n",
      "    accuracy                           0.69    125000\n",
      "   macro avg       0.52      0.51      0.49    125000\n",
      "weighted avg       0.64      0.69      0.66    125000\n",
      "\n",
      "              precision    recall  f1-score   support\n",
      "\n",
      " KNOWN HAPPY       0.77      0.81      0.79     70405\n",
      "     UNHAPPY       0.21      0.03      0.05     14378\n",
      "     UNKNOWN       0.64      0.79      0.71     40217\n",
      "\n",
      "    accuracy                           0.71    125000\n",
      "   macro avg       0.54      0.54      0.52    125000\n",
      "weighted avg       0.66      0.71      0.68    125000\n",
      "\n"
     ]
    }
   ],
   "source": [
    "# Logistic Regression\n",
    "(accuracy,class_report) = classifyLabels(LogisticRegression(random_state=0,\n",
    "                                                            class_weight='balanced',\n",
    "                                                            fit_intercept=False,\n",
    "                                                            solver='liblinear'), X, y, n = 3, scale = 'MinMax')\n",
    "print(accuracy)\n",
    "for item in class_report.values():\n",
    "    print(item)"
   ]
  },
  {
   "cell_type": "code",
   "execution_count": null,
   "id": "hungarian-motor",
   "metadata": {},
   "outputs": [],
   "source": [
    "# SVM (very slow!)\n",
    "(accuracy,class_report) = classifyLabels(svm.SVC(random_state=0,\n",
    "                                                 class_weight='balanced'), X, y, n = 3, scale = 'MinMax')\n",
    "print(accuracy)\n",
    "for item in class_report.values():\n",
    "    print(item)"
   ]
  },
  {
   "cell_type": "code",
   "execution_count": 87,
   "id": "decreased-bride",
   "metadata": {
    "collapsed": true,
    "jupyter": {
     "outputs_hidden": true
    }
   },
   "outputs": [
    {
     "name": "stderr",
     "output_type": "stream",
     "text": [
      "C:\\Users\\thoma\\Anaconda3\\lib\\site-packages\\imblearn\\utils\\_validation.py:635: FutureWarning: Pass sampling_strategy=not majority as keyword args. From version 0.9 passing these as positional arguments will result in an error\n",
      "  warnings.warn(\"Pass {} as keyword args. From version 0.9 \"\n"
     ]
    },
    {
     "name": "stdout",
     "output_type": "stream",
     "text": [
      "1\n",
      "2\n",
      "3\n",
      "{1: 0.603464, 2: 0.587064, 3: 0.603976}\n",
      "              precision    recall  f1-score   support\n",
      "\n",
      " KNOWN HAPPY       0.74      0.67      0.70     68195\n",
      "     UNHAPPY       0.14      0.18      0.16     15437\n",
      "     UNKNOWN       0.63      0.64      0.64     41368\n",
      "\n",
      "    accuracy                           0.60    125000\n",
      "   macro avg       0.50      0.50      0.50    125000\n",
      "weighted avg       0.63      0.60      0.61    125000\n",
      "\n",
      "              precision    recall  f1-score   support\n",
      "\n",
      " KNOWN HAPPY       0.75      0.66      0.70     75861\n",
      "     UNHAPPY       0.13      0.16      0.14     14564\n",
      "     UNKNOWN       0.52      0.61      0.56     34575\n",
      "\n",
      "    accuracy                           0.59    125000\n",
      "   macro avg       0.47      0.48      0.47    125000\n",
      "weighted avg       0.62      0.59      0.60    125000\n",
      "\n",
      "              precision    recall  f1-score   support\n",
      "\n",
      " KNOWN HAPPY       0.72      0.69      0.71     70405\n",
      "     UNHAPPY       0.13      0.18      0.15     14378\n",
      "     UNKNOWN       0.64      0.60      0.62     40217\n",
      "\n",
      "    accuracy                           0.60    125000\n",
      "   macro avg       0.50      0.49      0.49    125000\n",
      "weighted avg       0.63      0.60      0.62    125000\n",
      "\n"
     ]
    }
   ],
   "source": [
    "# Decision Tree\n",
    "(accuracy,class_report) = classifyLabels(DecisionTreeClassifier(random_state=0,\n",
    "                                                                class_weight='balanced'), X, y, n = 3)\n",
    "print(accuracy)\n",
    "for item in class_report.values():\n",
    "    print(item)"
   ]
  },
  {
   "cell_type": "code",
   "execution_count": 88,
   "id": "suffering-auckland",
   "metadata": {
    "collapsed": true,
    "jupyter": {
     "outputs_hidden": true
    }
   },
   "outputs": [
    {
     "name": "stderr",
     "output_type": "stream",
     "text": [
      "C:\\Users\\thoma\\Anaconda3\\lib\\site-packages\\sklearn\\utils\\validation.py:72: DataConversionWarning: A column-vector y was passed when a 1d array was expected. Please change the shape of y to (n_samples, ), for example using ravel().\n",
      "  return f(**kwargs)\n"
     ]
    },
    {
     "name": "stdout",
     "output_type": "stream",
     "text": [
      "1\n"
     ]
    },
    {
     "name": "stderr",
     "output_type": "stream",
     "text": [
      "C:\\Users\\thoma\\Anaconda3\\lib\\site-packages\\sklearn\\utils\\validation.py:72: DataConversionWarning: A column-vector y was passed when a 1d array was expected. Please change the shape of y to (n_samples, ), for example using ravel().\n",
      "  return f(**kwargs)\n"
     ]
    },
    {
     "name": "stdout",
     "output_type": "stream",
     "text": [
      "2\n"
     ]
    },
    {
     "name": "stderr",
     "output_type": "stream",
     "text": [
      "C:\\Users\\thoma\\Anaconda3\\lib\\site-packages\\sklearn\\utils\\validation.py:72: DataConversionWarning: A column-vector y was passed when a 1d array was expected. Please change the shape of y to (n_samples, ), for example using ravel().\n",
      "  return f(**kwargs)\n"
     ]
    },
    {
     "name": "stdout",
     "output_type": "stream",
     "text": [
      "3\n",
      "{1: 0.73088, 2: 0.740224, 3: 0.751032}\n",
      "              precision    recall  f1-score   support\n",
      "\n",
      " KNOWN HAPPY       0.75      0.87      0.81     68195\n",
      "     UNHAPPY       0.15      0.02      0.03     15437\n",
      "     UNKNOWN       0.71      0.77      0.74     41368\n",
      "\n",
      "    accuracy                           0.73    125000\n",
      "   macro avg       0.54      0.55      0.52    125000\n",
      "weighted avg       0.66      0.73      0.69    125000\n",
      "\n",
      "              precision    recall  f1-score   support\n",
      "\n",
      " KNOWN HAPPY       0.76      0.90      0.83     75861\n",
      "     UNHAPPY       0.25      0.01      0.01     14564\n",
      "     UNKNOWN       0.69      0.70      0.69     34575\n",
      "\n",
      "    accuracy                           0.74    125000\n",
      "   macro avg       0.57      0.54      0.51    125000\n",
      "weighted avg       0.68      0.74      0.69    125000\n",
      "\n",
      "              precision    recall  f1-score   support\n",
      "\n",
      " KNOWN HAPPY       0.74      0.93      0.83     70405\n",
      "     UNHAPPY       0.30      0.01      0.02     14378\n",
      "     UNKNOWN       0.77      0.71      0.74     40217\n",
      "\n",
      "    accuracy                           0.75    125000\n",
      "   macro avg       0.61      0.55      0.53    125000\n",
      "weighted avg       0.70      0.75      0.70    125000\n",
      "\n"
     ]
    }
   ],
   "source": [
    "# AdaBoost\n",
    "(accuracy,class_report) = classifyLabels(AdaBoostClassifier(base_estimator=DecisionTreeClassifier(max_depth=3),\n",
    "                                                            n_estimators=50,\n",
    "                                                            random_state=0), X, y, n = 3)\n",
    "print(accuracy)\n",
    "for item in class_report.values():\n",
    "    print(item)"
   ]
  },
  {
   "cell_type": "code",
   "execution_count": 89,
   "id": "aware-research",
   "metadata": {
    "collapsed": true,
    "jupyter": {
     "outputs_hidden": true
    }
   },
   "outputs": [
    {
     "name": "stderr",
     "output_type": "stream",
     "text": [
      "C:\\Users\\thoma\\Anaconda3\\lib\\site-packages\\sklearn\\utils\\validation.py:72: DataConversionWarning: A column-vector y was passed when a 1d array was expected. Please change the shape of y to (n_samples, ), for example using ravel().\n",
      "  return f(**kwargs)\n"
     ]
    },
    {
     "name": "stdout",
     "output_type": "stream",
     "text": [
      "1\n"
     ]
    },
    {
     "name": "stderr",
     "output_type": "stream",
     "text": [
      "C:\\Users\\thoma\\Anaconda3\\lib\\site-packages\\sklearn\\utils\\validation.py:72: DataConversionWarning: A column-vector y was passed when a 1d array was expected. Please change the shape of y to (n_samples, ), for example using ravel().\n",
      "  return f(**kwargs)\n"
     ]
    },
    {
     "name": "stdout",
     "output_type": "stream",
     "text": [
      "2\n"
     ]
    },
    {
     "name": "stderr",
     "output_type": "stream",
     "text": [
      "C:\\Users\\thoma\\Anaconda3\\lib\\site-packages\\sklearn\\utils\\validation.py:72: DataConversionWarning: A column-vector y was passed when a 1d array was expected. Please change the shape of y to (n_samples, ), for example using ravel().\n",
      "  return f(**kwargs)\n"
     ]
    },
    {
     "name": "stdout",
     "output_type": "stream",
     "text": [
      "3\n",
      "{1: 0.747288, 2: 0.75016, 3: 0.74272}\n",
      "              precision    recall  f1-score   support\n",
      "\n",
      " KNOWN HAPPY       0.75      0.92      0.82     68195\n",
      "     UNHAPPY       0.23      0.00      0.00     15437\n",
      "     UNKNOWN       0.75      0.75      0.75     41368\n",
      "\n",
      "    accuracy                           0.75    125000\n",
      "   macro avg       0.58      0.55      0.52    125000\n",
      "weighted avg       0.68      0.75      0.70    125000\n",
      "\n",
      "              precision    recall  f1-score   support\n",
      "\n",
      " KNOWN HAPPY       0.76      0.93      0.83     75861\n",
      "     UNHAPPY       0.45      0.00      0.00     14564\n",
      "     UNKNOWN       0.72      0.68      0.70     34575\n",
      "\n",
      "    accuracy                           0.75    125000\n",
      "   macro avg       0.65      0.54      0.51    125000\n",
      "weighted avg       0.71      0.75      0.70    125000\n",
      "\n",
      "              precision    recall  f1-score   support\n",
      "\n",
      " KNOWN HAPPY       0.73      0.94      0.82     70405\n",
      "     UNHAPPY       0.32      0.00      0.00     14378\n",
      "     UNKNOWN       0.78      0.66      0.72     40217\n",
      "\n",
      "    accuracy                           0.74    125000\n",
      "   macro avg       0.61      0.54      0.51    125000\n",
      "weighted avg       0.70      0.74      0.69    125000\n",
      "\n"
     ]
    }
   ],
   "source": [
    "# Gradient Boosting\n",
    "(accuracy,class_report) = classifyLabels(GradientBoostingClassifier(random_state=0), X, y, n = 3)\n",
    "print(accuracy)\n",
    "for item in class_report.values():\n",
    "    print(item)"
   ]
  },
  {
   "cell_type": "code",
   "execution_count": 90,
   "id": "expressed-baseline",
   "metadata": {
    "collapsed": true,
    "jupyter": {
     "outputs_hidden": true
    }
   },
   "outputs": [
    {
     "name": "stderr",
     "output_type": "stream",
     "text": [
      "C:\\Users\\thoma\\Anaconda3\\lib\\site-packages\\sklearn\\utils\\validation.py:72: DataConversionWarning: A column-vector y was passed when a 1d array was expected. Please change the shape of y to (n_samples, ), for example using ravel().\n",
      "  return f(**kwargs)\n"
     ]
    },
    {
     "name": "stdout",
     "output_type": "stream",
     "text": [
      "1\n"
     ]
    },
    {
     "name": "stderr",
     "output_type": "stream",
     "text": [
      "C:\\Users\\thoma\\Anaconda3\\lib\\site-packages\\sklearn\\utils\\validation.py:72: DataConversionWarning: A column-vector y was passed when a 1d array was expected. Please change the shape of y to (n_samples, ), for example using ravel().\n",
      "  return f(**kwargs)\n"
     ]
    },
    {
     "name": "stdout",
     "output_type": "stream",
     "text": [
      "2\n"
     ]
    },
    {
     "name": "stderr",
     "output_type": "stream",
     "text": [
      "C:\\Users\\thoma\\Anaconda3\\lib\\site-packages\\sklearn\\utils\\validation.py:72: DataConversionWarning: A column-vector y was passed when a 1d array was expected. Please change the shape of y to (n_samples, ), for example using ravel().\n",
      "  return f(**kwargs)\n"
     ]
    },
    {
     "name": "stdout",
     "output_type": "stream",
     "text": [
      "3\n",
      "{1: 0.75276, 2: 0.751056, 3: 0.757056}\n",
      "              precision    recall  f1-score   support\n",
      "\n",
      " KNOWN HAPPY       0.75      0.92      0.83     68195\n",
      "     UNHAPPY       0.25      0.00      0.01     15437\n",
      "     UNKNOWN       0.75      0.76      0.76     41368\n",
      "\n",
      "    accuracy                           0.75    125000\n",
      "   macro avg       0.59      0.56      0.53    125000\n",
      "weighted avg       0.69      0.75      0.70    125000\n",
      "\n",
      "              precision    recall  f1-score   support\n",
      "\n",
      " KNOWN HAPPY       0.77      0.92      0.83     75861\n",
      "     UNHAPPY       0.22      0.00      0.00     14564\n",
      "     UNKNOWN       0.71      0.71      0.71     34575\n",
      "\n",
      "    accuracy                           0.75    125000\n",
      "   macro avg       0.56      0.54      0.52    125000\n",
      "weighted avg       0.69      0.75      0.70    125000\n",
      "\n",
      "              precision    recall  f1-score   support\n",
      "\n",
      " KNOWN HAPPY       0.75      0.94      0.83     70405\n",
      "     UNHAPPY       0.26      0.00      0.00     14378\n",
      "     UNKNOWN       0.79      0.71      0.75     40217\n",
      "\n",
      "    accuracy                           0.76    125000\n",
      "   macro avg       0.60      0.55      0.53    125000\n",
      "weighted avg       0.70      0.76      0.71    125000\n",
      "\n"
     ]
    }
   ],
   "source": [
    "# Hist Gradient Boosting\n",
    "(accuracy,class_report) = classifyLabels(HistGradientBoostingClassifier(random_state=0), X, y, n = 3)\n",
    "print(accuracy)\n",
    "for item in class_report.values():\n",
    "    print(item)"
   ]
  },
  {
   "cell_type": "code",
   "execution_count": 91,
   "id": "japanese-trial",
   "metadata": {
    "collapsed": true,
    "jupyter": {
     "outputs_hidden": true
    }
   },
   "outputs": [
    {
     "name": "stderr",
     "output_type": "stream",
     "text": [
      "C:\\Users\\thoma\\Anaconda3\\lib\\site-packages\\sklearn\\utils\\validation.py:72: DataConversionWarning: A column-vector y was passed when a 1d array was expected. Please change the shape of y to (n_samples, ), for example using ravel().\n",
      "  return f(**kwargs)\n"
     ]
    },
    {
     "name": "stdout",
     "output_type": "stream",
     "text": [
      "1\n"
     ]
    },
    {
     "name": "stderr",
     "output_type": "stream",
     "text": [
      "C:\\Users\\thoma\\Anaconda3\\lib\\site-packages\\sklearn\\utils\\validation.py:72: DataConversionWarning: A column-vector y was passed when a 1d array was expected. Please change the shape of y to (n_samples, ), for example using ravel().\n",
      "  return f(**kwargs)\n"
     ]
    },
    {
     "name": "stdout",
     "output_type": "stream",
     "text": [
      "2\n"
     ]
    },
    {
     "name": "stderr",
     "output_type": "stream",
     "text": [
      "C:\\Users\\thoma\\Anaconda3\\lib\\site-packages\\sklearn\\utils\\validation.py:72: DataConversionWarning: A column-vector y was passed when a 1d array was expected. Please change the shape of y to (n_samples, ), for example using ravel().\n",
      "  return f(**kwargs)\n"
     ]
    },
    {
     "name": "stdout",
     "output_type": "stream",
     "text": [
      "3\n",
      "{1: 0.704248, 2: 0.691872, 3: 0.691832}\n",
      "              precision    recall  f1-score   support\n",
      "\n",
      " KNOWN HAPPY       0.74      0.84      0.79     68195\n",
      "     UNHAPPY       0.15      0.05      0.07     15437\n",
      "     UNKNOWN       0.70      0.72      0.71     41368\n",
      "\n",
      "    accuracy                           0.70    125000\n",
      "   macro avg       0.53      0.54      0.52    125000\n",
      "weighted avg       0.66      0.70      0.67    125000\n",
      "\n",
      "              precision    recall  f1-score   support\n",
      "\n",
      " KNOWN HAPPY       0.76      0.82      0.79     75861\n",
      "     UNHAPPY       0.16      0.06      0.09     14564\n",
      "     UNKNOWN       0.62      0.68      0.65     34575\n",
      "\n",
      "    accuracy                           0.69    125000\n",
      "   macro avg       0.51      0.52      0.51    125000\n",
      "weighted avg       0.65      0.69      0.67    125000\n",
      "\n",
      "              precision    recall  f1-score   support\n",
      "\n",
      " KNOWN HAPPY       0.74      0.82      0.78     70405\n",
      "     UNHAPPY       0.14      0.07      0.10     14378\n",
      "     UNKNOWN       0.70      0.68      0.69     40217\n",
      "\n",
      "    accuracy                           0.69    125000\n",
      "   macro avg       0.53      0.53      0.52    125000\n",
      "weighted avg       0.66      0.69      0.67    125000\n",
      "\n"
     ]
    }
   ],
   "source": [
    "# Bagging\n",
    "(accuracy,class_report) = classifyLabels(BaggingClassifier(n_estimators=10,\n",
    "                                                           random_state=0), X, y, n = 3)\n",
    "print(accuracy)\n",
    "for item in class_report.values():\n",
    "    print(item)"
   ]
  },
  {
   "cell_type": "code",
   "execution_count": 92,
   "id": "experienced-indicator",
   "metadata": {
    "collapsed": true,
    "jupyter": {
     "outputs_hidden": true
    }
   },
   "outputs": [
    {
     "name": "stderr",
     "output_type": "stream",
     "text": [
      "<ipython-input-62-8a91e4f11b03>:85: DataConversionWarning: A column-vector y was passed when a 1d array was expected. Please change the shape of y to (n_samples,), for example using ravel().\n",
      "  clf = clf.fit(X_train,y_train)\n"
     ]
    },
    {
     "name": "stdout",
     "output_type": "stream",
     "text": [
      "1\n"
     ]
    },
    {
     "name": "stderr",
     "output_type": "stream",
     "text": [
      "<ipython-input-62-8a91e4f11b03>:85: DataConversionWarning: A column-vector y was passed when a 1d array was expected. Please change the shape of y to (n_samples,), for example using ravel().\n",
      "  clf = clf.fit(X_train,y_train)\n"
     ]
    },
    {
     "name": "stdout",
     "output_type": "stream",
     "text": [
      "2\n"
     ]
    },
    {
     "name": "stderr",
     "output_type": "stream",
     "text": [
      "<ipython-input-62-8a91e4f11b03>:85: DataConversionWarning: A column-vector y was passed when a 1d array was expected. Please change the shape of y to (n_samples,), for example using ravel().\n",
      "  clf = clf.fit(X_train,y_train)\n"
     ]
    },
    {
     "name": "stdout",
     "output_type": "stream",
     "text": [
      "3\n",
      "{1: 0.741472, 2: 0.743208, 3: 0.752912}\n",
      "              precision    recall  f1-score   support\n",
      "\n",
      " KNOWN HAPPY       0.75      0.90      0.82     68195\n",
      "     UNHAPPY       0.18      0.03      0.05     15437\n",
      "     UNKNOWN       0.75      0.74      0.75     41368\n",
      "\n",
      "    accuracy                           0.74    125000\n",
      "   macro avg       0.56      0.56      0.54    125000\n",
      "weighted avg       0.68      0.74      0.70    125000\n",
      "\n",
      "              precision    recall  f1-score   support\n",
      "\n",
      " KNOWN HAPPY       0.77      0.91      0.83     75861\n",
      "     UNHAPPY       0.17      0.03      0.05     14564\n",
      "     UNKNOWN       0.72      0.69      0.70     34575\n",
      "\n",
      "    accuracy                           0.74    125000\n",
      "   macro avg       0.55      0.54      0.53    125000\n",
      "weighted avg       0.68      0.74      0.70    125000\n",
      "\n",
      "              precision    recall  f1-score   support\n",
      "\n",
      " KNOWN HAPPY       0.75      0.93      0.83     70405\n",
      "     UNHAPPY       0.18      0.03      0.05     14378\n",
      "     UNKNOWN       0.79      0.71      0.75     40217\n",
      "\n",
      "    accuracy                           0.75    125000\n",
      "   macro avg       0.57      0.55      0.54    125000\n",
      "weighted avg       0.70      0.75      0.71    125000\n",
      "\n"
     ]
    }
   ],
   "source": [
    "# Random Forest\n",
    "(accuracy,class_report) = classifyLabels(RandomForestClassifier(n_estimators=10,\n",
    "                                                                random_state=0,\n",
    "                                                                class_weight='balanced'), X, y, n = 3)\n",
    "print(accuracy)\n",
    "for item in class_report.values():\n",
    "    print(item)"
   ]
  }
 ],
 "metadata": {
  "kernelspec": {
   "display_name": "Python 3",
   "language": "python",
   "name": "python3"
  },
  "language_info": {
   "codemirror_mode": {
    "name": "ipython",
    "version": 3
   },
   "file_extension": ".py",
   "mimetype": "text/x-python",
   "name": "python",
   "nbconvert_exporter": "python",
   "pygments_lexer": "ipython3",
   "version": "3.8.3"
  }
 },
 "nbformat": 4,
 "nbformat_minor": 5
}
