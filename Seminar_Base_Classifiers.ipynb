{
 "cells": [
  {
   "cell_type": "code",
   "execution_count": 37,
   "id": "amended-holiday",
   "metadata": {},
   "outputs": [
    {
     "name": "stdin",
     "output_type": "stream",
     "text": [
      "Once deleted, variables cannot be recovered. Proceed (y/[n])?  y\n"
     ]
    }
   ],
   "source": [
    "%reset"
   ]
  },
  {
   "cell_type": "code",
   "execution_count": 38,
   "id": "fatal-entrepreneur",
   "metadata": {},
   "outputs": [],
   "source": [
    "import pandas as pd\n",
    "import numpy as np\n",
    "import pyodbc as py\n",
    "\n",
    "from datetime import date, timedelta, datetime\n",
    "import time\n",
    "\n",
    "import matplotlib.pyplot as plt\n",
    "import seaborn as sns\n",
    "%matplotlib inline\n",
    "\n",
    "from sklearn import preprocessing\n",
    "from sklearn.preprocessing import LabelEncoder\n",
    "from sklearn.preprocessing import OneHotEncoder\n",
    "\n",
    "from sklearn import neighbors\n",
    "from sklearn import svm\n",
    "from sklearn.tree import DecisionTreeClassifier\n",
    "from sklearn.ensemble import RandomForestClassifier\n",
    "from sklearn.ensemble import BaggingClassifier\n",
    "from sklearn.ensemble import AdaBoostClassifier\n",
    "from sklearn.ensemble import GradientBoostingClassifier\n",
    "from sklearn.naive_bayes import GaussianNB\n",
    "from sklearn.naive_bayes import BernoulliNB\n",
    "from sklearn.experimental import enable_hist_gradient_boosting\n",
    "from sklearn.ensemble import HistGradientBoostingClassifier\n",
    "from sklearn import metrics\n",
    "from sklearn.linear_model import LogisticRegression\n",
    "\n",
    "from sklearn.model_selection import TimeSeriesSplit\n",
    "from sklearn.model_selection import KFold\n",
    "from sklearn.model_selection import StratifiedKFold\n",
    "\n",
    "from imblearn.over_sampling import SMOTE\n",
    "\n",
    "import keras\n",
    "\n",
    "pd.set_option('display.max_columns', None)"
   ]
  },
  {
   "cell_type": "code",
   "execution_count": 39,
   "id": "entire-denial",
   "metadata": {},
   "outputs": [],
   "source": [
    "connection_string = (    \n",
    "    r'Driver={SQL Server};'\n",
    "    r'Server=LAPTOP-LD74USH0\\SQLEXPRESS;'\n",
    "    r'Integrated Security=SSPI;'\n",
    "    r'Trusted_Connection=yes;'\n",
    ")\n",
    "pd.set_option('display.max_columns', None)"
   ]
  },
  {
   "cell_type": "code",
   "execution_count": 40,
   "id": "postal-label",
   "metadata": {},
   "outputs": [],
   "source": [
    "def sql2df(query, params=[], parse_dates=None, dsn='SQLEXPRESS'):\n",
    "        with py.connect(connection_string, readonly=True) as conn:\n",
    "            return pd.read_sql(query, conn, params=params, parse_dates=parse_dates)"
   ]
  },
  {
   "cell_type": "code",
   "execution_count": 41,
   "id": "opening-record",
   "metadata": {},
   "outputs": [],
   "source": [
    "# First work with random top 100.000 (to reduce computation time) - 45secs\n",
    "\n",
    "df = sql2df('''\n",
    "SELECT TOP 500000 * FROM Seminar.dbo.cleaned_bol_data_full\n",
    "ORDER BY newid();\n",
    "''')\n"
   ]
  },
  {
   "cell_type": "code",
   "execution_count": 215,
   "id": "distinct-myrtle",
   "metadata": {},
   "outputs": [],
   "source": [
    "# 9.5 minutes \n",
    "\n",
    "df = sql2df('''\n",
    "SELECT * FROM Seminar.dbo.cleaned_bol_data_full;\n",
    "''')"
   ]
  },
  {
   "cell_type": "code",
   "execution_count": 42,
   "id": "southwest-council",
   "metadata": {},
   "outputs": [
    {
     "name": "stdout",
     "output_type": "stream",
     "text": [
      "<class 'pandas.core.frame.DataFrame'>\n",
      "RangeIndex: 500000 entries, 0 to 499999\n",
      "Data columns (total 78 columns):\n",
      " #   Column                            Non-Null Count   Dtype         \n",
      "---  ------                            --------------   -----         \n",
      " 0   orderDate                         500000 non-null  object        \n",
      " 1   productId                         500000 non-null  object        \n",
      " 2   sellerId                          500000 non-null  object        \n",
      " 3   totalPrice                        500000 non-null  float64       \n",
      " 4   quantityOrdered                   500000 non-null  int64         \n",
      " 5   countryCode                       500000 non-null  object        \n",
      " 6   cancellationDate                  8162 non-null    object        \n",
      " 7   cancellationReasonCode            8162 non-null    object        \n",
      " 8   promisedDeliveryDate              500000 non-null  object        \n",
      " 9   shipmentDate                      491848 non-null  object        \n",
      " 10  transporterCode                   490891 non-null  object        \n",
      " 11  transporterName                   490891 non-null  object        \n",
      " 12  transporterNameOther              5818 non-null    object        \n",
      " 13  dateTimeFirstDeliveryMoment       321333 non-null  datetime64[ns]\n",
      " 14  fulfilmentType                    500000 non-null  object        \n",
      " 15  startDateCase                     17031 non-null   object        \n",
      " 16  cntDistinctCaseIds                17031 non-null   float64       \n",
      " 17  returnDateTime                    30286 non-null   object        \n",
      " 18  quantityReturned                  29853 non-null   float64       \n",
      " 19  returnCode                        660 non-null     object        \n",
      " 20  productTitle                      500000 non-null  object        \n",
      " 21  brickName                         500000 non-null  object        \n",
      " 22  chunkName                         497946 non-null  object        \n",
      " 23  productGroup                      500000 non-null  object        \n",
      " 24  productSubGroup                   500000 non-null  object        \n",
      " 25  productSubSubGroup                500000 non-null  object        \n",
      " 26  registrationDateSeller            500000 non-null  object        \n",
      " 27  countryOriginSeller               500000 non-null  object        \n",
      " 28  currentCountryAvailabilitySeller  500000 non-null  object        \n",
      " 29  calculationDefinitive             500000 non-null  bool          \n",
      " 30  noCancellation                    500000 non-null  bool          \n",
      " 31  onTimeDelivery                    320877 non-null  object        \n",
      " 32  noCase                            500000 non-null  bool          \n",
      " 33  hasOneCase                        500000 non-null  bool          \n",
      " 34  hasMoreCases                      500000 non-null  bool          \n",
      " 35  noReturn                          500000 non-null  bool          \n",
      " 36  detailedMatchClassification       500000 non-null  object        \n",
      " 37  generalMatchClassification        500000 non-null  object        \n",
      " 38  determinantClassification         500000 non-null  object        \n",
      " 39  orderYear                         500000 non-null  int64         \n",
      " 40  orderMonth                        500000 non-null  object        \n",
      " 41  orderYearMonth                    500000 non-null  object        \n",
      " 42  orderWeekday                      500000 non-null  int64         \n",
      " 43  orderWeekend                      500000 non-null  int64         \n",
      " 44  orderCorona                       500000 non-null  object        \n",
      " 45  transporterFeature                500000 non-null  object        \n",
      " 46  partnerSellingMonths              500000 non-null  int64         \n",
      " 47  cancellationDays                  8162 non-null    float64       \n",
      " 48  shipmentDays                      491848 non-null  float64       \n",
      " 49  promisedDeliveryDays              500000 non-null  int64         \n",
      " 50  actualDeliveryDays                321333 non-null  float64       \n",
      " 51  caseDays                          17031 non-null   float64       \n",
      " 52  returnDays                        30286 non-null   float64       \n",
      " 53  countryCodeNL                     500000 non-null  int64         \n",
      " 54  fulfilmentByBol                   500000 non-null  int64         \n",
      " 55  countryOriginNL                   500000 non-null  int64         \n",
      " 56  countryOriginBE                   500000 non-null  int64         \n",
      " 57  countryOriginDE                   500000 non-null  int64         \n",
      " 58  orderMonday                       500000 non-null  int64         \n",
      " 59  orderTuesday                      500000 non-null  int64         \n",
      " 60  orderWednesday                    500000 non-null  int64         \n",
      " 61  orderThursday                     500000 non-null  int64         \n",
      " 62  orderFriday                       500000 non-null  int64         \n",
      " 63  orderSaturday                     500000 non-null  int64         \n",
      " 64  orderSunday                       500000 non-null  int64         \n",
      " 65  orderJanuary                      500000 non-null  int64         \n",
      " 66  orderFebruary                     500000 non-null  int64         \n",
      " 67  orderMarch                        500000 non-null  int64         \n",
      " 68  orderApril                        500000 non-null  int64         \n",
      " 69  orderMay                          500000 non-null  int64         \n",
      " 70  orderJune                         500000 non-null  int64         \n",
      " 71  orderJuly                         500000 non-null  int64         \n",
      " 72  orderAugust                       500000 non-null  int64         \n",
      " 73  orderSeptember                    500000 non-null  int64         \n",
      " 74  orderOctober                      500000 non-null  int64         \n",
      " 75  orderNovember                     500000 non-null  int64         \n",
      " 76  orderDecember                     500000 non-null  int64         \n",
      " 77  productTitleLength                500000 non-null  int64         \n",
      "dtypes: bool(6), datetime64[ns](1), float64(8), int64(31), object(32)\n",
      "memory usage: 277.5+ MB\n"
     ]
    }
   ],
   "source": [
    "df.info()"
   ]
  },
  {
   "cell_type": "code",
   "execution_count": 43,
   "id": "specified-blank",
   "metadata": {},
   "outputs": [
    {
     "data": {
      "text/plain": [
       "orderDate             datetime64[ns]\n",
       "productId                     object\n",
       "sellerId                      object\n",
       "totalPrice                   float64\n",
       "quantityOrdered                int64\n",
       "                           ...      \n",
       "orderSeptember                  bool\n",
       "orderOctober                    bool\n",
       "orderNovember                   bool\n",
       "orderDecember                   bool\n",
       "productTitleLength             int64\n",
       "Length: 78, dtype: object"
      ]
     },
     "execution_count": 43,
     "metadata": {},
     "output_type": "execute_result"
    }
   ],
   "source": [
    "#Change type of columns\n",
    "dtype = {'calculationDefinitive': bool,\n",
    "         'noCancellation': bool,\n",
    "         'noCase': bool,\n",
    "         'hasOneCase': bool,\n",
    "         'hasMoreCases': bool,\n",
    "         'noReturn': bool,\n",
    "         'orderWeekend': bool,\n",
    "         'orderCorona': bool,\n",
    "         'countryCodeNL': bool,\n",
    "         'fulfilmentByBol': bool,\n",
    "         'countryOriginNL': bool,\n",
    "         'countryOriginBE': bool,\n",
    "         'countryOriginDE': bool,\n",
    "         'orderMonday': bool,\n",
    "         'orderTuesday': bool,\n",
    "         'orderWednesday': bool,\n",
    "         'orderThursday': bool,\n",
    "         'orderFriday': bool,\n",
    "         'orderSaturday': bool,\n",
    "         'orderSunday': bool,\n",
    "         'orderJanuary': bool,\n",
    "         'orderFebruary': bool,\n",
    "         'orderMarch': bool,\n",
    "         'orderApril': bool,\n",
    "         'orderMay': bool,\n",
    "         'orderJune': bool,\n",
    "         'orderJuly': bool,\n",
    "         'orderAugust': bool,\n",
    "         'orderSeptember': bool,\n",
    "         'orderOctober': bool,\n",
    "         'orderNovember': bool,\n",
    "         'orderDecember': bool}\n",
    "\n",
    "df = df.astype(dtype)\n",
    "\n",
    "#Transform dates to date-type\n",
    "df['orderDate'] = pd.to_datetime(df['orderDate'], errors='coerce')\n",
    "df['cancellationDate'] = pd.to_datetime(df['cancellationDate'], errors='coerce')\n",
    "df['promisedDeliveryDate'] = pd.to_datetime(df['promisedDeliveryDate'], errors='coerce')\n",
    "df['shipmentDate'] = pd.to_datetime(df['shipmentDate'], errors='coerce')\n",
    "df['dateTimeFirstDeliveryMoment'] = pd.to_datetime(df['dateTimeFirstDeliveryMoment'], errors='coerce')\n",
    "df['startDateCase'] = pd.to_datetime(df['startDateCase'], errors='coerce')\n",
    "df['returnDateTime'] = pd.to_datetime(df['returnDateTime'], errors='coerce')\n",
    "df['registrationDateSeller'] = pd.to_datetime(df['registrationDateSeller'], errors='coerce')\n",
    "\n",
    "df.dtypes"
   ]
  },
  {
   "cell_type": "code",
   "execution_count": 44,
   "id": "confirmed-moore",
   "metadata": {},
   "outputs": [
    {
     "data": {
      "text/html": [
       "<div>\n",
       "<style scoped>\n",
       "    .dataframe tbody tr th:only-of-type {\n",
       "        vertical-align: middle;\n",
       "    }\n",
       "\n",
       "    .dataframe tbody tr th {\n",
       "        vertical-align: top;\n",
       "    }\n",
       "\n",
       "    .dataframe thead th {\n",
       "        text-align: right;\n",
       "    }\n",
       "</style>\n",
       "<table border=\"1\" class=\"dataframe\">\n",
       "  <thead>\n",
       "    <tr style=\"text-align: right;\">\n",
       "      <th></th>\n",
       "      <th>orderDate</th>\n",
       "      <th>productId</th>\n",
       "      <th>sellerId</th>\n",
       "      <th>totalPrice</th>\n",
       "      <th>quantityOrdered</th>\n",
       "      <th>countryCode</th>\n",
       "      <th>cancellationDate</th>\n",
       "      <th>cancellationReasonCode</th>\n",
       "      <th>promisedDeliveryDate</th>\n",
       "      <th>shipmentDate</th>\n",
       "      <th>transporterCode</th>\n",
       "      <th>transporterName</th>\n",
       "      <th>transporterNameOther</th>\n",
       "      <th>dateTimeFirstDeliveryMoment</th>\n",
       "      <th>fulfilmentType</th>\n",
       "      <th>startDateCase</th>\n",
       "      <th>cntDistinctCaseIds</th>\n",
       "      <th>returnDateTime</th>\n",
       "      <th>quantityReturned</th>\n",
       "      <th>returnCode</th>\n",
       "      <th>productTitle</th>\n",
       "      <th>brickName</th>\n",
       "      <th>chunkName</th>\n",
       "      <th>productGroup</th>\n",
       "      <th>productSubGroup</th>\n",
       "      <th>productSubSubGroup</th>\n",
       "      <th>registrationDateSeller</th>\n",
       "      <th>countryOriginSeller</th>\n",
       "      <th>currentCountryAvailabilitySeller</th>\n",
       "      <th>calculationDefinitive</th>\n",
       "      <th>noCancellation</th>\n",
       "      <th>onTimeDelivery</th>\n",
       "      <th>noCase</th>\n",
       "      <th>hasOneCase</th>\n",
       "      <th>hasMoreCases</th>\n",
       "      <th>noReturn</th>\n",
       "      <th>detailedMatchClassification</th>\n",
       "      <th>generalMatchClassification</th>\n",
       "      <th>determinantClassification</th>\n",
       "      <th>orderYear</th>\n",
       "      <th>orderMonth</th>\n",
       "      <th>orderYearMonth</th>\n",
       "      <th>orderWeekday</th>\n",
       "      <th>orderWeekend</th>\n",
       "      <th>orderCorona</th>\n",
       "      <th>transporterFeature</th>\n",
       "      <th>partnerSellingMonths</th>\n",
       "      <th>cancellationDays</th>\n",
       "      <th>shipmentDays</th>\n",
       "      <th>promisedDeliveryDays</th>\n",
       "      <th>actualDeliveryDays</th>\n",
       "      <th>caseDays</th>\n",
       "      <th>returnDays</th>\n",
       "      <th>countryCodeNL</th>\n",
       "      <th>fulfilmentByBol</th>\n",
       "      <th>countryOriginNL</th>\n",
       "      <th>countryOriginBE</th>\n",
       "      <th>countryOriginDE</th>\n",
       "      <th>orderMonday</th>\n",
       "      <th>orderTuesday</th>\n",
       "      <th>orderWednesday</th>\n",
       "      <th>orderThursday</th>\n",
       "      <th>orderFriday</th>\n",
       "      <th>orderSaturday</th>\n",
       "      <th>orderSunday</th>\n",
       "      <th>orderJanuary</th>\n",
       "      <th>orderFebruary</th>\n",
       "      <th>orderMarch</th>\n",
       "      <th>orderApril</th>\n",
       "      <th>orderMay</th>\n",
       "      <th>orderJune</th>\n",
       "      <th>orderJuly</th>\n",
       "      <th>orderAugust</th>\n",
       "      <th>orderSeptember</th>\n",
       "      <th>orderOctober</th>\n",
       "      <th>orderNovember</th>\n",
       "      <th>orderDecember</th>\n",
       "      <th>productTitleLength</th>\n",
       "    </tr>\n",
       "  </thead>\n",
       "  <tbody>\n",
       "    <tr>\n",
       "      <th>0</th>\n",
       "      <td>2020-04-04</td>\n",
       "      <td>9200000047738664</td>\n",
       "      <td>1055479</td>\n",
       "      <td>29.99</td>\n",
       "      <td>1</td>\n",
       "      <td>NL</td>\n",
       "      <td>NaT</td>\n",
       "      <td>None</td>\n",
       "      <td>2020-04-06</td>\n",
       "      <td>2020-04-06</td>\n",
       "      <td>TNT</td>\n",
       "      <td>PostNL</td>\n",
       "      <td>None</td>\n",
       "      <td>2020-04-07 19:04:43</td>\n",
       "      <td>FBB</td>\n",
       "      <td>NaT</td>\n",
       "      <td>NaN</td>\n",
       "      <td>NaT</td>\n",
       "      <td>NaN</td>\n",
       "      <td>None</td>\n",
       "      <td>Pastelkrijt Faber Castell halve lengte etui � ...</td>\n",
       "      <td>10001677-Artists Pastels/Charcoal/Crayons</td>\n",
       "      <td>Krijt</td>\n",
       "      <td>Recreational and Outdoor Toys</td>\n",
       "      <td>Knutselen</td>\n",
       "      <td>Knutselen</td>\n",
       "      <td>2015-06-17</td>\n",
       "      <td>NL</td>\n",
       "      <td>NL</td>\n",
       "      <td>True</td>\n",
       "      <td>True</td>\n",
       "      <td>false</td>\n",
       "      <td>True</td>\n",
       "      <td>False</td>\n",
       "      <td>False</td>\n",
       "      <td>True</td>\n",
       "      <td>KNOWN MILDLY UNHAPPY</td>\n",
       "      <td>UNHAPPY</td>\n",
       "      <td>Late delivery</td>\n",
       "      <td>2020</td>\n",
       "      <td>04</td>\n",
       "      <td>2020-04</td>\n",
       "      <td>6</td>\n",
       "      <td>True</td>\n",
       "      <td>True</td>\n",
       "      <td>TNT</td>\n",
       "      <td>58</td>\n",
       "      <td>NaN</td>\n",
       "      <td>2.0</td>\n",
       "      <td>2</td>\n",
       "      <td>3.0</td>\n",
       "      <td>NaN</td>\n",
       "      <td>NaN</td>\n",
       "      <td>True</td>\n",
       "      <td>True</td>\n",
       "      <td>True</td>\n",
       "      <td>False</td>\n",
       "      <td>False</td>\n",
       "      <td>False</td>\n",
       "      <td>False</td>\n",
       "      <td>False</td>\n",
       "      <td>False</td>\n",
       "      <td>False</td>\n",
       "      <td>True</td>\n",
       "      <td>False</td>\n",
       "      <td>False</td>\n",
       "      <td>False</td>\n",
       "      <td>False</td>\n",
       "      <td>True</td>\n",
       "      <td>False</td>\n",
       "      <td>False</td>\n",
       "      <td>False</td>\n",
       "      <td>False</td>\n",
       "      <td>False</td>\n",
       "      <td>False</td>\n",
       "      <td>False</td>\n",
       "      <td>False</td>\n",
       "      <td>54</td>\n",
       "    </tr>\n",
       "    <tr>\n",
       "      <th>1</th>\n",
       "      <td>2019-11-04</td>\n",
       "      <td>9200000065495731</td>\n",
       "      <td>1055479</td>\n",
       "      <td>12.95</td>\n",
       "      <td>1</td>\n",
       "      <td>BE</td>\n",
       "      <td>NaT</td>\n",
       "      <td>None</td>\n",
       "      <td>2019-11-05</td>\n",
       "      <td>2019-11-04</td>\n",
       "      <td>TNT</td>\n",
       "      <td>PostNL</td>\n",
       "      <td>None</td>\n",
       "      <td>2019-11-05 10:12:41</td>\n",
       "      <td>FBB</td>\n",
       "      <td>NaT</td>\n",
       "      <td>NaN</td>\n",
       "      <td>NaT</td>\n",
       "      <td>NaN</td>\n",
       "      <td>None</td>\n",
       "      <td>Snowman - BG-10 whiteboardmarkers - assorti á ...</td>\n",
       "      <td>Pennen (Kantoorbenodigdheden)</td>\n",
       "      <td>Stift</td>\n",
       "      <td>Supermarket PG</td>\n",
       "      <td>Schrijfwaren</td>\n",
       "      <td>Stiften</td>\n",
       "      <td>2015-06-17</td>\n",
       "      <td>NL</td>\n",
       "      <td>NL</td>\n",
       "      <td>True</td>\n",
       "      <td>True</td>\n",
       "      <td>true</td>\n",
       "      <td>True</td>\n",
       "      <td>False</td>\n",
       "      <td>False</td>\n",
       "      <td>True</td>\n",
       "      <td>KNOWN HAPPY</td>\n",
       "      <td>KNOWN HAPPY</td>\n",
       "      <td>All good</td>\n",
       "      <td>2019</td>\n",
       "      <td>11</td>\n",
       "      <td>2019-11</td>\n",
       "      <td>1</td>\n",
       "      <td>False</td>\n",
       "      <td>True</td>\n",
       "      <td>TNT</td>\n",
       "      <td>53</td>\n",
       "      <td>NaN</td>\n",
       "      <td>0.0</td>\n",
       "      <td>1</td>\n",
       "      <td>1.0</td>\n",
       "      <td>NaN</td>\n",
       "      <td>NaN</td>\n",
       "      <td>False</td>\n",
       "      <td>True</td>\n",
       "      <td>True</td>\n",
       "      <td>False</td>\n",
       "      <td>False</td>\n",
       "      <td>True</td>\n",
       "      <td>False</td>\n",
       "      <td>False</td>\n",
       "      <td>False</td>\n",
       "      <td>False</td>\n",
       "      <td>False</td>\n",
       "      <td>False</td>\n",
       "      <td>False</td>\n",
       "      <td>False</td>\n",
       "      <td>False</td>\n",
       "      <td>False</td>\n",
       "      <td>False</td>\n",
       "      <td>False</td>\n",
       "      <td>False</td>\n",
       "      <td>False</td>\n",
       "      <td>False</td>\n",
       "      <td>False</td>\n",
       "      <td>True</td>\n",
       "      <td>False</td>\n",
       "      <td>69</td>\n",
       "    </tr>\n",
       "    <tr>\n",
       "      <th>2</th>\n",
       "      <td>2019-05-10</td>\n",
       "      <td>9200000080483908</td>\n",
       "      <td>1344836</td>\n",
       "      <td>64.95</td>\n",
       "      <td>1</td>\n",
       "      <td>NL</td>\n",
       "      <td>NaT</td>\n",
       "      <td>None</td>\n",
       "      <td>2019-05-11</td>\n",
       "      <td>2019-05-10</td>\n",
       "      <td>TNT</td>\n",
       "      <td>PostNL</td>\n",
       "      <td>None</td>\n",
       "      <td>2019-05-11 09:29:31</td>\n",
       "      <td>FBR</td>\n",
       "      <td>NaT</td>\n",
       "      <td>NaN</td>\n",
       "      <td>NaT</td>\n",
       "      <td>NaN</td>\n",
       "      <td>None</td>\n",
       "      <td>Dyson DC20 telescoopbuis</td>\n",
       "      <td>Schoonmaakapparatuur – Onderdelen/Accessoires</td>\n",
       "      <td>Stofzuiger onderdeel</td>\n",
       "      <td>Household Appliances</td>\n",
       "      <td>Household Appliances Replacement Parts</td>\n",
       "      <td>Household Appliances Replacement Parts</td>\n",
       "      <td>2018-03-22</td>\n",
       "      <td>NL</td>\n",
       "      <td>NL</td>\n",
       "      <td>True</td>\n",
       "      <td>True</td>\n",
       "      <td>true</td>\n",
       "      <td>True</td>\n",
       "      <td>False</td>\n",
       "      <td>False</td>\n",
       "      <td>True</td>\n",
       "      <td>KNOWN HAPPY</td>\n",
       "      <td>KNOWN HAPPY</td>\n",
       "      <td>All good</td>\n",
       "      <td>2019</td>\n",
       "      <td>05</td>\n",
       "      <td>2019-05</td>\n",
       "      <td>5</td>\n",
       "      <td>False</td>\n",
       "      <td>True</td>\n",
       "      <td>TNT</td>\n",
       "      <td>14</td>\n",
       "      <td>NaN</td>\n",
       "      <td>0.0</td>\n",
       "      <td>1</td>\n",
       "      <td>1.0</td>\n",
       "      <td>NaN</td>\n",
       "      <td>NaN</td>\n",
       "      <td>True</td>\n",
       "      <td>False</td>\n",
       "      <td>True</td>\n",
       "      <td>False</td>\n",
       "      <td>False</td>\n",
       "      <td>False</td>\n",
       "      <td>False</td>\n",
       "      <td>False</td>\n",
       "      <td>False</td>\n",
       "      <td>True</td>\n",
       "      <td>False</td>\n",
       "      <td>False</td>\n",
       "      <td>False</td>\n",
       "      <td>False</td>\n",
       "      <td>False</td>\n",
       "      <td>False</td>\n",
       "      <td>True</td>\n",
       "      <td>False</td>\n",
       "      <td>False</td>\n",
       "      <td>False</td>\n",
       "      <td>False</td>\n",
       "      <td>False</td>\n",
       "      <td>False</td>\n",
       "      <td>False</td>\n",
       "      <td>24</td>\n",
       "    </tr>\n",
       "    <tr>\n",
       "      <th>3</th>\n",
       "      <td>2020-09-23</td>\n",
       "      <td>9200000082961992</td>\n",
       "      <td>888223</td>\n",
       "      <td>67.00</td>\n",
       "      <td>1</td>\n",
       "      <td>NL</td>\n",
       "      <td>NaT</td>\n",
       "      <td>None</td>\n",
       "      <td>2020-09-25</td>\n",
       "      <td>2020-09-25</td>\n",
       "      <td>OTHER</td>\n",
       "      <td>Anders</td>\n",
       "      <td>OTHER</td>\n",
       "      <td>NaT</td>\n",
       "      <td>FBR</td>\n",
       "      <td>NaT</td>\n",
       "      <td>NaN</td>\n",
       "      <td>NaT</td>\n",
       "      <td>NaN</td>\n",
       "      <td>None</td>\n",
       "      <td>Doucheslang Best Design Nero zwart 150 cm</td>\n",
       "      <td>Sanitair/Sanitaire Voorzieningen – Onderdelen/...</td>\n",
       "      <td>Doucheslang</td>\n",
       "      <td>Plumbing and Safety</td>\n",
       "      <td>Badkamer en Sanitair</td>\n",
       "      <td>Douche</td>\n",
       "      <td>2013-12-19</td>\n",
       "      <td>NL</td>\n",
       "      <td>NL</td>\n",
       "      <td>True</td>\n",
       "      <td>True</td>\n",
       "      <td>None</td>\n",
       "      <td>True</td>\n",
       "      <td>False</td>\n",
       "      <td>False</td>\n",
       "      <td>True</td>\n",
       "      <td>UNKNOWN</td>\n",
       "      <td>UNKNOWN</td>\n",
       "      <td>Unknown delivery</td>\n",
       "      <td>2020</td>\n",
       "      <td>09</td>\n",
       "      <td>2020-09</td>\n",
       "      <td>3</td>\n",
       "      <td>False</td>\n",
       "      <td>True</td>\n",
       "      <td>OTHER</td>\n",
       "      <td>81</td>\n",
       "      <td>NaN</td>\n",
       "      <td>2.0</td>\n",
       "      <td>2</td>\n",
       "      <td>NaN</td>\n",
       "      <td>NaN</td>\n",
       "      <td>NaN</td>\n",
       "      <td>True</td>\n",
       "      <td>False</td>\n",
       "      <td>True</td>\n",
       "      <td>False</td>\n",
       "      <td>False</td>\n",
       "      <td>False</td>\n",
       "      <td>False</td>\n",
       "      <td>True</td>\n",
       "      <td>False</td>\n",
       "      <td>False</td>\n",
       "      <td>False</td>\n",
       "      <td>False</td>\n",
       "      <td>False</td>\n",
       "      <td>False</td>\n",
       "      <td>False</td>\n",
       "      <td>False</td>\n",
       "      <td>False</td>\n",
       "      <td>False</td>\n",
       "      <td>False</td>\n",
       "      <td>False</td>\n",
       "      <td>True</td>\n",
       "      <td>False</td>\n",
       "      <td>False</td>\n",
       "      <td>False</td>\n",
       "      <td>41</td>\n",
       "    </tr>\n",
       "    <tr>\n",
       "      <th>4</th>\n",
       "      <td>2020-12-14</td>\n",
       "      <td>9200000084444615</td>\n",
       "      <td>1263174</td>\n",
       "      <td>12.95</td>\n",
       "      <td>1</td>\n",
       "      <td>NL</td>\n",
       "      <td>NaT</td>\n",
       "      <td>None</td>\n",
       "      <td>2020-12-16</td>\n",
       "      <td>2020-12-15</td>\n",
       "      <td>TNT</td>\n",
       "      <td>PostNL</td>\n",
       "      <td>None</td>\n",
       "      <td>2020-12-16 13:07:20</td>\n",
       "      <td>FBB</td>\n",
       "      <td>NaT</td>\n",
       "      <td>NaN</td>\n",
       "      <td>NaT</td>\n",
       "      <td>NaN</td>\n",
       "      <td>None</td>\n",
       "      <td>Workout Gear - 5 Weerstandsbanden Set - Inclus...</td>\n",
       "      <td>Fitness Accessoires</td>\n",
       "      <td>Weerstandsband</td>\n",
       "      <td>Sporting Equipment</td>\n",
       "      <td>Fitness Klein</td>\n",
       "      <td>Fitnessmaterialen</td>\n",
       "      <td>2017-03-15</td>\n",
       "      <td>NL</td>\n",
       "      <td>NL</td>\n",
       "      <td>True</td>\n",
       "      <td>True</td>\n",
       "      <td>true</td>\n",
       "      <td>True</td>\n",
       "      <td>False</td>\n",
       "      <td>False</td>\n",
       "      <td>True</td>\n",
       "      <td>KNOWN HAPPY</td>\n",
       "      <td>KNOWN HAPPY</td>\n",
       "      <td>All good</td>\n",
       "      <td>2020</td>\n",
       "      <td>12</td>\n",
       "      <td>2020-12</td>\n",
       "      <td>1</td>\n",
       "      <td>False</td>\n",
       "      <td>True</td>\n",
       "      <td>TNT</td>\n",
       "      <td>45</td>\n",
       "      <td>NaN</td>\n",
       "      <td>1.0</td>\n",
       "      <td>2</td>\n",
       "      <td>2.0</td>\n",
       "      <td>NaN</td>\n",
       "      <td>NaN</td>\n",
       "      <td>True</td>\n",
       "      <td>True</td>\n",
       "      <td>True</td>\n",
       "      <td>False</td>\n",
       "      <td>False</td>\n",
       "      <td>True</td>\n",
       "      <td>False</td>\n",
       "      <td>False</td>\n",
       "      <td>False</td>\n",
       "      <td>False</td>\n",
       "      <td>False</td>\n",
       "      <td>False</td>\n",
       "      <td>False</td>\n",
       "      <td>False</td>\n",
       "      <td>False</td>\n",
       "      <td>False</td>\n",
       "      <td>False</td>\n",
       "      <td>False</td>\n",
       "      <td>False</td>\n",
       "      <td>False</td>\n",
       "      <td>False</td>\n",
       "      <td>False</td>\n",
       "      <td>False</td>\n",
       "      <td>True</td>\n",
       "      <td>61</td>\n",
       "    </tr>\n",
       "  </tbody>\n",
       "</table>\n",
       "</div>"
      ],
      "text/plain": [
       "   orderDate         productId sellerId  totalPrice  quantityOrdered  \\\n",
       "0 2020-04-04  9200000047738664  1055479       29.99                1   \n",
       "1 2019-11-04  9200000065495731  1055479       12.95                1   \n",
       "2 2019-05-10  9200000080483908  1344836       64.95                1   \n",
       "3 2020-09-23  9200000082961992   888223       67.00                1   \n",
       "4 2020-12-14  9200000084444615  1263174       12.95                1   \n",
       "\n",
       "  countryCode cancellationDate cancellationReasonCode promisedDeliveryDate  \\\n",
       "0          NL              NaT                   None           2020-04-06   \n",
       "1          BE              NaT                   None           2019-11-05   \n",
       "2          NL              NaT                   None           2019-05-11   \n",
       "3          NL              NaT                   None           2020-09-25   \n",
       "4          NL              NaT                   None           2020-12-16   \n",
       "\n",
       "  shipmentDate transporterCode transporterName transporterNameOther  \\\n",
       "0   2020-04-06             TNT          PostNL                 None   \n",
       "1   2019-11-04             TNT          PostNL                 None   \n",
       "2   2019-05-10             TNT          PostNL                 None   \n",
       "3   2020-09-25           OTHER          Anders                OTHER   \n",
       "4   2020-12-15             TNT          PostNL                 None   \n",
       "\n",
       "  dateTimeFirstDeliveryMoment fulfilmentType startDateCase  \\\n",
       "0         2020-04-07 19:04:43            FBB           NaT   \n",
       "1         2019-11-05 10:12:41            FBB           NaT   \n",
       "2         2019-05-11 09:29:31            FBR           NaT   \n",
       "3                         NaT            FBR           NaT   \n",
       "4         2020-12-16 13:07:20            FBB           NaT   \n",
       "\n",
       "   cntDistinctCaseIds returnDateTime  quantityReturned returnCode  \\\n",
       "0                 NaN            NaT               NaN       None   \n",
       "1                 NaN            NaT               NaN       None   \n",
       "2                 NaN            NaT               NaN       None   \n",
       "3                 NaN            NaT               NaN       None   \n",
       "4                 NaN            NaT               NaN       None   \n",
       "\n",
       "                                        productTitle  \\\n",
       "0  Pastelkrijt Faber Castell halve lengte etui � ...   \n",
       "1  Snowman - BG-10 whiteboardmarkers - assorti á ...   \n",
       "2                           Dyson DC20 telescoopbuis   \n",
       "3          Doucheslang Best Design Nero zwart 150 cm   \n",
       "4  Workout Gear - 5 Weerstandsbanden Set - Inclus...   \n",
       "\n",
       "                                           brickName             chunkName  \\\n",
       "0          10001677-Artists Pastels/Charcoal/Crayons                 Krijt   \n",
       "1                      Pennen (Kantoorbenodigdheden)                 Stift   \n",
       "2      Schoonmaakapparatuur – Onderdelen/Accessoires  Stofzuiger onderdeel   \n",
       "3  Sanitair/Sanitaire Voorzieningen – Onderdelen/...           Doucheslang   \n",
       "4                                Fitness Accessoires        Weerstandsband   \n",
       "\n",
       "                    productGroup                         productSubGroup  \\\n",
       "0  Recreational and Outdoor Toys                               Knutselen   \n",
       "1                 Supermarket PG                            Schrijfwaren   \n",
       "2           Household Appliances  Household Appliances Replacement Parts   \n",
       "3            Plumbing and Safety                    Badkamer en Sanitair   \n",
       "4             Sporting Equipment                           Fitness Klein   \n",
       "\n",
       "                       productSubSubGroup registrationDateSeller  \\\n",
       "0                               Knutselen             2015-06-17   \n",
       "1                                 Stiften             2015-06-17   \n",
       "2  Household Appliances Replacement Parts             2018-03-22   \n",
       "3                                  Douche             2013-12-19   \n",
       "4                       Fitnessmaterialen             2017-03-15   \n",
       "\n",
       "  countryOriginSeller currentCountryAvailabilitySeller  calculationDefinitive  \\\n",
       "0                  NL                               NL                   True   \n",
       "1                  NL                               NL                   True   \n",
       "2                  NL                               NL                   True   \n",
       "3                  NL                               NL                   True   \n",
       "4                  NL                               NL                   True   \n",
       "\n",
       "   noCancellation onTimeDelivery  noCase  hasOneCase  hasMoreCases  noReturn  \\\n",
       "0            True          false    True       False         False      True   \n",
       "1            True           true    True       False         False      True   \n",
       "2            True           true    True       False         False      True   \n",
       "3            True           None    True       False         False      True   \n",
       "4            True           true    True       False         False      True   \n",
       "\n",
       "  detailedMatchClassification generalMatchClassification  \\\n",
       "0        KNOWN MILDLY UNHAPPY                    UNHAPPY   \n",
       "1                 KNOWN HAPPY                KNOWN HAPPY   \n",
       "2                 KNOWN HAPPY                KNOWN HAPPY   \n",
       "3                     UNKNOWN                    UNKNOWN   \n",
       "4                 KNOWN HAPPY                KNOWN HAPPY   \n",
       "\n",
       "  determinantClassification  orderYear orderMonth orderYearMonth  \\\n",
       "0             Late delivery       2020         04        2020-04   \n",
       "1                  All good       2019         11        2019-11   \n",
       "2                  All good       2019         05        2019-05   \n",
       "3          Unknown delivery       2020         09        2020-09   \n",
       "4                  All good       2020         12        2020-12   \n",
       "\n",
       "   orderWeekday  orderWeekend  orderCorona transporterFeature  \\\n",
       "0             6          True         True                TNT   \n",
       "1             1         False         True                TNT   \n",
       "2             5         False         True                TNT   \n",
       "3             3         False         True              OTHER   \n",
       "4             1         False         True                TNT   \n",
       "\n",
       "   partnerSellingMonths  cancellationDays  shipmentDays  promisedDeliveryDays  \\\n",
       "0                    58               NaN           2.0                     2   \n",
       "1                    53               NaN           0.0                     1   \n",
       "2                    14               NaN           0.0                     1   \n",
       "3                    81               NaN           2.0                     2   \n",
       "4                    45               NaN           1.0                     2   \n",
       "\n",
       "   actualDeliveryDays  caseDays  returnDays  countryCodeNL  fulfilmentByBol  \\\n",
       "0                 3.0       NaN         NaN           True             True   \n",
       "1                 1.0       NaN         NaN          False             True   \n",
       "2                 1.0       NaN         NaN           True            False   \n",
       "3                 NaN       NaN         NaN           True            False   \n",
       "4                 2.0       NaN         NaN           True             True   \n",
       "\n",
       "   countryOriginNL  countryOriginBE  countryOriginDE  orderMonday  \\\n",
       "0             True            False            False        False   \n",
       "1             True            False            False         True   \n",
       "2             True            False            False        False   \n",
       "3             True            False            False        False   \n",
       "4             True            False            False         True   \n",
       "\n",
       "   orderTuesday  orderWednesday  orderThursday  orderFriday  orderSaturday  \\\n",
       "0         False           False          False        False           True   \n",
       "1         False           False          False        False          False   \n",
       "2         False           False          False         True          False   \n",
       "3         False            True          False        False          False   \n",
       "4         False           False          False        False          False   \n",
       "\n",
       "   orderSunday  orderJanuary  orderFebruary  orderMarch  orderApril  orderMay  \\\n",
       "0        False         False          False       False        True     False   \n",
       "1        False         False          False       False       False     False   \n",
       "2        False         False          False       False       False      True   \n",
       "3        False         False          False       False       False     False   \n",
       "4        False         False          False       False       False     False   \n",
       "\n",
       "   orderJune  orderJuly  orderAugust  orderSeptember  orderOctober  \\\n",
       "0      False      False        False           False         False   \n",
       "1      False      False        False           False         False   \n",
       "2      False      False        False           False         False   \n",
       "3      False      False        False            True         False   \n",
       "4      False      False        False           False         False   \n",
       "\n",
       "   orderNovember  orderDecember  productTitleLength  \n",
       "0          False          False                  54  \n",
       "1           True          False                  69  \n",
       "2          False          False                  24  \n",
       "3          False          False                  41  \n",
       "4          False           True                  61  "
      ]
     },
     "execution_count": 44,
     "metadata": {},
     "output_type": "execute_result"
    }
   ],
   "source": [
    "df.head()"
   ]
  },
  {
   "cell_type": "markdown",
   "id": "subsequent-covering",
   "metadata": {},
   "source": [
    "#### Add variables"
   ]
  },
  {
   "cell_type": "code",
   "execution_count": 45,
   "id": "acting-russell",
   "metadata": {},
   "outputs": [],
   "source": [
    "# Binary classification variable\n",
    "df['binaryMatchClassification'] = df['generalMatchClassification'].apply(lambda x: 'UNKNOWN' if x == 'UNKNOWN' else 'KNOWN')\n",
    "\n",
    "# Dummy for year = 2020\n",
    "df['orderYear2020'] = df['orderYear'].apply(lambda x: True if x == 2020 else False)"
   ]
  },
  {
   "cell_type": "markdown",
   "id": "absent-jesus",
   "metadata": {},
   "source": [
    "#### Transporter Groups"
   ]
  },
  {
   "cell_type": "code",
   "execution_count": 46,
   "id": "chicken-wallpaper",
   "metadata": {},
   "outputs": [],
   "source": [
    "def transporterCluster(transporterCode):\n",
    "    \"\"\"\n",
    "    Function to create a new manually clustered transporter variable: 28 -> 5 categories\n",
    "    \"\"\"\n",
    "    if transporterCode in ['AH-NL','TNT','TNT-EXPRESS','TNT-EXTRA']:\n",
    "        return 'POSTNL'\n",
    "    elif transporterCode in ['DHL','DHL_DE','DHLFORYOU']:\n",
    "        return 'DHL'\n",
    "    elif transporterCode in ['DPD-NL','DPD-BE']:\n",
    "        return 'DPD'\n",
    "    elif transporterCode in ['BRIEFPOST','BPOST_BE','BPOST_BRIEF','DHL-GLOBAL-MAIL','TNT_BRIEF']:\n",
    "        return 'BRIEFPOST'\n",
    "    else:\n",
    "        return 'OTHER'"
   ]
  },
  {
   "cell_type": "code",
   "execution_count": 47,
   "id": "confidential-aurora",
   "metadata": {},
   "outputs": [
    {
     "data": {
      "text/plain": [
       "POSTNL       220877\n",
       "BRIEFPOST    165089\n",
       "DHL           45964\n",
       "DPD           34519\n",
       "OTHER         33551\n",
       "Name: transporterCodeGeneral, dtype: int64"
      ]
     },
     "execution_count": 47,
     "metadata": {},
     "output_type": "execute_result"
    }
   ],
   "source": [
    "df['transporterCodeGeneral'] = df['transporterCode'].apply(transporterCluster)\n",
    "df['transporterCodeGeneral'].value_counts()"
   ]
  },
  {
   "cell_type": "markdown",
   "id": "abstract-bahrain",
   "metadata": {},
   "source": [
    "#### Product Groups"
   ]
  },
  {
   "cell_type": "code",
   "execution_count": 48,
   "id": "polar-theta",
   "metadata": {},
   "outputs": [],
   "source": [
    "def productGroupCluster(productGroup):\n",
    "    \"\"\"\n",
    "    Function to create a new manually clustered product group variable based on categories bol.com\n",
    "    60 -> 14 groups.\n",
    "    \"\"\"\n",
    "    if productGroup in ['Dutch Books PG','Ebooks and Audiobooks','International Books PG']:\n",
    "        return 'Books'\n",
    "    elif productGroup in ['Games Accessories','Games Consoles','Games Software Physical',\n",
    "                          'Movies','Music']:\n",
    "        return 'Music, Film & Games'\n",
    "    elif productGroup in ['Camera','Desktop Monitor and Beamer','Ereaders and Accessories',\n",
    "                          'Laptop Computers','PC Accessories','Personal Audio',\n",
    "                          'Sound and Vision Accessories','Storage and Network',\n",
    "                          'Telephone and Tablet Accessories','Telephones and Tablets','Television']:\n",
    "        return 'Computer & Electronics'\n",
    "    elif productGroup in ['General Toys','Recreational and Outdoor Toys']:\n",
    "        return 'Toys & Hobby'\n",
    "    elif productGroup in ['Baby and Kids Fashion','Baby PG']:\n",
    "        return 'Baby & Kids'\n",
    "    elif productGroup in ['Daily Care PG','Health PG','Perfumery PG','Personal Care']:\n",
    "        return 'Health & Care'\n",
    "    elif productGroup in ['Footwear','Jewelry and Watches','Mens and Womens Fashion','Wearables']:\n",
    "        return 'Fashion, Shoes & Accessories'\n",
    "    elif productGroup in ['Bodyfashion and Beachwear','Camping and Outdoor','Cycling',\n",
    "                          'Sporting Equipment','Sportswear','Travel Bags and Accessories']:\n",
    "        return 'Sports, Outdoor & Travel'\n",
    "    elif productGroup in ['Educational Dutch','Educational International','Printing and Ink']:\n",
    "        return 'Office & School'\n",
    "    elif productGroup in ['Supermarket PG'] :\n",
    "        return 'Food & Beverage'\n",
    "    elif productGroup in ['Furniture','Heating and Air','Home Decoration','Home Entertainment',\n",
    "                          'Household','Household Appliances','Kitchen','Kitchen Machines',\n",
    "                          'Lighting','Major Domestic Appliances PG','Plumbing and Safety']:\n",
    "        return 'Home, Cooking & Household'\n",
    "    elif productGroup in ['Garden','Pet PG','Textiles','Tools and Paint']:\n",
    "        return 'Pets, Garden & Jobs'\n",
    "    elif productGroup in ['Car and Motorcycle'] :\n",
    "        return 'Car & Motor'\n",
    "    else:\n",
    "        return 'Other'"
   ]
  },
  {
   "cell_type": "code",
   "execution_count": 49,
   "id": "exciting-execution",
   "metadata": {},
   "outputs": [
    {
     "data": {
      "text/plain": [
       "Computer & Electronics          144912\n",
       "Home, Cooking & Household        83874\n",
       "Sports, Outdoor & Travel         54794\n",
       "Toys & Hobby                     52754\n",
       "Pets, Garden & Jobs              35573\n",
       "Health & Care                    31107\n",
       "Food & Beverage                  27240\n",
       "Books                            19358\n",
       "Music, Film & Games              17116\n",
       "Baby & Kids                      11832\n",
       "Fashion, Shoes & Accessories     11551\n",
       "Office & School                   5532\n",
       "Car & Motor                       3097\n",
       "Other                             1260\n",
       "Name: productGroupGeneral, dtype: int64"
      ]
     },
     "execution_count": 49,
     "metadata": {},
     "output_type": "execute_result"
    }
   ],
   "source": [
    "df['productGroupGeneral'] = df['productGroup'].apply(productGroupCluster)\n",
    "df['productGroupGeneral'].value_counts()"
   ]
  },
  {
   "cell_type": "code",
   "execution_count": 50,
   "id": "organizational-decline",
   "metadata": {},
   "outputs": [],
   "source": [
    "#Create dummies of new product grouping\n",
    "for group in df['productGroupGeneral'].unique():\n",
    "    \n",
    "    columnName = 'group' + group.split(' ')[0].replace(',','')\n",
    "    df[columnName] = df['productGroupGeneral'].apply(lambda x: True if x == group else False)"
   ]
  },
  {
   "cell_type": "code",
   "execution_count": 51,
   "id": "weekly-hearts",
   "metadata": {},
   "outputs": [
    {
     "name": "stdout",
     "output_type": "stream",
     "text": [
      "Index(['orderDate', 'productId', 'sellerId', 'totalPrice', 'quantityOrdered',\n",
      "       'countryCode', 'cancellationDate', 'cancellationReasonCode',\n",
      "       'promisedDeliveryDate', 'shipmentDate', 'transporterCode',\n",
      "       'transporterName', 'transporterNameOther',\n",
      "       'dateTimeFirstDeliveryMoment', 'fulfilmentType', 'startDateCase',\n",
      "       'cntDistinctCaseIds', 'returnDateTime', 'quantityReturned',\n",
      "       'returnCode', 'productTitle', 'brickName', 'chunkName', 'productGroup',\n",
      "       'productSubGroup', 'productSubSubGroup', 'registrationDateSeller',\n",
      "       'countryOriginSeller', 'currentCountryAvailabilitySeller',\n",
      "       'calculationDefinitive', 'noCancellation', 'onTimeDelivery', 'noCase',\n",
      "       'hasOneCase', 'hasMoreCases', 'noReturn', 'detailedMatchClassification',\n",
      "       'generalMatchClassification', 'determinantClassification', 'orderYear',\n",
      "       'orderMonth', 'orderYearMonth', 'orderWeekday', 'orderWeekend',\n",
      "       'orderCorona', 'transporterFeature', 'partnerSellingMonths',\n",
      "       'cancellationDays', 'shipmentDays', 'promisedDeliveryDays',\n",
      "       'actualDeliveryDays', 'caseDays', 'returnDays', 'countryCodeNL',\n",
      "       'fulfilmentByBol', 'countryOriginNL', 'countryOriginBE',\n",
      "       'countryOriginDE', 'orderMonday', 'orderTuesday', 'orderWednesday',\n",
      "       'orderThursday', 'orderFriday', 'orderSaturday', 'orderSunday',\n",
      "       'orderJanuary', 'orderFebruary', 'orderMarch', 'orderApril', 'orderMay',\n",
      "       'orderJune', 'orderJuly', 'orderAugust', 'orderSeptember',\n",
      "       'orderOctober', 'orderNovember', 'orderDecember', 'productTitleLength',\n",
      "       'binaryMatchClassification', 'orderYear2020', 'transporterCodeGeneral',\n",
      "       'productGroupGeneral', 'groupToys', 'groupFood', 'groupHome',\n",
      "       'groupSports', 'groupPets', 'groupBooks', 'groupFashion',\n",
      "       'groupComputer', 'groupHealth', 'groupMusic', 'groupBaby',\n",
      "       'groupOffice', 'groupCar', 'groupOther'],\n",
      "      dtype='object')\n",
      "Total:  96  columns\n"
     ]
    }
   ],
   "source": [
    "print(df.columns)\n",
    "print('Total: ',len(df.columns),' columns')"
   ]
  },
  {
   "cell_type": "markdown",
   "id": "subtle-constraint",
   "metadata": {},
   "source": [
    "#### Functions"
   ]
  },
  {
   "cell_type": "code",
   "execution_count": 52,
   "id": "considered-hours",
   "metadata": {},
   "outputs": [],
   "source": [
    "def createColumns(df,X):\n",
    "    \"\"\"\n",
    "    Function to create dynamic columns based on the prediction period.\n",
    "    X = number of days after order date\n",
    "    \"\"\"\n",
    "    \n",
    "    dynamic_cols = ['caseDays','returnDays','cancellationDays','actualDeliveryDays']\n",
    "    \n",
    "    for col in dynamic_cols:\n",
    "        \n",
    "        dynamic_colname = col+'_'+str(X)\n",
    "        df[dynamic_colname] = df[col].dt.days\n",
    "        df[dynamic_colname] = df[dynamic_colname].apply(lambda x: x if x <= X else None)\n",
    "        \n",
    "    return df"
   ]
  },
  {
   "cell_type": "code",
   "execution_count": 53,
   "id": "incorporate-ministry",
   "metadata": {},
   "outputs": [],
   "source": [
    "def addPeriodColumns(df,X):\n",
    "    \"\"\"\n",
    "    Function to create columns which indicate whether determinants are known after X days.\n",
    "    Input: X = number of days after order date at which the prediction is made\n",
    "           df = dataFrame\n",
    "    TO-DO: add transporter dummies if known after shipmentDate\n",
    "    \"\"\"\n",
    "    \n",
    "    df['caseKnown']           = df.apply(lambda row: True if row.caseDays <= X else False, axis = 1)\n",
    "    df['returnKnown']         = df.apply(lambda row: True if row.returnDays <= X else False, axis = 1)\n",
    "    df['cancellationKnown']   = df.apply(lambda row: True if row.cancellationDays <= X else False, axis = 1)\n",
    "    df['onTimeDeliveryKnown'] = df.apply(lambda row: True if ((row.actualDeliveryDays <= X) and (row.onTimeDelivery == True)) else False, axis = 1)\n",
    "    df['lateDeliveryKnown']   = df.apply(lambda row: True if ((row.actualDeliveryDays <= X) and (row.onTimeDelivery == False)) else False, axis = 1)\n",
    "    \n",
    "#     df['transporterPostNL'] = df.apply(lambda row: True if ((row.shipmentDays <= X) and (row. == 'PostNL')) else False, axis = 1)\n",
    "#     df['transporterDHL']    = df.apply(lambda row: True if ((row.shipmentDays <= X) and (row. == 'DHL')) else False, axis = 1)\n",
    "#     df['transporterGLS']    = df.apply(lambda row: True if ((row.shipmentDays <= X) and (row. == 'GLS')) else False, axis = 1)\n",
    "#     df['transporterBrief']  = df.apply(lambda row: True if ((row.shipmentDays <= X) and (row. == 'Brief')) else False, axis = 1)\n",
    "#     df['transporterOther']  = df.apply(lambda row: True if ((row.shipmentDays <= X) and (row. == 'Other')) else False, axis = 1)\n",
    "\n",
    "    return df"
   ]
  },
  {
   "cell_type": "code",
   "execution_count": 54,
   "id": "greenhouse-locator",
   "metadata": {},
   "outputs": [],
   "source": [
    "def addProductColumns(df):\n",
    "    \"\"\"\n",
    "    Function to add 4 columns: productOrderCount, productTotalCount, productTotalReturned and productReturnFraction.\n",
    "    Input: dataFrame with columns: 'productId','orderDate','quantityOrdered','quantityReturned','returnDateTime'.\n",
    "    \"\"\"\n",
    "    df = df.sort_values(by = ['productId','orderDate'])\n",
    "    df = df.reset_index(drop = True)\n",
    "    \n",
    "    df_ = df[['productId','orderDate','quantityOrdered','quantityReturned','returnDateTime']]\n",
    "    \n",
    "    #ProductTotalCount\n",
    "    pivot = df_.groupby(['productId','orderDate']).quantityOrdered.sum().groupby('productId').cumsum()\n",
    "    productTotalCount = df_.merge(pivot, \n",
    "                                left_on=['productId','orderDate'], \n",
    "                                right_index=True, \n",
    "                                how = 'left').quantityOrdered_y\n",
    "    \n",
    "    #ProductOrderCount\n",
    "    pivot = df_.groupby(['productId','orderDate']).quantityOrdered.count().groupby('productId').cumsum()\n",
    "    productOrderCount = df_.merge(pivot, \n",
    "                                left_on=['productId','orderDate'], \n",
    "                                right_index=True, \n",
    "                                how = 'left').quantityOrdered_y\n",
    "    \n",
    "    #ProductTotalReturned\n",
    "    productTotalReturned = np.zeros(df_.shape[0])\n",
    "    \n",
    "    previousID = None\n",
    "    \n",
    "    returnDic = {}\n",
    "    \n",
    "    for row in df_.itertuples(): #iterate through dataFrame\n",
    "        \n",
    "        if row[0] == 0: \n",
    "            \n",
    "            #update return dictionary if this product is returned\n",
    "            if row[4] != None:\n",
    "                if row[5] in returnDic:\n",
    "                    returnDic[row[5]] += row[4]\n",
    "                else:\n",
    "                    returnDic[row[5]] = row[4]\n",
    "\n",
    "            previousID = row[1]\n",
    "            \n",
    "        elif (previousID == row[1]):\n",
    "            \n",
    "            #update return dictionary if this product is returned\n",
    "            if row[4] != None:\n",
    "                if row[5] in returnDic:\n",
    "                    returnDic[row[5]] += row[4]\n",
    "                else:\n",
    "                    returnDic[row[5]] = row[4]\n",
    "            \n",
    "            #add returned products to new dictionary if known\n",
    "            known = {k: v for k, v in returnDic.items() if k <= row[2]}\n",
    "            productTotalReturned[row[0]] = sum(known.values())\n",
    "            \n",
    "            #update the dictionary by removing the returns which are now known\n",
    "            returnDic = {k: v for k, v in returnDic.items() if k > row[2]}\n",
    "                        \n",
    "            previousID = row[1]\n",
    "            \n",
    "        else:\n",
    "            returnDic = {} #new productId, hence empty the return dictionary\n",
    "            \n",
    "            #update return dictionary if this product is returned\n",
    "            if row[4] != None:\n",
    "                if row[5] in returnDic:\n",
    "                    returnDic[row[5]] += row[4]\n",
    "                else:\n",
    "                    returnDic[row[5]] = row[4]\n",
    "                    \n",
    "            previousID = row[1]\n",
    "    \n",
    "    df_['productTotalReturned'] = productTotalReturned\n",
    "    pivot = df_.groupby(by = ['productId','orderDate']).productTotalReturned.sum().groupby('productId').cumsum()\n",
    "    productTotalReturned = df_.merge(pivot, \n",
    "                                left_on=['productId','orderDate'], \n",
    "                                right_index=True, \n",
    "                                how = 'left').productTotalReturned_y\n",
    "     \n",
    "    #Add new columns to dataFrame    \n",
    "    df['productOrderCount'] = productOrderCount\n",
    "    df['productTotalCount'] = productTotalCount\n",
    "    df['productTotalReturned'] = productTotalReturned\n",
    "    df['productReturnFraction'] = productTotalReturned / productTotalCount\n",
    "    \n",
    "    return(df)"
   ]
  },
  {
   "cell_type": "code",
   "execution_count": 62,
   "id": "assigned-gentleman",
   "metadata": {},
   "outputs": [],
   "source": [
    "def classifyLabels(classifier, X, y, n, split = 'TimeSeries', smote = False, scale = None, days = 0):\n",
    "    \"\"\"\n",
    "    Function to classify match labels using a pre-specified classifier with X and y variables. \n",
    "    \n",
    "    Input:\n",
    "    - classifier: can be any supported classifier. E.g. DecisionTreeClassifier(random_state=0, class_weight='balanced', max_depth=10). Necessary!\n",
    "    - X: dataframe input on explanatory features. Necessary!\n",
    "    - y: dataframe input on labels. Necessary!\n",
    "    - n: number of folds to be evaluated.\n",
    "    - split: object that can take value 'Random' to make K-fold random train/test split. Default is to apply time series split.\n",
    "    - smote: boolean, if true Synthetic Minority Oversampling will be applied. Default = False.\n",
    "    - scale: object that can take values 'MinMax' or 'Standard' to scale X correspondingly. Any other input will not scale X. Default = None.\n",
    "    - days: integer number of days after orderDate that should be considered. Default = 0.\n",
    "    \n",
    "    Output: \n",
    "    - accuracy: list of accuracies for the n evaluated classifiers.\n",
    "    - class_report: report of performance measures for the n evaluated classifiers.\n",
    "    \"\"\"\n",
    "    \n",
    "    accuracy = {}\n",
    "    class_report = {}\n",
    "    count = 1\n",
    "    \n",
    "    if split == 'Random':\n",
    "        \n",
    "        kf = StratifiedKFold(n_splits = n, random_state = 0, shuffle = True)\n",
    "        for train_index, test_index in kf.split(X, y):\n",
    "\n",
    "            if scale == 'MinMax':\n",
    "                scaler = preprocessing.MinMaxScaler()\n",
    "                X_scaled = pd.DataFrame(scaler.fit_transform(X))\n",
    "                X_train, X_test = X_scaled.iloc[train_index], X_scaled.iloc[test_index]\n",
    "                y_train, y_test = y.iloc[train_index], y.iloc[test_index]\n",
    "            elif scale == 'Standard':\n",
    "                scaler = preprocessing.StandardScaler()\n",
    "                X_scaled = pd.DataFrame(scaler.fit_transform(X))\n",
    "                X_train, X_test = X_scaled.iloc[train_index], X_scaled.iloc[test_index]\n",
    "                y_train, y_test = y.iloc[train_index], y.iloc[test_index]\n",
    "            else:\n",
    "                X_train, X_test = X.iloc[train_index], X.iloc[test_index]\n",
    "                y_train, y_test = y.iloc[train_index], y.iloc[test_index]\n",
    "\n",
    "            if smote == True:\n",
    "                smote = SMOTE('not majority')\n",
    "                X_train, y_train = smote.fit_sample(X_train,y_train)\n",
    "            else:\n",
    "                X_train, y_train = X_train, y_train\n",
    "            \n",
    "            clf = classifier\n",
    "            clf = clf.fit(X_train,y_train)\n",
    "            prediction = clf.predict(X_test)\n",
    "            accuracy[count] = metrics.accuracy_score(y_test, prediction)\n",
    "            class_report[count] = metrics.classification_report(y_test, prediction)\n",
    "    \n",
    "            print(count)\n",
    "            count +=1\n",
    "    \n",
    "    else:\n",
    "        \n",
    "        tscv = TimeSeriesSplit(n_splits = n)\n",
    "        \n",
    "        for train_index, test_index in tscv.split(X):\n",
    "        \n",
    "            if scale == 'MinMax':\n",
    "                scaler = preprocessing.MinMaxScaler()\n",
    "                X_scaled = pd.DataFrame(scaler.fit_transform(X))\n",
    "                X_train, X_test = X_scaled.iloc[train_index], X_scaled.iloc[test_index]\n",
    "                y_train, y_test = y.iloc[train_index], y.iloc[test_index]\n",
    "            elif scale == 'Standard':\n",
    "                scaler = preprocessing.StandardScaler()\n",
    "                X_scaled = pd.DataFrame(scaler.fit_transform(X))\n",
    "                X_train, X_test = X_scaled.iloc[train_index], X_scaled.iloc[test_index]\n",
    "                y_train, y_test = y.iloc[train_index], y.iloc[test_index]\n",
    "            else:\n",
    "                X_train, X_test = X.iloc[train_index], X.iloc[test_index]\n",
    "                y_train, y_test = y.iloc[train_index], y.iloc[test_index]\n",
    "\n",
    "            if smote == True:\n",
    "                smote = SMOTE('not majority')\n",
    "                X_train, y_train = smote.fit_sample(X_train,y_train)\n",
    "            else:\n",
    "                X_train, y_train = X_train, y_train\n",
    "            \n",
    "            clf = classifier\n",
    "            clf = clf.fit(X_train,y_train)\n",
    "            prediction = clf.predict(X_test)\n",
    "            accuracy[count] = metrics.accuracy_score(y_test, prediction)\n",
    "            class_report[count] = metrics.classification_report(y_test, prediction)\n",
    "    \n",
    "            print(count)\n",
    "            count +=1\n",
    "\n",
    "    return(accuracy, class_report)"
   ]
  },
  {
   "cell_type": "code",
   "execution_count": 56,
   "id": "collected-ordinance",
   "metadata": {},
   "outputs": [
    {
     "name": "stderr",
     "output_type": "stream",
     "text": [
      "<ipython-input-54-5e0d7d48eabf>:75: SettingWithCopyWarning: \n",
      "A value is trying to be set on a copy of a slice from a DataFrame.\n",
      "Try using .loc[row_indexer,col_indexer] = value instead\n",
      "\n",
      "See the caveats in the documentation: https://pandas.pydata.org/pandas-docs/stable/user_guide/indexing.html#returning-a-view-versus-a-copy\n",
      "  df_['productTotalReturned'] = productTotalReturned\n"
     ]
    }
   ],
   "source": [
    "df = addProductColumns(df)"
   ]
  },
  {
   "cell_type": "code",
   "execution_count": 57,
   "id": "indirect-favor",
   "metadata": {},
   "outputs": [],
   "source": [
    "df = addPeriodColumns(df,2)"
   ]
  },
  {
   "cell_type": "code",
   "execution_count": 58,
   "id": "biblical-oakland",
   "metadata": {},
   "outputs": [
    {
     "name": "stdout",
     "output_type": "stream",
     "text": [
      "Categorical variables:\n",
      "['productId', 'sellerId', 'countryCode', 'cancellationReasonCode', 'transporterCode', 'transporterName', 'transporterNameOther', 'fulfilmentType', 'returnCode', 'productTitle', 'brickName', 'chunkName', 'productGroup', 'productSubGroup', 'productSubSubGroup', 'countryOriginSeller', 'currentCountryAvailabilitySeller', 'onTimeDelivery', 'detailedMatchClassification', 'generalMatchClassification', 'determinantClassification', 'orderMonth', 'orderYearMonth', 'transporterFeature', 'binaryMatchClassification', 'transporterCodeGeneral', 'productGroupGeneral']\n"
     ]
    }
   ],
   "source": [
    "#Categorical variables\n",
    "s = (df.dtypes == 'object')\n",
    "object_cols = list(s[s].index)\n",
    "print(\"Categorical variables:\")\n",
    "print(object_cols)"
   ]
  },
  {
   "cell_type": "markdown",
   "id": "sharing-trainer",
   "metadata": {},
   "source": [
    "# Function-based Classification"
   ]
  },
  {
   "cell_type": "markdown",
   "id": "diagnostic-start",
   "metadata": {},
   "source": [
    "## Define X and y variables for classification"
   ]
  },
  {
   "cell_type": "code",
   "execution_count": 59,
   "id": "sharp-receptor",
   "metadata": {},
   "outputs": [],
   "source": [
    "index = ['orderDate']\n",
    "X_col = ['totalPrice','quantityOrdered','promisedDeliveryDays','orderCorona','partnerSellingMonths',\n",
    "        'countryCodeNL', 'fulfilmentByBol', 'countryOriginNL', 'countryOriginBE', 'countryOriginDE', 'orderWeekend',\n",
    "        'orderMonday','orderTuesday', 'orderWednesday', 'orderThursday', 'orderFriday', 'orderSaturday', 'orderSunday',\n",
    "        'orderJanuary', 'orderFebruary', 'orderMarch', 'orderApril', 'orderMay', 'orderJune', 'orderJuly',\n",
    "        'orderAugust', 'orderSeptember', 'orderOctober', 'orderNovember', 'orderDecember', 'productTitleLength',\n",
    "        'productOrderCount', 'productReturnFraction', 'orderYear2020', 'groupComputer', 'groupFood', 'groupBooks',\n",
    "        'groupHealth', 'groupToys', 'groupSports', 'groupHome', 'groupOffice', 'groupPets', 'groupMusic', 'groupFashion',\n",
    "        'groupBaby', 'groupOther', 'groupCar']\n",
    "y_col = ['binaryMatchClassification']\n",
    "#y_col = ['generalMatchClassification']\n",
    "\n",
    "df_test = df[index+X_col+y_col].dropna()\n",
    "df_test = df_test.sort_values(by = 'orderDate')\n",
    "df_test = df_test.reset_index(drop = True)\n",
    "\n",
    "X = df_test[X_col]\n",
    "y = df_test[y_col]"
   ]
  },
  {
   "cell_type": "markdown",
   "id": "upper-corps",
   "metadata": {},
   "source": [
    "## Classification"
   ]
  },
  {
   "cell_type": "code",
   "execution_count": 64,
   "id": "seeing-pioneer",
   "metadata": {},
   "outputs": [
    {
     "name": "stderr",
     "output_type": "stream",
     "text": [
      "C:\\Users\\thoma\\Anaconda3\\lib\\site-packages\\sklearn\\utils\\validation.py:72: DataConversionWarning: A column-vector y was passed when a 1d array was expected. Please change the shape of y to (n_samples, ), for example using ravel().\n",
      "  return f(**kwargs)\n"
     ]
    },
    {
     "name": "stdout",
     "output_type": "stream",
     "text": [
      "1\n"
     ]
    },
    {
     "name": "stderr",
     "output_type": "stream",
     "text": [
      "C:\\Users\\thoma\\Anaconda3\\lib\\site-packages\\sklearn\\utils\\validation.py:72: DataConversionWarning: A column-vector y was passed when a 1d array was expected. Please change the shape of y to (n_samples, ), for example using ravel().\n",
      "  return f(**kwargs)\n"
     ]
    },
    {
     "name": "stdout",
     "output_type": "stream",
     "text": [
      "2\n"
     ]
    },
    {
     "name": "stderr",
     "output_type": "stream",
     "text": [
      "C:\\Users\\thoma\\Anaconda3\\lib\\site-packages\\sklearn\\utils\\validation.py:72: DataConversionWarning: A column-vector y was passed when a 1d array was expected. Please change the shape of y to (n_samples, ), for example using ravel().\n",
      "  return f(**kwargs)\n"
     ]
    },
    {
     "name": "stdout",
     "output_type": "stream",
     "text": [
      "3\n",
      "{1: 0.757824, 2: 0.784864, 3: 0.764312}\n",
      "              precision    recall  f1-score   support\n",
      "\n",
      "       KNOWN       0.86      0.77      0.81     83632\n",
      "     UNKNOWN       0.61      0.74      0.67     41368\n",
      "\n",
      "    accuracy                           0.76    125000\n",
      "   macro avg       0.73      0.75      0.74    125000\n",
      "weighted avg       0.78      0.76      0.76    125000\n",
      "\n",
      "              precision    recall  f1-score   support\n",
      "\n",
      "       KNOWN       0.81      0.92      0.86     90425\n",
      "     UNKNOWN       0.68      0.42      0.52     34575\n",
      "\n",
      "    accuracy                           0.78    125000\n",
      "   macro avg       0.74      0.67      0.69    125000\n",
      "weighted avg       0.77      0.78      0.77    125000\n",
      "\n",
      "              precision    recall  f1-score   support\n",
      "\n",
      "       KNOWN       0.77      0.93      0.84     84783\n",
      "     UNKNOWN       0.73      0.42      0.54     40217\n",
      "\n",
      "    accuracy                           0.76    125000\n",
      "   macro avg       0.75      0.67      0.69    125000\n",
      "weighted avg       0.76      0.76      0.74    125000\n",
      "\n"
     ]
    }
   ],
   "source": [
    "# Naive Bayes Bernoulli\n",
    "(accuracy,class_report) = classifyLabels(BernoulliNB(), X, y, 3)\n",
    "print(accuracy)\n",
    "for item in class_report.values():\n",
    "    print(item)"
   ]
  },
  {
   "cell_type": "markdown",
   "id": "historical-application",
   "metadata": {},
   "source": [
    "# Binary Classification"
   ]
  },
  {
   "cell_type": "markdown",
   "id": "hundred-cause",
   "metadata": {},
   "source": [
    "**Define X and y variables for binary classification**"
   ]
  },
  {
   "cell_type": "code",
   "execution_count": 23,
   "id": "hungarian-detection",
   "metadata": {},
   "outputs": [],
   "source": [
    "index = ['orderDate']\n",
    "X_col = ['totalPrice','quantityOrdered','promisedDeliveryDays','orderCorona','partnerSellingMonths',\n",
    "        'countryCodeNL', 'fulfilmentByBol', 'countryOriginNL', 'countryOriginBE', 'countryOriginDE', 'orderWeekend',\n",
    "        'orderMonday','orderTuesday', 'orderWednesday', 'orderThursday', 'orderFriday', 'orderSaturday', 'orderSunday',\n",
    "        'orderJanuary', 'orderFebruary', 'orderMarch', 'orderApril', 'orderMay', 'orderJune', 'orderJuly',\n",
    "        'orderAugust', 'orderSeptember', 'orderOctober', 'orderNovember', 'orderDecember', 'productTitleLength',\n",
    "        'productOrderCount', 'productReturnFraction', 'orderYear2020', 'groupComputer', 'groupFood', 'groupBooks',\n",
    "        'groupHealth', 'groupToys', 'groupSports', 'groupHome', 'groupOffice', 'groupPets', 'groupMusic', 'groupFashion',\n",
    "        'groupBaby', 'groupOther', 'groupCar']\n",
    "y_col = ['binaryMatchClassification']\n",
    "\n",
    "df_test = df[index+X_col+y_col].dropna()\n",
    "df_test = df_test.sort_values(by = 'orderDate')\n",
    "df_test = df_test.reset_index(drop = True)\n",
    "\n",
    "X_binary = df_test[X_col]\n",
    "y_binary = df_test[y_col]"
   ]
  },
  {
   "cell_type": "code",
   "execution_count": 24,
   "id": "superior-netscape",
   "metadata": {},
   "outputs": [
    {
     "data": {
      "text/plain": [
       "KNOWN      68181\n",
       "UNKNOWN    31819\n",
       "Name: binaryMatchClassification, dtype: int64"
      ]
     },
     "execution_count": 24,
     "metadata": {},
     "output_type": "execute_result"
    }
   ],
   "source": [
    "df['binaryMatchClassification'].value_counts()"
   ]
  },
  {
   "cell_type": "markdown",
   "id": "celtic-discharge",
   "metadata": {},
   "source": [
    "#### SMOTE Definition"
   ]
  },
  {
   "cell_type": "code",
   "execution_count": 25,
   "id": "worst-government",
   "metadata": {},
   "outputs": [
    {
     "name": "stderr",
     "output_type": "stream",
     "text": [
      "C:\\Users\\thoma\\Anaconda3\\lib\\site-packages\\imblearn\\utils\\_validation.py:635: FutureWarning: Pass sampling_strategy=not majority as keyword args. From version 0.9 passing these as positional arguments will result in an error\n",
      "  warnings.warn(\"Pass {} as keyword args. From version 0.9 \"\n"
     ]
    },
    {
     "name": "stdout",
     "output_type": "stream",
     "text": [
      "(100000, 48) (100000, 1)\n",
      "(136362, 48) (136362, 1)\n"
     ]
    }
   ],
   "source": [
    "smote = SMOTE('not majority')\n",
    "X_sm, y_sm = smote.fit_sample(X_binary,y_binary)\n",
    "print(X_binary.shape, y_binary.shape)\n",
    "print(X_sm.shape, y_sm.shape)"
   ]
  },
  {
   "cell_type": "markdown",
   "id": "stock-frank",
   "metadata": {},
   "source": [
    "# Multi-class Classification"
   ]
  },
  {
   "cell_type": "markdown",
   "id": "stainless-folder",
   "metadata": {},
   "source": [
    "#### Define X and y variables for multi-class classification"
   ]
  },
  {
   "cell_type": "code",
   "execution_count": 128,
   "id": "burning-ethics",
   "metadata": {},
   "outputs": [],
   "source": [
    "index = ['orderDate']\n",
    "X_col = ['totalPrice','quantityOrdered','promisedDeliveryDays','orderCorona','partnerSellingMonths',\n",
    "        'countryCodeNL', 'fulfilmentByBol', 'countryOriginNL', 'countryOriginBE', 'countryOriginDE', 'orderWeekend',\n",
    "        'orderMonday','orderTuesday', 'orderWednesday', 'orderThursday', 'orderFriday', 'orderSaturday', 'orderSunday',\n",
    "        'orderJanuary', 'orderFebruary', 'orderMarch', 'orderApril', 'orderMay', 'orderJune', 'orderJuly',\n",
    "        'orderAugust', 'orderSeptember', 'orderOctober', 'orderNovember', 'orderDecember', 'productTitleLength',\n",
    "        'productOrderCount', 'productReturnFraction', 'orderYear2020']\n",
    "y_col = ['generalMatchClassification']\n",
    "\n",
    "df_test = df[index+X_col+y_col].dropna()\n",
    "df_test = df_test.sort_values(by = 'orderDate')\n",
    "df_test = df_test.reset_index(drop = True)\n",
    "\n",
    "X_multi = df_test[X_col]\n",
    "y_multi = df_test[y_col]"
   ]
  },
  {
   "cell_type": "markdown",
   "id": "broadband-netscape",
   "metadata": {},
   "source": [
    "### SMOTE Definition"
   ]
  },
  {
   "cell_type": "code",
   "execution_count": 138,
   "id": "wrong-scroll",
   "metadata": {},
   "outputs": [
    {
     "name": "stderr",
     "output_type": "stream",
     "text": [
      "C:\\Users\\thoma\\Anaconda3\\lib\\site-packages\\imblearn\\utils\\_validation.py:635: FutureWarning: Pass sampling_strategy=not majority as keyword args. From version 0.9 passing these as positional arguments will result in an error\n",
      "  warnings.warn(\"Pass {} as keyword args. From version 0.9 \"\n"
     ]
    },
    {
     "name": "stdout",
     "output_type": "stream",
     "text": [
      "(100000, 34) (100000, 1)\n",
      "(168363, 34) (168363, 1)\n"
     ]
    }
   ],
   "source": [
    "smote = SMOTE('not majority')\n",
    "X_sm, y_sm = smote.fit_sample(X_multi,y_multi)\n",
    "print(X_multi.shape, y_multi.shape)\n",
    "print(X_sm.shape, y_sm.shape)"
   ]
  },
  {
   "cell_type": "markdown",
   "id": "desirable-scale",
   "metadata": {},
   "source": [
    "## Naive Bayes"
   ]
  },
  {
   "cell_type": "markdown",
   "id": "occupational-agenda",
   "metadata": {},
   "source": [
    "### Regular Train/Test Split"
   ]
  },
  {
   "cell_type": "markdown",
   "id": "extensive-spanish",
   "metadata": {},
   "source": [
    "#### Stratified K-fold"
   ]
  },
  {
   "cell_type": "code",
   "execution_count": 235,
   "id": "indoor-secret",
   "metadata": {},
   "outputs": [
    {
     "name": "stderr",
     "output_type": "stream",
     "text": [
      "C:\\Users\\thoma\\Anaconda3\\lib\\site-packages\\sklearn\\utils\\validation.py:72: DataConversionWarning: A column-vector y was passed when a 1d array was expected. Please change the shape of y to (n_samples, ), for example using ravel().\n",
      "  return f(**kwargs)\n"
     ]
    },
    {
     "name": "stdout",
     "output_type": "stream",
     "text": [
      "1\n"
     ]
    },
    {
     "name": "stderr",
     "output_type": "stream",
     "text": [
      "C:\\Users\\thoma\\Anaconda3\\lib\\site-packages\\sklearn\\utils\\validation.py:72: DataConversionWarning: A column-vector y was passed when a 1d array was expected. Please change the shape of y to (n_samples, ), for example using ravel().\n",
      "  return f(**kwargs)\n"
     ]
    },
    {
     "name": "stdout",
     "output_type": "stream",
     "text": [
      "2\n"
     ]
    },
    {
     "name": "stderr",
     "output_type": "stream",
     "text": [
      "C:\\Users\\thoma\\Anaconda3\\lib\\site-packages\\sklearn\\utils\\validation.py:72: DataConversionWarning: A column-vector y was passed when a 1d array was expected. Please change the shape of y to (n_samples, ), for example using ravel().\n",
      "  return f(**kwargs)\n"
     ]
    },
    {
     "name": "stdout",
     "output_type": "stream",
     "text": [
      "3\n"
     ]
    }
   ],
   "source": [
    "kf = StratifiedKFold(n_splits = 3, random_state = 0, shuffle = True)\n",
    "\n",
    "accuracy_K = {}\n",
    "class_report_K = {}\n",
    "count = 1\n",
    "\n",
    "for train_index, test_index in kf.split(X_binary, y_binary):\n",
    "\n",
    "    #scaler = preprocessing.StandardScaler()\n",
    "    #scaler = preprocessing.MinMaxScaler()\n",
    "    #X_scaled = pd.DataFrame(scaler.fit_transform(X_binary))\n",
    "\n",
    "    X_train, X_test = X_binary.iloc[train_index], X_binary.iloc[test_index]\n",
    "    y_train, y_test = y_binary.iloc[train_index], y_binary.iloc[test_index]\n",
    "    #X_train, X_test = X_scaled.iloc[train_index], X_scaled.iloc[test_index]\n",
    "    #y_train, y_test = y_binary.iloc[train_index], y_binary.iloc[test_index]\n",
    "    \n",
    "    #clf = GaussianNB()\n",
    "    clf = BernoulliNB()\n",
    "    \n",
    "    clf = clf.fit(X_train,y_train)\n",
    "    \n",
    "    prediction = clf.predict(X_test)\n",
    "    \n",
    "    accuracy_K[count] = metrics.accuracy_score(y_test, prediction)\n",
    "    class_report_K[count] = metrics.classification_report(y_test, prediction)\n",
    "    \n",
    "    print(count)\n",
    "    count +=1"
   ]
  },
  {
   "cell_type": "code",
   "execution_count": 236,
   "id": "about-training",
   "metadata": {},
   "outputs": [
    {
     "name": "stdout",
     "output_type": "stream",
     "text": [
      "{1: 0.7795358092853228, 2: 0.7798964539533106, 3: 0.7793037386320282}\n"
     ]
    }
   ],
   "source": [
    "print(accuracy_K)"
   ]
  },
  {
   "cell_type": "code",
   "execution_count": 237,
   "id": "sitting-preparation",
   "metadata": {},
   "outputs": [
    {
     "name": "stdout",
     "output_type": "stream",
     "text": [
      "              precision    recall  f1-score   support\n",
      "\n",
      "       KNOWN       0.80      0.91      0.85   1085101\n",
      "     UNKNOWN       0.72      0.50      0.59    505883\n",
      "\n",
      "    accuracy                           0.78   1590984\n",
      "   macro avg       0.76      0.70      0.72   1590984\n",
      "weighted avg       0.77      0.78      0.77   1590984\n",
      "\n",
      "              precision    recall  f1-score   support\n",
      "\n",
      "       KNOWN       0.80      0.91      0.85   1085101\n",
      "     UNKNOWN       0.72      0.50      0.59    505882\n",
      "\n",
      "    accuracy                           0.78   1590983\n",
      "   macro avg       0.76      0.70      0.72   1590983\n",
      "weighted avg       0.77      0.78      0.77   1590983\n",
      "\n",
      "              precision    recall  f1-score   support\n",
      "\n",
      "       KNOWN       0.80      0.91      0.85   1085100\n",
      "     UNKNOWN       0.72      0.50      0.59    505883\n",
      "\n",
      "    accuracy                           0.78   1590983\n",
      "   macro avg       0.76      0.70      0.72   1590983\n",
      "weighted avg       0.77      0.78      0.77   1590983\n",
      "\n"
     ]
    }
   ],
   "source": [
    "for item in class_report_K.values():\n",
    "    print(item)"
   ]
  },
  {
   "cell_type": "markdown",
   "id": "palestinian-puzzle",
   "metadata": {},
   "source": [
    "#### SMOTE Stratified K-fold"
   ]
  },
  {
   "cell_type": "code",
   "execution_count": 194,
   "id": "congressional-beatles",
   "metadata": {},
   "outputs": [
    {
     "name": "stderr",
     "output_type": "stream",
     "text": [
      "C:\\Users\\thoma\\Anaconda3\\lib\\site-packages\\sklearn\\utils\\validation.py:72: DataConversionWarning: A column-vector y was passed when a 1d array was expected. Please change the shape of y to (n_samples, ), for example using ravel().\n",
      "  return f(**kwargs)\n"
     ]
    },
    {
     "name": "stdout",
     "output_type": "stream",
     "text": [
      "1\n"
     ]
    },
    {
     "name": "stderr",
     "output_type": "stream",
     "text": [
      "C:\\Users\\thoma\\Anaconda3\\lib\\site-packages\\sklearn\\utils\\validation.py:72: DataConversionWarning: A column-vector y was passed when a 1d array was expected. Please change the shape of y to (n_samples, ), for example using ravel().\n",
      "  return f(**kwargs)\n"
     ]
    },
    {
     "name": "stdout",
     "output_type": "stream",
     "text": [
      "2\n"
     ]
    },
    {
     "name": "stderr",
     "output_type": "stream",
     "text": [
      "C:\\Users\\thoma\\Anaconda3\\lib\\site-packages\\sklearn\\utils\\validation.py:72: DataConversionWarning: A column-vector y was passed when a 1d array was expected. Please change the shape of y to (n_samples, ), for example using ravel().\n",
      "  return f(**kwargs)\n"
     ]
    },
    {
     "name": "stdout",
     "output_type": "stream",
     "text": [
      "3\n"
     ]
    }
   ],
   "source": [
    "kf = StratifiedKFold(n_splits = 3, random_state = 0, shuffle = True)\n",
    "\n",
    "accuracy_K = {}\n",
    "class_report_K = {}\n",
    "count = 1\n",
    "\n",
    "for train_index, test_index in kf.split(X_binary, y_binary):\n",
    "\n",
    "    #scaler = preprocessing.StandardScaler()\n",
    "    #scaler = preprocessing.MinMaxScaler()\n",
    "    #X_scaled = pd.DataFrame(scaler.fit_transform(X_binary))\n",
    "\n",
    "    X_train, X_test = X_binary.iloc[train_index], X_binary.iloc[test_index]\n",
    "    y_train, y_test = y_binary.iloc[train_index], y_binary.iloc[test_index]\n",
    "    #X_train, X_test = X_scaled.iloc[train_index], X_scaled.iloc[test_index]\n",
    "    #y_train, y_test = y_binary.iloc[train_index], y_binary.iloc[test_index]\n",
    "    \n",
    "    X_train_sm, y_train_sm = smote.fit_sample(X_train,y_train)\n",
    "    \n",
    "    clf = GaussianNB()\n",
    "    #clf = BernoulliNB()\n",
    "    \n",
    "    clf = clf.fit(X_train_sm,y_train_sm)\n",
    "    \n",
    "    prediction = clf.predict(X_test)\n",
    "    \n",
    "    accuracy_K[count] = metrics.accuracy_score(y_test, prediction)\n",
    "    class_report_K[count] = metrics.classification_report(y_test, prediction)\n",
    "    \n",
    "    print(count)\n",
    "    count +=1"
   ]
  },
  {
   "cell_type": "code",
   "execution_count": 190,
   "id": "expensive-stone",
   "metadata": {},
   "outputs": [
    {
     "name": "stdout",
     "output_type": "stream",
     "text": [
      "{1: 0.7794744105117898, 2: 0.7816578165781658, 3: 0.7799477994779948}\n"
     ]
    }
   ],
   "source": [
    "print(accuracy_K)"
   ]
  },
  {
   "cell_type": "code",
   "execution_count": 171,
   "id": "warming-circus",
   "metadata": {},
   "outputs": [
    {
     "name": "stdout",
     "output_type": "stream",
     "text": [
      "              precision    recall  f1-score   support\n",
      "\n",
      "       KNOWN       0.87      0.75      0.81     22700\n",
      "     UNKNOWN       0.59      0.76      0.66     10634\n",
      "\n",
      "    accuracy                           0.75     33334\n",
      "   macro avg       0.73      0.75      0.73     33334\n",
      "weighted avg       0.78      0.75      0.76     33334\n",
      "\n",
      "              precision    recall  f1-score   support\n",
      "\n",
      "       KNOWN       0.86      0.76      0.81     22699\n",
      "     UNKNOWN       0.60      0.74      0.66     10634\n",
      "\n",
      "    accuracy                           0.76     33333\n",
      "   macro avg       0.73      0.75      0.74     33333\n",
      "weighted avg       0.78      0.76      0.76     33333\n",
      "\n",
      "              precision    recall  f1-score   support\n",
      "\n",
      "       KNOWN       0.86      0.76      0.81     22699\n",
      "     UNKNOWN       0.59      0.74      0.66     10634\n",
      "\n",
      "    accuracy                           0.75     33333\n",
      "   macro avg       0.73      0.75      0.73     33333\n",
      "weighted avg       0.77      0.75      0.76     33333\n",
      "\n"
     ]
    }
   ],
   "source": [
    "for item in class_report_K.values():\n",
    "    print(item)"
   ]
  },
  {
   "cell_type": "markdown",
   "id": "closing-shopping",
   "metadata": {},
   "source": [
    "### Time Series Split"
   ]
  },
  {
   "cell_type": "markdown",
   "id": "desirable-immunology",
   "metadata": {},
   "source": [
    "#### Basic"
   ]
  },
  {
   "cell_type": "code",
   "execution_count": 238,
   "id": "extreme-value",
   "metadata": {},
   "outputs": [
    {
     "name": "stderr",
     "output_type": "stream",
     "text": [
      "C:\\Users\\thoma\\Anaconda3\\lib\\site-packages\\sklearn\\utils\\validation.py:72: DataConversionWarning: A column-vector y was passed when a 1d array was expected. Please change the shape of y to (n_samples, ), for example using ravel().\n",
      "  return f(**kwargs)\n"
     ]
    },
    {
     "name": "stdout",
     "output_type": "stream",
     "text": [
      "1\n"
     ]
    },
    {
     "name": "stderr",
     "output_type": "stream",
     "text": [
      "C:\\Users\\thoma\\Anaconda3\\lib\\site-packages\\sklearn\\utils\\validation.py:72: DataConversionWarning: A column-vector y was passed when a 1d array was expected. Please change the shape of y to (n_samples, ), for example using ravel().\n",
      "  return f(**kwargs)\n"
     ]
    },
    {
     "name": "stdout",
     "output_type": "stream",
     "text": [
      "2\n"
     ]
    },
    {
     "name": "stderr",
     "output_type": "stream",
     "text": [
      "C:\\Users\\thoma\\Anaconda3\\lib\\site-packages\\sklearn\\utils\\validation.py:72: DataConversionWarning: A column-vector y was passed when a 1d array was expected. Please change the shape of y to (n_samples, ), for example using ravel().\n",
      "  return f(**kwargs)\n"
     ]
    },
    {
     "name": "stdout",
     "output_type": "stream",
     "text": [
      "3\n"
     ]
    }
   ],
   "source": [
    "#TIME-SERIES SPLIT\n",
    "\n",
    "tscv = TimeSeriesSplit(n_splits = 3)\n",
    "\n",
    "accuracy = {}\n",
    "class_report = {}\n",
    "count = 1\n",
    "\n",
    "for train_index, test_index in tscv.split(X_binary):\n",
    "    \n",
    "    #scaler = preprocessing.StandardScaler()\n",
    "    #scaler = preprocessing.MinMaxScaler()\n",
    "    #X_scaled = pd.DataFrame(scaler.fit_transform(X_binary))\n",
    "\n",
    "    X_train, X_test = X_binary.iloc[train_index], X_binary.iloc[test_index]\n",
    "    y_train, y_test = y_binary.iloc[train_index], y_binary.iloc[test_index]\n",
    "    #X_train, X_test = X_scaled.iloc[train_index], X_scaled.iloc[test_index]\n",
    "    #y_train, y_test = y_binary.iloc[train_index], y_binary.iloc[test_index]\n",
    "    \n",
    "    #clf = GaussianNB()\n",
    "    clf = BernoulliNB()\n",
    "    \n",
    "    clf = clf.fit(X_train,y_train)\n",
    "    \n",
    "    prediction = clf.predict(X_test)\n",
    "\n",
    "    accuracy[count] = metrics.accuracy_score(y_test, prediction)\n",
    "    class_report[count] = metrics.classification_report(y_test, prediction)\n",
    "    \n",
    "    print(count)\n",
    "    count +=1"
   ]
  },
  {
   "cell_type": "code",
   "execution_count": 239,
   "id": "empty-thong",
   "metadata": {},
   "outputs": [
    {
     "name": "stdout",
     "output_type": "stream",
     "text": [
      "{1: 0.7535426742549888, 2: 0.7869350346997286, 3: 0.7640669875305577}\n"
     ]
    }
   ],
   "source": [
    "print(accuracy)"
   ]
  },
  {
   "cell_type": "code",
   "execution_count": 240,
   "id": "fossil-beauty",
   "metadata": {},
   "outputs": [
    {
     "name": "stdout",
     "output_type": "stream",
     "text": [
      "              precision    recall  f1-score   support\n",
      "\n",
      "       KNOWN       0.85      0.76      0.80    796906\n",
      "     UNKNOWN       0.61      0.74      0.67    396331\n",
      "\n",
      "    accuracy                           0.75   1193237\n",
      "   macro avg       0.73      0.75      0.74   1193237\n",
      "weighted avg       0.77      0.75      0.76   1193237\n",
      "\n",
      "              precision    recall  f1-score   support\n",
      "\n",
      "       KNOWN       0.81      0.92      0.86    865973\n",
      "     UNKNOWN       0.68      0.43      0.52    327264\n",
      "\n",
      "    accuracy                           0.79   1193237\n",
      "   macro avg       0.74      0.68      0.69   1193237\n",
      "weighted avg       0.77      0.79      0.77   1193237\n",
      "\n",
      "              precision    recall  f1-score   support\n",
      "\n",
      "       KNOWN       0.77      0.92      0.84    809326\n",
      "     UNKNOWN       0.73      0.43      0.54    383911\n",
      "\n",
      "    accuracy                           0.76   1193237\n",
      "   macro avg       0.75      0.68      0.69   1193237\n",
      "weighted avg       0.76      0.76      0.74   1193237\n",
      "\n"
     ]
    }
   ],
   "source": [
    "for item in class_report.values():\n",
    "    print(item)"
   ]
  },
  {
   "cell_type": "markdown",
   "id": "negative-stationery",
   "metadata": {},
   "source": [
    "#### SMOTE"
   ]
  },
  {
   "cell_type": "code",
   "execution_count": 205,
   "id": "unnecessary-clock",
   "metadata": {},
   "outputs": [
    {
     "name": "stderr",
     "output_type": "stream",
     "text": [
      "C:\\Users\\thoma\\Anaconda3\\lib\\site-packages\\sklearn\\utils\\validation.py:72: DataConversionWarning: A column-vector y was passed when a 1d array was expected. Please change the shape of y to (n_samples, ), for example using ravel().\n",
      "  return f(**kwargs)\n"
     ]
    },
    {
     "name": "stdout",
     "output_type": "stream",
     "text": [
      "1\n"
     ]
    },
    {
     "name": "stderr",
     "output_type": "stream",
     "text": [
      "C:\\Users\\thoma\\Anaconda3\\lib\\site-packages\\sklearn\\utils\\validation.py:72: DataConversionWarning: A column-vector y was passed when a 1d array was expected. Please change the shape of y to (n_samples, ), for example using ravel().\n",
      "  return f(**kwargs)\n"
     ]
    },
    {
     "name": "stdout",
     "output_type": "stream",
     "text": [
      "2\n"
     ]
    },
    {
     "name": "stderr",
     "output_type": "stream",
     "text": [
      "C:\\Users\\thoma\\Anaconda3\\lib\\site-packages\\sklearn\\utils\\validation.py:72: DataConversionWarning: A column-vector y was passed when a 1d array was expected. Please change the shape of y to (n_samples, ), for example using ravel().\n",
      "  return f(**kwargs)\n"
     ]
    },
    {
     "name": "stdout",
     "output_type": "stream",
     "text": [
      "3\n"
     ]
    }
   ],
   "source": [
    "#TIME-SERIES SPLIT\n",
    "\n",
    "tscv = TimeSeriesSplit(n_splits = 3)\n",
    "\n",
    "accuracy = {}\n",
    "class_report = {}\n",
    "count = 1\n",
    "\n",
    "for train_index, test_index in tscv.split(X_binary):\n",
    "    \n",
    "    #scaler = preprocessing.StandardScaler()\n",
    "    #scaler = preprocessing.MinMaxScaler()\n",
    "    #X_scaled = pd.DataFrame(scaler.fit_transform(X_binary))\n",
    "\n",
    "    X_train, X_test = X_binary.iloc[train_index], X_binary.iloc[test_index]\n",
    "    y_train, y_test = y_binary.iloc[train_index], y_binary.iloc[test_index]\n",
    "    #X_train, X_test = X_scaled.iloc[train_index], X_scaled.iloc[test_index]\n",
    "    #y_train, y_test = y_binary.iloc[train_index], y_binary.iloc[test_index]\n",
    "    \n",
    "    X_train_sm, y_train_sm = smote.fit_sample(X_train,y_train)\n",
    "    \n",
    "    #clf = GaussianNB()\n",
    "    clf = BernoulliNB()\n",
    "    \n",
    "    clf = clf.fit(X_train_sm,y_train_sm)\n",
    "    \n",
    "    prediction = clf.predict(X_test)\n",
    "\n",
    "    accuracy[count] = metrics.accuracy_score(y_test, prediction)\n",
    "    class_report[count] = metrics.classification_report(y_test, prediction)\n",
    "    \n",
    "    print(count)\n",
    "    count +=1"
   ]
  },
  {
   "cell_type": "code",
   "execution_count": 206,
   "id": "weighted-colorado",
   "metadata": {},
   "outputs": [
    {
     "name": "stdout",
     "output_type": "stream",
     "text": [
      "{1: 0.76504, 2: 0.75272, 3: 0.7532}\n"
     ]
    }
   ],
   "source": [
    "print(accuracy)"
   ]
  },
  {
   "cell_type": "code",
   "execution_count": 207,
   "id": "quality-cisco",
   "metadata": {},
   "outputs": [
    {
     "name": "stdout",
     "output_type": "stream",
     "text": [
      "              precision    recall  f1-score   support\n",
      "\n",
      "       KNOWN       0.83      0.81      0.82     16740\n",
      "     UNKNOWN       0.64      0.68      0.66      8260\n",
      "\n",
      "    accuracy                           0.77     25000\n",
      "   macro avg       0.74      0.74      0.74     25000\n",
      "weighted avg       0.77      0.77      0.77     25000\n",
      "\n",
      "              precision    recall  f1-score   support\n",
      "\n",
      "       KNOWN       0.88      0.77      0.82     18081\n",
      "     UNKNOWN       0.54      0.72      0.62      6919\n",
      "\n",
      "    accuracy                           0.75     25000\n",
      "   macro avg       0.71      0.74      0.72     25000\n",
      "weighted avg       0.78      0.75      0.76     25000\n",
      "\n",
      "              precision    recall  f1-score   support\n",
      "\n",
      "       KNOWN       0.88      0.74      0.80     16853\n",
      "     UNKNOWN       0.59      0.78      0.67      8147\n",
      "\n",
      "    accuracy                           0.75     25000\n",
      "   macro avg       0.73      0.76      0.74     25000\n",
      "weighted avg       0.78      0.75      0.76     25000\n",
      "\n"
     ]
    }
   ],
   "source": [
    "for item in class_report.values():\n",
    "    print(item)"
   ]
  },
  {
   "cell_type": "markdown",
   "id": "impaired-republic",
   "metadata": {},
   "source": [
    "## K-NN"
   ]
  },
  {
   "cell_type": "markdown",
   "id": "noted-johns",
   "metadata": {},
   "source": [
    "### Regular Train/Test Split"
   ]
  },
  {
   "cell_type": "markdown",
   "id": "impaired-thursday",
   "metadata": {},
   "source": [
    "#### Stratified K-fold"
   ]
  },
  {
   "cell_type": "code",
   "execution_count": null,
   "id": "portable-publicity",
   "metadata": {},
   "outputs": [
    {
     "name": "stderr",
     "output_type": "stream",
     "text": [
      "<ipython-input-241-f03717b703b4>:20: DataConversionWarning: A column-vector y was passed when a 1d array was expected. Please change the shape of y to (n_samples, ), for example using ravel().\n",
      "  clf = clf.fit(X_train,y_train)\n"
     ]
    }
   ],
   "source": [
    "kf = StratifiedKFold(n_splits = 3, random_state = 0, shuffle = True)\n",
    "\n",
    "accuracy_K = {}\n",
    "class_report_K = {}\n",
    "count = 1\n",
    "\n",
    "for train_index, test_index in kf.split(X_binary, y_binary):\n",
    "\n",
    "    #scaler = preprocessing.StandardScaler()\n",
    "    scaler = preprocessing.MinMaxScaler()\n",
    "    X_scaled = pd.DataFrame(scaler.fit_transform(X_binary))\n",
    "\n",
    "    #X_train, X_test = X_binary.iloc[train_index], X_binary.iloc[test_index]\n",
    "    #y_train, y_test = y_binary.iloc[train_index], y_binary.iloc[test_index]\n",
    "    X_train, X_test = X_scaled.iloc[train_index], X_scaled.iloc[test_index]\n",
    "    y_train, y_test = y_binary.iloc[train_index], y_binary.iloc[test_index]\n",
    "    \n",
    "    clf = neighbors.KNeighborsClassifier(n_neighbors = 3)\n",
    "    \n",
    "    clf = clf.fit(X_train,y_train)\n",
    "    \n",
    "    prediction = clf.predict(X_test)\n",
    "    \n",
    "    accuracy_K[count] = metrics.accuracy_score(y_test, prediction)\n",
    "    class_report_K[count] = metrics.classification_report(y_test, prediction)\n",
    "    \n",
    "    print(count)\n",
    "    count +=1"
   ]
  },
  {
   "cell_type": "code",
   "execution_count": 26,
   "id": "oriented-lancaster",
   "metadata": {},
   "outputs": [
    {
     "name": "stdout",
     "output_type": "stream",
     "text": [
      "{1: 0.7836743265134697, 2: 0.7825278252782528, 3: 0.7875078750787508}\n"
     ]
    }
   ],
   "source": [
    "print(accuracy_K)"
   ]
  },
  {
   "cell_type": "code",
   "execution_count": 27,
   "id": "expanded-raise",
   "metadata": {},
   "outputs": [
    {
     "name": "stdout",
     "output_type": "stream",
     "text": [
      "              precision    recall  f1-score   support\n",
      "\n",
      "       KNOWN       0.84      0.84      0.84     22729\n",
      "     UNKNOWN       0.66      0.65      0.66     10605\n",
      "\n",
      "    accuracy                           0.78     33334\n",
      "   macro avg       0.75      0.75      0.75     33334\n",
      "weighted avg       0.78      0.78      0.78     33334\n",
      "\n",
      "              precision    recall  f1-score   support\n",
      "\n",
      "       KNOWN       0.84      0.84      0.84     22728\n",
      "     UNKNOWN       0.66      0.65      0.66     10605\n",
      "\n",
      "    accuracy                           0.78     33333\n",
      "   macro avg       0.75      0.75      0.75     33333\n",
      "weighted avg       0.78      0.78      0.78     33333\n",
      "\n",
      "              precision    recall  f1-score   support\n",
      "\n",
      "       KNOWN       0.84      0.85      0.85     22728\n",
      "     UNKNOWN       0.67      0.65      0.66     10605\n",
      "\n",
      "    accuracy                           0.79     33333\n",
      "   macro avg       0.76      0.75      0.75     33333\n",
      "weighted avg       0.79      0.79      0.79     33333\n",
      "\n"
     ]
    }
   ],
   "source": [
    "for item in class_report_K.values():\n",
    "    print(item)"
   ]
  },
  {
   "cell_type": "markdown",
   "id": "suited-reception",
   "metadata": {},
   "source": [
    "#### SMOTE Stratified K-fold"
   ]
  },
  {
   "cell_type": "code",
   "execution_count": null,
   "id": "dying-intranet",
   "metadata": {},
   "outputs": [],
   "source": [
    "kf = StratifiedKFold(n_splits = 3, random_state = 0, shuffle = True)\n",
    "\n",
    "accuracy_K = {}\n",
    "class_report_K = {}\n",
    "count = 1\n",
    "\n",
    "for train_index, test_index in kf.split(X_binary, y_binary):\n",
    "\n",
    "    #scaler = preprocessing.StandardScaler()\n",
    "    scaler = preprocessing.MinMaxScaler()\n",
    "    X_scaled = pd.DataFrame(scaler.fit_transform(X_binary))\n",
    "\n",
    "    #X_train, X_test = X_binary.iloc[train_index], X_binary.iloc[test_index]\n",
    "    #y_train, y_test = y_binary.iloc[train_index], y_binary.iloc[test_index]\n",
    "    X_train, X_test = X_scaled.iloc[train_index], X_scaled.iloc[test_index]\n",
    "    y_train, y_test = y_binary.iloc[train_index], y_binary.iloc[test_index]\n",
    "    \n",
    "    X_train_sm, y_train_sm = smote.fit_sample(X_train,y_train)\n",
    "    \n",
    "    clf = neighbors.KNeighborsClassifier(n_neighbors = 5)\n",
    "    \n",
    "    clf = clf.fit(X_train_sm,y_train_sm)\n",
    "    \n",
    "    prediction = clf.predict(X_test)\n",
    "    \n",
    "    accuracy_K[count] = metrics.accuracy_score(y_test, prediction)\n",
    "    class_report_K[count] = metrics.classification_report(y_test, prediction)\n",
    "    \n",
    "    print(count)\n",
    "    count +=1"
   ]
  },
  {
   "cell_type": "code",
   "execution_count": null,
   "id": "spanish-calvin",
   "metadata": {},
   "outputs": [],
   "source": [
    "print(accuracy_K)"
   ]
  },
  {
   "cell_type": "code",
   "execution_count": null,
   "id": "short-messenger",
   "metadata": {},
   "outputs": [],
   "source": [
    "for item in class_report_K.values():\n",
    "    print(item)"
   ]
  },
  {
   "cell_type": "markdown",
   "id": "native-mumbai",
   "metadata": {},
   "source": [
    "### Time Series Split"
   ]
  },
  {
   "cell_type": "markdown",
   "id": "elegant-stadium",
   "metadata": {},
   "source": [
    "#### Basic"
   ]
  },
  {
   "cell_type": "code",
   "execution_count": 319,
   "id": "structured-tsunami",
   "metadata": {},
   "outputs": [
    {
     "name": "stderr",
     "output_type": "stream",
     "text": [
      "<ipython-input-319-7424c65b413a>:22: DataConversionWarning: A column-vector y was passed when a 1d array was expected. Please change the shape of y to (n_samples, ), for example using ravel().\n",
      "  clf = clf.fit(X_train,y_train)\n"
     ]
    },
    {
     "name": "stdout",
     "output_type": "stream",
     "text": [
      "1\n"
     ]
    },
    {
     "name": "stderr",
     "output_type": "stream",
     "text": [
      "<ipython-input-319-7424c65b413a>:22: DataConversionWarning: A column-vector y was passed when a 1d array was expected. Please change the shape of y to (n_samples, ), for example using ravel().\n",
      "  clf = clf.fit(X_train,y_train)\n"
     ]
    },
    {
     "name": "stdout",
     "output_type": "stream",
     "text": [
      "2\n"
     ]
    },
    {
     "name": "stderr",
     "output_type": "stream",
     "text": [
      "<ipython-input-319-7424c65b413a>:22: DataConversionWarning: A column-vector y was passed when a 1d array was expected. Please change the shape of y to (n_samples, ), for example using ravel().\n",
      "  clf = clf.fit(X_train,y_train)\n"
     ]
    },
    {
     "name": "stdout",
     "output_type": "stream",
     "text": [
      "3\n"
     ]
    }
   ],
   "source": [
    "#TIME-SERIES SPLIT\n",
    "\n",
    "tscv = TimeSeriesSplit(n_splits = 3)\n",
    "\n",
    "accuracy = {}\n",
    "class_report = {}\n",
    "count = 1\n",
    "\n",
    "for train_index, test_index in tscv.split(X_binary):\n",
    "    \n",
    "    #scaler = preprocessing.StandardScaler()\n",
    "    scaler = preprocessing.MinMaxScaler()\n",
    "    X_scaled = pd.DataFrame(scaler.fit_transform(X_binary))\n",
    "\n",
    "    #X_train, X_test = X_binary.iloc[train_index], X_binary.iloc[test_index]\n",
    "    #y_train, y_test = y_binary.iloc[train_index], y_binary.iloc[test_index]\n",
    "    X_train, X_test = X_scaled.iloc[train_index], X_scaled.iloc[test_index]\n",
    "    y_train, y_test = y_binary.iloc[train_index], y_binary.iloc[test_index]\n",
    "    \n",
    "    clf = neighbors.KNeighborsClassifier(n_neighbors = 10)\n",
    "    \n",
    "    clf = clf.fit(X_train,y_train)\n",
    "    \n",
    "    prediction = clf.predict(X_test)\n",
    "\n",
    "    accuracy[count] = metrics.accuracy_score(y_test, prediction)\n",
    "    class_report[count] = metrics.classification_report(y_test, prediction)\n",
    "    \n",
    "    print(count)\n",
    "    count +=1"
   ]
  },
  {
   "cell_type": "code",
   "execution_count": 320,
   "id": "commercial-motor",
   "metadata": {},
   "outputs": [
    {
     "name": "stdout",
     "output_type": "stream",
     "text": [
      "{1: 0.78656, 2: 0.78268, 3: 0.766}\n"
     ]
    }
   ],
   "source": [
    "print(accuracy)"
   ]
  },
  {
   "cell_type": "code",
   "execution_count": 321,
   "id": "august-encyclopedia",
   "metadata": {},
   "outputs": [
    {
     "name": "stdout",
     "output_type": "stream",
     "text": [
      "              precision    recall  f1-score   support\n",
      "\n",
      "       KNOWN       0.82      0.88      0.85     16683\n",
      "     UNKNOWN       0.71      0.61      0.65      8317\n",
      "\n",
      "    accuracy                           0.79     25000\n",
      "   macro avg       0.76      0.74      0.75     25000\n",
      "weighted avg       0.78      0.79      0.78     25000\n",
      "\n",
      "              precision    recall  f1-score   support\n",
      "\n",
      "       KNOWN       0.82      0.89      0.86     18270\n",
      "     UNKNOWN       0.62      0.48      0.55      6730\n",
      "\n",
      "    accuracy                           0.78     25000\n",
      "   macro avg       0.72      0.69      0.70     25000\n",
      "weighted avg       0.77      0.78      0.77     25000\n",
      "\n",
      "              precision    recall  f1-score   support\n",
      "\n",
      "       KNOWN       0.79      0.89      0.84     16881\n",
      "     UNKNOWN       0.69      0.51      0.59      8119\n",
      "\n",
      "    accuracy                           0.77     25000\n",
      "   macro avg       0.74      0.70      0.71     25000\n",
      "weighted avg       0.76      0.77      0.76     25000\n",
      "\n"
     ]
    }
   ],
   "source": [
    "for item in class_report.values():\n",
    "    print(item)"
   ]
  },
  {
   "cell_type": "markdown",
   "id": "welcome-invitation",
   "metadata": {},
   "source": [
    "#### SMOTE"
   ]
  },
  {
   "cell_type": "code",
   "execution_count": null,
   "id": "wrapped-timer",
   "metadata": {},
   "outputs": [],
   "source": [
    "tscv = TimeSeriesSplit(n_splits = 3)\n",
    "\n",
    "accuracy = {}\n",
    "class_report = {}\n",
    "count = 1\n",
    "\n",
    "for train_index, test_index in tscv.split(X_binary):\n",
    "    \n",
    "    scaler = preprocessing.MinMaxScaler()\n",
    "    X_scaled = pd.DataFrame(scaler.fit_transform(X_binary))\n",
    "\n",
    "    #X_train, X_test = X_binary.iloc[train_index], X_binary.iloc[test_index]\n",
    "    #y_train, y_test = y_binary.iloc[train_index], y_binary.iloc[test_index]\n",
    "    X_train, X_test = X_scaled.iloc[train_index], X_scaled.iloc[test_index]\n",
    "    y_train, y_test = y_binary.iloc[train_index], y_binary.iloc[test_index]\n",
    "    \n",
    "    X_train_sm, y_train_sm = smote.fit_sample(X_train,y_train)\n",
    "    \n",
    "    clf = neighbors.KNeighborsClassifier(n_neighbors = 10)\n",
    "    \n",
    "    clf = clf.fit(X_train_sm,y_train_sm)\n",
    "    \n",
    "    prediction = clf.predict(X_test)\n",
    "\n",
    "    accuracy[count] = metrics.accuracy_score(y_test, prediction)\n",
    "    class_report[count] = metrics.classification_report(y_test, prediction)\n",
    "    \n",
    "    print(count)\n",
    "    count +=1"
   ]
  },
  {
   "cell_type": "code",
   "execution_count": null,
   "id": "fatty-pastor",
   "metadata": {},
   "outputs": [],
   "source": [
    "print(accuracy)"
   ]
  },
  {
   "cell_type": "code",
   "execution_count": null,
   "id": "knowing-practice",
   "metadata": {},
   "outputs": [],
   "source": [
    "for item in class_report.values():\n",
    "    print(item)"
   ]
  },
  {
   "cell_type": "markdown",
   "id": "assured-diamond",
   "metadata": {},
   "source": [
    "## Logistic Regression"
   ]
  },
  {
   "cell_type": "markdown",
   "id": "black-rates",
   "metadata": {},
   "source": [
    "### Regular Train/Test Split"
   ]
  },
  {
   "cell_type": "markdown",
   "id": "celtic-compilation",
   "metadata": {},
   "source": [
    "#### Stratified K-fold"
   ]
  },
  {
   "cell_type": "code",
   "execution_count": 28,
   "id": "fantastic-processing",
   "metadata": {},
   "outputs": [
    {
     "name": "stderr",
     "output_type": "stream",
     "text": [
      "C:\\Users\\thoma\\Anaconda3\\lib\\site-packages\\sklearn\\utils\\validation.py:72: DataConversionWarning: A column-vector y was passed when a 1d array was expected. Please change the shape of y to (n_samples, ), for example using ravel().\n",
      "  return f(**kwargs)\n"
     ]
    },
    {
     "name": "stdout",
     "output_type": "stream",
     "text": [
      "1\n"
     ]
    },
    {
     "name": "stderr",
     "output_type": "stream",
     "text": [
      "C:\\Users\\thoma\\Anaconda3\\lib\\site-packages\\sklearn\\utils\\validation.py:72: DataConversionWarning: A column-vector y was passed when a 1d array was expected. Please change the shape of y to (n_samples, ), for example using ravel().\n",
      "  return f(**kwargs)\n"
     ]
    },
    {
     "name": "stdout",
     "output_type": "stream",
     "text": [
      "2\n"
     ]
    },
    {
     "name": "stderr",
     "output_type": "stream",
     "text": [
      "C:\\Users\\thoma\\Anaconda3\\lib\\site-packages\\sklearn\\utils\\validation.py:72: DataConversionWarning: A column-vector y was passed when a 1d array was expected. Please change the shape of y to (n_samples, ), for example using ravel().\n",
      "  return f(**kwargs)\n"
     ]
    },
    {
     "name": "stdout",
     "output_type": "stream",
     "text": [
      "3\n"
     ]
    }
   ],
   "source": [
    "kf = StratifiedKFold(n_splits = 3, random_state = 0, shuffle = True)\n",
    "\n",
    "accuracy_K = {}\n",
    "class_report_K = {}\n",
    "count = 1\n",
    "\n",
    "for train_index, test_index in kf.split(X_binary, y_binary):\n",
    "\n",
    "    #scaler = preprocessing.StandardScaler()\n",
    "    scaler = preprocessing.MinMaxScaler()\n",
    "    X_scaled = pd.DataFrame(scaler.fit_transform(X_binary))\n",
    "\n",
    "    #X_train, X_test = X_binary.iloc[train_index], X_binary.iloc[test_index]\n",
    "    #y_train, y_test = y_binary.iloc[train_index], y_binary.iloc[test_index]\n",
    "    X_train, X_test = X_scaled.iloc[train_index], X_scaled.iloc[test_index]\n",
    "    y_train, y_test = y_binary.iloc[train_index], y_binary.iloc[test_index]\n",
    "\n",
    "    clf = LogisticRegression(random_state=0,\n",
    "                             class_weight='balanced',\n",
    "                             fit_intercept=False,\n",
    "                             #max_iter=1000,\n",
    "                             solver='liblinear')\n",
    "\n",
    "    clf = clf.fit(X_train, y_train)\n",
    "\n",
    "    prediction = clf.predict(X_test)\n",
    "\n",
    "    accuracy_K[count] = metrics.accuracy_score(y_test, prediction)\n",
    "    class_report_K[count] = metrics.classification_report(y_test, prediction)\n",
    "    \n",
    "    print(count)\n",
    "    count +=1"
   ]
  },
  {
   "cell_type": "code",
   "execution_count": 29,
   "id": "soviet-ivory",
   "metadata": {},
   "outputs": [
    {
     "name": "stdout",
     "output_type": "stream",
     "text": [
      "{1: 0.7411951760964781, 2: 0.7377673776737768, 3: 0.7453274532745328}\n"
     ]
    }
   ],
   "source": [
    "print(accuracy_K)"
   ]
  },
  {
   "cell_type": "code",
   "execution_count": 30,
   "id": "major-instrument",
   "metadata": {},
   "outputs": [
    {
     "name": "stdout",
     "output_type": "stream",
     "text": [
      "              precision    recall  f1-score   support\n",
      "\n",
      "       KNOWN       0.92      0.68      0.78     22729\n",
      "     UNKNOWN       0.56      0.88      0.68     10605\n",
      "\n",
      "    accuracy                           0.74     33334\n",
      "   macro avg       0.74      0.78      0.73     33334\n",
      "weighted avg       0.81      0.74      0.75     33334\n",
      "\n",
      "              precision    recall  f1-score   support\n",
      "\n",
      "       KNOWN       0.92      0.67      0.78     22728\n",
      "     UNKNOWN       0.56      0.87      0.68     10605\n",
      "\n",
      "    accuracy                           0.74     33333\n",
      "   macro avg       0.74      0.77      0.73     33333\n",
      "weighted avg       0.80      0.74      0.75     33333\n",
      "\n",
      "              precision    recall  f1-score   support\n",
      "\n",
      "       KNOWN       0.92      0.68      0.78     22728\n",
      "     UNKNOWN       0.56      0.88      0.69     10605\n",
      "\n",
      "    accuracy                           0.75     33333\n",
      "   macro avg       0.74      0.78      0.74     33333\n",
      "weighted avg       0.81      0.75      0.75     33333\n",
      "\n"
     ]
    }
   ],
   "source": [
    "for item in class_report_K.values():\n",
    "    print(item)"
   ]
  },
  {
   "cell_type": "markdown",
   "id": "copyrighted-juvenile",
   "metadata": {},
   "source": [
    "#### SMOTE Stratified K-fold"
   ]
  },
  {
   "cell_type": "code",
   "execution_count": 265,
   "id": "transsexual-mercury",
   "metadata": {},
   "outputs": [
    {
     "name": "stderr",
     "output_type": "stream",
     "text": [
      "C:\\Users\\thoma\\Anaconda3\\lib\\site-packages\\sklearn\\utils\\validation.py:72: DataConversionWarning: A column-vector y was passed when a 1d array was expected. Please change the shape of y to (n_samples, ), for example using ravel().\n",
      "  return f(**kwargs)\n"
     ]
    },
    {
     "name": "stdout",
     "output_type": "stream",
     "text": [
      "1\n"
     ]
    },
    {
     "name": "stderr",
     "output_type": "stream",
     "text": [
      "C:\\Users\\thoma\\Anaconda3\\lib\\site-packages\\sklearn\\utils\\validation.py:72: DataConversionWarning: A column-vector y was passed when a 1d array was expected. Please change the shape of y to (n_samples, ), for example using ravel().\n",
      "  return f(**kwargs)\n"
     ]
    },
    {
     "name": "stdout",
     "output_type": "stream",
     "text": [
      "2\n"
     ]
    },
    {
     "name": "stderr",
     "output_type": "stream",
     "text": [
      "C:\\Users\\thoma\\Anaconda3\\lib\\site-packages\\sklearn\\utils\\validation.py:72: DataConversionWarning: A column-vector y was passed when a 1d array was expected. Please change the shape of y to (n_samples, ), for example using ravel().\n",
      "  return f(**kwargs)\n"
     ]
    },
    {
     "name": "stdout",
     "output_type": "stream",
     "text": [
      "3\n"
     ]
    }
   ],
   "source": [
    "kf = StratifiedKFold(n_splits = 3, random_state = 0, shuffle = True)\n",
    "\n",
    "accuracy_K = {}\n",
    "class_report_K = {}\n",
    "count = 1\n",
    "\n",
    "for train_index, test_index in kf.split(X_binary, y_binary):\n",
    "\n",
    "    #scaler = preprocessing.StandardScaler()\n",
    "    scaler = preprocessing.MinMaxScaler()\n",
    "    X_scaled = pd.DataFrame(scaler.fit_transform(X_binary))\n",
    "\n",
    "    #X_train, X_test = X_binary.iloc[train_index], X_binary.iloc[test_index]\n",
    "    #y_train, y_test = y_binary.iloc[train_index], y_binary.iloc[test_index]\n",
    "    X_train, X_test = X_scaled.iloc[train_index], X_scaled.iloc[test_index]\n",
    "    y_train, y_test = y_binary.iloc[train_index], y_binary.iloc[test_index]\n",
    "\n",
    "    X_train_sm, y_train_sm = smote.fit_sample(X_train,y_train)\n",
    "    \n",
    "    clf = LogisticRegression(random_state=0,\n",
    "                             class_weight='balanced',\n",
    "                             fit_intercept=False,\n",
    "                             #max_iter=1000,\n",
    "                             solver='liblinear')\n",
    "\n",
    "    clf = clf.fit(X_train_sm, y_train_sm)\n",
    "\n",
    "    prediction = clf.predict(X_test)\n",
    "\n",
    "    accuracy_K[count] = metrics.accuracy_score(y_test, prediction)\n",
    "    class_report_K[count] = metrics.classification_report(y_test, prediction)\n",
    "    \n",
    "    print(count)\n",
    "    count +=1"
   ]
  },
  {
   "cell_type": "code",
   "execution_count": 266,
   "id": "worse-cincinnati",
   "metadata": {},
   "outputs": [
    {
     "name": "stdout",
     "output_type": "stream",
     "text": [
      "{1: 0.7404451910961781, 2: 0.7398373983739838, 3: 0.7432874328743287}\n"
     ]
    }
   ],
   "source": [
    "print(accuracy_K)"
   ]
  },
  {
   "cell_type": "code",
   "execution_count": 267,
   "id": "large-stupid",
   "metadata": {},
   "outputs": [
    {
     "name": "stdout",
     "output_type": "stream",
     "text": [
      "              precision    recall  f1-score   support\n",
      "\n",
      "       KNOWN       0.92      0.68      0.78     22775\n",
      "     UNKNOWN       0.56      0.87      0.68     10559\n",
      "\n",
      "    accuracy                           0.74     33334\n",
      "   macro avg       0.74      0.78      0.73     33334\n",
      "weighted avg       0.80      0.74      0.75     33334\n",
      "\n",
      "              precision    recall  f1-score   support\n",
      "\n",
      "       KNOWN       0.92      0.68      0.78     22775\n",
      "     UNKNOWN       0.56      0.87      0.68     10558\n",
      "\n",
      "    accuracy                           0.74     33333\n",
      "   macro avg       0.74      0.77      0.73     33333\n",
      "weighted avg       0.80      0.74      0.75     33333\n",
      "\n",
      "              precision    recall  f1-score   support\n",
      "\n",
      "       KNOWN       0.92      0.68      0.78     22775\n",
      "     UNKNOWN       0.56      0.87      0.68     10558\n",
      "\n",
      "    accuracy                           0.74     33333\n",
      "   macro avg       0.74      0.78      0.73     33333\n",
      "weighted avg       0.81      0.74      0.75     33333\n",
      "\n"
     ]
    }
   ],
   "source": [
    "for item in class_report_K.values():\n",
    "    print(item)"
   ]
  },
  {
   "cell_type": "markdown",
   "id": "circular-palmer",
   "metadata": {},
   "source": [
    "### Time Series Split"
   ]
  },
  {
   "cell_type": "markdown",
   "id": "hungry-advisory",
   "metadata": {},
   "source": [
    "#### Basic"
   ]
  },
  {
   "cell_type": "code",
   "execution_count": 289,
   "id": "synthetic-class",
   "metadata": {},
   "outputs": [
    {
     "name": "stderr",
     "output_type": "stream",
     "text": [
      "C:\\Users\\thoma\\Anaconda3\\lib\\site-packages\\sklearn\\utils\\validation.py:72: DataConversionWarning: A column-vector y was passed when a 1d array was expected. Please change the shape of y to (n_samples, ), for example using ravel().\n",
      "  return f(**kwargs)\n"
     ]
    },
    {
     "name": "stdout",
     "output_type": "stream",
     "text": [
      "1\n"
     ]
    },
    {
     "name": "stderr",
     "output_type": "stream",
     "text": [
      "C:\\Users\\thoma\\Anaconda3\\lib\\site-packages\\sklearn\\utils\\validation.py:72: DataConversionWarning: A column-vector y was passed when a 1d array was expected. Please change the shape of y to (n_samples, ), for example using ravel().\n",
      "  return f(**kwargs)\n"
     ]
    },
    {
     "name": "stdout",
     "output_type": "stream",
     "text": [
      "2\n"
     ]
    },
    {
     "name": "stderr",
     "output_type": "stream",
     "text": [
      "C:\\Users\\thoma\\Anaconda3\\lib\\site-packages\\sklearn\\utils\\validation.py:72: DataConversionWarning: A column-vector y was passed when a 1d array was expected. Please change the shape of y to (n_samples, ), for example using ravel().\n",
      "  return f(**kwargs)\n"
     ]
    },
    {
     "name": "stdout",
     "output_type": "stream",
     "text": [
      "3\n"
     ]
    }
   ],
   "source": [
    "#TIME-SERIES SPLIT\n",
    "\n",
    "tscv = TimeSeriesSplit(n_splits = 3)\n",
    "\n",
    "accuracy = {}\n",
    "class_report = {}\n",
    "count = 1\n",
    "\n",
    "for train_index, test_index in tscv.split(X_binary):\n",
    "    \n",
    "    scaler = preprocessing.MinMaxScaler()\n",
    "    X_scaled = pd.DataFrame(scaler.fit_transform(X_binary))\n",
    "\n",
    "    #X_train, X_test = X_binary.iloc[train_index], X_binary.iloc[test_index]\n",
    "    #y_train, y_test = y_binary.iloc[train_index], y_binary.iloc[test_index]\n",
    "    X_train, X_test = X_scaled.iloc[train_index], X_scaled.iloc[test_index]\n",
    "    y_train, y_test = y_binary.iloc[train_index], y_binary.iloc[test_index]\n",
    "    \n",
    "    clf = LogisticRegression(random_state=0,\n",
    "                             class_weight='balanced',\n",
    "                             fit_intercept=False,\n",
    "                             #max_iter=1000,\n",
    "                             solver='liblinear')\n",
    "\n",
    "    clf = clf.fit(X_train, y_train)\n",
    "\n",
    "    prediction = clf.predict(X_test)\n",
    "\n",
    "    accuracy[count] = metrics.accuracy_score(y_test, prediction)\n",
    "    class_report[count] = metrics.classification_report(y_test, prediction)\n",
    "    \n",
    "    print(count)\n",
    "    count +=1"
   ]
  },
  {
   "cell_type": "code",
   "execution_count": 290,
   "id": "moved-greenhouse",
   "metadata": {},
   "outputs": [
    {
     "name": "stdout",
     "output_type": "stream",
     "text": [
      "{1: 0.74276, 2: 0.76068, 3: 0.77056}\n"
     ]
    }
   ],
   "source": [
    "print(accuracy)"
   ]
  },
  {
   "cell_type": "code",
   "execution_count": 291,
   "id": "weighted-jewelry",
   "metadata": {},
   "outputs": [
    {
     "name": "stdout",
     "output_type": "stream",
     "text": [
      "              precision    recall  f1-score   support\n",
      "\n",
      "       KNOWN       0.89      0.70      0.78     16683\n",
      "     UNKNOWN       0.58      0.83      0.68      8317\n",
      "\n",
      "    accuracy                           0.74     25000\n",
      "   macro avg       0.74      0.76      0.73     25000\n",
      "weighted avg       0.79      0.74      0.75     25000\n",
      "\n",
      "              precision    recall  f1-score   support\n",
      "\n",
      "       KNOWN       0.88      0.78      0.83     18270\n",
      "     UNKNOWN       0.54      0.71      0.61      6730\n",
      "\n",
      "    accuracy                           0.76     25000\n",
      "   macro avg       0.71      0.74      0.72     25000\n",
      "weighted avg       0.79      0.76      0.77     25000\n",
      "\n",
      "              precision    recall  f1-score   support\n",
      "\n",
      "       KNOWN       0.91      0.73      0.81     16881\n",
      "     UNKNOWN       0.60      0.85      0.71      8119\n",
      "\n",
      "    accuracy                           0.77     25000\n",
      "   macro avg       0.76      0.79      0.76     25000\n",
      "weighted avg       0.81      0.77      0.78     25000\n",
      "\n"
     ]
    }
   ],
   "source": [
    "for item in class_report.values():\n",
    "    print(item)"
   ]
  },
  {
   "cell_type": "markdown",
   "id": "lonely-surfing",
   "metadata": {},
   "source": [
    "#### SMOTE"
   ]
  },
  {
   "cell_type": "code",
   "execution_count": 298,
   "id": "through-stamp",
   "metadata": {},
   "outputs": [
    {
     "name": "stderr",
     "output_type": "stream",
     "text": [
      "C:\\Users\\thoma\\Anaconda3\\lib\\site-packages\\sklearn\\utils\\validation.py:72: DataConversionWarning: A column-vector y was passed when a 1d array was expected. Please change the shape of y to (n_samples, ), for example using ravel().\n",
      "  return f(**kwargs)\n"
     ]
    },
    {
     "name": "stdout",
     "output_type": "stream",
     "text": [
      "1\n"
     ]
    },
    {
     "name": "stderr",
     "output_type": "stream",
     "text": [
      "C:\\Users\\thoma\\Anaconda3\\lib\\site-packages\\sklearn\\utils\\validation.py:72: DataConversionWarning: A column-vector y was passed when a 1d array was expected. Please change the shape of y to (n_samples, ), for example using ravel().\n",
      "  return f(**kwargs)\n"
     ]
    },
    {
     "name": "stdout",
     "output_type": "stream",
     "text": [
      "2\n"
     ]
    },
    {
     "name": "stderr",
     "output_type": "stream",
     "text": [
      "C:\\Users\\thoma\\Anaconda3\\lib\\site-packages\\sklearn\\utils\\validation.py:72: DataConversionWarning: A column-vector y was passed when a 1d array was expected. Please change the shape of y to (n_samples, ), for example using ravel().\n",
      "  return f(**kwargs)\n"
     ]
    },
    {
     "name": "stdout",
     "output_type": "stream",
     "text": [
      "3\n"
     ]
    }
   ],
   "source": [
    "#TIME-SERIES SPLIT\n",
    "\n",
    "tscv = TimeSeriesSplit(n_splits = 3)\n",
    "\n",
    "accuracy = {}\n",
    "class_report = {}\n",
    "count = 1\n",
    "\n",
    "for train_index, test_index in tscv.split(X_binary):\n",
    "    \n",
    "    scaler = preprocessing.MinMaxScaler()\n",
    "    X_scaled = pd.DataFrame(scaler.fit_transform(X_binary))\n",
    "\n",
    "    #X_train, X_test = X_binary.iloc[train_index], X_binary.iloc[test_index]\n",
    "    #y_train, y_test = y_binary.iloc[train_index], y_binary.iloc[test_index]\n",
    "    X_train, X_test = X_scaled.iloc[train_index], X_scaled.iloc[test_index]\n",
    "    y_train, y_test = y_binary.iloc[train_index], y_binary.iloc[test_index]\n",
    "    \n",
    "    X_train_sm, y_train_sm = smote.fit_sample(X_train,y_train)\n",
    "    \n",
    "    clf = LogisticRegression(random_state=0,\n",
    "                             class_weight='balanced',\n",
    "                             fit_intercept=False,\n",
    "                             #max_iter=1000,\n",
    "                             solver='liblinear')\n",
    "\n",
    "    clf = clf.fit(X_train_sm, y_train_sm)\n",
    "\n",
    "    prediction = clf.predict(X_test)\n",
    "\n",
    "    accuracy[count] = metrics.accuracy_score(y_test, prediction)\n",
    "    class_report[count] = metrics.classification_report(y_test, prediction)\n",
    "    \n",
    "    print(count)\n",
    "    count +=1"
   ]
  },
  {
   "cell_type": "code",
   "execution_count": 299,
   "id": "ahead-parcel",
   "metadata": {},
   "outputs": [
    {
     "name": "stdout",
     "output_type": "stream",
     "text": [
      "{1: 0.74192, 2: 0.76148, 3: 0.76888}\n"
     ]
    }
   ],
   "source": [
    "print(accuracy)"
   ]
  },
  {
   "cell_type": "code",
   "execution_count": 300,
   "id": "removed-institute",
   "metadata": {},
   "outputs": [
    {
     "name": "stdout",
     "output_type": "stream",
     "text": [
      "              precision    recall  f1-score   support\n",
      "\n",
      "       KNOWN       0.90      0.69      0.78     16683\n",
      "     UNKNOWN       0.58      0.84      0.68      8317\n",
      "\n",
      "    accuracy                           0.74     25000\n",
      "   macro avg       0.74      0.77      0.73     25000\n",
      "weighted avg       0.79      0.74      0.75     25000\n",
      "\n",
      "              precision    recall  f1-score   support\n",
      "\n",
      "       KNOWN       0.88      0.78      0.83     18270\n",
      "     UNKNOWN       0.54      0.71      0.62      6730\n",
      "\n",
      "    accuracy                           0.76     25000\n",
      "   macro avg       0.71      0.74      0.72     25000\n",
      "weighted avg       0.79      0.76      0.77     25000\n",
      "\n",
      "              precision    recall  f1-score   support\n",
      "\n",
      "       KNOWN       0.92      0.72      0.81     16881\n",
      "     UNKNOWN       0.60      0.86      0.71      8119\n",
      "\n",
      "    accuracy                           0.77     25000\n",
      "   macro avg       0.76      0.79      0.76     25000\n",
      "weighted avg       0.81      0.77      0.78     25000\n",
      "\n"
     ]
    }
   ],
   "source": [
    "for item in class_report.values():\n",
    "    print(item)"
   ]
  },
  {
   "cell_type": "markdown",
   "id": "amber-threat",
   "metadata": {},
   "source": [
    "## SVM"
   ]
  },
  {
   "cell_type": "markdown",
   "id": "guilty-opinion",
   "metadata": {},
   "source": [
    "### Regular Train/Test Split"
   ]
  },
  {
   "cell_type": "markdown",
   "id": "attempted-suffering",
   "metadata": {},
   "source": [
    "#### Stratified K-fold"
   ]
  },
  {
   "cell_type": "code",
   "execution_count": 34,
   "id": "essential-spokesman",
   "metadata": {},
   "outputs": [
    {
     "name": "stderr",
     "output_type": "stream",
     "text": [
      "C:\\Users\\thoma\\Anaconda3\\lib\\site-packages\\sklearn\\utils\\validation.py:72: DataConversionWarning: A column-vector y was passed when a 1d array was expected. Please change the shape of y to (n_samples, ), for example using ravel().\n",
      "  return f(**kwargs)\n"
     ]
    },
    {
     "name": "stdout",
     "output_type": "stream",
     "text": [
      "1\n"
     ]
    },
    {
     "name": "stderr",
     "output_type": "stream",
     "text": [
      "C:\\Users\\thoma\\Anaconda3\\lib\\site-packages\\sklearn\\utils\\validation.py:72: DataConversionWarning: A column-vector y was passed when a 1d array was expected. Please change the shape of y to (n_samples, ), for example using ravel().\n",
      "  return f(**kwargs)\n"
     ]
    },
    {
     "name": "stdout",
     "output_type": "stream",
     "text": [
      "2\n"
     ]
    },
    {
     "name": "stderr",
     "output_type": "stream",
     "text": [
      "C:\\Users\\thoma\\Anaconda3\\lib\\site-packages\\sklearn\\utils\\validation.py:72: DataConversionWarning: A column-vector y was passed when a 1d array was expected. Please change the shape of y to (n_samples, ), for example using ravel().\n",
      "  return f(**kwargs)\n"
     ]
    },
    {
     "name": "stdout",
     "output_type": "stream",
     "text": [
      "3\n"
     ]
    }
   ],
   "source": [
    "kf = StratifiedKFold(n_splits = 3, random_state = 0, shuffle = True)\n",
    "\n",
    "accuracy_K = {}\n",
    "class_report_K = {}\n",
    "count = 1\n",
    "\n",
    "for train_index, test_index in kf.split(X_binary, y_binary):\n",
    "    \n",
    "    #scaler = preprocessing.StandardScaler()\n",
    "    scaler = preprocessing.MinMaxScaler()\n",
    "    X_scaled = pd.DataFrame(scaler.fit_transform(X_binary))\n",
    "\n",
    "    X_train, X_test = X_scaled.iloc[train_index], X_scaled.iloc[test_index]\n",
    "    y_train, y_test = y_binary.iloc[train_index], y_binary.iloc[test_index]\n",
    "    \n",
    "    clf = svm.SVC(random_state=0,\n",
    "                  class_weight='balanced')\n",
    "    \n",
    "    clf = clf.fit(X_train,y_train)\n",
    "\n",
    "    prediction = clf.predict(X_test)\n",
    "    \n",
    "    accuracy_K[count] = metrics.accuracy_score(y_test, prediction)\n",
    "    class_report_K[count] = metrics.classification_report(y_test, prediction)\n",
    "    \n",
    "    print(count)\n",
    "    count +=1"
   ]
  },
  {
   "cell_type": "code",
   "execution_count": 35,
   "id": "usual-nicholas",
   "metadata": {},
   "outputs": [
    {
     "name": "stdout",
     "output_type": "stream",
     "text": [
      "{1: 0.7343853122937541, 2: 0.7319473194731947, 3: 0.7403174031740317}\n"
     ]
    }
   ],
   "source": [
    "print(accuracy_K)"
   ]
  },
  {
   "cell_type": "code",
   "execution_count": 36,
   "id": "disciplinary-pixel",
   "metadata": {},
   "outputs": [
    {
     "name": "stdout",
     "output_type": "stream",
     "text": [
      "              precision    recall  f1-score   support\n",
      "\n",
      "       KNOWN       0.92      0.67      0.77     22729\n",
      "     UNKNOWN       0.55      0.88      0.68     10605\n",
      "\n",
      "    accuracy                           0.73     33334\n",
      "   macro avg       0.74      0.77      0.73     33334\n",
      "weighted avg       0.80      0.73      0.74     33334\n",
      "\n",
      "              precision    recall  f1-score   support\n",
      "\n",
      "       KNOWN       0.92      0.67      0.77     22728\n",
      "     UNKNOWN       0.55      0.88      0.68     10605\n",
      "\n",
      "    accuracy                           0.73     33333\n",
      "   macro avg       0.73      0.77      0.72     33333\n",
      "weighted avg       0.80      0.73      0.74     33333\n",
      "\n",
      "              precision    recall  f1-score   support\n",
      "\n",
      "       KNOWN       0.93      0.67      0.78     22728\n",
      "     UNKNOWN       0.56      0.89      0.68     10605\n",
      "\n",
      "    accuracy                           0.74     33333\n",
      "   macro avg       0.74      0.78      0.73     33333\n",
      "weighted avg       0.81      0.74      0.75     33333\n",
      "\n"
     ]
    }
   ],
   "source": [
    "for item in class_report_K.values():\n",
    "    print(item)"
   ]
  },
  {
   "cell_type": "markdown",
   "id": "numeric-hours",
   "metadata": {},
   "source": [
    "#### SMOTE Stratified K-fold"
   ]
  },
  {
   "cell_type": "code",
   "execution_count": null,
   "id": "colonial-center",
   "metadata": {},
   "outputs": [],
   "source": [
    "kf = StratifiedKFold(n_splits = 3, random_state = 0, shuffle = True)\n",
    "\n",
    "accuracy_K = {}\n",
    "class_report_K = {}\n",
    "count = 1\n",
    "\n",
    "for train_index, test_index in kf.split(X_binary, y_binary):\n",
    "    \n",
    "    #scaler = preprocessing.StandardScaler()\n",
    "    scaler = preprocessing.MinMaxScaler()\n",
    "    X_scaled = pd.DataFrame(scaler.fit_transform(X_binary))\n",
    "\n",
    "    X_train, X_test = X_scaled.iloc[train_index], X_scaled.iloc[test_index]\n",
    "    y_train, y_test = y_binary.iloc[train_index], y_binary.iloc[test_index]\n",
    "    \n",
    "    X_train_sm, y_train_sm = smote.fit_sample(X_train,y_train)\n",
    "    \n",
    "    clf = svm.SVC(random_state=0,\n",
    "                  class_weight='balanced')\n",
    "    \n",
    "    clf = clf.fit(X_train_sm,y_train_sm)\n",
    "\n",
    "    prediction = clf.predict(X_test)\n",
    "    \n",
    "    accuracy_K[count] = metrics.accuracy_score(y_test, prediction)\n",
    "    class_report_K[count] = metrics.classification_report(y_test, prediction)\n",
    "    \n",
    "    print(count)\n",
    "    count +=1"
   ]
  },
  {
   "cell_type": "code",
   "execution_count": null,
   "id": "veterinary-complement",
   "metadata": {},
   "outputs": [],
   "source": [
    "print(accuracy_K)"
   ]
  },
  {
   "cell_type": "code",
   "execution_count": null,
   "id": "familiar-engineer",
   "metadata": {},
   "outputs": [],
   "source": [
    "for item in class_report_K.values():\n",
    "    print(item)"
   ]
  },
  {
   "cell_type": "markdown",
   "id": "sapphire-surgery",
   "metadata": {},
   "source": [
    "### Time Series Split"
   ]
  },
  {
   "cell_type": "markdown",
   "id": "discrete-tribune",
   "metadata": {},
   "source": [
    "#### Basic"
   ]
  },
  {
   "cell_type": "code",
   "execution_count": 37,
   "id": "cardiovascular-salon",
   "metadata": {},
   "outputs": [
    {
     "name": "stderr",
     "output_type": "stream",
     "text": [
      "C:\\Users\\thoma\\Anaconda3\\lib\\site-packages\\sklearn\\utils\\validation.py:72: DataConversionWarning: A column-vector y was passed when a 1d array was expected. Please change the shape of y to (n_samples, ), for example using ravel().\n",
      "  return f(**kwargs)\n"
     ]
    },
    {
     "name": "stdout",
     "output_type": "stream",
     "text": [
      "1\n"
     ]
    },
    {
     "name": "stderr",
     "output_type": "stream",
     "text": [
      "C:\\Users\\thoma\\Anaconda3\\lib\\site-packages\\sklearn\\utils\\validation.py:72: DataConversionWarning: A column-vector y was passed when a 1d array was expected. Please change the shape of y to (n_samples, ), for example using ravel().\n",
      "  return f(**kwargs)\n"
     ]
    },
    {
     "name": "stdout",
     "output_type": "stream",
     "text": [
      "2\n"
     ]
    },
    {
     "name": "stderr",
     "output_type": "stream",
     "text": [
      "C:\\Users\\thoma\\Anaconda3\\lib\\site-packages\\sklearn\\utils\\validation.py:72: DataConversionWarning: A column-vector y was passed when a 1d array was expected. Please change the shape of y to (n_samples, ), for example using ravel().\n",
      "  return f(**kwargs)\n"
     ]
    },
    {
     "name": "stdout",
     "output_type": "stream",
     "text": [
      "3\n"
     ]
    }
   ],
   "source": [
    "tscv = TimeSeriesSplit(n_splits = 3)\n",
    "\n",
    "accuracy = {}\n",
    "class_report = {}\n",
    "count = 1\n",
    "\n",
    "for train_index, test_index in tscv.split(X_binary):\n",
    "    \n",
    "    #scaler = preprocessing.StandardScaler()\n",
    "    scaler = preprocessing.MinMaxScaler()\n",
    "    X_scaled = pd.DataFrame(scaler.fit_transform(X_binary))\n",
    "\n",
    "    #X_train, X_test = X_binary.iloc[train_index], X_binary.iloc[test_index]\n",
    "    #y_train, y_test = y_binary.iloc[train_index], y_binary.iloc[test_index]\n",
    "    X_train, X_test = X_scaled.iloc[train_index], X_scaled.iloc[test_index]\n",
    "    y_train, y_test = y_binary.iloc[train_index], y_binary.iloc[test_index]\n",
    "    \n",
    "    clf = svm.SVC(random_state=0,\n",
    "                  class_weight='balanced')\n",
    "\n",
    "    clf = clf.fit(X_train, y_train)\n",
    "\n",
    "    prediction = clf.predict(X_test)\n",
    "\n",
    "    accuracy[count] = metrics.accuracy_score(y_test, prediction)\n",
    "    class_report[count] = metrics.classification_report(y_test, prediction)\n",
    "    \n",
    "    print(count)\n",
    "    count +=1"
   ]
  },
  {
   "cell_type": "code",
   "execution_count": 38,
   "id": "pressed-prerequisite",
   "metadata": {},
   "outputs": [
    {
     "name": "stdout",
     "output_type": "stream",
     "text": [
      "{1: 0.769, 2: 0.77168, 3: 0.79004}\n"
     ]
    }
   ],
   "source": [
    "print(accuracy)"
   ]
  },
  {
   "cell_type": "code",
   "execution_count": 39,
   "id": "sunrise-connectivity",
   "metadata": {},
   "outputs": [
    {
     "name": "stdout",
     "output_type": "stream",
     "text": [
      "              precision    recall  f1-score   support\n",
      "\n",
      "       KNOWN       0.87      0.76      0.82     16686\n",
      "     UNKNOWN       0.62      0.78      0.69      8314\n",
      "\n",
      "    accuracy                           0.77     25000\n",
      "   macro avg       0.75      0.77      0.75     25000\n",
      "weighted avg       0.79      0.77      0.77     25000\n",
      "\n",
      "              precision    recall  f1-score   support\n",
      "\n",
      "       KNOWN       0.91      0.76      0.83     18079\n",
      "     UNKNOWN       0.56      0.80      0.66      6921\n",
      "\n",
      "    accuracy                           0.77     25000\n",
      "   macro avg       0.73      0.78      0.74     25000\n",
      "weighted avg       0.81      0.77      0.78     25000\n",
      "\n",
      "              precision    recall  f1-score   support\n",
      "\n",
      "       KNOWN       0.93      0.75      0.83     17027\n",
      "     UNKNOWN       0.62      0.87      0.73      7973\n",
      "\n",
      "    accuracy                           0.79     25000\n",
      "   macro avg       0.77      0.81      0.78     25000\n",
      "weighted avg       0.83      0.79      0.80     25000\n",
      "\n"
     ]
    }
   ],
   "source": [
    "for item in class_report.values():\n",
    "    print(item)"
   ]
  },
  {
   "cell_type": "markdown",
   "id": "difficult-irish",
   "metadata": {},
   "source": [
    "#### SMOTE"
   ]
  },
  {
   "cell_type": "code",
   "execution_count": null,
   "id": "strong-broad",
   "metadata": {},
   "outputs": [],
   "source": [
    "tscv = TimeSeriesSplit(n_splits = 3)\n",
    "\n",
    "accuracy = {}\n",
    "class_report = {}\n",
    "count = 1\n",
    "\n",
    "for train_index, test_index in tscv.split(X_binary):\n",
    "    \n",
    "    #scaler = preprocessing.StandardScaler()\n",
    "    scaler = preprocessing.MinMaxScaler()\n",
    "    X_scaled = pd.DataFrame(scaler.fit_transform(X_binary))\n",
    "\n",
    "    #X_train, X_test = X_binary.iloc[train_index], X_binary.iloc[test_index]\n",
    "    #y_train, y_test = y_binary.iloc[train_index], y_binary.iloc[test_index]\n",
    "    X_train, X_test = X_scaled.iloc[train_index], X_scaled.iloc[test_index]\n",
    "    y_train, y_test = y_binary.iloc[train_index], y_binary.iloc[test_index]\n",
    "    \n",
    "    X_train_sm, y_train_sm = smote.fit_sample(X_train,y_train)\n",
    "    \n",
    "    clf = svm.SVC(kernel='linear',\n",
    "                  random_state=0,\n",
    "                  class_weight='balanced')\n",
    "\n",
    "    clf = clf.fit(X_train_sm, y_train_sm)\n",
    "\n",
    "    prediction = clf.predict(X_test)\n",
    "\n",
    "    accuracy[count] = metrics.accuracy_score(y_test, prediction)\n",
    "    class_report[count] = metrics.classification_report(y_test, prediction)\n",
    "    \n",
    "    print(count)\n",
    "    count +=1"
   ]
  },
  {
   "cell_type": "code",
   "execution_count": null,
   "id": "joined-latitude",
   "metadata": {},
   "outputs": [],
   "source": [
    "print(accuracy)"
   ]
  },
  {
   "cell_type": "code",
   "execution_count": null,
   "id": "boring-apartment",
   "metadata": {},
   "outputs": [],
   "source": [
    "for item in class_report.values():\n",
    "    print(item)"
   ]
  },
  {
   "cell_type": "markdown",
   "id": "beginning-south",
   "metadata": {},
   "source": [
    "## Decision Tree"
   ]
  },
  {
   "cell_type": "markdown",
   "id": "enormous-library",
   "metadata": {},
   "source": [
    "### Regular Train/Test Split"
   ]
  },
  {
   "cell_type": "markdown",
   "id": "smooth-worker",
   "metadata": {},
   "source": [
    "#### Stratified K-fold"
   ]
  },
  {
   "cell_type": "code",
   "execution_count": 184,
   "id": "general-share",
   "metadata": {},
   "outputs": [
    {
     "name": "stdout",
     "output_type": "stream",
     "text": [
      "1\n",
      "2\n",
      "3\n"
     ]
    }
   ],
   "source": [
    "kf = StratifiedKFold(n_splits = 3, random_state = 0, shuffle = True)\n",
    "\n",
    "accuracy_K = {}\n",
    "class_report_K = {}\n",
    "count = 1\n",
    "\n",
    "for train_index, test_index in kf.split(X_binary, y_binary):\n",
    "\n",
    "    X_train, X_test = X_binary.iloc[train_index], X_binary.iloc[test_index]\n",
    "    y_train, y_test = y_binary.iloc[train_index], y_binary.iloc[test_index]\n",
    "    \n",
    "    clf = DecisionTreeClassifier(random_state=0,\n",
    "                                 class_weight='balanced')\n",
    "    \n",
    "    clf = clf.fit(X_train,y_train)\n",
    "\n",
    "    prediction = clf.predict(X_test)\n",
    "    \n",
    "    accuracy_K[count] = metrics.accuracy_score(y_test, prediction)\n",
    "    class_report_K[count] = metrics.classification_report(y_test, prediction)\n",
    "    \n",
    "    print(count)\n",
    "    count +=1"
   ]
  },
  {
   "cell_type": "code",
   "execution_count": 186,
   "id": "great-japanese",
   "metadata": {},
   "outputs": [
    {
     "name": "stdout",
     "output_type": "stream",
     "text": [
      "{1: 0.8220135597288054, 2: 0.8199381993819939, 3: 0.8185281852818528}\n"
     ]
    }
   ],
   "source": [
    "print(accuracy_K)"
   ]
  },
  {
   "cell_type": "code",
   "execution_count": 185,
   "id": "functional-healthcare",
   "metadata": {},
   "outputs": [
    {
     "name": "stdout",
     "output_type": "stream",
     "text": [
      "              precision    recall  f1-score   support\n",
      "\n",
      "       KNOWN       0.87      0.87      0.87     22677\n",
      "     UNKNOWN       0.72      0.72      0.72     10657\n",
      "\n",
      "    accuracy                           0.82     33334\n",
      "   macro avg       0.80      0.79      0.79     33334\n",
      "weighted avg       0.82      0.82      0.82     33334\n",
      "\n",
      "              precision    recall  f1-score   support\n",
      "\n",
      "       KNOWN       0.87      0.86      0.87     22676\n",
      "     UNKNOWN       0.71      0.73      0.72     10657\n",
      "\n",
      "    accuracy                           0.82     33333\n",
      "   macro avg       0.79      0.80      0.79     33333\n",
      "weighted avg       0.82      0.82      0.82     33333\n",
      "\n",
      "              precision    recall  f1-score   support\n",
      "\n",
      "       KNOWN       0.87      0.86      0.87     22676\n",
      "     UNKNOWN       0.71      0.73      0.72     10657\n",
      "\n",
      "    accuracy                           0.82     33333\n",
      "   macro avg       0.79      0.79      0.79     33333\n",
      "weighted avg       0.82      0.82      0.82     33333\n",
      "\n"
     ]
    }
   ],
   "source": [
    "for item in class_report_K.values():\n",
    "    print(item)"
   ]
  },
  {
   "cell_type": "code",
   "execution_count": 172,
   "id": "insured-result",
   "metadata": {},
   "outputs": [
    {
     "data": {
      "image/png": "[encoded data removed]",
      "text/plain": [
       "<Figure size 288x288 with 1 Axes>"
      ]
     },
     "metadata": {
      "needs_background": "light"
     },
     "output_type": "display_data"
    }
   ],
   "source": [
    "plt.rcParams.update({'font.size': 6})\n",
    "importanceDF = pd.DataFrame(clf.feature_importances_,index=X_col,columns=['importance']).sort_values('importance',ascending=False)\n",
    "importanceDF.plot.bar(figsize=(4,4))\n",
    "plt.show()"
   ]
  },
  {
   "cell_type": "markdown",
   "id": "known-korean",
   "metadata": {},
   "source": [
    "#### SMOTE Stratified K-fold"
   ]
  },
  {
   "cell_type": "code",
   "execution_count": 187,
   "id": "lyric-manchester",
   "metadata": {},
   "outputs": [
    {
     "name": "stdout",
     "output_type": "stream",
     "text": [
      "1\n",
      "2\n",
      "3\n"
     ]
    }
   ],
   "source": [
    "kf = StratifiedKFold(n_splits = 3, random_state = 0, shuffle = True)\n",
    "\n",
    "accuracy_K = {}\n",
    "class_report_K = {}\n",
    "count = 1\n",
    "\n",
    "for train_index, test_index in kf.split(X_binary, y_binary):\n",
    "\n",
    "    X_train, X_test = X_binary.iloc[train_index], X_binary.iloc[test_index]\n",
    "    y_train, y_test = y_binary.iloc[train_index], y_binary.iloc[test_index]\n",
    "    \n",
    "    X_train_sm, y_train_sm = smote.fit_sample(X_train,y_train)\n",
    "    \n",
    "    clf = DecisionTreeClassifier(random_state=0,\n",
    "                                 class_weight='balanced')\n",
    "    \n",
    "    clf = clf.fit(X_train_sm,y_train_sm)\n",
    "\n",
    "    prediction = clf.predict(X_test)\n",
    "    \n",
    "    accuracy_K[count] = metrics.accuracy_score(y_test, prediction)\n",
    "    class_report_K[count] = metrics.classification_report(y_test, prediction)\n",
    "    \n",
    "    print(count)\n",
    "    count +=1"
   ]
  },
  {
   "cell_type": "code",
   "execution_count": 188,
   "id": "opposed-marker",
   "metadata": {},
   "outputs": [
    {
     "name": "stdout",
     "output_type": "stream",
     "text": [
      "{1: 0.8215335693286134, 2: 0.8167281672816729, 3: 0.8174181741817418}\n"
     ]
    }
   ],
   "source": [
    "print(accuracy_K)"
   ]
  },
  {
   "cell_type": "code",
   "execution_count": 189,
   "id": "equivalent-syndicate",
   "metadata": {},
   "outputs": [
    {
     "name": "stdout",
     "output_type": "stream",
     "text": [
      "              precision    recall  f1-score   support\n",
      "\n",
      "       KNOWN       0.88      0.86      0.87     22677\n",
      "     UNKNOWN       0.71      0.74      0.73     10657\n",
      "\n",
      "    accuracy                           0.82     33334\n",
      "   macro avg       0.79      0.80      0.80     33334\n",
      "weighted avg       0.82      0.82      0.82     33334\n",
      "\n",
      "              precision    recall  f1-score   support\n",
      "\n",
      "       KNOWN       0.87      0.86      0.86     22676\n",
      "     UNKNOWN       0.71      0.73      0.72     10657\n",
      "\n",
      "    accuracy                           0.82     33333\n",
      "   macro avg       0.79      0.79      0.79     33333\n",
      "weighted avg       0.82      0.82      0.82     33333\n",
      "\n",
      "              precision    recall  f1-score   support\n",
      "\n",
      "       KNOWN       0.87      0.86      0.86     22676\n",
      "     UNKNOWN       0.71      0.74      0.72     10657\n",
      "\n",
      "    accuracy                           0.82     33333\n",
      "   macro avg       0.79      0.80      0.79     33333\n",
      "weighted avg       0.82      0.82      0.82     33333\n",
      "\n"
     ]
    }
   ],
   "source": [
    "for item in class_report_K.values():\n",
    "    print(item)"
   ]
  },
  {
   "cell_type": "markdown",
   "id": "other-citizen",
   "metadata": {},
   "source": [
    "### Time Series Split"
   ]
  },
  {
   "cell_type": "markdown",
   "id": "floating-appeal",
   "metadata": {},
   "source": [
    "#### Basic"
   ]
  },
  {
   "cell_type": "code",
   "execution_count": 190,
   "id": "dried-institution",
   "metadata": {},
   "outputs": [
    {
     "name": "stdout",
     "output_type": "stream",
     "text": [
      "1\n",
      "2\n",
      "3\n"
     ]
    }
   ],
   "source": [
    "#TIME-SERIES SPLIT\n",
    "\n",
    "tscv = TimeSeriesSplit(n_splits = 3)\n",
    "\n",
    "accuracy = {}\n",
    "class_report = {}\n",
    "count = 1\n",
    "\n",
    "for train_index, test_index in tscv.split(X_binary):\n",
    "\n",
    "    X_train, X_test = X_binary.iloc[train_index], X_binary.iloc[test_index]\n",
    "    y_train, y_test = y_binary.iloc[train_index], y_binary.iloc[test_index]\n",
    "    \n",
    "    clf = DecisionTreeClassifier(random_state=0,\n",
    "                                 class_weight='balanced')\n",
    "    \n",
    "    clf = clf.fit(X_train,y_train)\n",
    "\n",
    "    prediction = clf.predict(X_test)\n",
    "    \n",
    "    accuracy[count] = metrics.accuracy_score(y_test, prediction)\n",
    "    class_report[count] = metrics.classification_report(y_test, prediction)\n",
    "    \n",
    "    print(count)\n",
    "    count += 1"
   ]
  },
  {
   "cell_type": "code",
   "execution_count": 191,
   "id": "opening-attitude",
   "metadata": {},
   "outputs": [
    {
     "name": "stdout",
     "output_type": "stream",
     "text": [
      "{1: 0.72532, 2: 0.71684, 3: 0.73688}\n"
     ]
    }
   ],
   "source": [
    "print(accuracy)"
   ]
  },
  {
   "cell_type": "code",
   "execution_count": 192,
   "id": "round-tuner",
   "metadata": {},
   "outputs": [
    {
     "name": "stdout",
     "output_type": "stream",
     "text": [
      "              precision    recall  f1-score   support\n",
      "\n",
      "       KNOWN       0.81      0.77      0.79     16663\n",
      "     UNKNOWN       0.58      0.63      0.61      8337\n",
      "\n",
      "    accuracy                           0.73     25000\n",
      "   macro avg       0.69      0.70      0.70     25000\n",
      "weighted avg       0.73      0.73      0.73     25000\n",
      "\n",
      "              precision    recall  f1-score   support\n",
      "\n",
      "       KNOWN       0.83      0.77      0.80     18105\n",
      "     UNKNOWN       0.49      0.58      0.53      6895\n",
      "\n",
      "    accuracy                           0.72     25000\n",
      "   macro avg       0.66      0.68      0.66     25000\n",
      "weighted avg       0.74      0.72      0.72     25000\n",
      "\n",
      "              precision    recall  f1-score   support\n",
      "\n",
      "       KNOWN       0.80      0.81      0.81     16999\n",
      "     UNKNOWN       0.59      0.58      0.59      8001\n",
      "\n",
      "    accuracy                           0.74     25000\n",
      "   macro avg       0.70      0.70      0.70     25000\n",
      "weighted avg       0.74      0.74      0.74     25000\n",
      "\n"
     ]
    }
   ],
   "source": [
    "for item in class_report.values():\n",
    "    print(item)"
   ]
  },
  {
   "cell_type": "code",
   "execution_count": 175,
   "id": "generous-classics",
   "metadata": {},
   "outputs": [
    {
     "data": {
      "image/png": "[encoded data removed]",
      "text/plain": [
       "<Figure size 288x288 with 1 Axes>"
      ]
     },
     "metadata": {
      "needs_background": "light"
     },
     "output_type": "display_data"
    }
   ],
   "source": [
    "plt.rcParams.update({'font.size': 6})\n",
    "importanceDF = pd.DataFrame(clf.feature_importances_,index=X_col,columns=['importance']).sort_values('importance',ascending=False)\n",
    "importanceDF.plot.bar(figsize=(4,4))\n",
    "plt.show()"
   ]
  },
  {
   "cell_type": "markdown",
   "id": "operating-program",
   "metadata": {},
   "source": [
    "#### SMOTE"
   ]
  },
  {
   "cell_type": "code",
   "execution_count": 193,
   "id": "continent-characterization",
   "metadata": {},
   "outputs": [
    {
     "name": "stdout",
     "output_type": "stream",
     "text": [
      "1\n",
      "2\n",
      "3\n"
     ]
    }
   ],
   "source": [
    "tscv = TimeSeriesSplit(n_splits = 3)\n",
    "\n",
    "accuracy = {}\n",
    "class_report = {}\n",
    "count = 1\n",
    "\n",
    "for train_index, test_index in tscv.split(X_binary):\n",
    "\n",
    "    X_train, X_test = X_binary.iloc[train_index], X_binary.iloc[test_index]\n",
    "    y_train, y_test = y_binary.iloc[train_index], y_binary.iloc[test_index]\n",
    "    \n",
    "    X_train_sm, y_train_sm = smote.fit_sample(X_train,y_train)\n",
    "    \n",
    "    clf = DecisionTreeClassifier(random_state=0,\n",
    "                                 class_weight='balanced')\n",
    "    \n",
    "    clf = clf.fit(X_train_sm,y_train_sm)\n",
    "\n",
    "    prediction = clf.predict(X_test)\n",
    "    #prediction = clf.predict(X_train)\n",
    "    \n",
    "    accuracy[count] = metrics.accuracy_score(y_test, prediction)\n",
    "    class_report[count] = metrics.classification_report(y_test, prediction)\n",
    "    #accuracy[count] = metrics.accuracy_score(y_train, prediction)\n",
    "    #class_report[count] = metrics.classification_report(y_train, prediction)\n",
    "    \n",
    "    print(count)\n",
    "    count += 1"
   ]
  },
  {
   "cell_type": "code",
   "execution_count": 194,
   "id": "modified-arbor",
   "metadata": {},
   "outputs": [
    {
     "name": "stdout",
     "output_type": "stream",
     "text": [
      "{1: 0.72532, 2: 0.71684, 3: 0.73688}\n"
     ]
    }
   ],
   "source": [
    "print(accuracy)"
   ]
  },
  {
   "cell_type": "code",
   "execution_count": 195,
   "id": "blank-documentary",
   "metadata": {},
   "outputs": [
    {
     "name": "stdout",
     "output_type": "stream",
     "text": [
      "              precision    recall  f1-score   support\n",
      "\n",
      "       KNOWN       0.81      0.77      0.79     16663\n",
      "     UNKNOWN       0.58      0.63      0.61      8337\n",
      "\n",
      "    accuracy                           0.73     25000\n",
      "   macro avg       0.69      0.70      0.70     25000\n",
      "weighted avg       0.73      0.73      0.73     25000\n",
      "\n",
      "              precision    recall  f1-score   support\n",
      "\n",
      "       KNOWN       0.83      0.77      0.80     18105\n",
      "     UNKNOWN       0.49      0.58      0.53      6895\n",
      "\n",
      "    accuracy                           0.72     25000\n",
      "   macro avg       0.66      0.68      0.66     25000\n",
      "weighted avg       0.74      0.72      0.72     25000\n",
      "\n",
      "              precision    recall  f1-score   support\n",
      "\n",
      "       KNOWN       0.80      0.81      0.81     16999\n",
      "     UNKNOWN       0.59      0.58      0.59      8001\n",
      "\n",
      "    accuracy                           0.74     25000\n",
      "   macro avg       0.70      0.70      0.70     25000\n",
      "weighted avg       0.74      0.74      0.74     25000\n",
      "\n"
     ]
    }
   ],
   "source": [
    "for item in class_report.values():\n",
    "    print(item)"
   ]
  },
  {
   "cell_type": "markdown",
   "id": "raising-implement",
   "metadata": {},
   "source": [
    "## AdaBoost"
   ]
  },
  {
   "cell_type": "markdown",
   "id": "raising-chess",
   "metadata": {},
   "source": [
    "### Regular Train/Test Split"
   ]
  },
  {
   "cell_type": "markdown",
   "id": "thorough-defeat",
   "metadata": {},
   "source": [
    "#### Stratified K-fold"
   ]
  },
  {
   "cell_type": "code",
   "execution_count": 77,
   "id": "growing-switch",
   "metadata": {},
   "outputs": [
    {
     "name": "stderr",
     "output_type": "stream",
     "text": [
      "C:\\Users\\thoma\\Anaconda3\\lib\\site-packages\\sklearn\\utils\\validation.py:72: DataConversionWarning: A column-vector y was passed when a 1d array was expected. Please change the shape of y to (n_samples, ), for example using ravel().\n",
      "  return f(**kwargs)\n"
     ]
    },
    {
     "name": "stdout",
     "output_type": "stream",
     "text": [
      "1\n"
     ]
    },
    {
     "name": "stderr",
     "output_type": "stream",
     "text": [
      "C:\\Users\\thoma\\Anaconda3\\lib\\site-packages\\sklearn\\utils\\validation.py:72: DataConversionWarning: A column-vector y was passed when a 1d array was expected. Please change the shape of y to (n_samples, ), for example using ravel().\n",
      "  return f(**kwargs)\n"
     ]
    },
    {
     "name": "stdout",
     "output_type": "stream",
     "text": [
      "2\n"
     ]
    },
    {
     "name": "stderr",
     "output_type": "stream",
     "text": [
      "C:\\Users\\thoma\\Anaconda3\\lib\\site-packages\\sklearn\\utils\\validation.py:72: DataConversionWarning: A column-vector y was passed when a 1d array was expected. Please change the shape of y to (n_samples, ), for example using ravel().\n",
      "  return f(**kwargs)\n"
     ]
    },
    {
     "name": "stdout",
     "output_type": "stream",
     "text": [
      "3\n"
     ]
    }
   ],
   "source": [
    "kf = StratifiedKFold(n_splits = 3, random_state = 0, shuffle = True)\n",
    "\n",
    "accuracy_K = {}\n",
    "class_report_K = {}\n",
    "count = 1\n",
    "\n",
    "for train_index, test_index in kf.split(X_binary, y_binary):\n",
    "\n",
    "    X_train, X_test = X_binary.iloc[train_index], X_binary.iloc[test_index]\n",
    "    y_train, y_test = y_binary.iloc[train_index], y_binary.iloc[test_index]\n",
    "    \n",
    "    clf = AdaBoostClassifier(base_estimator=DecisionTreeClassifier(max_depth=3),\n",
    "                             n_estimators=50,\n",
    "                             random_state=0)\n",
    "    \n",
    "    clf = clf.fit(X_train,y_train)\n",
    "\n",
    "    prediction = clf.predict(X_test)\n",
    "    \n",
    "    accuracy_K[count] = metrics.accuracy_score(y_test, prediction)\n",
    "    class_report_K[count] = metrics.classification_report(y_test, prediction)\n",
    "    \n",
    "    print(count)\n",
    "    count +=1"
   ]
  },
  {
   "cell_type": "code",
   "execution_count": 78,
   "id": "collective-gospel",
   "metadata": {},
   "outputs": [
    {
     "name": "stdout",
     "output_type": "stream",
     "text": [
      "{1: 0.8507829843403132, 2: 0.8465184651846518, 3: 0.8521885218852189}\n"
     ]
    }
   ],
   "source": [
    "print(accuracy_K)"
   ]
  },
  {
   "cell_type": "code",
   "execution_count": 79,
   "id": "approved-loading",
   "metadata": {},
   "outputs": [
    {
     "name": "stdout",
     "output_type": "stream",
     "text": [
      "              precision    recall  f1-score   support\n",
      "\n",
      "       KNOWN       0.88      0.90      0.89     22729\n",
      "     UNKNOWN       0.78      0.74      0.76     10605\n",
      "\n",
      "    accuracy                           0.85     33334\n",
      "   macro avg       0.83      0.82      0.83     33334\n",
      "weighted avg       0.85      0.85      0.85     33334\n",
      "\n",
      "              precision    recall  f1-score   support\n",
      "\n",
      "       KNOWN       0.88      0.90      0.89     22728\n",
      "     UNKNOWN       0.77      0.73      0.75     10605\n",
      "\n",
      "    accuracy                           0.85     33333\n",
      "   macro avg       0.83      0.82      0.82     33333\n",
      "weighted avg       0.84      0.85      0.85     33333\n",
      "\n",
      "              precision    recall  f1-score   support\n",
      "\n",
      "       KNOWN       0.89      0.90      0.89     22728\n",
      "     UNKNOWN       0.78      0.75      0.76     10605\n",
      "\n",
      "    accuracy                           0.85     33333\n",
      "   macro avg       0.83      0.83      0.83     33333\n",
      "weighted avg       0.85      0.85      0.85     33333\n",
      "\n"
     ]
    }
   ],
   "source": [
    "for item in class_report_K.values():\n",
    "    print(item)"
   ]
  },
  {
   "cell_type": "markdown",
   "id": "artistic-polls",
   "metadata": {},
   "source": [
    "#### SMOTE Stratified K-fold"
   ]
  },
  {
   "cell_type": "code",
   "execution_count": 80,
   "id": "insured-divide",
   "metadata": {},
   "outputs": [
    {
     "name": "stderr",
     "output_type": "stream",
     "text": [
      "C:\\Users\\thoma\\Anaconda3\\lib\\site-packages\\sklearn\\utils\\validation.py:72: DataConversionWarning: A column-vector y was passed when a 1d array was expected. Please change the shape of y to (n_samples, ), for example using ravel().\n",
      "  return f(**kwargs)\n"
     ]
    },
    {
     "name": "stdout",
     "output_type": "stream",
     "text": [
      "1\n"
     ]
    },
    {
     "name": "stderr",
     "output_type": "stream",
     "text": [
      "C:\\Users\\thoma\\Anaconda3\\lib\\site-packages\\sklearn\\utils\\validation.py:72: DataConversionWarning: A column-vector y was passed when a 1d array was expected. Please change the shape of y to (n_samples, ), for example using ravel().\n",
      "  return f(**kwargs)\n"
     ]
    },
    {
     "name": "stdout",
     "output_type": "stream",
     "text": [
      "2\n"
     ]
    },
    {
     "name": "stderr",
     "output_type": "stream",
     "text": [
      "C:\\Users\\thoma\\Anaconda3\\lib\\site-packages\\sklearn\\utils\\validation.py:72: DataConversionWarning: A column-vector y was passed when a 1d array was expected. Please change the shape of y to (n_samples, ), for example using ravel().\n",
      "  return f(**kwargs)\n"
     ]
    },
    {
     "name": "stdout",
     "output_type": "stream",
     "text": [
      "3\n"
     ]
    }
   ],
   "source": [
    "kf = StratifiedKFold(n_splits = 3, random_state = 0, shuffle = True)\n",
    "\n",
    "accuracy_K = {}\n",
    "class_report_K = {}\n",
    "count = 1\n",
    "\n",
    "for train_index, test_index in kf.split(X_binary, y_binary):\n",
    "\n",
    "    X_train, X_test = X_binary.iloc[train_index], X_binary.iloc[test_index]\n",
    "    y_train, y_test = y_binary.iloc[train_index], y_binary.iloc[test_index]\n",
    "    \n",
    "    X_train_sm, y_train_sm = smote.fit_sample(X_train,y_train)\n",
    "    \n",
    "    clf = AdaBoostClassifier(base_estimator=DecisionTreeClassifier(max_depth=3),\n",
    "                             n_estimators=50,\n",
    "                             random_state=0)\n",
    "    \n",
    "    clf = clf.fit(X_train_sm,y_train_sm)\n",
    "\n",
    "    prediction = clf.predict(X_test)\n",
    "    \n",
    "    accuracy_K[count] = metrics.accuracy_score(y_test, prediction)\n",
    "    class_report_K[count] = metrics.classification_report(y_test, prediction)\n",
    "    \n",
    "    print(count)\n",
    "    count +=1"
   ]
  },
  {
   "cell_type": "code",
   "execution_count": 81,
   "id": "intense-accreditation",
   "metadata": {},
   "outputs": [
    {
     "name": "stdout",
     "output_type": "stream",
     "text": [
      "{1: 0.8507829843403132, 2: 0.8465184651846518, 3: 0.8521885218852189}\n"
     ]
    }
   ],
   "source": [
    "print(accuracy_K)"
   ]
  },
  {
   "cell_type": "code",
   "execution_count": 82,
   "id": "alpha-meeting",
   "metadata": {},
   "outputs": [
    {
     "name": "stdout",
     "output_type": "stream",
     "text": [
      "              precision    recall  f1-score   support\n",
      "\n",
      "       KNOWN       0.88      0.90      0.89     22729\n",
      "     UNKNOWN       0.78      0.74      0.76     10605\n",
      "\n",
      "    accuracy                           0.85     33334\n",
      "   macro avg       0.83      0.82      0.83     33334\n",
      "weighted avg       0.85      0.85      0.85     33334\n",
      "\n",
      "              precision    recall  f1-score   support\n",
      "\n",
      "       KNOWN       0.88      0.90      0.89     22728\n",
      "     UNKNOWN       0.77      0.73      0.75     10605\n",
      "\n",
      "    accuracy                           0.85     33333\n",
      "   macro avg       0.83      0.82      0.82     33333\n",
      "weighted avg       0.84      0.85      0.85     33333\n",
      "\n",
      "              precision    recall  f1-score   support\n",
      "\n",
      "       KNOWN       0.89      0.90      0.89     22728\n",
      "     UNKNOWN       0.78      0.75      0.76     10605\n",
      "\n",
      "    accuracy                           0.85     33333\n",
      "   macro avg       0.83      0.83      0.83     33333\n",
      "weighted avg       0.85      0.85      0.85     33333\n",
      "\n"
     ]
    }
   ],
   "source": [
    "for item in class_report_K.values():\n",
    "    print(item)"
   ]
  },
  {
   "cell_type": "markdown",
   "id": "portuguese-beauty",
   "metadata": {},
   "source": [
    "### Time Series Split"
   ]
  },
  {
   "cell_type": "markdown",
   "id": "otherwise-wyoming",
   "metadata": {},
   "source": [
    "#### Basic"
   ]
  },
  {
   "cell_type": "code",
   "execution_count": 92,
   "id": "above-origin",
   "metadata": {},
   "outputs": [
    {
     "name": "stderr",
     "output_type": "stream",
     "text": [
      "C:\\Users\\thoma\\Anaconda3\\lib\\site-packages\\sklearn\\utils\\validation.py:72: DataConversionWarning: A column-vector y was passed when a 1d array was expected. Please change the shape of y to (n_samples, ), for example using ravel().\n",
      "  return f(**kwargs)\n"
     ]
    },
    {
     "name": "stdout",
     "output_type": "stream",
     "text": [
      "1\n"
     ]
    },
    {
     "name": "stderr",
     "output_type": "stream",
     "text": [
      "C:\\Users\\thoma\\Anaconda3\\lib\\site-packages\\sklearn\\utils\\validation.py:72: DataConversionWarning: A column-vector y was passed when a 1d array was expected. Please change the shape of y to (n_samples, ), for example using ravel().\n",
      "  return f(**kwargs)\n"
     ]
    },
    {
     "name": "stdout",
     "output_type": "stream",
     "text": [
      "2\n"
     ]
    },
    {
     "name": "stderr",
     "output_type": "stream",
     "text": [
      "C:\\Users\\thoma\\Anaconda3\\lib\\site-packages\\sklearn\\utils\\validation.py:72: DataConversionWarning: A column-vector y was passed when a 1d array was expected. Please change the shape of y to (n_samples, ), for example using ravel().\n",
      "  return f(**kwargs)\n"
     ]
    },
    {
     "name": "stdout",
     "output_type": "stream",
     "text": [
      "3\n"
     ]
    }
   ],
   "source": [
    "#TIME-SERIES SPLIT\n",
    "\n",
    "tscv = TimeSeriesSplit(n_splits = 3)\n",
    "\n",
    "accuracy = {}\n",
    "class_report = {}\n",
    "count = 1\n",
    "\n",
    "for train_index, test_index in tscv.split(X_binary):\n",
    "\n",
    "    X_train, X_test = X_binary.iloc[train_index], X_binary.iloc[test_index]\n",
    "    y_train, y_test = y_binary.iloc[train_index], y_binary.iloc[test_index]\n",
    "    \n",
    "    clf = AdaBoostClassifier(base_estimator=DecisionTreeClassifier(max_depth=3),\n",
    "                             n_estimators=50,\n",
    "                             random_state=0)\n",
    "    \n",
    "    clf = clf.fit(X_train,y_train)\n",
    "\n",
    "    prediction = clf.predict(X_test)\n",
    "    \n",
    "    accuracy[count] = metrics.accuracy_score(y_test, prediction)\n",
    "    class_report[count] = metrics.classification_report(y_test, prediction)\n",
    "    \n",
    "    print(count)\n",
    "    count += 1"
   ]
  },
  {
   "cell_type": "code",
   "execution_count": 93,
   "id": "forward-punch",
   "metadata": {},
   "outputs": [
    {
     "name": "stdout",
     "output_type": "stream",
     "text": [
      "{1: 0.79208, 2: 0.80636, 3: 0.81316}\n"
     ]
    }
   ],
   "source": [
    "print(accuracy)"
   ]
  },
  {
   "cell_type": "code",
   "execution_count": 94,
   "id": "permanent-acting",
   "metadata": {},
   "outputs": [
    {
     "name": "stdout",
     "output_type": "stream",
     "text": [
      "              precision    recall  f1-score   support\n",
      "\n",
      "       KNOWN       0.84      0.85      0.84     16686\n",
      "     UNKNOWN       0.69      0.68      0.69      8314\n",
      "\n",
      "    accuracy                           0.79     25000\n",
      "   macro avg       0.77      0.76      0.77     25000\n",
      "weighted avg       0.79      0.79      0.79     25000\n",
      "\n",
      "              precision    recall  f1-score   support\n",
      "\n",
      "       KNOWN       0.86      0.87      0.87     18079\n",
      "     UNKNOWN       0.66      0.63      0.64      6921\n",
      "\n",
      "    accuracy                           0.81     25000\n",
      "   macro avg       0.76      0.75      0.76     25000\n",
      "weighted avg       0.80      0.81      0.81     25000\n",
      "\n",
      "              precision    recall  f1-score   support\n",
      "\n",
      "       KNOWN       0.84      0.90      0.87     17027\n",
      "     UNKNOWN       0.75      0.63      0.68      7973\n",
      "\n",
      "    accuracy                           0.81     25000\n",
      "   macro avg       0.79      0.76      0.77     25000\n",
      "weighted avg       0.81      0.81      0.81     25000\n",
      "\n"
     ]
    }
   ],
   "source": [
    "for item in class_report.values():\n",
    "    print(item)"
   ]
  },
  {
   "cell_type": "markdown",
   "id": "occasional-comfort",
   "metadata": {},
   "source": [
    "#### SMOTE"
   ]
  },
  {
   "cell_type": "code",
   "execution_count": 89,
   "id": "italic-christopher",
   "metadata": {},
   "outputs": [
    {
     "name": "stderr",
     "output_type": "stream",
     "text": [
      "C:\\Users\\thoma\\Anaconda3\\lib\\site-packages\\sklearn\\utils\\validation.py:72: DataConversionWarning: A column-vector y was passed when a 1d array was expected. Please change the shape of y to (n_samples, ), for example using ravel().\n",
      "  return f(**kwargs)\n"
     ]
    },
    {
     "name": "stdout",
     "output_type": "stream",
     "text": [
      "1\n"
     ]
    },
    {
     "name": "stderr",
     "output_type": "stream",
     "text": [
      "C:\\Users\\thoma\\Anaconda3\\lib\\site-packages\\sklearn\\utils\\validation.py:72: DataConversionWarning: A column-vector y was passed when a 1d array was expected. Please change the shape of y to (n_samples, ), for example using ravel().\n",
      "  return f(**kwargs)\n"
     ]
    },
    {
     "name": "stdout",
     "output_type": "stream",
     "text": [
      "2\n"
     ]
    },
    {
     "name": "stderr",
     "output_type": "stream",
     "text": [
      "C:\\Users\\thoma\\Anaconda3\\lib\\site-packages\\sklearn\\utils\\validation.py:72: DataConversionWarning: A column-vector y was passed when a 1d array was expected. Please change the shape of y to (n_samples, ), for example using ravel().\n",
      "  return f(**kwargs)\n"
     ]
    },
    {
     "name": "stdout",
     "output_type": "stream",
     "text": [
      "3\n"
     ]
    }
   ],
   "source": [
    "#TIME-SERIES SPLIT\n",
    "\n",
    "tscv = TimeSeriesSplit(n_splits = 3)\n",
    "\n",
    "accuracy = {}\n",
    "class_report = {}\n",
    "count = 1\n",
    "\n",
    "for train_index, test_index in tscv.split(X_binary):\n",
    "\n",
    "    X_train, X_test = X_binary.iloc[train_index], X_binary.iloc[test_index]\n",
    "    y_train, y_test = y_binary.iloc[train_index], y_binary.iloc[test_index]\n",
    "    \n",
    "    X_train_sm, y_train_sm = smote.fit_sample(X_train,y_train)\n",
    "    \n",
    "    clf = AdaBoostClassifier(base_estimator=DecisionTreeClassifier(max_depth=3),\n",
    "                             n_estimators=50,\n",
    "                             random_state=0)\n",
    "    \n",
    "    clf = clf.fit(X_train_sm,y_train_sm)\n",
    "\n",
    "    prediction = clf.predict(X_test)\n",
    "    \n",
    "    accuracy[count] = metrics.accuracy_score(y_test, prediction)\n",
    "    class_report[count] = metrics.classification_report(y_test, prediction)\n",
    "    \n",
    "    print(count)\n",
    "    count += 1"
   ]
  },
  {
   "cell_type": "code",
   "execution_count": 90,
   "id": "married-diploma",
   "metadata": {},
   "outputs": [
    {
     "name": "stdout",
     "output_type": "stream",
     "text": [
      "{1: 0.80912, 2: 0.82736, 3: 0.82136}\n"
     ]
    }
   ],
   "source": [
    "print(accuracy)"
   ]
  },
  {
   "cell_type": "code",
   "execution_count": 91,
   "id": "documentary-workstation",
   "metadata": {},
   "outputs": [
    {
     "name": "stdout",
     "output_type": "stream",
     "text": [
      "              precision    recall  f1-score   support\n",
      "\n",
      "       KNOWN       0.86      0.86      0.86     16686\n",
      "     UNKNOWN       0.71      0.71      0.71      8314\n",
      "\n",
      "    accuracy                           0.81     25000\n",
      "   macro avg       0.79      0.78      0.78     25000\n",
      "weighted avg       0.81      0.81      0.81     25000\n",
      "\n",
      "              precision    recall  f1-score   support\n",
      "\n",
      "       KNOWN       0.87      0.90      0.88     18079\n",
      "     UNKNOWN       0.71      0.64      0.67      6921\n",
      "\n",
      "    accuracy                           0.83     25000\n",
      "   macro avg       0.79      0.77      0.78     25000\n",
      "weighted avg       0.82      0.83      0.82     25000\n",
      "\n",
      "              precision    recall  f1-score   support\n",
      "\n",
      "       KNOWN       0.84      0.91      0.87     17027\n",
      "     UNKNOWN       0.77      0.62      0.69      7973\n",
      "\n",
      "    accuracy                           0.82     25000\n",
      "   macro avg       0.81      0.77      0.78     25000\n",
      "weighted avg       0.82      0.82      0.82     25000\n",
      "\n"
     ]
    }
   ],
   "source": [
    "for item in class_report.values():\n",
    "    print(item)"
   ]
  },
  {
   "cell_type": "markdown",
   "id": "hidden-premises",
   "metadata": {},
   "source": [
    "## Gradient Boosting"
   ]
  },
  {
   "cell_type": "markdown",
   "id": "eligible-translation",
   "metadata": {},
   "source": [
    "### Regular Train/Test Split"
   ]
  },
  {
   "cell_type": "markdown",
   "id": "developmental-juvenile",
   "metadata": {},
   "source": [
    "#### Stratified K-fold"
   ]
  },
  {
   "cell_type": "code",
   "execution_count": 102,
   "id": "chicken-speaking",
   "metadata": {},
   "outputs": [
    {
     "name": "stderr",
     "output_type": "stream",
     "text": [
      "C:\\Users\\thoma\\Anaconda3\\lib\\site-packages\\sklearn\\utils\\validation.py:72: DataConversionWarning: A column-vector y was passed when a 1d array was expected. Please change the shape of y to (n_samples, ), for example using ravel().\n",
      "  return f(**kwargs)\n"
     ]
    },
    {
     "name": "stdout",
     "output_type": "stream",
     "text": [
      "1\n"
     ]
    },
    {
     "name": "stderr",
     "output_type": "stream",
     "text": [
      "C:\\Users\\thoma\\Anaconda3\\lib\\site-packages\\sklearn\\utils\\validation.py:72: DataConversionWarning: A column-vector y was passed when a 1d array was expected. Please change the shape of y to (n_samples, ), for example using ravel().\n",
      "  return f(**kwargs)\n"
     ]
    },
    {
     "name": "stdout",
     "output_type": "stream",
     "text": [
      "2\n"
     ]
    },
    {
     "name": "stderr",
     "output_type": "stream",
     "text": [
      "C:\\Users\\thoma\\Anaconda3\\lib\\site-packages\\sklearn\\utils\\validation.py:72: DataConversionWarning: A column-vector y was passed when a 1d array was expected. Please change the shape of y to (n_samples, ), for example using ravel().\n",
      "  return f(**kwargs)\n"
     ]
    },
    {
     "name": "stdout",
     "output_type": "stream",
     "text": [
      "3\n"
     ]
    }
   ],
   "source": [
    "kf = StratifiedKFold(n_splits = 3, random_state = 0, shuffle = True)\n",
    "\n",
    "accuracy_K = {}\n",
    "class_report_K = {}\n",
    "count = 1\n",
    "\n",
    "for train_index, test_index in kf.split(X_binary, y_binary):\n",
    "    \n",
    "    X_train, X_test = X_binary.iloc[train_index], X_binary.iloc[test_index]\n",
    "    y_train, y_test = y_binary.iloc[train_index], y_binary.iloc[test_index]\n",
    "    \n",
    "    clf = GradientBoostingClassifier(random_state=0)\n",
    "    \n",
    "    clf = clf.fit(X_train,y_train)\n",
    "\n",
    "    prediction = clf.predict(X_test)\n",
    "    \n",
    "    accuracy_K[count] = metrics.accuracy_score(y_test, prediction)\n",
    "    class_report_K[count] = metrics.classification_report(y_test, prediction)\n",
    "    \n",
    "    print(count)\n",
    "    count +=1"
   ]
  },
  {
   "cell_type": "code",
   "execution_count": 103,
   "id": "presidential-perry",
   "metadata": {},
   "outputs": [
    {
     "name": "stdout",
     "output_type": "stream",
     "text": [
      "{1: 0.79208, 2: 0.80636, 3: 0.81316}\n"
     ]
    }
   ],
   "source": [
    "print(accuracy)"
   ]
  },
  {
   "cell_type": "code",
   "execution_count": 104,
   "id": "opposite-article",
   "metadata": {},
   "outputs": [
    {
     "name": "stdout",
     "output_type": "stream",
     "text": [
      "              precision    recall  f1-score   support\n",
      "\n",
      "       KNOWN       0.86      0.92      0.89     22729\n",
      "     UNKNOWN       0.79      0.67      0.73     10605\n",
      "\n",
      "    accuracy                           0.84     33334\n",
      "   macro avg       0.82      0.80      0.81     33334\n",
      "weighted avg       0.84      0.84      0.84     33334\n",
      "\n",
      "              precision    recall  f1-score   support\n",
      "\n",
      "       KNOWN       0.86      0.92      0.89     22728\n",
      "     UNKNOWN       0.79      0.68      0.73     10605\n",
      "\n",
      "    accuracy                           0.84     33333\n",
      "   macro avg       0.82      0.80      0.81     33333\n",
      "weighted avg       0.84      0.84      0.84     33333\n",
      "\n",
      "              precision    recall  f1-score   support\n",
      "\n",
      "       KNOWN       0.86      0.92      0.89     22728\n",
      "     UNKNOWN       0.80      0.68      0.74     10605\n",
      "\n",
      "    accuracy                           0.84     33333\n",
      "   macro avg       0.83      0.80      0.81     33333\n",
      "weighted avg       0.84      0.84      0.84     33333\n",
      "\n"
     ]
    }
   ],
   "source": [
    "for item in class_report_K.values():\n",
    "    print(item)"
   ]
  },
  {
   "cell_type": "markdown",
   "id": "brief-proxy",
   "metadata": {},
   "source": [
    "#### SMOTE Stratified K-fold"
   ]
  },
  {
   "cell_type": "code",
   "execution_count": 105,
   "id": "incorporated-chile",
   "metadata": {},
   "outputs": [
    {
     "name": "stderr",
     "output_type": "stream",
     "text": [
      "C:\\Users\\thoma\\Anaconda3\\lib\\site-packages\\sklearn\\utils\\validation.py:72: DataConversionWarning: A column-vector y was passed when a 1d array was expected. Please change the shape of y to (n_samples, ), for example using ravel().\n",
      "  return f(**kwargs)\n"
     ]
    },
    {
     "name": "stdout",
     "output_type": "stream",
     "text": [
      "1\n"
     ]
    },
    {
     "name": "stderr",
     "output_type": "stream",
     "text": [
      "C:\\Users\\thoma\\Anaconda3\\lib\\site-packages\\sklearn\\utils\\validation.py:72: DataConversionWarning: A column-vector y was passed when a 1d array was expected. Please change the shape of y to (n_samples, ), for example using ravel().\n",
      "  return f(**kwargs)\n"
     ]
    },
    {
     "name": "stdout",
     "output_type": "stream",
     "text": [
      "2\n"
     ]
    },
    {
     "name": "stderr",
     "output_type": "stream",
     "text": [
      "C:\\Users\\thoma\\Anaconda3\\lib\\site-packages\\sklearn\\utils\\validation.py:72: DataConversionWarning: A column-vector y was passed when a 1d array was expected. Please change the shape of y to (n_samples, ), for example using ravel().\n",
      "  return f(**kwargs)\n"
     ]
    },
    {
     "name": "stdout",
     "output_type": "stream",
     "text": [
      "3\n"
     ]
    }
   ],
   "source": [
    "kf = StratifiedKFold(n_splits = 3, random_state = 0, shuffle = True)\n",
    "\n",
    "accuracy_K = {}\n",
    "class_report_K = {}\n",
    "count = 1\n",
    "\n",
    "for train_index, test_index in kf.split(X_binary, y_binary):\n",
    "    \n",
    "    X_train, X_test = X_binary.iloc[train_index], X_binary.iloc[test_index]\n",
    "    y_train, y_test = y_binary.iloc[train_index], y_binary.iloc[test_index]\n",
    "    \n",
    "    X_train_sm, y_train_sm = smote.fit_sample(X_train,y_train)\n",
    "    \n",
    "    clf = GradientBoostingClassifier(random_state=0)\n",
    "    \n",
    "    clf = clf.fit(X_train_sm,y_train_sm)\n",
    "\n",
    "    prediction = clf.predict(X_test)\n",
    "    \n",
    "    accuracy_K[count] = metrics.accuracy_score(y_test, prediction)\n",
    "    class_report_K[count] = metrics.classification_report(y_test, prediction)\n",
    "    \n",
    "    print(count)\n",
    "    count +=1"
   ]
  },
  {
   "cell_type": "code",
   "execution_count": 106,
   "id": "ancient-davis",
   "metadata": {},
   "outputs": [
    {
     "name": "stdout",
     "output_type": "stream",
     "text": [
      "{1: 0.8224635507289855, 2: 0.8209882098820989, 3: 0.8256082560825608}\n"
     ]
    }
   ],
   "source": [
    "print(accuracy_K)"
   ]
  },
  {
   "cell_type": "code",
   "execution_count": 107,
   "id": "liked-motor",
   "metadata": {},
   "outputs": [
    {
     "name": "stdout",
     "output_type": "stream",
     "text": [
      "              precision    recall  f1-score   support\n",
      "\n",
      "       KNOWN       0.87      0.87      0.87     22729\n",
      "     UNKNOWN       0.72      0.71      0.72     10605\n",
      "\n",
      "    accuracy                           0.82     33334\n",
      "   macro avg       0.80      0.79      0.79     33334\n",
      "weighted avg       0.82      0.82      0.82     33334\n",
      "\n",
      "              precision    recall  f1-score   support\n",
      "\n",
      "       KNOWN       0.87      0.87      0.87     22728\n",
      "     UNKNOWN       0.72      0.72      0.72     10605\n",
      "\n",
      "    accuracy                           0.82     33333\n",
      "   macro avg       0.79      0.79      0.79     33333\n",
      "weighted avg       0.82      0.82      0.82     33333\n",
      "\n",
      "              precision    recall  f1-score   support\n",
      "\n",
      "       KNOWN       0.87      0.87      0.87     22728\n",
      "     UNKNOWN       0.73      0.72      0.72     10605\n",
      "\n",
      "    accuracy                           0.83     33333\n",
      "   macro avg       0.80      0.80      0.80     33333\n",
      "weighted avg       0.83      0.83      0.83     33333\n",
      "\n"
     ]
    }
   ],
   "source": [
    "for item in class_report_K.values():\n",
    "    print(item)"
   ]
  },
  {
   "cell_type": "markdown",
   "id": "integral-property",
   "metadata": {},
   "source": [
    "### Time Series Split"
   ]
  },
  {
   "cell_type": "markdown",
   "id": "compact-disaster",
   "metadata": {},
   "source": [
    "#### Basic"
   ]
  },
  {
   "cell_type": "code",
   "execution_count": 108,
   "id": "congressional-discipline",
   "metadata": {},
   "outputs": [
    {
     "name": "stderr",
     "output_type": "stream",
     "text": [
      "C:\\Users\\thoma\\Anaconda3\\lib\\site-packages\\sklearn\\utils\\validation.py:72: DataConversionWarning: A column-vector y was passed when a 1d array was expected. Please change the shape of y to (n_samples, ), for example using ravel().\n",
      "  return f(**kwargs)\n"
     ]
    },
    {
     "name": "stdout",
     "output_type": "stream",
     "text": [
      "1\n"
     ]
    },
    {
     "name": "stderr",
     "output_type": "stream",
     "text": [
      "C:\\Users\\thoma\\Anaconda3\\lib\\site-packages\\sklearn\\utils\\validation.py:72: DataConversionWarning: A column-vector y was passed when a 1d array was expected. Please change the shape of y to (n_samples, ), for example using ravel().\n",
      "  return f(**kwargs)\n"
     ]
    },
    {
     "name": "stdout",
     "output_type": "stream",
     "text": [
      "2\n"
     ]
    },
    {
     "name": "stderr",
     "output_type": "stream",
     "text": [
      "C:\\Users\\thoma\\Anaconda3\\lib\\site-packages\\sklearn\\utils\\validation.py:72: DataConversionWarning: A column-vector y was passed when a 1d array was expected. Please change the shape of y to (n_samples, ), for example using ravel().\n",
      "  return f(**kwargs)\n"
     ]
    },
    {
     "name": "stdout",
     "output_type": "stream",
     "text": [
      "3\n"
     ]
    }
   ],
   "source": [
    "#TIME-SERIES SPLIT\n",
    "\n",
    "tscv = TimeSeriesSplit(n_splits = 3)\n",
    "\n",
    "accuracy = {}\n",
    "class_report = {}\n",
    "count = 1\n",
    "\n",
    "for train_index, test_index in tscv.split(X_binary):\n",
    "\n",
    "    X_train, X_test = X_binary.iloc[train_index], X_binary.iloc[test_index]\n",
    "    y_train, y_test = y_binary.iloc[train_index], y_binary.iloc[test_index]\n",
    "    \n",
    "    clf = GradientBoostingClassifier(random_state=0)\n",
    "    \n",
    "    clf = clf.fit(X_train,y_train)\n",
    "\n",
    "    prediction = clf.predict(X_test)\n",
    "    \n",
    "    accuracy[count] = metrics.accuracy_score(y_test, prediction)\n",
    "    class_report[count] = metrics.classification_report(y_test, prediction)\n",
    "    \n",
    "    print(count)\n",
    "    count += 1"
   ]
  },
  {
   "cell_type": "code",
   "execution_count": 109,
   "id": "entitled-pacific",
   "metadata": {},
   "outputs": [
    {
     "name": "stdout",
     "output_type": "stream",
     "text": [
      "{1: 0.8276, 2: 0.83684, 3: 0.82904}\n"
     ]
    }
   ],
   "source": [
    "print(accuracy)"
   ]
  },
  {
   "cell_type": "code",
   "execution_count": 110,
   "id": "familiar-seventh",
   "metadata": {},
   "outputs": [
    {
     "name": "stdout",
     "output_type": "stream",
     "text": [
      "              precision    recall  f1-score   support\n",
      "\n",
      "       KNOWN       0.86      0.89      0.87     16686\n",
      "     UNKNOWN       0.76      0.70      0.73      8314\n",
      "\n",
      "    accuracy                           0.83     25000\n",
      "   macro avg       0.81      0.80      0.80     25000\n",
      "weighted avg       0.83      0.83      0.83     25000\n",
      "\n",
      "              precision    recall  f1-score   support\n",
      "\n",
      "       KNOWN       0.86      0.92      0.89     18079\n",
      "     UNKNOWN       0.76      0.61      0.67      6921\n",
      "\n",
      "    accuracy                           0.84     25000\n",
      "   macro avg       0.81      0.77      0.78     25000\n",
      "weighted avg       0.83      0.84      0.83     25000\n",
      "\n",
      "              precision    recall  f1-score   support\n",
      "\n",
      "       KNOWN       0.84      0.93      0.88     17027\n",
      "     UNKNOWN       0.80      0.62      0.70      7973\n",
      "\n",
      "    accuracy                           0.83     25000\n",
      "   macro avg       0.82      0.77      0.79     25000\n",
      "weighted avg       0.83      0.83      0.82     25000\n",
      "\n"
     ]
    }
   ],
   "source": [
    "for item in class_report.values():\n",
    "    print(item)"
   ]
  },
  {
   "cell_type": "markdown",
   "id": "disabled-tobacco",
   "metadata": {},
   "source": [
    "#### SMOTE"
   ]
  },
  {
   "cell_type": "code",
   "execution_count": 111,
   "id": "applied-forth",
   "metadata": {},
   "outputs": [
    {
     "name": "stderr",
     "output_type": "stream",
     "text": [
      "C:\\Users\\thoma\\Anaconda3\\lib\\site-packages\\sklearn\\utils\\validation.py:72: DataConversionWarning: A column-vector y was passed when a 1d array was expected. Please change the shape of y to (n_samples, ), for example using ravel().\n",
      "  return f(**kwargs)\n"
     ]
    },
    {
     "name": "stdout",
     "output_type": "stream",
     "text": [
      "1\n"
     ]
    },
    {
     "name": "stderr",
     "output_type": "stream",
     "text": [
      "C:\\Users\\thoma\\Anaconda3\\lib\\site-packages\\sklearn\\utils\\validation.py:72: DataConversionWarning: A column-vector y was passed when a 1d array was expected. Please change the shape of y to (n_samples, ), for example using ravel().\n",
      "  return f(**kwargs)\n"
     ]
    },
    {
     "name": "stdout",
     "output_type": "stream",
     "text": [
      "2\n"
     ]
    },
    {
     "name": "stderr",
     "output_type": "stream",
     "text": [
      "C:\\Users\\thoma\\Anaconda3\\lib\\site-packages\\sklearn\\utils\\validation.py:72: DataConversionWarning: A column-vector y was passed when a 1d array was expected. Please change the shape of y to (n_samples, ), for example using ravel().\n",
      "  return f(**kwargs)\n"
     ]
    },
    {
     "name": "stdout",
     "output_type": "stream",
     "text": [
      "3\n"
     ]
    }
   ],
   "source": [
    "#TIME-SERIES SPLIT\n",
    "\n",
    "tscv = TimeSeriesSplit(n_splits = 3)\n",
    "\n",
    "accuracy = {}\n",
    "class_report = {}\n",
    "count = 1\n",
    "\n",
    "for train_index, test_index in tscv.split(X_binary):\n",
    "\n",
    "    X_train, X_test = X_binary.iloc[train_index], X_binary.iloc[test_index]\n",
    "    y_train, y_test = y_binary.iloc[train_index], y_binary.iloc[test_index]\n",
    "    \n",
    "    X_train_sm, y_train_sm = smote.fit_sample(X_train,y_train)\n",
    "    \n",
    "    clf = GradientBoostingClassifier(random_state=0)\n",
    "    \n",
    "    clf = clf.fit(X_train_sm,y_train_sm)\n",
    "\n",
    "    prediction = clf.predict(X_test)\n",
    "    \n",
    "    accuracy[count] = metrics.accuracy_score(y_test, prediction)\n",
    "    class_report[count] = metrics.classification_report(y_test, prediction)\n",
    "    \n",
    "    print(count)\n",
    "    count += 1"
   ]
  },
  {
   "cell_type": "code",
   "execution_count": 112,
   "id": "sweet-wildlife",
   "metadata": {},
   "outputs": [
    {
     "name": "stdout",
     "output_type": "stream",
     "text": [
      "{1: 0.8238, 2: 0.82588, 3: 0.82192}\n"
     ]
    }
   ],
   "source": [
    "print(accuracy)"
   ]
  },
  {
   "cell_type": "code",
   "execution_count": 113,
   "id": "corporate-battle",
   "metadata": {},
   "outputs": [
    {
     "name": "stdout",
     "output_type": "stream",
     "text": [
      "              precision    recall  f1-score   support\n",
      "\n",
      "       KNOWN       0.87      0.87      0.87     16686\n",
      "     UNKNOWN       0.74      0.73      0.73      8314\n",
      "\n",
      "    accuracy                           0.82     25000\n",
      "   macro avg       0.80      0.80      0.80     25000\n",
      "weighted avg       0.82      0.82      0.82     25000\n",
      "\n",
      "              precision    recall  f1-score   support\n",
      "\n",
      "       KNOWN       0.86      0.90      0.88     18079\n",
      "     UNKNOWN       0.71      0.63      0.67      6921\n",
      "\n",
      "    accuracy                           0.83     25000\n",
      "   macro avg       0.79      0.77      0.77     25000\n",
      "weighted avg       0.82      0.83      0.82     25000\n",
      "\n",
      "              precision    recall  f1-score   support\n",
      "\n",
      "       KNOWN       0.86      0.89      0.87     17027\n",
      "     UNKNOWN       0.74      0.68      0.71      7973\n",
      "\n",
      "    accuracy                           0.82     25000\n",
      "   macro avg       0.80      0.78      0.79     25000\n",
      "weighted avg       0.82      0.82      0.82     25000\n",
      "\n"
     ]
    }
   ],
   "source": [
    "for item in class_report.values():\n",
    "    print(item)"
   ]
  },
  {
   "cell_type": "markdown",
   "id": "amateur-swift",
   "metadata": {},
   "source": [
    "## Hist Gradient Boosting"
   ]
  },
  {
   "cell_type": "markdown",
   "id": "three-promise",
   "metadata": {},
   "source": [
    "### Regular Train/Test Split"
   ]
  },
  {
   "cell_type": "markdown",
   "id": "liquid-honolulu",
   "metadata": {},
   "source": [
    "#### Stratified K-fold"
   ]
  },
  {
   "cell_type": "code",
   "execution_count": 116,
   "id": "suffering-cooking",
   "metadata": {},
   "outputs": [
    {
     "name": "stderr",
     "output_type": "stream",
     "text": [
      "C:\\Users\\thoma\\Anaconda3\\lib\\site-packages\\sklearn\\utils\\validation.py:72: DataConversionWarning: A column-vector y was passed when a 1d array was expected. Please change the shape of y to (n_samples, ), for example using ravel().\n",
      "  return f(**kwargs)\n"
     ]
    },
    {
     "name": "stdout",
     "output_type": "stream",
     "text": [
      "1\n"
     ]
    },
    {
     "name": "stderr",
     "output_type": "stream",
     "text": [
      "C:\\Users\\thoma\\Anaconda3\\lib\\site-packages\\sklearn\\utils\\validation.py:72: DataConversionWarning: A column-vector y was passed when a 1d array was expected. Please change the shape of y to (n_samples, ), for example using ravel().\n",
      "  return f(**kwargs)\n"
     ]
    },
    {
     "name": "stdout",
     "output_type": "stream",
     "text": [
      "2\n"
     ]
    },
    {
     "name": "stderr",
     "output_type": "stream",
     "text": [
      "C:\\Users\\thoma\\Anaconda3\\lib\\site-packages\\sklearn\\utils\\validation.py:72: DataConversionWarning: A column-vector y was passed when a 1d array was expected. Please change the shape of y to (n_samples, ), for example using ravel().\n",
      "  return f(**kwargs)\n"
     ]
    },
    {
     "name": "stdout",
     "output_type": "stream",
     "text": [
      "3\n"
     ]
    }
   ],
   "source": [
    "kf = StratifiedKFold(n_splits = 3, random_state = 0, shuffle = True)\n",
    "\n",
    "accuracy_K = {}\n",
    "class_report_K = {}\n",
    "count = 1\n",
    "\n",
    "for train_index, test_index in kf.split(X_binary, y_binary):\n",
    "    \n",
    "    X_train, X_test = X_binary.iloc[train_index], X_binary.iloc[test_index]\n",
    "    y_train, y_test = y_binary.iloc[train_index], y_binary.iloc[test_index]\n",
    "    \n",
    "    clf = HistGradientBoostingClassifier(random_state=0)\n",
    "    \n",
    "    clf = clf.fit(X_train,y_train)\n",
    "\n",
    "    prediction = clf.predict(X_test)\n",
    "    \n",
    "    accuracy_K[count] = metrics.accuracy_score(y_test, prediction)\n",
    "    class_report_K[count] = metrics.classification_report(y_test, prediction)\n",
    "    \n",
    "    print(count)\n",
    "    count +=1"
   ]
  },
  {
   "cell_type": "code",
   "execution_count": 117,
   "id": "caroline-second",
   "metadata": {},
   "outputs": [
    {
     "name": "stdout",
     "output_type": "stream",
     "text": [
      "{1: 0.8607427851442971, 2: 0.8621186211862119, 3: 0.8657786577865779}\n"
     ]
    }
   ],
   "source": [
    "print(accuracy_K)"
   ]
  },
  {
   "cell_type": "code",
   "execution_count": 118,
   "id": "registered-probability",
   "metadata": {},
   "outputs": [
    {
     "name": "stdout",
     "output_type": "stream",
     "text": [
      "              precision    recall  f1-score   support\n",
      "\n",
      "       KNOWN       0.89      0.91      0.90     22729\n",
      "     UNKNOWN       0.80      0.75      0.77     10605\n",
      "\n",
      "    accuracy                           0.86     33334\n",
      "   macro avg       0.84      0.83      0.84     33334\n",
      "weighted avg       0.86      0.86      0.86     33334\n",
      "\n",
      "              precision    recall  f1-score   support\n",
      "\n",
      "       KNOWN       0.89      0.92      0.90     22728\n",
      "     UNKNOWN       0.81      0.75      0.78     10605\n",
      "\n",
      "    accuracy                           0.86     33333\n",
      "   macro avg       0.85      0.83      0.84     33333\n",
      "weighted avg       0.86      0.86      0.86     33333\n",
      "\n",
      "              precision    recall  f1-score   support\n",
      "\n",
      "       KNOWN       0.89      0.92      0.90     22728\n",
      "     UNKNOWN       0.81      0.75      0.78     10605\n",
      "\n",
      "    accuracy                           0.87     33333\n",
      "   macro avg       0.85      0.84      0.84     33333\n",
      "weighted avg       0.86      0.87      0.86     33333\n",
      "\n"
     ]
    }
   ],
   "source": [
    "for item in class_report_K.values():\n",
    "    print(item)"
   ]
  },
  {
   "cell_type": "markdown",
   "id": "actual-appliance",
   "metadata": {},
   "source": [
    "#### SMOTE Stratified K-fold"
   ]
  },
  {
   "cell_type": "code",
   "execution_count": 119,
   "id": "occupational-round",
   "metadata": {},
   "outputs": [
    {
     "name": "stderr",
     "output_type": "stream",
     "text": [
      "C:\\Users\\thoma\\Anaconda3\\lib\\site-packages\\sklearn\\utils\\validation.py:72: DataConversionWarning: A column-vector y was passed when a 1d array was expected. Please change the shape of y to (n_samples, ), for example using ravel().\n",
      "  return f(**kwargs)\n"
     ]
    },
    {
     "name": "stdout",
     "output_type": "stream",
     "text": [
      "1\n"
     ]
    },
    {
     "name": "stderr",
     "output_type": "stream",
     "text": [
      "C:\\Users\\thoma\\Anaconda3\\lib\\site-packages\\sklearn\\utils\\validation.py:72: DataConversionWarning: A column-vector y was passed when a 1d array was expected. Please change the shape of y to (n_samples, ), for example using ravel().\n",
      "  return f(**kwargs)\n"
     ]
    },
    {
     "name": "stdout",
     "output_type": "stream",
     "text": [
      "2\n"
     ]
    },
    {
     "name": "stderr",
     "output_type": "stream",
     "text": [
      "C:\\Users\\thoma\\Anaconda3\\lib\\site-packages\\sklearn\\utils\\validation.py:72: DataConversionWarning: A column-vector y was passed when a 1d array was expected. Please change the shape of y to (n_samples, ), for example using ravel().\n",
      "  return f(**kwargs)\n"
     ]
    },
    {
     "name": "stdout",
     "output_type": "stream",
     "text": [
      "3\n"
     ]
    }
   ],
   "source": [
    "kf = StratifiedKFold(n_splits = 3, random_state = 0, shuffle = True)\n",
    "\n",
    "accuracy_K = {}\n",
    "class_report_K = {}\n",
    "count = 1\n",
    "\n",
    "for train_index, test_index in kf.split(X_binary, y_binary):\n",
    "    \n",
    "    X_train, X_test = X_binary.iloc[train_index], X_binary.iloc[test_index]\n",
    "    y_train, y_test = y_binary.iloc[train_index], y_binary.iloc[test_index]\n",
    "    \n",
    "    X_train_sm, y_train_sm = smote.fit_sample(X_train,y_train)\n",
    "    \n",
    "    clf = HistGradientBoostingClassifier(random_state=0)\n",
    "    \n",
    "    clf = clf.fit(X_train_sm,y_train_sm)\n",
    "\n",
    "    prediction = clf.predict(X_test)\n",
    "    \n",
    "    accuracy_K[count] = metrics.accuracy_score(y_test, prediction)\n",
    "    class_report_K[count] = metrics.classification_report(y_test, prediction)\n",
    "    \n",
    "    print(count)\n",
    "    count +=1"
   ]
  },
  {
   "cell_type": "code",
   "execution_count": 120,
   "id": "congressional-better",
   "metadata": {},
   "outputs": [
    {
     "name": "stdout",
     "output_type": "stream",
     "text": [
      "{1: 0.8533629327413452, 2: 0.8526685266852668, 3: 0.8579785797857978}\n"
     ]
    }
   ],
   "source": [
    "print(accuracy_K)"
   ]
  },
  {
   "cell_type": "code",
   "execution_count": 121,
   "id": "electrical-challenge",
   "metadata": {},
   "outputs": [
    {
     "name": "stdout",
     "output_type": "stream",
     "text": [
      "              precision    recall  f1-score   support\n",
      "\n",
      "       KNOWN       0.88      0.90      0.89     22729\n",
      "     UNKNOWN       0.78      0.75      0.76     10605\n",
      "\n",
      "    accuracy                           0.85     33334\n",
      "   macro avg       0.83      0.82      0.83     33334\n",
      "weighted avg       0.85      0.85      0.85     33334\n",
      "\n",
      "              precision    recall  f1-score   support\n",
      "\n",
      "       KNOWN       0.88      0.90      0.89     22728\n",
      "     UNKNOWN       0.78      0.75      0.76     10605\n",
      "\n",
      "    accuracy                           0.85     33333\n",
      "   macro avg       0.83      0.82      0.83     33333\n",
      "weighted avg       0.85      0.85      0.85     33333\n",
      "\n",
      "              precision    recall  f1-score   support\n",
      "\n",
      "       KNOWN       0.89      0.91      0.90     22728\n",
      "     UNKNOWN       0.79      0.76      0.77     10605\n",
      "\n",
      "    accuracy                           0.86     33333\n",
      "   macro avg       0.84      0.83      0.83     33333\n",
      "weighted avg       0.86      0.86      0.86     33333\n",
      "\n"
     ]
    }
   ],
   "source": [
    "for item in class_report_K.values():\n",
    "    print(item)"
   ]
  },
  {
   "cell_type": "markdown",
   "id": "mexican-string",
   "metadata": {},
   "source": [
    "### Time Series Split"
   ]
  },
  {
   "cell_type": "markdown",
   "id": "commercial-karma",
   "metadata": {},
   "source": [
    "#### Basic"
   ]
  },
  {
   "cell_type": "code",
   "execution_count": 122,
   "id": "psychological-newport",
   "metadata": {},
   "outputs": [
    {
     "name": "stderr",
     "output_type": "stream",
     "text": [
      "C:\\Users\\thoma\\Anaconda3\\lib\\site-packages\\sklearn\\utils\\validation.py:72: DataConversionWarning: A column-vector y was passed when a 1d array was expected. Please change the shape of y to (n_samples, ), for example using ravel().\n",
      "  return f(**kwargs)\n"
     ]
    },
    {
     "name": "stdout",
     "output_type": "stream",
     "text": [
      "1\n"
     ]
    },
    {
     "name": "stderr",
     "output_type": "stream",
     "text": [
      "C:\\Users\\thoma\\Anaconda3\\lib\\site-packages\\sklearn\\utils\\validation.py:72: DataConversionWarning: A column-vector y was passed when a 1d array was expected. Please change the shape of y to (n_samples, ), for example using ravel().\n",
      "  return f(**kwargs)\n"
     ]
    },
    {
     "name": "stdout",
     "output_type": "stream",
     "text": [
      "2\n"
     ]
    },
    {
     "name": "stderr",
     "output_type": "stream",
     "text": [
      "C:\\Users\\thoma\\Anaconda3\\lib\\site-packages\\sklearn\\utils\\validation.py:72: DataConversionWarning: A column-vector y was passed when a 1d array was expected. Please change the shape of y to (n_samples, ), for example using ravel().\n",
      "  return f(**kwargs)\n"
     ]
    },
    {
     "name": "stdout",
     "output_type": "stream",
     "text": [
      "3\n"
     ]
    }
   ],
   "source": [
    "#TIME-SERIES SPLIT\n",
    "\n",
    "tscv = TimeSeriesSplit(n_splits = 3)\n",
    "\n",
    "accuracy = {}\n",
    "class_report = {}\n",
    "count = 1\n",
    "\n",
    "for train_index, test_index in tscv.split(X_binary):\n",
    "\n",
    "    X_train, X_test = X_binary.iloc[train_index], X_binary.iloc[test_index]\n",
    "    y_train, y_test = y_binary.iloc[train_index], y_binary.iloc[test_index]\n",
    "    \n",
    "    clf = HistGradientBoostingClassifier(random_state=0)\n",
    "    \n",
    "    clf = clf.fit(X_train,y_train)\n",
    "\n",
    "    prediction = clf.predict(X_test)\n",
    "    \n",
    "    accuracy[count] = metrics.accuracy_score(y_test, prediction)\n",
    "    class_report[count] = metrics.classification_report(y_test, prediction)\n",
    "    \n",
    "    print(count)\n",
    "    count += 1"
   ]
  },
  {
   "cell_type": "code",
   "execution_count": 123,
   "id": "collectible-insight",
   "metadata": {},
   "outputs": [
    {
     "name": "stdout",
     "output_type": "stream",
     "text": [
      "{1: 0.83876, 2: 0.84388, 3: 0.83832}\n"
     ]
    }
   ],
   "source": [
    "print(accuracy)"
   ]
  },
  {
   "cell_type": "code",
   "execution_count": 124,
   "id": "weird-berlin",
   "metadata": {},
   "outputs": [
    {
     "name": "stdout",
     "output_type": "stream",
     "text": [
      "              precision    recall  f1-score   support\n",
      "\n",
      "       KNOWN       0.87      0.90      0.88     16686\n",
      "     UNKNOWN       0.78      0.72      0.75      8314\n",
      "\n",
      "    accuracy                           0.84     25000\n",
      "   macro avg       0.82      0.81      0.81     25000\n",
      "weighted avg       0.84      0.84      0.84     25000\n",
      "\n",
      "              precision    recall  f1-score   support\n",
      "\n",
      "       KNOWN       0.87      0.92      0.89     18079\n",
      "     UNKNOWN       0.75      0.65      0.70      6921\n",
      "\n",
      "    accuracy                           0.84     25000\n",
      "   macro avg       0.81      0.78      0.80     25000\n",
      "weighted avg       0.84      0.84      0.84     25000\n",
      "\n",
      "              precision    recall  f1-score   support\n",
      "\n",
      "       KNOWN       0.85      0.93      0.89     17027\n",
      "     UNKNOWN       0.80      0.65      0.72      7973\n",
      "\n",
      "    accuracy                           0.84     25000\n",
      "   macro avg       0.83      0.79      0.80     25000\n",
      "weighted avg       0.84      0.84      0.83     25000\n",
      "\n"
     ]
    }
   ],
   "source": [
    "for item in class_report.values():\n",
    "    print(item)"
   ]
  },
  {
   "cell_type": "markdown",
   "id": "other-dance",
   "metadata": {},
   "source": [
    "#### SMOTE"
   ]
  },
  {
   "cell_type": "code",
   "execution_count": 125,
   "id": "active-awareness",
   "metadata": {},
   "outputs": [
    {
     "name": "stderr",
     "output_type": "stream",
     "text": [
      "C:\\Users\\thoma\\Anaconda3\\lib\\site-packages\\sklearn\\utils\\validation.py:72: DataConversionWarning: A column-vector y was passed when a 1d array was expected. Please change the shape of y to (n_samples, ), for example using ravel().\n",
      "  return f(**kwargs)\n"
     ]
    },
    {
     "name": "stdout",
     "output_type": "stream",
     "text": [
      "1\n"
     ]
    },
    {
     "name": "stderr",
     "output_type": "stream",
     "text": [
      "C:\\Users\\thoma\\Anaconda3\\lib\\site-packages\\sklearn\\utils\\validation.py:72: DataConversionWarning: A column-vector y was passed when a 1d array was expected. Please change the shape of y to (n_samples, ), for example using ravel().\n",
      "  return f(**kwargs)\n"
     ]
    },
    {
     "name": "stdout",
     "output_type": "stream",
     "text": [
      "2\n"
     ]
    },
    {
     "name": "stderr",
     "output_type": "stream",
     "text": [
      "C:\\Users\\thoma\\Anaconda3\\lib\\site-packages\\sklearn\\utils\\validation.py:72: DataConversionWarning: A column-vector y was passed when a 1d array was expected. Please change the shape of y to (n_samples, ), for example using ravel().\n",
      "  return f(**kwargs)\n"
     ]
    },
    {
     "name": "stdout",
     "output_type": "stream",
     "text": [
      "3\n"
     ]
    }
   ],
   "source": [
    "#TIME-SERIES SPLIT\n",
    "\n",
    "tscv = TimeSeriesSplit(n_splits = 3)\n",
    "\n",
    "accuracy = {}\n",
    "class_report = {}\n",
    "count = 1\n",
    "\n",
    "for train_index, test_index in tscv.split(X_binary):\n",
    "\n",
    "    X_train, X_test = X_binary.iloc[train_index], X_binary.iloc[test_index]\n",
    "    y_train, y_test = y_binary.iloc[train_index], y_binary.iloc[test_index]\n",
    "    \n",
    "    X_train_sm, y_train_sm = smote.fit_sample(X_train,y_train)\n",
    "    \n",
    "    clf = HistGradientBoostingClassifier(random_state=0)\n",
    "    \n",
    "    clf = clf.fit(X_train_sm,y_train_sm)\n",
    "\n",
    "    prediction = clf.predict(X_test)\n",
    "    \n",
    "    accuracy[count] = metrics.accuracy_score(y_test, prediction)\n",
    "    class_report[count] = metrics.classification_report(y_test, prediction)\n",
    "    \n",
    "    print(count)\n",
    "    count += 1"
   ]
  },
  {
   "cell_type": "code",
   "execution_count": 126,
   "id": "unsigned-kennedy",
   "metadata": {},
   "outputs": [
    {
     "name": "stdout",
     "output_type": "stream",
     "text": [
      "{1: 0.83468, 2: 0.84392, 3: 0.80312}\n"
     ]
    }
   ],
   "source": [
    "print(accuracy)"
   ]
  },
  {
   "cell_type": "code",
   "execution_count": 127,
   "id": "rational-cherry",
   "metadata": {},
   "outputs": [
    {
     "name": "stdout",
     "output_type": "stream",
     "text": [
      "              precision    recall  f1-score   support\n",
      "\n",
      "       KNOWN       0.87      0.89      0.88     16686\n",
      "     UNKNOWN       0.77      0.72      0.74      8314\n",
      "\n",
      "    accuracy                           0.83     25000\n",
      "   macro avg       0.82      0.81      0.81     25000\n",
      "weighted avg       0.83      0.83      0.83     25000\n",
      "\n",
      "              precision    recall  f1-score   support\n",
      "\n",
      "       KNOWN       0.88      0.91      0.89     18079\n",
      "     UNKNOWN       0.74      0.67      0.70      6921\n",
      "\n",
      "    accuracy                           0.84     25000\n",
      "   macro avg       0.81      0.79      0.80     25000\n",
      "weighted avg       0.84      0.84      0.84     25000\n",
      "\n",
      "              precision    recall  f1-score   support\n",
      "\n",
      "       KNOWN       0.91      0.79      0.85     17027\n",
      "     UNKNOWN       0.65      0.83      0.73      7973\n",
      "\n",
      "    accuracy                           0.80     25000\n",
      "   macro avg       0.78      0.81      0.79     25000\n",
      "weighted avg       0.83      0.80      0.81     25000\n",
      "\n"
     ]
    }
   ],
   "source": [
    "for item in class_report.values():\n",
    "    print(item)"
   ]
  },
  {
   "cell_type": "markdown",
   "id": "aerial-henry",
   "metadata": {},
   "source": [
    "## Bagging"
   ]
  },
  {
   "cell_type": "markdown",
   "id": "bound-iceland",
   "metadata": {},
   "source": [
    "### Regular Train/Test Split"
   ]
  },
  {
   "cell_type": "markdown",
   "id": "adapted-maldives",
   "metadata": {},
   "source": [
    "#### Stratified K-fold"
   ]
  },
  {
   "cell_type": "code",
   "execution_count": 55,
   "id": "second-receptor",
   "metadata": {},
   "outputs": [
    {
     "name": "stderr",
     "output_type": "stream",
     "text": [
      "C:\\Users\\thoma\\Anaconda3\\lib\\site-packages\\sklearn\\utils\\validation.py:72: DataConversionWarning: A column-vector y was passed when a 1d array was expected. Please change the shape of y to (n_samples, ), for example using ravel().\n",
      "  return f(**kwargs)\n"
     ]
    },
    {
     "name": "stdout",
     "output_type": "stream",
     "text": [
      "1\n"
     ]
    },
    {
     "name": "stderr",
     "output_type": "stream",
     "text": [
      "C:\\Users\\thoma\\Anaconda3\\lib\\site-packages\\sklearn\\utils\\validation.py:72: DataConversionWarning: A column-vector y was passed when a 1d array was expected. Please change the shape of y to (n_samples, ), for example using ravel().\n",
      "  return f(**kwargs)\n"
     ]
    },
    {
     "name": "stdout",
     "output_type": "stream",
     "text": [
      "2\n"
     ]
    },
    {
     "name": "stderr",
     "output_type": "stream",
     "text": [
      "C:\\Users\\thoma\\Anaconda3\\lib\\site-packages\\sklearn\\utils\\validation.py:72: DataConversionWarning: A column-vector y was passed when a 1d array was expected. Please change the shape of y to (n_samples, ), for example using ravel().\n",
      "  return f(**kwargs)\n"
     ]
    },
    {
     "name": "stdout",
     "output_type": "stream",
     "text": [
      "3\n"
     ]
    }
   ],
   "source": [
    "kf = StratifiedKFold(n_splits = 3, random_state = 0, shuffle = True)\n",
    "\n",
    "accuracy_K = {}\n",
    "class_report_K = {}\n",
    "count = 1\n",
    "\n",
    "for train_index, test_index in kf.split(X_binary, y_binary):\n",
    "\n",
    "    X_train, X_test = X_binary.iloc[train_index], X_binary.iloc[test_index]\n",
    "    y_train, y_test = y_binary.iloc[train_index], y_binary.iloc[test_index]\n",
    "    \n",
    "    clf = BaggingClassifier(n_estimators=10,\n",
    "                              random_state=0)\n",
    "    \n",
    "    clf = clf.fit(X_train,y_train)\n",
    "\n",
    "    prediction = clf.predict(X_test)\n",
    "    \n",
    "    accuracy_K[count] = metrics.accuracy_score(y_test, prediction)\n",
    "    class_report_K[count] = metrics.classification_report(y_test, prediction)\n",
    "    \n",
    "    print(count)\n",
    "    count +=1"
   ]
  },
  {
   "cell_type": "code",
   "execution_count": 56,
   "id": "british-advance",
   "metadata": {},
   "outputs": [
    {
     "name": "stdout",
     "output_type": "stream",
     "text": [
      "{1: 0.8623027539449211, 2: 0.8649686496864969, 3: 0.8668886688866889}\n"
     ]
    }
   ],
   "source": [
    "print(accuracy_K)"
   ]
  },
  {
   "cell_type": "code",
   "execution_count": 57,
   "id": "imposed-remark",
   "metadata": {},
   "outputs": [
    {
     "name": "stdout",
     "output_type": "stream",
     "text": [
      "              precision    recall  f1-score   support\n",
      "\n",
      "       KNOWN       0.88      0.92      0.90     22729\n",
      "     UNKNOWN       0.81      0.74      0.77     10605\n",
      "\n",
      "    accuracy                           0.86     33334\n",
      "   macro avg       0.85      0.83      0.84     33334\n",
      "weighted avg       0.86      0.86      0.86     33334\n",
      "\n",
      "              precision    recall  f1-score   support\n",
      "\n",
      "       KNOWN       0.88      0.92      0.90     22728\n",
      "     UNKNOWN       0.82      0.74      0.78     10605\n",
      "\n",
      "    accuracy                           0.86     33333\n",
      "   macro avg       0.85      0.83      0.84     33333\n",
      "weighted avg       0.86      0.86      0.86     33333\n",
      "\n",
      "              precision    recall  f1-score   support\n",
      "\n",
      "       KNOWN       0.88      0.93      0.90     22728\n",
      "     UNKNOWN       0.82      0.74      0.78     10605\n",
      "\n",
      "    accuracy                           0.87     33333\n",
      "   macro avg       0.85      0.83      0.84     33333\n",
      "weighted avg       0.86      0.87      0.86     33333\n",
      "\n"
     ]
    }
   ],
   "source": [
    "for item in class_report_K.values():\n",
    "    print(item)"
   ]
  },
  {
   "cell_type": "markdown",
   "id": "external-valuation",
   "metadata": {},
   "source": [
    "#### SMOTE Stratified K-fold"
   ]
  },
  {
   "cell_type": "code",
   "execution_count": 58,
   "id": "golden-event",
   "metadata": {},
   "outputs": [
    {
     "name": "stderr",
     "output_type": "stream",
     "text": [
      "C:\\Users\\thoma\\Anaconda3\\lib\\site-packages\\sklearn\\utils\\validation.py:72: DataConversionWarning: A column-vector y was passed when a 1d array was expected. Please change the shape of y to (n_samples, ), for example using ravel().\n",
      "  return f(**kwargs)\n"
     ]
    },
    {
     "name": "stdout",
     "output_type": "stream",
     "text": [
      "1\n"
     ]
    },
    {
     "name": "stderr",
     "output_type": "stream",
     "text": [
      "C:\\Users\\thoma\\Anaconda3\\lib\\site-packages\\sklearn\\utils\\validation.py:72: DataConversionWarning: A column-vector y was passed when a 1d array was expected. Please change the shape of y to (n_samples, ), for example using ravel().\n",
      "  return f(**kwargs)\n"
     ]
    },
    {
     "name": "stdout",
     "output_type": "stream",
     "text": [
      "2\n"
     ]
    },
    {
     "name": "stderr",
     "output_type": "stream",
     "text": [
      "C:\\Users\\thoma\\Anaconda3\\lib\\site-packages\\sklearn\\utils\\validation.py:72: DataConversionWarning: A column-vector y was passed when a 1d array was expected. Please change the shape of y to (n_samples, ), for example using ravel().\n",
      "  return f(**kwargs)\n"
     ]
    },
    {
     "name": "stdout",
     "output_type": "stream",
     "text": [
      "3\n"
     ]
    }
   ],
   "source": [
    "kf = StratifiedKFold(n_splits = 3, random_state = 0, shuffle = True)\n",
    "\n",
    "accuracy_K = {}\n",
    "class_report_K = {}\n",
    "count = 1\n",
    "\n",
    "for train_index, test_index in kf.split(X_binary, y_binary):\n",
    "\n",
    "    X_train, X_test = X_binary.iloc[train_index], X_binary.iloc[test_index]\n",
    "    y_train, y_test = y_binary.iloc[train_index], y_binary.iloc[test_index]\n",
    "    \n",
    "    X_train_sm, y_train_sm = smote.fit_sample(X_train,y_train)\n",
    "    \n",
    "    clf = BaggingClassifier(n_estimators=10,\n",
    "                              random_state=0)\n",
    "    \n",
    "    clf = clf.fit(X_train_sm,y_train_sm)\n",
    "\n",
    "    prediction = clf.predict(X_test)\n",
    "    \n",
    "    accuracy_K[count] = metrics.accuracy_score(y_test, prediction)\n",
    "    class_report_K[count] = metrics.classification_report(y_test, prediction)\n",
    "    \n",
    "    print(count)\n",
    "    count +=1"
   ]
  },
  {
   "cell_type": "code",
   "execution_count": 59,
   "id": "funky-credit",
   "metadata": {},
   "outputs": [
    {
     "name": "stdout",
     "output_type": "stream",
     "text": [
      "{1: 0.8623027539449211, 2: 0.8649686496864969, 3: 0.8668886688866889}\n"
     ]
    }
   ],
   "source": [
    "print(accuracy_K)"
   ]
  },
  {
   "cell_type": "code",
   "execution_count": 60,
   "id": "secure-cornwall",
   "metadata": {},
   "outputs": [
    {
     "name": "stdout",
     "output_type": "stream",
     "text": [
      "              precision    recall  f1-score   support\n",
      "\n",
      "       KNOWN       0.88      0.92      0.90     22729\n",
      "     UNKNOWN       0.81      0.74      0.77     10605\n",
      "\n",
      "    accuracy                           0.86     33334\n",
      "   macro avg       0.85      0.83      0.84     33334\n",
      "weighted avg       0.86      0.86      0.86     33334\n",
      "\n",
      "              precision    recall  f1-score   support\n",
      "\n",
      "       KNOWN       0.88      0.92      0.90     22728\n",
      "     UNKNOWN       0.82      0.74      0.78     10605\n",
      "\n",
      "    accuracy                           0.86     33333\n",
      "   macro avg       0.85      0.83      0.84     33333\n",
      "weighted avg       0.86      0.86      0.86     33333\n",
      "\n",
      "              precision    recall  f1-score   support\n",
      "\n",
      "       KNOWN       0.88      0.93      0.90     22728\n",
      "     UNKNOWN       0.82      0.74      0.78     10605\n",
      "\n",
      "    accuracy                           0.87     33333\n",
      "   macro avg       0.85      0.83      0.84     33333\n",
      "weighted avg       0.86      0.87      0.86     33333\n",
      "\n"
     ]
    }
   ],
   "source": [
    "for item in class_report_K.values():\n",
    "    print(item)"
   ]
  },
  {
   "cell_type": "markdown",
   "id": "imperial-airplane",
   "metadata": {},
   "source": [
    "### Time Series Split"
   ]
  },
  {
   "cell_type": "markdown",
   "id": "herbal-queensland",
   "metadata": {},
   "source": [
    "#### Basic"
   ]
  },
  {
   "cell_type": "code",
   "execution_count": 61,
   "id": "chief-disaster",
   "metadata": {},
   "outputs": [
    {
     "name": "stderr",
     "output_type": "stream",
     "text": [
      "C:\\Users\\thoma\\Anaconda3\\lib\\site-packages\\sklearn\\utils\\validation.py:72: DataConversionWarning: A column-vector y was passed when a 1d array was expected. Please change the shape of y to (n_samples, ), for example using ravel().\n",
      "  return f(**kwargs)\n"
     ]
    },
    {
     "name": "stdout",
     "output_type": "stream",
     "text": [
      "1\n"
     ]
    },
    {
     "name": "stderr",
     "output_type": "stream",
     "text": [
      "C:\\Users\\thoma\\Anaconda3\\lib\\site-packages\\sklearn\\utils\\validation.py:72: DataConversionWarning: A column-vector y was passed when a 1d array was expected. Please change the shape of y to (n_samples, ), for example using ravel().\n",
      "  return f(**kwargs)\n"
     ]
    },
    {
     "name": "stdout",
     "output_type": "stream",
     "text": [
      "2\n"
     ]
    },
    {
     "name": "stderr",
     "output_type": "stream",
     "text": [
      "C:\\Users\\thoma\\Anaconda3\\lib\\site-packages\\sklearn\\utils\\validation.py:72: DataConversionWarning: A column-vector y was passed when a 1d array was expected. Please change the shape of y to (n_samples, ), for example using ravel().\n",
      "  return f(**kwargs)\n"
     ]
    },
    {
     "name": "stdout",
     "output_type": "stream",
     "text": [
      "3\n"
     ]
    }
   ],
   "source": [
    "#TIME-SERIES SPLIT\n",
    "\n",
    "tscv = TimeSeriesSplit(n_splits = 3)\n",
    "\n",
    "accuracy = {}\n",
    "class_report = {}\n",
    "count = 1\n",
    "\n",
    "for train_index, test_index in tscv.split(X_binary):\n",
    "\n",
    "    X_train, X_test = X_binary.iloc[train_index], X_binary.iloc[test_index]\n",
    "    y_train, y_test = y_binary.iloc[train_index], y_binary.iloc[test_index]\n",
    "    \n",
    "    clf = BaggingClassifier(n_estimators=10,\n",
    "                            random_state=0)\n",
    "    \n",
    "    clf = clf.fit(X_train,y_train)\n",
    "\n",
    "    prediction = clf.predict(X_test)\n",
    "    \n",
    "    accuracy[count] = metrics.accuracy_score(y_test, prediction)\n",
    "    class_report[count] = metrics.classification_report(y_test, prediction)\n",
    "    \n",
    "    print(count)\n",
    "    count += 1"
   ]
  },
  {
   "cell_type": "code",
   "execution_count": 62,
   "id": "ambient-skating",
   "metadata": {},
   "outputs": [
    {
     "name": "stdout",
     "output_type": "stream",
     "text": [
      "{1: 0.82344, 2: 0.81772, 3: 0.80748}\n"
     ]
    }
   ],
   "source": [
    "print(accuracy)"
   ]
  },
  {
   "cell_type": "code",
   "execution_count": 63,
   "id": "bound-basin",
   "metadata": {},
   "outputs": [
    {
     "name": "stdout",
     "output_type": "stream",
     "text": [
      "              precision    recall  f1-score   support\n",
      "\n",
      "       KNOWN       0.85      0.89      0.87     16686\n",
      "     UNKNOWN       0.76      0.68      0.72      8314\n",
      "\n",
      "    accuracy                           0.82     25000\n",
      "   macro avg       0.81      0.79      0.80     25000\n",
      "weighted avg       0.82      0.82      0.82     25000\n",
      "\n",
      "              precision    recall  f1-score   support\n",
      "\n",
      "       KNOWN       0.86      0.90      0.88     18079\n",
      "     UNKNOWN       0.69      0.61      0.65      6921\n",
      "\n",
      "    accuracy                           0.82     25000\n",
      "   macro avg       0.78      0.75      0.76     25000\n",
      "weighted avg       0.81      0.82      0.81     25000\n",
      "\n",
      "              precision    recall  f1-score   support\n",
      "\n",
      "       KNOWN       0.84      0.89      0.86     17027\n",
      "     UNKNOWN       0.73      0.63      0.68      7973\n",
      "\n",
      "    accuracy                           0.81     25000\n",
      "   macro avg       0.78      0.76      0.77     25000\n",
      "weighted avg       0.80      0.81      0.80     25000\n",
      "\n"
     ]
    }
   ],
   "source": [
    "for item in class_report.values():\n",
    "    print(item)"
   ]
  },
  {
   "cell_type": "markdown",
   "id": "classified-configuration",
   "metadata": {},
   "source": [
    "#### SMOTE"
   ]
  },
  {
   "cell_type": "code",
   "execution_count": 64,
   "id": "electric-coast",
   "metadata": {},
   "outputs": [
    {
     "name": "stderr",
     "output_type": "stream",
     "text": [
      "C:\\Users\\thoma\\Anaconda3\\lib\\site-packages\\sklearn\\utils\\validation.py:72: DataConversionWarning: A column-vector y was passed when a 1d array was expected. Please change the shape of y to (n_samples, ), for example using ravel().\n",
      "  return f(**kwargs)\n"
     ]
    },
    {
     "name": "stdout",
     "output_type": "stream",
     "text": [
      "1\n"
     ]
    },
    {
     "name": "stderr",
     "output_type": "stream",
     "text": [
      "C:\\Users\\thoma\\Anaconda3\\lib\\site-packages\\sklearn\\utils\\validation.py:72: DataConversionWarning: A column-vector y was passed when a 1d array was expected. Please change the shape of y to (n_samples, ), for example using ravel().\n",
      "  return f(**kwargs)\n"
     ]
    },
    {
     "name": "stdout",
     "output_type": "stream",
     "text": [
      "2\n"
     ]
    },
    {
     "name": "stderr",
     "output_type": "stream",
     "text": [
      "C:\\Users\\thoma\\Anaconda3\\lib\\site-packages\\sklearn\\utils\\validation.py:72: DataConversionWarning: A column-vector y was passed when a 1d array was expected. Please change the shape of y to (n_samples, ), for example using ravel().\n",
      "  return f(**kwargs)\n"
     ]
    },
    {
     "name": "stdout",
     "output_type": "stream",
     "text": [
      "3\n"
     ]
    }
   ],
   "source": [
    "#TIME-SERIES SPLIT\n",
    "\n",
    "tscv = TimeSeriesSplit(n_splits = 3)\n",
    "\n",
    "accuracy = {}\n",
    "class_report = {}\n",
    "count = 1\n",
    "\n",
    "for train_index, test_index in tscv.split(X_binary):\n",
    "\n",
    "    X_train, X_test = X_binary.iloc[train_index], X_binary.iloc[test_index]\n",
    "    y_train, y_test = y_binary.iloc[train_index], y_binary.iloc[test_index]\n",
    "    \n",
    "    X_train_sm, y_train_sm = smote.fit_sample(X_train,y_train)\n",
    "    \n",
    "    clf = BaggingClassifier(n_estimators=10,\n",
    "                            random_state=0)\n",
    "    \n",
    "    clf = clf.fit(X_train_sm,y_train_sm)\n",
    "\n",
    "    prediction = clf.predict(X_test)\n",
    "    \n",
    "    accuracy[count] = metrics.accuracy_score(y_test, prediction)\n",
    "    class_report[count] = metrics.classification_report(y_test, prediction)\n",
    "    \n",
    "    print(count)\n",
    "    count += 1"
   ]
  },
  {
   "cell_type": "code",
   "execution_count": 65,
   "id": "sensitive-helena",
   "metadata": {},
   "outputs": [
    {
     "name": "stdout",
     "output_type": "stream",
     "text": [
      "{1: 0.82344, 2: 0.81772, 3: 0.80748}\n"
     ]
    }
   ],
   "source": [
    "print(accuracy)"
   ]
  },
  {
   "cell_type": "code",
   "execution_count": 66,
   "id": "engaging-range",
   "metadata": {},
   "outputs": [
    {
     "name": "stdout",
     "output_type": "stream",
     "text": [
      "              precision    recall  f1-score   support\n",
      "\n",
      "       KNOWN       0.85      0.89      0.87     16686\n",
      "     UNKNOWN       0.76      0.68      0.72      8314\n",
      "\n",
      "    accuracy                           0.82     25000\n",
      "   macro avg       0.81      0.79      0.80     25000\n",
      "weighted avg       0.82      0.82      0.82     25000\n",
      "\n",
      "              precision    recall  f1-score   support\n",
      "\n",
      "       KNOWN       0.86      0.90      0.88     18079\n",
      "     UNKNOWN       0.69      0.61      0.65      6921\n",
      "\n",
      "    accuracy                           0.82     25000\n",
      "   macro avg       0.78      0.75      0.76     25000\n",
      "weighted avg       0.81      0.82      0.81     25000\n",
      "\n",
      "              precision    recall  f1-score   support\n",
      "\n",
      "       KNOWN       0.84      0.89      0.86     17027\n",
      "     UNKNOWN       0.73      0.63      0.68      7973\n",
      "\n",
      "    accuracy                           0.81     25000\n",
      "   macro avg       0.78      0.76      0.77     25000\n",
      "weighted avg       0.80      0.81      0.80     25000\n",
      "\n"
     ]
    }
   ],
   "source": [
    "for item in class_report.values():\n",
    "    print(item)"
   ]
  },
  {
   "cell_type": "markdown",
   "id": "employed-decimal",
   "metadata": {},
   "source": [
    "## Random Forest"
   ]
  },
  {
   "cell_type": "markdown",
   "id": "greatest-funds",
   "metadata": {},
   "source": [
    "### Regular Train/Test Split"
   ]
  },
  {
   "cell_type": "markdown",
   "id": "collaborative-trainer",
   "metadata": {},
   "source": [
    "#### Stratified K-fold"
   ]
  },
  {
   "cell_type": "code",
   "execution_count": 196,
   "id": "level-threshold",
   "metadata": {},
   "outputs": [
    {
     "name": "stderr",
     "output_type": "stream",
     "text": [
      "<ipython-input-196-1b643471391a>:16: DataConversionWarning: A column-vector y was passed when a 1d array was expected. Please change the shape of y to (n_samples,), for example using ravel().\n",
      "  rfclf = rfclf.fit(X_train,y_train)\n"
     ]
    },
    {
     "name": "stdout",
     "output_type": "stream",
     "text": [
      "1\n"
     ]
    },
    {
     "name": "stderr",
     "output_type": "stream",
     "text": [
      "<ipython-input-196-1b643471391a>:16: DataConversionWarning: A column-vector y was passed when a 1d array was expected. Please change the shape of y to (n_samples,), for example using ravel().\n",
      "  rfclf = rfclf.fit(X_train,y_train)\n"
     ]
    },
    {
     "name": "stdout",
     "output_type": "stream",
     "text": [
      "2\n"
     ]
    },
    {
     "name": "stderr",
     "output_type": "stream",
     "text": [
      "<ipython-input-196-1b643471391a>:16: DataConversionWarning: A column-vector y was passed when a 1d array was expected. Please change the shape of y to (n_samples,), for example using ravel().\n",
      "  rfclf = rfclf.fit(X_train,y_train)\n"
     ]
    },
    {
     "name": "stdout",
     "output_type": "stream",
     "text": [
      "3\n"
     ]
    }
   ],
   "source": [
    "kf = StratifiedKFold(n_splits = 3, random_state = 0, shuffle = True)\n",
    "\n",
    "accuracy_K = {}\n",
    "class_report_K = {}\n",
    "count = 1\n",
    "\n",
    "for train_index, test_index in kf.split(X_binary, y_binary):\n",
    "\n",
    "    X_train, X_test = X_binary.iloc[train_index], X_binary.iloc[test_index]\n",
    "    y_train, y_test = y_binary.iloc[train_index], y_binary.iloc[test_index]\n",
    "    \n",
    "    clf = RandomForestClassifier(n_estimators=10,\n",
    "                                 random_state=0,\n",
    "                                 class_weight='balanced')\n",
    "    \n",
    "    clf = clf.fit(X_train,y_train)\n",
    "\n",
    "    prediction = clf.predict(X_test)\n",
    "    \n",
    "    accuracy_K[count] = metrics.accuracy_score(y_test, prediction)\n",
    "    class_report_K[count] = metrics.classification_report(y_test, prediction)\n",
    "    \n",
    "    print(count)\n",
    "    count +=1"
   ]
  },
  {
   "cell_type": "code",
   "execution_count": 197,
   "id": "individual-bridal",
   "metadata": {},
   "outputs": [
    {
     "name": "stdout",
     "output_type": "stream",
     "text": [
      "{1: 0.8565728685426292, 2: 0.8521885218852189, 3: 0.8536285362853628}\n"
     ]
    }
   ],
   "source": [
    "print(accuracy_K)"
   ]
  },
  {
   "cell_type": "code",
   "execution_count": 198,
   "id": "intelligent-values",
   "metadata": {},
   "outputs": [
    {
     "name": "stdout",
     "output_type": "stream",
     "text": [
      "              precision    recall  f1-score   support\n",
      "\n",
      "       KNOWN       0.87      0.93      0.90     22677\n",
      "     UNKNOWN       0.82      0.70      0.76     10657\n",
      "\n",
      "    accuracy                           0.86     33334\n",
      "   macro avg       0.85      0.82      0.83     33334\n",
      "weighted avg       0.85      0.86      0.85     33334\n",
      "\n",
      "              precision    recall  f1-score   support\n",
      "\n",
      "       KNOWN       0.87      0.92      0.89     22676\n",
      "     UNKNOWN       0.81      0.70      0.75     10657\n",
      "\n",
      "    accuracy                           0.85     33333\n",
      "   macro avg       0.84      0.81      0.82     33333\n",
      "weighted avg       0.85      0.85      0.85     33333\n",
      "\n",
      "              precision    recall  f1-score   support\n",
      "\n",
      "       KNOWN       0.87      0.92      0.90     22676\n",
      "     UNKNOWN       0.81      0.70      0.75     10657\n",
      "\n",
      "    accuracy                           0.85     33333\n",
      "   macro avg       0.84      0.81      0.83     33333\n",
      "weighted avg       0.85      0.85      0.85     33333\n",
      "\n"
     ]
    }
   ],
   "source": [
    "for item in class_report_K.values():\n",
    "    print(item)"
   ]
  },
  {
   "cell_type": "code",
   "execution_count": 178,
   "id": "lesser-aspect",
   "metadata": {},
   "outputs": [
    {
     "data": {
      "image/png": "[encoded data removed]",
      "text/plain": [
       "<Figure size 288x288 with 1 Axes>"
      ]
     },
     "metadata": {
      "needs_background": "light"
     },
     "output_type": "display_data"
    }
   ],
   "source": [
    "plt.rcParams.update({'font.size': 6})\n",
    "importanceDF = pd.DataFrame(clf.feature_importances_,index=X_col,columns=['importance']).sort_values('importance',ascending=False)\n",
    "importanceDF.plot.bar(figsize=(4,4))\n",
    "plt.show()"
   ]
  },
  {
   "cell_type": "markdown",
   "id": "elect-study",
   "metadata": {},
   "source": [
    "#### SMOTE Stratified K-fold"
   ]
  },
  {
   "cell_type": "code",
   "execution_count": 199,
   "id": "happy-colleague",
   "metadata": {},
   "outputs": [
    {
     "name": "stderr",
     "output_type": "stream",
     "text": [
      "<ipython-input-199-b640dbf5c81e>:18: DataConversionWarning: A column-vector y was passed when a 1d array was expected. Please change the shape of y to (n_samples,), for example using ravel().\n",
      "  rfclf = rfclf.fit(X_train,y_train)\n"
     ]
    },
    {
     "name": "stdout",
     "output_type": "stream",
     "text": [
      "1\n"
     ]
    },
    {
     "name": "stderr",
     "output_type": "stream",
     "text": [
      "<ipython-input-199-b640dbf5c81e>:18: DataConversionWarning: A column-vector y was passed when a 1d array was expected. Please change the shape of y to (n_samples,), for example using ravel().\n",
      "  rfclf = rfclf.fit(X_train,y_train)\n"
     ]
    },
    {
     "name": "stdout",
     "output_type": "stream",
     "text": [
      "2\n"
     ]
    },
    {
     "name": "stderr",
     "output_type": "stream",
     "text": [
      "<ipython-input-199-b640dbf5c81e>:18: DataConversionWarning: A column-vector y was passed when a 1d array was expected. Please change the shape of y to (n_samples,), for example using ravel().\n",
      "  rfclf = rfclf.fit(X_train,y_train)\n"
     ]
    },
    {
     "name": "stdout",
     "output_type": "stream",
     "text": [
      "3\n"
     ]
    }
   ],
   "source": [
    "kf = StratifiedKFold(n_splits = 3, random_state = 0, shuffle = True)\n",
    "\n",
    "accuracy_K = {}\n",
    "class_report_K = {}\n",
    "count = 1\n",
    "\n",
    "for train_index, test_index in kf.split(X_binary, y_binary):\n",
    "\n",
    "    X_train, X_test = X_binary.iloc[train_index], X_binary.iloc[test_index]\n",
    "    y_train, y_test = y_binary.iloc[train_index], y_binary.iloc[test_index]\n",
    "    \n",
    "    X_train_sm, y_train_sm = smote.fit_sample(X_train,y_train)\n",
    "    \n",
    "    clf = RandomForestClassifier(n_estimators=10,\n",
    "                                 random_state=0,\n",
    "                                 class_weight='balanced')\n",
    "    \n",
    "    clf = clf.fit(X_train_sm,y_train_sm)\n",
    "\n",
    "    prediction = clf.predict(X_test)\n",
    "    \n",
    "    accuracy_K[count] = metrics.accuracy_score(y_test, prediction)\n",
    "    class_report_K[count] = metrics.classification_report(y_test, prediction)\n",
    "    \n",
    "    print(count)\n",
    "    count +=1"
   ]
  },
  {
   "cell_type": "code",
   "execution_count": 200,
   "id": "specified-draft",
   "metadata": {},
   "outputs": [
    {
     "name": "stdout",
     "output_type": "stream",
     "text": [
      "{1: 0.8565728685426292, 2: 0.8521885218852189, 3: 0.8536285362853628}\n"
     ]
    }
   ],
   "source": [
    "print(accuracy_K)"
   ]
  },
  {
   "cell_type": "code",
   "execution_count": 201,
   "id": "ready-january",
   "metadata": {},
   "outputs": [
    {
     "name": "stdout",
     "output_type": "stream",
     "text": [
      "              precision    recall  f1-score   support\n",
      "\n",
      "       KNOWN       0.87      0.93      0.90     22677\n",
      "     UNKNOWN       0.82      0.70      0.76     10657\n",
      "\n",
      "    accuracy                           0.86     33334\n",
      "   macro avg       0.85      0.82      0.83     33334\n",
      "weighted avg       0.85      0.86      0.85     33334\n",
      "\n",
      "              precision    recall  f1-score   support\n",
      "\n",
      "       KNOWN       0.87      0.92      0.89     22676\n",
      "     UNKNOWN       0.81      0.70      0.75     10657\n",
      "\n",
      "    accuracy                           0.85     33333\n",
      "   macro avg       0.84      0.81      0.82     33333\n",
      "weighted avg       0.85      0.85      0.85     33333\n",
      "\n",
      "              precision    recall  f1-score   support\n",
      "\n",
      "       KNOWN       0.87      0.92      0.90     22676\n",
      "     UNKNOWN       0.81      0.70      0.75     10657\n",
      "\n",
      "    accuracy                           0.85     33333\n",
      "   macro avg       0.84      0.81      0.83     33333\n",
      "weighted avg       0.85      0.85      0.85     33333\n",
      "\n"
     ]
    }
   ],
   "source": [
    "for item in class_report_K.values():\n",
    "    print(item)"
   ]
  },
  {
   "cell_type": "markdown",
   "id": "false-advancement",
   "metadata": {},
   "source": [
    "### Time Series Split"
   ]
  },
  {
   "cell_type": "markdown",
   "id": "understanding-excerpt",
   "metadata": {},
   "source": [
    "#### Basic"
   ]
  },
  {
   "cell_type": "code",
   "execution_count": 202,
   "id": "mounted-batch",
   "metadata": {},
   "outputs": [
    {
     "name": "stderr",
     "output_type": "stream",
     "text": [
      "<ipython-input-202-e181d623384f>:16: DataConversionWarning: A column-vector y was passed when a 1d array was expected. Please change the shape of y to (n_samples,), for example using ravel().\n",
      "  rfclf = rfclf.fit(X_train,y_train)\n"
     ]
    },
    {
     "name": "stdout",
     "output_type": "stream",
     "text": [
      "1\n"
     ]
    },
    {
     "name": "stderr",
     "output_type": "stream",
     "text": [
      "<ipython-input-202-e181d623384f>:16: DataConversionWarning: A column-vector y was passed when a 1d array was expected. Please change the shape of y to (n_samples,), for example using ravel().\n",
      "  rfclf = rfclf.fit(X_train,y_train)\n"
     ]
    },
    {
     "name": "stdout",
     "output_type": "stream",
     "text": [
      "2\n"
     ]
    },
    {
     "name": "stderr",
     "output_type": "stream",
     "text": [
      "<ipython-input-202-e181d623384f>:16: DataConversionWarning: A column-vector y was passed when a 1d array was expected. Please change the shape of y to (n_samples,), for example using ravel().\n",
      "  rfclf = rfclf.fit(X_train,y_train)\n"
     ]
    },
    {
     "name": "stdout",
     "output_type": "stream",
     "text": [
      "3\n"
     ]
    }
   ],
   "source": [
    "tscv = TimeSeriesSplit(n_splits = 3)\n",
    "\n",
    "accuracy = {}\n",
    "class_report = {}\n",
    "count = 1\n",
    "\n",
    "for train_index, test_index in tscv.split(X_binary):\n",
    "\n",
    "    X_train, X_test = X_binary.iloc[train_index], X_binary.iloc[test_index]\n",
    "    y_train, y_test = y_binary.iloc[train_index], y_binary.iloc[test_index]\n",
    "     \n",
    "    clf = RandomForestClassifier(n_estimators=10,\n",
    "                                 random_state=0,\n",
    "                                 class_weight='balanced')\n",
    "    \n",
    "    clf = clf.fit(X_train,y_train)\n",
    "\n",
    "    prediction = clf.predict(X_test)\n",
    "    \n",
    "    accuracy[count] = metrics.accuracy_score(y_test, prediction)\n",
    "    class_report[count] = metrics.classification_report(y_test, prediction)\n",
    "    \n",
    "    print(count)\n",
    "    count +=1"
   ]
  },
  {
   "cell_type": "code",
   "execution_count": 203,
   "id": "controlling-theorem",
   "metadata": {},
   "outputs": [
    {
     "name": "stdout",
     "output_type": "stream",
     "text": [
      "{1: 0.82024, 2: 0.83024, 3: 0.82256}\n"
     ]
    }
   ],
   "source": [
    "print(accuracy)"
   ]
  },
  {
   "cell_type": "code",
   "execution_count": 180,
   "id": "domestic-touch",
   "metadata": {},
   "outputs": [
    {
     "name": "stdout",
     "output_type": "stream",
     "text": [
      "              precision    recall  f1-score   support\n",
      "\n",
      "       KNOWN       0.84      0.90      0.87     16663\n",
      "     UNKNOWN       0.77      0.66      0.71      8337\n",
      "\n",
      "    accuracy                           0.82     25000\n",
      "   macro avg       0.80      0.78      0.79     25000\n",
      "weighted avg       0.82      0.82      0.82     25000\n",
      "\n",
      "              precision    recall  f1-score   support\n",
      "\n",
      "       KNOWN       0.85      0.93      0.89     18105\n",
      "     UNKNOWN       0.76      0.57      0.65      6895\n",
      "\n",
      "    accuracy                           0.83     25000\n",
      "   macro avg       0.80      0.75      0.77     25000\n",
      "weighted avg       0.82      0.83      0.82     25000\n",
      "\n",
      "              precision    recall  f1-score   support\n",
      "\n",
      "       KNOWN       0.82      0.94      0.88     16999\n",
      "     UNKNOWN       0.82      0.57      0.67      8001\n",
      "\n",
      "    accuracy                           0.82     25000\n",
      "   macro avg       0.82      0.76      0.78     25000\n",
      "weighted avg       0.82      0.82      0.81     25000\n",
      "\n"
     ]
    }
   ],
   "source": [
    "for item in class_report.values():\n",
    "    print(item)"
   ]
  },
  {
   "cell_type": "code",
   "execution_count": 181,
   "id": "characteristic-boards",
   "metadata": {},
   "outputs": [
    {
     "data": {
      "image/png": "[encoded data removed]",
      "text/plain": [
       "<Figure size 288x288 with 1 Axes>"
      ]
     },
     "metadata": {
      "needs_background": "light"
     },
     "output_type": "display_data"
    }
   ],
   "source": [
    "plt.rcParams.update({'font.size': 6})\n",
    "importanceDF = pd.DataFrame(clf.feature_importances_,index=X_col,columns=['importance']).sort_values('importance',ascending=False)\n",
    "importanceDF.plot.bar(figsize=(4,4))\n",
    "plt.show()"
   ]
  },
  {
   "cell_type": "markdown",
   "id": "hourly-institution",
   "metadata": {},
   "source": [
    "#### SMOTE"
   ]
  },
  {
   "cell_type": "code",
   "execution_count": 204,
   "id": "senior-series",
   "metadata": {},
   "outputs": [
    {
     "name": "stderr",
     "output_type": "stream",
     "text": [
      "<ipython-input-204-1cf78784fc00>:18: DataConversionWarning: A column-vector y was passed when a 1d array was expected. Please change the shape of y to (n_samples,), for example using ravel().\n",
      "  rfclf = rfclf.fit(X_train,y_train)\n"
     ]
    },
    {
     "name": "stdout",
     "output_type": "stream",
     "text": [
      "1\n"
     ]
    },
    {
     "name": "stderr",
     "output_type": "stream",
     "text": [
      "<ipython-input-204-1cf78784fc00>:18: DataConversionWarning: A column-vector y was passed when a 1d array was expected. Please change the shape of y to (n_samples,), for example using ravel().\n",
      "  rfclf = rfclf.fit(X_train,y_train)\n"
     ]
    },
    {
     "name": "stdout",
     "output_type": "stream",
     "text": [
      "2\n"
     ]
    },
    {
     "name": "stderr",
     "output_type": "stream",
     "text": [
      "<ipython-input-204-1cf78784fc00>:18: DataConversionWarning: A column-vector y was passed when a 1d array was expected. Please change the shape of y to (n_samples,), for example using ravel().\n",
      "  rfclf = rfclf.fit(X_train,y_train)\n"
     ]
    },
    {
     "name": "stdout",
     "output_type": "stream",
     "text": [
      "3\n"
     ]
    }
   ],
   "source": [
    "tscv = TimeSeriesSplit(n_splits = 3)\n",
    "\n",
    "accuracy = {}\n",
    "class_report = {}\n",
    "count = 1\n",
    "\n",
    "for train_index, test_index in tscv.split(X_binary):\n",
    "\n",
    "    X_train, X_test = X_binary.iloc[train_index], X_binary.iloc[test_index]\n",
    "    y_train, y_test = y_binary.iloc[train_index], y_binary.iloc[test_index]\n",
    "    \n",
    "    X_train_sm, y_train_sm = smote.fit_sample(X_train,y_train)\n",
    "    \n",
    "    clf = RandomForestClassifier(n_estimators=10,\n",
    "                                 random_state=0,\n",
    "                                 class_weight='balanced')\n",
    "    \n",
    "    clf = clf.fit(X_train_sm,y_train_sm)\n",
    "\n",
    "    prediction = clf.predict(X_test)\n",
    "    \n",
    "    accuracy[count] = metrics.accuracy_score(y_test, prediction)\n",
    "    class_report[count] = metrics.classification_report(y_test, prediction)\n",
    "    \n",
    "    print(count)\n",
    "    count +=1"
   ]
  },
  {
   "cell_type": "code",
   "execution_count": null,
   "id": "inner-sterling",
   "metadata": {},
   "outputs": [],
   "source": [
    "print(accuracy)"
   ]
  },
  {
   "cell_type": "code",
   "execution_count": 164,
   "id": "loved-honduras",
   "metadata": {},
   "outputs": [
    {
     "name": "stdout",
     "output_type": "stream",
     "text": [
      "              precision    recall  f1-score   support\n",
      "\n",
      "       KNOWN       0.84      0.90      0.87     16663\n",
      "     UNKNOWN       0.77      0.66      0.71      8337\n",
      "\n",
      "    accuracy                           0.82     25000\n",
      "   macro avg       0.80      0.78      0.79     25000\n",
      "weighted avg       0.82      0.82      0.82     25000\n",
      "\n",
      "              precision    recall  f1-score   support\n",
      "\n",
      "       KNOWN       0.85      0.93      0.89     18105\n",
      "     UNKNOWN       0.76      0.57      0.65      6895\n",
      "\n",
      "    accuracy                           0.83     25000\n",
      "   macro avg       0.80      0.75      0.77     25000\n",
      "weighted avg       0.82      0.83      0.82     25000\n",
      "\n",
      "              precision    recall  f1-score   support\n",
      "\n",
      "       KNOWN       0.82      0.94      0.88     16999\n",
      "     UNKNOWN       0.82      0.57      0.67      8001\n",
      "\n",
      "    accuracy                           0.82     25000\n",
      "   macro avg       0.82      0.76      0.78     25000\n",
      "weighted avg       0.82      0.82      0.81     25000\n",
      "\n"
     ]
    }
   ],
   "source": [
    "for item in class_report.values():\n",
    "    print(item)"
   ]
  },
  {
   "cell_type": "markdown",
   "id": "resistant-pavilion",
   "metadata": {},
   "source": [
    "# Not Yet Working: Neural Network"
   ]
  },
  {
   "cell_type": "code",
   "execution_count": 208,
   "id": "demanding-indonesia",
   "metadata": {},
   "outputs": [],
   "source": [
    "from keras.models import Sequential\n",
    "from keras.layers import Dense\n",
    "from keras.optimizers import SGD\n",
    "from keras.utils import to_categorical"
   ]
  },
  {
   "cell_type": "code",
   "execution_count": 209,
   "id": "robust-appearance",
   "metadata": {},
   "outputs": [],
   "source": [
    "model = Sequential()\n",
    "model.add(Dense(12, input_dim=31, activation='relu'))\n",
    "model.add(Dense(8, activation='relu'))\n",
    "model.add(Dense(3, activation='softmax'))\n",
    "opt = SGD(lr=0.01, momentum=0.9)"
   ]
  },
  {
   "cell_type": "code",
   "execution_count": 210,
   "id": "common-fault",
   "metadata": {},
   "outputs": [],
   "source": [
    "model.compile(loss='categorical_crossentropy', optimizer=opt, metrics=['accuracy'])"
   ]
  },
  {
   "cell_type": "code",
   "execution_count": 211,
   "id": "smaller-memorial",
   "metadata": {
    "collapsed": true,
    "jupyter": {
     "outputs_hidden": true
    }
   },
   "outputs": [
    {
     "ename": "ValueError",
     "evalue": "Failed to convert a NumPy array to a Tensor (Unsupported object type float).",
     "output_type": "error",
     "traceback": [
      "\u001b[1;31m---------------------------------------------------------------------------\u001b[0m",
      "\u001b[1;31mTypeError\u001b[0m                                 Traceback (most recent call last)",
      "\u001b[1;32m~\\Anaconda3\\lib\\site-packages\\tensorflow\\python\\data\\util\\structure.py\u001b[0m in \u001b[0;36mnormalize_element\u001b[1;34m(element)\u001b[0m\n\u001b[0;32m     92\u001b[0m       \u001b[1;32mtry\u001b[0m\u001b[1;33m:\u001b[0m\u001b[1;33m\u001b[0m\u001b[1;33m\u001b[0m\u001b[0m\n\u001b[1;32m---> 93\u001b[1;33m         \u001b[0mspec\u001b[0m \u001b[1;33m=\u001b[0m \u001b[0mtype_spec_from_value\u001b[0m\u001b[1;33m(\u001b[0m\u001b[0mt\u001b[0m\u001b[1;33m,\u001b[0m \u001b[0muse_fallback\u001b[0m\u001b[1;33m=\u001b[0m\u001b[1;32mFalse\u001b[0m\u001b[1;33m)\u001b[0m\u001b[1;33m\u001b[0m\u001b[1;33m\u001b[0m\u001b[0m\n\u001b[0m\u001b[0;32m     94\u001b[0m       \u001b[1;32mexcept\u001b[0m \u001b[0mTypeError\u001b[0m\u001b[1;33m:\u001b[0m\u001b[1;33m\u001b[0m\u001b[1;33m\u001b[0m\u001b[0m\n",
      "\u001b[1;32m~\\Anaconda3\\lib\\site-packages\\tensorflow\\python\\data\\util\\structure.py\u001b[0m in \u001b[0;36mtype_spec_from_value\u001b[1;34m(element, use_fallback)\u001b[0m\n\u001b[0;32m    464\u001b[0m \u001b[1;33m\u001b[0m\u001b[0m\n\u001b[1;32m--> 465\u001b[1;33m   raise TypeError(\"Could not build a TypeSpec for %r with type %s\" %\n\u001b[0m\u001b[0;32m    466\u001b[0m                   (element, type(element).__name__))\n",
      "\u001b[1;31mTypeError\u001b[0m: Could not build a TypeSpec for        totalPrice  quantityOrdered  promisedDeliveryDays  orderCorona  \\\n0           14.99                1                     3         True   \n1           13.95                1                     2         True   \n4           26.95                1                     2         True   \n5           44.95                1                     2         True   \n7           22.50                1                     2         True   \n...           ...              ...                   ...          ...   \n99993       10.99                1                     2         True   \n99994       28.95                1                     1         True   \n99995       19.90                1                     1         True   \n99998        8.95                1                     5         True   \n99999       49.95                1                     5         True   \n\n       partnerSellingMonths  countryCodeNL  fulfilmentByBol  countryOriginNL  \\\n0                        39           True            False             True   \n1                        22           True             True             True   \n4                        20           True             True             True   \n5                        72           True             True             True   \n7                        20           True             True             True   \n...                     ...            ...              ...              ...   \n99993                    42          False            False             True   \n99994                    89           True            False             True   \n99995                    22           True            False             True   \n99998                    17           True            False             True   \n99999                    82           True            False             True   \n\n       countryOriginBE  countryOriginDE  orderWeekend  orderMonday  \\\n0                False            False         False        False   \n1                False            False         False        False   \n4                False            False         False        False   \n5                False            False         False        False   \n7                False            False         False        False   \n...                ...              ...           ...          ...   \n99993            False            False         False        False   \n99994            False            False         False        False   \n99995            False            False         False        False   \n99998            False            False         False        False   \n99999            False            False         False        False   \n\n       orderTuesday  orderWednesday  orderThursday  orderFriday  \\\n0              True           False          False        False   \n1              True           False          False        False   \n4              True           False          False        False   \n5              True           False          False        False   \n7              True           False          False        False   \n...             ...             ...            ...          ...   \n99993         False            True          False        False   \n99994         False            True          False        False   \n99995         False            True          False        False   \n99998         False            True          False        False   \n99999         False            True          False        False   \n\n       orderSaturday  orderSunday  orderJanuary  orderFebruary  orderMarch  \\\n0              False        False          True          False       False   \n1              False        False          True          False       False   \n4              False        False          True          False       False   \n5              False        False          True          False       False   \n7              False        False          True          False       False   \n...              ...          ...           ...            ...         ...   \n99993          False        False         False          False       False   \n99994          False        False         False          False       False   \n99995          False        False         False          False       False   \n99998          False        False         False          False       False   \n99999          False        False         False          False       False   \n\n       orderApril  orderMay  orderJune  orderJuly  orderAugust  \\\n0           False     False      False      False        False   \n1           False     False      False      False        False   \n4           False     False      False      False        False   \n5           False     False      False      False        False   \n7           False     False      False      False        False   \n...           ...       ...        ...        ...          ...   \n99993       False     False      False      False        False   \n99994       False     False      False      False        False   \n99995       False     False      False      False        False   \n99998       False     False      False      False        False   \n99999       False     False      False      False        False   \n\n       orderSeptember  orderOctober  orderNovember  orderDecember  \\\n0               False         False          False          False   \n1               False         False          False          False   \n4               False         False          False          False   \n5               False         False          False          False   \n7               False         False          False          False   \n...               ...           ...            ...            ...   \n99993           False         False          False           True   \n99994           False         False          False           True   \n99995           False         False          False           True   \n99998           False         False          False           True   \n99999           False         False          False           True   \n\n       productTitleLength  productOrderCount  productReturnFraction  \\\n0                      48                  1                  0.000   \n1                     213                  3                  0.000   \n4                      36                  1                  0.000   \n5                      40                  1                  0.000   \n7                     138                  1                  0.000   \n...                   ...                ...                    ...   \n99993                  50                  1                  0.000   \n99994                  49                  2                  0.000   \n99995                  33                  2                  0.000   \n99998                 105                  8                  0.125   \n99999                  60                 37                  0.000   \n\n       orderYear2020  groupComputer  groupFood  groupBooks  groupHealth  \\\n0              False          False      False       False         True   \n1              False          False      False       False        False   \n4              False           True      False       False        False   \n5              False          False      False       False        False   \n7              False           True      False       False        False   \n...              ...            ...        ...         ...          ...   \n99993           True          False      False       False        False   \n99994           True           True      False       False        False   \n99995           True          False      False       False        False   \n99998           True          False      False       False         True   \n99999           True           True      False       False        False   \n\n       groupToys  groupSports  groupHome  groupOffice  groupPets  groupMusic  \\\n0          False        False      False        False      False       False   \n1          False         True      False        False      False       False   \n4          False        False      False        False      False       False   \n5          False         True      False        False      False       False   \n7          False        False      False        False      False       False   \n...          ...          ...        ...          ...        ...         ...   \n99993      False        False      False        False      False       False   \n99994      False        False      False        False      False       False   \n99995      False        False      False        False       True       False   \n99998      False        False      False        False      False       False   \n99999      False        False      False        False      False       False   \n\n       groupFashion  groupBaby  groupOther  groupCar  \n0             False      False       False     False  \n1             False      False       False     False  \n4             False      False       False     False  \n5             False      False       False     False  \n7             False      False       False     False  \n...             ...        ...         ...       ...  \n99993          True      False       False     False  \n99994         False      False       False     False  \n99995         False      False       False     False  \n99998         False      False       False     False  \n99999         False      False       False     False  \n\n[66666 rows x 48 columns] with type DataFrame",
      "\nDuring handling of the above exception, another exception occurred:\n",
      "\u001b[1;31mValueError\u001b[0m                                Traceback (most recent call last)",
      "\u001b[1;32m<ipython-input-211-8d6c6f413e3c>\u001b[0m in \u001b[0;36m<module>\u001b[1;34m\u001b[0m\n\u001b[0;32m      4\u001b[0m     \u001b[0my_train\u001b[0m\u001b[1;33m,\u001b[0m \u001b[0my_test\u001b[0m \u001b[1;33m=\u001b[0m \u001b[0my_binary\u001b[0m\u001b[1;33m.\u001b[0m\u001b[0miloc\u001b[0m\u001b[1;33m[\u001b[0m\u001b[0mtrain_index\u001b[0m\u001b[1;33m]\u001b[0m\u001b[1;33m,\u001b[0m \u001b[0my_binary\u001b[0m\u001b[1;33m.\u001b[0m\u001b[0miloc\u001b[0m\u001b[1;33m[\u001b[0m\u001b[0mtest_index\u001b[0m\u001b[1;33m]\u001b[0m\u001b[1;33m\u001b[0m\u001b[1;33m\u001b[0m\u001b[0m\n\u001b[0;32m      5\u001b[0m \u001b[1;33m\u001b[0m\u001b[0m\n\u001b[1;32m----> 6\u001b[1;33m     \u001b[0mmodel_fit\u001b[0m \u001b[1;33m=\u001b[0m \u001b[0mmodel\u001b[0m\u001b[1;33m.\u001b[0m\u001b[0mfit\u001b[0m\u001b[1;33m(\u001b[0m\u001b[0mX_train\u001b[0m\u001b[1;33m,\u001b[0m \u001b[0my_train\u001b[0m\u001b[1;33m,\u001b[0m \u001b[0mepochs\u001b[0m\u001b[1;33m=\u001b[0m\u001b[1;36m100\u001b[0m\u001b[1;33m,\u001b[0m \u001b[0mverbose\u001b[0m\u001b[1;33m=\u001b[0m\u001b[1;36m0\u001b[0m\u001b[1;33m)\u001b[0m\u001b[1;33m\u001b[0m\u001b[1;33m\u001b[0m\u001b[0m\n\u001b[0m\u001b[0;32m      7\u001b[0m     \u001b[0m_\u001b[0m\u001b[1;33m,\u001b[0m \u001b[0mtest_acc\u001b[0m \u001b[1;33m=\u001b[0m \u001b[0mmodel\u001b[0m\u001b[1;33m.\u001b[0m\u001b[0mevaluate\u001b[0m\u001b[1;33m(\u001b[0m\u001b[0mX_test\u001b[0m\u001b[1;33m,\u001b[0m \u001b[0my_test\u001b[0m\u001b[1;33m,\u001b[0m \u001b[0mverbose\u001b[0m\u001b[1;33m=\u001b[0m\u001b[1;36m0\u001b[0m\u001b[1;33m)\u001b[0m\u001b[1;33m\u001b[0m\u001b[1;33m\u001b[0m\u001b[0m\n",
      "\u001b[1;32m~\\Anaconda3\\lib\\site-packages\\tensorflow\\python\\keras\\engine\\training.py\u001b[0m in \u001b[0;36m_method_wrapper\u001b[1;34m(self, *args, **kwargs)\u001b[0m\n\u001b[0;32m    106\u001b[0m   \u001b[1;32mdef\u001b[0m \u001b[0m_method_wrapper\u001b[0m\u001b[1;33m(\u001b[0m\u001b[0mself\u001b[0m\u001b[1;33m,\u001b[0m \u001b[1;33m*\u001b[0m\u001b[0margs\u001b[0m\u001b[1;33m,\u001b[0m \u001b[1;33m**\u001b[0m\u001b[0mkwargs\u001b[0m\u001b[1;33m)\u001b[0m\u001b[1;33m:\u001b[0m\u001b[1;33m\u001b[0m\u001b[1;33m\u001b[0m\u001b[0m\n\u001b[0;32m    107\u001b[0m     \u001b[1;32mif\u001b[0m \u001b[1;32mnot\u001b[0m \u001b[0mself\u001b[0m\u001b[1;33m.\u001b[0m\u001b[0m_in_multi_worker_mode\u001b[0m\u001b[1;33m(\u001b[0m\u001b[1;33m)\u001b[0m\u001b[1;33m:\u001b[0m  \u001b[1;31m# pylint: disable=protected-access\u001b[0m\u001b[1;33m\u001b[0m\u001b[1;33m\u001b[0m\u001b[0m\n\u001b[1;32m--> 108\u001b[1;33m       \u001b[1;32mreturn\u001b[0m \u001b[0mmethod\u001b[0m\u001b[1;33m(\u001b[0m\u001b[0mself\u001b[0m\u001b[1;33m,\u001b[0m \u001b[1;33m*\u001b[0m\u001b[0margs\u001b[0m\u001b[1;33m,\u001b[0m \u001b[1;33m**\u001b[0m\u001b[0mkwargs\u001b[0m\u001b[1;33m)\u001b[0m\u001b[1;33m\u001b[0m\u001b[1;33m\u001b[0m\u001b[0m\n\u001b[0m\u001b[0;32m    109\u001b[0m \u001b[1;33m\u001b[0m\u001b[0m\n\u001b[0;32m    110\u001b[0m     \u001b[1;31m# Running inside `run_distribute_coordinator` already.\u001b[0m\u001b[1;33m\u001b[0m\u001b[1;33m\u001b[0m\u001b[1;33m\u001b[0m\u001b[0m\n",
      "\u001b[1;32m~\\Anaconda3\\lib\\site-packages\\tensorflow\\python\\keras\\engine\\training.py\u001b[0m in \u001b[0;36mfit\u001b[1;34m(self, x, y, batch_size, epochs, verbose, callbacks, validation_split, validation_data, shuffle, class_weight, sample_weight, initial_epoch, steps_per_epoch, validation_steps, validation_batch_size, validation_freq, max_queue_size, workers, use_multiprocessing)\u001b[0m\n\u001b[0;32m   1047\u001b[0m          \u001b[0mtraining_utils\u001b[0m\u001b[1;33m.\u001b[0m\u001b[0mRespectCompiledTrainableState\u001b[0m\u001b[1;33m(\u001b[0m\u001b[0mself\u001b[0m\u001b[1;33m)\u001b[0m\u001b[1;33m:\u001b[0m\u001b[1;33m\u001b[0m\u001b[1;33m\u001b[0m\u001b[0m\n\u001b[0;32m   1048\u001b[0m       \u001b[1;31m# Creates a `tf.data.Dataset` and handles batch and epoch iteration.\u001b[0m\u001b[1;33m\u001b[0m\u001b[1;33m\u001b[0m\u001b[1;33m\u001b[0m\u001b[0m\n\u001b[1;32m-> 1049\u001b[1;33m       data_handler = data_adapter.DataHandler(\n\u001b[0m\u001b[0;32m   1050\u001b[0m           \u001b[0mx\u001b[0m\u001b[1;33m=\u001b[0m\u001b[0mx\u001b[0m\u001b[1;33m,\u001b[0m\u001b[1;33m\u001b[0m\u001b[1;33m\u001b[0m\u001b[0m\n\u001b[0;32m   1051\u001b[0m           \u001b[0my\u001b[0m\u001b[1;33m=\u001b[0m\u001b[0my\u001b[0m\u001b[1;33m,\u001b[0m\u001b[1;33m\u001b[0m\u001b[1;33m\u001b[0m\u001b[0m\n",
      "\u001b[1;32m~\\Anaconda3\\lib\\site-packages\\tensorflow\\python\\keras\\engine\\data_adapter.py\u001b[0m in \u001b[0;36m__init__\u001b[1;34m(self, x, y, sample_weight, batch_size, steps_per_epoch, initial_epoch, epochs, shuffle, class_weight, max_queue_size, workers, use_multiprocessing, model, steps_per_execution)\u001b[0m\n\u001b[0;32m   1103\u001b[0m \u001b[1;33m\u001b[0m\u001b[0m\n\u001b[0;32m   1104\u001b[0m     \u001b[0madapter_cls\u001b[0m \u001b[1;33m=\u001b[0m \u001b[0mselect_data_adapter\u001b[0m\u001b[1;33m(\u001b[0m\u001b[0mx\u001b[0m\u001b[1;33m,\u001b[0m \u001b[0my\u001b[0m\u001b[1;33m)\u001b[0m\u001b[1;33m\u001b[0m\u001b[1;33m\u001b[0m\u001b[0m\n\u001b[1;32m-> 1105\u001b[1;33m     self._adapter = adapter_cls(\n\u001b[0m\u001b[0;32m   1106\u001b[0m         \u001b[0mx\u001b[0m\u001b[1;33m,\u001b[0m\u001b[1;33m\u001b[0m\u001b[1;33m\u001b[0m\u001b[0m\n\u001b[0;32m   1107\u001b[0m         \u001b[0my\u001b[0m\u001b[1;33m,\u001b[0m\u001b[1;33m\u001b[0m\u001b[1;33m\u001b[0m\u001b[0m\n",
      "\u001b[1;32m~\\Anaconda3\\lib\\site-packages\\tensorflow\\python\\keras\\engine\\data_adapter.py\u001b[0m in \u001b[0;36m__init__\u001b[1;34m(self, x, y, sample_weights, sample_weight_modes, batch_size, epochs, steps, shuffle, **kwargs)\u001b[0m\n\u001b[0;32m    362\u001b[0m     \u001b[0mindices_dataset\u001b[0m \u001b[1;33m=\u001b[0m \u001b[0mindices_dataset\u001b[0m\u001b[1;33m.\u001b[0m\u001b[0mflat_map\u001b[0m\u001b[1;33m(\u001b[0m\u001b[0mslice_batch_indices\u001b[0m\u001b[1;33m)\u001b[0m\u001b[1;33m\u001b[0m\u001b[1;33m\u001b[0m\u001b[0m\n\u001b[0;32m    363\u001b[0m \u001b[1;33m\u001b[0m\u001b[0m\n\u001b[1;32m--> 364\u001b[1;33m     \u001b[0mdataset\u001b[0m \u001b[1;33m=\u001b[0m \u001b[0mself\u001b[0m\u001b[1;33m.\u001b[0m\u001b[0mslice_inputs\u001b[0m\u001b[1;33m(\u001b[0m\u001b[0mindices_dataset\u001b[0m\u001b[1;33m,\u001b[0m \u001b[0minputs\u001b[0m\u001b[1;33m)\u001b[0m\u001b[1;33m\u001b[0m\u001b[1;33m\u001b[0m\u001b[0m\n\u001b[0m\u001b[0;32m    365\u001b[0m \u001b[1;33m\u001b[0m\u001b[0m\n\u001b[0;32m    366\u001b[0m     \u001b[1;32mif\u001b[0m \u001b[0mshuffle\u001b[0m \u001b[1;33m==\u001b[0m \u001b[1;34m\"batch\"\u001b[0m\u001b[1;33m:\u001b[0m\u001b[1;33m\u001b[0m\u001b[1;33m\u001b[0m\u001b[0m\n",
      "\u001b[1;32m~\\Anaconda3\\lib\\site-packages\\tensorflow\\python\\keras\\engine\\data_adapter.py\u001b[0m in \u001b[0;36mslice_inputs\u001b[1;34m(self, indices_dataset, inputs)\u001b[0m\n\u001b[0;32m    388\u001b[0m     dataset = dataset_ops.DatasetV2.zip((\n\u001b[0;32m    389\u001b[0m         \u001b[0mindices_dataset\u001b[0m\u001b[1;33m,\u001b[0m\u001b[1;33m\u001b[0m\u001b[1;33m\u001b[0m\u001b[0m\n\u001b[1;32m--> 390\u001b[1;33m         \u001b[0mdataset_ops\u001b[0m\u001b[1;33m.\u001b[0m\u001b[0mDatasetV2\u001b[0m\u001b[1;33m.\u001b[0m\u001b[0mfrom_tensors\u001b[0m\u001b[1;33m(\u001b[0m\u001b[0minputs\u001b[0m\u001b[1;33m)\u001b[0m\u001b[1;33m.\u001b[0m\u001b[0mrepeat\u001b[0m\u001b[1;33m(\u001b[0m\u001b[1;33m)\u001b[0m\u001b[1;33m\u001b[0m\u001b[1;33m\u001b[0m\u001b[0m\n\u001b[0m\u001b[0;32m    391\u001b[0m     ))\n\u001b[0;32m    392\u001b[0m \u001b[1;33m\u001b[0m\u001b[0m\n",
      "\u001b[1;32m~\\Anaconda3\\lib\\site-packages\\tensorflow\\python\\data\\ops\\dataset_ops.py\u001b[0m in \u001b[0;36mfrom_tensors\u001b[1;34m(tensors)\u001b[0m\n\u001b[0;32m    602\u001b[0m       \u001b[0mDataset\u001b[0m\u001b[1;33m:\u001b[0m \u001b[0mA\u001b[0m\u001b[0;31m \u001b[0m\u001b[0;31m`\u001b[0m\u001b[0mDataset\u001b[0m\u001b[0;31m`\u001b[0m\u001b[1;33m.\u001b[0m\u001b[1;33m\u001b[0m\u001b[1;33m\u001b[0m\u001b[0m\n\u001b[0;32m    603\u001b[0m     \"\"\"\n\u001b[1;32m--> 604\u001b[1;33m     \u001b[1;32mreturn\u001b[0m \u001b[0mTensorDataset\u001b[0m\u001b[1;33m(\u001b[0m\u001b[0mtensors\u001b[0m\u001b[1;33m)\u001b[0m\u001b[1;33m\u001b[0m\u001b[1;33m\u001b[0m\u001b[0m\n\u001b[0m\u001b[0;32m    605\u001b[0m \u001b[1;33m\u001b[0m\u001b[0m\n\u001b[0;32m    606\u001b[0m   \u001b[1;33m@\u001b[0m\u001b[0mstaticmethod\u001b[0m\u001b[1;33m\u001b[0m\u001b[1;33m\u001b[0m\u001b[0m\n",
      "\u001b[1;32m~\\Anaconda3\\lib\\site-packages\\tensorflow\\python\\data\\ops\\dataset_ops.py\u001b[0m in \u001b[0;36m__init__\u001b[1;34m(self, element)\u001b[0m\n\u001b[0;32m   2980\u001b[0m   \u001b[1;32mdef\u001b[0m \u001b[0m__init__\u001b[0m\u001b[1;33m(\u001b[0m\u001b[0mself\u001b[0m\u001b[1;33m,\u001b[0m \u001b[0melement\u001b[0m\u001b[1;33m)\u001b[0m\u001b[1;33m:\u001b[0m\u001b[1;33m\u001b[0m\u001b[1;33m\u001b[0m\u001b[0m\n\u001b[0;32m   2981\u001b[0m     \u001b[1;34m\"\"\"See `Dataset.from_tensors()` for details.\"\"\"\u001b[0m\u001b[1;33m\u001b[0m\u001b[1;33m\u001b[0m\u001b[0m\n\u001b[1;32m-> 2982\u001b[1;33m     \u001b[0melement\u001b[0m \u001b[1;33m=\u001b[0m \u001b[0mstructure\u001b[0m\u001b[1;33m.\u001b[0m\u001b[0mnormalize_element\u001b[0m\u001b[1;33m(\u001b[0m\u001b[0melement\u001b[0m\u001b[1;33m)\u001b[0m\u001b[1;33m\u001b[0m\u001b[1;33m\u001b[0m\u001b[0m\n\u001b[0m\u001b[0;32m   2983\u001b[0m     \u001b[0mself\u001b[0m\u001b[1;33m.\u001b[0m\u001b[0m_structure\u001b[0m \u001b[1;33m=\u001b[0m \u001b[0mstructure\u001b[0m\u001b[1;33m.\u001b[0m\u001b[0mtype_spec_from_value\u001b[0m\u001b[1;33m(\u001b[0m\u001b[0melement\u001b[0m\u001b[1;33m)\u001b[0m\u001b[1;33m\u001b[0m\u001b[1;33m\u001b[0m\u001b[0m\n\u001b[0;32m   2984\u001b[0m     \u001b[0mself\u001b[0m\u001b[1;33m.\u001b[0m\u001b[0m_tensors\u001b[0m \u001b[1;33m=\u001b[0m \u001b[0mstructure\u001b[0m\u001b[1;33m.\u001b[0m\u001b[0mto_tensor_list\u001b[0m\u001b[1;33m(\u001b[0m\u001b[0mself\u001b[0m\u001b[1;33m.\u001b[0m\u001b[0m_structure\u001b[0m\u001b[1;33m,\u001b[0m \u001b[0melement\u001b[0m\u001b[1;33m)\u001b[0m\u001b[1;33m\u001b[0m\u001b[1;33m\u001b[0m\u001b[0m\n",
      "\u001b[1;32m~\\Anaconda3\\lib\\site-packages\\tensorflow\\python\\data\\util\\structure.py\u001b[0m in \u001b[0;36mnormalize_element\u001b[1;34m(element)\u001b[0m\n\u001b[0;32m     96\u001b[0m         \u001b[1;31m# the value. As a fallback try converting the value to a tensor.\u001b[0m\u001b[1;33m\u001b[0m\u001b[1;33m\u001b[0m\u001b[1;33m\u001b[0m\u001b[0m\n\u001b[0;32m     97\u001b[0m         normalized_components.append(\n\u001b[1;32m---> 98\u001b[1;33m             ops.convert_to_tensor(t, name=\"component_%d\" % i))\n\u001b[0m\u001b[0;32m     99\u001b[0m       \u001b[1;32melse\u001b[0m\u001b[1;33m:\u001b[0m\u001b[1;33m\u001b[0m\u001b[1;33m\u001b[0m\u001b[0m\n\u001b[0;32m    100\u001b[0m         \u001b[1;32mif\u001b[0m \u001b[0misinstance\u001b[0m\u001b[1;33m(\u001b[0m\u001b[0mspec\u001b[0m\u001b[1;33m,\u001b[0m \u001b[0msparse_tensor\u001b[0m\u001b[1;33m.\u001b[0m\u001b[0mSparseTensorSpec\u001b[0m\u001b[1;33m)\u001b[0m\u001b[1;33m:\u001b[0m\u001b[1;33m\u001b[0m\u001b[1;33m\u001b[0m\u001b[0m\n",
      "\u001b[1;32m~\\Anaconda3\\lib\\site-packages\\tensorflow\\python\\framework\\ops.py\u001b[0m in \u001b[0;36mconvert_to_tensor\u001b[1;34m(value, dtype, name, as_ref, preferred_dtype, dtype_hint, ctx, accepted_result_types)\u001b[0m\n\u001b[0;32m   1497\u001b[0m \u001b[1;33m\u001b[0m\u001b[0m\n\u001b[0;32m   1498\u001b[0m     \u001b[1;32mif\u001b[0m \u001b[0mret\u001b[0m \u001b[1;32mis\u001b[0m \u001b[1;32mNone\u001b[0m\u001b[1;33m:\u001b[0m\u001b[1;33m\u001b[0m\u001b[1;33m\u001b[0m\u001b[0m\n\u001b[1;32m-> 1499\u001b[1;33m       \u001b[0mret\u001b[0m \u001b[1;33m=\u001b[0m \u001b[0mconversion_func\u001b[0m\u001b[1;33m(\u001b[0m\u001b[0mvalue\u001b[0m\u001b[1;33m,\u001b[0m \u001b[0mdtype\u001b[0m\u001b[1;33m=\u001b[0m\u001b[0mdtype\u001b[0m\u001b[1;33m,\u001b[0m \u001b[0mname\u001b[0m\u001b[1;33m=\u001b[0m\u001b[0mname\u001b[0m\u001b[1;33m,\u001b[0m \u001b[0mas_ref\u001b[0m\u001b[1;33m=\u001b[0m\u001b[0mas_ref\u001b[0m\u001b[1;33m)\u001b[0m\u001b[1;33m\u001b[0m\u001b[1;33m\u001b[0m\u001b[0m\n\u001b[0m\u001b[0;32m   1500\u001b[0m \u001b[1;33m\u001b[0m\u001b[0m\n\u001b[0;32m   1501\u001b[0m     \u001b[1;32mif\u001b[0m \u001b[0mret\u001b[0m \u001b[1;32mis\u001b[0m \u001b[0mNotImplemented\u001b[0m\u001b[1;33m:\u001b[0m\u001b[1;33m\u001b[0m\u001b[1;33m\u001b[0m\u001b[0m\n",
      "\u001b[1;32m~\\Anaconda3\\lib\\site-packages\\tensorflow\\python\\framework\\constant_op.py\u001b[0m in \u001b[0;36m_constant_tensor_conversion_function\u001b[1;34m(v, dtype, name, as_ref)\u001b[0m\n\u001b[0;32m    336\u001b[0m                                          as_ref=False):\n\u001b[0;32m    337\u001b[0m   \u001b[0m_\u001b[0m \u001b[1;33m=\u001b[0m \u001b[0mas_ref\u001b[0m\u001b[1;33m\u001b[0m\u001b[1;33m\u001b[0m\u001b[0m\n\u001b[1;32m--> 338\u001b[1;33m   \u001b[1;32mreturn\u001b[0m \u001b[0mconstant\u001b[0m\u001b[1;33m(\u001b[0m\u001b[0mv\u001b[0m\u001b[1;33m,\u001b[0m \u001b[0mdtype\u001b[0m\u001b[1;33m=\u001b[0m\u001b[0mdtype\u001b[0m\u001b[1;33m,\u001b[0m \u001b[0mname\u001b[0m\u001b[1;33m=\u001b[0m\u001b[0mname\u001b[0m\u001b[1;33m)\u001b[0m\u001b[1;33m\u001b[0m\u001b[1;33m\u001b[0m\u001b[0m\n\u001b[0m\u001b[0;32m    339\u001b[0m \u001b[1;33m\u001b[0m\u001b[0m\n\u001b[0;32m    340\u001b[0m \u001b[1;33m\u001b[0m\u001b[0m\n",
      "\u001b[1;32m~\\Anaconda3\\lib\\site-packages\\tensorflow\\python\\framework\\constant_op.py\u001b[0m in \u001b[0;36mconstant\u001b[1;34m(value, dtype, shape, name)\u001b[0m\n\u001b[0;32m    261\u001b[0m     \u001b[0mValueError\u001b[0m\u001b[1;33m:\u001b[0m \u001b[1;32mif\u001b[0m \u001b[0mcalled\u001b[0m \u001b[0mon\u001b[0m \u001b[0ma\u001b[0m \u001b[0msymbolic\u001b[0m \u001b[0mtensor\u001b[0m\u001b[1;33m.\u001b[0m\u001b[1;33m\u001b[0m\u001b[1;33m\u001b[0m\u001b[0m\n\u001b[0;32m    262\u001b[0m   \"\"\"\n\u001b[1;32m--> 263\u001b[1;33m   return _constant_impl(value, dtype, shape, name, verify_shape=False,\n\u001b[0m\u001b[0;32m    264\u001b[0m                         allow_broadcast=True)\n\u001b[0;32m    265\u001b[0m \u001b[1;33m\u001b[0m\u001b[0m\n",
      "\u001b[1;32m~\\Anaconda3\\lib\\site-packages\\tensorflow\\python\\framework\\constant_op.py\u001b[0m in \u001b[0;36m_constant_impl\u001b[1;34m(value, dtype, shape, name, verify_shape, allow_broadcast)\u001b[0m\n\u001b[0;32m    273\u001b[0m       \u001b[1;32mwith\u001b[0m \u001b[0mtrace\u001b[0m\u001b[1;33m.\u001b[0m\u001b[0mTrace\u001b[0m\u001b[1;33m(\u001b[0m\u001b[1;34m\"tf.constant\"\u001b[0m\u001b[1;33m)\u001b[0m\u001b[1;33m:\u001b[0m\u001b[1;33m\u001b[0m\u001b[1;33m\u001b[0m\u001b[0m\n\u001b[0;32m    274\u001b[0m         \u001b[1;32mreturn\u001b[0m \u001b[0m_constant_eager_impl\u001b[0m\u001b[1;33m(\u001b[0m\u001b[0mctx\u001b[0m\u001b[1;33m,\u001b[0m \u001b[0mvalue\u001b[0m\u001b[1;33m,\u001b[0m \u001b[0mdtype\u001b[0m\u001b[1;33m,\u001b[0m \u001b[0mshape\u001b[0m\u001b[1;33m,\u001b[0m \u001b[0mverify_shape\u001b[0m\u001b[1;33m)\u001b[0m\u001b[1;33m\u001b[0m\u001b[1;33m\u001b[0m\u001b[0m\n\u001b[1;32m--> 275\u001b[1;33m     \u001b[1;32mreturn\u001b[0m \u001b[0m_constant_eager_impl\u001b[0m\u001b[1;33m(\u001b[0m\u001b[0mctx\u001b[0m\u001b[1;33m,\u001b[0m \u001b[0mvalue\u001b[0m\u001b[1;33m,\u001b[0m \u001b[0mdtype\u001b[0m\u001b[1;33m,\u001b[0m \u001b[0mshape\u001b[0m\u001b[1;33m,\u001b[0m \u001b[0mverify_shape\u001b[0m\u001b[1;33m)\u001b[0m\u001b[1;33m\u001b[0m\u001b[1;33m\u001b[0m\u001b[0m\n\u001b[0m\u001b[0;32m    276\u001b[0m \u001b[1;33m\u001b[0m\u001b[0m\n\u001b[0;32m    277\u001b[0m   \u001b[0mg\u001b[0m \u001b[1;33m=\u001b[0m \u001b[0mops\u001b[0m\u001b[1;33m.\u001b[0m\u001b[0mget_default_graph\u001b[0m\u001b[1;33m(\u001b[0m\u001b[1;33m)\u001b[0m\u001b[1;33m\u001b[0m\u001b[1;33m\u001b[0m\u001b[0m\n",
      "\u001b[1;32m~\\Anaconda3\\lib\\site-packages\\tensorflow\\python\\framework\\constant_op.py\u001b[0m in \u001b[0;36m_constant_eager_impl\u001b[1;34m(ctx, value, dtype, shape, verify_shape)\u001b[0m\n\u001b[0;32m    298\u001b[0m \u001b[1;32mdef\u001b[0m \u001b[0m_constant_eager_impl\u001b[0m\u001b[1;33m(\u001b[0m\u001b[0mctx\u001b[0m\u001b[1;33m,\u001b[0m \u001b[0mvalue\u001b[0m\u001b[1;33m,\u001b[0m \u001b[0mdtype\u001b[0m\u001b[1;33m,\u001b[0m \u001b[0mshape\u001b[0m\u001b[1;33m,\u001b[0m \u001b[0mverify_shape\u001b[0m\u001b[1;33m)\u001b[0m\u001b[1;33m:\u001b[0m\u001b[1;33m\u001b[0m\u001b[1;33m\u001b[0m\u001b[0m\n\u001b[0;32m    299\u001b[0m   \u001b[1;34m\"\"\"Implementation of eager constant.\"\"\"\u001b[0m\u001b[1;33m\u001b[0m\u001b[1;33m\u001b[0m\u001b[0m\n\u001b[1;32m--> 300\u001b[1;33m   \u001b[0mt\u001b[0m \u001b[1;33m=\u001b[0m \u001b[0mconvert_to_eager_tensor\u001b[0m\u001b[1;33m(\u001b[0m\u001b[0mvalue\u001b[0m\u001b[1;33m,\u001b[0m \u001b[0mctx\u001b[0m\u001b[1;33m,\u001b[0m \u001b[0mdtype\u001b[0m\u001b[1;33m)\u001b[0m\u001b[1;33m\u001b[0m\u001b[1;33m\u001b[0m\u001b[0m\n\u001b[0m\u001b[0;32m    301\u001b[0m   \u001b[1;32mif\u001b[0m \u001b[0mshape\u001b[0m \u001b[1;32mis\u001b[0m \u001b[1;32mNone\u001b[0m\u001b[1;33m:\u001b[0m\u001b[1;33m\u001b[0m\u001b[1;33m\u001b[0m\u001b[0m\n\u001b[0;32m    302\u001b[0m     \u001b[1;32mreturn\u001b[0m \u001b[0mt\u001b[0m\u001b[1;33m\u001b[0m\u001b[1;33m\u001b[0m\u001b[0m\n",
      "\u001b[1;32m~\\Anaconda3\\lib\\site-packages\\tensorflow\\python\\framework\\constant_op.py\u001b[0m in \u001b[0;36mconvert_to_eager_tensor\u001b[1;34m(value, ctx, dtype)\u001b[0m\n\u001b[0;32m     96\u001b[0m       \u001b[0mdtype\u001b[0m \u001b[1;33m=\u001b[0m \u001b[0mdtypes\u001b[0m\u001b[1;33m.\u001b[0m\u001b[0mas_dtype\u001b[0m\u001b[1;33m(\u001b[0m\u001b[0mdtype\u001b[0m\u001b[1;33m)\u001b[0m\u001b[1;33m.\u001b[0m\u001b[0mas_datatype_enum\u001b[0m\u001b[1;33m\u001b[0m\u001b[1;33m\u001b[0m\u001b[0m\n\u001b[0;32m     97\u001b[0m   \u001b[0mctx\u001b[0m\u001b[1;33m.\u001b[0m\u001b[0mensure_initialized\u001b[0m\u001b[1;33m(\u001b[0m\u001b[1;33m)\u001b[0m\u001b[1;33m\u001b[0m\u001b[1;33m\u001b[0m\u001b[0m\n\u001b[1;32m---> 98\u001b[1;33m   \u001b[1;32mreturn\u001b[0m \u001b[0mops\u001b[0m\u001b[1;33m.\u001b[0m\u001b[0mEagerTensor\u001b[0m\u001b[1;33m(\u001b[0m\u001b[0mvalue\u001b[0m\u001b[1;33m,\u001b[0m \u001b[0mctx\u001b[0m\u001b[1;33m.\u001b[0m\u001b[0mdevice_name\u001b[0m\u001b[1;33m,\u001b[0m \u001b[0mdtype\u001b[0m\u001b[1;33m)\u001b[0m\u001b[1;33m\u001b[0m\u001b[1;33m\u001b[0m\u001b[0m\n\u001b[0m\u001b[0;32m     99\u001b[0m \u001b[1;33m\u001b[0m\u001b[0m\n\u001b[0;32m    100\u001b[0m \u001b[1;33m\u001b[0m\u001b[0m\n",
      "\u001b[1;31mValueError\u001b[0m: Failed to convert a NumPy array to a Tensor (Unsupported object type float)."
     ]
    }
   ],
   "source": [
    "for train_index, test_index in kf.split(X_binary, y_binary):\n",
    "\n",
    "    X_train, X_test = X_binary.iloc[train_index], X_binary.iloc[test_index]\n",
    "    y_train, y_test = y_binary.iloc[train_index], y_binary.iloc[test_index]\n",
    "    \n",
    "    model_fit = model.fit(X_train, y_train, epochs=100, verbose=0)\n",
    "    _, test_acc = model.evaluate(X_test, y_test, verbose=0)"
   ]
  },
  {
   "cell_type": "markdown",
   "id": "primary-there",
   "metadata": {},
   "source": [
    "#### Tests & Checks"
   ]
  },
  {
   "cell_type": "code",
   "execution_count": 10,
   "id": "noted-harrison",
   "metadata": {},
   "outputs": [
    {
     "data": {
      "text/plain": [
       "0       NaN\n",
       "1       NaN\n",
       "2       NaN\n",
       "3       NaN\n",
       "4       NaN\n",
       "         ..\n",
       "99995   NaN\n",
       "99996   NaN\n",
       "99997   NaN\n",
       "99998   NaN\n",
       "99999   NaN\n",
       "Length: 100000, dtype: float64"
      ]
     },
     "execution_count": 10,
     "metadata": {},
     "output_type": "execute_result"
    }
   ],
   "source": [
    "(df['startDateCase'] - df['orderDate']).dt.days"
   ]
  },
  {
   "cell_type": "code",
   "execution_count": 25,
   "id": "accepting-republic",
   "metadata": {
    "collapsed": true,
    "jupyter": {
     "outputs_hidden": true
    }
   },
   "outputs": [
    {
     "name": "stdout",
     "output_type": "stream",
     "text": [
      "startDateCase    2019-12-11 00:00:00\n",
      "orderDate        2019-11-28 00:00:00\n",
      "caseDays                        13.0\n",
      "Name: 33, dtype: object\n",
      "13.0\n",
      "startDateCase    2020-04-17 00:00:00\n",
      "orderDate        2020-04-14 00:00:00\n",
      "caseDays                         3.0\n",
      "Name: 41, dtype: object\n",
      "3.0\n",
      "startDateCase    2020-05-26 00:00:00\n",
      "orderDate        2020-05-24 00:00:00\n",
      "caseDays                         2.0\n",
      "Name: 47, dtype: object\n",
      "2.0\n",
      "startDateCase    2020-04-13 00:00:00\n",
      "orderDate        2020-04-07 00:00:00\n",
      "caseDays                         6.0\n",
      "Name: 74, dtype: object\n",
      "6.0\n",
      "startDateCase    2019-12-10 00:00:00\n",
      "orderDate        2019-12-03 00:00:00\n",
      "caseDays                         7.0\n",
      "Name: 79, dtype: object\n",
      "7.0\n",
      "startDateCase    2020-07-02 00:00:00\n",
      "orderDate        2020-06-29 00:00:00\n",
      "caseDays                         3.0\n",
      "Name: 86, dtype: object\n",
      "3.0\n",
      "startDateCase    2020-02-18 00:00:00\n",
      "orderDate        2020-01-23 00:00:00\n",
      "caseDays                        26.0\n",
      "Name: 106, dtype: object\n",
      "26.0\n",
      "startDateCase    2020-04-09 00:00:00\n",
      "orderDate        2020-04-05 00:00:00\n",
      "caseDays                         4.0\n",
      "Name: 161, dtype: object\n",
      "4.0\n",
      "startDateCase    2020-01-03 00:00:00\n",
      "orderDate        2019-12-30 00:00:00\n",
      "caseDays                         4.0\n",
      "Name: 183, dtype: object\n",
      "4.0\n",
      "startDateCase    2020-12-07 00:00:00\n",
      "orderDate        2020-11-18 00:00:00\n",
      "caseDays                        19.0\n",
      "Name: 203, dtype: object\n",
      "19.0\n",
      "startDateCase    2019-08-24 00:00:00\n",
      "orderDate        2019-08-21 00:00:00\n",
      "caseDays                         3.0\n",
      "Name: 246, dtype: object\n",
      "3.0\n",
      "startDateCase    2020-10-15 00:00:00\n",
      "orderDate        2020-10-13 00:00:00\n",
      "caseDays                         2.0\n",
      "Name: 277, dtype: object\n",
      "2.0\n",
      "startDateCase    2020-05-14 00:00:00\n",
      "orderDate        2020-04-19 00:00:00\n",
      "caseDays                        25.0\n",
      "Name: 302, dtype: object\n",
      "25.0\n",
      "startDateCase    2019-08-01 00:00:00\n",
      "orderDate        2019-07-30 00:00:00\n",
      "caseDays                         2.0\n",
      "Name: 312, dtype: object\n",
      "2.0\n",
      "startDateCase    2019-11-25 00:00:00\n",
      "orderDate        2019-11-14 00:00:00\n",
      "caseDays                        11.0\n",
      "Name: 324, dtype: object\n",
      "11.0\n",
      "startDateCase    2019-09-20 00:00:00\n",
      "orderDate        2019-09-18 00:00:00\n",
      "caseDays                         2.0\n",
      "Name: 382, dtype: object\n",
      "2.0\n",
      "startDateCase    2019-07-05 00:00:00\n",
      "orderDate        2019-07-05 00:00:00\n",
      "caseDays                         0.0\n",
      "Name: 412, dtype: object\n",
      "0.0\n",
      "startDateCase    2019-02-17 00:00:00\n",
      "orderDate        2019-01-30 00:00:00\n",
      "caseDays                        18.0\n",
      "Name: 455, dtype: object\n",
      "18.0\n",
      "startDateCase    2020-11-24 00:00:00\n",
      "orderDate        2020-11-18 00:00:00\n",
      "caseDays                         6.0\n",
      "Name: 550, dtype: object\n",
      "6.0\n",
      "startDateCase    2019-06-07 00:00:00\n",
      "orderDate        2019-06-06 00:00:00\n",
      "caseDays                         1.0\n",
      "Name: 571, dtype: object\n",
      "1.0\n",
      "startDateCase    2020-01-11 00:00:00\n",
      "orderDate        2020-01-07 00:00:00\n",
      "caseDays                         4.0\n",
      "Name: 614, dtype: object\n",
      "4.0\n",
      "startDateCase    2020-04-01 00:00:00\n",
      "orderDate        2020-03-26 00:00:00\n",
      "caseDays                         6.0\n",
      "Name: 631, dtype: object\n",
      "6.0\n",
      "startDateCase    2019-05-24 00:00:00\n",
      "orderDate        2019-05-22 00:00:00\n",
      "caseDays                         2.0\n",
      "Name: 650, dtype: object\n",
      "2.0\n",
      "startDateCase    2020-03-16 00:00:00\n",
      "orderDate        2020-03-04 00:00:00\n",
      "caseDays                        12.0\n",
      "Name: 661, dtype: object\n",
      "12.0\n",
      "startDateCase    2019-08-07 00:00:00\n",
      "orderDate        2019-08-05 00:00:00\n",
      "caseDays                         2.0\n",
      "Name: 798, dtype: object\n",
      "2.0\n",
      "startDateCase    2020-08-19 00:00:00\n",
      "orderDate        2020-08-14 00:00:00\n",
      "caseDays                         5.0\n",
      "Name: 834, dtype: object\n",
      "5.0\n",
      "startDateCase    2019-03-01 00:00:00\n",
      "orderDate        2019-03-01 00:00:00\n",
      "caseDays                         0.0\n",
      "Name: 838, dtype: object\n",
      "0.0\n",
      "startDateCase    2020-03-14 00:00:00\n",
      "orderDate        2020-02-26 00:00:00\n",
      "caseDays                        17.0\n",
      "Name: 850, dtype: object\n",
      "17.0\n",
      "startDateCase    2019-08-16 00:00:00\n",
      "orderDate        2019-08-13 00:00:00\n",
      "caseDays                         3.0\n",
      "Name: 896, dtype: object\n",
      "3.0\n",
      "startDateCase    2020-03-16 00:00:00\n",
      "orderDate        2020-03-13 00:00:00\n",
      "caseDays                         3.0\n",
      "Name: 951, dtype: object\n",
      "3.0\n",
      "startDateCase    2019-12-18 00:00:00\n",
      "orderDate        2019-12-12 00:00:00\n",
      "caseDays                         6.0\n",
      "Name: 952, dtype: object\n",
      "6.0\n"
     ]
    }
   ],
   "source": [
    "import math\n",
    "for x in range(1000):\n",
    "    if np.isnan(df['caseDays'].iloc[x]) == False:\n",
    "        print(df[['startDateCase','orderDate','caseDays']].iloc[x])\n",
    "        print((df['startDateCase'] - df['orderDate']).dt.days.iloc[x])"
   ]
  },
  {
   "cell_type": "code",
   "execution_count": 21,
   "id": "conscious-patient",
   "metadata": {},
   "outputs": [
    {
     "data": {
      "text/plain": [
       "orderDate    2020-06-01 00:00:00\n",
       "productId       9200000079850193\n",
       "Name: 1, dtype: object"
      ]
     },
     "execution_count": 21,
     "metadata": {},
     "output_type": "execute_result"
    }
   ],
   "source": [
    "df[['orderDate','productId']].iloc[1]"
   ]
  },
  {
   "cell_type": "code",
   "execution_count": null,
   "id": "informative-tuner",
   "metadata": {},
   "outputs": [],
   "source": []
  }
 ],
 "metadata": {
  "kernelspec": {
   "display_name": "Python 3",
   "language": "python",
   "name": "python3"
  },
  "language_info": {
   "codemirror_mode": {
    "name": "ipython",
    "version": 3
   },
   "file_extension": ".py",
   "mimetype": "text/x-python",
   "name": "python",
   "nbconvert_exporter": "python",
   "pygments_lexer": "ipython3",
   "version": "3.8.3"
  }
 },
 "nbformat": 4,
 "nbformat_minor": 5
}
